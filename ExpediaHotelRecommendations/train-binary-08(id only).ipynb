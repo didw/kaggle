{
 "metadata": {
  "language": "lua",
  "name": "",
  "signature": "sha256:c0ffea17451297861a21a49dea70610d03d16bfe659010130461c09af36e770c"
 },
 "nbformat": 3,
 "nbformat_minor": 0,
 "worksheets": [
  {
   "cells": [
    {
     "cell_type": "code",
     "collapsed": false,
     "input": [
      "require 'torch';\n",
      "require 'nn';\n",
      "require 'cutorch';\n",
      "require 'cunn';\n",
      "require 'cudnn';"
     ],
     "language": "python",
     "metadata": {},
     "outputs": [],
     "prompt_number": 2
    },
    {
     "cell_type": "markdown",
     "metadata": {},
     "source": [
      "### Split data"
     ]
    },
    {
     "cell_type": "code",
     "collapsed": false,
     "input": [
      "function split(str, pat)\n",
      "   local t = {}  -- NOTE: use {n = 0} in Lua-5.0\n",
      "   local fpat = \"(.-)\" .. pat\n",
      "   local last_end = 1\n",
      "   local s, e, cap = str:find(fpat, 1)\n",
      "   while s do\n",
      "      if s ~= 1 or cap ~= \"\" then\n",
      "         table.insert(t,cap)\n",
      "      end\n",
      "      last_end = e+1\n",
      "      s, e, cap = str:find(fpat, last_end)\n",
      "   end\n",
      "   if last_end <= #str then\n",
      "      cap = str:sub(last_end)\n",
      "      table.insert(t, cap)\n",
      "   end\n",
      "   return t\n",
      "end"
     ],
     "language": "python",
     "metadata": {},
     "outputs": [],
     "prompt_number": 3
    },
    {
     "cell_type": "markdown",
     "metadata": {},
     "source": [
      "## Conver Data"
     ]
    },
    {
     "cell_type": "markdown",
     "metadata": {},
     "source": [
      "### 1. To get week number"
     ]
    },
    {
     "cell_type": "code",
     "collapsed": false,
     "input": [
      "function getYearBeginDayOfWeek(tm)\n",
      "  yearBegin = os.time{year=os.date(\"*t\",tm).year,month=1,day=1}\n",
      "  yearBeginDayOfWeek = tonumber(os.date(\"%w\",yearBegin))\n",
      "  -- sunday correct from 0 -> 7\n",
      "  if(yearBeginDayOfWeek == 0) then yearBeginDayOfWeek = 7 end\n",
      "  return yearBeginDayOfWeek\n",
      "end\n",
      "function getDayAdd(tm)\n",
      "  yearBeginDayOfWeek = getYearBeginDayOfWeek(tm)\n",
      "  if(yearBeginDayOfWeek < 5 ) then\n",
      "    -- first day is week 1\n",
      "    dayAdd = (yearBeginDayOfWeek - 2)\n",
      "  else \n",
      "    -- first day is week 52 or 53\n",
      "    dayAdd = (yearBeginDayOfWeek - 9)\n",
      "  end  \n",
      "  return dayAdd\n",
      "end\n",
      "function getWeekNumberOfYear(tm)\n",
      "  dayOfYear = os.date(\"%j\",tm)\n",
      "  dayAdd = getDayAdd(tm)\n",
      "  dayOfYearCorrected = dayOfYear + dayAdd\n",
      "  if(dayOfYearCorrected < 0) then\n",
      "    -- week of last year - decide if 52 or 53\n",
      "    lastYearBegin = os.time{year=os.date(\"*t\",tm).year-1,month=1,day=1}\n",
      "    lastYearEnd = os.time{year=os.date(\"*t\",tm).year-1,month=12,day=31}\n",
      "    dayAdd = getDayAdd(lastYearBegin)\n",
      "    dayOfYear = dayOfYear + os.date(\"%j\",lastYearEnd)\n",
      "    dayOfYearCorrected = dayOfYear + dayAdd\n",
      "  end  \n",
      "  weekNum = math.floor((dayOfYearCorrected) / 7) + 1\n",
      "  if( (dayOfYearCorrected > 0) and weekNum == 53) then\n",
      "    -- check if it is not considered as part of week 1 of next year\n",
      "    nextYearBegin = os.time{year=os.date(\"*t\",tm).year+1,month=1,day=1}\n",
      "    yearBeginDayOfWeek = getYearBeginDayOfWeek(nextYearBegin)\n",
      "    if(yearBeginDayOfWeek < 5 ) then\n",
      "      weekNum = 1\n",
      "    end  \n",
      "  end  \n",
      "  return weekNum\n",
      "end"
     ],
     "language": "python",
     "metadata": {},
     "outputs": [],
     "prompt_number": 4
    },
    {
     "cell_type": "code",
     "collapsed": false,
     "input": [
      "function __getWeekday(tm)\n",
      "    return os.date(\"*t\",tm).wday\n",
      "end"
     ],
     "language": "python",
     "metadata": {},
     "outputs": [],
     "prompt_number": 5
    },
    {
     "cell_type": "code",
     "collapsed": false,
     "input": [
      "function getWeekday(input)\n",
      "    dates = split(input, \"-\")\n",
      "    if table.getn(dates) ~= 3 then\n",
      "        return -1\n",
      "    end\n",
      "    useDate = os.time{year=dates[1],month=dates[2],day=dates[3]}\n",
      "    return __getWeekday(useDate)\n",
      "end"
     ],
     "language": "python",
     "metadata": {},
     "outputs": [],
     "prompt_number": 6
    },
    {
     "cell_type": "code",
     "collapsed": false,
     "input": [
      "function getLengthStay(checkin, checkout)\n",
      "    local dIn= split(checkin, \"-\")\n",
      "    local dOut= split(checkout, \"-\")\n",
      "    if table.getn(dIn) ~= 3 or table.getn(dOut) ~= 3 then\n",
      "        return -1\n",
      "    end\n",
      "    local useDateIn = os.time{year=dIn[1],month=dIn[2],day=dIn[3]}\n",
      "    local useDateOut = os.time{year=dOut[1],month=dOut[2],day=dOut[3]}\n",
      "    local days = (useDateOut - useDateIn)/(24*60*60)\n",
      "    if days > 30 then\n",
      "        days = 30\n",
      "    end\n",
      "    return days\n",
      "end"
     ],
     "language": "python",
     "metadata": {},
     "outputs": [],
     "prompt_number": 7
    },
    {
     "cell_type": "code",
     "collapsed": false,
     "input": [
      "function isIncludeWeekend(checkin, checkout)\n",
      "    local dIn= split(checkin, \"-\")\n",
      "    local dOut= split(checkout, \"-\")\n",
      "    if table.getn(dIn) ~= 3 or table.getn(dOut) ~= 3 then\n",
      "        return -1\n",
      "    end\n",
      "    if getLengthStay(checkin, checkout) > 7 then\n",
      "        return 1\n",
      "    end\n",
      "    local useDateIn = os.time{year=dIn[1],month=dIn[2],day=dIn[3]}\n",
      "    local useDateOut = os.time{year=dOut[1],month=dOut[2],day=dOut[3]}\n",
      "    date = useDateIn\n",
      "    while date < useDateOut do\n",
      "        if __getWeekday(date) == 6 or __getWeekday(date) == 7 then return 1 end\n",
      "        date = date + 24 * 60 * 60\n",
      "    end\n",
      "    return 0\n",
      "end"
     ],
     "language": "python",
     "metadata": {},
     "outputs": [],
     "prompt_number": 8
    },
    {
     "cell_type": "code",
     "collapsed": false,
     "input": [
      "print(isIncludeWeekend(\"2016-05-20\", \"2016-05-21\"))"
     ],
     "language": "python",
     "metadata": {},
     "outputs": [],
     "prompt_number": 9
    },
    {
     "cell_type": "code",
     "collapsed": false,
     "input": [
      "function getDate(input)\n",
      "    dates = split(input, \"-\")\n",
      "    if table.getn(dates) ~= 3 then\n",
      "        return -1\n",
      "    end\n",
      "    useDate = os.time{year=dates[1],month=dates[2],day=dates[3]}\n",
      "    weekNum = getWeekNumberOfYear(useDate)\n",
      "    return weekNum\n",
      "end"
     ],
     "language": "python",
     "metadata": {},
     "outputs": [],
     "prompt_number": 10
    },
    {
     "cell_type": "markdown",
     "metadata": {},
     "source": [
      "### 2. onehot"
     ]
    },
    {
     "cell_type": "code",
     "collapsed": false,
     "input": [
      "function onehot(tab, value, len)\n",
      "    if value == nil then\n",
      "        value = 0\n",
      "    end\n",
      "    for i=1,len do\n",
      "        if i==tonumber(value) then\n",
      "            table.insert(tab, 1)\n",
      "        else\n",
      "            table.insert(tab, 0)\n",
      "        end\n",
      "    end\n",
      "end"
     ],
     "language": "python",
     "metadata": {},
     "outputs": [],
     "prompt_number": 11
    },
    {
     "cell_type": "code",
     "collapsed": false,
     "input": [
      "function onehot_range(data, value, len, step)\n",
      "    if value == nil then\n",
      "        value = 0\n",
      "    end\n",
      "    for i=1,len do\n",
      "        if tonumber(value) > i*tonumber(step) then\n",
      "            table.insert(data, 0)\n",
      "        else\n",
      "            table.insert(data, 1)\n",
      "            value = len * (step + 1)\n",
      "        end\n",
      "    end\n",
      "end"
     ],
     "language": "python",
     "metadata": {},
     "outputs": [],
     "prompt_number": 12
    },
    {
     "cell_type": "markdown",
     "metadata": {},
     "source": [
      "### 3. binary"
     ]
    },
    {
     "cell_type": "code",
     "collapsed": false,
     "input": [
      "function binary(data, value, len)\n",
      "    while len > 0 do\n",
      "        if value % 2 == 1 then\n",
      "            table.insert(data, 1)\n",
      "        else\n",
      "            table.insert(data, 0)\n",
      "        end\n",
      "        value = value / 2\n",
      "        len = (len / 2) - (len / 2)%1\n",
      "    end\n",
      "end"
     ],
     "language": "python",
     "metadata": {},
     "outputs": [],
     "prompt_number": 13
    },
    {
     "cell_type": "markdown",
     "metadata": {},
     "source": [
      "### Convert input to data"
     ]
    },
    {
     "cell_type": "code",
     "collapsed": false,
     "input": [
      "function dataConvert(line)\n",
      "    if line == nil then\n",
      "        print('line is empty')\n",
      "    end\n",
      "    words = split(line, \",\")\n",
      "    data = {}\n",
      "    binary(data, tonumber(words[8]), 1198785)\n",
      "    binary(data, tonumber(words[17]), 65107)\n",
      "    \n",
      "    return data\n",
      "end"
     ],
     "language": "python",
     "metadata": {},
     "outputs": [],
     "prompt_number": 14
    },
    {
     "cell_type": "code",
     "collapsed": false,
     "input": [
      "function testdataConvert(line)\n",
      "    if line == nil then\n",
      "        print('line is empty')\n",
      "    end\n",
      "    words = split(line, \",\")\n",
      "    data = {}\n",
      "    binary(data, tonumber(words[9]), 1198785)\n",
      "    binary(data, tonumber(words[18]), 65107)\n",
      "    \n",
      "    return data\n",
      "end"
     ],
     "language": "python",
     "metadata": {},
     "outputs": [],
     "prompt_number": 15
    },
    {
     "cell_type": "markdown",
     "metadata": {},
     "source": [
      "### Build model"
     ]
    },
    {
     "cell_type": "code",
     "collapsed": false,
     "input": [
      "model = nn.Sequential()\n",
      "-- for onehot inputsize: 3871\n",
      "model:add(nn.Linear(37, 128))\n",
      "model:add(nn.Threshold(0, 1e-6))\n",
      "model:add(nn.ReLU())\n",
      "model:add(nn.Linear(128, 256))\n",
      "model:add(nn.Threshold(0, 1e-6))\n",
      "model:add(nn.ReLU())\n",
      "model:add(nn.Linear(256, 100))\n",
      "model:add(nn.Sigmoid())\n",
      "model = model:cuda()\n",
      "\n",
      "params, grad_params = model:getParameters()\n",
      "crit = nn.CrossEntropyCriterion()\n",
      "crit = crit:cuda()"
     ],
     "language": "python",
     "metadata": {},
     "outputs": [],
     "prompt_number": 16
    },
    {
     "cell_type": "markdown",
     "metadata": {},
     "source": [
      "model = nn.Sequential()\n",
      "-- for onehot inputsize: 3871\n",
      "model:add(nn.Linear(252, 1024))\n",
      "model:add(nn.Sigmoid())\n",
      "model:add(nn.Linear(1024, 2048))\n",
      "model:add(nn.Sigmoid())\n",
      "model:add(nn.Linear(2048, 4096))\n",
      "model:add(nn.Sigmoid())\n",
      "model:add(nn.Linear(4096, 100))\n",
      "model = model:cuda()\n",
      "\n",
      "params, grad_params = model:getParameters()\n",
      "crit = nn.CrossEntropyCriterion()\n",
      "crit = crit:cuda()"
     ]
    },
    {
     "cell_type": "markdown",
     "metadata": {},
     "source": [
      "### Load Data"
     ]
    },
    {
     "cell_type": "code",
     "collapsed": false,
     "input": [
      "function tableToOutput(dataTable, scalarTable)\n",
      "   local data, scalarLabels, labels\n",
      "   local quantity = #scalarTable\n",
      "   local size = #dataTable[1]\n",
      "   data = torch.Tensor(quantity, size)\n",
      "   scalarLabels = torch.LongTensor(quantity):fill(-1111)\n",
      "   for i=1,#dataTable do\n",
      "      for j=1,#dataTable[1] do\n",
      "         data[i][j] = dataTable[i][j]\n",
      "      end\n",
      "      scalarLabels[i] = scalarTable[i]\n",
      "   end\n",
      "   return data, scalarLabels\n",
      "end"
     ],
     "language": "python",
     "metadata": {},
     "outputs": [],
     "prompt_number": 17
    },
    {
     "cell_type": "code",
     "collapsed": false,
     "input": [
      "function loadData(quantity)\n",
      "    dataTable = {}\n",
      "    labTable = {}\n",
      "    for i=1,quantity do\n",
      "        local book = torch.random(0,1)\n",
      "        local class = torch.random(0,99)\n",
      "        local fname = 'data/train_book/train_' .. string.format( \"%02d\", class ) .. '.csv'\n",
      "        if book == 0 then\n",
      "            fname = 'data/train_click/train_' .. string.format( \"%02d\", class ) .. '.csv'\n",
      "        end\n",
      "        file = io.open(fname, \"r\")\n",
      "        picked = torch.random(1,file:seek(\"end\")-200)\n",
      "        file:seek(\"set\", picked)\n",
      "        file:read()\n",
      "        table.insert(dataTable, dataConvert(file:read()))\n",
      "        table.insert(labTable, class+1)\n",
      "        io.close(file)\n",
      "    end\n",
      "    local data, label = tableToOutput(dataTable, labTable)\n",
      "    return data, label\n",
      "end"
     ],
     "language": "python",
     "metadata": {},
     "outputs": [],
     "prompt_number": 18
    },
    {
     "cell_type": "markdown",
     "metadata": {},
     "source": [
      "### Print"
     ]
    },
    {
     "cell_type": "code",
     "collapsed": false,
     "input": [
      "function PrintCM(idx)\n",
      "  local loss = 0\n",
      "  local top1 = 0\n",
      "  model:evaluate()\n",
      "  local x, y = loadData(1000)\n",
      "  x = x:cuda()\n",
      "  y = y:cuda()\n",
      "  local N = y:size(1)\n",
      "  local scores = model:forward(x)\n",
      "  loss = loss + crit:forward(scores, y)\n",
      "\n",
      "  local pred = scores:float()\n",
      "  local _, pred_sorted = pred:sort(2, true)\n",
      "\n",
      "  for i=1,N do\n",
      "    for j=1,5 do\n",
      "        if pred_sorted[i][j] == y[i] then\n",
      "          top1 = top1 + (1/j)\n",
      "        end\n",
      "    end\n",
      "  end\n",
      "  print(\"idx: \" .. idx, \"loss: \" .. loss, \"train score: \" .. top1 * 100 / N, 'label: ' .. y[1],\n",
      "        'prediction: [1]' .. pred_sorted[1][1] .. ' [2]' .. pred_sorted[1][2] .. ' [3]' .. pred_sorted[1][3] .. ' [4]' .. pred_sorted[1][4] .. ' [5]' .. pred_sorted[1][5])\n",
      "end"
     ],
     "language": "python",
     "metadata": {},
     "outputs": [],
     "prompt_number": 19
    },
    {
     "cell_type": "markdown",
     "metadata": {},
     "source": [
      "### Check Size"
     ]
    },
    {
     "cell_type": "code",
     "collapsed": false,
     "input": [
      "local x,y = loadData(100)\n",
      "print(x:size())"
     ],
     "language": "python",
     "metadata": {},
     "outputs": [],
     "prompt_number": 20
    },
    {
     "cell_type": "markdown",
     "metadata": {},
     "source": [
      "### Training"
     ]
    },
    {
     "cell_type": "code",
     "collapsed": false,
     "input": [
      "require 'optim';"
     ],
     "language": "python",
     "metadata": {},
     "outputs": [
      {
       "metadata": {},
       "output_type": "pyout",
       "prompt_number": 21,
       "text": [
        " 100\n",
        "  37\n",
        "[torch.LongStorage of size 2]\n",
        "\n"
       ]
      }
     ],
     "prompt_number": 21
    },
    {
     "cell_type": "code",
     "collapsed": false,
     "input": [
      "opt = {}\n",
      "batch_size = 30000\n",
      "train_size = 3000000\n",
      "max_epoch = 100\n",
      "opt.learningRate = 1e-2\n",
      "opt.lr_decay_factor = 0.5\n",
      "opt.lr_decay_every = 5 * train_size / batch_size\n",
      "opt.print_every = 5\n",
      "evaluate_every = 10 * train_size / batch_size\n",
      "optim_config = {learningRate = opt.learningRate}\n",
      "num_iterations = max_epoch * train_size / batch_size\n",
      "epoch = 1"
     ],
     "language": "python",
     "metadata": {},
     "outputs": [],
     "prompt_number": 22
    },
    {
     "cell_type": "code",
     "collapsed": false,
     "input": [
      "opt.learningRate = 1e-2\n",
      "opt.print_every = 5\n",
      "num_iterations = 11 * train_size / batch_size"
     ],
     "language": "python",
     "metadata": {},
     "outputs": [],
     "prompt_number": 23
    },
    {
     "cell_type": "code",
     "collapsed": false,
     "input": [
      "-- Loss function that we pass to an optim method\n",
      "function f(w)\n",
      "  assert(w == params)\n",
      "  grad_params:zero()\n",
      "\n",
      "  --local x, y = loader:nextBatch('train')\n",
      "  local x, y = loadData(batch_size)\n",
      "  \n",
      "  x = x:cuda()\n",
      "  y = y:cuda()\n",
      "  local scores = model:forward(x)\n",
      "  local loss = crit:forward(scores, y)\n",
      "  local grad_scores = crit:backward(scores, y)\n",
      "  model:backward(x, grad_scores)\n",
      "\n",
      "  grad_params:clamp(-5, 5)\n",
      "\n",
      "  return loss, grad_params\n",
      "end"
     ],
     "language": "python",
     "metadata": {},
     "outputs": [],
     "prompt_number": 24
    },
    {
     "cell_type": "code",
     "collapsed": false,
     "input": [
      "model:training()"
     ],
     "language": "python",
     "metadata": {},
     "outputs": [
      {
       "metadata": {},
       "output_type": "pyout",
       "prompt_number": 25,
       "text": [
        "\n"
       ]
      }
     ],
     "prompt_number": 25
    },
    {
     "cell_type": "code",
     "collapsed": false,
     "input": [
      "function saveModel(e)\n",
      "    local filename = string.format(\"model/model_%02d.t7\", e)\n",
      "    model:clearState()\n",
      "    model:float()\n",
      "    torch.save(filename, model)\n",
      "    model:cuda()\n",
      "end"
     ],
     "language": "python",
     "metadata": {},
     "outputs": [],
     "prompt_number": 26
    },
    {
     "cell_type": "code",
     "collapsed": false,
     "input": [
      "function make_submission(idx)\n",
      "    model:evaluate()\n",
      "    testname = 'data/test.csv'\n",
      "    submission_name = string.format(\"data/submission_%02d.csv\", idx)\n",
      "    submission_file = io.open(submission_name, 'w')\n",
      "    head = 1\n",
      "    idx = 0\n",
      "    submission_file:write(\"id,hotel_cluster\\n\")\n",
      "    for line in io.lines ( testname ) do\n",
      "        if head == 1 then\n",
      "            head = 0\n",
      "        else\n",
      "            testdata = testdataConvert(line)\n",
      "            words = split(line, ',')\n",
      "            if tonumber(words[1]) ~= idx then\n",
      "                print('words:' .. words[1] .. ', idx:' .. idx)            \n",
      "                idx = words[1]\n",
      "            end\n",
      "            tx, _ = tableToOutput({testdata}, {1})\n",
      "            local outputs = model:forward(tx:cuda())\n",
      "            local _, ps = outputs:float():sort(2, true)\n",
      "            submission_file:write(idx .. ',' .. ps[1][1]-1 .. ' ' .. ps[1][2]-1 .. ' ' .. ps[1][3]-1 .. ' ' .. ps[1][4]-1 .. ' ' .. ps[1][5]-1 .. '\\n')\n",
      "            idx = idx + 1\n",
      "        end\n",
      "    end\n",
      "    io.close(submission_file)\n",
      "end"
     ],
     "language": "python",
     "metadata": {},
     "outputs": [],
     "prompt_number": 27
    },
    {
     "cell_type": "code",
     "collapsed": false,
     "input": [
      "for i = 0, num_iterations do\n",
      "    if i ~= 0 and i % opt.lr_decay_every == 0 then\n",
      "        old_lr = opt.learningRate\n",
      "        opt.learningRate = opt.learningRate * opt.lr_decay_factor\n",
      "        optim_config = {learningRate = old_lr * opt.lr_decay_factor}\n",
      "        saveModel(epoch)\n",
      "        epoch = epoch + 1\n",
      "        print('current LR: ' .. opt.learningRate)\n",
      "    end\n",
      "    \n",
      "    local _, loss = optim.adam(f, params, optim_config)\n",
      "    if i % opt.print_every == 0 then\n",
      "        model:evaluate()\n",
      "        PrintCM(i)\n",
      "        model:training()\n",
      "    end\n",
      "    \n",
      "    if i ~= 0 and i % evaluate_every == 0 then\n",
      "        make_submission(i)\n",
      "    end\n",
      "end"
     ],
     "language": "python",
     "metadata": {},
     "outputs": [
      {
       "metadata": {},
       "output_type": "pyout",
       "prompt_number": 28,
       "text": [
        "idx: 0\tloss: 4.6029443740845\ttrain score: 2.5166666666667\tlabel: 99\tprediction: [1]5 [2]64 [3]95 [4]51 [5]8\t\n"
       ]
      },
      {
       "metadata": {},
       "output_type": "pyout",
       "prompt_number": 28,
       "text": [
        "idx: 5\tloss: 4.565393447876\ttrain score: 4.6933333333333\tlabel: 90\tprediction: [1]57 [2]42 [3]71 [4]27 [5]70\t\n"
       ]
      },
      {
       "metadata": {},
       "output_type": "pyout",
       "prompt_number": 28,
       "text": [
        "idx: 10\tloss: 4.5486807823181\ttrain score: 4.3716666666667\tlabel: 49\tprediction: [1]93 [2]66 [3]88 [4]86 [5]74\t\n"
       ]
      },
      {
       "metadata": {},
       "output_type": "pyout",
       "prompt_number": 28,
       "text": [
        "idx: 15\tloss: 4.5649118423462\ttrain score: 3.515\tlabel: 36\tprediction: [1]93 [2]66 [3]64 [4]17 [5]29\t\n"
       ]
      },
      {
       "metadata": {},
       "output_type": "pyout",
       "prompt_number": 28,
       "text": [
        "idx: 20\tloss: 4.5434384346008\ttrain score: 4.5016666666667\tlabel: 57\tprediction: [1]93 [2]66 [3]64 [4]17 [5]29\t\n"
       ]
      },
      {
       "metadata": {},
       "output_type": "pyout",
       "prompt_number": 28,
       "text": [
        "idx: 25\tloss: 4.5519075393677\ttrain score: 4.2983333333333\tlabel: 56\tprediction: [1]66 [2]93 [3]17 [4]64 [5]29\t\n"
       ]
      },
      {
       "metadata": {},
       "output_type": "pyout",
       "prompt_number": 28,
       "text": [
        "idx: 30\tloss: 4.5443778038025\ttrain score: 3.9166666666667\tlabel: 29\tprediction: [1]93 [2]66 [3]17 [4]70 [5]64\t\n"
       ]
      },
      {
       "metadata": {},
       "output_type": "pyout",
       "prompt_number": 28,
       "text": [
        "idx: 35\tloss: 4.5460295677185\ttrain score: 5.4316666666667\tlabel: 84\tprediction: [1]89 [2]46 [3]25 [4]2 [5]55\t\n"
       ]
      },
      {
       "metadata": {},
       "output_type": "pyout",
       "prompt_number": 28,
       "text": [
        "idx: 40\tloss: 4.5339093208313\ttrain score: 3.89\tlabel: 73\tprediction: [1]66 [2]64 [3]17 [4]93 [5]70\t\n"
       ]
      },
      {
       "metadata": {},
       "output_type": "pyout",
       "prompt_number": 28,
       "text": [
        "idx: 45\tloss: 4.5415215492249\ttrain score: 4.205\tlabel: 65\tprediction: [1]64 [2]66 [3]17 [4]93 [5]70\t\n"
       ]
      },
      {
       "metadata": {},
       "output_type": "pyout",
       "prompt_number": 28,
       "text": [
        "idx: 50\tloss: 4.5471205711365\ttrain score: 4.1033333333333\tlabel: 49\tprediction: [1]72 [2]30 [3]13 [4]35 [5]59\t\n"
       ]
      },
      {
       "metadata": {},
       "output_type": "pyout",
       "prompt_number": 28,
       "text": [
        "idx: 55\tloss: 4.54252576828\ttrain score: 4.1983333333333\tlabel: 66\tprediction: [1]66 [2]64 [3]17 [4]29 [5]93\t\n"
       ]
      },
      {
       "metadata": {},
       "output_type": "pyout",
       "prompt_number": 28,
       "text": [
        "idx: 60\tloss: 4.5292372703552\ttrain score: 4.6466666666667\tlabel: 3\tprediction: [1]66 [2]88 [3]64 [4]17 [5]29\t\n"
       ]
      },
      {
       "metadata": {},
       "output_type": "pyout",
       "prompt_number": 28,
       "text": [
        "idx: 65\tloss: 4.5334062576294\ttrain score: 5.1683333333333\tlabel: 12\tprediction: [1]47 [2]72 [3]13 [4]30 [5]59\t\n"
       ]
      },
      {
       "metadata": {},
       "output_type": "pyout",
       "prompt_number": 28,
       "text": [
        "idx: 70\tloss: 4.5441198348999\ttrain score: 4.665\tlabel: 9\tprediction: [1]75 [2]2 [3]25 [4]89 [5]46\t\n"
       ]
      },
      {
       "metadata": {},
       "output_type": "pyout",
       "prompt_number": 28,
       "text": [
        "idx: 75\tloss: 4.5430421829224\ttrain score: 4.8183333333333\tlabel: 25\tprediction: [1]75 [2]2 [3]25 [4]89 [5]46\t\n"
       ]
      },
      {
       "metadata": {},
       "output_type": "pyout",
       "prompt_number": 28,
       "text": [
        "idx: 80\tloss: 4.5291118621826\ttrain score: 5.0066666666667\tlabel: 43\tprediction: [1]75 [2]2 [3]89 [4]25 [5]46\t\n"
       ]
      },
      {
       "metadata": {},
       "output_type": "pyout",
       "prompt_number": 28,
       "text": [
        "idx: 85\tloss: 4.5302419662476\ttrain score: 4.915\tlabel: 97\tprediction: [1]71 [2]66 [3]57 [4]32 [5]17\t\n"
       ]
      },
      {
       "metadata": {},
       "output_type": "pyout",
       "prompt_number": 28,
       "text": [
        "idx: 90\tloss: 4.537157535553\ttrain score: 5.18\tlabel: 50\tprediction: [1]71 [2]57 [3]99 [4]88 [5]70\t\n"
       ]
      },
      {
       "metadata": {},
       "output_type": "pyout",
       "prompt_number": 28,
       "text": [
        "idx: 95\tloss: 4.5213193893433\ttrain score: 5.7383333333333\tlabel: 80\tprediction: [1]75 [2]2 [3]89 [4]25 [5]46\t\n"
       ]
      },
      {
       "metadata": {},
       "output_type": "pyout",
       "prompt_number": 28,
       "text": [
        "idx: 100\tloss: 4.5500197410583\ttrain score: 4.57\tlabel: 70\tprediction: [1]57 [2]71 [3]99 [4]70 [5]66\t\n"
       ]
      },
      {
       "metadata": {},
       "output_type": "pyout",
       "prompt_number": 28,
       "text": [
        "idx: 105\tloss: 4.5315933227539\ttrain score: 4.6083333333333\tlabel: 60\tprediction: [1]72 [2]47 [3]30 [4]13 [5]35\t\n"
       ]
      },
      {
       "metadata": {},
       "output_type": "pyout",
       "prompt_number": 28,
       "text": [
        "idx: 110\tloss: 4.5343103408813\ttrain score: 5.0416666666667\tlabel: 84\tprediction: [1]57 [2]71 [3]88 [4]27 [5]70\t\n"
       ]
      },
      {
       "metadata": {},
       "output_type": "pyout",
       "prompt_number": 28,
       "text": [
        "idx: 115\tloss: 4.549168586731\ttrain score: 4.5833333333333\tlabel: 3\tprediction: [1]75 [2]2 [3]89 [4]28 [5]25\t\n"
       ]
      },
      {
       "metadata": {},
       "output_type": "pyout",
       "prompt_number": 28,
       "text": [
        "idx: 120\tloss: 4.5503196716309\ttrain score: 4.805\tlabel: 91\tprediction: [1]72 [2]47 [3]30 [4]35 [5]78\t\n"
       ]
      },
      {
       "metadata": {},
       "output_type": "pyout",
       "prompt_number": 28,
       "text": [
        "idx: 125\tloss: 4.5422191619873\ttrain score: 6.0933333333333\tlabel: 62\tprediction: [1]75 [2]2 [3]28 [4]89 [5]25\t\n"
       ]
      },
      {
       "metadata": {},
       "output_type": "pyout",
       "prompt_number": 28,
       "text": [
        "idx: 130\tloss: 4.5449495315552\ttrain score: 5.075\tlabel: 12\tprediction: [1]81 [2]45 [3]86 [4]7 [5]59\t\n"
       ]
      },
      {
       "metadata": {},
       "output_type": "pyout",
       "prompt_number": 28,
       "text": [
        "idx: 135\tloss: 4.5309948921204\ttrain score: 4.3016666666667\tlabel: 81\tprediction: [1]75 [2]2 [3]89 [4]28 [5]25\t\n"
       ]
      },
      {
       "metadata": {},
       "output_type": "pyout",
       "prompt_number": 28,
       "text": [
        "idx: 140\tloss: 4.5445079803467\ttrain score: 5.2783333333333\tlabel: 30\tprediction: [1]57 [2]71 [3]88 [4]70 [5]99\t\n"
       ]
      },
      {
       "metadata": {},
       "output_type": "pyout",
       "prompt_number": 28,
       "text": [
        "idx: 145\tloss: 4.5206732749939\ttrain score: 5.675\tlabel: 60\tprediction: [1]57 [2]71 [3]99 [4]88 [5]70\t\n"
       ]
      },
      {
       "metadata": {},
       "output_type": "pyout",
       "prompt_number": 28,
       "text": [
        "idx: 150\tloss: 4.5286498069763\ttrain score: 5.83\tlabel: 68\tprediction: [1]75 [2]2 [3]28 [4]89 [5]25\t\n"
       ]
      },
      {
       "metadata": {},
       "output_type": "pyout",
       "prompt_number": 28,
       "text": [
        "idx: 155\tloss: 4.5376877784729\ttrain score: 5.03\tlabel: 56\tprediction: [1]57 [2]71 [3]64 [4]88 [5]99\t\n"
       ]
      },
      {
       "metadata": {},
       "output_type": "pyout",
       "prompt_number": 28,
       "text": [
        "idx: 160\tloss: 4.5358605384827\ttrain score: 5.34\tlabel: 81\tprediction: [1]57 [2]64 [3]71 [4]88 [5]99\t\n"
       ]
      },
      {
       "metadata": {},
       "output_type": "pyout",
       "prompt_number": 28,
       "text": [
        "idx: 165\tloss: 4.525728225708\ttrain score: 5.5716666666667\tlabel: 87\tprediction: [1]57 [2]71 [3]64 [4]88 [5]99\t\n"
       ]
      },
      {
       "metadata": {},
       "output_type": "pyout",
       "prompt_number": 28,
       "text": [
        "idx: 170\tloss: 4.5396056175232\ttrain score: 5.0166666666667\tlabel: 93\tprediction: [1]75 [2]2 [3]89 [4]46 [5]25\t\n"
       ]
      },
      {
       "metadata": {},
       "output_type": "pyout",
       "prompt_number": 28,
       "text": [
        "idx: 175\tloss: 4.5462374687195\ttrain score: 4.7733333333333\tlabel: 70\tprediction: [1]57 [2]71 [3]64 [4]88 [5]70\t\n"
       ]
      },
      {
       "metadata": {},
       "output_type": "pyout",
       "prompt_number": 28,
       "text": [
        "idx: 180\tloss: 4.5470471382141\ttrain score: 4.87\tlabel: 74\tprediction: [1]72 [2]47 [3]35 [4]78 [5]30\t\n"
       ]
      },
      {
       "metadata": {},
       "output_type": "pyout",
       "prompt_number": 28,
       "text": [
        "idx: 185\tloss: 4.539089679718\ttrain score: 3.9316666666667\tlabel: 53\tprediction: [1]57 [2]71 [3]64 [4]88 [5]70\t\n"
       ]
      },
      {
       "metadata": {},
       "output_type": "pyout",
       "prompt_number": 28,
       "text": [
        "idx: 190\tloss: 4.5306105613708\ttrain score: 5.035\tlabel: 36\tprediction: [1]57 [2]71 [3]99 [4]88 [5]64\t\n"
       ]
      },
      {
       "metadata": {},
       "output_type": "pyout",
       "prompt_number": 28,
       "text": [
        "idx: 195\tloss: 4.5337934494019\ttrain score: 5.1866666666667\tlabel: 38\tprediction: [1]75 [2]2 [3]89 [4]25 [5]46\t\n"
       ]
      },
      {
       "metadata": {},
       "output_type": "pyout",
       "prompt_number": 28,
       "text": [
        "idx: 200\tloss: 4.5524983406067\ttrain score: 4.6866666666667\tlabel: 53\tprediction: [1]81 [2]67 [3]45 [4]74 [5]68\t\n"
       ]
      },
      {
       "metadata": {},
       "output_type": "pyout",
       "prompt_number": 28,
       "text": [
        "idx: 205\tloss: 4.5392470359802\ttrain score: 4.0316666666667\tlabel: 92\tprediction: [1]57 [2]71 [3]88 [4]99 [5]70\t\n"
       ]
      },
      {
       "metadata": {},
       "output_type": "pyout",
       "prompt_number": 28,
       "text": [
        "idx: 210\tloss: 4.5329260826111\t"
       ]
      },
      {
       "metadata": {},
       "output_type": "pyout",
       "prompt_number": 28,
       "text": [
        "train score: 4.9116666666667\tlabel: 62\tprediction: [1]57 [2]71 [3]88 [4]99 [5]70\t\n"
       ]
      },
      {
       "metadata": {},
       "output_type": "pyout",
       "prompt_number": 28,
       "text": [
        "idx: 215\tloss: 4.5322909355164\ttrain score: 4.8283333333333\tlabel: 22\tprediction: [1]57 [2]71 [3]64 [4]99 [5]88\t\n"
       ]
      },
      {
       "metadata": {},
       "output_type": "pyout",
       "prompt_number": 28,
       "text": [
        "idx: 220\tloss: 4.5179557800293\ttrain score: 6.4616666666667\tlabel: 51\tprediction: [1]57 [2]71 [3]64 [4]99 [5]88\t\n"
       ]
      },
      {
       "metadata": {},
       "output_type": "pyout",
       "prompt_number": 28,
       "text": [
        "idx: 225\tloss: 4.5233268737793\ttrain score: 5.4583333333333\tlabel: 99\tprediction: [1]75 [2]2 [3]89 [4]25 [5]46\t\n"
       ]
      },
      {
       "metadata": {},
       "output_type": "pyout",
       "prompt_number": 28,
       "text": [
        "idx: 230\tloss: 4.5172686576843\ttrain score: 5.975\tlabel: 80\tprediction: [1]57 [2]71 [3]88 [4]99 [5]70\t\n"
       ]
      },
      {
       "metadata": {},
       "output_type": "pyout",
       "prompt_number": 28,
       "text": [
        "idx: 235\tloss: 4.5426216125488\ttrain score: 5.0783333333333\tlabel: 35\tprediction: [1]2 [2]75 [3]25 [4]89 [5]46\t\n"
       ]
      },
      {
       "metadata": {},
       "output_type": "pyout",
       "prompt_number": 28,
       "text": [
        "idx: 240\tloss: 4.5331945419312\ttrain score: 5.275\tlabel: 18\tprediction: [1]2 [2]25 [3]89 [4]75 [5]46\t\n"
       ]
      },
      {
       "metadata": {},
       "output_type": "pyout",
       "prompt_number": 28,
       "text": [
        "idx: 245\tloss: 4.5322942733765\ttrain score: 4.9233333333333\tlabel: 3\tprediction: [1]57 [2]71 [3]99 [4]88 [5]70\t\n"
       ]
      },
      {
       "metadata": {},
       "output_type": "pyout",
       "prompt_number": 28,
       "text": [
        "idx: 250\tloss: 4.5336856842041\ttrain score: 4.9666666666667\tlabel: 89\tprediction: [1]2 [2]89 [3]75 [4]25 [5]46\t\n"
       ]
      },
      {
       "metadata": {},
       "output_type": "pyout",
       "prompt_number": 28,
       "text": [
        "idx: 255\tloss: 4.5442905426025\ttrain score: 4.4266666666667\tlabel: 1\tprediction: [1]57 [2]71 [3]88 [4]99 [5]70\t\n"
       ]
      },
      {
       "metadata": {},
       "output_type": "pyout",
       "prompt_number": 28,
       "text": [
        "idx: 260\tloss: 4.5361089706421\ttrain score: 5.7583333333333\tlabel: 25\tprediction: [1]2 [2]89 [3]25 [4]46 [5]75\t\n"
       ]
      },
      {
       "metadata": {},
       "output_type": "pyout",
       "prompt_number": 28,
       "text": [
        "idx: 265\tloss: 4.5403084754944\ttrain score: 4.55\tlabel: 100\tprediction: [1]57 [2]71 [3]88 [4]99 [5]70\t\n"
       ]
      },
      {
       "metadata": {},
       "output_type": "pyout",
       "prompt_number": 28,
       "text": [
        "idx: 270\tloss: 4.5358805656433\ttrain score: 4.3366666666667\tlabel: 99\tprediction: [1]2 [2]89 [3]25 [4]46 [5]75\t\n"
       ]
      },
      {
       "metadata": {},
       "output_type": "pyout",
       "prompt_number": 28,
       "text": [
        "idx: 275\tloss: 4.5173764228821\ttrain score: 6.0083333333333\tlabel: 100\tprediction: [1]57 [2]71 [3]88 [4]70 [5]99\t\n"
       ]
      },
      {
       "metadata": {},
       "output_type": "pyout",
       "prompt_number": 28,
       "text": [
        "idx: 280\tloss: 4.5375022888184\ttrain score: 4.9916666666667\tlabel: 92\tprediction: [1]45 [2]67 [3]81 [4]74 [5]86\t\n"
       ]
      },
      {
       "metadata": {},
       "output_type": "pyout",
       "prompt_number": 28,
       "text": [
        "idx: 285\tloss: 4.5413174629211\ttrain score: 5.1266666666667\tlabel: 64\tprediction: [1]57 [2]71 [3]88 [4]70 [5]99\t\n"
       ]
      },
      {
       "metadata": {},
       "output_type": "pyout",
       "prompt_number": 28,
       "text": [
        "idx: 290\tloss: 4.5379600524902\ttrain score: 4.9766666666667\tlabel: 11\tprediction: [1]57 [2]71 [3]88 [4]99 [5]70\t\n"
       ]
      },
      {
       "metadata": {},
       "output_type": "pyout",
       "prompt_number": 28,
       "text": [
        "idx: 295\tloss: 4.5346474647522\ttrain score: 5.0433333333333\tlabel: 11\tprediction: [1]89 [2]2 [3]25 [4]75 [5]46\t\n"
       ]
      },
      {
       "metadata": {},
       "output_type": "pyout",
       "prompt_number": 28,
       "text": [
        "idx: 300\tloss: 4.5235996246338\ttrain score: 6.0583333333333\tlabel: 76\tprediction: [1]57 [2]71 [3]99 [4]64 [5]88\t\n"
       ]
      },
      {
       "metadata": {},
       "output_type": "pyout",
       "prompt_number": 28,
       "text": [
        "idx: 305\tloss: 4.5222587585449\ttrain score: 4.2466666666667\tlabel: 16\tprediction: [1]72 [2]47 [3]30 [4]35 [5]13\t\n"
       ]
      },
      {
       "metadata": {},
       "output_type": "pyout",
       "prompt_number": 28,
       "text": [
        "idx: 310\tloss: 4.5310778617859\ttrain score: 5.2566666666667\tlabel: 49\tprediction: [1]89 [2]25 [3]2 [4]46 [5]80\t\n"
       ]
      },
      {
       "metadata": {},
       "output_type": "pyout",
       "prompt_number": 28,
       "text": [
        "idx: 315\tloss: 4.5339889526367\ttrain score: 5.1283333333333\tlabel: 60\tprediction: [1]72 [2]47 [3]30 [4]35 [5]78\t\n"
       ]
      },
      {
       "metadata": {},
       "output_type": "pyout",
       "prompt_number": 28,
       "text": [
        "idx: 320\tloss: 4.5337524414062\ttrain score: 5.1516666666667\tlabel: 58\tprediction: [1]25 [2]89 [3]2 [4]46 [5]75\t\n"
       ]
      },
      {
       "metadata": {},
       "output_type": "pyout",
       "prompt_number": 28,
       "text": [
        "idx: 325\tloss: 4.5501050949097\ttrain score: 4.2\tlabel: 1\tprediction: [1]57 [2]71 [3]88 [4]99 [5]70\t\n"
       ]
      },
      {
       "metadata": {},
       "output_type": "pyout",
       "prompt_number": 28,
       "text": [
        "idx: 330\tloss: 4.5413823127747\ttrain score: 4.9433333333333\tlabel: 85\tprediction: [1]72 [2]47 [3]30 [4]35 [5]13\t\n"
       ]
      },
      {
       "metadata": {},
       "output_type": "pyout",
       "prompt_number": 28,
       "text": [
        "idx: 335\tloss: 4.5245189666748\ttrain score: 5.4833333333333\tlabel: 82\tprediction: [1]57 [2]88 [3]71 [4]99 [5]70\t\n"
       ]
      },
      {
       "metadata": {},
       "output_type": "pyout",
       "prompt_number": 28,
       "text": [
        "idx: 340\tloss: 4.5375151634216\ttrain score: 5.18\tlabel: 5\tprediction: [1]57 [2]71 [3]88 [4]64 [5]70\t\n"
       ]
      },
      {
       "metadata": {},
       "output_type": "pyout",
       "prompt_number": 28,
       "text": [
        "idx: 345\tloss: 4.5365161895752\ttrain score: 5.4633333333333\tlabel: 69\tprediction: [1]25 [2]89 [3]2 [4]46 [5]80\t\n"
       ]
      },
      {
       "metadata": {},
       "output_type": "pyout",
       "prompt_number": 28,
       "text": [
        "idx: 350\tloss: 4.5276737213135\ttrain score: 5.4466666666667\tlabel: 64\tprediction: [1]57 [2]71 [3]88 [4]70 [5]99\t\n"
       ]
      },
      {
       "metadata": {},
       "output_type": "pyout",
       "prompt_number": 28,
       "text": [
        "idx: 355\tloss: 4.5130634307861\ttrain score: 5.855\tlabel: 95\tprediction: [1]57 [2]71 [3]88 [4]99 [5]70\t\n"
       ]
      },
      {
       "metadata": {},
       "output_type": "pyout",
       "prompt_number": 28,
       "text": [
        "idx: 360\tloss: 4.5259919166565\ttrain score: 4.8366666666667\tlabel: 1\tprediction: [1]89 [2]25 [3]2 [4]46 [5]80\t\n"
       ]
      },
      {
       "metadata": {},
       "output_type": "pyout",
       "prompt_number": 28,
       "text": [
        "idx: 365\tloss: 4.5266618728638\ttrain score: 5.6516666666667\tlabel: 62\tprediction: [1]57 [2]71 [3]88 [4]64 [5]70\t\n"
       ]
      },
      {
       "metadata": {},
       "output_type": "pyout",
       "prompt_number": 28,
       "text": [
        "idx: 370\tloss: 4.5329203605652\ttrain score: 5.9\t"
       ]
      },
      {
       "metadata": {},
       "output_type": "pyout",
       "prompt_number": 28,
       "text": [
        "label: 72\tprediction: [1]89 [2]25 [3]2 [4]46 [5]80\t\n"
       ]
      },
      {
       "metadata": {},
       "output_type": "pyout",
       "prompt_number": 28,
       "text": [
        "idx: 375\tloss: 4.5337414741516\ttrain score: 4.8016666666667\tlabel: 98\tprediction: [1]57 [2]88 [3]71 [4]99 [5]70\t\n"
       ]
      },
      {
       "metadata": {},
       "output_type": "pyout",
       "prompt_number": 28,
       "text": [
        "idx: 380\tloss: 4.527379989624\ttrain score: 4.8983333333333\tlabel: 42\tprediction: [1]57 [2]71 [3]88 [4]99 [5]70\t\n"
       ]
      },
      {
       "metadata": {},
       "output_type": "pyout",
       "prompt_number": 28,
       "text": [
        "idx: 385\tloss: 4.5458536148071\ttrain score: 5.8783333333333\tlabel: 65\tprediction: [1]57 [2]88 [3]71 [4]99 [5]70\t\n"
       ]
      },
      {
       "metadata": {},
       "output_type": "pyout",
       "prompt_number": 28,
       "text": [
        "idx: 390\tloss: 4.5300855636597\ttrain score: 5.82\tlabel: 23\tprediction: [1]25 [2]89 [3]2 [4]46 [5]75\t\n"
       ]
      },
      {
       "metadata": {},
       "output_type": "pyout",
       "prompt_number": 28,
       "text": [
        "idx: 395\tloss: 4.5402989387512\ttrain score: 5.765\tlabel: 54\tprediction: [1]57 [2]71 [3]88 [4]99 [5]70\t\n"
       ]
      },
      {
       "metadata": {},
       "output_type": "pyout",
       "prompt_number": 28,
       "text": [
        "idx: 400\tloss: 4.5428957939148\ttrain score: 5.8866666666667\tlabel: 72\tprediction: [1]72 [2]47 [3]35 [4]30 [5]13\t\n"
       ]
      },
      {
       "metadata": {},
       "output_type": "pyout",
       "prompt_number": 28,
       "text": [
        "idx: 405\tloss: 4.5305604934692\ttrain score: 5.335\tlabel: 5\tprediction: [1]89 [2]25 [3]2 [4]46 [5]80\t\n"
       ]
      },
      {
       "metadata": {},
       "output_type": "pyout",
       "prompt_number": 28,
       "text": [
        "idx: 410\tloss: 4.5263905525208\ttrain score: 6.35\tlabel: 57\tprediction: [1]57 [2]71 [3]88 [4]70 [5]99\t\n"
       ]
      },
      {
       "metadata": {},
       "output_type": "pyout",
       "prompt_number": 28,
       "text": [
        "idx: 415\tloss: 4.5306806564331\ttrain score: 5.3533333333333\tlabel: 51\tprediction: [1]57 [2]71 [3]88 [4]70 [5]99\t\n"
       ]
      },
      {
       "metadata": {},
       "output_type": "pyout",
       "prompt_number": 28,
       "text": [
        "idx: 420\tloss: 4.5361728668213\ttrain score: 4.7383333333333\tlabel: 97\tprediction: [1]89 [2]25 [3]46 [4]2 [5]80\t\n"
       ]
      },
      {
       "metadata": {},
       "output_type": "pyout",
       "prompt_number": 28,
       "text": [
        "idx: 425\tloss: 4.536078453064\ttrain score: 4.585\tlabel: 53\tprediction: [1]57 [2]71 [3]88 [4]99 [5]70\t\n"
       ]
      },
      {
       "metadata": {},
       "output_type": "pyout",
       "prompt_number": 28,
       "text": [
        "idx: 430\tloss: 4.5405960083008\ttrain score: 4.775\tlabel: 29\tprediction: [1]57 [2]88 [3]71 [4]99 [5]70\t\n"
       ]
      },
      {
       "metadata": {},
       "output_type": "pyout",
       "prompt_number": 28,
       "text": [
        "idx: 435\tloss: 4.5325570106506\ttrain score: 4.795\tlabel: 35\tprediction: [1]57 [2]88 [3]71 [4]99 [5]70\t\n"
       ]
      },
      {
       "metadata": {},
       "output_type": "pyout",
       "prompt_number": 28,
       "text": [
        "idx: 440\tloss: 4.5336503982544\ttrain score: 4.4966666666667\tlabel: 37\tprediction: [1]57 [2]88 [3]71 [4]99 [5]70\t\n"
       ]
      },
      {
       "metadata": {},
       "output_type": "pyout",
       "prompt_number": 28,
       "text": [
        "idx: 445\tloss: 4.5414152145386\ttrain score: 4.8116666666667\tlabel: 37\tprediction: [1]25 [2]89 [3]46 [4]2 [5]80\t\n"
       ]
      },
      {
       "metadata": {},
       "output_type": "pyout",
       "prompt_number": 28,
       "text": [
        "idx: 450\tloss: 4.534095287323\ttrain score: 3.55\tlabel: 83\tprediction: [1]57 [2]71 [3]88 [4]70 [5]99\t\n"
       ]
      },
      {
       "metadata": {},
       "output_type": "pyout",
       "prompt_number": 28,
       "text": [
        "idx: 455\tloss: 4.5464367866516\ttrain score: 4.8183333333333\tlabel: 2\tprediction: [1]89 [2]25 [3]46 [4]2 [5]80\t\n"
       ]
      },
      {
       "metadata": {},
       "output_type": "pyout",
       "prompt_number": 28,
       "text": [
        "idx: 460\tloss: 4.5125184059143\ttrain score: 6.3033333333333\tlabel: 21\tprediction: [1]25 [2]89 [3]46 [4]2 [5]80\t\n"
       ]
      },
      {
       "metadata": {},
       "output_type": "pyout",
       "prompt_number": 28,
       "text": [
        "idx: 465\tloss: 4.5157895088196\ttrain score: 5.0666666666667\tlabel: 99\tprediction: [1]57 [2]71 [3]88 [4]99 [5]70\t\n"
       ]
      },
      {
       "metadata": {},
       "output_type": "pyout",
       "prompt_number": 28,
       "text": [
        "idx: 470\tloss: 4.5410633087158\ttrain score: 4.815\tlabel: 48\tprediction: [1]57 [2]71 [3]88 [4]99 [5]70\t\n"
       ]
      },
      {
       "metadata": {},
       "output_type": "pyout",
       "prompt_number": 28,
       "text": [
        "idx: 475\tloss: 4.524215221405\ttrain score: 5.6766666666667\tlabel: 75\tprediction: [1]35 [2]44 [3]97 [4]85 [5]55\t\n"
       ]
      },
      {
       "metadata": {},
       "output_type": "pyout",
       "prompt_number": 28,
       "text": [
        "idx: 480\tloss: 4.5380277633667\ttrain score: 4.7366666666667\tlabel: 63\tprediction: [1]67 [2]45 [3]81 [4]66 [5]74\t\n"
       ]
      },
      {
       "metadata": {},
       "output_type": "pyout",
       "prompt_number": 28,
       "text": [
        "idx: 485\tloss: 4.5078148841858\ttrain score: 5.4033333333333\tlabel: 2\tprediction: [1]89 [2]25 [3]2 [4]46 [5]75\t\n"
       ]
      },
      {
       "metadata": {},
       "output_type": "pyout",
       "prompt_number": 28,
       "text": [
        "idx: 490\tloss: 4.5501618385315\ttrain score: 4.49\tlabel: 13\tprediction: [1]57 [2]71 [3]88 [4]99 [5]70\t\n"
       ]
      },
      {
       "metadata": {},
       "output_type": "pyout",
       "prompt_number": 28,
       "text": [
        "idx: 495\tloss: 4.527223110199\ttrain score: 6.1083333333333\t"
       ]
      },
      {
       "metadata": {},
       "output_type": "pyout",
       "prompt_number": 28,
       "text": [
        "label: 39\tprediction: [1]57 [2]71 [3]88 [4]99 [5]64\t\n"
       ]
      },
      {
       "metadata": {},
       "output_type": "pyout",
       "prompt_number": 28,
       "text": [
        "current LR: 0.005\t\n"
       ]
      },
      {
       "metadata": {},
       "output_type": "pyout",
       "prompt_number": 28,
       "text": [
        "idx: 500\tloss: 4.5269513130188\ttrain score: 5.3866666666667\tlabel: 35\tprediction: [1]89 [2]25 [3]46 [4]2 [5]80\t\n"
       ]
      },
      {
       "metadata": {},
       "output_type": "pyout",
       "prompt_number": 28,
       "text": [
        "idx: 505\tloss: 4.5338225364685\ttrain score: 5.36\tlabel: 61\tprediction: [1]66 [2]67 [3]81 [4]53 [5]3\t\n"
       ]
      },
      {
       "metadata": {},
       "output_type": "pyout",
       "prompt_number": 28,
       "text": [
        "idx: 510\tloss: 4.5347228050232\ttrain score: 5.5633333333333\tlabel: 2\tprediction: [1]89 [2]25 [3]46 [4]2 [5]80\t\n"
       ]
      },
      {
       "metadata": {},
       "output_type": "pyout",
       "prompt_number": 28,
       "text": [
        "idx: 515\tloss: 4.5255742073059\ttrain score: 4.81\tlabel: 67\tprediction: [1]57 [2]71 [3]88 [4]99 [5]64\t\n"
       ]
      },
      {
       "metadata": {},
       "output_type": "pyout",
       "prompt_number": 28,
       "text": [
        "idx: 520\tloss: 4.5406079292297\ttrain score: 4.1566666666667\tlabel: 57\tprediction: [1]72 [2]47 [3]30 [4]35 [5]13\t\n"
       ]
      },
      {
       "metadata": {},
       "output_type": "pyout",
       "prompt_number": 28,
       "text": [
        "idx: 525\tloss: 4.5363702774048\ttrain score: 5.72\tlabel: 28\tprediction: [1]57 [2]71 [3]88 [4]99 [5]64\t\n"
       ]
      },
      {
       "metadata": {},
       "output_type": "pyout",
       "prompt_number": 28,
       "text": [
        "idx: 530\tloss: 4.5309495925903\ttrain score: 4.0133333333333\tlabel: 98\tprediction: [1]57 [2]88 [3]71 [4]64 [5]99\t\n"
       ]
      },
      {
       "metadata": {},
       "output_type": "pyout",
       "prompt_number": 28,
       "text": [
        "idx: 535\tloss: 4.5462355613708\ttrain score: 4.9483333333333\tlabel: 27\tprediction: [1]72 [2]47 [3]30 [4]13 [5]35\t\n"
       ]
      },
      {
       "metadata": {},
       "output_type": "pyout",
       "prompt_number": 28,
       "text": [
        "idx: 540\tloss: 4.5372066497803\ttrain score: 4.34\tlabel: 5\tprediction: [1]72 [2]47 [3]30 [4]35 [5]13\t\n"
       ]
      },
      {
       "metadata": {},
       "output_type": "pyout",
       "prompt_number": 28,
       "text": [
        "idx: 545\tloss: 4.5256643295288\ttrain score: 6.0933333333333\tlabel: 48\tprediction: [1]57 [2]71 [3]88 [4]99 [5]64\t\n"
       ]
      },
      {
       "metadata": {},
       "output_type": "pyout",
       "prompt_number": 28,
       "text": [
        "idx: 550\tloss: 4.5327272415161\ttrain score: 5.7183333333333\tlabel: 38\tprediction: [1]57 [2]71 [3]88 [4]99 [5]64\t\n"
       ]
      },
      {
       "metadata": {},
       "output_type": "pyout",
       "prompt_number": 28,
       "text": [
        "idx: 555\tloss: 4.5149464607239\ttrain score: 6.0983333333333\tlabel: 55\tprediction: [1]89 [2]25 [3]46 [4]2 [5]80\t\n"
       ]
      },
      {
       "metadata": {},
       "output_type": "pyout",
       "prompt_number": 28,
       "text": [
        "idx: 560\tloss: 4.5264158248901\ttrain score: 4.8066666666667\tlabel: 1\tprediction: [1]1 [2]67 [3]74 [4]97 [5]88\t\n"
       ]
      },
      {
       "metadata": {},
       "output_type": "pyout",
       "prompt_number": 28,
       "text": [
        "idx: 565\tloss: 4.5338172912598\ttrain score: 4.6266666666667\tlabel: 41\tprediction: [1]57 [2]71 [3]88 [4]99 [5]64\t\n"
       ]
      },
      {
       "metadata": {},
       "output_type": "pyout",
       "prompt_number": 28,
       "text": [
        "idx: 570\tloss: 4.5292720794678\ttrain score: 5.005\tlabel: 64\tprediction: [1]57 [2]71 [3]88 [4]99 [5]64\t\n"
       ]
      },
      {
       "metadata": {},
       "output_type": "pyout",
       "prompt_number": 28,
       "text": [
        "idx: 575\tloss: 4.5300140380859\ttrain score: 4.775\tlabel: 93\tprediction: [1]35 [2]85 [3]44 [4]97 [5]1\t\n"
       ]
      },
      {
       "metadata": {},
       "output_type": "pyout",
       "prompt_number": 28,
       "text": [
        "idx: 580\tloss: 4.5296721458435\ttrain score: 5.5583333333333\tlabel: 56\tprediction: [1]89 [2]25 [3]46 [4]2 [5]80\t\n"
       ]
      },
      {
       "metadata": {},
       "output_type": "pyout",
       "prompt_number": 28,
       "text": [
        "idx: 585\tloss: 4.5244913101196\ttrain score: 6.7883333333333\tlabel: 81\tprediction: [1]89 [2]25 [3]46 [4]2 [5]80\t\n"
       ]
      },
      {
       "metadata": {},
       "output_type": "pyout",
       "prompt_number": 28,
       "text": [
        "idx: 590\tloss: 4.5309557914734\ttrain score: 4.7016666666667\tlabel: 57\tprediction: [1]57 [2]71 [3]88 [4]99 [5]70\t\n"
       ]
      },
      {
       "metadata": {},
       "output_type": "pyout",
       "prompt_number": 28,
       "text": [
        "idx: 595\tloss: 4.5429067611694\ttrain score: 5.9166666666667\tlabel: 35\tprediction: [1]89 [2]25 [3]46 [4]2 [5]80\t\n"
       ]
      },
      {
       "metadata": {},
       "output_type": "pyout",
       "prompt_number": 28,
       "text": [
        "idx: 600\tloss: 4.5290803909302\ttrain score: 3.97\tlabel: 68\tprediction: [1]67 [2]45 [3]81 [4]74 [5]66\t\n"
       ]
      },
      {
       "metadata": {},
       "output_type": "pyout",
       "prompt_number": 28,
       "text": [
        "idx: 605\tloss: 4.542405128479\ttrain score: 5.2866666666667\tlabel: 33\tprediction: [1]35 [2]64 [3]62 [4]93 [5]47\t\n"
       ]
      },
      {
       "metadata": {},
       "output_type": "pyout",
       "prompt_number": 28,
       "text": [
        "idx: 610\tloss: 4.5418524742126\ttrain score: 4.705\tlabel: 97\tprediction: [1]57 [2]71 [3]88 [4]99 [5]64\t\n"
       ]
      },
      {
       "metadata": {},
       "output_type": "pyout",
       "prompt_number": 28,
       "text": [
        "idx: 615\tloss: 4.5370335578918\ttrain score: 4.9083333333333\tlabel: 46\tprediction: [1]89 [2]46 [3]25 [4]80 [5]2\t\n"
       ]
      },
      {
       "metadata": {},
       "output_type": "pyout",
       "prompt_number": 28,
       "text": [
        "idx: 620\tloss: 4.5317373275757\ttrain score: 6.2283333333333\tlabel: 25\tprediction: [1]89 [2]25 [3]46 [4]2 [5]80\t\n"
       ]
      },
      {
       "metadata": {},
       "output_type": "pyout",
       "prompt_number": 28,
       "text": [
        "idx: 625\tloss: 4.5206408500671\ttrain score: 5.3266666666667\tlabel: 98\tprediction: [1]57 [2]71 [3]88 [4]99 [5]64\t\n"
       ]
      },
      {
       "metadata": {},
       "output_type": "pyout",
       "prompt_number": 28,
       "text": [
        "idx: 630\tloss: 4.5197796821594\ttrain score: 5.8133333333333\tlabel: 66\tprediction: [1]57 [2]71 [3]88 [4]99 [5]64\t\n"
       ]
      },
      {
       "metadata": {},
       "output_type": "pyout",
       "prompt_number": 28,
       "text": [
        "idx: 635\tloss: 4.5433411598206\ttrain score: 4.4316666666667\tlabel: 100\tprediction: [1]57 [2]71 [3]88 [4]99 [5]64\t\n"
       ]
      },
      {
       "metadata": {},
       "output_type": "pyout",
       "prompt_number": 28,
       "text": [
        "idx: 640\tloss: 4.5247693061829\ttrain score: 5.68\tlabel: 60\tprediction: [1]57 [2]71 [3]88 [4]99 [5]64\t\n"
       ]
      },
      {
       "metadata": {},
       "output_type": "pyout",
       "prompt_number": 28,
       "text": [
        "idx: 645\tloss: 4.5276961326599\ttrain score: 5.4266666666667\tlabel: 3\tprediction: [1]57 [2]71 [3]88 [4]99 [5]64\t\n"
       ]
      },
      {
       "metadata": {},
       "output_type": "pyout",
       "prompt_number": 28,
       "text": [
        "idx: 650\tloss: 4.5290493965149\ttrain score: 5.0116666666667\tlabel: 31\tprediction: [1]67 [2]45 [3]81 [4]74 [5]66\t\n"
       ]
      },
      {
       "metadata": {},
       "output_type": "pyout",
       "prompt_number": 28,
       "text": [
        "idx: 655\tloss: 4.5366458892822\ttrain score: 5.7466666666667\tlabel: 17\tprediction: [1]57 [2]71 [3]88 [4]99 [5]64\t\n"
       ]
      },
      {
       "metadata": {},
       "output_type": "pyout",
       "prompt_number": 28,
       "text": [
        "idx: 660\tloss: 4.5300984382629\ttrain score: 5\tlabel: 18\tprediction: [1]57 [2]71 [3]88 [4]99 [5]70\t\n"
       ]
      },
      {
       "metadata": {},
       "output_type": "pyout",
       "prompt_number": 28,
       "text": [
        "idx: 665\tloss: 4.5337142944336\ttrain score: 4.3233333333333\tlabel: 77\tprediction: [1]57 [2]71 [3]88 [4]64 [5]99\t\n"
       ]
      },
      {
       "metadata": {},
       "output_type": "pyout",
       "prompt_number": 28,
       "text": [
        "idx: 670\tloss: 4.5310435295105\ttrain score: 4.9483333333333\tlabel: 73\tprediction: [1]57 [2]71 [3]64 [4]88 [5]99\t\n"
       ]
      },
      {
       "metadata": {},
       "output_type": "pyout",
       "prompt_number": 28,
       "text": [
        "idx: 675\tloss: 4.5372323989868\ttrain score: 5.035\tlabel: 83\tprediction: [1]57 [2]71 [3]88 [4]99 [5]64\t\n"
       ]
      },
      {
       "metadata": {},
       "output_type": "pyout",
       "prompt_number": 28,
       "text": [
        "idx: 680\tloss: 4.5283408164978\ttrain score: 5.8816666666667\tlabel: 37\tprediction: [1]57 [2]71 [3]88 [4]99 [5]64\t\n"
       ]
      },
      {
       "metadata": {},
       "output_type": "pyout",
       "prompt_number": 28,
       "text": [
        "idx: 685\tloss: 4.5196194648743\ttrain score: 5.86\tlabel: 3\tprediction: [1]72 [2]47 [3]30 [4]35 [5]13\t\n"
       ]
      },
      {
       "metadata": {},
       "output_type": "pyout",
       "prompt_number": 28,
       "text": [
        "idx: 690\tloss: 4.5408487319946\ttrain score: 4.71\tlabel: 52\tprediction: [1]35 [2]85 [3]44 [4]97 [5]55\t\n"
       ]
      },
      {
       "metadata": {},
       "output_type": "pyout",
       "prompt_number": 28,
       "text": [
        "idx: 695\tloss: 4.5294528007507\ttrain score: 5.3283333333333\tlabel: 8\tprediction: [1]57 [2]71 [3]88 [4]99 [5]64\t\n"
       ]
      },
      {
       "metadata": {},
       "output_type": "pyout",
       "prompt_number": 28,
       "text": [
        "idx: 700\tloss: 4.5398955345154\ttrain score: 4.0783333333333\tlabel: 65\tprediction: [1]89 [2]46 [3]25 [4]80 [5]2\t\n"
       ]
      },
      {
       "metadata": {},
       "output_type": "pyout",
       "prompt_number": 28,
       "text": [
        "idx: 705\tloss: 4.533399105072\ttrain score: 4.5833333333333\tlabel: 12\tprediction: [1]89 [2]25 [3]46 [4]2 [5]80\t\n"
       ]
      },
      {
       "metadata": {},
       "output_type": "pyout",
       "prompt_number": 28,
       "text": [
        "idx: 710\tloss: 4.5330653190613\ttrain score: 4.9266666666667\tlabel: 66\tprediction: [1]57 [2]71 [3]88 [4]99 [5]64\t\n"
       ]
      },
      {
       "metadata": {},
       "output_type": "pyout",
       "prompt_number": 28,
       "text": [
        "idx: 715\tloss: 4.5314154624939\ttrain score: 5.275\tlabel: 74\tprediction: [1]89 [2]25 [3]46 [4]2 [5]80\t\n"
       ]
      },
      {
       "metadata": {},
       "output_type": "pyout",
       "prompt_number": 28,
       "text": [
        "idx: 720\tloss: 4.5196032524109\ttrain score: 5.59\tlabel: 11\tprediction: [1]57 [2]71 [3]88 [4]99 [5]64\t\n"
       ]
      },
      {
       "metadata": {},
       "output_type": "pyout",
       "prompt_number": 28,
       "text": [
        "idx: 725\tloss: 4.5370440483093\ttrain score: 5.6966666666667\tlabel: 7\tprediction: [1]89 [2]25 [3]46 [4]2 [5]80\t\n"
       ]
      },
      {
       "metadata": {},
       "output_type": "pyout",
       "prompt_number": 28,
       "text": [
        "idx: 730\tloss: 4.5372800827026\ttrain score: 4.57\tlabel: 70\tprediction: [1]89 [2]25 [3]46 [4]2 [5]80\t\n"
       ]
      },
      {
       "metadata": {},
       "output_type": "pyout",
       "prompt_number": 28,
       "text": [
        "idx: 735\tloss: 4.5282697677612\ttrain score: 4.9216666666667\tlabel: 42\tprediction: [1]72 [2]47 [3]30 [4]35 [5]13\t\n"
       ]
      },
      {
       "metadata": {},
       "output_type": "pyout",
       "prompt_number": 28,
       "text": [
        "idx: 740\tloss: 4.5177669525146\ttrain score: 6.28\tlabel: 82\tprediction: [1]57 [2]71 [3]88 [4]99 [5]64\t\n"
       ]
      },
      {
       "metadata": {},
       "output_type": "pyout",
       "prompt_number": 28,
       "text": [
        "idx: 745\tloss: 4.530867099762\ttrain score: 5.8466666666667\tlabel: 20\tprediction: [1]57 [2]71 [3]88 [4]99 [5]64\t\n"
       ]
      },
      {
       "metadata": {},
       "output_type": "pyout",
       "prompt_number": 28,
       "text": [
        "idx: 750\tloss: 4.5434317588806\ttrain score: 4.0633333333333\tlabel: 85\tprediction: [1]57 [2]71 [3]88 [4]99 [5]64\t\n"
       ]
      },
      {
       "metadata": {},
       "output_type": "pyout",
       "prompt_number": 28,
       "text": [
        "idx: 755\tloss: 4.5255107879639\ttrain score: 5.1616666666667\tlabel: 77\tprediction: [1]57 [2]71 [3]88 [4]99 [5]64\t\n"
       ]
      },
      {
       "metadata": {},
       "output_type": "pyout",
       "prompt_number": 28,
       "text": [
        "idx: 760\tloss: 4.5243606567383\ttrain score: 4.5883333333333\tlabel: 30\tprediction: [1]57 [2]71 [3]88 [4]99 [5]70\t\n"
       ]
      },
      {
       "metadata": {},
       "output_type": "pyout",
       "prompt_number": 28,
       "text": [
        "idx: 765\tloss: 4.5351119041443\ttrain score: 4.9566666666667\tlabel: 100\tprediction: [1]57 [2]71 [3]64 [4]88 [5]99\t\n"
       ]
      },
      {
       "metadata": {},
       "output_type": "pyout",
       "prompt_number": 28,
       "text": [
        "idx: 770\tloss: 4.544397354126\ttrain score: 5.9733333333333\tlabel: 92\tprediction: [1]89 [2]25 [3]46 [4]2 [5]80\t\n"
       ]
      },
      {
       "metadata": {},
       "output_type": "pyout",
       "prompt_number": 28,
       "text": [
        "idx: 775\tloss: 4.5215220451355\ttrain score: 5.055\tlabel: 6\tprediction: [1]57 [2]71 [3]88 [4]99 [5]70\t\n"
       ]
      },
      {
       "metadata": {},
       "output_type": "pyout",
       "prompt_number": 28,
       "text": [
        "idx: 780\tloss: 4.5257115364075\ttrain score: 5.9683333333333\tlabel: 94\tprediction: [1]35 [2]85 [3]44 [4]97 [5]55\t\n"
       ]
      },
      {
       "metadata": {},
       "output_type": "pyout",
       "prompt_number": 28,
       "text": [
        "idx: 785\tloss: 4.5429272651672\ttrain score: 4.3616666666667\tlabel: 96\tprediction: [1]89 [2]25 [3]46 [4]2 [5]80\t\n"
       ]
      },
      {
       "metadata": {},
       "output_type": "pyout",
       "prompt_number": 28,
       "text": [
        "idx: 790\tloss: 4.5344567298889\ttrain score: 5.5416666666667\tlabel: 39\tprediction: [1]72 [2]47 [3]30 [4]13 [5]35\t\n"
       ]
      },
      {
       "metadata": {},
       "output_type": "pyout",
       "prompt_number": 28,
       "text": [
        "idx: 795\tloss: 4.534743309021\ttrain score: 5.56\tlabel: 38\tprediction: [1]89 [2]25 [3]46 [4]2 [5]80\t\n"
       ]
      },
      {
       "metadata": {},
       "output_type": "pyout",
       "prompt_number": 28,
       "text": [
        "idx: 800\tloss: 4.5250029563904\ttrain score: 4.4916666666667\tlabel: 24\tprediction: [1]72 [2]47 [3]30 [4]13 [5]35\t\n"
       ]
      },
      {
       "metadata": {},
       "output_type": "pyout",
       "prompt_number": 28,
       "text": [
        "idx: 805\tloss: 4.5269393920898\ttrain score: 4.5666666666667\tlabel: 26\tprediction: [1]57 [2]71 [3]88 [4]99 [5]70\t\n"
       ]
      },
      {
       "metadata": {},
       "output_type": "pyout",
       "prompt_number": 28,
       "text": [
        "idx: 810\tloss: 4.5324220657349\ttrain score: 4.4133333333333\tlabel: 7\tprediction: [1]57 [2]71 [3]88 [4]99 [5]70\t\n"
       ]
      },
      {
       "metadata": {},
       "output_type": "pyout",
       "prompt_number": 28,
       "text": [
        "idx: 815\tloss: 4.544002532959\ttrain score: 4.9816666666667\tlabel: 60\tprediction: [1]67 [2]45 [3]81 [4]74 [5]66\t\n"
       ]
      },
      {
       "metadata": {},
       "output_type": "pyout",
       "prompt_number": 28,
       "text": [
        "idx: 820\tloss: 4.5290126800537\ttrain score: 5.9383333333333\tlabel: 88\tprediction: [1]72 [2]47 [3]30 [4]13 [5]35\t\n"
       ]
      },
      {
       "metadata": {},
       "output_type": "pyout",
       "prompt_number": 28,
       "text": [
        "idx: 825\tloss: 4.5432910919189\ttrain score: 4.1783333333333\tlabel: 18\tprediction: [1]57 [2]71 [3]64 [4]88 [5]99\t\n"
       ]
      },
      {
       "metadata": {},
       "output_type": "pyout",
       "prompt_number": 28,
       "text": [
        "idx: 830\tloss: 4.5347561836243\ttrain score: 4.585\tlabel: 66\tprediction: [1]1 [2]67 [3]74 [4]97 [5]88\t\n"
       ]
      },
      {
       "metadata": {},
       "output_type": "pyout",
       "prompt_number": 28,
       "text": [
        "idx: 835\tloss: 4.5297932624817\ttrain score: 6.2833333333333\tlabel: 47\tprediction: [1]57 [2]71 [3]88 [4]99 [5]64\t\n"
       ]
      },
      {
       "metadata": {},
       "output_type": "pyout",
       "prompt_number": 28,
       "text": [
        "idx: 840\tloss: 4.5457301139832\ttrain score: 5.0533333333333\tlabel: 47\tprediction: [1]72 [2]47 [3]30 [4]13 [5]35\t\n"
       ]
      },
      {
       "metadata": {},
       "output_type": "pyout",
       "prompt_number": 28,
       "text": [
        "idx: 845\tloss: 4.5350780487061\ttrain score: 4.5933333333333\tlabel: 39\tprediction: [1]72 [2]47 [3]30 [4]35 [5]13\t\n"
       ]
      },
      {
       "metadata": {},
       "output_type": "pyout",
       "prompt_number": 28,
       "text": [
        "idx: 850\tloss: 4.5368514060974\ttrain score: 4.715\tlabel: 36\tprediction: [1]57 [2]88 [3]71 [4]64 [5]99\t\n"
       ]
      },
      {
       "metadata": {},
       "output_type": "pyout",
       "prompt_number": 28,
       "text": [
        "idx: 855\tloss: 4.5331010818481\ttrain score: 4.8766666666667\tlabel: 35\tprediction: [1]57 [2]71 [3]88 [4]99 [5]64\t\n"
       ]
      },
      {
       "metadata": {},
       "output_type": "pyout",
       "prompt_number": 28,
       "text": [
        "idx: 860\tloss: 4.5321273803711\ttrain score: 5.9\tlabel: 57\tprediction: [1]57 [2]71 [3]64 [4]88 [5]99\t\n"
       ]
      },
      {
       "metadata": {},
       "output_type": "pyout",
       "prompt_number": 28,
       "text": [
        "idx: 865\tloss: 4.5267462730408\ttrain score: 4.7016666666667\tlabel: 39\tprediction: [1]57 [2]71 [3]88 [4]99 [5]64\t\n"
       ]
      },
      {
       "metadata": {},
       "output_type": "pyout",
       "prompt_number": 28,
       "text": [
        "idx: 870\tloss: 4.5368680953979\ttrain score: 5.3283333333333\tlabel: 37\tprediction: [1]57 [2]71 [3]64 [4]88 [5]99\t\n"
       ]
      },
      {
       "metadata": {},
       "output_type": "pyout",
       "prompt_number": 28,
       "text": [
        "idx: 875\tloss: 4.5526623725891\ttrain score: 4.7316666666667\tlabel: 47\tprediction: [1]35 [2]64 [3]47 [4]59 [5]93\t\n"
       ]
      },
      {
       "metadata": {},
       "output_type": "pyout",
       "prompt_number": 28,
       "text": [
        "idx: 880\tloss: 4.5370588302612\ttrain score: 4.55\tlabel: 2\tprediction: [1]89 [2]25 [3]46 [4]2 [5]80\t\n"
       ]
      },
      {
       "metadata": {},
       "output_type": "pyout",
       "prompt_number": 28,
       "text": [
        "idx: 885\tloss: 4.5471334457397\ttrain score: 5.4966666666667\tlabel: 5\tprediction: [1]57 [2]71 [3]88 [4]99 [5]64\t\n"
       ]
      },
      {
       "metadata": {},
       "output_type": "pyout",
       "prompt_number": 28,
       "text": [
        "idx: 890\tloss: 4.5367794036865\ttrain score: 3.6033333333333\tlabel: 94\tprediction: [1]72 [2]47 [3]30 [4]13 [5]35\t\n"
       ]
      },
      {
       "metadata": {},
       "output_type": "pyout",
       "prompt_number": 28,
       "text": [
        "idx: 895\tloss: 4.5371446609497\ttrain score: 5.28\tlabel: 9\tprediction: [1]57 [2]71 [3]88 [4]99 [5]70\t\n"
       ]
      },
      {
       "metadata": {},
       "output_type": "pyout",
       "prompt_number": 28,
       "text": [
        "idx: 900\tloss: 4.5313563346863\ttrain score: 5.1716666666667\tlabel: 7\tprediction: [1]89 [2]25 [3]46 [4]2 [5]80\t\n"
       ]
      },
      {
       "metadata": {},
       "output_type": "pyout",
       "prompt_number": 28,
       "text": [
        "idx: 905\tloss: 4.5295448303223\ttrain score: 5.81\tlabel: 73\tprediction: [1]57 [2]71 [3]88 [4]99 [5]70\t\n"
       ]
      },
      {
       "metadata": {},
       "output_type": "pyout",
       "prompt_number": 28,
       "text": [
        "idx: 910\tloss: 4.5299196243286\ttrain score: 5.9366666666667\tlabel: 12\tprediction: [1]72 [2]47 [3]30 [4]13 [5]35\t\n"
       ]
      },
      {
       "metadata": {},
       "output_type": "pyout",
       "prompt_number": 28,
       "text": [
        "idx: 915\tloss: 4.5220975875854\ttrain score: 6.5033333333333\tlabel: 100\tprediction: [1]89 [2]25 [3]46 [4]2 [5]80\t\n"
       ]
      },
      {
       "metadata": {},
       "output_type": "pyout",
       "prompt_number": 28,
       "text": [
        "idx: 920\tloss: 4.5221014022827\ttrain score: 5.075\tlabel: 15\tprediction: [1]57 [2]71 [3]88 [4]99 [5]64\t\n"
       ]
      },
      {
       "metadata": {},
       "output_type": "pyout",
       "prompt_number": 28,
       "text": [
        "idx: 925\tloss: 4.5321254730225\ttrain score: 5.34\tlabel: 49\tprediction: [1]57 [2]71 [3]88 [4]99 [5]64\t\n"
       ]
      },
      {
       "metadata": {},
       "output_type": "pyout",
       "prompt_number": 28,
       "text": [
        "idx: 930\tloss: 4.5250468254089\ttrain score: 4.6\tlabel: 22\tprediction: [1]89 [2]25 [3]46 [4]2 [5]80\t\n"
       ]
      },
      {
       "metadata": {},
       "output_type": "pyout",
       "prompt_number": 28,
       "text": [
        "idx: 935\tloss: 4.5377316474915\ttrain score: 4.675\tlabel: 36\tprediction: [1]57 [2]71 [3]88 [4]99 [5]64\t\n"
       ]
      },
      {
       "metadata": {},
       "output_type": "pyout",
       "prompt_number": 28,
       "text": [
        "idx: 940\tloss: 4.5354471206665\ttrain score: 4.97\tlabel: 79\tprediction: [1]57 [2]88 [3]71 [4]64 [5]99\t\n"
       ]
      },
      {
       "metadata": {},
       "output_type": "pyout",
       "prompt_number": 28,
       "text": [
        "idx: 945\tloss: 4.5317831039429\ttrain score: 5.9516666666667\tlabel: 3\tprediction: [1]72 [2]47 [3]30 [4]13 [5]35\t\n"
       ]
      },
      {
       "metadata": {},
       "output_type": "pyout",
       "prompt_number": 28,
       "text": [
        "idx: 950\tloss: 4.5227160453796\ttrain score: 5.47\tlabel: 52\tprediction: [1]89 [2]25 [3]46 [4]2 [5]80\t\n"
       ]
      },
      {
       "metadata": {},
       "output_type": "pyout",
       "prompt_number": 28,
       "text": [
        "idx: 955\tloss: 4.5369443893433\ttrain score: 4.1483333333333\tlabel: 61\tprediction: [1]89 [2]25 [3]46 [4]2 [5]80\t\n"
       ]
      },
      {
       "metadata": {},
       "output_type": "pyout",
       "prompt_number": 28,
       "text": [
        "idx: 960\tloss: 4.5201797485352\ttrain score: 5.5533333333333\tlabel: 99\tprediction: [1]57 [2]71 [3]88 [4]99 [5]64\t\n"
       ]
      },
      {
       "metadata": {},
       "output_type": "pyout",
       "prompt_number": 28,
       "text": [
        "idx: 965\tloss: 4.5432314872742\ttrain score: 4.6716666666667\tlabel: 45\tprediction: [1]57 [2]71 [3]88 [4]99 [5]64\t\n"
       ]
      },
      {
       "metadata": {},
       "output_type": "pyout",
       "prompt_number": 28,
       "text": [
        "idx: 970\tloss: 4.5292954444885\ttrain score: 5.1266666666667\tlabel: 39\tprediction: [1]72 [2]47 [3]35 [4]30 [5]13\t\n"
       ]
      },
      {
       "metadata": {},
       "output_type": "pyout",
       "prompt_number": 28,
       "text": [
        "idx: 975\tloss: 4.5437088012695\ttrain score: 5.1333333333333\tlabel: 14\tprediction: [1]89 [2]25 [3]46 [4]2 [5]80\t\n"
       ]
      },
      {
       "metadata": {},
       "output_type": "pyout",
       "prompt_number": 28,
       "text": [
        "idx: 980\tloss: 4.5272536277771\ttrain score: 4.7583333333333\tlabel: 72\tprediction: [1]72 [2]47 [3]30 [4]13 [5]35\t\n"
       ]
      },
      {
       "metadata": {},
       "output_type": "pyout",
       "prompt_number": 28,
       "text": [
        "idx: 985\tloss: 4.5343770980835\ttrain score: 5.53\tlabel: 78\tprediction: [1]57 [2]71 [3]88 [4]99 [5]64\t\n"
       ]
      },
      {
       "metadata": {},
       "output_type": "pyout",
       "prompt_number": 28,
       "text": [
        "idx: 990\tloss: 4.5234847068787\ttrain score: 5.6933333333333\tlabel: 2\tprediction: [1]89 [2]25 [3]46 [4]2 [5]80\t\n"
       ]
      },
      {
       "metadata": {},
       "output_type": "pyout",
       "prompt_number": 28,
       "text": [
        "idx: 995\tloss: 4.5154476165771\ttrain score: 6.26\tlabel: 65\tprediction: [1]89 [2]25 [3]46 [4]2 [5]80\t\n"
       ]
      },
      {
       "metadata": {},
       "output_type": "pyout",
       "prompt_number": 28,
       "text": [
        "current LR: 0.0025\t\n"
       ]
      },
      {
       "metadata": {},
       "output_type": "pyout",
       "prompt_number": 28,
       "text": [
        "idx: 1000\tloss: 4.5269603729248\ttrain score: 5.1666666666667\tlabel: 77\tprediction: [1]57 [2]71 [3]88 [4]99 [5]70\t\n"
       ]
      },
      {
       "metadata": {},
       "output_type": "pyout",
       "prompt_number": 28,
       "text": [
        "idx: 1005\tloss: 4.5321288108826\ttrain score: 6.1716666666667\tlabel: 43\tprediction: [1]67 [2]45 [3]81 [4]74 [5]66\t\n"
       ]
      },
      {
       "metadata": {},
       "output_type": "pyout",
       "prompt_number": 28,
       "text": [
        "idx: 1010\tloss: 4.5446510314941\ttrain score: 4.0316666666667\tlabel: 56\tprediction: [1]57 [2]71 [3]88 [4]99 [5]64\t\n"
       ]
      },
      {
       "metadata": {},
       "output_type": "pyout",
       "prompt_number": 28,
       "text": [
        "idx: 1015\tloss: 4.5297780036926\ttrain score: 5.335\tlabel: 42\t"
       ]
      },
      {
       "metadata": {},
       "output_type": "pyout",
       "prompt_number": 28,
       "text": [
        "prediction: [1]57 [2]71 [3]88 [4]99 [5]64\t\n"
       ]
      },
      {
       "metadata": {},
       "output_type": "pyout",
       "prompt_number": 28,
       "text": [
        "idx: 1020\tloss: 4.536205291748\ttrain score: 5.4483333333333\tlabel: 27\tprediction: [1]57 [2]71 [3]88 [4]99 [5]64\t\n"
       ]
      },
      {
       "metadata": {},
       "output_type": "pyout",
       "prompt_number": 28,
       "text": [
        "idx: 1025\tloss: 4.5338521003723\ttrain score: 5.765\tlabel: 90\tprediction: [1]57 [2]71 [3]88 [4]99 [5]70\t\n"
       ]
      },
      {
       "metadata": {},
       "output_type": "pyout",
       "prompt_number": 28,
       "text": [
        "idx: 1030\tloss: 4.5473222732544\ttrain score: 4.3733333333333\tlabel: 46\tprediction: [1]89 [2]25 [3]46 [4]2 [5]80\t\n"
       ]
      },
      {
       "metadata": {},
       "output_type": "pyout",
       "prompt_number": 28,
       "text": [
        "idx: 1035\tloss: 4.5146074295044\ttrain score: 5.4583333333333\tlabel: 13\tprediction: [1]57 [2]71 [3]88 [4]99 [5]64\t\n"
       ]
      },
      {
       "metadata": {},
       "output_type": "pyout",
       "prompt_number": 28,
       "text": [
        "idx: 1040\tloss: 4.5299777984619\ttrain score: 6.0416666666667\tlabel: 51\tprediction: [1]89 [2]25 [3]46 [4]2 [5]80\t\n"
       ]
      },
      {
       "metadata": {},
       "output_type": "pyout",
       "prompt_number": 28,
       "text": [
        "idx: 1045\tloss: 4.5422606468201\ttrain score: 4.855\tlabel: 17\tprediction: [1]57 [2]88 [3]71 [4]64 [5]99\t\n"
       ]
      },
      {
       "metadata": {},
       "output_type": "pyout",
       "prompt_number": 28,
       "text": [
        "idx: 1050\tloss: 4.5163116455078\ttrain score: 6.3533333333333\tlabel: 78\tprediction: [1]72 [2]47 [3]30 [4]13 [5]35\t\n"
       ]
      },
      {
       "metadata": {},
       "output_type": "pyout",
       "prompt_number": 28,
       "text": [
        "idx: 1055\tloss: 4.5132656097412\ttrain score: 5.9533333333333\tlabel: 76\tprediction: [1]57 [2]71 [3]88 [4]99 [5]64\t\n"
       ]
      },
      {
       "metadata": {},
       "output_type": "pyout",
       "prompt_number": 28,
       "text": [
        "idx: 1060\tloss: 4.5483536720276\ttrain score: 5.61\tlabel: 16\tprediction: [1]57 [2]71 [3]64 [4]88 [5]99\t\n"
       ]
      },
      {
       "metadata": {},
       "output_type": "pyout",
       "prompt_number": 28,
       "text": [
        "idx: 1065\tloss: 4.524923324585\ttrain score: 6.0716666666667\tlabel: 33\tprediction: [1]57 [2]71 [3]88 [4]99 [5]64\t\n"
       ]
      },
      {
       "metadata": {},
       "output_type": "pyout",
       "prompt_number": 28,
       "text": [
        "idx: 1070\tloss: 4.5259346961975\ttrain score: 5.2783333333333\tlabel: 7\tprediction: [1]89 [2]25 [3]46 [4]2 [5]80\t\n"
       ]
      },
      {
       "metadata": {},
       "output_type": "pyout",
       "prompt_number": 28,
       "text": [
        "idx: 1075\tloss: 4.5273838043213\ttrain score: 4.97\tlabel: 70\tprediction: [1]57 [2]71 [3]88 [4]99 [5]64\t\n"
       ]
      },
      {
       "metadata": {},
       "output_type": "pyout",
       "prompt_number": 28,
       "text": [
        "idx: 1080\tloss: 4.5257363319397\ttrain score: 5.7783333333333\tlabel: 54\tprediction: [1]72 [2]47 [3]30 [4]35 [5]13\t\n"
       ]
      },
      {
       "metadata": {},
       "output_type": "pyout",
       "prompt_number": 28,
       "text": [
        "idx: 1085\tloss: 4.5268359184265\ttrain score: 5.435\tlabel: 3\tprediction: [1]57 [2]71 [3]88 [4]99 [5]70\t\n"
       ]
      },
      {
       "metadata": {},
       "output_type": "pyout",
       "prompt_number": 28,
       "text": [
        "idx: 1090\tloss: 4.5490832328796\ttrain score: 3.9516666666667\tlabel: 4\tprediction: [1]72 [2]47 [3]30 [4]35 [5]13\t\n"
       ]
      },
      {
       "metadata": {},
       "output_type": "pyout",
       "prompt_number": 28,
       "text": [
        "idx: 1095\tloss: 4.5270819664001\ttrain score: 4.8616666666667\tlabel: 49\tprediction: [1]57 [2]71 [3]88 [4]99 [5]64\t\n"
       ]
      },
      {
       "metadata": {},
       "output_type": "pyout",
       "prompt_number": 28,
       "text": [
        "idx: 1100\tloss: 4.5224623680115\ttrain score: 4.5666666666667\tlabel: 65\tprediction: [1]57 [2]71 [3]88 [4]99 [5]64\t\n"
       ]
      }
     ],
     "prompt_number": 28
    }
   ],
   "metadata": {}
  }
 ]
}