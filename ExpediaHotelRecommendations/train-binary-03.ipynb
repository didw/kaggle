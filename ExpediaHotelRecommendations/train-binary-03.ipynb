{
 "metadata": {
  "language": "lua",
  "name": "",
  "signature": "sha256:d7423c98df53e87154d2ad2942be0d8acc85b4da18c4748791f7c962175548a3"
 },
 "nbformat": 3,
 "nbformat_minor": 0,
 "worksheets": [
  {
   "cells": [
    {
     "cell_type": "code",
     "collapsed": false,
     "input": [
      "require 'torch';\n",
      "require 'nn';\n",
      "require 'cutorch';\n",
      "require 'cunn';\n",
      "require 'cudnn';"
     ],
     "language": "python",
     "metadata": {},
     "outputs": [],
     "prompt_number": 1
    },
    {
     "cell_type": "markdown",
     "metadata": {},
     "source": [
      "### Split data"
     ]
    },
    {
     "cell_type": "code",
     "collapsed": false,
     "input": [
      "function split(str, pat)\n",
      "   local t = {}  -- NOTE: use {n = 0} in Lua-5.0\n",
      "   local fpat = \"(.-)\" .. pat\n",
      "   local last_end = 1\n",
      "   local s, e, cap = str:find(fpat, 1)\n",
      "   while s do\n",
      "      if s ~= 1 or cap ~= \"\" then\n",
      "         table.insert(t,cap)\n",
      "      end\n",
      "      last_end = e+1\n",
      "      s, e, cap = str:find(fpat, last_end)\n",
      "   end\n",
      "   if last_end <= #str then\n",
      "      cap = str:sub(last_end)\n",
      "      table.insert(t, cap)\n",
      "   end\n",
      "   return t\n",
      "end"
     ],
     "language": "python",
     "metadata": {},
     "outputs": [],
     "prompt_number": 2
    },
    {
     "cell_type": "markdown",
     "metadata": {},
     "source": [
      "## Conver Data"
     ]
    },
    {
     "cell_type": "markdown",
     "metadata": {},
     "source": [
      "### 1. To get week number"
     ]
    },
    {
     "cell_type": "code",
     "collapsed": false,
     "input": [
      "function getYearBeginDayOfWeek(tm)\n",
      "  yearBegin = os.time{year=os.date(\"*t\",tm).year,month=1,day=1}\n",
      "  yearBeginDayOfWeek = tonumber(os.date(\"%w\",yearBegin))\n",
      "  -- sunday correct from 0 -> 7\n",
      "  if(yearBeginDayOfWeek == 0) then yearBeginDayOfWeek = 7 end\n",
      "  return yearBeginDayOfWeek\n",
      "end\n",
      "function getDayAdd(tm)\n",
      "  yearBeginDayOfWeek = getYearBeginDayOfWeek(tm)\n",
      "  if(yearBeginDayOfWeek < 5 ) then\n",
      "    -- first day is week 1\n",
      "    dayAdd = (yearBeginDayOfWeek - 2)\n",
      "  else \n",
      "    -- first day is week 52 or 53\n",
      "    dayAdd = (yearBeginDayOfWeek - 9)\n",
      "  end  \n",
      "  return dayAdd\n",
      "end\n",
      "function getWeekNumberOfYear(tm)\n",
      "  dayOfYear = os.date(\"%j\",tm)\n",
      "  dayAdd = getDayAdd(tm)\n",
      "  dayOfYearCorrected = dayOfYear + dayAdd\n",
      "  if(dayOfYearCorrected < 0) then\n",
      "    -- week of last year - decide if 52 or 53\n",
      "    lastYearBegin = os.time{year=os.date(\"*t\",tm).year-1,month=1,day=1}\n",
      "    lastYearEnd = os.time{year=os.date(\"*t\",tm).year-1,month=12,day=31}\n",
      "    dayAdd = getDayAdd(lastYearBegin)\n",
      "    dayOfYear = dayOfYear + os.date(\"%j\",lastYearEnd)\n",
      "    dayOfYearCorrected = dayOfYear + dayAdd\n",
      "  end  \n",
      "  weekNum = math.floor((dayOfYearCorrected) / 7) + 1\n",
      "  if( (dayOfYearCorrected > 0) and weekNum == 53) then\n",
      "    -- check if it is not considered as part of week 1 of next year\n",
      "    nextYearBegin = os.time{year=os.date(\"*t\",tm).year+1,month=1,day=1}\n",
      "    yearBeginDayOfWeek = getYearBeginDayOfWeek(nextYearBegin)\n",
      "    if(yearBeginDayOfWeek < 5 ) then\n",
      "      weekNum = 1\n",
      "    end  \n",
      "  end  \n",
      "  return weekNum\n",
      "end"
     ],
     "language": "python",
     "metadata": {},
     "outputs": [],
     "prompt_number": 3
    },
    {
     "cell_type": "code",
     "collapsed": false,
     "input": [
      "function __getWeekday(tm)\n",
      "    return os.date(\"*t\",tm).wday\n",
      "end"
     ],
     "language": "python",
     "metadata": {},
     "outputs": [],
     "prompt_number": 4
    },
    {
     "cell_type": "code",
     "collapsed": false,
     "input": [
      "function getWeekday(input)\n",
      "    dates = split(input, \"-\")\n",
      "    if table.getn(dates) ~= 3 then\n",
      "        return -1\n",
      "    end\n",
      "    useDate = os.time{year=dates[1],month=dates[2],day=dates[3]}\n",
      "    return __getWeekday(useDate)\n",
      "end"
     ],
     "language": "python",
     "metadata": {},
     "outputs": [],
     "prompt_number": 5
    },
    {
     "cell_type": "code",
     "collapsed": false,
     "input": [
      "function getLengthStay(checkin, checkout)\n",
      "    local dIn= split(checkin, \"-\")\n",
      "    local dOut= split(checkout, \"-\")\n",
      "    if table.getn(dIn) ~= 3 or table.getn(dOut) ~= 3 then\n",
      "        return -1\n",
      "    end\n",
      "    local useDateIn = os.time{year=dIn[1],month=dIn[2],day=dIn[3]}\n",
      "    local useDateOut = os.time{year=dOut[1],month=dOut[2],day=dOut[3]}\n",
      "    local days = (useDateOut - useDateIn)/(24*60*60)\n",
      "    if days > 30 then\n",
      "        days = 30\n",
      "    end\n",
      "    return days\n",
      "end"
     ],
     "language": "python",
     "metadata": {},
     "outputs": [],
     "prompt_number": 6
    },
    {
     "cell_type": "code",
     "collapsed": false,
     "input": [
      "function isIncludeWeekend(checkin, checkout)\n",
      "    local dIn= split(checkin, \"-\")\n",
      "    local dOut= split(checkout, \"-\")\n",
      "    if table.getn(dIn) ~= 3 or table.getn(dOut) ~= 3 then\n",
      "        return -1\n",
      "    end\n",
      "    if getLengthStay(checkin, checkout) > 7 then\n",
      "        return 1\n",
      "    end\n",
      "    local useDateIn = os.time{year=dIn[1],month=dIn[2],day=dIn[3]}\n",
      "    local useDateOut = os.time{year=dOut[1],month=dOut[2],day=dOut[3]}\n",
      "    date = useDateIn\n",
      "    while date < useDateOut do\n",
      "        if __getWeekday(date) == 6 or __getWeekday(date) == 7 then return 1 end\n",
      "        date = date + 24 * 60 * 60\n",
      "    end\n",
      "    return 0\n",
      "end"
     ],
     "language": "python",
     "metadata": {},
     "outputs": [],
     "prompt_number": 7
    },
    {
     "cell_type": "code",
     "collapsed": false,
     "input": [
      "print(isIncludeWeekend(\"2016-05-20\", \"2016-05-21\"))"
     ],
     "language": "python",
     "metadata": {},
     "outputs": [],
     "prompt_number": 8
    },
    {
     "cell_type": "code",
     "collapsed": false,
     "input": [
      "function getDate(input)\n",
      "    dates = split(input, \"-\")\n",
      "    if table.getn(dates) ~= 3 then\n",
      "        return -1\n",
      "    end\n",
      "    useDate = os.time{year=dates[1],month=dates[2],day=dates[3]}\n",
      "    weekNum = getWeekNumberOfYear(useDate)\n",
      "    return weekNum\n",
      "end"
     ],
     "language": "python",
     "metadata": {},
     "outputs": [],
     "prompt_number": 9
    },
    {
     "cell_type": "markdown",
     "metadata": {},
     "source": [
      "### 2. onehot"
     ]
    },
    {
     "cell_type": "code",
     "collapsed": false,
     "input": [
      "function onehot(tab, value, len)\n",
      "    if value == nil then\n",
      "        value = 0\n",
      "    end\n",
      "    for i=1,len do\n",
      "        if i==tonumber(value) then\n",
      "            table.insert(tab, 1)\n",
      "        else\n",
      "            table.insert(tab, 0)\n",
      "        end\n",
      "    end\n",
      "end"
     ],
     "language": "python",
     "metadata": {},
     "outputs": [],
     "prompt_number": 10
    },
    {
     "cell_type": "code",
     "collapsed": false,
     "input": [
      "function onehot_range(data, value, len, step)\n",
      "    if value == nil then\n",
      "        value = 0\n",
      "    end\n",
      "    for i=1,len do\n",
      "        if tonumber(value) > i*tonumber(step) then\n",
      "            table.insert(data, 0)\n",
      "        else\n",
      "            table.insert(data, 1)\n",
      "            value = len * (step + 1)\n",
      "        end\n",
      "    end\n",
      "end"
     ],
     "language": "python",
     "metadata": {},
     "outputs": [],
     "prompt_number": 11
    },
    {
     "cell_type": "markdown",
     "metadata": {},
     "source": [
      "### 3. binary"
     ]
    },
    {
     "cell_type": "code",
     "collapsed": false,
     "input": [
      "function binary(data, value, len)\n",
      "    while len > 0 do\n",
      "        if value % 2 == 1 then\n",
      "            table.insert(data, 0.5)\n",
      "        else\n",
      "            table.insert(data, -0.5)\n",
      "        end\n",
      "        value = value / 2\n",
      "        len = (len / 2) - (len / 2)%1\n",
      "    end\n",
      "end"
     ],
     "language": "python",
     "metadata": {},
     "outputs": [],
     "prompt_number": 12
    },
    {
     "cell_type": "markdown",
     "metadata": {},
     "source": [
      "### 4. dest info"
     ]
    },
    {
     "cell_type": "code",
     "collapsed": false,
     "input": [
      "fileName = 'data/destinations.csv'\n",
      "\n",
      "info_sum = {}\n",
      "info_mean = {}\n",
      "info_std = {}\n",
      "N = 1\n",
      "head = 1\n",
      "for i=1,149 do table.insert(info_sum, 0) end\n",
      "for line in io.lines ( fileName ) do \n",
      "    if head == 1 then\n",
      "        head = 0\n",
      "    else\n",
      "        destdata = split(line, ',')\n",
      "        for j=1,149 do\n",
      "            info_sum[j] = info_sum[j] + tonumber(destdata[j+1])\n",
      "        end\n",
      "        N = N + 1\n",
      "    end\n",
      "end\n",
      "\n",
      "for i=1,149 do info_mean[i] = info_sum[i] / N end\n",
      "\n",
      "info_sum = {}\n",
      "N = 1\n",
      "head = 1\n",
      "for i=1,149 do table.insert(info_sum, 0) end\n",
      "for line in io.lines ( fileName ) do \n",
      "    if head == 1 then\n",
      "        head = 0\n",
      "    else\n",
      "        destdata = split(line, ',')\n",
      "        for j=1,149 do\n",
      "            info_sum[j] = info_sum[j] + (tonumber(destdata[j+1]) - info_mean[j]) * (tonumber(destdata[j+1]) - info_mean[j])\n",
      "        end\n",
      "        N = N + 1\n",
      "    end\n",
      "end\n",
      "\n",
      "for i=1,149 do info_std[i] = math.sqrt(info_sum[i] / N) end"
     ],
     "language": "python",
     "metadata": {},
     "outputs": [],
     "prompt_number": 13
    },
    {
     "cell_type": "code",
     "collapsed": false,
     "input": [
      "destInfo = {}\n",
      "i = 0\n",
      "head = 1\n",
      "nEmpty = 0\n",
      "empty_row = {}\n",
      "for j=1,149 do\n",
      "    table.insert(empty_row, 0)\n",
      "end\n",
      "for line in io.lines ( fileName ) do \n",
      "    if head == 1 then\n",
      "        head = 0\n",
      "    else\n",
      "        destdata = split(line, ',')\n",
      "        while tonumber(destdata[1]) ~= i do\n",
      "            --print('Empty line => destdata[1]: ' .. destdata[1], 'i: ' .. i)\n",
      "            table.insert(destInfo, empty_row)\n",
      "            i = i + 1\n",
      "            nEmpty = nEmpty + 1\n",
      "        end\n",
      "        row = {}\n",
      "        for j=1,149 do\n",
      "            table.insert(row, (destdata[j+1] - info_mean[j]) / info_std[j])\n",
      "        end\n",
      "        table.insert(destInfo, row)\n",
      "        if tonumber(destdata[1]) ~= i then\n",
      "            --print('Not Matched => destdata[1]: ' .. destdata[1], 'i: ' .. i)\n",
      "        end\n",
      "        i = i + 1\n",
      "    end\n",
      "end\n",
      "\n",
      "for i=1,1000 do table.insert(destInfo, empty_row) end\n",
      "print('nEmpty:' .. nEmpty)"
     ],
     "language": "python",
     "metadata": {},
     "outputs": [
      {
       "metadata": {},
       "output_type": "pyout",
       "prompt_number": 14,
       "text": [
        "nEmpty:2888\t\n"
       ]
      }
     ],
     "prompt_number": 14
    },
    {
     "cell_type": "code",
     "collapsed": false,
     "input": [
      "function addDestinationInfo(data, value)\n",
      "    for i=1,149 do\n",
      "        table.insert(data, destInfo[value][i])\n",
      "    end\n",
      "end"
     ],
     "language": "python",
     "metadata": {},
     "outputs": [],
     "prompt_number": 15
    },
    {
     "cell_type": "markdown",
     "metadata": {},
     "source": [
      "### Data normalize"
     ]
    },
    {
     "cell_type": "code",
     "collapsed": false,
     "input": [
      "distMean = 0\n",
      "distsum = 0\n",
      "data = loadData(1000)\n",
      "N = 0\n",
      "for i=1,1000 do \n",
      "    if data[i][4] ~= 0 then \n",
      "        N = N + 1; distsum = distsum + data[i][4] \n",
      "    end \n",
      "end\n",
      "distMean = distsum / N\n",
      "print(distsum)\n",
      "print(distMean)\n",
      "distsum = 0\n",
      "for i=1,1000 do \n",
      "    if data[i][4] ~= 0 then \n",
      "        N = N + 1; distsum = distsum + (data[i][4] -distMean)*(data[i][4] -distMean)\n",
      "    end \n",
      "end\n",
      "print(math.sqrt(distsum / N))"
     ],
     "language": "python",
     "metadata": {},
     "outputs": [
      {
       "ename": "[string \"distMean = 0...\"]:3: attempt to call global 'loadData' (a nil value)\nstack traceback:\n\t[string \"distMean = 0...\"]:3: in main chunk\n\t[C]: in function 'xpcall'\n\t/root/torch/install/share/lua/5.1/itorch/main.lua:179: in function </root/torch/install/share/lua/5.1/itorch/main.lua:143>\n\t/root/torch/install/share/lua/5.1/lzmq/poller.lua:75: in function 'poll'\n\t/root/torch/install/share/lua/5.1/lzmq/impl/loop.lua:307: in function 'poll'\n\t/root/torch/install/share/lua/5.1/lzmq/impl/loop.lua:325: in function 'sleep_ex'\n\t/root/torch/install/share/lua/5.1/lzmq/impl/loop.lua:370: in function 'start'\n\t/root/torch/install/share/lua/5.1/itorch/main.lua:350: in main chunk\n\t[C]: in function 'require'\n\t(command line):1: in main chunk\n\t[C]: at 0x00406670",
       "evalue": "",
       "output_type": "pyerr",
       "traceback": [
        "[string \"distMean = 0...\"]:3: attempt to call global 'loadData' (a nil value)\nstack traceback:\n\t[string \"distMean = 0...\"]:3: in main chunk\n\t[C]: in function 'xpcall'\n\t/root/torch/install/share/lua/5.1/itorch/main.lua:179: in function </root/torch/install/share/lua/5.1/itorch/main.lua:143>\n\t/root/torch/install/share/lua/5.1/lzmq/poller.lua:75: in function 'poll'\n\t/root/torch/install/share/lua/5.1/lzmq/impl/loop.lua:307: in function 'poll'\n\t/root/torch/install/share/lua/5.1/lzmq/impl/loop.lua:325: in function 'sleep_ex'\n\t/root/torch/install/share/lua/5.1/lzmq/impl/loop.lua:370: in function 'start'\n\t/root/torch/install/share/lua/5.1/itorch/main.lua:350: in main chunk\n\t[C]: in function 'require'\n\t(command line):1: in main chunk\n\t[C]: at 0x00406670"
       ]
      }
     ],
     "prompt_number": 16
    },
    {
     "cell_type": "code",
     "collapsed": false,
     "input": [
      "data = loadData(1000)\n",
      "for i=1,1000 do\n",
      "    getLengthStay"
     ],
     "language": "python",
     "metadata": {},
     "outputs": [
      {
       "ename": "[string \"data = loadData(1000)...\"]:4: '=' expected near '<eof>'",
       "evalue": "",
       "output_type": "pyerr",
       "traceback": [
        "[string \"data = loadData(1000)...\"]:4: '=' expected near '<eof>'"
       ]
      }
     ],
     "prompt_number": 17
    },
    {
     "cell_type": "markdown",
     "metadata": {},
     "source": [
      "### Convert input to data"
     ]
    },
    {
     "cell_type": "code",
     "collapsed": false,
     "input": [
      "function tableToOutput(dataTable, scalarTable)\n",
      "   local data, scalarLabels, labels\n",
      "   local quantity = #scalarTable\n",
      "   local size = #dataTable[1]\n",
      "   data = torch.Tensor(quantity, size)\n",
      "   scalarLabels = torch.LongTensor(quantity):fill(-1111)\n",
      "   for i=1,#dataTable do\n",
      "      for j=1,#dataTable[1] do\n",
      "         data[i][j] = dataTable[i][j]\n",
      "      end\n",
      "      scalarLabels[i] = scalarTable[i]\n",
      "   end\n",
      "   return data, scalarLabels\n",
      "end"
     ],
     "language": "python",
     "metadata": {},
     "outputs": [],
     "prompt_number": 18
    },
    {
     "cell_type": "code",
     "collapsed": false,
     "input": [
      "function dataConvert(line)\n",
      "    if line == nil then\n",
      "        print('line is empty')\n",
      "    end\n",
      "    words = split(line, \",\")\n",
      "    data = {}\n",
      "    aa = split(words[1], ' ')[1]\n",
      "    binary(data, tonumber(getDate(aa)), 53) --1\n",
      "    binary(data, getDate(words[12]), 53) --12\n",
      "    binary(data, getDate(words[13]), 53) --13\n",
      "    \n",
      "    binary(data, getWeekday(aa), 7)\n",
      "    table.insert(data, isIncludeWeekend(words[12], words[13])-0.5)\n",
      "    binary(data, getLengthStay(words[12], words[13]), 30)\n",
      "    \n",
      "    if tonumber(words[7]) == nil then\n",
      "        binary(data, 0, 3600) -- distance\n",
      "    else\n",
      "        binary(data, tonumber(words[7]), 3600) -- distance\n",
      "    end\n",
      "    table.insert(data, tonumber(words[9])-0.5)\n",
      "    table.insert(data, tonumber(words[10])-0.5)\n",
      "    table.insert(data, tonumber(words[20])-0.5)\n",
      "        \n",
      "    binary(data, words[2], 54)\n",
      "    binary(data, words[3], 5)\n",
      "    binary(data, words[4], 240)\n",
      "    binary(data, words[5], 1028)\n",
      "    binary(data, words[6], 56509)\n",
      "    binary(data, words[11], 11)\n",
      "    binary(data, words[14], 10)\n",
      "    binary(data, words[15], 10)\n",
      "    binary(data, words[16], 9)\n",
      "    binary(data, words[18], 10)\n",
      "    binary(data, words[21], 7)\n",
      "    binary(data, words[22], 213)\n",
      "    binary(data, words[23], 2118)\n",
      "    \n",
      "    -- destination information (17)\n",
      "    addDestinationInfo(data, tonumber(words[17]))\n",
      "    \n",
      "    return data\n",
      "end"
     ],
     "language": "python",
     "metadata": {},
     "outputs": [],
     "prompt_number": 19
    },
    {
     "cell_type": "code",
     "collapsed": false,
     "input": [
      "function testdataConvert(line)\n",
      "    if line == nil then\n",
      "        print('line is empty')\n",
      "    end\n",
      "    words = split(line, \",\")\n",
      "    data = {}\n",
      "    aa = split(words[2], ' ')[1]\n",
      "    binary(data, tonumber(getDate(aa)), 53) --1\n",
      "    binary(data, getDate(words[13]), 53) --12\n",
      "    binary(data, getDate(words[14]), 53) --13\n",
      "    \n",
      "    binary(data, getWeekday(aa), 7)\n",
      "    table.insert(data, isIncludeWeekend(words[13], words[14])-0.5)\n",
      "    binary(data, getLengthStay(words[13], words[14]), 30)\n",
      "    \n",
      "    if tonumber(words[8]) == nil then\n",
      "        binary(data, 0, 3600) -- distance\n",
      "    else\n",
      "        binary(data, tonumber(words[8]), 3600) -- distance\n",
      "    end\n",
      "    table.insert(data, tonumber(words[10])-0.5)\n",
      "    table.insert(data, tonumber(words[11])-0.5)\n",
      "    table.insert(data, 0.5)\n",
      "        \n",
      "    binary(data, words[3], 54)\n",
      "    binary(data, words[4], 5)\n",
      "    binary(data, words[5], 240)\n",
      "    binary(data, words[6], 1028)\n",
      "    binary(data, words[7], 56509)\n",
      "    binary(data, words[12], 11)\n",
      "    binary(data, words[15], 10)\n",
      "    binary(data, words[16], 10)\n",
      "    binary(data, words[17], 9)\n",
      "    binary(data, words[19], 10)\n",
      "    binary(data, words[20], 7)\n",
      "    binary(data, words[21], 213)\n",
      "    binary(data, words[22], 2118)\n",
      "    \n",
      "    -- destination information (17)\n",
      "    addDestinationInfo(data, tonumber(words[18]))\n",
      "    \n",
      "    return data\n",
      "end"
     ],
     "language": "python",
     "metadata": {},
     "outputs": [],
     "prompt_number": 20
    },
    {
     "cell_type": "markdown",
     "metadata": {},
     "source": [
      "### Build model"
     ]
    },
    {
     "cell_type": "code",
     "collapsed": false,
     "input": [
      "model = nn.Sequential()\n",
      "-- for onehot inputsize: 3871\n",
      "model:add(nn.Linear(278, 1024))\n",
      "model:add(nn.Threshold(0, 1e-6))\n",
      "model:add(nn.ReLU())\n",
      "model:add(nn.Linear(1024, 256))\n",
      "model:add(nn.Threshold(0, 1e-6))\n",
      "model:add(nn.ReLU())\n",
      "model:add(nn.Linear(256, 100))\n",
      "model:add(nn.Sigmoid())\n",
      "model = model:cuda()\n",
      "\n",
      "params, grad_params = model:getParameters()\n",
      "crit = nn.CrossEntropyCriterion()\n",
      "crit = crit:cuda()"
     ],
     "language": "python",
     "metadata": {},
     "outputs": [],
     "prompt_number": 21
    },
    {
     "cell_type": "markdown",
     "metadata": {},
     "source": [
      "model = nn.Sequential()\n",
      "-- for onehot inputsize: 3871\n",
      "model:add(nn.Linear(252, 1024))\n",
      "model:add(nn.Sigmoid())\n",
      "model:add(nn.Linear(1024, 2048))\n",
      "model:add(nn.Sigmoid())\n",
      "model:add(nn.Linear(2048, 4096))\n",
      "model:add(nn.Sigmoid())\n",
      "model:add(nn.Linear(4096, 100))\n",
      "model = model:cuda()\n",
      "\n",
      "params, grad_params = model:getParameters()\n",
      "crit = nn.CrossEntropyCriterion()\n",
      "crit = crit:cuda()"
     ]
    },
    {
     "cell_type": "markdown",
     "metadata": {},
     "source": [
      "### Load Data"
     ]
    },
    {
     "cell_type": "code",
     "collapsed": false,
     "input": [
      "function loadData(quantity)\n",
      "    dataTable = {}\n",
      "    labTable = {}\n",
      "    for i=1,quantity do\n",
      "        local class = torch.random(0,99)\n",
      "        local fname = 'data/train/train_' .. string.format( \"%02d\", class ) .. '.csv'\n",
      "        file = io.open(fname, \"r\")\n",
      "        picked = torch.random(1,file:seek(\"end\")-200)\n",
      "        file:seek(\"set\", picked)\n",
      "        file:read()\n",
      "        table.insert(dataTable, dataConvert(file:read()))\n",
      "        table.insert(labTable, class+1)\n",
      "        io.close(file)\n",
      "    end\n",
      "    local data, label = tableToOutput(dataTable, labTable)\n",
      "    return data, label\n",
      "end"
     ],
     "language": "python",
     "metadata": {},
     "outputs": [],
     "prompt_number": 22
    },
    {
     "cell_type": "markdown",
     "metadata": {},
     "source": [
      "### Print"
     ]
    },
    {
     "cell_type": "code",
     "collapsed": false,
     "input": [
      "function PrintCM(idx)\n",
      "  local loss = 0\n",
      "  local top1 = 0\n",
      "  model:evaluate()\n",
      "  local x, y = loadData(1000)\n",
      "  x = x:cuda()\n",
      "  y = y:cuda()\n",
      "  local N = y:size(1)\n",
      "  local scores = model:forward(x)\n",
      "  loss = loss + crit:forward(scores, y)\n",
      "\n",
      "  local pred = scores:float()\n",
      "  local _, pred_sorted = pred:sort(2, true)\n",
      "\n",
      "  for i=1,N do\n",
      "    for j=1,5 do\n",
      "        if pred_sorted[i][j] == y[i] then\n",
      "          top1 = top1 + (1/j)\n",
      "        end\n",
      "    end\n",
      "  end\n",
      "  print(\"idx: \" .. idx, \"loss: \" .. loss, \"train score: \" .. top1 * 100 / N, 'label: ' .. y[1],\n",
      "        'prediction: [1]' .. pred_sorted[1][1] .. ' [2]' .. pred_sorted[1][2] .. ' [3]' .. pred_sorted[1][3] .. ' [4]' .. pred_sorted[1][4] .. ' [5]' .. pred_sorted[1][5])\n",
      "end"
     ],
     "language": "python",
     "metadata": {},
     "outputs": [],
     "prompt_number": 23
    },
    {
     "cell_type": "markdown",
     "metadata": {},
     "source": [
      "### Check Size"
     ]
    },
    {
     "cell_type": "code",
     "collapsed": false,
     "input": [
      "local x,y = loadData(2)\n",
      "print(x:size())"
     ],
     "language": "python",
     "metadata": {},
     "outputs": [],
     "prompt_number": 24
    },
    {
     "cell_type": "markdown",
     "metadata": {},
     "source": [
      "### Training"
     ]
    },
    {
     "cell_type": "code",
     "collapsed": false,
     "input": [
      "require 'optim';"
     ],
     "language": "python",
     "metadata": {},
     "outputs": [
      {
       "metadata": {},
       "output_type": "pyout",
       "prompt_number": 25,
       "text": [
        "   2\n",
        " 278\n",
        "[torch.LongStorage of size 2]\n",
        "\n"
       ]
      }
     ],
     "prompt_number": 25
    },
    {
     "cell_type": "code",
     "collapsed": false,
     "input": [
      "opt = {}\n",
      "batch_size = 10000\n",
      "train_size = 3000000\n",
      "max_epoch = 100\n",
      "opt.learningRate = 1e-1\n",
      "opt.weightDecay = 1e-2\n",
      "opt.momentum = 0.9\n",
      "opt.lr_decay_factor = 0.5\n",
      "opt.lr_decay_every = 5 * train_size / batch_size\n",
      "opt.print_every = 5\n",
      "evaluate_every = 10 * train_size / batch_size\n",
      "optim_config = {learningRate = opt.learningRate, weightDecay = opt.weightDecay, momentum = opt.momentum}\n",
      "num_iterations = max_epoch * train_size / batch_size\n",
      "epoch = 1"
     ],
     "language": "python",
     "metadata": {},
     "outputs": [],
     "prompt_number": 26
    },
    {
     "cell_type": "code",
     "collapsed": false,
     "input": [
      "opt.learningRate = 1e-2\n",
      "opt.print_every = 5\n",
      "num_iterations = max_epoch * train_size / batch_size"
     ],
     "language": "python",
     "metadata": {},
     "outputs": [],
     "prompt_number": 27
    },
    {
     "cell_type": "code",
     "collapsed": false,
     "input": [
      "-- Loss function that we pass to an optim method\n",
      "function f(w)\n",
      "  assert(w == params)\n",
      "  grad_params:zero()\n",
      "\n",
      "  --local x, y = loader:nextBatch('train')\n",
      "  local x, y = loadData(batch_size)\n",
      "  \n",
      "  x = x:cuda()\n",
      "  y = y:cuda()\n",
      "  local scores = model:forward(x)\n",
      "  local loss = crit:forward(scores, y)\n",
      "  local grad_scores = crit:backward(scores, y)\n",
      "  model:backward(x, grad_scores)\n",
      "\n",
      "  grad_params:clamp(-5, 5)\n",
      "\n",
      "  return loss, grad_params\n",
      "end"
     ],
     "language": "python",
     "metadata": {},
     "outputs": [],
     "prompt_number": 28
    },
    {
     "cell_type": "code",
     "collapsed": false,
     "input": [
      "model:training()"
     ],
     "language": "python",
     "metadata": {},
     "outputs": [
      {
       "metadata": {},
       "output_type": "pyout",
       "prompt_number": 29,
       "text": [
        "\n"
       ]
      }
     ],
     "prompt_number": 29
    },
    {
     "cell_type": "code",
     "collapsed": false,
     "input": [
      "function saveModel(e)\n",
      "    local filename = string.format(\"model/model_%02d.t7\", e)\n",
      "    model:clearState()\n",
      "    model:float()\n",
      "    torch.save(filename, model)\n",
      "    model:cuda()\n",
      "end"
     ],
     "language": "python",
     "metadata": {},
     "outputs": [],
     "prompt_number": 30
    },
    {
     "cell_type": "code",
     "collapsed": false,
     "input": [
      "function make_submission(idx)\n",
      "    model:evaluate()\n",
      "    testname = 'data/test.csv'\n",
      "    submission_name = string.format(\"data/submission_%02d.csv\", idx)\n",
      "    submission_file = io.open(submission_name, 'w')\n",
      "    head = 1\n",
      "    idx = 0\n",
      "    submission_file:write(\"id,hotel_cluster\\n\")\n",
      "    for line in io.lines ( testname ) do\n",
      "        if head == 1 then\n",
      "            head = 0\n",
      "        else\n",
      "            testdata = testdataConvert(line)\n",
      "            words = split(line, ',')\n",
      "            if tonumber(words[1]) ~= idx then\n",
      "                print('words:' .. words[1] .. ', idx:' .. idx)            \n",
      "                idx = words[1]\n",
      "            end\n",
      "            tx, _ = tableToOutput({testdata}, {1})\n",
      "            local outputs = model:forward(tx:cuda())\n",
      "            local _, ps = outputs:float():sort(2, true)\n",
      "            submission_file:write(idx .. ',' .. ps[1][1]-1 .. ' ' .. ps[1][2]-1 .. ' ' .. ps[1][3]-1 .. ' ' .. ps[1][4]-1 .. ' ' .. ps[1][5]-1 .. '\\n')\n",
      "            idx = idx + 1\n",
      "        end\n",
      "    end\n",
      "    io.close(submission_file)\n",
      "end"
     ],
     "language": "python",
     "metadata": {},
     "outputs": [],
     "prompt_number": 31
    },
    {
     "cell_type": "code",
     "collapsed": false,
     "input": [
      "for i = 0, num_iterations do\n",
      "    if i ~= 0 and i % opt.lr_decay_every == 0 then\n",
      "        old_lr = opt.learningRate\n",
      "        old_md = opt.weightDecay\n",
      "        opt.learningRate = opt.learningRate * opt.lr_decay_factor\n",
      "        opt.weightDecay = opt.weightDecay * opt.lr_decay_factor\n",
      "        optim_config = {learningRate = opt.learningRate, weightDecay = opt.weightDecay, momentum = opt.momentum}\n",
      "        saveModel(epoch)\n",
      "        epoch = epoch + 1\n",
      "        print('current LR: ' .. opt.learningRate)\n",
      "    end\n",
      "    \n",
      "    local _, loss = optim.sgd(f, params, optim_config)\n",
      "    if i % opt.print_every == 0 then\n",
      "        model:evaluate()\n",
      "        PrintCM(i)\n",
      "        model:training()\n",
      "    end\n",
      "    \n",
      "    if i ~= 0 and i % evaluate_every == 0 then\n",
      "        make_submission(i)\n",
      "    end\n",
      "end"
     ],
     "language": "python",
     "metadata": {},
     "outputs": [
      {
       "metadata": {},
       "output_type": "pyout",
       "prompt_number": 32,
       "text": [
        "idx: 0\tloss: 4.6063680648804\ttrain score: 1.3116666666667\tlabel: 24\tprediction: [1]13 [2]31 [3]85 [4]20 [5]82\t\n"
       ]
      },
      {
       "metadata": {},
       "output_type": "pyout",
       "prompt_number": 32,
       "text": [
        "idx: 5\tloss: 4.6053490638733\ttrain score: 2.0066666666667\tlabel: 18\tprediction: [1]82 [2]89 [3]34 [4]31 [5]85\t\n"
       ]
      },
      {
       "metadata": {},
       "output_type": "pyout",
       "prompt_number": 32,
       "text": [
        "idx: 10\tloss: 4.6045908927917\ttrain score: 2.2866666666667\tlabel: 90\tprediction: [1]82 [2]85 [3]31 [4]66 [5]6\t\n"
       ]
      },
      {
       "metadata": {},
       "output_type": "pyout",
       "prompt_number": 32,
       "text": [
        "idx: 15\tloss: 4.6040959358215\ttrain score: 2.55\tlabel: 85\tprediction: [1]89 [2]31 [3]1 [4]85 [5]27\t\n"
       ]
      },
      {
       "metadata": {},
       "output_type": "pyout",
       "prompt_number": 32,
       "text": [
        "idx: 20\tloss: 4.6026926040649\ttrain score: 2.4483333333333\tlabel: 22\tprediction: [1]89 [2]27 [3]85 [4]15 [5]41\t\n"
       ]
      },
      {
       "metadata": {},
       "output_type": "pyout",
       "prompt_number": 32,
       "text": [
        "idx: 25\tloss: 4.6026844978333\ttrain score: 2.7\tlabel: 47\tprediction: [1]85 [2]41 [3]15 [4]89 [5]70\t\n"
       ]
      },
      {
       "metadata": {},
       "output_type": "pyout",
       "prompt_number": 32,
       "text": [
        "idx: 30\tloss: 4.6002717018127\ttrain score: 3.8966666666667\tlabel: 39\tprediction: [1]85 [2]69 [3]78 [4]82 [5]31\t\n"
       ]
      },
      {
       "metadata": {},
       "output_type": "pyout",
       "prompt_number": 32,
       "text": [
        "idx: 35\tloss: 4.6011257171631\ttrain score: 3.6466666666667\tlabel: 5\tprediction: [1]31 [2]89 [3]70 [4]41 [5]25\t\n"
       ]
      },
      {
       "metadata": {},
       "output_type": "pyout",
       "prompt_number": 32,
       "text": [
        "idx: 40\tloss: 4.5996088981628\ttrain score: 4.5983333333333\tlabel: 12\tprediction: [1]89 [2]82 [3]25 [4]85 [5]31\t\n"
       ]
      },
      {
       "metadata": {},
       "output_type": "pyout",
       "prompt_number": 32,
       "text": [
        "idx: 45\tloss: 4.6013731956482\ttrain score: 3.9133333333333\tlabel: 14\tprediction: [1]82 [2]89 [3]25 [4]27 [5]15\t\n"
       ]
      },
      {
       "metadata": {},
       "output_type": "pyout",
       "prompt_number": 32,
       "text": [
        "idx: 50\tloss: 4.5999660491943\ttrain score: 3.7466666666667\tlabel: 3\tprediction: [1]89 [2]82 [3]60 [4]31 [5]27\t\n"
       ]
      },
      {
       "metadata": {},
       "output_type": "pyout",
       "prompt_number": 32,
       "text": [
        "idx: 55\tloss: 4.6012558937073\ttrain score: 3.7183333333333\tlabel: 10\tprediction: [1]85 [2]31 [3]72 [4]13 [5]25\t\n"
       ]
      },
      {
       "metadata": {},
       "output_type": "pyout",
       "prompt_number": 32,
       "text": [
        "idx: 60\tloss: 4.6010246276855\ttrain score: 4.0833333333333\tlabel: 60\tprediction: [1]72 [2]85 [3]20 [4]31 [5]61\t\n"
       ]
      },
      {
       "metadata": {},
       "output_type": "pyout",
       "prompt_number": 32,
       "text": [
        "idx: 65\tloss: 4.5985498428345\ttrain score: 5.4433333333333\tlabel: 77\tprediction: [1]82 [2]85 [3]31 [4]18 [5]89\t\n"
       ]
      },
      {
       "metadata": {},
       "output_type": "pyout",
       "prompt_number": 32,
       "text": [
        "idx: 70\tloss: 4.5985741615295\ttrain score: 4.5766666666667\tlabel: 88\tprediction: [1]15 [2]27 [3]82 [4]89 [5]34\t\n"
       ]
      },
      {
       "metadata": {},
       "output_type": "pyout",
       "prompt_number": 32,
       "text": [
        "idx: 75\tloss: 4.5987014770508\ttrain score: 5.5716666666667\tlabel: 97\tprediction: [1]85 [2]41 [3]89 [4]31 [5]27\t\n"
       ]
      },
      {
       "metadata": {},
       "output_type": "pyout",
       "prompt_number": 32,
       "text": [
        "idx: 80\tloss: 4.5972862243652\ttrain score: 6.8666666666667\tlabel: 86\tprediction: [1]82 [2]15 [3]31 [4]18 [5]41\t\n"
       ]
      },
      {
       "metadata": {},
       "output_type": "pyout",
       "prompt_number": 32,
       "text": [
        "idx: 85\tloss: 4.5964732170105\ttrain score: 6.1466666666667\tlabel: 92\tprediction: [1]34 [2]31 [3]41 [4]2 [5]85\t\n"
       ]
      },
      {
       "metadata": {},
       "output_type": "pyout",
       "prompt_number": 32,
       "text": [
        "idx: 90\tloss: 4.5973901748657\ttrain score: 5.385\tlabel: 76\tprediction: [1]72 [2]85 [3]70 [4]41 [5]89\t\n"
       ]
      },
      {
       "metadata": {},
       "output_type": "pyout",
       "prompt_number": 32,
       "text": [
        "idx: 95\tloss: 4.5955834388733\ttrain score: 6.6116666666667\tlabel: 99\tprediction: [1]72 [2]85 [3]89 [4]57 [5]20\t\n"
       ]
      },
      {
       "metadata": {},
       "output_type": "pyout",
       "prompt_number": 32,
       "text": [
        "idx: 100\tloss: 4.5959482192993\ttrain score: 6.1083333333333\tlabel: 32\tprediction: [1]85 [2]27 [3]20 [4]31 [5]42\t\n"
       ]
      },
      {
       "metadata": {},
       "output_type": "pyout",
       "prompt_number": 32,
       "text": [
        "idx: 105\tloss: 4.5939316749573\ttrain score: 6.6566666666667\tlabel: 62\tprediction: [1]85 [2]20 [3]31 [4]69 [5]61\t\n"
       ]
      },
      {
       "metadata": {},
       "output_type": "pyout",
       "prompt_number": 32,
       "text": [
        "idx: 110\tloss: 4.5961942672729\ttrain score: 5.5116666666667\tlabel: 49\tprediction: [1]85 [2]27 [3]89 [4]25 [5]41\t\n"
       ]
      },
      {
       "metadata": {},
       "output_type": "pyout",
       "prompt_number": 32,
       "text": [
        "idx: 115\tloss: 4.5950593948364\ttrain score: 5.9633333333333\tlabel: 80\tprediction: [1]2 [2]85 [3]31 [4]72 [5]20\t\n"
       ]
      },
      {
       "metadata": {},
       "output_type": "pyout",
       "prompt_number": 32,
       "text": [
        "idx: 120\tloss: 4.5955309867859\ttrain score: 5.66\tlabel: 48\tprediction: [1]15 [2]82 [3]27 [4]75 [5]68\t\n"
       ]
      },
      {
       "metadata": {},
       "output_type": "pyout",
       "prompt_number": 32,
       "text": [
        "idx: 125\tloss: 4.5974864959717\ttrain score: 4.975\tlabel: 58\tprediction: [1]85 [2]27 [3]89 [4]25 [5]2\t\n"
       ]
      },
      {
       "metadata": {},
       "output_type": "pyout",
       "prompt_number": 32,
       "text": [
        "idx: 130\tloss: 4.595458984375\ttrain score: 6.2466666666667\tlabel: 87\tprediction: [1]82 [2]15 [3]27 [4]18 [5]41\t\n"
       ]
      },
      {
       "metadata": {},
       "output_type": "pyout",
       "prompt_number": 32,
       "text": [
        "idx: 135\tloss: 4.5943231582642\ttrain score: 4.6133333333333\tlabel: 26\tprediction: [1]85 [2]31 [3]27 [4]70 [5]42\t\n"
       ]
      },
      {
       "metadata": {},
       "output_type": "pyout",
       "prompt_number": 32,
       "text": [
        "idx: 140\tloss: 4.592836856842\ttrain score: 6.5283333333333\tlabel: 5\tprediction: [1]85 [2]20 [3]1 [4]70 [5]57\t\n"
       ]
      },
      {
       "metadata": {},
       "output_type": "pyout",
       "prompt_number": 32,
       "text": [
        "idx: 145\tloss: 4.5923175811768\ttrain score: 6.6483333333333\tlabel: 57\tprediction: [1]1 [2]70 [3]27 [4]66 [5]85\t\n"
       ]
      },
      {
       "metadata": {},
       "output_type": "pyout",
       "prompt_number": 32,
       "text": [
        "idx: 150\tloss: 4.5928783416748\ttrain score: 6.1366666666667\tlabel: 66\tprediction: [1]85 [2]66 [3]1 [4]57 [5]89\t"
       ]
      },
      {
       "metadata": {},
       "output_type": "pyout",
       "prompt_number": 32,
       "text": [
        "\n"
       ]
      },
      {
       "metadata": {},
       "output_type": "pyout",
       "prompt_number": 32,
       "text": [
        "idx: 155\tloss: 4.5914239883423\ttrain score: 5.5083333333333\tlabel: 34\tprediction: [1]20 [2]57 [3]85 [4]72 [5]70\t\n"
       ]
      },
      {
       "metadata": {},
       "output_type": "pyout",
       "prompt_number": 32,
       "text": [
        "idx: 160\tloss: 4.5930242538452\ttrain score: 5.9716666666667\tlabel: 93\tprediction: [1]70 [2]31 [3]89 [4]27 [5]85\t\n"
       ]
      },
      {
       "metadata": {},
       "output_type": "pyout",
       "prompt_number": 32,
       "text": [
        "idx: 165\tloss: 4.5944857597351\ttrain score: 5.4883333333333\tlabel: 61\tprediction: [1]15 [2]82 [3]27 [4]68 [5]31\t\n"
       ]
      },
      {
       "metadata": {},
       "output_type": "pyout",
       "prompt_number": 32,
       "text": [
        "idx: 170\tloss: 4.5886950492859\ttrain score: 7.2016666666667\tlabel: 8\tprediction: [1]15 [2]82 [3]31 [4]27 [5]41\t\n"
       ]
      },
      {
       "metadata": {},
       "output_type": "pyout",
       "prompt_number": 32,
       "text": [
        "idx: 175\tloss: 4.589644908905\ttrain score: 5.8283333333333\tlabel: 13\tprediction: [1]82 [2]85 [3]41 [4]31 [5]15\t\n"
       ]
      },
      {
       "metadata": {},
       "output_type": "pyout",
       "prompt_number": 32,
       "text": [
        "idx: 180\t"
       ]
      },
      {
       "metadata": {},
       "output_type": "pyout",
       "prompt_number": 32,
       "text": [
        "loss: 4.5909018516541\ttrain score: 4.9433333333333\tlabel: 10\tprediction: [1]57 [2]20 [3]85 [4]70 [5]72\t\n"
       ]
      },
      {
       "metadata": {},
       "output_type": "pyout",
       "prompt_number": 32,
       "text": [
        "idx: 185\tloss: 4.5898418426514\ttrain score: 5.47\tlabel: 100\tprediction: [1]85 [2]57 [3]20 [4]89 [5]72\t\n"
       ]
      },
      {
       "metadata": {},
       "output_type": "pyout",
       "prompt_number": 32,
       "text": [
        "idx: 190\tloss: 4.5904135704041\ttrain score: 5.5983333333333\tlabel: 66\tprediction: [1]85 [2]57 [3]66 [4]1 [5]72\t\n"
       ]
      },
      {
       "metadata": {},
       "output_type": "pyout",
       "prompt_number": 32,
       "text": [
        "idx: 195\tloss: 4.5911173820496\ttrain score: 5.345\tlabel: 30\tprediction: [1]70 [2]89 [3]2 [4]41 [5]85\t\n"
       ]
      },
      {
       "metadata": {},
       "output_type": "pyout",
       "prompt_number": 32,
       "text": [
        "idx: 200\tloss: 4.5862426757812\ttrain score: 6.03\tlabel: 88\tprediction: [1]85 [2]27 [3]2 [4]70 [5]69\t\n"
       ]
      },
      {
       "metadata": {},
       "output_type": "pyout",
       "prompt_number": 32,
       "text": [
        "idx: 205\tloss: 4.5858135223389\ttrain score: 7.195\tlabel: 24\tprediction: [1]15 [2]82 [3]31 [4]41 [5]81\t\n"
       ]
      },
      {
       "metadata": {},
       "output_type": "pyout",
       "prompt_number": 32,
       "text": [
        "idx: 210\tloss: 4.5870876312256\ttrain score: 5.6233333333333\tlabel: 87\tprediction: [1]18 [2]41 [3]34 [4]70 [5]85\t\n"
       ]
      },
      {
       "metadata": {},
       "output_type": "pyout",
       "prompt_number": 32,
       "text": [
        "idx: 215\tloss: 4.5864090919495\ttrain score: 5.6733333333333\tlabel: 35\tprediction: [1]15 [2]82 [3]28 [4]27 [5]31\t\n"
       ]
      },
      {
       "metadata": {},
       "output_type": "pyout",
       "prompt_number": 32,
       "text": [
        "idx: 220\tloss: 4.5898699760437\ttrain score: 5.35\tlabel: 37\tprediction: [1]57 [2]72 [3]20 [4]85 [5]70\t\n"
       ]
      },
      {
       "metadata": {},
       "output_type": "pyout",
       "prompt_number": 32,
       "text": [
        "idx: 225\tloss: 4.5856380462646\ttrain score: 5.39\tlabel: 39\tprediction: [1]57 [2]72 [3]89 [4]70 [5]85\t\n"
       ]
      },
      {
       "metadata": {},
       "output_type": "pyout",
       "prompt_number": 32,
       "text": [
        "idx: 230\tloss: 4.5849723815918\ttrain score: 7.46\tlabel: 74\tprediction: [1]57 [2]20 [3]72 [4]89 [5]85\t\n"
       ]
      },
      {
       "metadata": {},
       "output_type": "pyout",
       "prompt_number": 32,
       "text": [
        "idx: 235\tloss: 4.584460735321\ttrain score: 6.09\tlabel: 65\tprediction: [1]57 [2]72 [3]20 [4]70 [5]89\t\n"
       ]
      },
      {
       "metadata": {},
       "output_type": "pyout",
       "prompt_number": 32,
       "text": [
        "idx: 240\tloss: 4.5881943702698\ttrain score: 5.6166666666667\tlabel: 19\tprediction: [1]57 [2]72 [3]20 [4]89 [5]85\t\n"
       ]
      },
      {
       "metadata": {},
       "output_type": "pyout",
       "prompt_number": 32,
       "text": [
        "idx: 245\tloss: 4.5826373100281\ttrain score: 5.5566666666667\tlabel: 71\tprediction: [1]85 [2]20 [3]70 [4]57 [5]25\t\n"
       ]
      },
      {
       "metadata": {},
       "output_type": "pyout",
       "prompt_number": 32,
       "text": [
        "idx: 250\tloss: 4.5850744247437\ttrain score: 5.7283333333333\tlabel: 38\tprediction: [1]57 [2]72 [3]70 [4]89 [5]85\t\n"
       ]
      },
      {
       "metadata": {},
       "output_type": "pyout",
       "prompt_number": 32,
       "text": [
        "idx: 255\tloss: 4.5856146812439\ttrain score: 5.8\tlabel: 32\tprediction: [1]85 [2]20 [3]57 [4]72 [5]70\t\n"
       ]
      },
      {
       "metadata": {},
       "output_type": "pyout",
       "prompt_number": 32,
       "text": [
        "idx: 260\tloss: 4.5838489532471\ttrain score: 6.26\tlabel: 30\tprediction: [1]15 [2]85 [3]62 [4]27 [5]88\t\n"
       ]
      },
      {
       "metadata": {},
       "output_type": "pyout",
       "prompt_number": 32,
       "text": [
        "idx: 265\tloss: 4.5847725868225\ttrain score: 4.95\tlabel: 28\tprediction: [1]27 [2]85 [3]15 [4]41 [5]82\t\n"
       ]
      },
      {
       "metadata": {},
       "output_type": "pyout",
       "prompt_number": 32,
       "text": [
        "idx: 270\tloss: 4.5797462463379\ttrain score: 5.9066666666667\tlabel: 92\tprediction: [1]89 [2]70 [3]25 [4]57 [5]85\t\n"
       ]
      },
      {
       "metadata": {},
       "output_type": "pyout",
       "prompt_number": 32,
       "text": [
        "idx: 275\tloss: 4.5822410583496\ttrain score: 5.3366666666667\tlabel: 71\tprediction: [1]85 [2]89 [3]82 [4]18 [5]70\t\n"
       ]
      },
      {
       "metadata": {},
       "output_type": "pyout",
       "prompt_number": 32,
       "text": [
        "idx: 280\tloss: 4.584246635437\ttrain score: 5.2983333333333\tlabel: 53\tprediction: [1]89 [2]20 [3]2 [4]57 [5]25\t\n"
       ]
      },
      {
       "metadata": {},
       "output_type": "pyout",
       "prompt_number": 32,
       "text": [
        "idx: 285\tloss: 4.5847291946411\ttrain score: 4.8933333333333\tlabel: 5\tprediction: [1]57 [2]20 [3]72 [4]89 [5]70\t\n"
       ]
      },
      {
       "metadata": {},
       "output_type": "pyout",
       "prompt_number": 32,
       "text": [
        "idx: 290\tloss: 4.581609249115\ttrain score: 6.43\tlabel: 62\tprediction: [1]70 [2]57 [3]89 [4]20 [5]72\t\n"
       ]
      },
      {
       "metadata": {},
       "output_type": "pyout",
       "prompt_number": 32,
       "text": [
        "idx: 295\tloss: 4.5833797454834\ttrain score: 6.0366666666667\tlabel: 87\tprediction: [1]57 [2]20 [3]72 [4]85 [5]70\t\n"
       ]
      },
      {
       "metadata": {},
       "output_type": "pyout",
       "prompt_number": 32,
       "text": [
        "idx: 300\tloss: 4.5777359008789\ttrain score: 5.81\tlabel: 32\tprediction: [1]15 [2]28 [3]82 [4]68 [5]41\t\n"
       ]
      },
      {
       "metadata": {},
       "output_type": "pyout",
       "prompt_number": 32,
       "text": [
        "idx: 305\tloss: 4.5793051719666\ttrain score: 6.58\tlabel: 51\tprediction: [1]15 [2]82 [3]31 [4]28 [5]41\t\n"
       ]
      },
      {
       "metadata": {},
       "output_type": "pyout",
       "prompt_number": 32,
       "text": [
        "idx: 310\tloss: 4.5804381370544\ttrain score: 6.6616666666667\tlabel: 35\tprediction: [1]85 [2]20 [3]70 [4]57 [5]72\t\n"
       ]
      },
      {
       "metadata": {},
       "output_type": "pyout",
       "prompt_number": 32,
       "text": [
        "idx: 315\tloss: 4.5777063369751\ttrain score: 6.4983333333333\tlabel: 83\tprediction: [1]85 [2]2 [3]71 [4]72 [5]89\t\n"
       ]
      },
      {
       "metadata": {},
       "output_type": "pyout",
       "prompt_number": 32,
       "text": [
        "idx: 320\tloss: 4.5809178352356\ttrain score: 5.1766666666667\tlabel: 57\tprediction: [1]57 [2]72 [3]20 [4]89 [5]2\t\n"
       ]
      },
      {
       "metadata": {},
       "output_type": "pyout",
       "prompt_number": 32,
       "text": [
        "idx: 325\tloss: 4.583692073822\ttrain score: 6.19\tlabel: 6\tprediction: [1]57 [2]72 [3]20 [4]85 [5]70\t\n"
       ]
      },
      {
       "metadata": {},
       "output_type": "pyout",
       "prompt_number": 32,
       "text": [
        "idx: 330\tloss: 4.5763096809387\ttrain score: 6.18\tlabel: 34\tprediction: [1]57 [2]20 [3]89 [4]2 [5]72\t\n"
       ]
      },
      {
       "metadata": {},
       "output_type": "pyout",
       "prompt_number": 32,
       "text": [
        "idx: 335\tloss: 4.5776891708374\ttrain score: 5.745\tlabel: 16\tprediction: [1]57 [2]2 [3]25 [4]72 [5]89\t\n"
       ]
      },
      {
       "metadata": {},
       "output_type": "pyout",
       "prompt_number": 32,
       "text": [
        "idx: 340\tloss: 4.5694856643677\ttrain score: 6.6333333333333\tlabel: 39\tprediction: [1]57 [2]72 [3]20 [4]70 [5]99\t\n"
       ]
      },
      {
       "metadata": {},
       "output_type": "pyout",
       "prompt_number": 32,
       "text": [
        "idx: 345\tloss: 4.5802044868469\ttrain score: 4.965\tlabel: 73\tprediction: [1]57 [2]20 [3]72 [4]25 [5]70\t\n"
       ]
      },
      {
       "metadata": {},
       "output_type": "pyout",
       "prompt_number": 32,
       "text": [
        "idx: 350\tloss: 4.5832366943359\ttrain score: 4.9933333333333\tlabel: 60\tprediction: [1]89 [2]2 [3]25 [4]71 [5]85\t\n"
       ]
      },
      {
       "metadata": {},
       "output_type": "pyout",
       "prompt_number": 32,
       "text": [
        "idx: 355\tloss: 4.5753889083862\ttrain score: 7.3016666666667\tlabel: 76\tprediction: [1]15 [2]82 [3]41 [4]62 [5]68\t\n"
       ]
      },
      {
       "metadata": {},
       "output_type": "pyout",
       "prompt_number": 32,
       "text": [
        "idx: 360\tloss: 4.5691666603088\ttrain score: 6.9466666666667\tlabel: 68\tprediction: [1]89 [2]25 [3]70 [4]46 [5]2\t\n"
       ]
      },
      {
       "metadata": {},
       "output_type": "pyout",
       "prompt_number": 32,
       "text": [
        "idx: 365\tloss: 4.578022480011\ttrain score: 6.9\tlabel: 78\tprediction: [1]85 [2]70 [3]2 [4]27 [5]46\t\n"
       ]
      },
      {
       "metadata": {},
       "output_type": "pyout",
       "prompt_number": 32,
       "text": [
        "idx: 370\tloss: 4.5777440071106\ttrain score: 3.8916666666667\tlabel: 36\tprediction: [1]15 [2]28 [3]82 [4]81 [5]41\t\n"
       ]
      },
      {
       "metadata": {},
       "output_type": "pyout",
       "prompt_number": 32,
       "text": [
        "idx: 375\tloss: 4.5763683319092\ttrain score: 6.0566666666667\tlabel: 25\tprediction: [1]20 [2]89 [3]85 [4]25 [5]2\t\n"
       ]
      },
      {
       "metadata": {},
       "output_type": "pyout",
       "prompt_number": 32,
       "text": [
        "idx: 380\tloss: 4.5783371925354\ttrain score: 5.2433333333333\tlabel: 81\tprediction: [1]15 [2]28 [3]82 [4]68 [5]62\t\n"
       ]
      },
      {
       "metadata": {},
       "output_type": "pyout",
       "prompt_number": 32,
       "text": [
        "idx: 385\tloss: 4.5729722976685\ttrain score: 6.1883333333333\tlabel: 16\tprediction: [1]20 [2]85 [3]57 [4]72 [5]25\t\n"
       ]
      },
      {
       "metadata": {},
       "output_type": "pyout",
       "prompt_number": 32,
       "text": [
        "idx: 390\tloss: 4.5759024620056\ttrain score: 5.9916666666667\tlabel: 74\tprediction: [1]57 [2]20 [3]2 [4]25 [5]72\t\n"
       ]
      },
      {
       "metadata": {},
       "output_type": "pyout",
       "prompt_number": 32,
       "text": [
        "idx: 395\tloss: 4.5716791152954\ttrain score: 6.31\tlabel: 58\tprediction: [1]85 [2]70 [3]71 [4]89 [5]25\t\n"
       ]
      },
      {
       "metadata": {},
       "output_type": "pyout",
       "prompt_number": 32,
       "text": [
        "idx: 400\tloss: 4.5714073181152\ttrain score: 6.9566666666667\tlabel: 31\tprediction: [1]20 [2]85 [3]57 [4]2 [5]72\t\n"
       ]
      },
      {
       "metadata": {},
       "output_type": "pyout",
       "prompt_number": 32,
       "text": [
        "idx: 405\tloss: 4.5701565742493\ttrain score: 7.1833333333333\tlabel: 63\tprediction: [1]15 [2]28 [3]82 [4]41 [5]62\t\n"
       ]
      },
      {
       "metadata": {},
       "output_type": "pyout",
       "prompt_number": 32,
       "text": [
        "idx: 410\tloss: 4.5712013244629\ttrain score: 6.2066666666667\tlabel: 55\tprediction: [1]89 [2]2 [3]25 [4]46 [5]80\t\n"
       ]
      },
      {
       "metadata": {},
       "output_type": "pyout",
       "prompt_number": 32,
       "text": [
        "idx: 415\tloss: 4.5826869010925\ttrain score: 6.0233333333333\tlabel: 44\tprediction: [1]89 [2]2 [3]25 [4]46 [5]71\t\n"
       ]
      },
      {
       "metadata": {},
       "output_type": "pyout",
       "prompt_number": 32,
       "text": [
        "idx: 420\tloss: 4.5734691619873\t"
       ]
      },
      {
       "metadata": {},
       "output_type": "pyout",
       "prompt_number": 32,
       "text": [
        "train score: 5.575\tlabel: 17\tprediction: [1]15 [2]82 [3]41 [4]62 [5]81\t\n"
       ]
      },
      {
       "metadata": {},
       "output_type": "pyout",
       "prompt_number": 32,
       "text": [
        "idx: 425\tloss: 4.5740494728088\ttrain score: 6.2833333333333\tlabel: 52\tprediction: [1]2 [2]25 [3]20 [4]57 [5]46\t\n"
       ]
      },
      {
       "metadata": {},
       "output_type": "pyout",
       "prompt_number": 32,
       "text": [
        "idx: 430\tloss: 4.5768141746521\ttrain score: 5.3566666666667\tlabel: 86\tprediction: [1]70 [2]20 [3]71 [4]85 [5]2\t\n"
       ]
      },
      {
       "metadata": {},
       "output_type": "pyout",
       "prompt_number": 32,
       "text": [
        "idx: 435\tloss: 4.5796828269958\ttrain score: 5.41\tlabel: 74\tprediction: [1]15 [2]28 [3]82 [4]81 [5]86\t\n"
       ]
      },
      {
       "metadata": {},
       "output_type": "pyout",
       "prompt_number": 32,
       "text": [
        "idx: 440\tloss: 4.575957775116\ttrain score: 6.5783333333333\tlabel: 9\tprediction: [1]20 [2]99 [3]70 [4]57 [5]85\t\n"
       ]
      },
      {
       "metadata": {},
       "output_type": "pyout",
       "prompt_number": 32,
       "text": [
        "idx: 445\tloss: 4.5712547302246\ttrain score: 6.885\t"
       ]
      },
      {
       "metadata": {},
       "output_type": "pyout",
       "prompt_number": 32,
       "text": [
        "label: 98\tprediction: [1]57 [2]2 [3]25 [4]89 [5]20\t\n"
       ]
      },
      {
       "metadata": {},
       "output_type": "pyout",
       "prompt_number": 32,
       "text": [
        "idx: 450\tloss: 4.5784277915955\ttrain score: 6.1066666666667\tlabel: 92\tprediction: [1]15 [2]82 [3]28 [4]81 [5]31\t\n"
       ]
      },
      {
       "metadata": {},
       "output_type": "pyout",
       "prompt_number": 32,
       "text": [
        "idx: 455\tloss: 4.5779538154602\ttrain score: 6.4266666666667\tlabel: 39\tprediction: [1]57 [2]20 [3]2 [4]25 [5]70\t\n"
       ]
      },
      {
       "metadata": {},
       "output_type": "pyout",
       "prompt_number": 32,
       "text": [
        "idx: 460\tloss: 4.5622706413269\ttrain score: 5.8433333333333\tlabel: 65\tprediction: [1]57 [2]20 [3]99 [4]72 [5]2\t\n"
       ]
      },
      {
       "metadata": {},
       "output_type": "pyout",
       "prompt_number": 32,
       "text": [
        "idx: 465\tloss: 4.5718398094177\ttrain score: 4.9216666666667\tlabel: 48\tprediction: [1]20 [2]57 [3]2 [4]25 [5]99\t\n"
       ]
      },
      {
       "metadata": {},
       "output_type": "pyout",
       "prompt_number": 32,
       "text": [
        "idx: 470\tloss: 4.5655293464661\ttrain score: 6.4866666666667\tlabel: 83\tprediction: [1]85 [2]71 [3]18 [4]27 [5]70\t\n"
       ]
      },
      {
       "metadata": {},
       "output_type": "pyout",
       "prompt_number": 32,
       "text": [
        "idx: 475\tloss: 4.56600522995\ttrain score: 6.7833333333333\tlabel: 74\tprediction: [1]20 [2]57 [3]85 [4]99 [5]25\t\n"
       ]
      },
      {
       "metadata": {},
       "output_type": "pyout",
       "prompt_number": 32,
       "text": [
        "idx: 480\tloss: 4.5620908737183\ttrain score: 6.0483333333333\tlabel: 29\tprediction: [1]15 [2]28 [3]82 [4]68 [5]62\t\n"
       ]
      },
      {
       "metadata": {},
       "output_type": "pyout",
       "prompt_number": 32,
       "text": [
        "idx: 485\tloss: 4.5678095817566\ttrain score: 4.6633333333333\tlabel: 3\tprediction: [1]15 [2]28 [3]82 [4]68 [5]31\t\n"
       ]
      },
      {
       "metadata": {},
       "output_type": "pyout",
       "prompt_number": 32,
       "text": [
        "idx: 490\tloss: 4.5678148269653\ttrain score: 6.4816666666667\tlabel: 46\tprediction: [1]2 [2]89 [3]25 [4]46 [5]80\t\n"
       ]
      },
      {
       "metadata": {},
       "output_type": "pyout",
       "prompt_number": 32,
       "text": [
        "idx: 495\tloss: 4.5726413726807\ttrain score: 5.9416666666667\tlabel: 20\tprediction: [1]57 [2]20 [3]2 [4]25 [5]99\t\n"
       ]
      },
      {
       "metadata": {},
       "output_type": "pyout",
       "prompt_number": 32,
       "text": [
        "idx: 500\t"
       ]
      },
      {
       "metadata": {},
       "output_type": "pyout",
       "prompt_number": 32,
       "text": [
        "loss: 4.5723748207092\ttrain score: 5.7166666666667\tlabel: 52\tprediction: [1]57 [2]20 [3]99 [4]72 [5]2\t\n"
       ]
      },
      {
       "metadata": {},
       "output_type": "pyout",
       "prompt_number": 32,
       "text": [
        "idx: 505\tloss: 4.5647258758545\ttrain score: 6.5716666666667\tlabel: 86\tprediction: [1]15 [2]28 [3]82 [4]62 [5]31\t\n"
       ]
      },
      {
       "metadata": {},
       "output_type": "pyout",
       "prompt_number": 32,
       "text": [
        "idx: 510\tloss: 4.5642318725586\ttrain score: 6.8866666666667\tlabel: 15\tprediction: [1]2 [2]20 [3]25 [4]46 [5]70\t\n"
       ]
      },
      {
       "metadata": {},
       "output_type": "pyout",
       "prompt_number": 32,
       "text": [
        "idx: 515\tloss: 4.5797114372253\ttrain score: 4.7633333333333\tlabel: 74\tprediction: [1]15 [2]28 [3]82 [4]62 [5]41\t\n"
       ]
      },
      {
       "metadata": {},
       "output_type": "pyout",
       "prompt_number": 32,
       "text": [
        "idx: 520\tloss: 4.5820941925049\ttrain score: 4.47\tlabel: 98\tprediction: [1]28 [2]15 [3]82 [4]62 [5]31\t\n"
       ]
      },
      {
       "metadata": {},
       "output_type": "pyout",
       "prompt_number": 32,
       "text": [
        "idx: 525\tloss: 4.5722074508667\ttrain score: 5.13\tlabel: 27\tprediction: [1]15 [2]28 [3]82 [4]75 [5]68\t\n"
       ]
      },
      {
       "metadata": {},
       "output_type": "pyout",
       "prompt_number": 32,
       "text": [
        "idx: 530\tloss: 4.5631713867188\ttrain score: 6.1316666666667\tlabel: 33\tprediction: [1]20 [2]99 [3]57 [4]2 [5]25\t\n"
       ]
      },
      {
       "metadata": {},
       "output_type": "pyout",
       "prompt_number": 32,
       "text": [
        "idx: 535\tloss: 4.5664553642273\ttrain score: 5.3416666666667\tlabel: 70\tprediction: [1]20 [2]2 [3]57 [4]25 [5]99\t\n"
       ]
      },
      {
       "metadata": {},
       "output_type": "pyout",
       "prompt_number": 32,
       "text": [
        "idx: 540\tloss: 4.5626640319824\ttrain score: 6.9233333333333\tlabel: 6\tprediction: [1]70 [2]71 [3]25 [4]2 [5]46\t\n"
       ]
      },
      {
       "metadata": {},
       "output_type": "pyout",
       "prompt_number": 32,
       "text": [
        "idx: 545\tloss: 4.5657224655151\ttrain score: 5.615\tlabel: 68\tprediction: [1]15 [2]28 [3]82 [4]62 [5]68\t\n"
       ]
      },
      {
       "metadata": {},
       "output_type": "pyout",
       "prompt_number": 32,
       "text": [
        "idx: 550\tloss: 4.570876121521\ttrain score: 5.4933333333333\tlabel: 95\tprediction: [1]20 [2]2 [3]25 [4]46 [5]57\t\n"
       ]
      },
      {
       "metadata": {},
       "output_type": "pyout",
       "prompt_number": 32,
       "text": [
        "idx: 555\tloss: 4.5705361366272\ttrain score: 5.5366666666667\tlabel: 23\tprediction: [1]20 [2]57 [3]2 [4]25 [5]46\t\n"
       ]
      },
      {
       "metadata": {},
       "output_type": "pyout",
       "prompt_number": 32,
       "text": [
        "idx: 560\tloss: 4.5633873939514\ttrain score: 7.0583333333333\tlabel: 74\tprediction: [1]28 [2]15 [3]82 [4]81 [5]68\t\n"
       ]
      },
      {
       "metadata": {},
       "output_type": "pyout",
       "prompt_number": 32,
       "text": [
        "idx: 565\tloss: 4.5636115074158\ttrain score: 5.5233333333333\tlabel: 83\tprediction: [1]28 [2]15 [3]82 [4]68 [5]62\t\n"
       ]
      },
      {
       "metadata": {},
       "output_type": "pyout",
       "prompt_number": 32,
       "text": [
        "idx: 570\tloss: 4.5682778358459\ttrain score: 6.0766666666667\tlabel: 85\tprediction: [1]20 [2]2 [3]57 [4]25 [5]50\t\n"
       ]
      },
      {
       "metadata": {},
       "output_type": "pyout",
       "prompt_number": 32,
       "text": [
        "idx: 575\tloss: 4.5650296211243\ttrain score: 6.1666666666667\tlabel: 29\tprediction: [1]28 [2]15 [3]81 [4]68 [5]82\t\n"
       ]
      },
      {
       "metadata": {},
       "output_type": "pyout",
       "prompt_number": 32,
       "text": [
        "idx: 580\tloss: 4.5696711540222\ttrain score: 5.3866666666667\tlabel: 69\tprediction: [1]20 [2]57 [3]50 [4]99 [5]25\t\n"
       ]
      },
      {
       "metadata": {},
       "output_type": "pyout",
       "prompt_number": 32,
       "text": [
        "idx: 585\tloss: 4.5735898017883\ttrain score: 5.1983333333333\tlabel: 97\tprediction: [1]20 [2]57 [3]99 [4]50 [5]70\t\n"
       ]
      },
      {
       "metadata": {},
       "output_type": "pyout",
       "prompt_number": 32,
       "text": [
        "idx: 590\tloss: 4.5663843154907\ttrain score: 5.8333333333333\tlabel: 80\tprediction: [1]2 [2]25 [3]46 [4]20 [5]80\t\n"
       ]
      },
      {
       "metadata": {},
       "output_type": "pyout",
       "prompt_number": 32,
       "text": [
        "idx: 595\tloss: 4.5599746704102\ttrain score: 6.6083333333333\tlabel: 19\tprediction: [1]2 [2]25 [3]20 [4]46 [5]80\t\n"
       ]
      },
      {
       "metadata": {},
       "output_type": "pyout",
       "prompt_number": 32,
       "text": [
        "idx: 600\tloss: 4.5708384513855\ttrain score: 5.0833333333333\tlabel: 19\tprediction: [1]28 [2]15 [3]81 [4]68 [5]82\t\n"
       ]
      },
      {
       "metadata": {},
       "output_type": "pyout",
       "prompt_number": 32,
       "text": [
        "idx: 605\tloss: 4.5694198608398\ttrain score: 6.12\tlabel: 13\tprediction: [1]28 [2]15 [3]68 [4]81 [5]82\t\n"
       ]
      },
      {
       "metadata": {},
       "output_type": "pyout",
       "prompt_number": 32,
       "text": [
        "idx: 610\tloss: 4.5565500259399\ttrain score: 6.9483333333333\tlabel: 56\tprediction: [1]85 [2]20 [3]71 [4]1 [5]70\t\n"
       ]
      },
      {
       "metadata": {},
       "output_type": "pyout",
       "prompt_number": 32,
       "text": [
        "idx: 615\tloss: 4.5656518936157\ttrain score: 4.9933333333333\tlabel: 55\tprediction: [1]2 [2]25 [3]46 [4]89 [5]80\t\n"
       ]
      },
      {
       "metadata": {},
       "output_type": "pyout",
       "prompt_number": 32,
       "text": [
        "idx: 620\tloss: 4.5675859451294\ttrain score: 6.0083333333333\tlabel: 73\tprediction: [1]2 [2]20 [3]25 [4]46 [5]50\t\n"
       ]
      },
      {
       "metadata": {},
       "output_type": "pyout",
       "prompt_number": 32,
       "text": [
        "idx: 625\tloss: 4.5602750778198\ttrain score: 5.6933333333333\tlabel: 45\tprediction: [1]28 [2]15 [3]81 [4]82 [5]68\t\n"
       ]
      },
      {
       "metadata": {},
       "output_type": "pyout",
       "prompt_number": 32,
       "text": [
        "idx: 630\tloss: 4.5685148239136\ttrain score: 5.28\tlabel: 100\tprediction: [1]20 [2]71 [3]50 [4]70 [5]85\t\n"
       ]
      },
      {
       "metadata": {},
       "output_type": "pyout",
       "prompt_number": 32,
       "text": [
        "idx: 635\tloss: 4.568706035614\ttrain score: 5.3766666666667\tlabel: 88\tprediction: [1]28 [2]15 [3]82 [4]81 [5]68\t\n"
       ]
      },
      {
       "metadata": {},
       "output_type": "pyout",
       "prompt_number": 32,
       "text": [
        "idx: 640\tloss: 4.552613735199\ttrain score: 6.4466666666667\tlabel: 25\tprediction: [1]2 [2]25 [3]46 [4]89 [5]80\t\n"
       ]
      },
      {
       "metadata": {},
       "output_type": "pyout",
       "prompt_number": 32,
       "text": [
        "idx: 645\tloss: 4.5651669502258\ttrain score: 6.4966666666667\tlabel: 88\tprediction: [1]20 [2]50 [3]99 [4]57 [5]70\t\n"
       ]
      },
      {
       "metadata": {},
       "output_type": "pyout",
       "prompt_number": 32,
       "text": [
        "idx: 650\tloss: 4.5632367134094\ttrain score: 5.8716666666667\tlabel: 25\tprediction: [1]2 [2]25 [3]46 [4]20 [5]80\t\n"
       ]
      },
      {
       "metadata": {},
       "output_type": "pyout",
       "prompt_number": 32,
       "text": [
        "idx: 655\tloss: 4.5635046958923\ttrain score: 5.42\tlabel: 7\tprediction: [1]2 [2]25 [3]20 [4]46 [5]80\t\n"
       ]
      },
      {
       "metadata": {},
       "output_type": "pyout",
       "prompt_number": 32,
       "text": [
        "idx: 660\t"
       ]
      },
      {
       "metadata": {},
       "output_type": "pyout",
       "prompt_number": 32,
       "text": [
        "loss: 4.5620346069336\ttrain score: 5.9366666666667\tlabel: 11\tprediction: [1]20 [2]50 [3]99 [4]57 [5]85\t\n"
       ]
      },
      {
       "metadata": {},
       "output_type": "pyout",
       "prompt_number": 32,
       "text": [
        "idx: 665\tloss: 4.5603699684143\ttrain score: 5.7383333333333\tlabel: 12\tprediction: [1]71 [2]20 [3]85 [4]70 [5]50\t\n"
       ]
      },
      {
       "metadata": {},
       "output_type": "pyout",
       "prompt_number": 32,
       "text": [
        "idx: 670\tloss: 4.5683131217957\t"
       ]
      },
      {
       "metadata": {},
       "output_type": "pyout",
       "prompt_number": 32,
       "text": [
        "train score: 6.0166666666667\tlabel: 32\tprediction: [1]20 [2]70 [3]50 [4]25 [5]2\t\n"
       ]
      },
      {
       "metadata": {},
       "output_type": "pyout",
       "prompt_number": 32,
       "text": [
        "idx: 675\tloss: 4.5693302154541\ttrain score: 5.0733333333333\tlabel: 10\tprediction: [1]25 [2]2 [3]20 [4]46 [5]80\t\n"
       ]
      },
      {
       "metadata": {},
       "output_type": "pyout",
       "prompt_number": 32,
       "text": [
        "idx: 680\tloss: 4.5555906295776\ttrain score: 6.165\tlabel: 25\tprediction: [1]2 [2]25 [3]46 [4]20 [5]80\t\n"
       ]
      },
      {
       "metadata": {},
       "output_type": "pyout",
       "prompt_number": 32,
       "text": [
        "idx: 685\tloss: 4.5652785301208\ttrain score: 6.2983333333333\tlabel: 9\tprediction: [1]20 [2]57 [3]50 [4]25 [5]2\t\n"
       ]
      },
      {
       "metadata": {},
       "output_type": "pyout",
       "prompt_number": 32,
       "text": [
        "idx: 690\tloss: 4.5692477226257\ttrain score: 5.775\tlabel: 77\t"
       ]
      },
      {
       "metadata": {},
       "output_type": "pyout",
       "prompt_number": 32,
       "text": [
        "prediction: [1]20 [2]50 [3]99 [4]85 [5]71\t\n"
       ]
      },
      {
       "metadata": {},
       "output_type": "pyout",
       "prompt_number": 32,
       "text": [
        "idx: 695\tloss: 4.5672392845154\ttrain score: 6.2266666666667\tlabel: 27\tprediction: [1]85 [2]18 [3]71 [4]88 [5]41\t\n"
       ]
      },
      {
       "metadata": {},
       "output_type": "pyout",
       "prompt_number": 32,
       "text": [
        "idx: 700\tloss: 4.5610728263855\ttrain score: 6.9033333333333\tlabel: 80\tprediction: [1]2 [2]25 [3]46 [4]20 [5]80\t\n"
       ]
      },
      {
       "metadata": {},
       "output_type": "pyout",
       "prompt_number": 32,
       "text": [
        "idx: 705\tloss: 4.5612859725952\ttrain score: 5.7216666666667\tlabel: 87\tprediction: [1]85 [2]20 [3]71 [4]70 [5]88\t\n"
       ]
      },
      {
       "metadata": {},
       "output_type": "pyout",
       "prompt_number": 32,
       "text": [
        "idx: 710\tloss: 4.568000793457\ttrain score: 4.83\tlabel: 84\tprediction: [1]20 [2]70 [3]50 [4]71 [5]99\t\n"
       ]
      },
      {
       "metadata": {},
       "output_type": "pyout",
       "prompt_number": 32,
       "text": [
        "idx: 715\tloss: 4.5746736526489\ttrain score: 5.2133333333333\tlabel: 22\tprediction: [1]25 [2]2 [3]46 [4]20 [5]80\t\n"
       ]
      },
      {
       "metadata": {},
       "output_type": "pyout",
       "prompt_number": 32,
       "text": [
        "idx: 720\tloss: 4.5563464164734\ttrain score: 6.0883333333333\tlabel: 74\tprediction: [1]20 [2]50 [3]99 [4]85 [5]71\t\n"
       ]
      },
      {
       "metadata": {},
       "output_type": "pyout",
       "prompt_number": 32,
       "text": [
        "idx: 725\tloss: 4.5659236907959\ttrain score: 5.8816666666667\tlabel: 65\tprediction: [1]2 [2]25 [3]20 [4]46 [5]80\t\n"
       ]
      },
      {
       "metadata": {},
       "output_type": "pyout",
       "prompt_number": 32,
       "text": [
        "idx: 730\tloss: 4.5597224235535\ttrain score: 5.8033333333333\tlabel: 9\tprediction: [1]28 [2]15 [3]81 [4]68 [5]82\t\n"
       ]
      },
      {
       "metadata": {},
       "output_type": "pyout",
       "prompt_number": 32,
       "text": [
        "idx: 735\tloss: 4.5650520324707\ttrain score: 4.9116666666667\tlabel: 45\tprediction: [1]20 [2]70 [3]50 [4]71 [5]99\t\n"
       ]
      },
      {
       "metadata": {},
       "output_type": "pyout",
       "prompt_number": 32,
       "text": [
        "idx: 740\tloss: 4.5714921951294\ttrain score: 5.5733333333333\tlabel: 60\tprediction: [1]20 [2]50 [3]2 [4]25 [5]99\t\n"
       ]
      },
      {
       "metadata": {},
       "output_type": "pyout",
       "prompt_number": 32,
       "text": [
        "idx: 745\tloss: 4.5543437004089\ttrain score: 5.87\tlabel: 88\tprediction: [1]85 [2]18 [3]88 [4]66 [5]27\t\n"
       ]
      },
      {
       "metadata": {},
       "output_type": "pyout",
       "prompt_number": 32,
       "text": [
        "idx: 750\tloss: 4.5589690208435\ttrain score: 5.7883333333333\tlabel: 3\tprediction: [1]20 [2]50 [3]85 [4]71 [5]70\t\n"
       ]
      },
      {
       "metadata": {},
       "output_type": "pyout",
       "prompt_number": 32,
       "text": [
        "idx: 755\tloss: 4.55832862854\ttrain score: 5.1566666666667\tlabel: 88\tprediction: [1]20 [2]50 [3]99 [4]85 [5]57\t\n"
       ]
      },
      {
       "metadata": {},
       "output_type": "pyout",
       "prompt_number": 32,
       "text": [
        "idx: 760\tloss: 4.5623345375061\ttrain score: 5.35\tlabel: 5\tprediction: [1]20 [2]50 [3]99 [4]57 [5]96\t\n"
       ]
      },
      {
       "metadata": {},
       "output_type": "pyout",
       "prompt_number": 32,
       "text": [
        "idx: 765\tloss: 4.5654926300049\ttrain score: 6.4033333333333\tlabel: 55\tprediction: [1]28 [2]15 [3]81 [4]68 [5]82\t\n"
       ]
      },
      {
       "metadata": {},
       "output_type": "pyout",
       "prompt_number": 32,
       "text": [
        "idx: 770\tloss: 4.5575556755066\ttrain score: 5.9283333333333\tlabel: 40\tprediction: [1]28 [2]15 [3]81 [4]82 [5]68\t\n"
       ]
      },
      {
       "metadata": {},
       "output_type": "pyout",
       "prompt_number": 32,
       "text": [
        "idx: 775\tloss: 4.5573778152466\ttrain score: 5.245\tlabel: 25\tprediction: [1]2 [2]20 [3]25 [4]46 [5]80\t\n"
       ]
      },
      {
       "metadata": {},
       "output_type": "pyout",
       "prompt_number": 32,
       "text": [
        "idx: 780\tloss: 4.5653648376465\ttrain score: 6.035\tlabel: 1\tprediction: [1]20 [2]50 [3]57 [4]2 [5]99\t\n"
       ]
      },
      {
       "metadata": {},
       "output_type": "pyout",
       "prompt_number": 32,
       "text": [
        "idx: 785\tloss: 4.5554995536804\ttrain score: 5.6966666666667\tlabel: 74\tprediction: [1]20 [2]50 [3]99 [4]71 [5]70\t\n"
       ]
      },
      {
       "metadata": {},
       "output_type": "pyout",
       "prompt_number": 32,
       "text": [
        "idx: 790\tloss: 4.5621018409729\ttrain score: 6.8433333333333\tlabel: 80\tprediction: [1]2 [2]25 [3]46 [4]89 [5]80\t\n"
       ]
      },
      {
       "metadata": {},
       "output_type": "pyout",
       "prompt_number": 32,
       "text": [
        "idx: 795\tloss: 4.563928604126\ttrain score: 5.5016666666667\tlabel: 54\tprediction: [1]28 [2]15 [3]81 [4]68 [5]82\t\n"
       ]
      },
      {
       "metadata": {},
       "output_type": "pyout",
       "prompt_number": 32,
       "text": [
        "idx: 800\tloss: 4.5556974411011\ttrain score: 5.9233333333333\tlabel: 69\tprediction: [1]28 [2]15 [3]81 [4]68 [5]82\t\n"
       ]
      },
      {
       "metadata": {},
       "output_type": "pyout",
       "prompt_number": 32,
       "text": [
        "idx: 805\tloss: 4.5596947669983\ttrain score: 6.455\tlabel: 68\tprediction: [1]20 [2]50 [3]2 [4]25 [5]99\t\n"
       ]
      },
      {
       "metadata": {},
       "output_type": "pyout",
       "prompt_number": 32,
       "text": [
        "idx: 810\tloss: 4.5660853385925\ttrain score: 5.6166666666667\tlabel: 53\tprediction: [1]20 [2]50 [3]25 [4]70 [5]2\t\n"
       ]
      },
      {
       "metadata": {},
       "output_type": "pyout",
       "prompt_number": 32,
       "text": [
        "idx: 815\tloss: 4.5651793479919\ttrain score: 6.28\tlabel: 58\tprediction: [1]28 [2]15 [3]81 [4]68 [5]82\t\n"
       ]
      },
      {
       "metadata": {},
       "output_type": "pyout",
       "prompt_number": 32,
       "text": [
        "idx: 820\tloss: 4.5588231086731\ttrain score: 5.3333333333333\tlabel: 20\tprediction: [1]20 [2]50 [3]2 [4]25 [5]46\t\n"
       ]
      },
      {
       "metadata": {},
       "output_type": "pyout",
       "prompt_number": 32,
       "text": [
        "idx: 825\tloss: 4.5606536865234\ttrain score: 7.5183333333333\tlabel: 2\tprediction: [1]2 [2]20 [3]25 [4]46 [5]80\t\n"
       ]
      },
      {
       "metadata": {},
       "output_type": "pyout",
       "prompt_number": 32,
       "text": [
        "idx: 830\tloss: 4.5548143386841\ttrain score: 6.4616666666667\tlabel: 25\tprediction: [1]2 [2]25 [3]46 [4]89 [5]80\t\n"
       ]
      },
      {
       "metadata": {},
       "output_type": "pyout",
       "prompt_number": 32,
       "text": [
        "idx: 835\tloss: 4.5568971633911\ttrain score: 5.7733333333333\tlabel: 40\tprediction: [1]20 [2]50 [3]99 [4]57 [5]70\t\n"
       ]
      },
      {
       "metadata": {},
       "output_type": "pyout",
       "prompt_number": 32,
       "text": [
        "idx: 840\tloss: 4.5577425956726\ttrain score: 6.9016666666667\tlabel: 88\tprediction: [1]20 [2]50 [3]99 [4]57 [5]70\t\n"
       ]
      },
      {
       "metadata": {},
       "output_type": "pyout",
       "prompt_number": 32,
       "text": [
        "idx: 845\tloss: 4.5587992668152\ttrain score: 4.805\tlabel: 30\tprediction: [1]28 [2]15 [3]81 [4]82 [5]68\t\n"
       ]
      },
      {
       "metadata": {},
       "output_type": "pyout",
       "prompt_number": 32,
       "text": [
        "idx: 850\tloss: 4.5551671981812\ttrain score: 5.8133333333333\tlabel: 26\tprediction: [1]20 [2]50 [3]85 [4]99 [5]71\t\n"
       ]
      },
      {
       "metadata": {},
       "output_type": "pyout",
       "prompt_number": 32,
       "text": [
        "idx: 855\tloss: 4.5620813369751\ttrain score: 6.2833333333333\tlabel: 83\tprediction: [1]28 [2]15 [3]81 [4]68 [5]82\t\n"
       ]
      },
      {
       "metadata": {},
       "output_type": "pyout",
       "prompt_number": 32,
       "text": [
        "idx: 860\tloss: 4.5574707984924\ttrain score: 5.66\tlabel: 8\tprediction: [1]28 [2]81 [3]15 [4]68 [5]82\t\n"
       ]
      },
      {
       "metadata": {},
       "output_type": "pyout",
       "prompt_number": 32,
       "text": [
        "idx: 865\tloss: 4.5590586662292\ttrain score: 5.6733333333333\tlabel: 25\tprediction: [1]2 [2]25 [3]46 [4]80 [5]89\t\n"
       ]
      },
      {
       "metadata": {},
       "output_type": "pyout",
       "prompt_number": 32,
       "text": [
        "idx: 870\tloss: 4.5551195144653\ttrain score: 6.7683333333333\tlabel: 68\tprediction: [1]28 [2]81 [3]15 [4]75 [5]68\t\n"
       ]
      },
      {
       "metadata": {},
       "output_type": "pyout",
       "prompt_number": 32,
       "text": [
        "idx: 875\tloss: 4.5684223175049\ttrain score: 6.0916666666667\tlabel: 89\tprediction: [1]2 [2]25 [3]46 [4]80 [5]89\t\n"
       ]
      },
      {
       "metadata": {},
       "output_type": "pyout",
       "prompt_number": 32,
       "text": [
        "idx: 880\tloss: 4.5536570549011\ttrain score: 6.4716666666667\tlabel: 56\tprediction: [1]20 [2]50 [3]2 [4]25 [5]46\t\n"
       ]
      },
      {
       "metadata": {},
       "output_type": "pyout",
       "prompt_number": 32,
       "text": [
        "idx: 885\tloss: 4.5633144378662\ttrain score: 5.975\tlabel: 12\tprediction: [1]20 [2]50 [3]99 [4]96 [5]70\t\n"
       ]
      },
      {
       "metadata": {},
       "output_type": "pyout",
       "prompt_number": 32,
       "text": [
        "idx: 890\tloss: 4.5709028244019\ttrain score: 4.6733333333333\tlabel: 65\tprediction: [1]20 [2]85 [3]70 [4]71 [5]96\t\n"
       ]
      },
      {
       "metadata": {},
       "output_type": "pyout",
       "prompt_number": 32,
       "text": [
        "idx: 895\tloss: 4.5594458580017\ttrain score: 6.1766666666667\tlabel: 66\tprediction: [1]20 [2]50 [3]99 [4]96 [5]71\t\n"
       ]
      },
      {
       "metadata": {},
       "output_type": "pyout",
       "prompt_number": 32,
       "text": [
        "idx: 900\tloss: 4.5568008422852\ttrain score: 5.9516666666667\tlabel: 19\tprediction: [1]20 [2]50 [3]2 [4]25 [5]99\t\n"
       ]
      },
      {
       "metadata": {},
       "output_type": "pyout",
       "prompt_number": 32,
       "text": [
        "idx: 905\tloss: 4.5582127571106\ttrain score: 6.3633333333333\tlabel: 96\tprediction: [1]20 [2]50 [3]99 [4]57 [5]96\t\n"
       ]
      },
      {
       "metadata": {},
       "output_type": "pyout",
       "prompt_number": 32,
       "text": [
        "idx: 910\tloss: 4.5545120239258\ttrain score: 5.4016666666667\tlabel: 7\tprediction: [1]85 [2]20 [3]1 [4]27 [5]88\t\n"
       ]
      },
      {
       "metadata": {},
       "output_type": "pyout",
       "prompt_number": 32,
       "text": [
        "idx: 915\tloss: 4.564980506897\ttrain score: 5.1533333333333\tlabel: 53\tprediction: [1]20 [2]50 [3]99 [4]70 [5]96\t\n"
       ]
      },
      {
       "metadata": {},
       "output_type": "pyout",
       "prompt_number": 32,
       "text": [
        "idx: 920\tloss: 4.5550155639648\ttrain score: 7.2333333333333\tlabel: 28\tprediction: [1]28 [2]81 [3]15 [4]68 [5]75\t\n"
       ]
      },
      {
       "metadata": {},
       "output_type": "pyout",
       "prompt_number": 32,
       "text": [
        "idx: 925\tloss: 4.5602631568909\ttrain score: 5.6683333333333\tlabel: 2\tprediction: [1]2 [2]25 [3]46 [4]80 [5]89\t\n"
       ]
      },
      {
       "metadata": {},
       "output_type": "pyout",
       "prompt_number": 32,
       "text": [
        "idx: 930\tloss: 4.5521283149719\ttrain score: 6.0483333333333\tlabel: 55\tprediction: [1]20 [2]50 [3]99 [4]57 [5]2\t\n"
       ]
      },
      {
       "metadata": {},
       "output_type": "pyout",
       "prompt_number": 32,
       "text": [
        "idx: 935\tloss: 4.5568876266479\ttrain score: 6.505\tlabel: 66\tprediction: [1]20 [2]50 [3]99 [4]57 [5]96\t\n"
       ]
      },
      {
       "metadata": {},
       "output_type": "pyout",
       "prompt_number": 32,
       "text": [
        "idx: 940\tloss: 4.566104888916\ttrain score: 5.8066666666667\tlabel: 48\tprediction: [1]28 [2]81 [3]68 [4]15 [5]75\t\n"
       ]
      },
      {
       "metadata": {},
       "output_type": "pyout",
       "prompt_number": 32,
       "text": [
        "idx: 945\tloss: 4.5680503845215\ttrain score: 5.8\tlabel: 70\tprediction: [1]20 [2]50 [3]99 [4]57 [5]2\t\n"
       ]
      },
      {
       "metadata": {},
       "output_type": "pyout",
       "prompt_number": 32,
       "text": [
        "idx: 950\tloss: 4.5621395111084\ttrain score: 6.26\tlabel: 83\tprediction: [1]28 [2]81 [3]15 [4]68 [5]82\t\n"
       ]
      },
      {
       "metadata": {},
       "output_type": "pyout",
       "prompt_number": 32,
       "text": [
        "idx: 955\tloss: 4.5547857284546\ttrain score: 6.47\tlabel: 54\tprediction: [1]28 [2]81 [3]68 [4]15 [5]75\t\n"
       ]
      },
      {
       "metadata": {},
       "output_type": "pyout",
       "prompt_number": 32,
       "text": [
        "idx: 960\tloss: 4.5560550689697\ttrain score: 6.8483333333333\tlabel: 33\tprediction: [1]20 [2]50 [3]85 [4]99 [5]96\t\n"
       ]
      },
      {
       "metadata": {},
       "output_type": "pyout",
       "prompt_number": 32,
       "text": [
        "idx: 965\tloss: 4.5572414398193\ttrain score: 6.0283333333333\tlabel: 90\tprediction: [1]20 [2]50 [3]2 [4]25 [5]46\t\n"
       ]
      },
      {
       "metadata": {},
       "output_type": "pyout",
       "prompt_number": 32,
       "text": [
        "idx: 970\tloss: 4.5581955909729\ttrain score: 5.7733333333333\tlabel: 97\tprediction: [1]20 [2]50 [3]99 [4]71 [5]96\t\n"
       ]
      },
      {
       "metadata": {},
       "output_type": "pyout",
       "prompt_number": 32,
       "text": [
        "idx: 975\tloss: 4.5526375770569\ttrain score: 6.5816666666667\tlabel: 42\tprediction: [1]85 [2]27 [3]20 [4]1 [5]88\t\n"
       ]
      },
      {
       "metadata": {},
       "output_type": "pyout",
       "prompt_number": 32,
       "text": [
        "idx: 980\tloss: 4.5648593902588\ttrain score: 4.7533333333333\tlabel: 94\tprediction: [1]20 [2]50 [3]2 [4]99 [5]25\t\n"
       ]
      },
      {
       "metadata": {},
       "output_type": "pyout",
       "prompt_number": 32,
       "text": [
        "idx: 985\tloss: 4.5611424446106\ttrain score: 5.995\tlabel: 34\tprediction: [1]20 [2]50 [3]99 [4]57 [5]96\t\n"
       ]
      },
      {
       "metadata": {},
       "output_type": "pyout",
       "prompt_number": 32,
       "text": [
        "idx: 990\tloss: 4.5510768890381\ttrain score: 5.055\tlabel: 80\tprediction: [1]2 [2]25 [3]46 [4]80 [5]89\t\n"
       ]
      },
      {
       "metadata": {},
       "output_type": "pyout",
       "prompt_number": 32,
       "text": [
        "idx: 995\tloss: 4.5536236763\ttrain score: 6.6616666666667\tlabel: 74\tprediction: [1]28 [2]75 [3]81 [4]15 [5]68\t\n"
       ]
      },
      {
       "metadata": {},
       "output_type": "pyout",
       "prompt_number": 32,
       "text": [
        "idx: 1000\tloss: 4.55251121521\ttrain score: 6.2833333333333\tlabel: 97\tprediction: [1]20 [2]50 [3]99 [4]96 [5]70\t\n"
       ]
      },
      {
       "metadata": {},
       "output_type": "pyout",
       "prompt_number": 32,
       "text": [
        "idx: 1005\tloss: 4.5631747245789\ttrain score: 6.5366666666667\tlabel: 90\tprediction: [1]28 [2]81 [3]68 [4]15 [5]75\t\n"
       ]
      },
      {
       "metadata": {},
       "output_type": "pyout",
       "prompt_number": 32,
       "text": [
        "idx: 1010\tloss: 4.5643510818481\ttrain score: 5.44\tlabel: 52\tprediction: [1]28 [2]75 [3]81 [4]68 [5]15\t\n"
       ]
      },
      {
       "metadata": {},
       "output_type": "pyout",
       "prompt_number": 32,
       "text": [
        "idx: 1015\tloss: 4.5571503639221\ttrain score: 6.31\tlabel: 45\tprediction: [1]28 [2]81 [3]68 [4]15 [5]75\t\n"
       ]
      },
      {
       "metadata": {},
       "output_type": "pyout",
       "prompt_number": 32,
       "text": [
        "idx: 1020\tloss: 4.5585136413574\ttrain score: 6.2366666666667\tlabel: 81\tprediction: [1]28 [2]81 [3]68 [4]15 [5]75\t\n"
       ]
      },
      {
       "metadata": {},
       "output_type": "pyout",
       "prompt_number": 32,
       "text": [
        "idx: 1025\tloss: 4.5609226226807\ttrain score: 7.475\tlabel: 18\tprediction: [1]20 [2]50 [3]99 [4]96 [5]71\t\n"
       ]
      },
      {
       "metadata": {},
       "output_type": "pyout",
       "prompt_number": 32,
       "text": [
        "idx: 1030\tloss: 4.5578799247742\ttrain score: 6.61\tlabel: 18\tprediction: [1]28 [2]81 [3]68 [4]15 [5]75\t\n"
       ]
      },
      {
       "metadata": {},
       "output_type": "pyout",
       "prompt_number": 32,
       "text": [
        "idx: 1035\tloss: 4.5552282333374\ttrain score: 7.1566666666667\tlabel: 33\tprediction: [1]20 [2]50 [3]99 [4]57 [5]96\t\n"
       ]
      },
      {
       "metadata": {},
       "output_type": "pyout",
       "prompt_number": 32,
       "text": [
        "idx: 1040\tloss: 4.5530824661255\ttrain score: 7.0616666666667\tlabel: 11\tprediction: [1]28 [2]81 [3]68 [4]75 [5]15\t\n"
       ]
      },
      {
       "metadata": {},
       "output_type": "pyout",
       "prompt_number": 32,
       "text": [
        "idx: 1045\tloss: 4.5557007789612\ttrain score: 5.98\tlabel: 69\tprediction: [1]20 [2]50 [3]99 [4]96 [5]57\t\n"
       ]
      },
      {
       "metadata": {},
       "output_type": "pyout",
       "prompt_number": 32,
       "text": [
        "idx: 1050\tloss: 4.5641713142395\ttrain score: 5.55\tlabel: 32\tprediction: [1]20 [2]50 [3]99 [4]57 [5]96\t\n"
       ]
      },
      {
       "metadata": {},
       "output_type": "pyout",
       "prompt_number": 32,
       "text": [
        "idx: 1055\tloss: 4.5549607276917\ttrain score: 5.425\tlabel: 25\tprediction: [1]2 [2]25 [3]46 [4]80 [5]89\t\n"
       ]
      },
      {
       "metadata": {},
       "output_type": "pyout",
       "prompt_number": 32,
       "text": [
        "idx: 1060\tloss: 4.5566892623901\ttrain score: 6.4433333333333\tlabel: 2\tprediction: [1]20 [2]2 [3]50 [4]25 [5]57\t\n"
       ]
      },
      {
       "metadata": {},
       "output_type": "pyout",
       "prompt_number": 32,
       "text": [
        "idx: 1065\tloss: 4.551926612854\ttrain score: 6.105\tlabel: 48\tprediction: [1]20 [2]50 [3]99 [4]2 [5]57\t\n"
       ]
      },
      {
       "metadata": {},
       "output_type": "pyout",
       "prompt_number": 32,
       "text": [
        "idx: 1070\tloss: 4.5536785125732\ttrain score: 6.8133333333333\tlabel: 67\tprediction: [1]75 [2]27 [3]88 [4]53 [5]66\t\n"
       ]
      },
      {
       "metadata": {},
       "output_type": "pyout",
       "prompt_number": 32,
       "text": [
        "idx: 1075\tloss: 4.5606184005737\ttrain score: 5.9133333333333\tlabel: 43\tprediction: [1]85 [2]71 [3]24 [4]18 [5]5\t\n"
       ]
      },
      {
       "metadata": {},
       "output_type": "pyout",
       "prompt_number": 32,
       "text": [
        "idx: 1080\tloss: 4.5574207305908\ttrain score: 7.16\tlabel: 67\tprediction: [1]75 [2]27 [3]88 [4]53 [5]66\t\n"
       ]
      },
      {
       "metadata": {},
       "output_type": "pyout",
       "prompt_number": 32,
       "text": [
        "idx: 1085\tloss: 4.5619320869446\ttrain score: 5.3\tlabel: 8\tprediction: [1]20 [2]50 [3]99 [4]96 [5]85\t\n"
       ]
      },
      {
       "metadata": {},
       "output_type": "pyout",
       "prompt_number": 32,
       "text": [
        "idx: 1090\tloss: 4.5643348693848\ttrain score: 5.7983333333333\tlabel: 81\tprediction: [1]28 [2]81 [3]68 [4]75 [5]15\t\n"
       ]
      },
      {
       "metadata": {},
       "output_type": "pyout",
       "prompt_number": 32,
       "text": [
        "idx: 1095\tloss: 4.5603976249695\ttrain score: 6.455\tlabel: 95\tprediction: [1]75 [2]28 [3]81 [4]15 [5]82\t\n"
       ]
      },
      {
       "metadata": {},
       "output_type": "pyout",
       "prompt_number": 32,
       "text": [
        "idx: 1100\tloss: 4.5482153892517\ttrain score: 5.5583333333333\tlabel: 27\tprediction: [1]85 [2]27 [3]88 [4]1 [5]66\t\n"
       ]
      },
      {
       "metadata": {},
       "output_type": "pyout",
       "prompt_number": 32,
       "text": [
        "idx: 1105\tloss: 4.5588021278381\ttrain score: 6\tlabel: 67\tprediction: [1]28 [2]81 [3]75 [4]68 [5]15\t\n"
       ]
      },
      {
       "metadata": {},
       "output_type": "pyout",
       "prompt_number": 32,
       "text": [
        "idx: 1110\tloss: 4.5674910545349\ttrain score: 5.2483333333333\tlabel: 1\tprediction: [1]20 [2]50 [3]99 [4]57 [5]96\t\n"
       ]
      },
      {
       "metadata": {},
       "output_type": "pyout",
       "prompt_number": 32,
       "text": [
        "idx: 1115\tloss: 4.5542750358582\ttrain score: 6.155\tlabel: 45\tprediction: [1]28 [2]81 [3]75 [4]68 [5]15\t\n"
       ]
      },
      {
       "metadata": {},
       "output_type": "pyout",
       "prompt_number": 32,
       "text": [
        "idx: 1120\tloss: 4.553605556488\ttrain score: 5.72\tlabel: 1\tprediction: [1]20 [2]50 [3]99 [4]96 [5]71\t\n"
       ]
      },
      {
       "metadata": {},
       "output_type": "pyout",
       "prompt_number": 32,
       "text": [
        "idx: 1125\tloss: 4.5684251785278\ttrain score: 5.645\tlabel: 54\tprediction: [1]88 [2]53 [3]66 [4]85 [5]67\t\n"
       ]
      },
      {
       "metadata": {},
       "output_type": "pyout",
       "prompt_number": 32,
       "text": [
        "idx: 1130\tloss: 4.5656485557556\ttrain score: 5.7233333333333\tlabel: 44\tprediction: [1]28 [2]81 [3]68 [4]75 [5]15\t\n"
       ]
      },
      {
       "metadata": {},
       "output_type": "pyout",
       "prompt_number": 32,
       "text": [
        "idx: 1135\tloss: 4.5616898536682\ttrain score: 5.07\tlabel: 31\tprediction: [1]28 [2]75 [3]81 [4]68 [5]82\t\n"
       ]
      },
      {
       "metadata": {},
       "output_type": "pyout",
       "prompt_number": 32,
       "text": [
        "idx: 1140\tloss: 4.5555901527405\ttrain score: 6.3766666666667\tlabel: 46\tprediction: [1]2 [2]25 [3]46 [4]80 [5]89\t\n"
       ]
      },
      {
       "metadata": {},
       "output_type": "pyout",
       "prompt_number": 32,
       "text": [
        "idx: 1145\tloss: 4.5549969673157\ttrain score: 5.81\tlabel: 88\tprediction: [1]20 [2]50 [3]99 [4]57 [5]96\t\n"
       ]
      },
      {
       "metadata": {},
       "output_type": "pyout",
       "prompt_number": 32,
       "text": [
        "idx: 1150\tloss: 4.5549154281616\ttrain score: 7.3516666666667\tlabel: 69\tprediction: [1]28 [2]81 [3]75 [4]68 [5]15\t\n"
       ]
      },
      {
       "metadata": {},
       "output_type": "pyout",
       "prompt_number": 32,
       "text": [
        "idx: 1155\tloss: 4.551821231842\ttrain score: 6.5333333333333\tlabel: 10\tprediction: [1]20 [2]50 [3]57 [4]99 [5]2\t\n"
       ]
      },
      {
       "metadata": {},
       "output_type": "pyout",
       "prompt_number": 32,
       "text": [
        "idx: 1160\tloss: 4.5570282936096\ttrain score: 4.4883333333333\tlabel: 12\tprediction: [1]28 [2]81 [3]75 [4]68 [5]15\t\n"
       ]
      },
      {
       "metadata": {},
       "output_type": "pyout",
       "prompt_number": 32,
       "text": [
        "idx: 1165\tloss: 4.5483250617981\ttrain score: 6.5833333333333\tlabel: 58\tprediction: [1]20 [2]96 [3]99 [4]70 [5]50\t\n"
       ]
      },
      {
       "metadata": {},
       "output_type": "pyout",
       "prompt_number": 32,
       "text": [
        "idx: 1170\tloss: 4.5612659454346\ttrain score: 5.415\tlabel: 25\tprediction: [1]2 [2]25 [3]46 [4]80 [5]89\t\n"
       ]
      },
      {
       "metadata": {},
       "output_type": "pyout",
       "prompt_number": 32,
       "text": [
        "idx: 1175\tloss: 4.5583100318909\ttrain score: 5.2116666666667\tlabel: 61\tprediction: [1]20 [2]50 [3]99 [4]57 [5]96\t\n"
       ]
      },
      {
       "metadata": {},
       "output_type": "pyout",
       "prompt_number": 32,
       "text": [
        "idx: 1180\tloss: 4.5558762550354\ttrain score: 5.325\tlabel: 53\tprediction: [1]28 [2]75 [3]81 [4]68 [5]15\t\n"
       ]
      },
      {
       "metadata": {},
       "output_type": "pyout",
       "prompt_number": 32,
       "text": [
        "idx: 1185\tloss: 4.5515689849854\ttrain score: 6.7333333333333\tlabel: 69\tprediction: [1]88 [2]85 [3]20 [4]96 [5]99\t\n"
       ]
      },
      {
       "metadata": {},
       "output_type": "pyout",
       "prompt_number": 32,
       "text": [
        "idx: 1190\tloss: 4.5589985847473\ttrain score: 5.7783333333333\tlabel: 5\tprediction: [1]20 [2]96 [3]50 [4]85 [5]99\t\n"
       ]
      },
      {
       "metadata": {},
       "output_type": "pyout",
       "prompt_number": 32,
       "text": [
        "idx: 1195\tloss: 4.5549726486206\ttrain score: 6.9416666666667\tlabel: 3\tprediction: [1]28 [2]75 [3]81 [4]68 [5]15\t\n"
       ]
      },
      {
       "metadata": {},
       "output_type": "pyout",
       "prompt_number": 32,
       "text": [
        "idx: 1200\tloss: 4.560453414917\ttrain score: 5.1316666666667\tlabel: 65\tprediction: [1]20 [2]50 [3]99 [4]96 [5]57\t\n"
       ]
      },
      {
       "metadata": {},
       "output_type": "pyout",
       "prompt_number": 32,
       "text": [
        "idx: 1205\tloss: 4.5506935119629\ttrain score: 6.765\tlabel: 75\tprediction: [1]75 [2]28 [3]81 [4]68 [5]15\t\n"
       ]
      },
      {
       "metadata": {},
       "output_type": "pyout",
       "prompt_number": 32,
       "text": [
        "idx: 1210\tloss: 4.5587100982666\ttrain score: 6.3183333333333\tlabel: 66\tprediction: [1]75 [2]27 [3]28 [4]88 [5]81\t\n"
       ]
      },
      {
       "metadata": {},
       "output_type": "pyout",
       "prompt_number": 32,
       "text": [
        "idx: 1215\tloss: 4.5593466758728\ttrain score: 5.1783333333333\tlabel: 64\tprediction: [1]20 [2]85 [3]99 [4]96 [5]50\t\n"
       ]
      },
      {
       "metadata": {},
       "output_type": "pyout",
       "prompt_number": 32,
       "text": [
        "idx: 1220\tloss: 4.5638289451599\ttrain score: 5.905\tlabel: 33\tprediction: [1]88 [2]66 [3]27 [4]53 [5]67\t\n"
       ]
      },
      {
       "metadata": {},
       "output_type": "pyout",
       "prompt_number": 32,
       "text": [
        "idx: 1225\tloss: 4.5485382080078\ttrain score: 6.1816666666667\tlabel: 99\tprediction: [1]20 [2]50 [3]99 [4]57 [5]96\t\n"
       ]
      },
      {
       "metadata": {},
       "output_type": "pyout",
       "prompt_number": 32,
       "text": [
        "idx: 1230\tloss: 4.5606245994568\ttrain score: 5.6933333333333\tlabel: 66\tprediction: [1]20 [2]99 [3]50 [4]96 [5]70\t\n"
       ]
      },
      {
       "metadata": {},
       "output_type": "pyout",
       "prompt_number": 32,
       "text": [
        "idx: 1235\tloss: 4.551634311676\ttrain score: 5.3833333333333\tlabel: 55\tprediction: [1]2 [2]25 [3]46 [4]80 [5]89\t\n"
       ]
      },
      {
       "metadata": {},
       "output_type": "pyout",
       "prompt_number": 32,
       "text": [
        "idx: 1240\tloss: 4.551296710968\ttrain score: 5.3066666666667\tlabel: 67\tprediction: [1]20 [2]99 [3]50 [4]96 [5]70\t\n"
       ]
      },
      {
       "metadata": {},
       "output_type": "pyout",
       "prompt_number": 32,
       "text": [
        "idx: 1245\tloss: 4.551983833313\ttrain score: 5.515\tlabel: 2\tprediction: [1]2 [2]25 [3]46 [4]80 [5]89\t\n"
       ]
      },
      {
       "metadata": {},
       "output_type": "pyout",
       "prompt_number": 32,
       "text": [
        "idx: 1250\tloss: 4.5489511489868\ttrain score: 6.24\tlabel: 4\tprediction: [1]28 [2]81 [3]75 [4]68 [5]15\t\n"
       ]
      },
      {
       "metadata": {},
       "output_type": "pyout",
       "prompt_number": 32,
       "text": [
        "idx: 1255\tloss: 4.5524320602417\ttrain score: 5.395\tlabel: 49\tprediction: [1]20 [2]99 [3]50 [4]96 [5]70\t\n"
       ]
      },
      {
       "metadata": {},
       "output_type": "pyout",
       "prompt_number": 32,
       "text": [
        "idx: 1260\tloss: 4.5502490997314\ttrain score: 6.31\tlabel: 46\tprediction: [1]2 [2]25 [3]46 [4]80 [5]89\t\n"
       ]
      },
      {
       "metadata": {},
       "output_type": "pyout",
       "prompt_number": 32,
       "text": [
        "idx: 1265\tloss: 4.554708480835\ttrain score: 6.66\tlabel: 10\tprediction: [1]20 [2]50 [3]99 [4]96 [5]57\t\n"
       ]
      },
      {
       "metadata": {},
       "output_type": "pyout",
       "prompt_number": 32,
       "text": [
        "idx: 1270\tloss: 4.5503239631653\ttrain score: 6.735\tlabel: 58\tprediction: [1]20 [2]85 [3]96 [4]99 [5]88\t\n"
       ]
      },
      {
       "metadata": {},
       "output_type": "pyout",
       "prompt_number": 32,
       "text": [
        "idx: 1275\tloss: 4.5573945045471\ttrain score: 5.615\tlabel: 90\tprediction: [1]20 [2]50 [3]57 [4]99 [5]72\t\n"
       ]
      },
      {
       "metadata": {},
       "output_type": "pyout",
       "prompt_number": 32,
       "text": [
        "idx: 1280\tloss: 4.5534243583679\ttrain score: 7.8166666666667\tlabel: 5\tprediction: [1]20 [2]50 [3]99 [4]57 [5]96\t\n"
       ]
      },
      {
       "metadata": {},
       "output_type": "pyout",
       "prompt_number": 32,
       "text": [
        "idx: 1285\tloss: 4.5484189987183\ttrain score: 6.8666666666667\tlabel: 53\tprediction: [1]20 [2]50 [3]99 [4]57 [5]96\t\n"
       ]
      },
      {
       "metadata": {},
       "output_type": "pyout",
       "prompt_number": 32,
       "text": [
        "idx: 1290\tloss: 4.547375202179\ttrain score: 5.4383333333333\tlabel: 43\tprediction: [1]20 [2]96 [3]85 [4]99 [5]50\t\n"
       ]
      },
      {
       "metadata": {},
       "output_type": "pyout",
       "prompt_number": 32,
       "text": [
        "idx: 1295\tloss: 4.5546526908875\ttrain score: 5.23\tlabel: 32\tprediction: [1]20 [2]50 [3]96 [4]70 [5]99\t\n"
       ]
      },
      {
       "metadata": {},
       "output_type": "pyout",
       "prompt_number": 32,
       "text": [
        "idx: 1300\tloss: 4.5558667182922\ttrain score: 6.1033333333333\tlabel: 7\tprediction: [1]20 [2]50 [3]57 [4]2 [5]72\t\n"
       ]
      },
      {
       "metadata": {},
       "output_type": "pyout",
       "prompt_number": 32,
       "text": [
        "idx: 1305\tloss: 4.5539312362671\ttrain score: 5.71\tlabel: 56\tprediction: [1]27 [2]88 [3]66 [4]1 [5]85\t\n"
       ]
      },
      {
       "metadata": {},
       "output_type": "pyout",
       "prompt_number": 32,
       "text": [
        "idx: 1310\tloss: 4.5601091384888\ttrain score: 5.4883333333333\tlabel: 58\tprediction: [1]75 [2]27 [3]88 [4]28 [5]66\t\n"
       ]
      },
      {
       "metadata": {},
       "output_type": "pyout",
       "prompt_number": 32,
       "text": [
        "idx: 1315\tloss: 4.5450963973999\ttrain score: 6.6716666666667\tlabel: 92\tprediction: [1]75 [2]28 [3]81 [4]68 [5]15\t\n"
       ]
      },
      {
       "metadata": {},
       "output_type": "pyout",
       "prompt_number": 32,
       "text": [
        "idx: 1320\tloss: 4.5501437187195\ttrain score: 6.21\tlabel: 96\tprediction: [1]20 [2]50 [3]57 [4]99 [5]72\t\n"
       ]
      },
      {
       "metadata": {},
       "output_type": "pyout",
       "prompt_number": 32,
       "text": [
        "idx: 1325\tloss: 4.5499897003174\ttrain score: 6.815\tlabel: 92\tprediction: [1]75 [2]28 [3]27 [4]81 [5]88\t\n"
       ]
      },
      {
       "metadata": {},
       "output_type": "pyout",
       "prompt_number": 32,
       "text": [
        "idx: 1330\tloss: 4.5466809272766\ttrain score: 5.9316666666667\tlabel: 16\tprediction: [1]75 [2]27 [3]88 [4]66 [5]53\t\n"
       ]
      },
      {
       "metadata": {},
       "output_type": "pyout",
       "prompt_number": 32,
       "text": [
        "idx: 1335\tloss: 4.5497303009033\ttrain score: 6.225\tlabel: 90\tprediction: [1]28 [2]75 [3]81 [4]68 [5]15\t\n"
       ]
      },
      {
       "metadata": {},
       "output_type": "pyout",
       "prompt_number": 32,
       "text": [
        "idx: 1340\tloss: 4.552273273468\ttrain score: 5.9916666666667\tlabel: 89\tprediction: [1]2 [2]25 [3]46 [4]80 [5]89\t\n"
       ]
      },
      {
       "metadata": {},
       "output_type": "pyout",
       "prompt_number": 32,
       "text": [
        "idx: 1345\tloss: 4.5518884658813\ttrain score: 5.9983333333333\tlabel: 4\tprediction: [1]28 [2]75 [3]81 [4]68 [5]82\t\n"
       ]
      },
      {
       "metadata": {},
       "output_type": "pyout",
       "prompt_number": 32,
       "text": [
        "idx: 1350\tloss: 4.5454444885254\ttrain score: 7.2766666666667\tlabel: 30\tprediction: [1]88 [2]20 [3]66 [4]96 [5]99\t\n"
       ]
      },
      {
       "metadata": {},
       "output_type": "pyout",
       "prompt_number": 32,
       "text": [
        "idx: 1355\tloss: 4.549877166748\ttrain score: 5.7633333333333\tlabel: 74\tprediction: [1]27 [2]75 [3]88 [4]66 [5]67\t\n"
       ]
      },
      {
       "metadata": {},
       "output_type": "pyout",
       "prompt_number": 32,
       "text": [
        "idx: 1360\tloss: 4.5574798583984\ttrain score: 4.8933333333333\tlabel: 44\tprediction: [1]20 [2]99 [3]96 [4]50 [5]85\t\n"
       ]
      },
      {
       "metadata": {},
       "output_type": "pyout",
       "prompt_number": 32,
       "text": [
        "idx: 1365\tloss: 4.5460495948792\ttrain score: 5.8666666666667\tlabel: 24\tprediction: [1]28 [2]75 [3]81 [4]68 [5]82\t\n"
       ]
      },
      {
       "metadata": {},
       "output_type": "pyout",
       "prompt_number": 32,
       "text": [
        "idx: 1370\tloss: 4.5454831123352\ttrain score: 6.0916666666667\tlabel: 91\tprediction: [1]20 [2]96 [3]99 [4]50 [5]70\t\n"
       ]
      },
      {
       "metadata": {},
       "output_type": "pyout",
       "prompt_number": 32,
       "text": [
        "idx: 1375\tloss: 4.5594782829285\ttrain score: 6.02\tlabel: 82\tprediction: [1]28 [2]75 [3]81 [4]68 [5]82\t\n"
       ]
      },
      {
       "metadata": {},
       "output_type": "pyout",
       "prompt_number": 32,
       "text": [
        "idx: 1380\tloss: 4.5490403175354\ttrain score: 6.235\tlabel: 74\tprediction: [1]20 [2]50 [3]99 [4]96 [5]70\t\n"
       ]
      },
      {
       "metadata": {},
       "output_type": "pyout",
       "prompt_number": 32,
       "text": [
        "idx: 1385\tloss: 4.5562243461609\ttrain score: 5.5266666666667\tlabel: 64\tprediction: [1]28 [2]75 [3]81 [4]68 [5]44\t\n"
       ]
      },
      {
       "metadata": {},
       "output_type": "pyout",
       "prompt_number": 32,
       "text": [
        "idx: 1390\tloss: 4.5503587722778\ttrain score: 6.2633333333333\tlabel: 73\tprediction: [1]20 [2]99 [3]50 [4]96 [5]70\t\n"
       ]
      },
      {
       "metadata": {},
       "output_type": "pyout",
       "prompt_number": 32,
       "text": [
        "idx: 1395\tloss: 4.5535278320312\t"
       ]
      },
      {
       "metadata": {},
       "output_type": "pyout",
       "prompt_number": 32,
       "text": [
        "train score: 5.8616666666667\tlabel: 10\tprediction: [1]88 [2]66 [3]53 [4]67 [5]1\t\n"
       ]
      },
      {
       "metadata": {},
       "output_type": "pyout",
       "prompt_number": 32,
       "text": [
        "idx: 1400\tloss: 4.5546865463257\ttrain score: 5.0083333333333\tlabel: 47\tprediction: [1]20 [2]50 [3]99 [4]57 [5]96\t"
       ]
      },
      {
       "metadata": {},
       "output_type": "pyout",
       "prompt_number": 32,
       "text": [
        "\n"
       ]
      },
      {
       "metadata": {},
       "output_type": "pyout",
       "prompt_number": 32,
       "text": [
        "idx: 1405\tloss: 4.5537152290344\ttrain score: 5.24\tlabel: 60\tprediction: [1]28 [2]75 [3]81 [4]68 [5]44\t\n"
       ]
      },
      {
       "metadata": {},
       "output_type": "pyout",
       "prompt_number": 32,
       "text": [
        "idx: 1410\tloss: 4.5487399101257\ttrain score: 5.7433333333333\tlabel: 5\tprediction: [1]20 [2]50 [3]99 [4]96 [5]71\t\n"
       ]
      },
      {
       "metadata": {},
       "output_type": "pyout",
       "prompt_number": 32,
       "text": [
        "idx: 1415\tloss: 4.5436511039734\ttrain score: 6.51\tlabel: 74\tprediction: [1]20 [2]50 [3]99 [4]96 [5]71\t\n"
       ]
      },
      {
       "metadata": {},
       "output_type": "pyout",
       "prompt_number": 32,
       "text": [
        "idx: 1420\tloss: 4.5471296310425\ttrain score: 5.645\tlabel: 68\tprediction: [1]28 [2]75 [3]81 [4]68 [5]44\t\n"
       ]
      },
      {
       "metadata": {},
       "output_type": "pyout",
       "prompt_number": 32,
       "text": [
        "idx: 1425\tloss: 4.5418639183044\ttrain score: 6.7583333333333\tlabel: 58\tprediction: [1]28 [2]75 [3]81 [4]68 [5]82\t\n"
       ]
      },
      {
       "metadata": {},
       "output_type": "pyout",
       "prompt_number": 32,
       "text": [
        "idx: 1430\tloss: 4.5468487739563\ttrain score: 5.3716666666667\tlabel: 16\tprediction: [1]28 [2]75 [3]81 [4]68 [5]44\t\n"
       ]
      },
      {
       "metadata": {},
       "output_type": "pyout",
       "prompt_number": 32,
       "text": [
        "idx: 1435\tloss: 4.557945728302\ttrain score: 6.155\tlabel: 1\tprediction: [1]20 [2]50 [3]99 [4]57 [5]96\t\n"
       ]
      },
      {
       "metadata": {},
       "output_type": "pyout",
       "prompt_number": 32,
       "text": [
        "idx: 1440\tloss: 4.5445041656494\ttrain score: 5.01\tlabel: 57\tprediction: [1]20 [2]50 [3]99 [4]96 [5]57\t\n"
       ]
      },
      {
       "metadata": {},
       "output_type": "pyout",
       "prompt_number": 32,
       "text": [
        "idx: 1445\tloss: 4.5534777641296\ttrain score: 5.015\tlabel: 3\tprediction: [1]28 [2]75 [3]81 [4]68 [5]44\t\n"
       ]
      },
      {
       "metadata": {},
       "output_type": "pyout",
       "prompt_number": 32,
       "text": [
        "idx: 1450\tloss: 4.5464062690735\ttrain score: 5.7583333333333\tlabel: 52\tprediction: [1]20 [2]99 [3]96 [4]50 [5]85\t\n"
       ]
      },
      {
       "metadata": {},
       "output_type": "pyout",
       "prompt_number": 32,
       "text": [
        "idx: 1455\tloss: 4.5459418296814\ttrain score: 5.6683333333333\tlabel: 25\tprediction: [1]20 [2]50 [3]96 [4]99 [5]70\t\n"
       ]
      },
      {
       "metadata": {},
       "output_type": "pyout",
       "prompt_number": 32,
       "text": [
        "idx: 1460\tloss: 4.5480523109436\ttrain score: 6.14\tlabel: 45\tprediction: [1]20 [2]50 [3]96 [4]70 [5]85\t\n"
       ]
      },
      {
       "metadata": {},
       "output_type": "pyout",
       "prompt_number": 32,
       "text": [
        "idx: 1465\tloss: 4.5500168800354\ttrain score: 5.3766666666667\tlabel: 46\tprediction: [1]2 [2]25 [3]46 [4]80 [5]89\t\n"
       ]
      },
      {
       "metadata": {},
       "output_type": "pyout",
       "prompt_number": 32,
       "text": [
        "idx: 1470\tloss: 4.543888092041\ttrain score: 5.53\tlabel: 52\tprediction: [1]20 [2]99 [3]96 [4]50 [5]70\t\n"
       ]
      },
      {
       "metadata": {},
       "output_type": "pyout",
       "prompt_number": 32,
       "text": [
        "idx: 1475\tloss: 4.5543465614319\ttrain score: 6.365\tlabel: 21\tprediction: [1]28 [2]75 [3]81 [4]68 [5]44\t\n"
       ]
      },
      {
       "metadata": {},
       "output_type": "pyout",
       "prompt_number": 32,
       "text": [
        "idx: 1480\tloss: 4.5506086349487\ttrain score: 5.2133333333333\tlabel: 21\tprediction: [1]20 [2]99 [3]50 [4]96 [5]70\t\n"
       ]
      },
      {
       "metadata": {},
       "output_type": "pyout",
       "prompt_number": 32,
       "text": [
        "idx: 1485\tloss: 4.5462880134583\ttrain score: 6.1016666666667\tlabel: 31\tprediction: [1]28 [2]75 [3]81 [4]68 [5]82\t\n"
       ]
      },
      {
       "metadata": {},
       "output_type": "pyout",
       "prompt_number": 32,
       "text": [
        "idx: 1490\tloss: 4.5531783103943\ttrain score: 5.7233333333333\tlabel: 32\tprediction: [1]75 [2]28 [3]81 [4]27 [5]68\t\n"
       ]
      },
      {
       "metadata": {},
       "output_type": "pyout",
       "prompt_number": 32,
       "text": [
        "idx: 1495\tloss: 4.5482296943665\ttrain score: 5.59\tlabel: 50\tprediction: [1]88 [2]20 [3]99 [4]96 [5]66\t\n"
       ]
      },
      {
       "metadata": {},
       "output_type": "pyout",
       "prompt_number": 32,
       "text": [
        "current LR: 0.005\t\n"
       ]
      },
      {
       "metadata": {},
       "output_type": "pyout",
       "prompt_number": 32,
       "text": [
        "idx: 1500\tloss: 4.5495781898499\ttrain score: 5.3716666666667\tlabel: 79\tprediction: [1]20 [2]50 [3]57 [4]72 [5]99\t\n"
       ]
      },
      {
       "metadata": {},
       "output_type": "pyout",
       "prompt_number": 32,
       "text": [
        "idx: 1505\tloss: 4.5587725639343\ttrain score: 6.1966666666667\tlabel: 88\tprediction: [1]20 [2]50 [3]99 [4]96 [5]70\t\n"
       ]
      },
      {
       "metadata": {},
       "output_type": "pyout",
       "prompt_number": 32,
       "text": [
        "idx: 1510\tloss: 4.5478811264038\ttrain score: 6.03\tlabel: 84\tprediction: [1]20 [2]50 [3]99 [4]96 [5]70\t\n"
       ]
      },
      {
       "metadata": {},
       "output_type": "pyout",
       "prompt_number": 32,
       "text": [
        "idx: 1515\tloss: 4.5439205169678\ttrain score: 7.045\tlabel: 25\tprediction: [1]2 [2]25 [3]46 [4]80 [5]89\t\n"
       ]
      },
      {
       "metadata": {},
       "output_type": "pyout",
       "prompt_number": 32,
       "text": [
        "idx: 1520\tloss: 4.5502705574036\ttrain score: 5.6033333333333\tlabel: 78\tprediction: [1]20 [2]50 [3]99 [4]96 [5]70\t\n"
       ]
      },
      {
       "metadata": {},
       "output_type": "pyout",
       "prompt_number": 32,
       "text": [
        "idx: 1525\tloss: 4.5368256568909\ttrain score: 6.3816666666667\tlabel: 88\tprediction: [1]28 [2]75 [3]81 [4]68 [5]44\t\n"
       ]
      },
      {
       "metadata": {},
       "output_type": "pyout",
       "prompt_number": 32,
       "text": [
        "idx: 1530\tloss: 4.5453853607178\ttrain score: 6.42\tlabel: 75\tprediction: [1]75 [2]27 [3]88 [4]66 [5]53\t\n"
       ]
      },
      {
       "metadata": {},
       "output_type": "pyout",
       "prompt_number": 32,
       "text": [
        "idx: 1535\tloss: 4.541738986969\ttrain score: 6.11\tlabel: 31\tprediction: [1]75 [2]27 [3]88 [4]53 [5]97\t\n"
       ]
      },
      {
       "metadata": {},
       "output_type": "pyout",
       "prompt_number": 32,
       "text": [
        "idx: 1540\tloss: 4.5473685264587\ttrain score: 6.015\tlabel: 55\tprediction: [1]28 [2]75 [3]81 [4]68 [5]44\t\n"
       ]
      },
      {
       "metadata": {},
       "output_type": "pyout",
       "prompt_number": 32,
       "text": [
        "idx: 1545\tloss: 4.5530424118042\ttrain score: 5.8816666666667\tlabel: 76\tprediction: [1]28 [2]75 [3]81 [4]68 [5]44\t\n"
       ]
      },
      {
       "metadata": {},
       "output_type": "pyout",
       "prompt_number": 32,
       "text": [
        "idx: 1550\tloss: 4.5435671806335\ttrain score: 6.4783333333333\tlabel: 7\tprediction: [1]28 [2]75 [3]81 [4]68 [5]44\t\n"
       ]
      },
      {
       "metadata": {},
       "output_type": "pyout",
       "prompt_number": 32,
       "text": [
        "idx: 1555\tloss: 4.5450921058655\ttrain score: 5.725\tlabel: 79\tprediction: [1]28 [2]75 [3]81 [4]68 [5]44\t\n"
       ]
      },
      {
       "metadata": {},
       "output_type": "pyout",
       "prompt_number": 32,
       "text": [
        "idx: 1560\tloss: 4.5536589622498\ttrain score: 5.1866666666667\tlabel: 31\tprediction: [1]20 [2]99 [3]50 [4]96 [5]70\t\n"
       ]
      },
      {
       "metadata": {},
       "output_type": "pyout",
       "prompt_number": 32,
       "text": [
        "idx: 1565\tloss: 4.544412612915\ttrain score: 6.0116666666667\tlabel: 41\tprediction: [1]20 [2]99 [3]50 [4]96 [5]70\t\n"
       ]
      },
      {
       "metadata": {},
       "output_type": "pyout",
       "prompt_number": 32,
       "text": [
        "idx: 1570\tloss: 4.5530309677124\ttrain score: 5.7366666666667\tlabel: 38\tprediction: [1]20 [2]50 [3]57 [4]72 [5]99\t\n"
       ]
      },
      {
       "metadata": {},
       "output_type": "pyout",
       "prompt_number": 32,
       "text": [
        "idx: 1575\tloss: 4.5502777099609\ttrain score: 6.9\tlabel: 71\tprediction: [1]20 [2]50 [3]99 [4]96 [5]57\t\n"
       ]
      },
      {
       "metadata": {},
       "output_type": "pyout",
       "prompt_number": 32,
       "text": [
        "idx: 1580\tloss: 4.5536007881165\ttrain score: 6.1683333333333\tlabel: 2\tprediction: [1]2 [2]25 [3]46 [4]80 [5]89\t\n"
       ]
      },
      {
       "metadata": {},
       "output_type": "pyout",
       "prompt_number": 32,
       "text": [
        "idx: 1585\tloss: 4.5539875030518\ttrain score: 4.8916666666667\tlabel: 25\tprediction: [1]20 [2]50 [3]57 [4]72 [5]99\t\n"
       ]
      },
      {
       "metadata": {},
       "output_type": "pyout",
       "prompt_number": 32,
       "text": [
        "idx: 1590\tloss: 4.5499897003174\ttrain score: 4.61\tlabel: 58\tprediction: [1]88 [2]66 [3]96 [4]20 [5]99\t\n"
       ]
      },
      {
       "metadata": {},
       "output_type": "pyout",
       "prompt_number": 32,
       "text": [
        "idx: 1595\tloss: 4.5424342155457\ttrain score: 6.13\tlabel: 94\tprediction: [1]28 [2]75 [3]81 [4]68 [5]44\t\n"
       ]
      },
      {
       "metadata": {},
       "output_type": "pyout",
       "prompt_number": 32,
       "text": [
        "idx: 1600\tloss: 4.5431346893311\ttrain score: 6.7533333333333\tlabel: 100\tprediction: [1]75 [2]27 [3]88 [4]53 [5]28\t\n"
       ]
      },
      {
       "metadata": {},
       "output_type": "pyout",
       "prompt_number": 32,
       "text": [
        "idx: 1605\tloss: 4.5357608795166\ttrain score: 6.575\tlabel: 20\tprediction: [1]20 [2]50 [3]99 [4]96 [5]57\t\n"
       ]
      },
      {
       "metadata": {},
       "output_type": "pyout",
       "prompt_number": 32,
       "text": [
        "idx: 1610\tloss: 4.5467863082886\ttrain score: 6.2283333333333\tlabel: 29\tprediction: [1]75 [2]28 [3]81 [4]27 [5]68\t\n"
       ]
      },
      {
       "metadata": {},
       "output_type": "pyout",
       "prompt_number": 32,
       "text": [
        "idx: 1615\tloss: 4.5473084449768\ttrain score: 4.7983333333333\tlabel: 66\tprediction: [1]20 [2]50 [3]96 [4]70 [5]85\t\n"
       ]
      },
      {
       "metadata": {},
       "output_type": "pyout",
       "prompt_number": 32,
       "text": [
        "idx: 1620\tloss: 4.5364542007446\ttrain score: 6.3583333333333\tlabel: 39\tprediction: [1]28 [2]75 [3]81 [4]68 [5]44\t\n"
       ]
      },
      {
       "metadata": {},
       "output_type": "pyout",
       "prompt_number": 32,
       "text": [
        "idx: 1625\tloss: 4.5570964813232\ttrain score: 4.19\tlabel: 50\tprediction: [1]20 [2]50 [3]57 [4]99 [5]96\t\n"
       ]
      },
      {
       "metadata": {},
       "output_type": "pyout",
       "prompt_number": 32,
       "text": [
        "idx: 1630\tloss: 4.5484766960144\ttrain score: 5.57\tlabel: 43\tprediction: [1]28 [2]75 [3]81 [4]68 [5]44\t\n"
       ]
      },
      {
       "metadata": {},
       "output_type": "pyout",
       "prompt_number": 32,
       "text": [
        "idx: 1635\tloss: 4.5549941062927\ttrain score: 5.5233333333333\tlabel: 51\tprediction: [1]20 [2]50 [3]99 [4]96 [5]70\t\n"
       ]
      },
      {
       "metadata": {},
       "output_type": "pyout",
       "prompt_number": 32,
       "text": [
        "idx: 1640\tloss: 4.5461626052856\ttrain score: 5.73\tlabel: 54\tprediction: [1]28 [2]75 [3]81 [4]68 [5]44\t\n"
       ]
      },
      {
       "metadata": {},
       "output_type": "pyout",
       "prompt_number": 32,
       "text": [
        "idx: 1645\tloss: 4.554386138916\ttrain score: 5.615\tlabel: 61\tprediction: [1]28 [2]75 [3]81 [4]68 [5]44\t\n"
       ]
      },
      {
       "metadata": {},
       "output_type": "pyout",
       "prompt_number": 32,
       "text": [
        "idx: 1650\tloss: 4.5487537384033\ttrain score: 6.5933333333333\tlabel: 44\tprediction: [1]28 [2]75 [3]81 [4]68 [5]44\t\n"
       ]
      },
      {
       "metadata": {},
       "output_type": "pyout",
       "prompt_number": 32,
       "text": [
        "idx: 1655\tloss: 4.545346736908\ttrain score: 5.565\tlabel: 61\tprediction: [1]20 [2]50 [3]99 [4]57 [5]96\t\n"
       ]
      },
      {
       "metadata": {},
       "output_type": "pyout",
       "prompt_number": 32,
       "text": [
        "idx: 1660\tloss: 4.5477685928345\ttrain score: 6.4266666666667\tlabel: 25\tprediction: [1]20 [2]50 [3]57 [4]72 [5]99\t\n"
       ]
      },
      {
       "metadata": {},
       "output_type": "pyout",
       "prompt_number": 32,
       "text": [
        "idx: 1665\tloss: 4.5477690696716\ttrain score: 6.815\tlabel: 27\tprediction: [1]27 [2]88 [3]66 [4]67 [5]53\t\n"
       ]
      },
      {
       "metadata": {},
       "output_type": "pyout",
       "prompt_number": 32,
       "text": [
        "idx: 1670\tloss: 4.5473132133484\ttrain score: 6.7033333333333\tlabel: 43\tprediction: [1]20 [2]50 [3]99 [4]96 [5]70\t\n"
       ]
      },
      {
       "metadata": {},
       "output_type": "pyout",
       "prompt_number": 32,
       "text": [
        "idx: 1675\tloss: 4.548412322998\ttrain score: 4.89\tlabel: 10\tprediction: [1]20 [2]50 [3]99 [4]96 [5]70\t\n"
       ]
      },
      {
       "metadata": {},
       "output_type": "pyout",
       "prompt_number": 32,
       "text": [
        "idx: 1680\tloss: 4.5487265586853\ttrain score: 5.7966666666667\tlabel: 21\tprediction: [1]20 [2]50 [3]96 [4]99 [5]70\t\n"
       ]
      },
      {
       "metadata": {},
       "output_type": "pyout",
       "prompt_number": 32,
       "text": [
        "idx: 1685\tloss: 4.5407266616821\ttrain score: 6.34\tlabel: 53\t"
       ]
      },
      {
       "metadata": {},
       "output_type": "pyout",
       "prompt_number": 32,
       "text": [
        "prediction: [1]20 [2]99 [3]50 [4]96 [5]70\t\n"
       ]
      },
      {
       "metadata": {},
       "output_type": "pyout",
       "prompt_number": 32,
       "text": [
        "idx: 1690\tloss: 4.5525074005127\ttrain score: 5.9033333333333\tlabel: 52\tprediction: [1]28 [2]75 [3]81 [4]68 [5]44\t\n"
       ]
      },
      {
       "metadata": {},
       "output_type": "pyout",
       "prompt_number": 32,
       "text": [
        "idx: 1695\tloss: 4.552020072937\ttrain score: 4.255\tlabel: 44\tprediction: [1]28 [2]75 [3]81 [4]68 [5]44\t\n"
       ]
      },
      {
       "metadata": {},
       "output_type": "pyout",
       "prompt_number": 32,
       "text": [
        "idx: 1700\tloss: 4.5447144508362\ttrain score: 6.2666666666667\tlabel: 80\tprediction: [1]88 [2]27 [3]66 [4]67 [5]53\t\n"
       ]
      },
      {
       "metadata": {},
       "output_type": "pyout",
       "prompt_number": 32,
       "text": [
        "idx: 1705\tloss: 4.554762840271\ttrain score: 5.4566666666667\tlabel: 90\tprediction: [1]27 [2]75 [3]88 [4]53 [5]66\t\n"
       ]
      },
      {
       "metadata": {},
       "output_type": "pyout",
       "prompt_number": 32,
       "text": [
        "idx: 1710\tloss: 4.5478057861328\ttrain score: 6.2183333333333\tlabel: 46\tprediction: [1]2 [2]25 [3]46 [4]80 [5]89\t\n"
       ]
      },
      {
       "metadata": {},
       "output_type": "pyout",
       "prompt_number": 32,
       "text": [
        "idx: 1715\tloss: 4.5403347015381\ttrain score: 6.0416666666667\tlabel: 93\tprediction: [1]20 [2]50 [3]57 [4]99 [5]96\t\n"
       ]
      },
      {
       "metadata": {},
       "output_type": "pyout",
       "prompt_number": 32,
       "text": [
        "idx: 1720\tloss: 4.5485272407532\ttrain score: 4.81\tlabel: 55\tprediction: [1]2 [2]25 [3]46 [4]80 [5]89\t\n"
       ]
      },
      {
       "metadata": {},
       "output_type": "pyout",
       "prompt_number": 32,
       "text": [
        "idx: 1725\tloss: 4.5440940856934\ttrain score: 6.11\tlabel: 8\tprediction: [1]20 [2]50 [3]57 [4]99 [5]72\t\n"
       ]
      },
      {
       "metadata": {},
       "output_type": "pyout",
       "prompt_number": 32,
       "text": [
        "idx: 1730\tloss: 4.5483994483948\ttrain score: 5.005\tlabel: 30\tprediction: [1]28 [2]75 [3]81 [4]68 [5]44\t\n"
       ]
      },
      {
       "metadata": {},
       "output_type": "pyout",
       "prompt_number": 32,
       "text": [
        "idx: 1735\tloss: 4.5425033569336\ttrain score: 6.0333333333333\tlabel: 15\tprediction: [1]20 [2]96 [3]99 [4]85 [5]70\t\n"
       ]
      },
      {
       "metadata": {},
       "output_type": "pyout",
       "prompt_number": 32,
       "text": [
        "idx: 1740\tloss: 4.5497961044312\ttrain score: 5.3433333333333\tlabel: 73\tprediction: [1]20 [2]50 [3]99 [4]96 [5]57\t\n"
       ]
      },
      {
       "metadata": {},
       "output_type": "pyout",
       "prompt_number": 32,
       "text": [
        "idx: 1745\tloss: 4.548282623291\ttrain score: 5.8666666666667\tlabel: 35\tprediction: [1]2 [2]25 [3]46 [4]80 [5]89\t\n"
       ]
      },
      {
       "metadata": {},
       "output_type": "pyout",
       "prompt_number": 32,
       "text": [
        "idx: 1750\tloss: 4.5441026687622\ttrain score: 6.1283333333333\tlabel: 24\tprediction: [1]20 [2]50 [3]99 [4]57 [5]96\t\n"
       ]
      },
      {
       "metadata": {},
       "output_type": "pyout",
       "prompt_number": 32,
       "text": [
        "idx: 1755\tloss: 4.5380301475525\ttrain score: 6.7716666666667\tlabel: 99\tprediction: [1]28 [2]75 [3]81 [4]68 [5]44\t\n"
       ]
      },
      {
       "metadata": {},
       "output_type": "pyout",
       "prompt_number": 32,
       "text": [
        "idx: 1760\tloss: 4.5467753410339\ttrain score: 6.5866666666667\tlabel: 27\tprediction: [1]20 [2]50 [3]99 [4]57 [5]96\t\n"
       ]
      },
      {
       "metadata": {},
       "output_type": "pyout",
       "prompt_number": 32,
       "text": [
        "idx: 1765\tloss: 4.5470991134644\ttrain score: 4.8983333333333\tlabel: 75\tprediction: [1]75 [2]27 [3]88 [4]66 [5]53\t\n"
       ]
      },
      {
       "metadata": {},
       "output_type": "pyout",
       "prompt_number": 32,
       "text": [
        "idx: 1770\tloss: 4.5495667457581\ttrain score: 5.6016666666667\tlabel: 13\tprediction: [1]28 [2]75 [3]81 [4]68 [5]44\t\n"
       ]
      },
      {
       "metadata": {},
       "output_type": "pyout",
       "prompt_number": 32,
       "text": [
        "idx: 1775\tloss: 4.544337272644\ttrain score: 5.5616666666667\tlabel: 99\tprediction: [1]88 [2]66 [3]67 [4]53 [5]27\t\n"
       ]
      },
      {
       "metadata": {},
       "output_type": "pyout",
       "prompt_number": 32,
       "text": [
        "idx: 1780\tloss: 4.5565829277039\ttrain score: 5.3433333333333\tlabel: 20\tprediction: [1]2 [2]25 [3]46 [4]80 [5]89\t\n"
       ]
      },
      {
       "metadata": {},
       "output_type": "pyout",
       "prompt_number": 32,
       "text": [
        "idx: 1785\tloss: 4.5537958145142\ttrain score: 4.7733333333333\tlabel: 42\tprediction: [1]20 [2]50 [3]57 [4]72 [5]99\t\n"
       ]
      },
      {
       "metadata": {},
       "output_type": "pyout",
       "prompt_number": 32,
       "text": [
        "idx: 1790\tloss: 4.5424199104309\ttrain score: 6.5133333333333\tlabel: 48\tprediction: [1]20 [2]50 [3]99 [4]96 [5]70\t\n"
       ]
      },
      {
       "metadata": {},
       "output_type": "pyout",
       "prompt_number": 32,
       "text": [
        "idx: 1795\tloss: 4.5415515899658\ttrain score: 6.4416666666667\tlabel: 37\tprediction: [1]28 [2]75 [3]81 [4]68 [5]44\t\n"
       ]
      },
      {
       "metadata": {},
       "output_type": "pyout",
       "prompt_number": 32,
       "text": [
        "idx: 1800\tloss: 4.5547156333923\ttrain score: 5.6383333333333\tlabel: 25\tprediction: [1]2 [2]25 [3]46 [4]80 [5]89\t"
       ]
      },
      {
       "metadata": {},
       "output_type": "pyout",
       "prompt_number": 32,
       "text": [
        "\n"
       ]
      },
      {
       "metadata": {},
       "output_type": "pyout",
       "prompt_number": 32,
       "text": [
        "idx: 1805\tloss: 4.5528564453125\ttrain score: 7.74\tlabel: 92\tprediction: [1]75 [2]28 [3]27 [4]81 [5]68\t\n"
       ]
      },
      {
       "metadata": {},
       "output_type": "pyout",
       "prompt_number": 32,
       "text": [
        "idx: 1810\tloss: 4.5544004440308\ttrain score: 5.0066666666667\tlabel: 78\tprediction: [1]28 [2]75 [3]81 [4]68 [5]82\t\n"
       ]
      },
      {
       "metadata": {},
       "output_type": "pyout",
       "prompt_number": 32,
       "text": [
        "idx: 1815\tloss: 4.5500869750977\ttrain score: 6.2566666666667\tlabel: 80\tprediction: [1]2 [2]25 [3]46 [4]80 [5]89\t\n"
       ]
      },
      {
       "metadata": {},
       "output_type": "pyout",
       "prompt_number": 32,
       "text": [
        "idx: 1820\tloss: 4.5454258918762\ttrain score: 7.8533333333333\tlabel: 45\tprediction: [1]88 [2]66 [3]67 [4]53 [5]27\t\n"
       ]
      },
      {
       "metadata": {},
       "output_type": "pyout",
       "prompt_number": 32,
       "text": [
        "idx: 1825\tloss: 4.5471000671387\ttrain score: 6.4983333333333\tlabel: 22\tprediction: [1]20 [2]96 [3]50 [4]99 [5]70\t\n"
       ]
      },
      {
       "metadata": {},
       "output_type": "pyout",
       "prompt_number": 32,
       "text": [
        "idx: 1830\tloss: 4.5533967018127\ttrain score: 6.2916666666667\tlabel: 97\tprediction: [1]28 [2]75 [3]81 [4]68 [5]44\t\n"
       ]
      },
      {
       "metadata": {},
       "output_type": "pyout",
       "prompt_number": 32,
       "text": [
        "idx: 1835\tloss: 4.5513162612915\ttrain score: 6.1166666666667\tlabel: 75\tprediction: [1]75 [2]27 [3]88 [4]28 [5]53\t\n"
       ]
      },
      {
       "metadata": {},
       "output_type": "pyout",
       "prompt_number": 32,
       "text": [
        "idx: 1840\tloss: 4.5388994216919\ttrain score: 5.8683333333333\tlabel: 54\tprediction: [1]20 [2]50 [3]99 [4]96 [5]57\t\n"
       ]
      },
      {
       "metadata": {},
       "output_type": "pyout",
       "prompt_number": 32,
       "text": [
        "idx: 1845\tloss: 4.5615811347961\ttrain score: 5.4216666666667\tlabel: 12\tprediction: [1]20 [2]50 [3]99 [4]96 [5]70\t\n"
       ]
      },
      {
       "metadata": {},
       "output_type": "pyout",
       "prompt_number": 32,
       "text": [
        "idx: 1850\tloss: 4.542652130127\ttrain score: 5.8983333333333\tlabel: 43\tprediction: [1]28 [2]75 [3]81 [4]68 [5]44\t\n"
       ]
      },
      {
       "metadata": {},
       "output_type": "pyout",
       "prompt_number": 32,
       "text": [
        "idx: 1855\tloss: 4.5564727783203\ttrain score: 5.3966666666667\tlabel: 31\tprediction: [1]28 [2]75 [3]81 [4]68 [5]44\t\n"
       ]
      },
      {
       "metadata": {},
       "output_type": "pyout",
       "prompt_number": 32,
       "text": [
        "idx: 1860\tloss: 4.5528621673584\ttrain score: 5.36\tlabel: 21\tprediction: [1]28 [2]75 [3]81 [4]68 [5]82\t\n"
       ]
      },
      {
       "metadata": {},
       "output_type": "pyout",
       "prompt_number": 32,
       "text": [
        "idx: 1865\tloss: 4.5448346138\ttrain score: 6.31\tlabel: 63\tprediction: [1]27 [2]75 [3]88 [4]67 [5]66\t\n"
       ]
      },
      {
       "metadata": {},
       "output_type": "pyout",
       "prompt_number": 32,
       "text": [
        "idx: 1870\tloss: 4.5542993545532\ttrain score: 5.185\tlabel: 62\tprediction: [1]28 [2]75 [3]81 [4]68 [5]44\t\n"
       ]
      },
      {
       "metadata": {},
       "output_type": "pyout",
       "prompt_number": 32,
       "text": [
        "idx: 1875\tloss: 4.545184135437\ttrain score: 7.4966666666667\tlabel: 86\tprediction: [1]88 [2]66 [3]99 [4]96 [5]20\t\n"
       ]
      },
      {
       "metadata": {},
       "output_type": "pyout",
       "prompt_number": 32,
       "text": [
        "idx: 1880\tloss: 4.5506167411804\ttrain score: 5.1233333333333\tlabel: 19\tprediction: [1]75 [2]28 [3]81 [4]27 [5]68\t\n"
       ]
      },
      {
       "metadata": {},
       "output_type": "pyout",
       "prompt_number": 32,
       "text": [
        "idx: 1885\tloss: 4.5580649375916\ttrain score: 5.3816666666667\tlabel: 12\tprediction: [1]20 [2]50 [3]57 [4]99 [5]72\t\n"
       ]
      },
      {
       "metadata": {},
       "output_type": "pyout",
       "prompt_number": 32,
       "text": [
        "idx: 1890\tloss: 4.5562715530396\ttrain score: 6.4883333333333\tlabel: 93\tprediction: [1]20 [2]50 [3]99 [4]96 [5]57\t\n"
       ]
      },
      {
       "metadata": {},
       "output_type": "pyout",
       "prompt_number": 32,
       "text": [
        "idx: 1895\tloss: 4.5527334213257\ttrain score: 5.7833333333333\tlabel: 80\tprediction: [1]2 [2]25 [3]46 [4]80 [5]89\t\n"
       ]
      },
      {
       "metadata": {},
       "output_type": "pyout",
       "prompt_number": 32,
       "text": [
        "idx: 1900\tloss: 4.5480871200562\ttrain score: 6.845\tlabel: 17\tprediction: [1]20 [2]85 [3]70 [4]96 [5]71\t\n"
       ]
      },
      {
       "metadata": {},
       "output_type": "pyout",
       "prompt_number": 32,
       "text": [
        "idx: 1905\tloss: 4.5487856864929\ttrain score: 5.5266666666667\tlabel: 92\tprediction: [1]75 [2]28 [3]81 [4]68 [5]79\t\n"
       ]
      },
      {
       "metadata": {},
       "output_type": "pyout",
       "prompt_number": 32,
       "text": [
        "idx: 1910\tloss: 4.5432281494141\ttrain score: 6.8816666666667\tlabel: 33\tprediction: [1]20 [2]96 [3]85 [4]70 [5]71\t\n"
       ]
      },
      {
       "metadata": {},
       "output_type": "pyout",
       "prompt_number": 32,
       "text": [
        "idx: 1915\tloss: 4.5484147071838\ttrain score: 5.3866666666667\tlabel: 10\tprediction: [1]88 [2]27 [3]66 [4]53 [5]67\t\n"
       ]
      },
      {
       "metadata": {},
       "output_type": "pyout",
       "prompt_number": 32,
       "text": [
        "idx: 1920\tloss: 4.5485343933105\ttrain score: 5.5133333333333\tlabel: 57\tprediction: [1]20 [2]50 [3]57 [4]72 [5]99\t\n"
       ]
      },
      {
       "metadata": {},
       "output_type": "pyout",
       "prompt_number": 32,
       "text": [
        "idx: 1925\tloss: 4.5479187965393\ttrain score: 6.0066666666667\t"
       ]
      },
      {
       "metadata": {},
       "output_type": "pyout",
       "prompt_number": 32,
       "text": [
        "label: 94\tprediction: [1]28 [2]75 [3]81 [4]68 [5]44\t\n"
       ]
      },
      {
       "metadata": {},
       "output_type": "pyout",
       "prompt_number": 32,
       "text": [
        "idx: 1930\tloss: 4.5460076332092\ttrain score: 6.02\tlabel: 26\tprediction: [1]28 [2]75 [3]81 [4]68 [5]44\t\n"
       ]
      },
      {
       "metadata": {},
       "output_type": "pyout",
       "prompt_number": 32,
       "text": [
        "idx: 1935\tloss: 4.5406708717346\ttrain score: 5.5666666666667\tlabel: 60\tprediction: [1]28 [2]75 [3]81 [4]68 [5]44\t\n"
       ]
      },
      {
       "metadata": {},
       "output_type": "pyout",
       "prompt_number": 32,
       "text": [
        "idx: 1940\tloss: 4.5543065071106\ttrain score: 5.5616666666667\tlabel: 70\tprediction: [1]20 [2]50 [3]57 [4]99 [5]96\t\n"
       ]
      },
      {
       "metadata": {},
       "output_type": "pyout",
       "prompt_number": 32,
       "text": [
        "idx: 1945\tloss: 4.5414772033691\ttrain score: 5.1283333333333\tlabel: 54\tprediction: [1]20 [2]50 [3]99 [4]96 [5]57\t\n"
       ]
      },
      {
       "metadata": {},
       "output_type": "pyout",
       "prompt_number": 32,
       "text": [
        "idx: 1950\tloss: 4.5501012802124\ttrain score: 5.675\tlabel: 17\tprediction: [1]28 [2]75 [3]81 [4]68 [5]44\t\n"
       ]
      },
      {
       "metadata": {},
       "output_type": "pyout",
       "prompt_number": 32,
       "text": [
        "idx: 1955\tloss: 4.5482506752014\ttrain score: 7.1633333333333\tlabel: 64\tprediction: [1]20 [2]50 [3]99 [4]96 [5]57\t\n"
       ]
      },
      {
       "metadata": {},
       "output_type": "pyout",
       "prompt_number": 32,
       "text": [
        "idx: 1960\tloss: 4.5528893470764\ttrain score: 6.1266666666667\tlabel: 65\tprediction: [1]28 [2]75 [3]81 [4]68 [5]44\t\n"
       ]
      },
      {
       "metadata": {},
       "output_type": "pyout",
       "prompt_number": 32,
       "text": [
        "idx: 1965\tloss: 4.5474333763123\ttrain score: 5.2616666666667\tlabel: 34\tprediction: [1]20 [2]50 [3]99 [4]96 [5]70\t\n"
       ]
      },
      {
       "metadata": {},
       "output_type": "pyout",
       "prompt_number": 32,
       "text": [
        "idx: 1970\tloss: 4.5436100959778\ttrain score: 7.235\tlabel: 29\tprediction: [1]88 [2]99 [3]20 [4]96 [5]66\t\n"
       ]
      },
      {
       "metadata": {},
       "output_type": "pyout",
       "prompt_number": 32,
       "text": [
        "idx: 1975\tloss: 4.5476031303406\ttrain score: 5.865\tlabel: 72\tprediction: [1]20 [2]50 [3]99 [4]57 [5]96\t\n"
       ]
      },
      {
       "metadata": {},
       "output_type": "pyout",
       "prompt_number": 32,
       "text": [
        "idx: 1980\tloss: 4.5458555221558\ttrain score: 5.8883333333333\tlabel: 88\tprediction: [1]88 [2]20 [3]99 [4]96 [5]66\t\n"
       ]
      },
      {
       "metadata": {},
       "output_type": "pyout",
       "prompt_number": 32,
       "text": [
        "idx: 1985\tloss: 4.5546307563782\ttrain score: 6.545\t"
       ]
      },
      {
       "metadata": {},
       "output_type": "pyout",
       "prompt_number": 32,
       "text": [
        "label: 45\tprediction: [1]28 [2]75 [3]81 [4]68 [5]44\t\n"
       ]
      },
      {
       "metadata": {},
       "output_type": "pyout",
       "prompt_number": 32,
       "text": [
        "idx: 1990\tloss: 4.5455293655396\ttrain score: 5.95\tlabel: 16\tprediction: [1]75 [2]28 [3]81 [4]68 [5]82\t\n"
       ]
      },
      {
       "metadata": {},
       "output_type": "pyout",
       "prompt_number": 32,
       "text": [
        "idx: 1995\tloss: 4.5373511314392\ttrain score: 6.9666666666667\tlabel: 49\tprediction: [1]20 [2]50 [3]99 [4]96 [5]70\t\n"
       ]
      },
      {
       "metadata": {},
       "output_type": "pyout",
       "prompt_number": 32,
       "text": [
        "idx: 2000\tloss: 4.5496678352356\ttrain score: 5.73\tlabel: 47\tprediction: [1]20 [2]50 [3]99 [4]96 [5]70\t\n"
       ]
      },
      {
       "metadata": {},
       "output_type": "pyout",
       "prompt_number": 32,
       "text": [
        "idx: 2005\tloss: 4.5452489852905\ttrain score: 5.7116666666667\tlabel: 8\tprediction: [1]28 [2]75 [3]81 [4]68 [5]44\t\n"
       ]
      },
      {
       "metadata": {},
       "output_type": "pyout",
       "prompt_number": 32,
       "text": [
        "idx: 2010\tloss: 4.5495634078979\ttrain score: 5.6\tlabel: 27\tprediction: [1]20 [2]99 [3]96 [4]50 [5]70\t\n"
       ]
      },
      {
       "metadata": {},
       "output_type": "pyout",
       "prompt_number": 32,
       "text": [
        "idx: 2015\tloss: 4.5424222946167\ttrain score: 5.9716666666667\tlabel: 46\tprediction: [1]2 [2]25 [3]46 [4]80 [5]89\t\n"
       ]
      },
      {
       "metadata": {},
       "output_type": "pyout",
       "prompt_number": 32,
       "text": [
        "idx: 2020\tloss: 4.5478310585022\ttrain score: 6.0566666666667\tlabel: 65\tprediction: [1]28 [2]75 [3]81 [4]68 [5]44\t\n"
       ]
      },
      {
       "metadata": {},
       "output_type": "pyout",
       "prompt_number": 32,
       "text": [
        "idx: 2025\tloss: 4.5523028373718\ttrain score: 5.6216666666667\tlabel: 59\tprediction: [1]28 [2]75 [3]81 [4]68 [5]44\t\n"
       ]
      },
      {
       "metadata": {},
       "output_type": "pyout",
       "prompt_number": 32,
       "text": [
        "idx: 2030\tloss: 4.5490484237671\ttrain score: 6.0933333333333\tlabel: 83\tprediction: [1]88 [2]66 [3]67 [4]53 [5]27\t\n"
       ]
      },
      {
       "metadata": {},
       "output_type": "pyout",
       "prompt_number": 32,
       "text": [
        "idx: 2035\tloss: 4.554084777832\t"
       ]
      },
      {
       "metadata": {},
       "output_type": "pyout",
       "prompt_number": 32,
       "text": [
        "train score: 5.9983333333333\tlabel: 90\tprediction: [1]20 [2]50 [3]99 [4]57 [5]96\t\n"
       ]
      },
      {
       "metadata": {},
       "output_type": "pyout",
       "prompt_number": 32,
       "text": [
        "idx: 2040\tloss: 4.5374321937561\ttrain score: 6.62\tlabel: 74\tprediction: [1]28 [2]75 [3]81 [4]68 [5]44\t\n"
       ]
      },
      {
       "metadata": {},
       "output_type": "pyout",
       "prompt_number": 32,
       "text": [
        "idx: 2045\tloss: 4.5418367385864\ttrain score: 6.25\tlabel: 43\tprediction: [1]28 [2]75 [3]81 [4]68 [5]44\t\n"
       ]
      },
      {
       "metadata": {},
       "output_type": "pyout",
       "prompt_number": 32,
       "text": [
        "idx: 2050\tloss: 4.532702922821\ttrain score: 8.0633333333333\tlabel: 46\tprediction: [1]20 [2]50 [3]57 [4]72 [5]99\t\n"
       ]
      },
      {
       "metadata": {},
       "output_type": "pyout",
       "prompt_number": 32,
       "text": [
        "idx: 2055\tloss: 4.549633026123\ttrain score: 6.0333333333333\tlabel: 32\tprediction: [1]28 [2]75 [3]81 [4]68 [5]44\t\n"
       ]
      },
      {
       "metadata": {},
       "output_type": "pyout",
       "prompt_number": 32,
       "text": [
        "idx: 2060\tloss: 4.5514168739319\ttrain score: 6.6433333333333\tlabel: 54\tprediction: [1]20 [2]50 [3]99 [4]96 [5]57\t\n"
       ]
      },
      {
       "metadata": {},
       "output_type": "pyout",
       "prompt_number": 32,
       "text": [
        "idx: 2065\tloss: 4.5463480949402\ttrain score: 6.4733333333333\tlabel: 65\tprediction: [1]20 [2]50 [3]57 [4]72 [5]99\t\n"
       ]
      },
      {
       "metadata": {},
       "output_type": "pyout",
       "prompt_number": 32,
       "text": [
        "idx: 2070\tloss: 4.5382037162781\ttrain score: 7.505\tlabel: 71\tprediction: [1]20 [2]50 [3]57 [4]99 [5]96\t\n"
       ]
      },
      {
       "metadata": {},
       "output_type": "pyout",
       "prompt_number": 32,
       "text": [
        "idx: 2075\tloss: 4.5465650558472\ttrain score: 6.47\tlabel: 81\tprediction: [1]75 [2]28 [3]81 [4]68 [5]44\t\n"
       ]
      },
      {
       "metadata": {},
       "output_type": "pyout",
       "prompt_number": 32,
       "text": [
        "idx: 2080\tloss: 4.5454835891724\ttrain score: 6.3516666666667\tlabel: 75\tprediction: [1]75 [2]27 [3]88 [4]66 [5]53\t\n"
       ]
      },
      {
       "metadata": {},
       "output_type": "pyout",
       "prompt_number": 32,
       "text": [
        "idx: 2085\tloss: 4.5362281799316\ttrain score: 7.5766666666667\tlabel: 23\tprediction: [1]20 [2]99 [3]50 [4]96 [5]70\t\n"
       ]
      },
      {
       "metadata": {},
       "output_type": "pyout",
       "prompt_number": 32,
       "text": [
        "idx: 2090\tloss: 4.550838470459\ttrain score: 6.5233333333333\tlabel: 86\tprediction: [1]28 [2]75 [3]81 [4]68 [5]82\t\n"
       ]
      },
      {
       "metadata": {},
       "output_type": "pyout",
       "prompt_number": 32,
       "text": [
        "idx: 2095\tloss: 4.5513310432434\t"
       ]
      },
      {
       "metadata": {},
       "output_type": "pyout",
       "prompt_number": 32,
       "text": [
        "train score: 6.3116666666667\tlabel: 4\tprediction: [1]88 [2]20 [3]96 [4]99 [5]66\t\n"
       ]
      },
      {
       "metadata": {},
       "output_type": "pyout",
       "prompt_number": 32,
       "text": [
        "idx: 2100\tloss: 4.5429334640503\ttrain score: 5.8166666666667\tlabel: 15\tprediction: [1]20 [2]96 [3]99 [4]88 [5]85\t\n"
       ]
      },
      {
       "metadata": {},
       "output_type": "pyout",
       "prompt_number": 32,
       "text": [
        "idx: 2105\tloss: 4.5489645004272\ttrain score: 5.4683333333333\tlabel: 90\tprediction: [1]28 [2]75 [3]81 [4]68 [5]44\t\n"
       ]
      },
      {
       "metadata": {},
       "output_type": "pyout",
       "prompt_number": 32,
       "text": [
        "idx: 2110\tloss: 4.5495619773865\ttrain score: 5.755\tlabel: 66\tprediction: [1]88 [2]20 [3]99 [4]96 [5]66\t\n"
       ]
      },
      {
       "metadata": {},
       "output_type": "pyout",
       "prompt_number": 32,
       "text": [
        "idx: 2115\tloss: 4.5556678771973\ttrain score: 5.7716666666667\tlabel: 95\tprediction: [1]20 [2]50 [3]99 [4]57 [5]96\t\n"
       ]
      },
      {
       "metadata": {},
       "output_type": "pyout",
       "prompt_number": 32,
       "text": [
        "idx: 2120\tloss: 4.5466456413269\ttrain score: 5.6533333333333\tlabel: 24\tprediction: [1]20 [2]50 [3]99 [4]57 [5]96\t\n"
       ]
      },
      {
       "metadata": {},
       "output_type": "pyout",
       "prompt_number": 32,
       "text": [
        "idx: 2125\tloss: 4.5496406555176\ttrain score: 4.915\tlabel: 68\tprediction: [1]20 [2]99 [3]96 [4]50 [5]88\t\n"
       ]
      },
      {
       "metadata": {},
       "output_type": "pyout",
       "prompt_number": 32,
       "text": [
        "idx: 2130\tloss: 4.5467314720154\ttrain score: 5.8916666666667\tlabel: 94\tprediction: [1]20 [2]50 [3]99 [4]96 [5]70\t\n"
       ]
      },
      {
       "metadata": {},
       "output_type": "pyout",
       "prompt_number": 32,
       "text": [
        "idx: 2135\tloss: 4.5535626411438\ttrain score: 5.8983333333333\tlabel: 9\tprediction: [1]75 [2]28 [3]27 [4]81 [5]88\t\n"
       ]
      },
      {
       "metadata": {},
       "output_type": "pyout",
       "prompt_number": 32,
       "text": [
        "idx: 2140\tloss: 4.5600342750549\ttrain score: 5.4033333333333\tlabel: 79\tprediction: [1]28 [2]75 [3]81 [4]68 [5]44\t\n"
       ]
      },
      {
       "metadata": {},
       "output_type": "pyout",
       "prompt_number": 32,
       "text": [
        "idx: 2145\tloss: 4.5460114479065\ttrain score: 6.095\tlabel: 24\tprediction: [1]20 [2]50 [3]57 [4]99 [5]96\t\n"
       ]
      },
      {
       "metadata": {},
       "output_type": "pyout",
       "prompt_number": 32,
       "text": [
        "idx: 2150\tloss: 4.5547022819519\ttrain score: 5.575\tlabel: 78\tprediction: [1]28 [2]75 [3]81 [4]68 [5]44\t\n"
       ]
      },
      {
       "metadata": {},
       "output_type": "pyout",
       "prompt_number": 32,
       "text": [
        "idx: 2155\tloss: 4.5459432601929\ttrain score: 6.4533333333333\tlabel: 50\tprediction: [1]2 [2]25 [3]46 [4]80 [5]89\t\n"
       ]
      },
      {
       "metadata": {},
       "output_type": "pyout",
       "prompt_number": 32,
       "text": [
        "idx: 2160\tloss: 4.5451164245605\ttrain score: 7.1916666666667\tlabel: 88\tprediction: [1]88 [2]20 [3]99 [4]96 [5]66\t\n"
       ]
      },
      {
       "metadata": {},
       "output_type": "pyout",
       "prompt_number": 32,
       "text": [
        "idx: 2165\tloss: 4.5461106300354\ttrain score: 5.49\tlabel: 90\tprediction: [1]28 [2]75 [3]81 [4]68 [5]44\t\n"
       ]
      },
      {
       "metadata": {},
       "output_type": "pyout",
       "prompt_number": 32,
       "text": [
        "idx: 2170\tloss: 4.5539960861206\ttrain score: 5.9016666666667\tlabel: 50\tprediction: [1]2 [2]25 [3]46 [4]80 [5]89\t\n"
       ]
      },
      {
       "metadata": {},
       "output_type": "pyout",
       "prompt_number": 32,
       "text": [
        "idx: 2175\tloss: 4.549084186554\ttrain score: 6.5216666666667\tlabel: 7\tprediction: [1]75 [2]28 [3]81 [4]68 [5]82\t\n"
       ]
      },
      {
       "metadata": {},
       "output_type": "pyout",
       "prompt_number": 32,
       "text": [
        "idx: 2180\tloss: 4.549599647522\ttrain score: 6.725\tlabel: 50\tprediction: [1]20 [2]50 [3]57 [4]99 [5]96\t\n"
       ]
      },
      {
       "metadata": {},
       "output_type": "pyout",
       "prompt_number": 32,
       "text": [
        "idx: 2185\tloss: 4.5532197952271\ttrain score: 5.515\tlabel: 14\tprediction: [1]20 [2]50 [3]99 [4]96 [5]70\t\n"
       ]
      },
      {
       "metadata": {},
       "output_type": "pyout",
       "prompt_number": 32,
       "text": [
        "idx: 2190\tloss: 4.549503326416\ttrain score: 6.625\tlabel: 87\tprediction: [1]20 [2]50 [3]57 [4]72 [5]99\t\n"
       ]
      },
      {
       "metadata": {},
       "output_type": "pyout",
       "prompt_number": 32,
       "text": [
        "idx: 2195\tloss: 4.5427412986755\ttrain score: 6.0566666666667\tlabel: 91\tprediction: [1]75 [2]28 [3]81 [4]68 [5]82\t\n"
       ]
      },
      {
       "metadata": {},
       "output_type": "pyout",
       "prompt_number": 32,
       "text": [
        "idx: 2200\tloss: 4.5499677658081\ttrain score: 5.5766666666667\tlabel: 31\tprediction: [1]88 [2]66 [3]96 [4]20 [5]99\t\n"
       ]
      },
      {
       "metadata": {},
       "output_type": "pyout",
       "prompt_number": 32,
       "text": [
        "idx: 2205\tloss: 4.5493121147156\ttrain score: 5.3066666666667\tlabel: 44\tprediction: [1]20 [2]50 [3]99 [4]96 [5]70\t\n"
       ]
      },
      {
       "metadata": {},
       "output_type": "pyout",
       "prompt_number": 32,
       "text": [
        "idx: 2210\tloss: 4.5436701774597\ttrain score: 6.085\tlabel: 24\tprediction: [1]20 [2]50 [3]57 [4]99 [5]96\t\n"
       ]
      },
      {
       "metadata": {},
       "output_type": "pyout",
       "prompt_number": 32,
       "text": [
        "idx: 2215\tloss: 4.5456504821777\ttrain score: 4.6016666666667\tlabel: 82\tprediction: [1]75 [2]27 [3]88 [4]67 [5]66\t\n"
       ]
      },
      {
       "metadata": {},
       "output_type": "pyout",
       "prompt_number": 32,
       "text": [
        "idx: 2220\tloss: 4.5493612289429\ttrain score: 6.2433333333333\tlabel: 11\tprediction: [1]28 [2]75 [3]81 [4]68 [5]44\t\n"
       ]
      },
      {
       "metadata": {},
       "output_type": "pyout",
       "prompt_number": 32,
       "text": [
        "idx: 2225\tloss: 4.5467071533203\ttrain score: 6.0216666666667\tlabel: 76\tprediction: [1]20 [2]50 [3]99 [4]96 [5]57\t\n"
       ]
      },
      {
       "metadata": {},
       "output_type": "pyout",
       "prompt_number": 32,
       "text": [
        "idx: 2230\tloss: 4.5518651008606\ttrain score: 6.565\tlabel: 46\tprediction: [1]2 [2]25 [3]46 [4]80 [5]89\t\n"
       ]
      },
      {
       "metadata": {},
       "output_type": "pyout",
       "prompt_number": 32,
       "text": [
        "idx: 2235\tloss: 4.5467367172241\ttrain score: 6.41\tlabel: 68\tprediction: [1]75 [2]28 [3]18 [4]41 [5]27\t\n"
       ]
      },
      {
       "metadata": {},
       "output_type": "pyout",
       "prompt_number": 32,
       "text": [
        "idx: 2240\tloss: 4.5443019866943\ttrain score: 6.39\tlabel: 70\tprediction: [1]20 [2]50 [3]99 [4]96 [5]70\t\n"
       ]
      },
      {
       "metadata": {},
       "output_type": "pyout",
       "prompt_number": 32,
       "text": [
        "idx: 2245\tloss: 4.5537300109863\ttrain score: 5.8616666666667\tlabel: 1\tprediction: [1]20 [2]50 [3]99 [4]96 [5]70\t\n"
       ]
      },
      {
       "metadata": {},
       "output_type": "pyout",
       "prompt_number": 32,
       "text": [
        "idx: 2250\tloss: 4.5537405014038\ttrain score: 5.0333333333333\tlabel: 96\tprediction: [1]28 [2]75 [3]81 [4]68 [5]44\t\n"
       ]
      },
      {
       "metadata": {},
       "output_type": "pyout",
       "prompt_number": 32,
       "text": [
        "idx: 2255\tloss: 4.5488514900208\ttrain score: 7.4083333333333\tlabel: 92\tprediction: [1]20 [2]50 [3]99 [4]57 [5]96\t\n"
       ]
      },
      {
       "metadata": {},
       "output_type": "pyout",
       "prompt_number": 32,
       "text": [
        "idx: 2260\tloss: 4.5498514175415\ttrain score: 5.7716666666667\tlabel: 43\tprediction: [1]20 [2]50 [3]99 [4]96 [5]70\t\n"
       ]
      },
      {
       "metadata": {},
       "output_type": "pyout",
       "prompt_number": 32,
       "text": [
        "idx: 2265\tloss: 4.5493998527527\ttrain score: 6.3833333333333\tlabel: 87\tprediction: [1]20 [2]50 [3]99 [4]96 [5]70\t\n"
       ]
      },
      {
       "metadata": {},
       "output_type": "pyout",
       "prompt_number": 32,
       "text": [
        "idx: 2270\tloss: 4.5395655632019\ttrain score: 6.25\tlabel: 52\tprediction: [1]28 [2]75 [3]81 [4]68 [5]82\t\n"
       ]
      },
      {
       "metadata": {},
       "output_type": "pyout",
       "prompt_number": 32,
       "text": [
        "idx: 2275\tloss: 4.5456085205078\ttrain score: 5.7583333333333\tlabel: 49\tprediction: [1]75 [2]27 [3]88 [4]53 [5]66\t\n"
       ]
      },
      {
       "metadata": {},
       "output_type": "pyout",
       "prompt_number": 32,
       "text": [
        "idx: 2280\tloss: 4.5457825660706\ttrain score: 5.3916666666667\tlabel: 64\tprediction: [1]28 [2]75 [3]81 [4]68 [5]44\t\n"
       ]
      },
      {
       "metadata": {},
       "output_type": "pyout",
       "prompt_number": 32,
       "text": [
        "idx: 2285\tloss: 4.5493965148926\ttrain score: 7.2666666666667\tlabel: 96\tprediction: [1]20 [2]50 [3]99 [4]57 [5]96\t\n"
       ]
      },
      {
       "metadata": {},
       "output_type": "pyout",
       "prompt_number": 32,
       "text": [
        "idx: 2290\tloss: 4.5477766990662\ttrain score: 7.0333333333333\tlabel: 94\tprediction: [1]28 [2]75 [3]81 [4]68 [5]44\t\n"
       ]
      },
      {
       "metadata": {},
       "output_type": "pyout",
       "prompt_number": 32,
       "text": [
        "idx: 2295\tloss: 4.5417490005493\ttrain score: 5.73\tlabel: 72\tprediction: [1]20 [2]50 [3]99 [4]57 [5]96\t\n"
       ]
      },
      {
       "metadata": {},
       "output_type": "pyout",
       "prompt_number": 32,
       "text": [
        "idx: 2300\tloss: 4.5548372268677\ttrain score: 6.1633333333333\tlabel: 74\tprediction: [1]75 [2]27 [3]88 [4]66 [5]53\t\n"
       ]
      },
      {
       "metadata": {},
       "output_type": "pyout",
       "prompt_number": 32,
       "text": [
        "idx: 2305\tloss: 4.5592484474182\ttrain score: 5.1766666666667\tlabel: 81\tprediction: [1]28 [2]75 [3]81 [4]68 [5]44\t\n"
       ]
      },
      {
       "metadata": {},
       "output_type": "pyout",
       "prompt_number": 32,
       "text": [
        "idx: 2310\tloss: 4.5473074913025\ttrain score: 5.8033333333333\tlabel: 86\tprediction: [1]28 [2]75 [3]81 [4]68 [5]44\t\n"
       ]
      },
      {
       "metadata": {},
       "output_type": "pyout",
       "prompt_number": 32,
       "text": [
        "idx: 2315\tloss: 4.541552066803\ttrain score: 6.505\tlabel: 23\tprediction: [1]28 [2]75 [3]81 [4]68 [5]82\t\n"
       ]
      },
      {
       "metadata": {},
       "output_type": "pyout",
       "prompt_number": 32,
       "text": [
        "idx: 2320\tloss: 4.5422515869141\ttrain score: 6.1933333333333\tlabel: 67\tprediction: [1]88 [2]20 [3]99 [4]96 [5]66\t\n"
       ]
      },
      {
       "metadata": {},
       "output_type": "pyout",
       "prompt_number": 32,
       "text": [
        "idx: 2325\tloss: 4.5411858558655\ttrain score: 7.3666666666667\tlabel: 61\tprediction: [1]20 [2]50 [3]99 [4]96 [5]70\t\n"
       ]
      },
      {
       "metadata": {},
       "output_type": "pyout",
       "prompt_number": 32,
       "text": [
        "idx: 2330\tloss: 4.5516991615295\ttrain score: 5.1283333333333\tlabel: 51\tprediction: [1]20 [2]50 [3]99 [4]57 [5]96\t\n"
       ]
      },
      {
       "metadata": {},
       "output_type": "pyout",
       "prompt_number": 32,
       "text": [
        "idx: 2335\tloss: 4.5502066612244\ttrain score: 6.4733333333333\tlabel: 30\tprediction: [1]75 [2]28 [3]81 [4]68 [5]79\t\n"
       ]
      },
      {
       "metadata": {},
       "output_type": "pyout",
       "prompt_number": 32,
       "text": [
        "idx: 2340\tloss: 4.5488891601562\ttrain score: 5.63\tlabel: 58\tprediction: [1]28 [2]75 [3]81 [4]68 [5]82\t\n"
       ]
      },
      {
       "metadata": {},
       "output_type": "pyout",
       "prompt_number": 32,
       "text": [
        "idx: 2345\tloss: 4.5455188751221\ttrain score: 6.1766666666667\tlabel: 84\tprediction: [1]75 [2]28 [3]81 [4]68 [5]82\t\n"
       ]
      },
      {
       "metadata": {},
       "output_type": "pyout",
       "prompt_number": 32,
       "text": [
        "idx: 2350\tloss: 4.5506262779236\ttrain score: 6.2333333333333\tlabel: 34\tprediction: [1]88 [2]20 [3]96 [4]99 [5]66\t\n"
       ]
      },
      {
       "metadata": {},
       "output_type": "pyout",
       "prompt_number": 32,
       "text": [
        "idx: 2355\tloss: 4.5516309738159\ttrain score: 6.1266666666667\tlabel: 42\tprediction: [1]20 [2]50 [3]99 [4]96 [5]70\t\n"
       ]
      },
      {
       "metadata": {},
       "output_type": "pyout",
       "prompt_number": 32,
       "text": [
        "idx: 2360\tloss: 4.5524868965149\ttrain score: 5.97\tlabel: 38\tprediction: [1]28 [2]75 [3]81 [4]68 [5]44\t\n"
       ]
      },
      {
       "metadata": {},
       "output_type": "pyout",
       "prompt_number": 32,
       "text": [
        "idx: 2365\tloss: 4.54718542099\ttrain score: 6.115\tlabel: 4\tprediction: [1]28 [2]75 [3]81 [4]68 [5]44\t\n"
       ]
      },
      {
       "metadata": {},
       "output_type": "pyout",
       "prompt_number": 32,
       "text": [
        "idx: 2370\tloss: 4.5504107475281\ttrain score: 5.2916666666667\tlabel: 77\tprediction: [1]28 [2]75 [3]81 [4]68 [5]44\t\n"
       ]
      },
      {
       "metadata": {},
       "output_type": "pyout",
       "prompt_number": 32,
       "text": [
        "idx: 2375\tloss: 4.5557942390442\ttrain score: 5.1866666666667\tlabel: 20\tprediction: [1]28 [2]75 [3]81 [4]68 [5]82\t\n"
       ]
      },
      {
       "metadata": {},
       "output_type": "pyout",
       "prompt_number": 32,
       "text": [
        "idx: 2380\tloss: 4.5459151268005\ttrain score: 6.1916666666667\tlabel: 56\tprediction: [1]28 [2]75 [3]81 [4]68 [5]44\t\n"
       ]
      },
      {
       "metadata": {},
       "output_type": "pyout",
       "prompt_number": 32,
       "text": [
        "idx: 2385\tloss: 4.5480623245239\ttrain score: 6.395\tlabel: 8\tprediction: [1]88 [2]66 [3]27 [4]67 [5]53\t\n"
       ]
      },
      {
       "metadata": {},
       "output_type": "pyout",
       "prompt_number": 32,
       "text": [
        "idx: 2390\tloss: 4.5477213859558\ttrain score: 6.4666666666667\tlabel: 56\tprediction: [1]20 [2]50 [3]57 [4]99 [5]96\t\n"
       ]
      },
      {
       "metadata": {},
       "output_type": "pyout",
       "prompt_number": 32,
       "text": [
        "idx: 2395\tloss: 4.5445375442505\ttrain score: 6.3916666666667\tlabel: 26\tprediction: [1]28 [2]75 [3]81 [4]68 [5]44\t\n"
       ]
      },
      {
       "metadata": {},
       "output_type": "pyout",
       "prompt_number": 32,
       "text": [
        "idx: 2400\tloss: 4.5468978881836\ttrain score: 6.5266666666667\tlabel: 36\tprediction: [1]20 [2]50 [3]99 [4]96 [5]70\t\n"
       ]
      },
      {
       "metadata": {},
       "output_type": "pyout",
       "prompt_number": 32,
       "text": [
        "idx: 2405\tloss: 4.5495986938477\ttrain score: 7.0233333333333\tlabel: 37\tprediction: [1]20 [2]50 [3]70 [4]71 [5]96\t\n"
       ]
      },
      {
       "metadata": {},
       "output_type": "pyout",
       "prompt_number": 32,
       "text": [
        "idx: 2410\tloss: 4.5493783950806\ttrain score: 5.73\tlabel: 10\tprediction: [1]20 [2]50 [3]99 [4]96 [5]70\t\n"
       ]
      },
      {
       "metadata": {},
       "output_type": "pyout",
       "prompt_number": 32,
       "text": [
        "idx: 2415\tloss: 4.5438623428345\ttrain score: 7.0933333333333\tlabel: 47\tprediction: [1]28 [2]75 [3]81 [4]68 [5]44\t\n"
       ]
      },
      {
       "metadata": {},
       "output_type": "pyout",
       "prompt_number": 32,
       "text": [
        "idx: 2420\tloss: 4.5513081550598\ttrain score: 5.48\tlabel: 90\tprediction: [1]28 [2]75 [3]81 [4]68 [5]44\t\n"
       ]
      },
      {
       "metadata": {},
       "output_type": "pyout",
       "prompt_number": 32,
       "text": [
        "idx: 2425\tloss: 4.5486578941345\ttrain score: 6.4083333333333\tlabel: 25\tprediction: [1]2 [2]25 [3]46 [4]80 [5]89\t\n"
       ]
      },
      {
       "metadata": {},
       "output_type": "pyout",
       "prompt_number": 32,
       "text": [
        "idx: 2430\tloss: 4.5446171760559\ttrain score: 6.2616666666667\tlabel: 84\tprediction: [1]20 [2]50 [3]99 [4]96 [5]57\t\n"
       ]
      },
      {
       "metadata": {},
       "output_type": "pyout",
       "prompt_number": 32,
       "text": [
        "idx: 2435\tloss: 4.5507826805115\ttrain score: 6.1133333333333\tlabel: 95\tprediction: [1]88 [2]99 [3]20 [4]96 [5]66\t\n"
       ]
      },
      {
       "metadata": {},
       "output_type": "pyout",
       "prompt_number": 32,
       "text": [
        "idx: 2440\tloss: 4.5487012863159\ttrain score: 6.1616666666667\tlabel: 15\tprediction: [1]28 [2]75 [3]81 [4]68 [5]44\t\n"
       ]
      },
      {
       "metadata": {},
       "output_type": "pyout",
       "prompt_number": 32,
       "text": [
        "idx: 2445\tloss: 4.5544404983521\ttrain score: 5.0783333333333\tlabel: 53\tprediction: [1]88 [2]20 [3]99 [4]96 [5]66\t\n"
       ]
      }
     ]
    }
   ],
   "metadata": {}
  }
 ]
}