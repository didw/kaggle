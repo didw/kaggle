{
 "metadata": {
  "language": "lua",
  "name": "",
  "signature": "sha256:b32c2fc4e92ccfa7a7cd147c31b7bfddf1dafbe1eebe5c2bb93a9a6db8d2ed42"
 },
 "nbformat": 3,
 "nbformat_minor": 0,
 "worksheets": [
  {
   "cells": [
    {
     "cell_type": "markdown",
     "metadata": {},
     "source": [
      "From Experiment 01\n",
      "\n",
      "Add userid\n"
     ]
    },
    {
     "cell_type": "code",
     "collapsed": false,
     "input": [
      "require 'torch';\n",
      "require 'nn';\n",
      "require 'cutorch';\n",
      "require 'cunn';\n",
      "require 'cudnn';"
     ],
     "language": "python",
     "metadata": {},
     "outputs": [],
     "prompt_number": 1
    },
    {
     "cell_type": "markdown",
     "metadata": {},
     "source": [
      "### Split data"
     ]
    },
    {
     "cell_type": "code",
     "collapsed": false,
     "input": [
      "function split(str, pat)\n",
      "   local t = {}  -- NOTE: use {n = 0} in Lua-5.0\n",
      "   local fpat = \"(.-)\" .. pat\n",
      "   local last_end = 1\n",
      "   local s, e, cap = str:find(fpat, 1)\n",
      "   while s do\n",
      "      if s ~= 1 or cap ~= \"\" then\n",
      "         table.insert(t,cap)\n",
      "      end\n",
      "      last_end = e+1\n",
      "      s, e, cap = str:find(fpat, last_end)\n",
      "   end\n",
      "   if last_end <= #str then\n",
      "      cap = str:sub(last_end)\n",
      "      table.insert(t, cap)\n",
      "   end\n",
      "   return t\n",
      "end"
     ],
     "language": "python",
     "metadata": {},
     "outputs": [],
     "prompt_number": 2
    },
    {
     "cell_type": "markdown",
     "metadata": {},
     "source": [
      "## Conver Data"
     ]
    },
    {
     "cell_type": "markdown",
     "metadata": {},
     "source": [
      "### 1. To get week number"
     ]
    },
    {
     "cell_type": "code",
     "collapsed": false,
     "input": [
      "function getYearBeginDayOfWeek(tm)\n",
      "  yearBegin = os.time{year=os.date(\"*t\",tm).year,month=1,day=1}\n",
      "  yearBeginDayOfWeek = tonumber(os.date(\"%w\",yearBegin))\n",
      "  -- sunday correct from 0 -> 7\n",
      "  if(yearBeginDayOfWeek == 0) then yearBeginDayOfWeek = 7 end\n",
      "  return yearBeginDayOfWeek\n",
      "end\n",
      "function getDayAdd(tm)\n",
      "  yearBeginDayOfWeek = getYearBeginDayOfWeek(tm)\n",
      "  if(yearBeginDayOfWeek < 5 ) then\n",
      "    -- first day is week 1\n",
      "    dayAdd = (yearBeginDayOfWeek - 2)\n",
      "  else \n",
      "    -- first day is week 52 or 53\n",
      "    dayAdd = (yearBeginDayOfWeek - 9)\n",
      "  end  \n",
      "  return dayAdd\n",
      "end\n",
      "function getWeekNumberOfYear(tm)\n",
      "  dayOfYear = os.date(\"%j\",tm)\n",
      "  dayAdd = getDayAdd(tm)\n",
      "  dayOfYearCorrected = dayOfYear + dayAdd\n",
      "  if(dayOfYearCorrected < 0) then\n",
      "    -- week of last year - decide if 52 or 53\n",
      "    lastYearBegin = os.time{year=os.date(\"*t\",tm).year-1,month=1,day=1}\n",
      "    lastYearEnd = os.time{year=os.date(\"*t\",tm).year-1,month=12,day=31}\n",
      "    dayAdd = getDayAdd(lastYearBegin)\n",
      "    dayOfYear = dayOfYear + os.date(\"%j\",lastYearEnd)\n",
      "    dayOfYearCorrected = dayOfYear + dayAdd\n",
      "  end  \n",
      "  weekNum = math.floor((dayOfYearCorrected) / 7) + 1\n",
      "  if( (dayOfYearCorrected > 0) and weekNum == 53) then\n",
      "    -- check if it is not considered as part of week 1 of next year\n",
      "    nextYearBegin = os.time{year=os.date(\"*t\",tm).year+1,month=1,day=1}\n",
      "    yearBeginDayOfWeek = getYearBeginDayOfWeek(nextYearBegin)\n",
      "    if(yearBeginDayOfWeek < 5 ) then\n",
      "      weekNum = 1\n",
      "    end  \n",
      "  end  \n",
      "  return weekNum\n",
      "end"
     ],
     "language": "python",
     "metadata": {},
     "outputs": [],
     "prompt_number": 3
    },
    {
     "cell_type": "code",
     "collapsed": false,
     "input": [
      "function __getWeekday(tm)\n",
      "    return os.date(\"*t\",tm).wday\n",
      "end"
     ],
     "language": "python",
     "metadata": {},
     "outputs": [],
     "prompt_number": 4
    },
    {
     "cell_type": "code",
     "collapsed": false,
     "input": [
      "function getWeekday(input)\n",
      "    dates = split(input, \"-\")\n",
      "    if table.getn(dates) ~= 3 then\n",
      "        return -1\n",
      "    end\n",
      "    useDate = os.time{year=dates[1],month=dates[2],day=dates[3]}\n",
      "    return __getWeekday(useDate)\n",
      "end"
     ],
     "language": "python",
     "metadata": {},
     "outputs": [],
     "prompt_number": 5
    },
    {
     "cell_type": "code",
     "collapsed": false,
     "input": [
      "function getLengthStay(checkin, checkout)\n",
      "    local dIn= split(checkin, \"-\")\n",
      "    local dOut= split(checkout, \"-\")\n",
      "    if table.getn(dIn) ~= 3 or table.getn(dOut) ~= 3 then\n",
      "        return -1\n",
      "    end\n",
      "    local useDateIn = os.time{year=dIn[1],month=dIn[2],day=dIn[3]}\n",
      "    local useDateOut = os.time{year=dOut[1],month=dOut[2],day=dOut[3]}\n",
      "    local days = (useDateOut - useDateIn)/(24*60*60)\n",
      "    if days > 30 then\n",
      "        days = 30\n",
      "    end\n",
      "    return days\n",
      "end"
     ],
     "language": "python",
     "metadata": {},
     "outputs": [],
     "prompt_number": 6
    },
    {
     "cell_type": "code",
     "collapsed": false,
     "input": [
      "function isIncludeWeekend(checkin, checkout)\n",
      "    local dIn= split(checkin, \"-\")\n",
      "    local dOut= split(checkout, \"-\")\n",
      "    if table.getn(dIn) ~= 3 or table.getn(dOut) ~= 3 then\n",
      "        return -1\n",
      "    end\n",
      "    if getLengthStay(checkin, checkout) > 7 then\n",
      "        return 1\n",
      "    end\n",
      "    local useDateIn = os.time{year=dIn[1],month=dIn[2],day=dIn[3]}\n",
      "    local useDateOut = os.time{year=dOut[1],month=dOut[2],day=dOut[3]}\n",
      "    date = useDateIn\n",
      "    while date < useDateOut do\n",
      "        if __getWeekday(date) == 6 or __getWeekday(date) == 7 then return 1 end\n",
      "        date = date + 24 * 60 * 60\n",
      "    end\n",
      "    return 0\n",
      "end"
     ],
     "language": "python",
     "metadata": {},
     "outputs": [],
     "prompt_number": 7
    },
    {
     "cell_type": "code",
     "collapsed": false,
     "input": [
      "print(isIncludeWeekend(\"2016-05-20\", \"2016-05-21\"))"
     ],
     "language": "python",
     "metadata": {},
     "outputs": [],
     "prompt_number": 8
    },
    {
     "cell_type": "code",
     "collapsed": false,
     "input": [
      "function getDate(input)\n",
      "    dates = split(input, \"-\")\n",
      "    if table.getn(dates) ~= 3 then\n",
      "        return -1\n",
      "    end\n",
      "    useDate = os.time{year=dates[1],month=dates[2],day=dates[3]}\n",
      "    weekNum = getWeekNumberOfYear(useDate)\n",
      "    return weekNum\n",
      "end"
     ],
     "language": "python",
     "metadata": {},
     "outputs": [
      {
       "metadata": {},
       "output_type": "pyout",
       "prompt_number": 9,
       "text": [
        "1\t\n"
       ]
      }
     ],
     "prompt_number": 9
    },
    {
     "cell_type": "markdown",
     "metadata": {},
     "source": [
      "### 2. onehot"
     ]
    },
    {
     "cell_type": "code",
     "collapsed": false,
     "input": [
      "function onehot(tab, value, len)\n",
      "    if value == nil then\n",
      "        value = 0\n",
      "    end\n",
      "    for i=1,len do\n",
      "        if i==tonumber(value) then\n",
      "            table.insert(tab, 1)\n",
      "        else\n",
      "            table.insert(tab, 0)\n",
      "        end\n",
      "    end\n",
      "end"
     ],
     "language": "python",
     "metadata": {},
     "outputs": [],
     "prompt_number": 10
    },
    {
     "cell_type": "code",
     "collapsed": false,
     "input": [
      "function onehot_range(data, value, len, step)\n",
      "    if value == nil then\n",
      "        value = 0\n",
      "    end\n",
      "    for i=1,len do\n",
      "        if tonumber(value) > i*tonumber(step) then\n",
      "            table.insert(data, 0)\n",
      "        else\n",
      "            table.insert(data, 1)\n",
      "            value = len * (step + 1)\n",
      "        end\n",
      "    end\n",
      "end"
     ],
     "language": "python",
     "metadata": {},
     "outputs": [],
     "prompt_number": 11
    },
    {
     "cell_type": "markdown",
     "metadata": {},
     "source": [
      "### 3. binary"
     ]
    },
    {
     "cell_type": "code",
     "collapsed": false,
     "input": [
      "function binary(data, value, len)\n",
      "    while len > 0 do\n",
      "        if value % 2 == 1 then\n",
      "            table.insert(data, 1)\n",
      "        else\n",
      "            table.insert(data, 0)\n",
      "        end\n",
      "        value = value / 2\n",
      "        len = (len / 2) - (len / 2)%1\n",
      "    end\n",
      "end"
     ],
     "language": "python",
     "metadata": {},
     "outputs": [],
     "prompt_number": 12
    },
    {
     "cell_type": "markdown",
     "metadata": {},
     "source": [
      "### 4. dest info"
     ]
    },
    {
     "cell_type": "code",
     "collapsed": false,
     "input": [
      "fileName = 'data/destinations.csv'\n",
      "\n",
      "info_sum = {}\n",
      "info_mean = {}\n",
      "info_std = {}\n",
      "N = 1\n",
      "head = 1\n",
      "for i=1,149 do table.insert(info_sum, 0) end\n",
      "for line in io.lines ( fileName ) do \n",
      "    if head == 1 then\n",
      "        head = 0\n",
      "    else\n",
      "        destdata = split(line, ',')\n",
      "        for j=1,149 do\n",
      "            info_sum[j] = info_sum[j] + tonumber(destdata[j+1])\n",
      "        end\n",
      "        N = N + 1\n",
      "    end\n",
      "end\n",
      "\n",
      "for i=1,149 do info_mean[i] = info_sum[i] / N end\n",
      "\n",
      "info_sum = {}\n",
      "N = 1\n",
      "head = 1\n",
      "for i=1,149 do table.insert(info_sum, 0) end\n",
      "for line in io.lines ( fileName ) do \n",
      "    if head == 1 then\n",
      "        head = 0\n",
      "    else\n",
      "        destdata = split(line, ',')\n",
      "        for j=1,149 do\n",
      "            info_sum[j] = info_sum[j] + (tonumber(destdata[j+1]) - info_mean[j]) * (tonumber(destdata[j+1]) - info_mean[j])\n",
      "        end\n",
      "        N = N + 1\n",
      "    end\n",
      "end\n",
      "\n",
      "for i=1,149 do info_std[i] = math.sqrt(info_sum[i] / N) end"
     ],
     "language": "python",
     "metadata": {},
     "outputs": [],
     "prompt_number": 13
    },
    {
     "cell_type": "code",
     "collapsed": false,
     "input": [
      "destInfo = {}\n",
      "i = 0\n",
      "head = 1\n",
      "nEmpty = 0\n",
      "empty_row = {}\n",
      "for j=1,149 do\n",
      "    table.insert(empty_row, 0)\n",
      "end\n",
      "for line in io.lines ( fileName ) do \n",
      "    if head == 1 then\n",
      "        head = 0\n",
      "    else\n",
      "        destdata = split(line, ',')\n",
      "        while tonumber(destdata[1]) ~= i do\n",
      "            --print('Empty line => destdata[1]: ' .. destdata[1], 'i: ' .. i)\n",
      "            table.insert(destInfo, empty_row)\n",
      "            i = i + 1\n",
      "            nEmpty = nEmpty + 1\n",
      "        end\n",
      "        row = {}\n",
      "        for j=1,149 do\n",
      "            table.insert(row, (destdata[j+1] - info_mean[j]) / info_std[j])\n",
      "        end\n",
      "        table.insert(destInfo, row)\n",
      "        if tonumber(destdata[1]) ~= i then\n",
      "            --print('Not Matched => destdata[1]: ' .. destdata[1], 'i: ' .. i)\n",
      "        end\n",
      "        i = i + 1\n",
      "    end\n",
      "end\n",
      "\n",
      "for i=1,1000 do table.insert(destInfo, empty_row) end\n",
      "print('nEmpty:' .. nEmpty)"
     ],
     "language": "python",
     "metadata": {},
     "outputs": [
      {
       "metadata": {},
       "output_type": "pyout",
       "prompt_number": 14,
       "text": [
        "nEmpty:2888\t\n"
       ]
      }
     ],
     "prompt_number": 14
    },
    {
     "cell_type": "code",
     "collapsed": false,
     "input": [
      "function addDestinationInfo(data, value)\n",
      "    for i=1,149 do\n",
      "        table.insert(data, destInfo[value][i])\n",
      "    end\n",
      "end"
     ],
     "language": "python",
     "metadata": {},
     "outputs": [],
     "prompt_number": 15
    },
    {
     "cell_type": "markdown",
     "metadata": {},
     "source": [
      "### Convert input to data"
     ]
    },
    {
     "cell_type": "code",
     "collapsed": false,
     "input": [
      "function dataConvert(line)\n",
      "    if line == nil then\n",
      "        print('line is empty')\n",
      "    end\n",
      "    words = split(line, \",\")\n",
      "    data = {}\n",
      "    aa = split(words[1], ' ')[1]\n",
      "    table.insert(data, (tonumber(getDate(aa)) - 26) / 26) --1 [1]\n",
      "    table.insert(data, (getDate(words[12]) - 26) / 26) --12   [2]\n",
      "    table.insert(data, (getDate(words[13]) - 26) / 26) --13   [3]\n",
      "    \n",
      "    binary(data, getWeekday(aa), 7)                           -- [4:6]\n",
      "    table.insert(data, isIncludeWeekend(words[12], words[13])) -- [7]\n",
      "    binary(data, getLengthStay(words[12], words[13]), 30)      -- [8:12]\n",
      "    \n",
      "    if tonumber(words[7]) == nil then\n",
      "        table.insert(data, 0) -- distance\n",
      "    else\n",
      "        table.insert(data, (tonumber(words[7]) - 1800) / 1600) -- distance [13]\n",
      "    end\n",
      "    table.insert(data, words[9])                              -- [14]\n",
      "    table.insert(data, words[10])                             -- [15]\n",
      "    table.insert(data, words[20])                             -- [16]\n",
      "        \n",
      "    binary(data, words[2], 54)                               -- [17:22]\n",
      "    binary(data, words[3], 5)                                -- [23:25]\n",
      "    binary(data, words[4], 240)                              -- [26:33]\n",
      "    binary(data, words[5], 1028)                             -- [34:44]\n",
      "    binary(data, words[6], 56509)                            -- [45:60]\n",
      "    binary(data, words[8], 1198785)                          -- [61:81]\n",
      "    binary(data, words[11], 11)                              -- [82:85]\n",
      "    binary(data, words[14], 10)                              -- [86:89]\n",
      "    binary(data, words[15], 10)                              -- [90:93]\n",
      "    binary(data, words[16], 9)                               -- [94:97]\n",
      "    binary(data, words[18], 10)                              -- [98:101]\n",
      "    binary(data, words[21], 7)                               -- [102:104]\n",
      "    binary(data, words[22], 213)                             -- [105:112]\n",
      "    binary(data, words[23], 2118)                            -- [114:124]\n",
      "    \n",
      "    -- destination information (17)\n",
      "    binary(data, tonumber(words[17]), 65107)                 -- [125:140]\n",
      "    addDestinationInfo(data, tonumber(words[17]))            -- [141:289]\n",
      "    \n",
      "    return data\n",
      "end"
     ],
     "language": "python",
     "metadata": {},
     "outputs": [],
     "prompt_number": 16
    },
    {
     "cell_type": "code",
     "collapsed": false,
     "input": [
      "function testdataConvert(line)\n",
      "    if line == nil then\n",
      "        print('line is empty')\n",
      "    end\n",
      "    words = split(line, \",\")\n",
      "    data = {}\n",
      "    aa = split(words[2], ' ')[1]\n",
      "    table.insert(data, (tonumber(getDate(aa)) - 26) / 26) --1\n",
      "    table.insert(data, (getDate(words[13]) - 26) / 26) --12\n",
      "    table.insert(data, (getDate(words[14]) - 26) / 26) --13\n",
      "    \n",
      "    binary(data, getWeekday(aa), 7)\n",
      "    table.insert(data, isIncludeWeekend(words[13], words[14]))\n",
      "    binary(data, getLengthStay(words[13], words[14]), 30)\n",
      "    \n",
      "    if tonumber(words[8]) == nil then\n",
      "        table.insert(data, 0) -- distance\n",
      "    else\n",
      "        table.insert(data, (tonumber(words[8]) - 1800) / 1600) -- distance\n",
      "    end\n",
      "    table.insert(data, words[10])\n",
      "    table.insert(data, words[11])\n",
      "    table.insert(data, 1)\n",
      "        \n",
      "    binary(data, words[3], 54)\n",
      "    binary(data, words[4], 5)\n",
      "    binary(data, words[5], 240)\n",
      "    binary(data, words[6], 1028)\n",
      "    binary(data, words[7], 56509)\n",
      "    binary(data, words[9], 1198785)      -- user id\n",
      "    binary(data, words[12], 11)\n",
      "    binary(data, words[15], 10)\n",
      "    binary(data, words[16], 10)\n",
      "    binary(data, words[17], 9)\n",
      "    binary(data, words[19], 10)\n",
      "    binary(data, words[20], 7)\n",
      "    binary(data, words[21], 213)\n",
      "    binary(data, words[22], 2118)\n",
      "    \n",
      "    -- destination information (17)\n",
      "    binary(data, tonumber(words[18]), 65107)            -- [121:269]\n",
      "    addDestinationInfo(data, tonumber(words[18]))\n",
      "    \n",
      "    return data\n",
      "end"
     ],
     "language": "python",
     "metadata": {},
     "outputs": [],
     "prompt_number": 17
    },
    {
     "cell_type": "markdown",
     "metadata": {},
     "source": [
      "### Load Data"
     ]
    },
    {
     "cell_type": "code",
     "collapsed": false,
     "input": [
      "function tableToOutput(dataTable, scalarTable)\n",
      "   local data, scalarLabels, labels\n",
      "   local quantity = #scalarTable\n",
      "   local size = #dataTable[1]\n",
      "   data = torch.Tensor(quantity, size)\n",
      "   scalarLabels = torch.LongTensor(quantity):fill(-1111)\n",
      "   for i=1,#dataTable do\n",
      "      for j=1,#dataTable[1] do\n",
      "         data[i][j] = dataTable[i][j]\n",
      "      end\n",
      "      scalarLabels[i] = scalarTable[i]\n",
      "   end\n",
      "   return data, scalarLabels\n",
      "end"
     ],
     "language": "python",
     "metadata": {},
     "outputs": [],
     "prompt_number": 18
    },
    {
     "cell_type": "code",
     "collapsed": false,
     "input": [
      "function loadData(quantity)\n",
      "    dataTable = {}\n",
      "    labTable = {}\n",
      "    for i=1,quantity do\n",
      "        local class = torch.random(0,99)\n",
      "        local fname = 'data/train/train_' .. string.format( \"%02d\", class ) .. '.csv'\n",
      "        file = io.open(fname, \"r\")\n",
      "        picked = torch.random(1,file:seek(\"end\")-200)\n",
      "        file:seek(\"set\", picked)\n",
      "        file:read()\n",
      "        table.insert(dataTable, dataConvert(file:read()))\n",
      "        table.insert(labTable, class+1)\n",
      "        io.close(file)\n",
      "    end\n",
      "    local data, label = tableToOutput(dataTable, labTable)\n",
      "    return data, label\n",
      "end"
     ],
     "language": "python",
     "metadata": {},
     "outputs": [],
     "prompt_number": 19
    },
    {
     "cell_type": "markdown",
     "metadata": {},
     "source": [
      "### Data normalize"
     ]
    },
    {
     "cell_type": "code",
     "collapsed": false,
     "input": [
      "distMean = 0\n",
      "distsum = 0\n",
      "data = loadData(1000)\n",
      "N = 0\n",
      "for i=1,1000 do \n",
      "    if data[i][4] ~= 0 then \n",
      "        N = N + 1; distsum = distsum + data[i][4] \n",
      "    end \n",
      "end\n",
      "distMean = distsum / N\n",
      "print(distsum)\n",
      "print(distMean)\n",
      "distsum = 0\n",
      "for i=1,1000 do \n",
      "    if data[i][4] ~= 0 then \n",
      "        N = N + 1; distsum = distsum + (data[i][4] -distMean)*(data[i][4] -distMean)\n",
      "    end \n",
      "end\n",
      "print(math.sqrt(distsum / N))"
     ],
     "language": "python",
     "metadata": {},
     "outputs": [
      {
       "metadata": {},
       "output_type": "pyout",
       "prompt_number": 20,
       "text": [
        "530\t\n",
        "1\t\n"
       ]
      },
      {
       "metadata": {},
       "output_type": "pyout",
       "prompt_number": 20,
       "text": [
        "0\t\n"
       ]
      }
     ],
     "prompt_number": 20
    },
    {
     "cell_type": "markdown",
     "metadata": {},
     "source": [
      "### Build model"
     ]
    },
    {
     "cell_type": "code",
     "collapsed": false,
     "input": [
      "f1 = nn.Sequential()\n",
      "f1:add(nn.Narrow(2,1,1))\n",
      "f1:add(nn.Identity())\n",
      "\n",
      "f2 = nn.Sequential()\n",
      "f2:add(nn.Narrow(2,2,2))\n",
      "f2:add(nn.Linear(2,1))\n",
      "\n",
      "f3 = nn.Sequential()\n",
      "f3:add(nn.Narrow(2,4,3))\n",
      "f3:add(nn.Linear(3,1))\n",
      "\n",
      "f4 = nn.Sequential()\n",
      "f4:add(nn.Narrow(2,7,1))\n",
      "f4:add(nn.Identity())\n",
      "\n",
      "f5 = nn.Sequential()\n",
      "f5:add(nn.Narrow(2,8,5))\n",
      "f5:add(nn.Linear(5,1))\n",
      "\n",
      "f6 = nn.Sequential()\n",
      "f6:add(nn.Narrow(2,13,1))\n",
      "f6:add(nn.Identity())\n",
      "\n",
      "f7 = nn.Sequential()\n",
      "f7:add(nn.Narrow(2,14,1))\n",
      "f7:add(nn.Identity())\n",
      "\n",
      "f8 = nn.Sequential()\n",
      "f8:add(nn.Narrow(2,15,1))\n",
      "f8:add(nn.Identity())\n",
      "\n",
      "f9 = nn.Sequential()\n",
      "f9:add(nn.Narrow(2,16,1))\n",
      "f9:add(nn.Identity())\n",
      "\n",
      "f10 = nn.Sequential()\n",
      "f10:add(nn.Narrow(2,17,6))\n",
      "f10:add(nn.Linear(6,2))\n",
      "\n",
      "f11 = nn.Sequential()\n",
      "f11:add(nn.Narrow(2,23,3))\n",
      "f11:add(nn.Linear(3,1))\n",
      "\n",
      "f12 = nn.Sequential()\n",
      "f12:add(nn.Narrow(2,26,8))\n",
      "f12:add(nn.Linear(8,2))\n",
      "\n",
      "f13 = nn.Sequential()\n",
      "f13:add(nn.Narrow(2,34,11))\n",
      "f13:add(nn.Linear(11,3))\n",
      "\n",
      "f14 = nn.Sequential()\n",
      "f14:add(nn.Narrow(2,45,16))\n",
      "f14:add(nn.Linear(16,4))\n",
      "\n",
      "f15 = nn.Sequential()\n",
      "f15:add(nn.Narrow(2,61,21))\n",
      "f15:add(nn.Linear(21,5))\n",
      "\n",
      "f16 = nn.Sequential()\n",
      "f16:add(nn.Narrow(2,82,4))\n",
      "f16:add(nn.Linear(4,1))\n",
      "\n",
      "f17 = nn.Sequential()\n",
      "f17:add(nn.Narrow(2,86,4))\n",
      "f17:add(nn.Linear(4,1))\n",
      "\n",
      "f18 = nn.Sequential()\n",
      "f18:add(nn.Narrow(2,90,4))\n",
      "f18:add(nn.Linear(4,1))\n",
      "\n",
      "f19 = nn.Sequential()\n",
      "f19:add(nn.Narrow(2,94,4))\n",
      "f19:add(nn.Linear(4,1))\n",
      "\n",
      "f20 = nn.Sequential()\n",
      "f20:add(nn.Narrow(2,98,4))\n",
      "f20:add(nn.Linear(4,1))\n",
      "\n",
      "f21 = nn.Sequential()\n",
      "f21:add(nn.Narrow(2,102,3))\n",
      "f21:add(nn.Linear(3,1))\n",
      "\n",
      "f22 = nn.Sequential()\n",
      "f22:add(nn.Narrow(2,105,8))\n",
      "f22:add(nn.Linear(8,2))\n",
      "\n",
      "f23 = nn.Sequential()\n",
      "f23:add(nn.Narrow(2,113,12))\n",
      "f23:add(nn.Linear(12,3))\n",
      "\n",
      "f24 = nn.Sequential()\n",
      "f24:add(nn.Narrow(2,125,16))\n",
      "f24:add(nn.Linear(16,4))\n",
      "\n",
      "f25 = nn.Sequential()\n",
      "f25:add(nn.Narrow(2,141,149))\n",
      "f25:add(nn.Linear(149,40))"
     ],
     "language": "python",
     "metadata": {},
     "outputs": [],
     "prompt_number": 37
    },
    {
     "cell_type": "code",
     "collapsed": false,
     "input": [
      "mlp1 = nn.ConcatTable()\n",
      "mlp1:add(f1)\n",
      "mlp1:add(f2)\n",
      "mlp1:add(f3)\n",
      "mlp1:add(f4)\n",
      "mlp1:add(f5)\n",
      "mlp1:add(f6)\n",
      "mlp1:add(f7)\n",
      "mlp1:add(f8)\n",
      "mlp1:add(f9)\n",
      "mlp1:add(f10)\n",
      "mlp1:add(f11)\n",
      "mlp1:add(f12)\n",
      "mlp1:add(f13)\n",
      "mlp1:add(f14)\n",
      "mlp1:add(f15)\n",
      "mlp1:add(f16)\n",
      "mlp1:add(f17)\n",
      "mlp1:add(f18)\n",
      "mlp1:add(f19)\n",
      "mlp1:add(f20)\n",
      "mlp1:add(f21)\n",
      "mlp1:add(f22)\n",
      "mlp1:add(f23)\n",
      "mlp1:add(f24)\n",
      "mlp1:add(f25)"
     ],
     "language": "python",
     "metadata": {},
     "outputs": [],
     "prompt_number": 38
    },
    {
     "cell_type": "code",
     "collapsed": false,
     "input": [
      "mlp2 = nn.Sequential()\n",
      "mlp2:add(nn.JoinTable(2))"
     ],
     "language": "python",
     "metadata": {},
     "outputs": [],
     "prompt_number": 39
    },
    {
     "cell_type": "code",
     "collapsed": false,
     "input": [
      "classifier = nn.Sequential()\n",
      "-- for onehot inputsize: 3871\n",
      "classifier:add(nn.Linear(81, 1024))\n",
      "classifier:add(nn.Threshold(0, 1e-6))\n",
      "classifier:add(nn.ReLU())\n",
      "classifier:add(nn.Linear(1024, 256))\n",
      "classifier:add(nn.Threshold(0, 1e-6))\n",
      "classifier:add(nn.ReLU())\n",
      "classifier:add(nn.Linear(256, 100))\n",
      "classifier:add(nn.Sigmoid())"
     ],
     "language": "python",
     "metadata": {},
     "outputs": [],
     "prompt_number": 46
    },
    {
     "cell_type": "code",
     "collapsed": false,
     "input": [
      "model = nn.Sequential()\n",
      "model:add(mlp1)\n",
      "model:add(mlp2)\n",
      "model:add(classifier)\n",
      "model = model:cuda()\n",
      "params, grad_params = model:getParameters()\n",
      "\n",
      "crit = nn.CrossEntropyCriterion()\n",
      "crit = crit:cuda()"
     ],
     "language": "python",
     "metadata": {},
     "outputs": [],
     "prompt_number": 47
    },
    {
     "cell_type": "code",
     "collapsed": false,
     "input": [
      "local x,y = loadData(2)\n",
      "model:forward(x:cuda())"
     ],
     "language": "python",
     "metadata": {},
     "outputs": [],
     "prompt_number": 48
    },
    {
     "cell_type": "markdown",
     "metadata": {},
     "source": [
      "model = nn.Sequential()\n",
      "-- for onehot inputsize: 3871\n",
      "model:add(nn.Linear(252, 1024))\n",
      "model:add(nn.Sigmoid())\n",
      "model:add(nn.Linear(1024, 2048))\n",
      "model:add(nn.Sigmoid())\n",
      "model:add(nn.Linear(2048, 4096))\n",
      "model:add(nn.Sigmoid())\n",
      "model:add(nn.Linear(4096, 100))\n",
      "model = model:cuda()\n",
      "\n",
      "params, grad_params = model:getParameters()\n",
      "crit = nn.CrossEntropyCriterion()\n",
      "crit = crit:cuda()"
     ]
    },
    {
     "cell_type": "markdown",
     "metadata": {},
     "source": [
      "### Print"
     ]
    },
    {
     "cell_type": "code",
     "collapsed": false,
     "input": [
      "function PrintCM(idx)\n",
      "  local loss = 0\n",
      "  local top1 = 0\n",
      "  model:evaluate()\n",
      "  local x, y = loadData(1000)\n",
      "  x = x:cuda()\n",
      "  y = y:cuda()\n",
      "  local N = y:size(1)\n",
      "  local scores = model:forward(x)\n",
      "  loss = loss + crit:forward(scores, y)\n",
      "\n",
      "  local pred = scores:float()\n",
      "  local _, pred_sorted = pred:sort(2, true)\n",
      "\n",
      "  for i=1,N do\n",
      "    for j=1,5 do\n",
      "        if pred_sorted[i][j] == y[i] then\n",
      "          top1 = top1 + (1/j)\n",
      "        end\n",
      "    end\n",
      "  end\n",
      "  print(\"idx: \" .. idx, \"loss: \" .. loss, \"train score: \" .. top1 * 100 / N, 'label: ' .. y[1],\n",
      "        'prediction: [1]' .. pred_sorted[1][1] .. ' [2]' .. pred_sorted[1][2] .. ' [3]' .. pred_sorted[1][3] .. ' [4]' .. pred_sorted[1][4] .. ' [5]' .. pred_sorted[1][5])\n",
      "end"
     ],
     "language": "python",
     "metadata": {},
     "outputs": [],
     "prompt_number": 49
    },
    {
     "cell_type": "markdown",
     "metadata": {},
     "source": [
      "### Check Size"
     ]
    },
    {
     "cell_type": "code",
     "collapsed": false,
     "input": [
      "local x,y = loadData(2)\n",
      "print(x:size())\n",
      "print(y:size())"
     ],
     "language": "python",
     "metadata": {},
     "outputs": [],
     "prompt_number": 50
    },
    {
     "cell_type": "markdown",
     "metadata": {},
     "source": [
      "### Training"
     ]
    },
    {
     "cell_type": "code",
     "collapsed": false,
     "input": [
      "require 'optim';"
     ],
     "language": "python",
     "metadata": {},
     "outputs": [],
     "prompt_number": 51
    },
    {
     "cell_type": "code",
     "collapsed": false,
     "input": [
      "opt = {}\n",
      "batch_size = 10000\n",
      "train_size = 3000000\n",
      "max_epoch = 100\n",
      "opt.learningRate = 1e-2\n",
      "opt.lr_decay_factor = 0.5\n",
      "opt.lr_decay_every = 5 * train_size / batch_size\n",
      "opt.print_every = 5\n",
      "evaluate_every = 10 * train_size / batch_size\n",
      "optim_config = {learningRate = opt.learningRate}\n",
      "num_iterations = max_epoch * train_size / batch_size\n",
      "epoch = 1"
     ],
     "language": "python",
     "metadata": {},
     "outputs": [
      {
       "metadata": {},
       "output_type": "pyout",
       "prompt_number": 52,
       "text": [
        "   2\n",
        " 289\n",
        "[torch.LongStorage of size 2]\n",
        "\n",
        " 2\n",
        "[torch.LongStorage of size 1]\n",
        "\n"
       ]
      }
     ],
     "prompt_number": 52
    },
    {
     "cell_type": "code",
     "collapsed": false,
     "input": [
      "opt.learningRate = 1e-2\n",
      "opt.print_every = 5\n",
      "num_iterations = 11 * train_size / batch_size"
     ],
     "language": "python",
     "metadata": {},
     "outputs": [],
     "prompt_number": 53
    },
    {
     "cell_type": "code",
     "collapsed": false,
     "input": [
      "-- Loss function that we pass to an optim method\n",
      "function f(w)\n",
      "  assert(w == params)\n",
      "  grad_params:zero()\n",
      "\n",
      "  --local x, y = loader:nextBatch('train')\n",
      "  local x, y = loadData(batch_size)\n",
      "  \n",
      "  x = x:cuda()\n",
      "  y = y:cuda()\n",
      "  local scores = model:forward(x)\n",
      "  local loss = crit:forward(scores, y)\n",
      "  local grad_scores = crit:backward(scores, y)\n",
      "  model:backward(x, grad_scores)\n",
      "\n",
      "  grad_params:clamp(-5, 5)\n",
      "\n",
      "  return loss, grad_params\n",
      "end"
     ],
     "language": "python",
     "metadata": {},
     "outputs": [],
     "prompt_number": 54
    },
    {
     "cell_type": "code",
     "collapsed": false,
     "input": [
      "model:training()"
     ],
     "language": "python",
     "metadata": {},
     "outputs": [],
     "prompt_number": 55
    },
    {
     "cell_type": "code",
     "collapsed": false,
     "input": [
      "function saveModel(e)\n",
      "    local filename = string.format(\"model/model_%02d.t7\", e)\n",
      "    model:clearState()\n",
      "    model:float()\n",
      "    torch.save(filename, model)\n",
      "    model:cuda()\n",
      "end"
     ],
     "language": "python",
     "metadata": {},
     "outputs": [],
     "prompt_number": 56
    },
    {
     "cell_type": "code",
     "collapsed": false,
     "input": [
      "function make_submission(idx)\n",
      "    model:evaluate()\n",
      "    testname = 'data/test.csv'\n",
      "    submission_name = string.format(\"data/submission_%02d.csv\", idx)\n",
      "    submission_file = io.open(submission_name, 'w')\n",
      "    head = 1\n",
      "    idx = 0\n",
      "    submission_file:write(\"id,hotel_cluster\\n\")\n",
      "    for line in io.lines ( testname ) do\n",
      "        if head == 1 then\n",
      "            head = 0\n",
      "        else\n",
      "            testdata = testdataConvert(line)\n",
      "            words = split(line, ',')\n",
      "            if tonumber(words[1]) ~= idx then\n",
      "                print('words:' .. words[1] .. ', idx:' .. idx)            \n",
      "                idx = words[1]\n",
      "            end\n",
      "            tx, _ = tableToOutput({testdata}, {1})\n",
      "            local outputs = model:forward(tx:cuda())\n",
      "            local _, ps = outputs:float():sort(2, true)\n",
      "            submission_file:write(idx .. ',' .. ps[1][1]-1 .. ' ' .. ps[1][2]-1 .. ' ' .. ps[1][3]-1 .. ' ' .. ps[1][4]-1 .. ' ' .. ps[1][5]-1 .. '\\n')\n",
      "            idx = idx + 1\n",
      "        end\n",
      "    end\n",
      "    io.close(submission_file)\n",
      "end"
     ],
     "language": "python",
     "metadata": {},
     "outputs": [
      {
       "metadata": {},
       "output_type": "pyout",
       "prompt_number": 57,
       "text": [
        "\n"
       ]
      }
     ],
     "prompt_number": 57
    },
    {
     "cell_type": "code",
     "collapsed": false,
     "input": [
      "for i = 0, num_iterations do\n",
      "    if i ~= 0 and i % opt.lr_decay_every == 0 then\n",
      "        old_lr = opt.learningRate\n",
      "        opt.learningRate = opt.learningRate * opt.lr_decay_factor\n",
      "        optim_config = {learningRate = old_lr * opt.lr_decay_factor}\n",
      "        saveModel(epoch)\n",
      "        epoch = epoch + 1\n",
      "        print('current LR: ' .. opt.learningRate)\n",
      "    end\n",
      "    \n",
      "    local _, loss = optim.adam(f, params, optim_config)\n",
      "    if i % opt.print_every == 0 then\n",
      "        model:evaluate()\n",
      "        PrintCM(i)\n",
      "        model:training()\n",
      "    end\n",
      "    \n",
      "    if i ~= 0 and i % evaluate_every == 0 then\n",
      "        make_submission(i)\n",
      "    end\n",
      "end"
     ],
     "language": "python",
     "metadata": {},
     "outputs": [
      {
       "metadata": {},
       "output_type": "pyout",
       "prompt_number": 58,
       "text": [
        "idx: 0\tloss: 4.5728645324707\ttrain score: 3.4333333333333\tlabel: 95\tprediction: [1]61 [2]90 [3]31 [4]44 [5]21\t\n"
       ]
      },
      {
       "metadata": {},
       "output_type": "pyout",
       "prompt_number": 58,
       "text": [
        "idx: 5\tloss: 4.3980484008789\ttrain score: 8.7766666666667\tlabel: 71\tprediction: [1]51 [2]43 [3]77 [4]40 [5]52\t\n"
       ]
      },
      {
       "metadata": {},
       "output_type": "pyout",
       "prompt_number": 58,
       "text": [
        "idx: 10\tloss: 4.3236784934998\ttrain score: 8.835\tlabel: 60\tprediction: [1]69 [2]35 [3]19 [4]10 [5]5\t\n"
       ]
      },
      {
       "metadata": {},
       "output_type": "pyout",
       "prompt_number": 58,
       "text": [
        "idx: 15\tloss: 4.3146524429321\ttrain score: 9.955\tlabel: 61\tprediction: [1]68 [2]82 [3]23 [4]86 [5]63\t\n"
       ]
      },
      {
       "metadata": {},
       "output_type": "pyout",
       "prompt_number": 58,
       "text": [
        "idx: 20\tloss: 4.2901725769043\ttrain score: 7.8033333333333\tlabel: 23\tprediction: [1]82 [2]63 [3]59 [4]79 [5]68\t\n"
       ]
      },
      {
       "metadata": {},
       "output_type": "pyout",
       "prompt_number": 58,
       "text": [
        "idx: 25\tloss: 4.243471622467\ttrain score: 10.911666666667\tlabel: 15\tprediction: [1]43 [2]40 [3]14 [4]8 [5]48\t\n"
       ]
      },
      {
       "metadata": {},
       "output_type": "pyout",
       "prompt_number": 58,
       "text": [
        "idx: 30\tloss: 4.265016078949\ttrain score: 10.8\tlabel: 71\tprediction: [1]50 [2]98 [3]99 [4]69 [5]20\t\n"
       ]
      },
      {
       "metadata": {},
       "output_type": "pyout",
       "prompt_number": 58,
       "text": [
        "idx: 35\tloss: 4.2140083312988\ttrain score: 11.543333333333\tlabel: 30\tprediction: [1]59 [2]47 [3]3 [4]39 [5]63\t\n"
       ]
      },
      {
       "metadata": {},
       "output_type": "pyout",
       "prompt_number": 58,
       "text": [
        "idx: 40\tloss: 4.2353758811951\ttrain score: 11.126666666667\tlabel: 36\tprediction: [1]37 [2]39 [3]79 [4]23 [5]30\t\n"
       ]
      },
      {
       "metadata": {},
       "output_type": "pyout",
       "prompt_number": 58,
       "text": [
        "idx: 45\tloss: 4.2422399520874\ttrain score: 12.35\tlabel: 24\tprediction: [1]50 [2]20 [3]42 [4]19 [5]24\t\n"
       ]
      },
      {
       "metadata": {},
       "output_type": "pyout",
       "prompt_number": 58,
       "text": [
        "idx: 50\tloss: 4.2092561721802\ttrain score: 13.815\tlabel: 94\tprediction: [1]63 [2]83 [3]21 [4]39 [5]59\t\n"
       ]
      },
      {
       "metadata": {},
       "output_type": "pyout",
       "prompt_number": 58,
       "text": [
        "idx: 55\tloss: 4.20538854599\ttrain score: 11.733333333333\tlabel: 51\tprediction: [1]32 [2]40 [3]43 [4]33 [5]48\t\n"
       ]
      },
      {
       "metadata": {},
       "output_type": "pyout",
       "prompt_number": 58,
       "text": [
        "idx: 60\tloss: 4.2095222473145\ttrain score: 13.441666666667\tlabel: 58\tprediction: [1]13 [2]62 [3]21 [4]86 [5]83\t\n"
       ]
      },
      {
       "metadata": {},
       "output_type": "pyout",
       "prompt_number": 58,
       "text": [
        "idx: 65\tloss: 4.1895022392273\ttrain score: 12.441666666667\tlabel: 44\tprediction: [1]8 [2]51 [3]33 [4]40 [5]44\t\n"
       ]
      },
      {
       "metadata": {},
       "output_type": "pyout",
       "prompt_number": 58,
       "text": [
        "idx: 70\tloss: 4.2011742591858\ttrain score: 13.851666666667\tlabel: 24\tprediction: [1]84 [2]34 [3]24 [4]19 [5]41\t\n"
       ]
      },
      {
       "metadata": {},
       "output_type": "pyout",
       "prompt_number": 58,
       "text": [
        "idx: 75\tloss: 4.1767911911011\ttrain score: 12.823333333333\tlabel: 69\tprediction: [1]22 [2]73 [3]84 [4]40 [5]34\t\n"
       ]
      },
      {
       "metadata": {},
       "output_type": "pyout",
       "prompt_number": 58,
       "text": [
        "idx: 80\tloss: 4.1769428253174\ttrain score: 11.98\tlabel: 93\tprediction: [1]43 [2]17 [3]40 [4]95 [5]33\t\n"
       ]
      },
      {
       "metadata": {},
       "output_type": "pyout",
       "prompt_number": 58,
       "text": [
        "idx: 85\tloss: 4.158534526825\ttrain score: 13.881666666667\tlabel: 42\tprediction: [1]22 [2]50 [3]57 [4]71 [5]99\t\n"
       ]
      },
      {
       "metadata": {},
       "output_type": "pyout",
       "prompt_number": 58,
       "text": [
        "idx: 90\tloss: 4.1802868843079\ttrain score: 11.088333333333\tlabel: 6\tprediction: [1]83 [2]31 [3]82 [4]86 [5]79\t\n"
       ]
      },
      {
       "metadata": {},
       "output_type": "pyout",
       "prompt_number": 58,
       "text": [
        "idx: 95\tloss: 4.1800441741943\ttrain score: 13.653333333333\tlabel: 75\tprediction: [1]75 [2]11 [3]29 [4]15 [5]22\t\n"
       ]
      },
      {
       "metadata": {},
       "output_type": "pyout",
       "prompt_number": 58,
       "text": [
        "idx: 100\tloss: 4.1637153625488\ttrain score: 12.551666666667\tlabel: 22\tprediction: [1]92 [2]41 [3]34 [4]40 [5]73\t\n"
       ]
      },
      {
       "metadata": {},
       "output_type": "pyout",
       "prompt_number": 58,
       "text": [
        "idx: 105\tloss: 4.1421213150024\ttrain score: 11.935\tlabel: 40\tprediction: [1]34 [2]19 [3]17 [4]73 [5]48\t\n"
       ]
      },
      {
       "metadata": {},
       "output_type": "pyout",
       "prompt_number": 58,
       "text": [
        "idx: 110\tloss: 4.1501545906067\ttrain score: 12.673333333333\tlabel: 60\tprediction: [1]48 [2]34 [3]78 [4]17 [5]26\t\n"
       ]
      },
      {
       "metadata": {},
       "output_type": "pyout",
       "prompt_number": 58,
       "text": [
        "idx: 115\tloss: 4.152186870575\ttrain score: 13.323333333333\tlabel: 89\tprediction: [1]89 [2]2 [3]20 [4]52 [5]46\t\n"
       ]
      },
      {
       "metadata": {},
       "output_type": "pyout",
       "prompt_number": 58,
       "text": [
        "idx: 120\tloss: 4.1565523147583\ttrain score: 12.145\tlabel: 67\tprediction: [1]88 [2]97 [3]53 [4]1 [5]27\t\n"
       ]
      },
      {
       "metadata": {},
       "output_type": "pyout",
       "prompt_number": 58,
       "text": [
        "idx: 125\tloss: 4.1345081329346\ttrain score: 14.76\tlabel: 12\tprediction: [1]48 [2]52 [3]40 [4]29 [5]17\t\n"
       ]
      },
      {
       "metadata": {},
       "output_type": "pyout",
       "prompt_number": 58,
       "text": [
        "idx: 130\tloss: 4.1120290756226\ttrain score: 14.535\tlabel: 30\tprediction: [1]97 [2]27 [3]93 [4]35 [5]1\t\n"
       ]
      },
      {
       "metadata": {},
       "output_type": "pyout",
       "prompt_number": 58,
       "text": [
        "idx: 135\tloss: 4.1323008537292\ttrain score: 14.88\tlabel: 39\tprediction: [1]65 [2]36 [3]100 [4]23 [5]87\t\n"
       ]
      },
      {
       "metadata": {},
       "output_type": "pyout",
       "prompt_number": 58,
       "text": [
        "idx: 140\tloss: 4.1519365310669\ttrain score: 12.661666666667\tlabel: 81\tprediction: [1]81 [2]33 [3]8 [4]41 [5]48\t\n"
       ]
      },
      {
       "metadata": {},
       "output_type": "pyout",
       "prompt_number": 58,
       "text": [
        "idx: 145\tloss: 4.144504070282\ttrain score: 13.505\tlabel: 83\tprediction: [1]21 [2]39 [3]79 [4]47 [5]45\t\n"
       ]
      },
      {
       "metadata": {},
       "output_type": "pyout",
       "prompt_number": 58,
       "text": [
        "idx: 150\tloss: 4.1125755310059\ttrain score: 13.388333333333\tlabel: 70\tprediction: [1]69 [2]96 [3]22 [4]19 [5]70\t\n"
       ]
      },
      {
       "metadata": {},
       "output_type": "pyout",
       "prompt_number": 58,
       "text": [
        "idx: 155\tloss: 4.1303415298462\ttrain score: 13.19\tlabel: 1\tprediction: [1]44 [2]94 [3]36 [4]21 [5]45\t\n"
       ]
      },
      {
       "metadata": {},
       "output_type": "pyout",
       "prompt_number": 58,
       "text": [
        "idx: 160\tloss: 4.1245446205139\ttrain score: 15.705\tlabel: 50\tprediction: [1]24 [2]19 [3]73 [4]78 [5]52\t\n"
       ]
      },
      {
       "metadata": {},
       "output_type": "pyout",
       "prompt_number": 58,
       "text": [
        "idx: 165\tloss: 4.1236805915833\ttrain score: 12.745\tlabel: 70\t"
       ]
      },
      {
       "metadata": {},
       "output_type": "pyout",
       "prompt_number": 58,
       "text": [
        "prediction: [1]71 [2]99 [3]22 [4]69 [5]57\t\n"
       ]
      },
      {
       "metadata": {},
       "output_type": "pyout",
       "prompt_number": 58,
       "text": [
        "idx: 170\tloss: 4.1239290237427\ttrain score: 14.863333333333\tlabel: 47\tprediction: [1]63 [2]30 [3]31 [4]37 [5]65\t\n"
       ]
      },
      {
       "metadata": {},
       "output_type": "pyout",
       "prompt_number": 58,
       "text": [
        "idx: 175\tloss: 4.1166739463806\ttrain score: 16.136666666667\tlabel: 13\tprediction: [1]59 [2]13 [3]39 [4]21 [5]47\t\n"
       ]
      },
      {
       "metadata": {},
       "output_type": "pyout",
       "prompt_number": 58,
       "text": [
        "idx: 180\tloss: 4.1036238670349\ttrain score: 15.2\tlabel: 22\tprediction: [1]96 [2]50 [3]22 [4]60 [5]5\t\n"
       ]
      },
      {
       "metadata": {},
       "output_type": "pyout",
       "prompt_number": 58,
       "text": [
        "idx: 185\tloss: 4.104697227478\ttrain score: 17.165\tlabel: 50\tprediction: [1]56 [2]29 [3]73 [4]26 [5]70\t\n"
       ]
      },
      {
       "metadata": {},
       "output_type": "pyout",
       "prompt_number": 58,
       "text": [
        "idx: 190\tloss: 4.0959858894348\ttrain score: 15.343333333333\tlabel: 85\tprediction: [1]52 [2]2 [3]89 [4]46 [5]55\t\n"
       ]
      },
      {
       "metadata": {},
       "output_type": "pyout",
       "prompt_number": 58,
       "text": [
        "idx: 195\tloss: 4.1075882911682\ttrain score: 13.786666666667\tlabel: 57\tprediction: [1]78 [2]76 [3]1 [4]6 [5]42\t\n"
       ]
      },
      {
       "metadata": {},
       "output_type": "pyout",
       "prompt_number": 58,
       "text": [
        "idx: 200\tloss: 4.1007447242737\ttrain score: 15.79\tlabel: 38\tprediction: [1]31 [2]59 [3]37 [4]63 [5]62\t\n"
       ]
      },
      {
       "metadata": {},
       "output_type": "pyout",
       "prompt_number": 58,
       "text": [
        "idx: 205\tloss: 4.1065306663513\ttrain score: 16.193333333333\tlabel: 29\tprediction: [1]43 [2]16 [3]29 [4]17 [5]19\t\n"
       ]
      },
      {
       "metadata": {},
       "output_type": "pyout",
       "prompt_number": 58,
       "text": [
        "idx: 210\tloss: 4.1033992767334\ttrain score: 14.203333333333\tlabel: 58\tprediction: [1]13 [2]30 [3]21 [4]31 [5]83\t\n"
       ]
      },
      {
       "metadata": {},
       "output_type": "pyout",
       "prompt_number": 58,
       "text": [
        "idx: 215\tloss: 4.104585647583\ttrain score: 16.053333333333\tlabel: 53\tprediction: [1]88 [2]53 [3]32 [4]66 [5]93\t\n"
       ]
      },
      {
       "metadata": {},
       "output_type": "pyout",
       "prompt_number": 58,
       "text": [
        "idx: 220\tloss: 4.0938792228699\ttrain score: 14.61\tlabel: 45\tprediction: [1]41 [2]92 [3]4 [4]29 [5]49\t\n"
       ]
      },
      {
       "metadata": {},
       "output_type": "pyout",
       "prompt_number": 58,
       "text": [
        "idx: 225\tloss: 4.085488319397\ttrain score: 13.396666666667\tlabel: 36\tprediction: [1]93 [2]1 [3]57 [4]98 [5]18\t\n"
       ]
      },
      {
       "metadata": {},
       "output_type": "pyout",
       "prompt_number": 58,
       "text": [
        "idx: 230\tloss: 4.1054930686951\ttrain score: 14.983333333333\tlabel: 88\tprediction: [1]53 [2]88 [3]66 [4]67 [5]81\t\n"
       ]
      },
      {
       "metadata": {},
       "output_type": "pyout",
       "prompt_number": 58,
       "text": [
        "idx: 235\tloss: 4.1142253875732\ttrain score: 11.778333333333\tlabel: 83\tprediction: [1]59 [2]83 [3]63 [4]21 [5]79\t\n"
       ]
      },
      {
       "metadata": {},
       "output_type": "pyout",
       "prompt_number": 58,
       "text": [
        "idx: 240\tloss: 4.0946707725525\ttrain score: 15.815\tlabel: 68\tprediction: [1]59 [2]30 [3]39 [4]79 [5]23\t\n"
       ]
      },
      {
       "metadata": {},
       "output_type": "pyout",
       "prompt_number": 58,
       "text": [
        "idx: 245\tloss: 4.0877242088318\ttrain score: 15.055\tlabel: 4\tprediction: [1]31 [2]82 [3]62 [4]83 [5]86\t\n"
       ]
      },
      {
       "metadata": {},
       "output_type": "pyout",
       "prompt_number": 58,
       "text": [
        "idx: 250\tloss: 4.084508895874\ttrain score: 15.201666666667\tlabel: 4\tprediction: [1]54 [2]58 [3]37 [4]39 [5]82\t\n"
       ]
      },
      {
       "metadata": {},
       "output_type": "pyout",
       "prompt_number": 58,
       "text": [
        "idx: 255\tloss: 4.1012506484985\ttrain score: 14.655\tlabel: 9\tprediction: [1]32 [2]81 [3]88 [4]74 [5]64\t\n"
       ]
      },
      {
       "metadata": {},
       "output_type": "pyout",
       "prompt_number": 58,
       "text": [
        "idx: 260\tloss: 4.08256483078\ttrain score: 15.761666666667\tlabel: 64\tprediction: [1]85 [2]74 [3]35 [4]18 [5]72\t\n"
       ]
      },
      {
       "metadata": {},
       "output_type": "pyout",
       "prompt_number": 58,
       "text": [
        "idx: 265\tloss: 4.1077847480774\ttrain score: 15.12\tlabel: 9\tprediction: [1]86 [2]58 [3]63 [4]37 [5]79\t\n"
       ]
      },
      {
       "metadata": {},
       "output_type": "pyout",
       "prompt_number": 58,
       "text": [
        "idx: 270\tloss: 4.1000370979309\ttrain score: 13.741666666667\tlabel: 93\tprediction: [1]27 [2]97 [3]93 [4]85 [5]72\t\n"
       ]
      },
      {
       "metadata": {},
       "output_type": "pyout",
       "prompt_number": 58,
       "text": [
        "idx: 275\tloss: 4.0986089706421\ttrain score: 15.663333333333\tlabel: 37\tprediction: [1]31 [2]37 [3]21 [4]59 [5]39\t\n"
       ]
      },
      {
       "metadata": {},
       "output_type": "pyout",
       "prompt_number": 58,
       "text": [
        "idx: 280\tloss: 4.0900354385376\ttrain score: 14.365\tlabel: 87\tprediction: [1]45 [2]54 [3]79 [4]63 [5]68\t\n"
       ]
      },
      {
       "metadata": {},
       "output_type": "pyout",
       "prompt_number": 58,
       "text": [
        "idx: 285\tloss: 4.1107120513916\ttrain score: 15.598333333333\tlabel: 74\tprediction: [1]1 [2]76 [3]93 [4]35 [5]9\t\n"
       ]
      },
      {
       "metadata": {},
       "output_type": "pyout",
       "prompt_number": 58,
       "text": [
        "idx: 290\tloss: 4.1202483177185\ttrain score: 13.026666666667\tlabel: 31\tprediction: [1]68 [2]47 [3]79 [4]30 [5]31\t\n"
       ]
      },
      {
       "metadata": {},
       "output_type": "pyout",
       "prompt_number": 58,
       "text": [
        "idx: 295\tloss: 4.0719208717346\ttrain score: 13.791666666667\tlabel: 80\tprediction: [1]85 [2]80 [3]55 [4]20 [5]72\t\n"
       ]
      },
      {
       "metadata": {},
       "output_type": "pyout",
       "prompt_number": 58,
       "text": [
        "idx: 300\tloss: 4.1004023551941\ttrain score: 15.15\tlabel: 59\tprediction: [1]39 [2]68 [3]82 [4]30 [5]31\t\n"
       ]
      },
      {
       "metadata": {},
       "output_type": "pyout",
       "prompt_number": 58,
       "text": [
        "idx: 305\tloss: 4.0742163658142\ttrain score: 14.285\tlabel: 16\tprediction: [1]77 [2]40 [3]17 [4]24 [5]15\t\n"
       ]
      },
      {
       "metadata": {},
       "output_type": "pyout",
       "prompt_number": 58,
       "text": [
        "idx: 310\tloss: 4.0838561058044\ttrain score: 14.211666666667\tlabel: 83\tprediction: [1]59 [2]79 [3]31 [4]45 [5]63\t\n"
       ]
      },
      {
       "metadata": {},
       "output_type": "pyout",
       "prompt_number": 58,
       "text": [
        "idx: 315\tloss: 4.1019043922424\ttrain score: 13.26\tlabel: 98\tprediction: [1]65 [2]3 [3]12 [4]38 [5]98\t\n"
       ]
      },
      {
       "metadata": {},
       "output_type": "pyout",
       "prompt_number": 58,
       "text": [
        "idx: 320\tloss: 4.0744218826294\ttrain score: 13.431666666667\tlabel: 25\tprediction: [1]80 [2]2 [3]20 [4]55 [5]46\t\n"
       ]
      },
      {
       "metadata": {},
       "output_type": "pyout",
       "prompt_number": 58,
       "text": [
        "idx: 325\tloss: 4.0812854766846\ttrain score: 14.763333333333\tlabel: 80\tprediction: [1]25 [2]85 [3]20 [4]80 [5]2\t\n"
       ]
      },
      {
       "metadata": {},
       "output_type": "pyout",
       "prompt_number": 58,
       "text": [
        "idx: 330\tloss: 4.0869274139404\ttrain score: 13.793333333333\tlabel: 40\tprediction: [1]14 [2]48 [3]51 [4]40 [5]33\t\n"
       ]
      },
      {
       "metadata": {},
       "output_type": "pyout",
       "prompt_number": 58,
       "text": [
        "idx: 335\tloss: 4.0909247398376\ttrain score: 14.033333333333\tlabel: 78\tprediction: [1]11 [2]51 [3]41 [4]40 [5]78\t\n"
       ]
      },
      {
       "metadata": {},
       "output_type": "pyout",
       "prompt_number": 58,
       "text": [
        "idx: 340\tloss: 4.0663738250732\ttrain score: 14.813333333333\tlabel: 95\tprediction: [1]51 [2]48 [3]95 [4]33 [5]40\t\n"
       ]
      },
      {
       "metadata": {},
       "output_type": "pyout",
       "prompt_number": 58,
       "text": [
        "idx: 345\tloss: 4.0922784805298\ttrain score: 14.871666666667\tlabel: 57\tprediction: [1]56 [2]18 [3]84 [4]87 [5]57\t\n"
       ]
      },
      {
       "metadata": {},
       "output_type": "pyout",
       "prompt_number": 58,
       "text": [
        "idx: 350\tloss: 4.0904388427734\ttrain score: 15.545\tlabel: 40\tprediction: [1]5 [2]79 [3]61 [4]29 [5]7\t\n"
       ]
      },
      {
       "metadata": {},
       "output_type": "pyout",
       "prompt_number": 58,
       "text": [
        "idx: 355\tloss: 4.0794205665588\ttrain score: 14.696666666667\tlabel: 14\tprediction: [1]17 [2]14 [3]41 [4]48 [5]92\t\n"
       ]
      },
      {
       "metadata": {},
       "output_type": "pyout",
       "prompt_number": 58,
       "text": [
        "idx: 360\tloss: 4.0929107666016\ttrain score: 13.228333333333\tlabel: 2\tprediction: [1]25 [2]89 [3]20 [4]46 [5]85\t\n"
       ]
      },
      {
       "metadata": {},
       "output_type": "pyout",
       "prompt_number": 58,
       "text": [
        "idx: 365\tloss: 4.0773029327393\ttrain score: 13.31\tlabel: 56\tprediction: [1]11 [2]74 [3]27 [4]56 [5]18\t\n"
       ]
      },
      {
       "metadata": {},
       "output_type": "pyout",
       "prompt_number": 58,
       "text": [
        "idx: 370\tloss: 4.060498714447\ttrain score: 13.756666666667\tlabel: 73\tprediction: [1]73 [2]20 [3]22 [4]26 [5]71\t\n"
       ]
      },
      {
       "metadata": {},
       "output_type": "pyout",
       "prompt_number": 58,
       "text": [
        "idx: 375\tloss: 4.0962495803833\ttrain score: 14.505\tlabel: 2\tprediction: [1]80 [2]72 [3]25 [4]52 [5]50\t\n"
       ]
      },
      {
       "metadata": {},
       "output_type": "pyout",
       "prompt_number": 58,
       "text": [
        "idx: 380\tloss: 4.0817012786865\ttrain score: 13.868333333333\tlabel: 34\tprediction: [1]8 [2]40 [3]41 [4]16 [5]43\t\n"
       ]
      },
      {
       "metadata": {},
       "output_type": "pyout",
       "prompt_number": 58,
       "text": [
        "idx: 385\tloss: 4.073657989502\ttrain score: 14.508333333333\tlabel: 96\tprediction: [1]96 [2]19 [3]69 [4]10 [5]71\t\n"
       ]
      },
      {
       "metadata": {},
       "output_type": "pyout",
       "prompt_number": 58,
       "text": [
        "idx: 390\tloss: 4.069091796875\ttrain score: 15.355\tlabel: 13\tprediction: [1]62 [2]82 [3]58 [4]13 [5]37\t\n"
       ]
      },
      {
       "metadata": {},
       "output_type": "pyout",
       "prompt_number": 58,
       "text": [
        "idx: 395\tloss: 4.0829763412476\ttrain score: 13.85\tlabel: 46\tprediction: [1]85 [2]46 [3]25 [4]20 [5]55\t\n"
       ]
      },
      {
       "metadata": {},
       "output_type": "pyout",
       "prompt_number": 58,
       "text": [
        "idx: 400\tloss: 4.0634880065918\ttrain score: 15.175\tlabel: 85\tprediction: [1]88 [2]87 [3]32 [4]71 [5]76\t\n"
       ]
      },
      {
       "metadata": {},
       "output_type": "pyout",
       "prompt_number": 58,
       "text": [
        "idx: 405\tloss: 4.0811524391174\ttrain score: 15.116666666667\tlabel: 87\tprediction: [1]39 [2]23 [3]100 [4]79 [5]82\t\n"
       ]
      },
      {
       "metadata": {},
       "output_type": "pyout",
       "prompt_number": 58,
       "text": [
        "idx: 410\tloss: 4.0551052093506\ttrain score: 16.355\t"
       ]
      },
      {
       "metadata": {},
       "output_type": "pyout",
       "prompt_number": 58,
       "text": [
        "label: 19\tprediction: [1]56 [2]57 [3]84 [4]70 [5]42\t\n"
       ]
      },
      {
       "metadata": {},
       "output_type": "pyout",
       "prompt_number": 58,
       "text": [
        "idx: 415\tloss: 4.044506072998\ttrain score: 15.318333333333\tlabel: 50\tprediction: [1]25 [2]85 [3]2 [4]52 [5]72\t\n"
       ]
      },
      {
       "metadata": {},
       "output_type": "pyout",
       "prompt_number": 58,
       "text": [
        "idx: 420\tloss: 4.0716724395752\ttrain score: 14.255\tlabel: 34\tprediction: [1]29 [2]34 [3]78 [4]77 [5]24\t\n"
       ]
      },
      {
       "metadata": {},
       "output_type": "pyout",
       "prompt_number": 58,
       "text": [
        "idx: 425\tloss: 4.0762500762939\ttrain score: 15.061666666667\tlabel: 77\tprediction: [1]92 [2]44 [3]33 [4]19 [5]16\t\n"
       ]
      },
      {
       "metadata": {},
       "output_type": "pyout",
       "prompt_number": 58,
       "text": [
        "idx: 430\tloss: 4.0676670074463\ttrain score: 16.053333333333\tlabel: 21\tprediction: [1]11 [2]22 [3]99 [4]26 [5]38\t\n"
       ]
      },
      {
       "metadata": {},
       "output_type": "pyout",
       "prompt_number": 58,
       "text": [
        "idx: 435\tloss: 4.0629367828369\ttrain score: 15.928333333333\tlabel: 55\tprediction: [1]51 [2]55 [3]49 [4]30 [5]23\t\n"
       ]
      },
      {
       "metadata": {},
       "output_type": "pyout",
       "prompt_number": 58,
       "text": [
        "idx: 440\tloss: 4.0539169311523\ttrain score: 16.425\tlabel: 94\tprediction: [1]92 [2]51 [3]94 [4]41 [5]91\t\n"
       ]
      },
      {
       "metadata": {},
       "output_type": "pyout",
       "prompt_number": 58,
       "text": [
        "idx: 445\tloss: 4.0757999420166\ttrain score: 15.341666666667\tlabel: 2\tprediction: [1]55 [2]50 [3]89 [4]25 [5]80\t\n"
       ]
      },
      {
       "metadata": {},
       "output_type": "pyout",
       "prompt_number": 58,
       "text": [
        "idx: 450\tloss: 4.0803189277649\ttrain score: 15.338333333333\tlabel: 33\tprediction: [1]33 [2]8 [3]81 [4]40 [5]28\t\n"
       ]
      },
      {
       "metadata": {},
       "output_type": "pyout",
       "prompt_number": 58,
       "text": [
        "idx: 455\tloss: 4.0632152557373\ttrain score: 15.691666666667\tlabel: 33\tprediction: [1]77 [2]34 [3]92 [4]90 [5]84\t\n"
       ]
      },
      {
       "metadata": {},
       "output_type": "pyout",
       "prompt_number": 58,
       "text": [
        "idx: 460\tloss: 4.0565738677979\ttrain score: 14.883333333333\tlabel: 32\tprediction: [1]10 [2]11 [3]57 [4]20 [5]19\t\n"
       ]
      },
      {
       "metadata": {},
       "output_type": "pyout",
       "prompt_number": 58,
       "text": [
        "idx: 465\tloss: 4.0695185661316\ttrain score: 14.268333333333\tlabel: 34\tprediction: [1]35 [2]97 [3]85 [4]72 [5]90\t\n"
       ]
      },
      {
       "metadata": {},
       "output_type": "pyout",
       "prompt_number": 58,
       "text": [
        "idx: 470\tloss: 4.0833048820496\ttrain score: 13.903333333333\tlabel: 1\tprediction: [1]97 [2]27 [3]1 [4]93 [5]85\t\n"
       ]
      },
      {
       "metadata": {},
       "output_type": "pyout",
       "prompt_number": 58,
       "text": [
        "idx: 475\tloss: 4.0884985923767\ttrain score: 14.651666666667\tlabel: 5\tprediction: [1]70 [2]69 [3]20 [4]71 [5]22\t\n"
       ]
      },
      {
       "metadata": {},
       "output_type": "pyout",
       "prompt_number": 58,
       "text": [
        "idx: 480\tloss: 4.089611530304\ttrain score: 16.056666666667\tlabel: 94\tprediction: [1]94 [2]92 [3]48 [4]15 [5]36\t\n"
       ]
      },
      {
       "metadata": {},
       "output_type": "pyout",
       "prompt_number": 58,
       "text": [
        "idx: 485\tloss: 4.061324596405\ttrain score: 14.613333333333\tlabel: 28\tprediction: [1]28 [2]85 [3]3 [4]42 [5]34\t\n"
       ]
      },
      {
       "metadata": {},
       "output_type": "pyout",
       "prompt_number": 58,
       "text": [
        "idx: 490\tloss: 4.0641098022461\ttrain score: 15.626666666667\tlabel: 39\tprediction: [1]63 [2]83 [3]21 [4]37 [5]65\t\n"
       ]
      },
      {
       "metadata": {},
       "output_type": "pyout",
       "prompt_number": 58,
       "text": [
        "idx: 495\tloss: 4.0683259963989\ttrain score: 15.353333333333\tlabel: 52\tprediction: [1]47 [2]12 [3]74 [4]30 [5]31\t\n"
       ]
      },
      {
       "metadata": {},
       "output_type": "pyout",
       "prompt_number": 58,
       "text": [
        "idx: 500\tloss: 4.05330991745\ttrain score: 15.958333333333\tlabel: 10\tprediction: [1]20 [2]56 [3]26 [4]71 [5]22\t\n"
       ]
      },
      {
       "metadata": {},
       "output_type": "pyout",
       "prompt_number": 58,
       "text": [
        "idx: 505\tloss: 4.0775985717773\ttrain score: 13.32\tlabel: 9\tprediction: [1]1 [2]97 [3]84 [4]48 [5]18\t\n"
       ]
      },
      {
       "metadata": {},
       "output_type": "pyout",
       "prompt_number": 58,
       "text": [
        "idx: 510\tloss: 4.0386319160461\ttrain score: 15.505\tlabel: 26\tprediction: [1]48 [2]24 [3]84 [4]19 [5]18\t\n"
       ]
      },
      {
       "metadata": {},
       "output_type": "pyout",
       "prompt_number": 58,
       "text": [
        "idx: 515\tloss: 4.0449075698853\ttrain score: 15.7\tlabel: 91\tprediction: [1]68 [2]37 [3]83 [4]30 [5]31\t\n"
       ]
      },
      {
       "metadata": {},
       "output_type": "pyout",
       "prompt_number": 58,
       "text": [
        "idx: 520\tloss: 4.0675721168518\ttrain score: 15.496666666667\tlabel: 67\tprediction: [1]93 [2]53 [3]32 [4]88 [5]66\t\n"
       ]
      },
      {
       "metadata": {},
       "output_type": "pyout",
       "prompt_number": 58,
       "text": [
        "idx: 525\tloss: 4.062114238739\ttrain score: 14.476666666667\tlabel: 62\tprediction: [1]47 [2]83 [3]21 [4]87 [5]86\t\n"
       ]
      },
      {
       "metadata": {},
       "output_type": "pyout",
       "prompt_number": 58,
       "text": [
        "idx: 530\tloss: 4.0866079330444\ttrain score: 14.423333333333\tlabel: 57\tprediction: [1]50 [2]96 [3]11 [4]57 [5]29\t\n"
       ]
      },
      {
       "metadata": {},
       "output_type": "pyout",
       "prompt_number": 58,
       "text": [
        "idx: 535\tloss: 4.0681176185608\ttrain score: 14.343333333333\tlabel: 29\tprediction: [1]51 [2]38 [3]77 [4]34 [5]7\t\n"
       ]
      },
      {
       "metadata": {},
       "output_type": "pyout",
       "prompt_number": 58,
       "text": [
        "idx: 540\tloss: 4.0695657730103\ttrain score: 15.551666666667\tlabel: 6\tprediction: [1]61 [2]60 [3]30 [4]31 [5]21\t\n"
       ]
      },
      {
       "metadata": {},
       "output_type": "pyout",
       "prompt_number": 58,
       "text": [
        "idx: 545\tloss: 4.0659217834473\ttrain score: 15.055\tlabel: 99\tprediction: [1]73 [2]70 [3]42 [4]56 [5]22\t\n"
       ]
      },
      {
       "metadata": {},
       "output_type": "pyout",
       "prompt_number": 58,
       "text": [
        "idx: 550\tloss: 4.056339263916\ttrain score: 15.24\tlabel: 90\tprediction: [1]51 [2]14 [3]29 [4]91 [5]94\t\n"
       ]
      },
      {
       "metadata": {},
       "output_type": "pyout",
       "prompt_number": 58,
       "text": [
        "idx: 555\tloss: 4.0797419548035\ttrain score: 15.47\tlabel: 37\tprediction: [1]45 [2]68 [3]83 [4]82 [5]30\t\n"
       ]
      },
      {
       "metadata": {},
       "output_type": "pyout",
       "prompt_number": 58,
       "text": [
        "idx: 560\tloss: 4.0419101715088\ttrain score: 13.838333333333\tlabel: 3\tprediction: [1]33 [2]34 [3]22 [4]50 [5]78\t\n"
       ]
      },
      {
       "metadata": {},
       "output_type": "pyout",
       "prompt_number": 58,
       "text": [
        "idx: 565\tloss: 4.0764856338501\ttrain score: 14.633333333333\tlabel: 56\tprediction: [1]22 [2]38 [3]56 [4]57 [5]69\t\n"
       ]
      },
      {
       "metadata": {},
       "output_type": "pyout",
       "prompt_number": 58,
       "text": [
        "idx: 570\tloss: 4.0648913383484\ttrain score: 14.298333333333\tlabel: 69\tprediction: [1]6 [2]13 [3]86 [4]16 [5]63\t\n"
       ]
      },
      {
       "metadata": {},
       "output_type": "pyout",
       "prompt_number": 58,
       "text": [
        "idx: 575\tloss: 4.0666642189026\ttrain score: 15.576666666667\tlabel: 42\tprediction: [1]41 [2]36 [3]16 [4]17 [5]42\t\n"
       ]
      },
      {
       "metadata": {},
       "output_type": "pyout",
       "prompt_number": 58,
       "text": [
        "idx: 580\tloss: 4.0758700370789\ttrain score: 15.155\tlabel: 27\tprediction: [1]87 [2]74 [3]45 [4]70 [5]1\t\n"
       ]
      },
      {
       "metadata": {},
       "output_type": "pyout",
       "prompt_number": 58,
       "text": [
        "idx: 585\tloss: 4.0666642189026\ttrain score: 15.1\tlabel: 9\tprediction: [1]59 [2]10 [3]79 [4]76 [5]23\t\n"
       ]
      },
      {
       "metadata": {},
       "output_type": "pyout",
       "prompt_number": 58,
       "text": [
        "idx: 590\tloss: 4.0579352378845\ttrain score: 14.68\tlabel: 84\tprediction: [1]40 [2]51 [3]77 [4]48 [5]49\t\n"
       ]
      },
      {
       "metadata": {},
       "output_type": "pyout",
       "prompt_number": 58,
       "text": [
        "idx: 595\tloss: 4.0665254592896\ttrain score: 15.446666666667\tlabel: 78\tprediction: [1]92 [2]29 [3]43 [4]49 [5]34\t\n"
       ]
      },
      {
       "metadata": {},
       "output_type": "pyout",
       "prompt_number": 58,
       "text": [
        "idx: 600\tloss: 4.0759692192078\ttrain score: 15.52\tlabel: 2\tprediction: [1]46 [2]20 [3]52 [4]85 [5]2\t\n"
       ]
      },
      {
       "metadata": {},
       "output_type": "pyout",
       "prompt_number": 58,
       "text": [
        "idx: 605\tloss: 4.0707631111145\ttrain score: 14.171666666667\t"
       ]
      },
      {
       "metadata": {},
       "output_type": "pyout",
       "prompt_number": 58,
       "text": [
        "label: 86\tprediction: [1]86 [2]63 [3]21 [4]58 [5]45\t\n"
       ]
      },
      {
       "metadata": {},
       "output_type": "pyout",
       "prompt_number": 58,
       "text": [
        "idx: 610\tloss: 4.0782976150513\ttrain score: 14.78\tlabel: 51\tprediction: [1]49 [2]52 [3]19 [4]40 [5]17\t\n"
       ]
      },
      {
       "metadata": {},
       "output_type": "pyout",
       "prompt_number": 58,
       "text": [
        "idx: 615\tloss: 4.0604543685913\ttrain score: 13.325\tlabel: 24\tprediction: [1]34 [2]41 [3]24 [4]29 [5]33\t\n"
       ]
      },
      {
       "metadata": {},
       "output_type": "pyout",
       "prompt_number": 58,
       "text": [
        "idx: 620\tloss: 4.0548143386841\ttrain score: 13.783333333333\tlabel: 31\tprediction: [1]15 [2]45 [3]36 [4]79 [5]59\t\n"
       ]
      },
      {
       "metadata": {},
       "output_type": "pyout",
       "prompt_number": 58,
       "text": [
        "idx: 625\tloss: 4.058319568634\ttrain score: 14.761666666667\tlabel: 46\tprediction: [1]2 [2]72 [3]50 [4]85 [5]55\t\n"
       ]
      },
      {
       "metadata": {},
       "output_type": "pyout",
       "prompt_number": 58,
       "text": [
        "idx: 630\tloss: 4.0757250785828\ttrain score: 15.568333333333\tlabel: 28\tprediction: [1]28 [2]93 [3]27 [4]64 [5]81\t\n"
       ]
      },
      {
       "metadata": {},
       "output_type": "pyout",
       "prompt_number": 58,
       "text": [
        "idx: 635\tloss: 4.085729598999\ttrain score: 14.085\tlabel: 87\tprediction: [1]21 [2]39 [3]54 [4]58 [5]68\t\n"
       ]
      },
      {
       "metadata": {},
       "output_type": "pyout",
       "prompt_number": 58,
       "text": [
        "idx: 640\tloss: 4.0585842132568\ttrain score: 13.173333333333\tlabel: 10\tprediction: [1]60 [2]29 [3]50 [4]22 [5]73\t\n"
       ]
      },
      {
       "metadata": {},
       "output_type": "pyout",
       "prompt_number": 58,
       "text": [
        "idx: 645\tloss: 4.081561088562\ttrain score: 12.863333333333\tlabel: 74\tprediction: [1]11 [2]18 [3]41 [4]51 [5]34\t\n"
       ]
      },
      {
       "metadata": {},
       "output_type": "pyout",
       "prompt_number": 58,
       "text": [
        "idx: 650\tloss: 4.0799269676208\ttrain score: 14.938333333333\tlabel: 39\tprediction: [1]49 [2]95 [3]33 [4]92 [5]34\t\n"
       ]
      },
      {
       "metadata": {},
       "output_type": "pyout",
       "prompt_number": 58,
       "text": [
        "idx: 655\tloss: 4.0860614776611\ttrain score: 16.418333333333\tlabel: 62\tprediction: [1]62 [2]30 [3]31 [4]63 [5]59\t\n"
       ]
      },
      {
       "metadata": {},
       "output_type": "pyout",
       "prompt_number": 58,
       "text": [
        "idx: 660\tloss: 4.042332649231\ttrain score: 16.958333333333\tlabel: 18\tprediction: [1]27 [2]88 [3]67 [4]1 [5]72\t\n"
       ]
      },
      {
       "metadata": {},
       "output_type": "pyout",
       "prompt_number": 58,
       "text": [
        "idx: 665\tloss: 4.0716924667358\ttrain score: 14\tlabel: 64\tprediction: [1]49 [2]16 [3]95 [4]94 [5]85\t\n"
       ]
      },
      {
       "metadata": {},
       "output_type": "pyout",
       "prompt_number": 58,
       "text": [
        "idx: 670\tloss: 4.0760469436646\ttrain score: 14.806666666667\tlabel: 47\tprediction: [1]58 [2]62 [3]37 [4]45 [5]86\t\n"
       ]
      },
      {
       "metadata": {},
       "output_type": "pyout",
       "prompt_number": 58,
       "text": [
        "idx: 675\tloss: 4.0436449050903\ttrain score: 14.776666666667\tlabel: 27\tprediction: [1]27 [2]32 [3]44 [4]29 [5]21\t\n"
       ]
      },
      {
       "metadata": {},
       "output_type": "pyout",
       "prompt_number": 58,
       "text": [
        "idx: 680\tloss: 4.0791673660278\ttrain score: 14.491666666667\tlabel: 49\tprediction: [1]77 [2]44 [3]33 [4]40 [5]17\t\n"
       ]
      },
      {
       "metadata": {},
       "output_type": "pyout",
       "prompt_number": 58,
       "text": [
        "idx: 685\tloss: 4.0451059341431\ttrain score: 16.66\tlabel: 34\tprediction: [1]14 [2]100 [3]90 [4]84 [5]73\t\n"
       ]
      },
      {
       "metadata": {},
       "output_type": "pyout",
       "prompt_number": 58,
       "text": [
        "idx: 690\tloss: 4.049370765686\ttrain score: 14.055\tlabel: 26\tprediction: [1]85 [2]97 [3]1 [4]35 [5]74\t\n"
       ]
      },
      {
       "metadata": {},
       "output_type": "pyout",
       "prompt_number": 58,
       "text": [
        "idx: 695\tloss: 4.08842420578\ttrain score: 14.718333333333\tlabel: 70\tprediction: [1]100 [2]22 [3]38 [4]19 [5]20\t\n"
       ]
      },
      {
       "metadata": {},
       "output_type": "pyout",
       "prompt_number": 58,
       "text": [
        "idx: 700\tloss: 4.0551633834839\ttrain score: 15.25\tlabel: 20\tprediction: [1]71 [2]73 [3]19 [4]18 [5]22\t\n"
       ]
      },
      {
       "metadata": {},
       "output_type": "pyout",
       "prompt_number": 58,
       "text": [
        "idx: 705\tloss: 4.0657696723938\ttrain score: 14.765\tlabel: 91\tprediction: [1]88 [2]53 [3]81 [4]67 [5]66\t\n"
       ]
      },
      {
       "metadata": {},
       "output_type": "pyout",
       "prompt_number": 58,
       "text": [
        "idx: 710\tloss: 4.0603079795837\ttrain score: 15.3\tlabel: 44\tprediction: [1]48 [2]15 [3]33 [4]77 [5]40\t\n"
       ]
      },
      {
       "metadata": {},
       "output_type": "pyout",
       "prompt_number": 58,
       "text": [
        "idx: 715\tloss: 4.0807657241821\ttrain score: 15.663333333333\tlabel: 46\tprediction: [1]85 [2]25 [3]20 [4]2 [5]89\t\n"
       ]
      },
      {
       "metadata": {},
       "output_type": "pyout",
       "prompt_number": 58,
       "text": [
        "idx: 720\tloss: 4.084258556366\ttrain score: 14.525\tlabel: 100\tprediction: [1]35 [2]24 [3]85 [4]1 [5]97\t\n"
       ]
      },
      {
       "metadata": {},
       "output_type": "pyout",
       "prompt_number": 58,
       "text": [
        "idx: 725\tloss: 4.0662932395935\ttrain score: 14.038333333333\tlabel: 94\tprediction: [1]91 [2]74 [3]32 [4]29 [5]64\t\n"
       ]
      },
      {
       "metadata": {},
       "output_type": "pyout",
       "prompt_number": 58,
       "text": [
        "idx: 730\tloss: 4.0774159431458\ttrain score: 15.301666666667\tlabel: 70\tprediction: [1]70 [2]73 [3]34 [4]38 [5]40\t\n"
       ]
      },
      {
       "metadata": {},
       "output_type": "pyout",
       "prompt_number": 58,
       "text": [
        "idx: 735\tloss: 4.0559968948364\ttrain score: 14.221666666667\tlabel: 58\tprediction: [1]44 [2]31 [3]21 [4]61 [5]63\t\n"
       ]
      },
      {
       "metadata": {},
       "output_type": "pyout",
       "prompt_number": 58,
       "text": [
        "idx: 740\tloss: 4.0858483314514\ttrain score: 14.043333333333\tlabel: 45\tprediction: [1]88 [2]45 [3]66 [4]53 [5]85\t\n"
       ]
      },
      {
       "metadata": {},
       "output_type": "pyout",
       "prompt_number": 58,
       "text": [
        "idx: 745\tloss: 4.0356736183167\ttrain score: 15.675\tlabel: 58\tprediction: [1]86 [2]31 [3]58 [4]62 [5]83\t\n"
       ]
      },
      {
       "metadata": {},
       "output_type": "pyout",
       "prompt_number": 58,
       "text": [
        "idx: 750\tloss: 4.0584359169006\ttrain score: 13.045\tlabel: 43\tprediction: [1]41 [2]40 [3]48 [4]44 [5]43\t\n"
       ]
      },
      {
       "metadata": {},
       "output_type": "pyout",
       "prompt_number": 58,
       "text": [
        "idx: 755\tloss: 4.0761485099792\ttrain score: 14.536666666667\tlabel: 100\tprediction: [1]100 [2]73 [3]22 [4]38 [5]20\t\n"
       ]
      },
      {
       "metadata": {},
       "output_type": "pyout",
       "prompt_number": 58,
       "text": [
        "idx: 760\tloss: 4.0645823478699\ttrain score: 15.625\tlabel: 28\tprediction: [1]28 [2]55 [3]19 [4]20 [5]75\t\n"
       ]
      },
      {
       "metadata": {},
       "output_type": "pyout",
       "prompt_number": 58,
       "text": [
        "idx: 765\tloss: 4.0581765174866\ttrain score: 15.583333333333\tlabel: 90\tprediction: [1]49 [2]8 [3]40 [4]44 [5]48\t\n"
       ]
      },
      {
       "metadata": {},
       "output_type": "pyout",
       "prompt_number": 58,
       "text": [
        "idx: 770\tloss: 4.0565648078918\ttrain score: 15.525\tlabel: 39\tprediction: [1]77 [2]40 [3]33 [4]24 [5]32\t\n"
       ]
      },
      {
       "metadata": {},
       "output_type": "pyout",
       "prompt_number": 58,
       "text": [
        "idx: 775\tloss: 4.0562753677368\ttrain score: 15.421666666667\tlabel: 15\tprediction: [1]94 [2]78 [3]92 [4]40 [5]77\t\n"
       ]
      },
      {
       "metadata": {},
       "output_type": "pyout",
       "prompt_number": 58,
       "text": [
        "idx: 780\tloss: 4.0710167884827\ttrain score: 14.025\tlabel: 14\tprediction: [1]85 [2]27 [3]52 [4]24 [5]74\t\n"
       ]
      },
      {
       "metadata": {},
       "output_type": "pyout",
       "prompt_number": 58,
       "text": [
        "idx: 785\tloss: 4.0633640289307\ttrain score: 14.303333333333\tlabel: 51\tprediction: [1]32 [2]33 [3]91 [4]50 [5]24\t\n"
       ]
      },
      {
       "metadata": {},
       "output_type": "pyout",
       "prompt_number": 58,
       "text": [
        "idx: 790\tloss: 4.0605711936951\ttrain score: 15.423333333333\tlabel: 33\tprediction: [1]51 [2]29 [3]77 [4]24 [5]60\t\n"
       ]
      },
      {
       "metadata": {},
       "output_type": "pyout",
       "prompt_number": 58,
       "text": [
        "idx: 795\tloss: 4.0709567070007\ttrain score: 14.251666666667\tlabel: 37\tprediction: [1]60 [2]37 [3]30 [4]31 [5]63\t\n"
       ]
      },
      {
       "metadata": {},
       "output_type": "pyout",
       "prompt_number": 58,
       "text": [
        "idx: 800\tloss: 4.0517354011536\ttrain score: 13.936666666667\tlabel: 74\tprediction: [1]66 [2]67 [3]88 [4]93 [5]81\t\n"
       ]
      },
      {
       "metadata": {},
       "output_type": "pyout",
       "prompt_number": 58,
       "text": [
        "idx: 805\tloss: 4.0755696296692\ttrain score: 16.183333333333\tlabel: 92\tprediction: [1]29 [2]77 [3]95 [4]94 [5]92\t\n"
       ]
      },
      {
       "metadata": {},
       "output_type": "pyout",
       "prompt_number": 58,
       "text": [
        "idx: 810\tloss: 4.0512132644653\ttrain score: 16.735\tlabel: 26\tprediction: [1]52 [2]51 [3]17 [4]95 [5]61\t\n"
       ]
      },
      {
       "metadata": {},
       "output_type": "pyout",
       "prompt_number": 58,
       "text": [
        "idx: 815\tloss: 4.0694918632507\ttrain score: 15.921666666667\tlabel: 78\tprediction: [1]51 [2]33 [3]92 [4]24 [5]73\t\n"
       ]
      },
      {
       "metadata": {},
       "output_type": "pyout",
       "prompt_number": 58,
       "text": [
        "idx: 820\tloss: 4.0959720611572\ttrain score: 13.096666666667\tlabel: 95\tprediction: [1]49 [2]24 [3]52 [4]19 [5]20\t\n"
       ]
      },
      {
       "metadata": {},
       "output_type": "pyout",
       "prompt_number": 58,
       "text": [
        "idx: 825\tloss: 4.0758519172668\ttrain score: 14.45\tlabel: 49\tprediction: [1]41 [2]43 [3]78 [4]77 [5]33\t\n"
       ]
      },
      {
       "metadata": {},
       "output_type": "pyout",
       "prompt_number": 58,
       "text": [
        "idx: 830\tloss: 4.0608439445496\ttrain score: 14.415\tlabel: 23\tprediction: [1]43 [2]51 [3]48 [4]92 [5]17\t\n"
       ]
      },
      {
       "metadata": {},
       "output_type": "pyout",
       "prompt_number": 58,
       "text": [
        "idx: 835\tloss: 4.0627498626709\ttrain score: 15.148333333333\tlabel: 98\tprediction: [1]84 [2]56 [3]69 [4]70 [5]71\t\n"
       ]
      },
      {
       "metadata": {},
       "output_type": "pyout",
       "prompt_number": 58,
       "text": [
        "idx: 840\tloss: 4.0580787658691\ttrain score: 13.566666666667\tlabel: 78\tprediction: [1]26 [2]32 [3]85 [4]24 [5]1\t\n"
       ]
      },
      {
       "metadata": {},
       "output_type": "pyout",
       "prompt_number": 58,
       "text": [
        "idx: 845\tloss: 4.060028553009\ttrain score: 13.128333333333\tlabel: 94\tprediction: [1]74 [2]32 [3]85 [4]93 [5]11\t\n"
       ]
      },
      {
       "metadata": {},
       "output_type": "pyout",
       "prompt_number": 58,
       "text": [
        "idx: 850\tloss: 4.0594673156738\ttrain score: 12.951666666667\tlabel: 9\tprediction: [1]77 [2]40 [3]17 [4]33 [5]92\t\n"
       ]
      },
      {
       "metadata": {},
       "output_type": "pyout",
       "prompt_number": 58,
       "text": [
        "idx: 855\tloss: 4.0657315254211\ttrain score: 15.898333333333\tlabel: 7\tprediction: [1]51 [2]29 [3]17 [4]78 [5]77\t\n"
       ]
      },
      {
       "metadata": {},
       "output_type": "pyout",
       "prompt_number": 58,
       "text": [
        "idx: 860\tloss: 4.0592889785767\ttrain score: 15.378333333333\tlabel: 18\tprediction: [1]69 [2]56 [3]78 [4]22 [5]73\t\n"
       ]
      },
      {
       "metadata": {},
       "output_type": "pyout",
       "prompt_number": 58,
       "text": [
        "idx: 865\tloss: 4.0687146186829\ttrain score: 15.301666666667\tlabel: 47\tprediction: [1]13 [2]37 [3]47 [4]30 [5]58\t\n"
       ]
      },
      {
       "metadata": {},
       "output_type": "pyout",
       "prompt_number": 58,
       "text": [
        "idx: 870\tloss: 4.0621953010559\ttrain score: 15.388333333333\tlabel: 38\tprediction: [1]37 [2]39 [3]83 [4]30 [5]100\t\n"
       ]
      },
      {
       "metadata": {},
       "output_type": "pyout",
       "prompt_number": 58,
       "text": [
        "idx: 875\tloss: 4.0592827796936\ttrain score: 13.426666666667\tlabel: 77\tprediction: [1]49 [2]48 [3]15 [4]51 [5]77\t\n"
       ]
      },
      {
       "metadata": {},
       "output_type": "pyout",
       "prompt_number": 58,
       "text": [
        "idx: 880\tloss: 4.0725455284119\ttrain score: 14.835\tlabel: 62\tprediction: [1]61 [2]54 [3]63 [4]79 [5]21\t\n"
       ]
      },
      {
       "metadata": {},
       "output_type": "pyout",
       "prompt_number": 58,
       "text": [
        "idx: 885\tloss: 4.072642326355\ttrain score: 15.265\tlabel: 33\tprediction: [1]49 [2]48 [3]40 [4]17 [5]16\t\n"
       ]
      },
      {
       "metadata": {},
       "output_type": "pyout",
       "prompt_number": 58,
       "text": [
        "idx: 890\tloss: 4.0585722923279\ttrain score: 14.46\tlabel: 33\tprediction: [1]91 [2]45 [3]29 [4]14 [5]3\t\n"
       ]
      },
      {
       "metadata": {},
       "output_type": "pyout",
       "prompt_number": 58,
       "text": [
        "idx: 895\tloss: 4.0447120666504\ttrain score: 15.543333333333\tlabel: 14\tprediction: [1]52 [2]48 [3]56 [4]49 [5]100\t\n"
       ]
      },
      {
       "metadata": {},
       "output_type": "pyout",
       "prompt_number": 58,
       "text": [
        "idx: 900\tloss: 4.0606861114502\ttrain score: 13.971666666667\tlabel: 8\tprediction: [1]85 [2]87 [3]64 [4]54 [5]72\t\n"
       ]
      },
      {
       "metadata": {},
       "output_type": "pyout",
       "prompt_number": 58,
       "text": [
        "idx: 905\tloss: 4.0686807632446\ttrain score: 14.873333333333\tlabel: 18\tprediction: [1]19 [2]29 [3]100 [4]91 [5]18\t\n"
       ]
      },
      {
       "metadata": {},
       "output_type": "pyout",
       "prompt_number": 58,
       "text": [
        "idx: 910\tloss: 4.0679998397827\ttrain score: 13.83\tlabel: 59\tprediction: [1]37 [2]79 [3]86 [4]30 [5]100\t\n"
       ]
      },
      {
       "metadata": {},
       "output_type": "pyout",
       "prompt_number": 58,
       "text": [
        "idx: 915\tloss: 4.0581502914429\ttrain score: 13.671666666667\tlabel: 31\tprediction: [1]59 [2]58 [3]63 [4]62 [5]61\t\n"
       ]
      },
      {
       "metadata": {},
       "output_type": "pyout",
       "prompt_number": 58,
       "text": [
        "idx: 920\tloss: 4.0927720069885\ttrain score: 13.641666666667\tlabel: 61\tprediction: [1]95 [2]61 [3]58 [4]15 [5]33\t\n"
       ]
      },
      {
       "metadata": {},
       "output_type": "pyout",
       "prompt_number": 58,
       "text": [
        "idx: 925\tloss: 4.0662269592285\ttrain score: 13.055\tlabel: 64\tprediction: [1]64 [2]83 [3]74 [4]4 [5]62\t\n"
       ]
      },
      {
       "metadata": {},
       "output_type": "pyout",
       "prompt_number": 58,
       "text": [
        "idx: 930\tloss: 4.0444989204407\ttrain score: 13.5\tlabel: 79\tprediction: [1]68 [2]45 [3]83 [4]82 [5]81\t\n"
       ]
      },
      {
       "metadata": {},
       "output_type": "pyout",
       "prompt_number": 58,
       "text": [
        "idx: 935\tloss: 4.069365978241\ttrain score: 13.918333333333\tlabel: 48\tprediction: [1]72 [2]74 [3]53 [4]66 [5]67\t\n"
       ]
      },
      {
       "metadata": {},
       "output_type": "pyout",
       "prompt_number": 58,
       "text": [
        "idx: 940\tloss: 4.0715188980103\ttrain score: 13.848333333333\tlabel: 98\tprediction: [1]30 [2]9 [3]47 [4]87 [5]26\t\n"
       ]
      },
      {
       "metadata": {},
       "output_type": "pyout",
       "prompt_number": 58,
       "text": [
        "idx: 945\tloss: 4.0693202018738\ttrain score: 14.216666666667\tlabel: 52\tprediction: [1]52 [2]33 [3]77 [4]24 [5]73\t\n"
       ]
      },
      {
       "metadata": {},
       "output_type": "pyout",
       "prompt_number": 58,
       "text": [
        "idx: 950\tloss: 4.0539026260376\ttrain score: 15.141666666667\tlabel: 54\tprediction: [1]31 [2]62 [3]21 [4]79 [5]86\t\n"
       ]
      },
      {
       "metadata": {},
       "output_type": "pyout",
       "prompt_number": 58,
       "text": [
        "idx: 955\tloss: 4.0868964195251\ttrain score: 14.501666666667\t"
       ]
      },
      {
       "metadata": {},
       "output_type": "pyout",
       "prompt_number": 58,
       "text": [
        "label: 83\tprediction: [1]79 [2]76 [3]30 [4]100 [5]83\t\n"
       ]
      },
      {
       "metadata": {},
       "output_type": "pyout",
       "prompt_number": 58,
       "text": [
        "idx: 960\tloss: 4.0737724304199\ttrain score: 13.211666666667\tlabel: 88\tprediction: [1]31 [2]86 [3]84 [4]91 [5]13\t\n"
       ]
      },
      {
       "metadata": {},
       "output_type": "pyout",
       "prompt_number": 58,
       "text": [
        "idx: 965\tloss: 4.0634822845459\ttrain score: 12.631666666667\tlabel: 52\tprediction: [1]70 [2]99 [3]18 [4]22 [5]12\t\n"
       ]
      },
      {
       "metadata": {},
       "output_type": "pyout",
       "prompt_number": 58,
       "text": [
        "idx: 970\tloss: 4.0772409439087\ttrain score: 14.656666666667\tlabel: 68\tprediction: [1]31 [2]59 [3]83 [4]68 [5]86\t\n"
       ]
      },
      {
       "metadata": {},
       "output_type": "pyout",
       "prompt_number": 58,
       "text": [
        "idx: 975\tloss: 4.0686130523682\ttrain score: 14.256666666667\tlabel: 46\tprediction: [1]80 [2]46 [3]20 [4]52 [5]89\t\n"
       ]
      },
      {
       "metadata": {},
       "output_type": "pyout",
       "prompt_number": 58,
       "text": [
        "idx: 980\tloss: 4.0660915374756\ttrain score: 13.811666666667\tlabel: 84\tprediction: [1]29 [2]48 [3]22 [4]24 [5]56\t\n"
       ]
      },
      {
       "metadata": {},
       "output_type": "pyout",
       "prompt_number": 58,
       "text": [
        "idx: 985\tloss: 4.0780491828918\ttrain score: 14.353333333333\tlabel: 99\tprediction: [1]20 [2]42 [3]51 [4]18 [5]48\t\n"
       ]
      },
      {
       "metadata": {},
       "output_type": "pyout",
       "prompt_number": 58,
       "text": [
        "idx: 990\tloss: 4.0569477081299\ttrain score: 14.595\tlabel: 8\tprediction: [1]8 [2]73 [3]16 [4]40 [5]43\t\n"
       ]
      },
      {
       "metadata": {},
       "output_type": "pyout",
       "prompt_number": 58,
       "text": [
        "idx: 995\tloss: 4.0689258575439\ttrain score: 14.013333333333\tlabel: 38\tprediction: [1]14 [2]48 [3]43 [4]51 [5]33\t\n"
       ]
      },
      {
       "metadata": {},
       "output_type": "pyout",
       "prompt_number": 58,
       "text": [
        "idx: 1000\tloss: 4.0747661590576\ttrain score: 15.305\tlabel: 9\tprediction: [1]65 [2]79 [3]37 [4]39 [5]47\t\n"
       ]
      },
      {
       "metadata": {},
       "output_type": "pyout",
       "prompt_number": 58,
       "text": [
        "idx: 1005\tloss: 4.0677213668823\ttrain score: 14.155\tlabel: 88\tprediction: [1]48 [2]26 [3]91 [4]97 [5]51\t\n"
       ]
      },
      {
       "metadata": {},
       "output_type": "pyout",
       "prompt_number": 58,
       "text": [
        "idx: 1010\tloss: 4.0523419380188\ttrain score: 13.506666666667\tlabel: 22\tprediction: [1]71 [2]38 [3]20 [4]22 [5]84\t\n"
       ]
      },
      {
       "metadata": {},
       "output_type": "pyout",
       "prompt_number": 58,
       "text": [
        "idx: 1015\tloss: 4.0696964263916\ttrain score: 14.796666666667\tlabel: 11\tprediction: [1]50 [2]14 [3]38 [4]42 [5]56\t\n"
       ]
      },
      {
       "metadata": {},
       "output_type": "pyout",
       "prompt_number": 58,
       "text": [
        "idx: 1020\tloss: 4.0522661209106\ttrain score: 14.026666666667\tlabel: 41\tprediction: [1]33 [2]43 [3]16 [4]17 [5]76\t\n"
       ]
      },
      {
       "metadata": {},
       "output_type": "pyout",
       "prompt_number": 58,
       "text": [
        "idx: 1025\tloss: 4.0525217056274\ttrain score: 14.698333333333\tlabel: 8\tprediction: [1]7 [2]43 [3]33 [4]60 [5]97\t\n"
       ]
      },
      {
       "metadata": {},
       "output_type": "pyout",
       "prompt_number": 58,
       "text": [
        "idx: 1030\tloss: 4.061888217926\ttrain score: 15.08\tlabel: 68\tprediction: [1]7 [2]3 [3]96 [4]31 [5]4\t\n"
       ]
      },
      {
       "metadata": {},
       "output_type": "pyout",
       "prompt_number": 58,
       "text": [
        "idx: 1035\tloss: 4.0710282325745\ttrain score: 12.841666666667\tlabel: 48\tprediction: [1]48 [2]73 [3]19 [4]52 [5]51\t\n"
       ]
      },
      {
       "metadata": {},
       "output_type": "pyout",
       "prompt_number": 58,
       "text": [
        "idx: 1040\tloss: 4.0452880859375\ttrain score: 15.281666666667\tlabel: 8\tprediction: [1]33 [2]40 [3]17 [4]77 [5]29\t\n"
       ]
      },
      {
       "metadata": {},
       "output_type": "pyout",
       "prompt_number": 58,
       "text": [
        "idx: 1045\tloss: 4.0773773193359\ttrain score: 13.706666666667\tlabel: 63\tprediction: [1]82 [2]21 [3]60 [4]86 [5]83\t\n"
       ]
      },
      {
       "metadata": {},
       "output_type": "pyout",
       "prompt_number": 58,
       "text": [
        "idx: 1050\tloss: 4.0729393959045\ttrain score: 13.998333333333\tlabel: 81\tprediction: [1]83 [2]31 [3]21 [4]87 [5]86\t\n"
       ]
      },
      {
       "metadata": {},
       "output_type": "pyout",
       "prompt_number": 58,
       "text": [
        "idx: 1055\tloss: 4.0723376274109\ttrain score: 11.881666666667\tlabel: 22\tprediction: [1]34 [2]92 [3]73 [4]22 [5]84\t\n"
       ]
      },
      {
       "metadata": {},
       "output_type": "pyout",
       "prompt_number": 58,
       "text": [
        "idx: 1060\tloss: 4.0787825584412\ttrain score: 14.136666666667\tlabel: 49\tprediction: [1]77 [2]24 [3]19 [4]51 [5]78\t\n"
       ]
      },
      {
       "metadata": {},
       "output_type": "pyout",
       "prompt_number": 58,
       "text": [
        "idx: 1065\tloss: 4.0858788490295\ttrain score: 13.908333333333\tlabel: 41\tprediction: [1]73 [2]34 [3]19 [4]92 [5]100\t\n"
       ]
      },
      {
       "metadata": {},
       "output_type": "pyout",
       "prompt_number": 58,
       "text": [
        "idx: 1070\tloss: 4.097357749939\ttrain score: 14.171666666667\tlabel: 91\tprediction: [1]87 [2]26 [3]21 [4]23 [5]44\t\n"
       ]
      },
      {
       "metadata": {},
       "output_type": "pyout",
       "prompt_number": 58,
       "text": [
        "idx: 1075\tloss: 4.0646314620972\ttrain score: 14.401666666667\tlabel: 17\tprediction: [1]14 [2]42 [3]73 [4]34 [5]50\t\n"
       ]
      },
      {
       "metadata": {},
       "output_type": "pyout",
       "prompt_number": 58,
       "text": [
        "idx: 1080\tloss: 4.0696306228638\ttrain score: 14.288333333333\tlabel: 41\tprediction: [1]51 [2]92 [3]29 [4]17 [5]16\t\n"
       ]
      },
      {
       "metadata": {},
       "output_type": "pyout",
       "prompt_number": 58,
       "text": [
        "idx: 1085\tloss: 4.0615448951721\ttrain score: 13.773333333333\tlabel: 67\t"
       ]
      },
      {
       "metadata": {},
       "output_type": "pyout",
       "prompt_number": 58,
       "text": [
        "prediction: [1]27 [2]1 [3]97 [4]88 [5]85\t\n"
       ]
      },
      {
       "metadata": {},
       "output_type": "pyout",
       "prompt_number": 58,
       "text": [
        "idx: 1090\tloss: 4.0563058853149\ttrain score: 14.085\tlabel: 53\tprediction: [1]53 [2]88 [3]32 [4]81 [5]67\t\n"
       ]
      },
      {
       "metadata": {},
       "output_type": "pyout",
       "prompt_number": 58,
       "text": [
        "idx: 1095\tloss: 4.0879392623901\ttrain score: 13.048333333333\tlabel: 24\tprediction: [1]24 [2]49 [3]77 [4]73 [5]64\t\n"
       ]
      },
      {
       "metadata": {},
       "output_type": "pyout",
       "prompt_number": 58,
       "text": [
        "idx: 1100\tloss: 4.0616002082825\ttrain score: 13.015\tlabel: 9\tprediction: [1]58 [2]61 [3]62 [4]65 [5]100\t\n"
       ]
      },
      {
       "metadata": {},
       "output_type": "pyout",
       "prompt_number": 58,
       "text": [
        "idx: 1105\tloss: 4.0741500854492\ttrain score: 11.308333333333\tlabel: 55\tprediction: [1]72 [2]46 [3]20 [4]52 [5]89\t\n"
       ]
      },
      {
       "metadata": {},
       "output_type": "pyout",
       "prompt_number": 58,
       "text": [
        "idx: 1110\tloss: 4.0815286636353\ttrain score: 13.278333333333\tlabel: 27\tprediction: [1]91 [2]74 [3]27 [4]1 [5]85\t\n"
       ]
      },
      {
       "metadata": {},
       "output_type": "pyout",
       "prompt_number": 58,
       "text": [
        "idx: 1115\tloss: 4.0630717277527\ttrain score: 13.52\tlabel: 24\tprediction: [1]52 [2]33 [3]22 [4]77 [5]24\t\n"
       ]
      },
      {
       "metadata": {},
       "output_type": "pyout",
       "prompt_number": 58,
       "text": [
        "idx: 1120\tloss: 4.0577812194824\ttrain score: 14.833333333333\tlabel: 70\tprediction: [1]73 [2]71 [3]87 [4]22 [5]84\t\n"
       ]
      },
      {
       "metadata": {},
       "output_type": "pyout",
       "prompt_number": 58,
       "text": [
        "idx: 1125\tloss: 4.0784802436829\ttrain score: 13.315\tlabel: 5\tprediction: [1]49 [2]48 [3]69 [4]51 [5]70\t\n"
       ]
      },
      {
       "metadata": {},
       "output_type": "pyout",
       "prompt_number": 58,
       "text": [
        "idx: 1130\tloss: 4.081127166748\ttrain score: 14.236666666667\tlabel: 91\tprediction: [1]83 [2]47 [3]90 [4]26 [5]30\t\n"
       ]
      },
      {
       "metadata": {},
       "output_type": "pyout",
       "prompt_number": 58,
       "text": [
        "idx: 1135\tloss: 4.0599398612976\ttrain score: 15.306666666667\tlabel: 22\tprediction: [1]70 [2]11 [3]20 [4]19 [5]18\t\n"
       ]
      },
      {
       "metadata": {},
       "output_type": "pyout",
       "prompt_number": 58,
       "text": [
        "idx: 1140\tloss: 4.08518409729\ttrain score: 13.73\tlabel: 76\tprediction: [1]83 [2]38 [3]22 [4]26 [5]100\t\n"
       ]
      },
      {
       "metadata": {},
       "output_type": "pyout",
       "prompt_number": 58,
       "text": [
        "idx: 1145\tloss: 4.0770435333252\ttrain score: 15.588333333333\tlabel: 6\tprediction: [1]56 [2]51 [3]73 [4]22 [5]5\t\n"
       ]
      },
      {
       "metadata": {},
       "output_type": "pyout",
       "prompt_number": 58,
       "text": [
        "idx: 1150\tloss: 4.0717239379883\ttrain score: 14.561666666667\tlabel: 16\tprediction: [1]63 [2]62 [3]82 [4]16 [5]13\t\n"
       ]
      },
      {
       "metadata": {},
       "output_type": "pyout",
       "prompt_number": 58,
       "text": [
        "idx: 1155\tloss: 4.0724229812622\ttrain score: 14.16\tlabel: 84\tprediction: [1]27 [2]18 [3]17 [4]56 [5]41\t\n"
       ]
      },
      {
       "metadata": {},
       "output_type": "pyout",
       "prompt_number": 58,
       "text": [
        "idx: 1160\tloss: 4.0624785423279\ttrain score: 14.473333333333\tlabel: 24\tprediction: [1]56 [2]10 [3]26 [4]18 [5]84\t\n"
       ]
      },
      {
       "metadata": {},
       "output_type": "pyout",
       "prompt_number": 58,
       "text": [
        "idx: 1165\tloss: 4.0521817207336\ttrain score: 12.611666666667\tlabel: 30\tprediction: [1]31 [2]37 [3]23 [4]86 [5]29\t\n"
       ]
      },
      {
       "metadata": {},
       "output_type": "pyout",
       "prompt_number": 58,
       "text": [
        "idx: 1170\tloss: 4.0555167198181\ttrain score: 14.33\tlabel: 94\tprediction: [1]41 [2]77 [3]33 [4]92 [5]34\t\n"
       ]
      },
      {
       "metadata": {},
       "output_type": "pyout",
       "prompt_number": 58,
       "text": [
        "idx: 1175\tloss: 4.092426776886\ttrain score: 14.471666666667\tlabel: 27\tprediction: [1]21 [2]23 [3]45 [4]44 [5]87\t\n"
       ]
      },
      {
       "metadata": {},
       "output_type": "pyout",
       "prompt_number": 58,
       "text": [
        "idx: 1180\tloss: 4.106997013092\ttrain score: 13.536666666667\tlabel: 35\tprediction: [1]11 [2]74 [3]1 [4]27 [5]84\t\n"
       ]
      },
      {
       "metadata": {},
       "output_type": "pyout",
       "prompt_number": 58,
       "text": [
        "idx: 1185\tloss: 4.0857586860657\ttrain score: 13.685\tlabel: 15\tprediction: [1]48 [2]73 [3]24 [4]17 [5]77\t\n"
       ]
      },
      {
       "metadata": {},
       "output_type": "pyout",
       "prompt_number": 58,
       "text": [
        "idx: 1190\tloss: 4.0785355567932\ttrain score: 13.961666666667\tlabel: 27\tprediction: [1]93 [2]72 [3]27 [4]1 [5]85\t\n"
       ]
      },
      {
       "metadata": {},
       "output_type": "pyout",
       "prompt_number": 58,
       "text": [
        "idx: 1195\tloss: 4.0603213310242\ttrain score: 14.14\tlabel: 55\tprediction: [1]89 [2]52 [3]2 [4]46 [5]72\t\n"
       ]
      },
      {
       "metadata": {},
       "output_type": "pyout",
       "prompt_number": 58,
       "text": [
        "idx: 1200\tloss: 4.0711455345154\ttrain score: 14.378333333333\tlabel: 38\tprediction: [1]22 [2]56 [3]18 [4]19 [5]20\t\n"
       ]
      },
      {
       "metadata": {},
       "output_type": "pyout",
       "prompt_number": 58,
       "text": [
        "idx: 1205\tloss: 4.0648875236511\ttrain score: 14.111666666667\tlabel: 67\tprediction: [1]53 [2]88 [3]72 [4]1 [5]35\t\n"
       ]
      },
      {
       "metadata": {},
       "output_type": "pyout",
       "prompt_number": 58,
       "text": [
        "idx: 1210\tloss: 4.05419921875\ttrain score: 14.421666666667\tlabel: 70\tprediction: [1]18 [2]70 [3]65 [4]74 [5]39\t\n"
       ]
      },
      {
       "metadata": {},
       "output_type": "pyout",
       "prompt_number": 58,
       "text": [
        "idx: 1215\tloss: 4.0800805091858\ttrain score: 13.376666666667\tlabel: 8\tprediction: [1]92 [2]41 [3]33 [4]78 [5]77\t\n"
       ]
      },
      {
       "metadata": {},
       "output_type": "pyout",
       "prompt_number": 58,
       "text": [
        "idx: 1220\tloss: 4.0790143013\ttrain score: 13.996666666667\tlabel: 23\tprediction: [1]100 [2]11 [3]36 [4]38 [5]44\t\n"
       ]
      },
      {
       "metadata": {},
       "output_type": "pyout",
       "prompt_number": 58,
       "text": [
        "idx: 1225\tloss: 4.0822529792786\ttrain score: 12.355\tlabel: 33\tprediction: [1]49 [2]73 [3]91 [4]40 [5]48\t\n"
       ]
      },
      {
       "metadata": {},
       "output_type": "pyout",
       "prompt_number": 58,
       "text": [
        "idx: 1230\tloss: 4.0590085983276\ttrain score: 14.515\tlabel: 72\tprediction: [1]85 [2]88 [3]1 [4]78 [5]35\t\n"
       ]
      },
      {
       "metadata": {},
       "output_type": "pyout",
       "prompt_number": 58,
       "text": [
        "idx: 1235\tloss: 4.0697917938232\ttrain score: 12.66\tlabel: 36\tprediction: [1]33 [2]77 [3]17 [4]49 [5]58\t\n"
       ]
      },
      {
       "metadata": {},
       "output_type": "pyout",
       "prompt_number": 58,
       "text": [
        "idx: 1240\tloss: 4.0803642272949\ttrain score: 13.126666666667\tlabel: 5\tprediction: [1]69 [2]70 [3]22 [4]26 [5]38\t\n"
       ]
      },
      {
       "metadata": {},
       "output_type": "pyout",
       "prompt_number": 58,
       "text": [
        "idx: 1245\tloss: 4.0750870704651\ttrain score: 14.111666666667\tlabel: 80\tprediction: [1]72 [2]46 [3]20 [4]52 [5]89\t\n"
       ]
      },
      {
       "metadata": {},
       "output_type": "pyout",
       "prompt_number": 58,
       "text": [
        "idx: 1250\tloss: 4.0964417457581\ttrain score: 13.978333333333\tlabel: 51\tprediction: [1]91 [2]8 [3]11 [4]44 [5]100\t\n"
       ]
      },
      {
       "metadata": {},
       "output_type": "pyout",
       "prompt_number": 58,
       "text": [
        "idx: 1255\tloss: 4.0720582008362\ttrain score: 14.521666666667\tlabel: 8\tprediction: [1]49 [2]95 [3]61 [4]77 [5]51\t\n"
       ]
      },
      {
       "metadata": {},
       "output_type": "pyout",
       "prompt_number": 58,
       "text": [
        "idx: 1260\tloss: 4.0555181503296\ttrain score: 15.095\tlabel: 85\tprediction: [1]72 [2]46 [3]20 [4]52 [5]89\t\n"
       ]
      },
      {
       "metadata": {},
       "output_type": "pyout",
       "prompt_number": 58,
       "text": [
        "idx: 1265\tloss: 4.097261428833\ttrain score: 12.595\tlabel: 86\tprediction: [1]61 [2]86 [3]82 [4]13 [5]63\t\n"
       ]
      },
      {
       "metadata": {},
       "output_type": "pyout",
       "prompt_number": 58,
       "text": [
        "idx: 1270\tloss: 4.074330329895\ttrain score: 14.348333333333\tlabel: 14\tprediction: [1]33 [2]78 [3]17 [4]48 [5]22\t\n"
       ]
      },
      {
       "metadata": {},
       "output_type": "pyout",
       "prompt_number": 58,
       "text": [
        "idx: 1275\tloss: 4.0823125839233\ttrain score: 13.455\tlabel: 57\tprediction: [1]69 [2]70 [3]19 [4]20 [5]73\t\n"
       ]
      },
      {
       "metadata": {},
       "output_type": "pyout",
       "prompt_number": 58,
       "text": [
        "idx: 1280\tloss: 4.0690746307373\ttrain score: 13.363333333333\tlabel: 15\tprediction: [1]33 [2]36 [3]51 [4]49 [5]48\t\n"
       ]
      },
      {
       "metadata": {},
       "output_type": "pyout",
       "prompt_number": 58,
       "text": [
        "idx: 1285\tloss: 4.0517559051514\ttrain score: 13.2\tlabel: 96\tprediction: [1]51 [2]71 [3]20 [4]84 [5]22\t\n"
       ]
      },
      {
       "metadata": {},
       "output_type": "pyout",
       "prompt_number": 58,
       "text": [
        "idx: 1290\tloss: 4.0594048500061\ttrain score: 13.323333333333\tlabel: 87\tprediction: [1]45 [2]72 [3]74 [4]35 [5]1\t\n"
       ]
      },
      {
       "metadata": {},
       "output_type": "pyout",
       "prompt_number": 58,
       "text": [
        "idx: 1295\tloss: 4.0663652420044\ttrain score: 12.858333333333\tlabel: 33\tprediction: [1]33 [2]34 [3]73 [4]52 [5]51\t\n"
       ]
      },
      {
       "metadata": {},
       "output_type": "pyout",
       "prompt_number": 58,
       "text": [
        "idx: 1300\tloss: 4.0663900375366\ttrain score: 14.211666666667\tlabel: 1\tprediction: [1]11 [2]74 [3]1 [4]27 [5]48\t\n"
       ]
      },
      {
       "metadata": {},
       "output_type": "pyout",
       "prompt_number": 58,
       "text": [
        "idx: 1305\tloss: 4.0533499717712\ttrain score: 13.561666666667\tlabel: 22\tprediction: [1]69 [2]70 [3]22 [4]24 [5]52\t\n"
       ]
      },
      {
       "metadata": {},
       "output_type": "pyout",
       "prompt_number": 58,
       "text": [
        "idx: 1310\tloss: 4.0773367881775\ttrain score: 13.453333333333\tlabel: 19\tprediction: [1]34 [2]51 [3]24 [4]73 [5]29\t\n"
       ]
      },
      {
       "metadata": {},
       "output_type": "pyout",
       "prompt_number": 58,
       "text": [
        "idx: 1315\tloss: 4.078773021698\ttrain score: 12.063333333333\tlabel: 11\tprediction: [1]100 [2]34 [3]17 [4]18 [5]19\t\n"
       ]
      },
      {
       "metadata": {},
       "output_type": "pyout",
       "prompt_number": 58,
       "text": [
        "idx: 1320\tloss: 4.0693964958191\ttrain score: 14.35\tlabel: 83\tprediction: [1]39 [2]87 [3]44 [4]79 [5]21\t\n"
       ]
      },
      {
       "metadata": {},
       "output_type": "pyout",
       "prompt_number": 58,
       "text": [
        "idx: 1325\tloss: 4.0853519439697\ttrain score: 15.046666666667\t"
       ]
      },
      {
       "metadata": {},
       "output_type": "pyout",
       "prompt_number": 58,
       "text": [
        "label: 62\tprediction: [1]31 [2]79 [3]23 [4]83 [5]82\t\n"
       ]
      },
      {
       "metadata": {},
       "output_type": "pyout",
       "prompt_number": 58,
       "text": [
        "idx: 1330\tloss: 4.0727925300598\ttrain score: 12.5\tlabel: 73\tprediction: [1]34 [2]51 [3]17 [4]90 [5]44\t\n"
       ]
      },
      {
       "metadata": {},
       "output_type": "pyout",
       "prompt_number": 58,
       "text": [
        "idx: 1335\tloss: 4.0789589881897\ttrain score: 12.251666666667\tlabel: 24\tprediction: [1]34 [2]38 [3]22 [4]92 [5]26\t\n"
       ]
      },
      {
       "metadata": {},
       "output_type": "pyout",
       "prompt_number": 58,
       "text": [
        "idx: 1340\tloss: 4.0769124031067\ttrain score: 13.988333333333\tlabel: 62\tprediction: [1]59 [2]69 [3]91 [4]65 [5]60\t\n"
       ]
      },
      {
       "metadata": {},
       "output_type": "pyout",
       "prompt_number": 58,
       "text": [
        "idx: 1345\tloss: 4.0677666664124\ttrain score: 12.656666666667\tlabel: 77\tprediction: [1]34 [2]51 [3]73 [4]26 [5]29\t\n"
       ]
      },
      {
       "metadata": {},
       "output_type": "pyout",
       "prompt_number": 58,
       "text": [
        "idx: 1350\tloss: 4.0645251274109\ttrain score: 13.916666666667\tlabel: 15\tprediction: [1]29 [2]40 [3]61 [4]92 [5]91\t\n"
       ]
      },
      {
       "metadata": {},
       "output_type": "pyout",
       "prompt_number": 58,
       "text": [
        "idx: 1355\tloss: 4.0841789245605\ttrain score: 12.251666666667\tlabel: 2\tprediction: [1]72 [2]46 [3]20 [4]52 [5]89\t\n"
       ]
      },
      {
       "metadata": {},
       "output_type": "pyout",
       "prompt_number": 58,
       "text": [
        "idx: 1360\tloss: 4.0850615501404\ttrain score: 14.373333333333\tlabel: 54\tprediction: [1]48 [2]92 [3]51 [4]77 [5]95\t\n"
       ]
      },
      {
       "metadata": {},
       "output_type": "pyout",
       "prompt_number": 58,
       "text": [
        "idx: 1365\tloss: 4.088454246521\ttrain score: 12.903333333333\tlabel: 25\tprediction: [1]72 [2]46 [3]20 [4]52 [5]89\t\n"
       ]
      },
      {
       "metadata": {},
       "output_type": "pyout",
       "prompt_number": 58,
       "text": [
        "idx: 1370\tloss: 4.081268787384\ttrain score: 12.485\tlabel: 56\tprediction: [1]60 [2]20 [3]52 [4]84 [5]18\t\n"
       ]
      },
      {
       "metadata": {},
       "output_type": "pyout",
       "prompt_number": 58,
       "text": [
        "idx: 1375\tloss: 4.0646986961365\ttrain score: 12.95\tlabel: 39\tprediction: [1]39 [2]68 [3]83 [4]82 [5]79\t\n"
       ]
      },
      {
       "metadata": {},
       "output_type": "pyout",
       "prompt_number": 58,
       "text": [
        "idx: 1380\tloss: 4.0626955032349\ttrain score: 12.433333333333\tlabel: 80\tprediction: [1]72 [2]46 [3]20 [4]52 [5]89\t\n"
       ]
      },
      {
       "metadata": {},
       "output_type": "pyout",
       "prompt_number": 58,
       "text": [
        "idx: 1385\tloss: 4.0641222000122\ttrain score: 13.651666666667\tlabel: 79\tprediction: [1]36 [2]39 [3]30 [4]100 [5]82\t\n"
       ]
      },
      {
       "metadata": {},
       "output_type": "pyout",
       "prompt_number": 58,
       "text": [
        "idx: 1390\tloss: 4.0723032951355\ttrain score: 13.073333333333\tlabel: 16\tprediction: [1]72 [2]73 [3]56 [4]18 [5]24\t\n"
       ]
      },
      {
       "metadata": {},
       "output_type": "pyout",
       "prompt_number": 58,
       "text": [
        "idx: 1395\tloss: 4.0935120582581\ttrain score: 12.695\tlabel: 69\tprediction: [1]69 [2]51 [3]19 [4]20 [5]22\t\n"
       ]
      },
      {
       "metadata": {},
       "output_type": "pyout",
       "prompt_number": 58,
       "text": [
        "idx: 1400\tloss: 4.0917568206787\ttrain score: 13.291666666667\tlabel: 100\tprediction: [1]59 [2]10 [3]26 [4]100 [5]31\t\n"
       ]
      },
      {
       "metadata": {},
       "output_type": "pyout",
       "prompt_number": 58,
       "text": [
        "idx: 1405\tloss: 4.0855803489685\ttrain score: 14.081666666667\tlabel: 55\tprediction: [1]55 [2]48 [3]33 [4]40 [5]11\t\n"
       ]
      },
      {
       "metadata": {},
       "output_type": "pyout",
       "prompt_number": 58,
       "text": [
        "idx: 1410\tloss: 4.0818524360657\ttrain score: 12.953333333333\tlabel: 62\tprediction: [1]23 [2]82 [3]44 [4]21 [5]83\t\n"
       ]
      },
      {
       "metadata": {},
       "output_type": "pyout",
       "prompt_number": 58,
       "text": [
        "idx: 1415\tloss: 4.096086025238\ttrain score: 12.796666666667\tlabel: 90\tprediction: [1]27 [2]74 [3]81 [4]93 [5]1\t\n"
       ]
      },
      {
       "metadata": {},
       "output_type": "pyout",
       "prompt_number": 58,
       "text": [
        "idx: 1420\tloss: 4.0889801979065\ttrain score: 13.241666666667\tlabel: 83\tprediction: [1]83 [2]65 [3]45 [4]23 [5]91\t\n"
       ]
      },
      {
       "metadata": {},
       "output_type": "pyout",
       "prompt_number": 58,
       "text": [
        "idx: 1425\tloss: 4.0878376960754\ttrain score: 12.985\tlabel: 5\tprediction: [1]60 [2]33 [3]78 [4]77 [5]24\t\n"
       ]
      },
      {
       "metadata": {},
       "output_type": "pyout",
       "prompt_number": 58,
       "text": [
        "idx: 1430\tloss: 4.0827741622925\ttrain score: 13.605\tlabel: 4\tprediction: [1]47 [2]68 [3]30 [4]82 [5]79\t\n"
       ]
      },
      {
       "metadata": {},
       "output_type": "pyout",
       "prompt_number": 58,
       "text": [
        "idx: 1435\tloss: 4.0795121192932\ttrain score: 13.246666666667\tlabel: 1\tprediction: [1]1 [2]22 [3]12 [4]11 [5]27\t\n"
       ]
      },
      {
       "metadata": {},
       "output_type": "pyout",
       "prompt_number": 58,
       "text": [
        "idx: 1440\tloss: 4.0864701271057\ttrain score: 12.778333333333\tlabel: 27\tprediction: [1]10 [2]86 [3]61 [4]21 [5]70\t\n"
       ]
      },
      {
       "metadata": {},
       "output_type": "pyout",
       "prompt_number": 58,
       "text": [
        "idx: 1445\tloss: 4.078999042511\ttrain score: 13.526666666667\tlabel: 73\tprediction: [1]51 [2]42 [3]18 [4]19 [5]20\t\n"
       ]
      },
      {
       "metadata": {},
       "output_type": "pyout",
       "prompt_number": 58,
       "text": [
        "idx: 1450\tloss: 4.0736451148987\ttrain score: 13.193333333333\tlabel: 44\tprediction: [1]13 [2]49 [3]48 [4]21 [5]33\t\n"
       ]
      },
      {
       "metadata": {},
       "output_type": "pyout",
       "prompt_number": 58,
       "text": [
        "idx: 1455\tloss: 4.0825915336609\ttrain score: 12.681666666667\tlabel: 49\tprediction: [1]94 [2]35 [3]27 [4]43 [5]90\t\n"
       ]
      },
      {
       "metadata": {},
       "output_type": "pyout",
       "prompt_number": 58,
       "text": [
        "idx: 1460\tloss: 4.0966668128967\ttrain score: 12.913333333333\tlabel: 12\tprediction: [1]16 [2]37 [3]13 [4]62 [5]82\t\n"
       ]
      },
      {
       "metadata": {},
       "output_type": "pyout",
       "prompt_number": 58,
       "text": [
        "idx: 1465\tloss: 4.0879549980164\ttrain score: 11.996666666667\tlabel: 23\tprediction: [1]31 [2]100 [3]79 [4]68 [5]90\t\n"
       ]
      },
      {
       "metadata": {},
       "output_type": "pyout",
       "prompt_number": 58,
       "text": [
        "idx: 1470\tloss: 4.0986909866333\ttrain score: 12.743333333333\tlabel: 87\tprediction: [1]94 [2]87 [3]21 [4]86 [5]83\t\n"
       ]
      },
      {
       "metadata": {},
       "output_type": "pyout",
       "prompt_number": 58,
       "text": [
        "idx: 1475\tloss: 4.0815763473511\ttrain score: 11.25\tlabel: 72\tprediction: [1]50 [2]25 [3]52 [4]89 [5]80\t\n"
       ]
      },
      {
       "metadata": {},
       "output_type": "pyout",
       "prompt_number": 58,
       "text": [
        "idx: 1480\tloss: 4.0779128074646\ttrain score: 12.49\tlabel: 63\tprediction: [1]45 [2]64 [3]82 [4]31 [5]37\t\n"
       ]
      },
      {
       "metadata": {},
       "output_type": "pyout",
       "prompt_number": 58,
       "text": [
        "idx: 1485\tloss: 4.0866713523865\ttrain score: 12.47\tlabel: 11\tprediction: [1]35 [2]93 [3]85 [4]64 [5]53\t\n"
       ]
      },
      {
       "metadata": {},
       "output_type": "pyout",
       "prompt_number": 58,
       "text": [
        "idx: 1490\tloss: 4.0946488380432\ttrain score: 11.413333333333\tlabel: 91\tprediction: [1]34 [2]78 [3]26 [4]51 [5]29\t\n"
       ]
      },
      {
       "metadata": {},
       "output_type": "pyout",
       "prompt_number": 58,
       "text": [
        "idx: 1495\tloss: 4.0531730651855\ttrain score: 12.92\tlabel: 74\tprediction: [1]27 [2]1 [3]45 [4]85 [5]40\t\n"
       ]
      },
      {
       "metadata": {},
       "output_type": "pyout",
       "prompt_number": 58,
       "text": [
        "current LR: 0.005\t\n"
       ]
      },
      {
       "metadata": {},
       "output_type": "pyout",
       "prompt_number": 58,
       "text": [
        "idx: 1500\tloss: 4.0796790122986\ttrain score: 13.138333333333\tlabel: 77\tprediction: [1]39 [2]68 [3]23 [4]82 [5]26\t\n"
       ]
      },
      {
       "metadata": {},
       "output_type": "pyout",
       "prompt_number": 58,
       "text": [
        "idx: 1505\tloss: 4.0757818222046\ttrain score: 12.953333333333\tlabel: 68\tprediction: [1]39 [2]68 [3]21 [4]83 [5]82\t\n"
       ]
      },
      {
       "metadata": {},
       "output_type": "pyout",
       "prompt_number": 58,
       "text": [
        "idx: 1510\tloss: 4.0802087783813\ttrain score: 13.928333333333\tlabel: 1\tprediction: [1]51 [2]52 [3]33 [4]34 [5]40\t\n"
       ]
      },
      {
       "metadata": {},
       "output_type": "pyout",
       "prompt_number": 58,
       "text": [
        "idx: 1515\tloss: 4.0736727714539\t"
       ]
      },
      {
       "metadata": {},
       "output_type": "pyout",
       "prompt_number": 58,
       "text": [
        "train score: 13.515\tlabel: 90\tprediction: [1]64 [2]77 [3]33 [4]34 [5]35\t\n"
       ]
      },
      {
       "metadata": {},
       "output_type": "pyout",
       "prompt_number": 58,
       "text": [
        "idx: 1520\tloss: 4.0961928367615\ttrain score: 12.318333333333\tlabel: 46\tprediction: [1]72 [2]46 [3]20 [4]52 [5]89\t\n"
       ]
      },
      {
       "metadata": {},
       "output_type": "pyout",
       "prompt_number": 58,
       "text": [
        "idx: 1525\tloss: 4.0780415534973\ttrain score: 11.123333333333\tlabel: 26\tprediction: [1]26 [2]74 [3]78 [4]84 [5]87\t\n"
       ]
      },
      {
       "metadata": {},
       "output_type": "pyout",
       "prompt_number": 58,
       "text": [
        "idx: 1530\tloss: 4.0703225135803\ttrain score: 14.011666666667\tlabel: 69\tprediction: [1]42 [2]84 [3]99 [4]22 [5]91\t\n"
       ]
      },
      {
       "metadata": {},
       "output_type": "pyout",
       "prompt_number": 58,
       "text": [
        "idx: 1535\tloss: 4.0662660598755\ttrain score: 13.378333333333\tlabel: 6\tprediction: [1]31 [2]47 [3]26 [4]83 [5]100\t\n"
       ]
      },
      {
       "metadata": {},
       "output_type": "pyout",
       "prompt_number": 58,
       "text": [
        "idx: 1540\tloss: 4.0853137969971\ttrain score: 13.551666666667\tlabel: 21\tprediction: [1]31 [2]39 [3]83 [4]88 [5]37\t\n"
       ]
      },
      {
       "metadata": {},
       "output_type": "pyout",
       "prompt_number": 58,
       "text": [
        "idx: 1545\tloss: 4.0842070579529\ttrain score: 13.72\tlabel: 31\tprediction: [1]18 [2]86 [3]15 [4]36 [5]69\t\n"
       ]
      },
      {
       "metadata": {},
       "output_type": "pyout",
       "prompt_number": 58,
       "text": [
        "idx: 1550\tloss: 4.0944328308105\ttrain score: 10.393333333333\tlabel: 41\tprediction: [1]29 [2]43 [3]52 [4]51 [5]24\t\n"
       ]
      },
      {
       "metadata": {},
       "output_type": "pyout",
       "prompt_number": 58,
       "text": [
        "idx: 1555\tloss: 4.0941185951233\ttrain score: 13.225\tlabel: 50\tprediction: [1]50 [2]73 [3]22 [4]34 [5]20\t\n"
       ]
      },
      {
       "metadata": {},
       "output_type": "pyout",
       "prompt_number": 58,
       "text": [
        "idx: 1560\tloss: 4.1018695831299\ttrain score: 12.496666666667\tlabel: 56\tprediction: [1]38 [2]69 [3]70 [4]50 [5]22\t\n"
       ]
      },
      {
       "metadata": {},
       "output_type": "pyout",
       "prompt_number": 58,
       "text": [
        "idx: 1565\tloss: 4.0735640525818\ttrain score: 11.781666666667\tlabel: 73\tprediction: [1]70 [2]73 [3]38 [4]42 [5]51\t\n"
       ]
      },
      {
       "metadata": {},
       "output_type": "pyout",
       "prompt_number": 58,
       "text": [
        "idx: 1570\tloss: 4.055926322937\ttrain score: 13.595\tlabel: 84\tprediction: [1]100 [2]43 [3]90 [4]26 [5]86\t\n"
       ]
      },
      {
       "metadata": {},
       "output_type": "pyout",
       "prompt_number": 58,
       "text": [
        "idx: 1575\tloss: 4.0891075134277\ttrain score: 12.76\tlabel: 7\tprediction: [1]60 [2]95 [3]17 [4]41 [5]40\t\n"
       ]
      },
      {
       "metadata": {},
       "output_type": "pyout",
       "prompt_number": 58,
       "text": [
        "idx: 1580\tloss: 4.097813129425\ttrain score: 11.815\tlabel: 92\tprediction: [1]8 [2]43 [3]33 [4]29 [5]91\t\n"
       ]
      },
      {
       "metadata": {},
       "output_type": "pyout",
       "prompt_number": 58,
       "text": [
        "idx: 1585\tloss: 4.0955166816711\ttrain score: 13.13\tlabel: 81\tprediction: [1]74 [2]85 [3]18 [4]81 [5]91\t\n"
       ]
      },
      {
       "metadata": {},
       "output_type": "pyout",
       "prompt_number": 58,
       "text": [
        "idx: 1590\tloss: 4.0885200500488\ttrain score: 12.16\tlabel: 8\tprediction: [1]41 [2]51 [3]17 [4]92 [5]33\t\n"
       ]
      },
      {
       "metadata": {},
       "output_type": "pyout",
       "prompt_number": 58,
       "text": [
        "idx: 1595\tloss: 4.0839433670044\ttrain score: 13.118333333333\tlabel: 31\tprediction: [1]39 [2]47 [3]83 [4]82 [5]100\t\n"
       ]
      },
      {
       "metadata": {},
       "output_type": "pyout",
       "prompt_number": 58,
       "text": [
        "idx: 1600\tloss: 4.0935750007629\ttrain score: 12.473333333333\tlabel: 74\tprediction: [1]73 [2]26 [3]19 [4]50 [5]22\t\n"
       ]
      },
      {
       "metadata": {},
       "output_type": "pyout",
       "prompt_number": 58,
       "text": [
        "idx: 1605\tloss: 4.0694599151611\ttrain score: 12.371666666667\tlabel: 39\tprediction: [1]37 [2]47 [3]83 [4]30 [5]82\t\n"
       ]
      },
      {
       "metadata": {},
       "output_type": "pyout",
       "prompt_number": 58,
       "text": [
        "idx: 1610\tloss: 4.1004152297974\ttrain score: 11.9\tlabel: 14\tprediction: [1]33 [2]40 [3]27 [4]91 [5]29\t\n"
       ]
      },
      {
       "metadata": {},
       "output_type": "pyout",
       "prompt_number": 58,
       "text": [
        "idx: 1615\tloss: 4.0620183944702\ttrain score: 13.956666666667\tlabel: 48\tprediction: [1]51 [2]48 [3]20 [4]60 [5]52\t\n"
       ]
      },
      {
       "metadata": {},
       "output_type": "pyout",
       "prompt_number": 58,
       "text": [
        "idx: 1620\tloss: 4.1050038337708\ttrain score: 12.635\tlabel: 82\tprediction: [1]68 [2]45 [3]83 [4]82 [5]30\t\n"
       ]
      },
      {
       "metadata": {},
       "output_type": "pyout",
       "prompt_number": 58,
       "text": [
        "idx: 1625\tloss: 4.1008672714233\ttrain score: 12.65\tlabel: 89\tprediction: [1]72 [2]46 [3]20 [4]52 [5]89\t\n"
       ]
      },
      {
       "metadata": {},
       "output_type": "pyout",
       "prompt_number": 58,
       "text": [
        "idx: 1630\tloss: 4.0946011543274\ttrain score: 12.126666666667\tlabel: 14\tprediction: [1]60 [2]70 [3]33 [4]34 [5]41\t\n"
       ]
      },
      {
       "metadata": {},
       "output_type": "pyout",
       "prompt_number": 58,
       "text": [
        "idx: 1635\tloss: 4.0728693008423\ttrain score: 13.321666666667\tlabel: 44\tprediction: [1]33 [2]92 [3]16 [4]17 [5]36\t\n"
       ]
      },
      {
       "metadata": {},
       "output_type": "pyout",
       "prompt_number": 58,
       "text": [
        "idx: 1640\tloss: 4.0920166969299\ttrain score: 12.5\tlabel: 31\tprediction: [1]59 [2]69 [3]100 [4]86 [5]74\t\n"
       ]
      },
      {
       "metadata": {},
       "output_type": "pyout",
       "prompt_number": 58,
       "text": [
        "idx: 1645\tloss: 4.0958609580994\ttrain score: 13.185\tlabel: 56\tprediction: [1]49 [2]48 [3]56 [4]52 [5]51\t\n"
       ]
      },
      {
       "metadata": {},
       "output_type": "pyout",
       "prompt_number": 58,
       "text": [
        "idx: 1650\tloss: 4.0787234306335\ttrain score: 12.316666666667\tlabel: 49\tprediction: [1]49 [2]43 [3]22 [4]24 [5]51\t\n"
       ]
      },
      {
       "metadata": {},
       "output_type": "pyout",
       "prompt_number": 58,
       "text": [
        "idx: 1655\tloss: 4.0748753547668\ttrain score: 13.208333333333\tlabel: 17\tprediction: [1]34 [2]41 [3]60 [4]24 [5]29\t\n"
       ]
      },
      {
       "metadata": {},
       "output_type": "pyout",
       "prompt_number": 58,
       "text": [
        "idx: 1660\tloss: 4.1148343086243\ttrain score: 12.903333333333\tlabel: 14\tprediction: [1]29 [2]49 [3]24 [4]60 [5]52\t\n"
       ]
      },
      {
       "metadata": {},
       "output_type": "pyout",
       "prompt_number": 58,
       "text": [
        "idx: 1665\tloss: 4.0870871543884\ttrain score: 12.098333333333\tlabel: 13\tprediction: [1]68 [2]21 [3]87 [4]86 [5]76\t\n"
       ]
      },
      {
       "metadata": {},
       "output_type": "pyout",
       "prompt_number": 58,
       "text": [
        "idx: 1670\tloss: 4.0931172370911\ttrain score: 12.351666666667\tlabel: 10\tprediction: [1]13 [2]47 [3]30 [4]100 [5]23\t"
       ]
      },
      {
       "metadata": {},
       "output_type": "pyout",
       "prompt_number": 58,
       "text": [
        "\n"
       ]
      },
      {
       "metadata": {},
       "output_type": "pyout",
       "prompt_number": 58,
       "text": [
        "idx: 1675\tloss: 4.109344959259\ttrain score: 10.846666666667\tlabel: 84\tprediction: [1]93 [2]74 [3]1 [4]42 [5]84\t\n"
       ]
      },
      {
       "metadata": {},
       "output_type": "pyout",
       "prompt_number": 58,
       "text": [
        "idx: 1680\tloss: 4.0984978675842\ttrain score: 12.56\tlabel: 25\tprediction: [1]72 [2]46 [3]20 [4]52 [5]89\t\n"
       ]
      },
      {
       "metadata": {},
       "output_type": "pyout",
       "prompt_number": 58,
       "text": [
        "idx: 1685\tloss: 4.1046614646912\ttrain score: 12.366666666667\tlabel: 53\tprediction: [1]53 [2]88 [3]1 [4]72 [5]35\t\n"
       ]
      },
      {
       "metadata": {},
       "output_type": "pyout",
       "prompt_number": 58,
       "text": [
        "idx: 1690\tloss: 4.1009273529053\ttrain score: 12.815\tlabel: 50\tprediction: [1]50 [2]33 [3]20 [4]22 [5]24\t\n"
       ]
      },
      {
       "metadata": {},
       "output_type": "pyout",
       "prompt_number": 58,
       "text": [
        "idx: 1695\tloss: 4.0949125289917\ttrain score: 11.326666666667\tlabel: 21\tprediction: [1]24 [2]43 [3]60 [4]52 [5]49\t\n"
       ]
      },
      {
       "metadata": {},
       "output_type": "pyout",
       "prompt_number": 58,
       "text": [
        "idx: 1700\tloss: 4.0796675682068\ttrain score: 13.003333333333\tlabel: 89\tprediction: [1]8 [2]89 [3]35 [4]55 [5]48\t\n"
       ]
      },
      {
       "metadata": {},
       "output_type": "pyout",
       "prompt_number": 58,
       "text": [
        "idx: 1705\tloss: 4.0894713401794\ttrain score: 12.02\tlabel: 56\tprediction: [1]38 [2]71 [3]56 [4]20 [5]84\t\n"
       ]
      },
      {
       "metadata": {},
       "output_type": "pyout",
       "prompt_number": 58,
       "text": [
        "idx: 1710\tloss: 4.0767412185669\ttrain score: 12.798333333333\tlabel: 36\tprediction: [1]40 [2]41 [3]33 [4]34 [5]78\t\n"
       ]
      },
      {
       "metadata": {},
       "output_type": "pyout",
       "prompt_number": 58,
       "text": [
        "idx: 1715\tloss: 4.0838122367859\ttrain score: 13.825\tlabel: 12\tprediction: [1]39 [2]47 [3]83 [4]82 [5]79\t\n"
       ]
      },
      {
       "metadata": {},
       "output_type": "pyout",
       "prompt_number": 58,
       "text": [
        "idx: 1720\tloss: 4.091166973114\ttrain score: 11.88\tlabel: 1\tprediction: [1]53 [2]88 [3]1 [4]72 [5]35\t\n"
       ]
      },
      {
       "metadata": {},
       "output_type": "pyout",
       "prompt_number": 58,
       "text": [
        "idx: 1725\tloss: 4.0631976127625\ttrain score: 11.936666666667\tlabel: 75\tprediction: [1]75 [2]71 [3]67 [4]68 [5]69\t\n"
       ]
      },
      {
       "metadata": {},
       "output_type": "pyout",
       "prompt_number": 58,
       "text": [
        "idx: 1730\tloss: 4.0659399032593\ttrain score: 13.791666666667\tlabel: 1\tprediction: [1]29 [2]1 [3]90 [4]24 [5]52\t\n"
       ]
      },
      {
       "metadata": {},
       "output_type": "pyout",
       "prompt_number": 58,
       "text": [
        "idx: 1735\tloss: 4.0703377723694\ttrain score: 11.478333333333\tlabel: 49\tprediction: [1]33 [2]48 [3]94 [4]92 [5]24\t\n"
       ]
      },
      {
       "metadata": {},
       "output_type": "pyout",
       "prompt_number": 58,
       "text": [
        "idx: 1740\tloss: 4.0979762077332\t"
       ]
      },
      {
       "metadata": {},
       "output_type": "pyout",
       "prompt_number": 58,
       "text": [
        "train score: 12.645\tlabel: 100\tprediction: [1]10 [2]65 [3]38 [4]100 [5]26\t\n"
       ]
      },
      {
       "metadata": {},
       "output_type": "pyout",
       "prompt_number": 58,
       "text": [
        "idx: 1745\tloss: 4.0572276115417\ttrain score: 12.435\tlabel: 30\tprediction: [1]63 [2]62 [3]83 [4]16 [5]100\t\n"
       ]
      },
      {
       "metadata": {},
       "output_type": "pyout",
       "prompt_number": 58,
       "text": [
        "idx: 1750\tloss: 4.0670485496521\ttrain score: 14.515\tlabel: 33\tprediction: [1]91 [2]33 [3]17 [4]48 [5]92\t\n"
       ]
      },
      {
       "metadata": {},
       "output_type": "pyout",
       "prompt_number": 58,
       "text": [
        "idx: 1755\tloss: 4.1184039115906\ttrain score: 12.18\tlabel: 65\tprediction: [1]100 [2]30 [3]68 [4]47 [5]86\t\n"
       ]
      },
      {
       "metadata": {},
       "output_type": "pyout",
       "prompt_number": 58,
       "text": [
        "idx: 1760\tloss: 4.0742769241333\ttrain score: 11.631666666667\tlabel: 18\tprediction: [1]91 [2]27 [3]45 [4]64 [5]35\t\n"
       ]
      },
      {
       "metadata": {},
       "output_type": "pyout",
       "prompt_number": 58,
       "text": [
        "idx: 1765\tloss: 4.0677771568298\ttrain score: 14.126666666667\tlabel: 27\tprediction: [1]74 [2]15 [3]29 [4]33 [5]35\t\n"
       ]
      },
      {
       "metadata": {},
       "output_type": "pyout",
       "prompt_number": 58,
       "text": [
        "idx: 1770\tloss: 4.0980844497681\ttrain score: 11.028333333333\tlabel: 14\tprediction: [1]50 [2]70 [3]22 [4]24 [5]26\t\n"
       ]
      },
      {
       "metadata": {},
       "output_type": "pyout",
       "prompt_number": 58,
       "text": [
        "idx: 1775\tloss: 4.0772309303284\ttrain score: 12.453333333333\tlabel: 81\tprediction: [1]81 [2]47 [3]93 [4]64 [5]91\t\n"
       ]
      },
      {
       "metadata": {},
       "output_type": "pyout",
       "prompt_number": 58,
       "text": [
        "idx: 1780\tloss: 4.0915513038635\ttrain score: 12.07\tlabel: 60\tprediction: [1]51 [2]36 [3]24 [4]29 [5]52\t\n"
       ]
      },
      {
       "metadata": {},
       "output_type": "pyout",
       "prompt_number": 58,
       "text": [
        "idx: 1785\tloss: 4.096070766449\ttrain score: 11.8\tlabel: 87\tprediction: [1]26 [2]44 [3]18 [4]23 [5]87\t\n"
       ]
      },
      {
       "metadata": {},
       "output_type": "pyout",
       "prompt_number": 58,
       "text": [
        "idx: 1790\tloss: 4.0800395011902\ttrain score: 11.575\tlabel: 49\tprediction: [1]48 [2]43 [3]19 [4]92 [5]51\t\n"
       ]
      },
      {
       "metadata": {},
       "output_type": "pyout",
       "prompt_number": 58,
       "text": [
        "idx: 1795\tloss: 4.0927639007568\ttrain score: 12.395\tlabel: 75\t"
       ]
      },
      {
       "metadata": {},
       "output_type": "pyout",
       "prompt_number": 58,
       "text": [
        "prediction: [1]75 [2]71 [3]67 [4]68 [5]69\t\n"
       ]
      },
      {
       "metadata": {},
       "output_type": "pyout",
       "prompt_number": 58,
       "text": [
        "idx: 1800\tloss: 4.0690951347351\ttrain score: 11.911666666667\tlabel: 86\tprediction: [1]47 [2]68 [3]82 [4]31 [5]79\t\n"
       ]
      },
      {
       "metadata": {},
       "output_type": "pyout",
       "prompt_number": 58,
       "text": [
        "idx: 1805\tloss: 4.081326007843\ttrain score: 12.965\tlabel: 89\tprediction: [1]89 [2]52 [3]2 [4]46 [5]72\t\n"
       ]
      },
      {
       "metadata": {},
       "output_type": "pyout",
       "prompt_number": 58,
       "text": [
        "idx: 1810\tloss: 4.0898599624634\ttrain score: 12.393333333333\tlabel: 100\tprediction: [1]47 [2]86 [3]31 [4]83 [5]82\t\n"
       ]
      },
      {
       "metadata": {},
       "output_type": "pyout",
       "prompt_number": 58,
       "text": [
        "idx: 1815\tloss: 4.0870018005371\ttrain score: 13.023333333333\tlabel: 7\tprediction: [1]70 [2]73 [3]38 [4]42 [5]51\t\n"
       ]
      },
      {
       "metadata": {},
       "output_type": "pyout",
       "prompt_number": 58,
       "text": [
        "idx: 1820\tloss: 4.0846910476685\ttrain score: 12.2\tlabel: 11\tprediction: [1]100 [2]11 [3]32 [4]20 [5]40\t\n"
       ]
      },
      {
       "metadata": {},
       "output_type": "pyout",
       "prompt_number": 58,
       "text": [
        "idx: 1825\tloss: 4.0908722877502\ttrain score: 12.855\tlabel: 21\tprediction: [1]48 [2]33 [3]52 [4]24 [5]51\t\n"
       ]
      },
      {
       "metadata": {},
       "output_type": "pyout",
       "prompt_number": 58,
       "text": [
        "idx: 1830\tloss: 4.0742077827454\ttrain score: 13.046666666667\tlabel: 69\tprediction: [1]56 [2]10 [3]65 [4]74 [5]60\t\n"
       ]
      },
      {
       "metadata": {},
       "output_type": "pyout",
       "prompt_number": 58,
       "text": [
        "idx: 1835\tloss: 4.0782918930054\ttrain score: 12.888333333333\tlabel: 76\tprediction: [1]71 [2]70 [3]22 [4]84 [5]73\t\n"
       ]
      },
      {
       "metadata": {},
       "output_type": "pyout",
       "prompt_number": 58,
       "text": [
        "idx: 1840\tloss: 4.0941009521484\ttrain score: 13.248333333333\tlabel: 20\tprediction: [1]49 [2]48 [3]56 [4]52 [5]51\t\n"
       ]
      },
      {
       "metadata": {},
       "output_type": "pyout",
       "prompt_number": 58,
       "text": [
        "idx: 1845\tloss: 4.0682182312012\ttrain score: 13.18\tlabel: 55\tprediction: [1]11 [2]78 [3]18 [4]55 [5]38\t\n"
       ]
      },
      {
       "metadata": {},
       "output_type": "pyout",
       "prompt_number": 58,
       "text": [
        "idx: 1850\tloss: 4.1032333374023\ttrain score: 12.211666666667\tlabel: 28\tprediction: [1]28 [2]91 [3]29 [4]78 [5]11\t\n"
       ]
      },
      {
       "metadata": {},
       "output_type": "pyout",
       "prompt_number": 58,
       "text": [
        "idx: 1855\tloss: 4.1003274917603\ttrain score: 10.698333333333\tlabel: 50\tprediction: [1]22 [2]24 [3]17 [4]19 [5]60\t\n"
       ]
      },
      {
       "metadata": {},
       "output_type": "pyout",
       "prompt_number": 58,
       "text": [
        "idx: 1860\tloss: 4.0780954360962\ttrain score: 14.681666666667\tlabel: 21\tprediction: [1]79 [2]76 [3]23 [4]83 [5]26\t\n"
       ]
      },
      {
       "metadata": {},
       "output_type": "pyout",
       "prompt_number": 58,
       "text": [
        "idx: 1865\tloss: 4.1030139923096\ttrain score: 13.163333333333\tlabel: 90\tprediction: [1]34 [2]60 [3]91 [4]78 [5]77\t\n"
       ]
      },
      {
       "metadata": {},
       "output_type": "pyout",
       "prompt_number": 58,
       "text": [
        "idx: 1870\tloss: 4.0689849853516\ttrain score: 14.846666666667\tlabel: 53\tprediction: [1]81 [2]45 [3]53 [4]67 [5]93\t\n"
       ]
      },
      {
       "metadata": {},
       "output_type": "pyout",
       "prompt_number": 58,
       "text": [
        "idx: 1875\tloss: 4.0929226875305\ttrain score: 12.515\tlabel: 90\tprediction: [1]74 [2]47 [3]87 [4]26 [5]100\t\n"
       ]
      },
      {
       "metadata": {},
       "output_type": "pyout",
       "prompt_number": 58,
       "text": [
        "idx: 1880\tloss: 4.0918955802917\ttrain score: 12.743333333333\tlabel: 54\tprediction: [1]67 [2]53 [3]66 [4]88 [5]71\t\n"
       ]
      },
      {
       "metadata": {},
       "output_type": "pyout",
       "prompt_number": 58,
       "text": [
        "idx: 1885\tloss: 4.0866432189941\ttrain score: 12.973333333333\tlabel: 8\tprediction: [1]37 [2]47 [3]23 [4]86 [5]30\t\n"
       ]
      },
      {
       "metadata": {},
       "output_type": "pyout",
       "prompt_number": 58,
       "text": [
        "idx: 1890\tloss: 4.1044840812683\ttrain score: 13.745\tlabel: 99\tprediction: [1]69 [2]70 [3]38 [4]59 [5]60\t\n"
       ]
      },
      {
       "metadata": {},
       "output_type": "pyout",
       "prompt_number": 58,
       "text": [
        "idx: 1895\tloss: 4.0834765434265\ttrain score: 13.245\t"
       ]
      },
      {
       "metadata": {},
       "output_type": "pyout",
       "prompt_number": 58,
       "text": [
        "label: 70\tprediction: [1]38 [2]11 [3]20 [4]71 [5]18\t\n"
       ]
      },
      {
       "metadata": {},
       "output_type": "pyout",
       "prompt_number": 58,
       "text": [
        "idx: 1900\tloss: 4.0787682533264\ttrain score: 12.55\tlabel: 42\tprediction: [1]71 [2]69 [3]39 [4]22 [5]84\t\n"
       ]
      },
      {
       "metadata": {},
       "output_type": "pyout",
       "prompt_number": 58,
       "text": [
        "idx: 1905\tloss: 4.1018462181091\ttrain score: 11.966666666667\tlabel: 77\tprediction: [1]73 [2]71 [3]22 [4]84 [5]24\t\n"
       ]
      },
      {
       "metadata": {},
       "output_type": "pyout",
       "prompt_number": 58,
       "text": [
        "idx: 1910\tloss: 4.1066727638245\ttrain score: 11.543333333333\tlabel: 53\tprediction: [1]53 [2]88 [3]1 [4]72 [5]35\t\n"
       ]
      },
      {
       "metadata": {},
       "output_type": "pyout",
       "prompt_number": 58,
       "text": [
        "idx: 1915\tloss: 4.0652885437012\ttrain score: 14.271666666667\tlabel: 43\tprediction: [1]34 [2]77 [3]60 [4]24 [5]92\t\n"
       ]
      },
      {
       "metadata": {},
       "output_type": "pyout",
       "prompt_number": 58,
       "text": [
        "idx: 1920\tloss: 4.0628638267517\ttrain score: 13.7\tlabel: 61\tprediction: [1]43 [2]41 [3]49 [4]48 [5]83\t\n"
       ]
      },
      {
       "metadata": {},
       "output_type": "pyout",
       "prompt_number": 58,
       "text": [
        "idx: 1925\tloss: 4.072648525238\ttrain score: 12.745\tlabel: 79\tprediction: [1]100 [2]11 [3]36 [4]39 [5]44\t\n"
       ]
      },
      {
       "metadata": {},
       "output_type": "pyout",
       "prompt_number": 58,
       "text": [
        "idx: 1930\tloss: 4.0702705383301\ttrain score: 13.17\tlabel: 44\tprediction: [1]45 [2]31 [3]86 [4]21 [5]23\t\n"
       ]
      },
      {
       "metadata": {},
       "output_type": "pyout",
       "prompt_number": 58,
       "text": [
        "idx: 1935\tloss: 4.0944290161133\ttrain score: 12.306666666667\tlabel: 30\tprediction: [1]37 [2]47 [3]86 [4]26 [5]83\t\n"
       ]
      },
      {
       "metadata": {},
       "output_type": "pyout",
       "prompt_number": 58,
       "text": [
        "idx: 1940\tloss: 4.0737028121948\ttrain score: 13.116666666667\tlabel: 100\tprediction: [1]69 [2]70 [3]22 [4]26 [5]34\t\n"
       ]
      },
      {
       "metadata": {},
       "output_type": "pyout",
       "prompt_number": 58,
       "text": [
        "idx: 1945\tloss: 4.0856728553772\ttrain score: 15.148333333333\tlabel: 57\tprediction: [1]56 [2]18 [3]42 [4]87 [5]22\t\n"
       ]
      },
      {
       "metadata": {},
       "output_type": "pyout",
       "prompt_number": 58,
       "text": [
        "idx: 1950\tloss: 4.0677666664124\ttrain score: 13.186666666667\tlabel: 53\tprediction: [1]31 [2]32 [3]86 [4]66 [5]21\t\n"
       ]
      },
      {
       "metadata": {},
       "output_type": "pyout",
       "prompt_number": 58,
       "text": [
        "idx: 1955\tloss: 4.0851602554321\ttrain score: 11.985\tlabel: 19\tprediction: [1]70 [2]73 [3]26 [4]34 [5]38\t\n"
       ]
      },
      {
       "metadata": {},
       "output_type": "pyout",
       "prompt_number": 58,
       "text": [
        "idx: 1960\tloss: 4.0858206748962\ttrain score: 12.56\tlabel: 56\tprediction: [1]65 [2]18 [3]38 [4]79 [5]76\t\n"
       ]
      },
      {
       "metadata": {},
       "output_type": "pyout",
       "prompt_number": 58,
       "text": [
        "idx: 1965\tloss: 4.0914607048035\ttrain score: 11.946666666667\tlabel: 47\tprediction: [1]45 [2]47 [3]86 [4]30 [5]83\t\n"
       ]
      },
      {
       "metadata": {},
       "output_type": "pyout",
       "prompt_number": 58,
       "text": [
        "idx: 1970\tloss: 4.0804653167725\ttrain score: 11.988333333333\tlabel: 11\tprediction: [1]72 [2]46 [3]20 [4]52 [5]89\t\n"
       ]
      },
      {
       "metadata": {},
       "output_type": "pyout",
       "prompt_number": 58,
       "text": [
        "idx: 1975\tloss: 4.0867247581482\ttrain score: 13.036666666667\tlabel: 46\tprediction: [1]72 [2]46 [3]20 [4]52 [5]89\t\n"
       ]
      },
      {
       "metadata": {},
       "output_type": "pyout",
       "prompt_number": 58,
       "text": [
        "idx: 1980\tloss: 4.1057443618774\ttrain score: 13.248333333333\tlabel: 16\tprediction: [1]43 [2]13 [3]33 [4]40 [5]41\t\n"
       ]
      },
      {
       "metadata": {},
       "output_type": "pyout",
       "prompt_number": 58,
       "text": [
        "idx: 1985\tloss: 4.0959701538086\ttrain score: 11.758333333333\tlabel: 78\tprediction: [1]40 [2]43 [3]33 [4]92 [5]29\t\n"
       ]
      },
      {
       "metadata": {},
       "output_type": "pyout",
       "prompt_number": 58,
       "text": [
        "idx: 1990\tloss: 4.1014652252197\ttrain score: 11.156666666667\tlabel: 14\tprediction: [1]24 [2]26 [3]20 [4]70 [5]22\t\n"
       ]
      },
      {
       "metadata": {},
       "output_type": "pyout",
       "prompt_number": 58,
       "text": [
        "idx: 1995\tloss: 4.1039209365845\ttrain score: 12.408333333333\tlabel: 54\tprediction: [1]68 [2]45 [3]82 [4]100 [5]79\t\n"
       ]
      },
      {
       "metadata": {},
       "output_type": "pyout",
       "prompt_number": 58,
       "text": [
        "idx: 2000\tloss: 4.0724954605103\ttrain score: 12.83\tlabel: 28\tprediction: [1]28 [2]75 [3]47 [4]70 [5]72\t\n"
       ]
      },
      {
       "metadata": {},
       "output_type": "pyout",
       "prompt_number": 58,
       "text": [
        "idx: 2005\tloss: 4.0782012939453\ttrain score: 12.035\tlabel: 99\tprediction: [1]33 [2]34 [3]22 [4]24 [5]29\t\n"
       ]
      },
      {
       "metadata": {},
       "output_type": "pyout",
       "prompt_number": 58,
       "text": [
        "idx: 2010\tloss: 4.0888338088989\ttrain score: 13.435\tlabel: 2\tprediction: [1]97 [2]35 [3]90 [4]1 [5]85\t\n"
       ]
      },
      {
       "metadata": {},
       "output_type": "pyout",
       "prompt_number": 58,
       "text": [
        "idx: 2015\tloss: 4.0656976699829\ttrain score: 12.736666666667\tlabel: 96\tprediction: [1]33 [2]34 [3]24 [4]26 [5]73\t\n"
       ]
      },
      {
       "metadata": {},
       "output_type": "pyout",
       "prompt_number": 58,
       "text": [
        "idx: 2020\tloss: 4.0825877189636\ttrain score: 13.12\tlabel: 51\tprediction: [1]51 [2]40 [3]90 [4]73 [5]33\t\n"
       ]
      },
      {
       "metadata": {},
       "output_type": "pyout",
       "prompt_number": 58,
       "text": [
        "idx: 2025\tloss: 4.1124653816223\ttrain score: 11.736666666667\tlabel: 3\tprediction: [1]33 [2]14 [3]29 [4]50 [5]32\t\n"
       ]
      },
      {
       "metadata": {},
       "output_type": "pyout",
       "prompt_number": 58,
       "text": [
        "idx: 2030\tloss: 4.0760717391968\ttrain score: 13.243333333333\tlabel: 61\tprediction: [1]48 [2]29 [3]92 [4]24 [5]51\t\n"
       ]
      },
      {
       "metadata": {},
       "output_type": "pyout",
       "prompt_number": 58,
       "text": [
        "idx: 2035\tloss: 4.080783367157\ttrain score: 12.863333333333\tlabel: 72\tprediction: [1]78 [2]24 [3]35 [4]72 [5]85\t\n"
       ]
      },
      {
       "metadata": {},
       "output_type": "pyout",
       "prompt_number": 58,
       "text": [
        "idx: 2040\tloss: 4.0747928619385\ttrain score: 13.933333333333\tlabel: 17\tprediction: [1]32 [2]48 [3]24 [4]52 [5]51\t\n"
       ]
      },
      {
       "metadata": {},
       "output_type": "pyout",
       "prompt_number": 58,
       "text": [
        "idx: 2045\tloss: 4.0985488891602\ttrain score: 13.051666666667\tlabel: 19\tprediction: [1]33 [2]34 [3]69 [4]24 [5]73\t\n"
       ]
      },
      {
       "metadata": {},
       "output_type": "pyout",
       "prompt_number": 58,
       "text": [
        "idx: 2050\tloss: 4.1072244644165\ttrain score: 11.318333333333\tlabel: 78\tprediction: [1]52 [2]90 [3]26 [4]19 [5]27\t\n"
       ]
      },
      {
       "metadata": {},
       "output_type": "pyout",
       "prompt_number": 58,
       "text": [
        "idx: 2055\tloss: 4.0892186164856\ttrain score: 12.936666666667\tlabel: 42\tprediction: [1]65 [2]18 [3]71 [4]70 [5]100\t\n"
       ]
      },
      {
       "metadata": {},
       "output_type": "pyout",
       "prompt_number": 58,
       "text": [
        "idx: 2060\tloss: 4.0997543334961\ttrain score: 10.78\tlabel: 92\tprediction: [1]70 [2]26 [3]84 [4]74 [5]73\t\n"
       ]
      },
      {
       "metadata": {},
       "output_type": "pyout",
       "prompt_number": 58,
       "text": [
        "idx: 2065\tloss: 4.0899977684021\ttrain score: 12.455\tlabel: 10\tprediction: [1]73 [2]11 [3]19 [4]56 [5]50\t\n"
       ]
      },
      {
       "metadata": {},
       "output_type": "pyout",
       "prompt_number": 58,
       "text": [
        "idx: 2070\tloss: 4.0879302024841\ttrain score: 11.045\tlabel: 67\tprediction: [1]93 [2]81 [3]53 [4]66 [5]67\t\n"
       ]
      },
      {
       "metadata": {},
       "output_type": "pyout",
       "prompt_number": 58,
       "text": [
        "idx: 2075\tloss: 4.1051182746887\ttrain score: 11.833333333333\tlabel: 58\tprediction: [1]48 [2]34 [3]26 [4]51 [5]29\t\n"
       ]
      },
      {
       "metadata": {},
       "output_type": "pyout",
       "prompt_number": 58,
       "text": [
        "idx: 2080\tloss: 4.10133934021\ttrain score: 11.653333333333\tlabel: 80\tprediction: [1]72 [2]46 [3]20 [4]52 [5]89\t\n"
       ]
      },
      {
       "metadata": {},
       "output_type": "pyout",
       "prompt_number": 58,
       "text": [
        "idx: 2085\tloss: 4.1003999710083\ttrain score: 11.726666666667\tlabel: 14\tprediction: [1]91 [2]94 [3]64 [4]41 [5]29\t\n"
       ]
      },
      {
       "metadata": {},
       "output_type": "pyout",
       "prompt_number": 58,
       "text": [
        "idx: 2090\tloss: 4.0608258247375\ttrain score: 13.018333333333\tlabel: 91\tprediction: [1]38 [2]73 [3]20 [4]21 [5]22\t\n"
       ]
      },
      {
       "metadata": {},
       "output_type": "pyout",
       "prompt_number": 58,
       "text": [
        "idx: 2095\tloss: 4.0739994049072\ttrain score: 11.503333333333\tlabel: 68\tprediction: [1]45 [2]47 [3]82 [4]79 [5]31\t\n"
       ]
      },
      {
       "metadata": {},
       "output_type": "pyout",
       "prompt_number": 58,
       "text": [
        "idx: 2100\tloss: 4.0834121704102\ttrain score: 13.996666666667\tlabel: 80\tprediction: [1]72 [2]46 [3]20 [4]52 [5]89\t\n"
       ]
      },
      {
       "metadata": {},
       "output_type": "pyout",
       "prompt_number": 58,
       "text": [
        "idx: 2105\tloss: 4.0714044570923\ttrain score: 12.885\tlabel: 50\tprediction: [1]33 [2]34 [3]22 [4]92 [5]73\t\n"
       ]
      },
      {
       "metadata": {},
       "output_type": "pyout",
       "prompt_number": 58,
       "text": [
        "idx: 2110\tloss: 4.0890941619873\ttrain score: 12.213333333333\tlabel: 20\tprediction: [1]71 [2]11 [3]56 [4]20 [5]19\t\n"
       ]
      },
      {
       "metadata": {},
       "output_type": "pyout",
       "prompt_number": 58,
       "text": [
        "idx: 2115\tloss: 4.0997123718262\ttrain score: 12.5\tlabel: 58\tprediction: [1]39 [2]76 [3]86 [4]30 [5]83\t\n"
       ]
      },
      {
       "metadata": {},
       "output_type": "pyout",
       "prompt_number": 58,
       "text": [
        "idx: 2120\tloss: 4.0796828269958\ttrain score: 13.643333333333\tlabel: 53\tprediction: [1]53 [2]90 [3]76 [4]73 [5]97\t\n"
       ]
      },
      {
       "metadata": {},
       "output_type": "pyout",
       "prompt_number": 58,
       "text": [
        "idx: 2125\tloss: 4.091052532196\ttrain score: 13.228333333333\tlabel: 99\tprediction: [1]73 [2]71 [3]22 [4]84 [5]24\t\n"
       ]
      },
      {
       "metadata": {},
       "output_type": "pyout",
       "prompt_number": 58,
       "text": [
        "idx: 2130\tloss: 4.0804438591003\ttrain score: 11.761666666667\tlabel: 32\tprediction: [1]91 [2]16 [3]74 [4]77 [5]78\t\n"
       ]
      },
      {
       "metadata": {},
       "output_type": "pyout",
       "prompt_number": 58,
       "text": [
        "idx: 2135\tloss: 4.0753717422485\ttrain score: 13.06\tlabel: 99\tprediction: [1]73 [2]70 [3]42 [4]87 [5]56\t\n"
       ]
      },
      {
       "metadata": {},
       "output_type": "pyout",
       "prompt_number": 58,
       "text": [
        "idx: 2140\tloss: 4.0751719474792\ttrain score: 12.515\tlabel: 28\tprediction: [1]44 [2]68 [3]82 [4]28 [5]79\t\n"
       ]
      },
      {
       "metadata": {},
       "output_type": "pyout",
       "prompt_number": 58,
       "text": [
        "idx: 2145\tloss: 4.0818529129028\ttrain score: 13.963333333333\tlabel: 5\tprediction: [1]42 [2]41 [3]49 [4]48 [5]43\t\n"
       ]
      },
      {
       "metadata": {},
       "output_type": "pyout",
       "prompt_number": 58,
       "text": [
        "idx: 2150\tloss: 4.0767731666565\ttrain score: 12.41\tlabel: 52\tprediction: [1]34 [2]92 [3]77 [4]24 [5]41\t\n"
       ]
      },
      {
       "metadata": {},
       "output_type": "pyout",
       "prompt_number": 58,
       "text": [
        "idx: 2155\tloss: 4.0734133720398\ttrain score: 14.078333333333\tlabel: 14\tprediction: [1]19 [2]92 [3]33 [4]17 [5]77\t\n"
       ]
      },
      {
       "metadata": {},
       "output_type": "pyout",
       "prompt_number": 58,
       "text": [
        "idx: 2160\tloss: 4.0802507400513\ttrain score: 14.286666666667\tlabel: 59\tprediction: [1]44 [2]79 [3]23 [4]30 [5]31\t\n"
       ]
      },
      {
       "metadata": {},
       "output_type": "pyout",
       "prompt_number": 58,
       "text": [
        "idx: 2165\tloss: 4.0800943374634\ttrain score: 13.926666666667\tlabel: 73\tprediction: [1]50 [2]70 [3]22 [4]24 [5]26\t\n"
       ]
      },
      {
       "metadata": {},
       "output_type": "pyout",
       "prompt_number": 58,
       "text": [
        "idx: 2170\tloss: 4.0821232795715\ttrain score: 13.285\tlabel: 83\tprediction: [1]39 [2]100 [3]87 [4]86 [5]23\t\n"
       ]
      },
      {
       "metadata": {},
       "output_type": "pyout",
       "prompt_number": 58,
       "text": [
        "idx: 2175\tloss: 4.0780673027039\ttrain score: 13.193333333333\tlabel: 69\tprediction: [1]76 [2]74 [3]18 [4]65 [5]22\t\n"
       ]
      },
      {
       "metadata": {},
       "output_type": "pyout",
       "prompt_number": 58,
       "text": [
        "idx: 2180\tloss: 4.0772695541382\ttrain score: 12.675\tlabel: 67\tprediction: [1]67 [2]53 [3]66 [4]88 [5]71\t\n"
       ]
      },
      {
       "metadata": {},
       "output_type": "pyout",
       "prompt_number": 58,
       "text": [
        "idx: 2185\tloss: 4.1022429466248\ttrain score: 13.183333333333\tlabel: 90\tprediction: [1]82 [2]76 [3]26 [4]86 [5]100\t\n"
       ]
      },
      {
       "metadata": {},
       "output_type": "pyout",
       "prompt_number": 58,
       "text": [
        "idx: 2190\tloss: 4.0964469909668\ttrain score: 12.496666666667\tlabel: 64\tprediction: [1]83 [2]81 [3]87 [4]86 [5]21\t\n"
       ]
      },
      {
       "metadata": {},
       "output_type": "pyout",
       "prompt_number": 58,
       "text": [
        "idx: 2195\tloss: 4.1112942695618\ttrain score: 12.611666666667\tlabel: 7\tprediction: [1]29 [2]73 [3]91 [4]90 [5]51\t\n"
       ]
      },
      {
       "metadata": {},
       "output_type": "pyout",
       "prompt_number": 58,
       "text": [
        "idx: 2200\tloss: 4.0724625587463\ttrain score: 11.756666666667\tlabel: 71\tprediction: [1]57 [2]42 [3]85 [4]84 [5]1\t\n"
       ]
      },
      {
       "metadata": {},
       "output_type": "pyout",
       "prompt_number": 58,
       "text": [
        "idx: 2205\tloss: 4.0760021209717\ttrain score: 13\tlabel: 52\tprediction: [1]48 [2]76 [3]24 [4]52 [5]51\t\n"
       ]
      },
      {
       "metadata": {},
       "output_type": "pyout",
       "prompt_number": 58,
       "text": [
        "idx: 2210\tloss: 4.1032643318176\ttrain score: 13.456666666667\tlabel: 84\tprediction: [1]26 [2]44 [3]18 [4]23 [5]87\t\n"
       ]
      },
      {
       "metadata": {},
       "output_type": "pyout",
       "prompt_number": 58,
       "text": [
        "idx: 2215\tloss: 4.070387840271\ttrain score: 13.491666666667\tlabel: 67\tprediction: [1]91 [2]88 [3]32 [4]67 [5]66\t\n"
       ]
      },
      {
       "metadata": {},
       "output_type": "pyout",
       "prompt_number": 58,
       "text": [
        "idx: 2220\tloss: 4.0929832458496\ttrain score: 13.806666666667\tlabel: 60\tprediction: [1]47 [2]68 [3]83 [4]82 [5]100\t\n"
       ]
      },
      {
       "metadata": {},
       "output_type": "pyout",
       "prompt_number": 58,
       "text": [
        "idx: 2225\tloss: 4.0665097236633\ttrain score: 13.446666666667\tlabel: 57\tprediction: [1]38 [2]71 [3]56 [4]20 [5]84\t\n"
       ]
      },
      {
       "metadata": {},
       "output_type": "pyout",
       "prompt_number": 58,
       "text": [
        "idx: 2230\tloss: 4.075053691864\ttrain score: 14.228333333333\tlabel: 85\tprediction: [1]78 [2]24 [3]35 [4]72 [5]85\t\n"
       ]
      },
      {
       "metadata": {},
       "output_type": "pyout",
       "prompt_number": 58,
       "text": [
        "idx: 2235\tloss: 4.0836262702942\ttrain score: 11.868333333333\tlabel: 16\tprediction: [1]54 [2]26 [3]63 [4]21 [5]62\t\n"
       ]
      },
      {
       "metadata": {},
       "output_type": "pyout",
       "prompt_number": 58,
       "text": [
        "idx: 2240\tloss: 4.0565824508667\ttrain score: 13.275\tlabel: 40\tprediction: [1]73 [2]34 [3]24 [4]52 [5]29\t\n"
       ]
      },
      {
       "metadata": {},
       "output_type": "pyout",
       "prompt_number": 58,
       "text": [
        "idx: 2245\tloss: 4.0916051864624\ttrain score: 12.648333333333\tlabel: 6\tprediction: [1]78 [2]11 [3]92 [4]19 [5]17\t\n"
       ]
      },
      {
       "metadata": {},
       "output_type": "pyout",
       "prompt_number": 58,
       "text": [
        "idx: 2250\tloss: 4.073944568634\ttrain score: 13.29\tlabel: 62\tprediction: [1]79 [2]36 [3]83 [4]26 [5]100\t\n"
       ]
      },
      {
       "metadata": {},
       "output_type": "pyout",
       "prompt_number": 58,
       "text": [
        "idx: 2255\tloss: 4.0862774848938\ttrain score: 12.323333333333\tlabel: 50\tprediction: [1]72 [2]46 [3]20 [4]52 [5]89\t\n"
       ]
      },
      {
       "metadata": {},
       "output_type": "pyout",
       "prompt_number": 58,
       "text": [
        "idx: 2260\tloss: 4.0612535476685\ttrain score: 14.408333333333\tlabel: 22\tprediction: [1]24 [2]29 [3]90 [4]51 [5]22\t\n"
       ]
      },
      {
       "metadata": {},
       "output_type": "pyout",
       "prompt_number": 58,
       "text": [
        "idx: 2265\tloss: 4.0808439254761\ttrain score: 13.853333333333\tlabel: 32\tprediction: [1]83 [2]66 [3]86 [4]64 [5]21\t\n"
       ]
      },
      {
       "metadata": {},
       "output_type": "pyout",
       "prompt_number": 58,
       "text": [
        "idx: 2270\tloss: 4.0716443061829\ttrain score: 12.961666666667\tlabel: 19\tprediction: [1]42 [2]41 [3]49 [4]48 [5]43\t\n"
       ]
      },
      {
       "metadata": {},
       "output_type": "pyout",
       "prompt_number": 58,
       "text": [
        "idx: 2275\tloss: 4.0552158355713\ttrain score: 12.51\tlabel: 17\tprediction: [1]49 [2]48 [3]60 [4]19 [5]52\t\n"
       ]
      },
      {
       "metadata": {},
       "output_type": "pyout",
       "prompt_number": 58,
       "text": [
        "idx: 2280\tloss: 4.0662031173706\ttrain score: 13.215\tlabel: 49\tprediction: [1]95 [2]43 [3]51 [4]78 [5]49\t\n"
       ]
      },
      {
       "metadata": {},
       "output_type": "pyout",
       "prompt_number": 58,
       "text": [
        "idx: 2285\tloss: 4.0623240470886\ttrain score: 13.106666666667\tlabel: 18\tprediction: [1]85 [2]74 [3]48 [4]49 [5]22\t\n"
       ]
      },
      {
       "metadata": {},
       "output_type": "pyout",
       "prompt_number": 58,
       "text": [
        "idx: 2290\tloss: 4.0909037590027\ttrain score: 13.06\tlabel: 32\tprediction: [1]32 [2]35 [3]85 [4]1 [5]74\t\n"
       ]
      },
      {
       "metadata": {},
       "output_type": "pyout",
       "prompt_number": 58,
       "text": [
        "idx: 2295\tloss: 4.0864386558533\ttrain score: 12.795\tlabel: 87\tprediction: [1]37 [2]45 [3]21 [4]83 [5]82\t\n"
       ]
      },
      {
       "metadata": {},
       "output_type": "pyout",
       "prompt_number": 58,
       "text": [
        "idx: 2300\tloss: 4.0699300765991\ttrain score: 11.736666666667\tlabel: 59\tprediction: [1]67 [2]66 [3]83 [4]79 [5]31\t\n"
       ]
      },
      {
       "metadata": {},
       "output_type": "pyout",
       "prompt_number": 58,
       "text": [
        "idx: 2305\tloss: 4.0810809135437\ttrain score: 14.425\tlabel: 16\tprediction: [1]50 [2]73 [3]51 [4]22 [5]49\t\n"
       ]
      },
      {
       "metadata": {},
       "output_type": "pyout",
       "prompt_number": 58,
       "text": [
        "idx: 2310\tloss: 4.1048002243042\ttrain score: 11.733333333333\tlabel: 48\tprediction: [1]34 [2]51 [3]22 [4]24 [5]70\t\n"
       ]
      },
      {
       "metadata": {},
       "output_type": "pyout",
       "prompt_number": 58,
       "text": [
        "idx: 2315\tloss: 4.0836744308472\ttrain score: 12.54\tlabel: 41\tprediction: [1]49 [2]48 [3]17 [4]95 [5]77\t\n"
       ]
      },
      {
       "metadata": {},
       "output_type": "pyout",
       "prompt_number": 58,
       "text": [
        "idx: 2320\tloss: 4.0963201522827\ttrain score: 12.268333333333\tlabel: 30\tprediction: [1]82 [2]100 [3]86 [4]23 [5]83\t\n"
       ]
      },
      {
       "metadata": {},
       "output_type": "pyout",
       "prompt_number": 58,
       "text": [
        "idx: 2325\tloss: 4.0727171897888\ttrain score: 13.906666666667\tlabel: 47\tprediction: [1]38 [2]39 [3]86 [4]83 [5]30\t\n"
       ]
      },
      {
       "metadata": {},
       "output_type": "pyout",
       "prompt_number": 58,
       "text": [
        "idx: 2330\tloss: 4.0769157409668\ttrain score: 11.601666666667\tlabel: 97\tprediction: [1]93 [2]27 [3]42 [4]35 [5]1\t\n"
       ]
      },
      {
       "metadata": {},
       "output_type": "pyout",
       "prompt_number": 58,
       "text": [
        "idx: 2335\tloss: 4.0720863342285\ttrain score: 12.393333333333\tlabel: 26\tprediction: [1]77 [2]41 [3]33 [4]92 [5]91\t\n"
       ]
      },
      {
       "metadata": {},
       "output_type": "pyout",
       "prompt_number": 58,
       "text": [
        "idx: 2340\tloss: 4.0656223297119\ttrain score: 12.513333333333\tlabel: 55\tprediction: [1]95 [2]55 [3]78 [4]90 [5]42\t\n"
       ]
      },
      {
       "metadata": {},
       "output_type": "pyout",
       "prompt_number": 58,
       "text": [
        "idx: 2345\tloss: 4.0701794624329\ttrain score: 14.135\tlabel: 39\tprediction: [1]45 [2]13 [3]82 [4]83 [5]21\t\n"
       ]
      },
      {
       "metadata": {},
       "output_type": "pyout",
       "prompt_number": 58,
       "text": [
        "idx: 2350\tloss: 4.0637979507446\ttrain score: 12.98\tlabel: 98\tprediction: [1]38 [2]43 [3]90 [4]26 [5]86\t\n"
       ]
      },
      {
       "metadata": {},
       "output_type": "pyout",
       "prompt_number": 58,
       "text": [
        "idx: 2355\tloss: 4.0844421386719\ttrain score: 12.21\tlabel: 10\tprediction: [1]13 [2]11 [3]37 [4]38 [5]58\t\n"
       ]
      },
      {
       "metadata": {},
       "output_type": "pyout",
       "prompt_number": 58,
       "text": [
        "idx: 2360\tloss: 4.0851964950562\ttrain score: 12.62\tlabel: 85\tprediction: [1]90 [2]29 [3]33 [4]94 [5]78\t\n"
       ]
      },
      {
       "metadata": {},
       "output_type": "pyout",
       "prompt_number": 58,
       "text": [
        "idx: 2365\tloss: 4.061267375946\ttrain score: 13.393333333333\tlabel: 27\tprediction: [1]90 [2]27 [3]45 [4]74 [5]1\t\n"
       ]
      },
      {
       "metadata": {},
       "output_type": "pyout",
       "prompt_number": 58,
       "text": [
        "idx: 2370\tloss: 4.0876517295837\ttrain score: 12.68\tlabel: 4\tprediction: [1]70 [2]73 [3]38 [4]42 [5]51\t\n"
       ]
      },
      {
       "metadata": {},
       "output_type": "pyout",
       "prompt_number": 58,
       "text": [
        "idx: 2375\tloss: 4.0892043113708\ttrain score: 12.566666666667\tlabel: 74\tprediction: [1]93 [2]18 [3]34 [4]1 [5]42\t\n"
       ]
      },
      {
       "metadata": {},
       "output_type": "pyout",
       "prompt_number": 58,
       "text": [
        "idx: 2380\tloss: 4.0866694450378\ttrain score: 12.655\tlabel: 45\tprediction: [1]39 [2]44 [3]83 [4]82 [5]30\t\n"
       ]
      },
      {
       "metadata": {},
       "output_type": "pyout",
       "prompt_number": 58,
       "text": [
        "idx: 2385\tloss: 4.0767550468445\ttrain score: 12.455\tlabel: 81\tprediction: [1]91 [2]27 [3]1 [4]97 [5]35\t\n"
       ]
      },
      {
       "metadata": {},
       "output_type": "pyout",
       "prompt_number": 58,
       "text": [
        "idx: 2390\tloss: 4.0834584236145\ttrain score: 12.988333333333\tlabel: 61\tprediction: [1]37 [2]45 [3]83 [4]30 [5]82\t\n"
       ]
      },
      {
       "metadata": {},
       "output_type": "pyout",
       "prompt_number": 58,
       "text": [
        "idx: 2395\tloss: 4.0868859291077\ttrain score: 12.123333333333\tlabel: 100\tprediction: [1]49 [2]48 [3]64 [4]60 [5]52\t\n"
       ]
      },
      {
       "metadata": {},
       "output_type": "pyout",
       "prompt_number": 58,
       "text": [
        "idx: 2400\tloss: 4.0855016708374\ttrain score: 12.878333333333\tlabel: 73\tprediction: [1]15 [2]34 [3]36 [4]41 [5]42\t\n"
       ]
      },
      {
       "metadata": {},
       "output_type": "pyout",
       "prompt_number": 58,
       "text": [
        "idx: 2405\tloss: 4.1028437614441\ttrain score: 12.208333333333\tlabel: 42\tprediction: [1]71 [2]84 [3]32 [4]39 [5]42\t\n"
       ]
      },
      {
       "metadata": {},
       "output_type": "pyout",
       "prompt_number": 58,
       "text": [
        "idx: 2410\tloss: 4.1059904098511\ttrain score: 12.263333333333\tlabel: 18\tprediction: [1]73 [2]71 [3]22 [4]84 [5]24\t\n"
       ]
      },
      {
       "metadata": {},
       "output_type": "pyout",
       "prompt_number": 58,
       "text": [
        "idx: 2415\tloss: 4.0695505142212\ttrain score: 12.21\tlabel: 58\tprediction: [1]45 [2]13 [3]39 [4]82 [5]83\t\n"
       ]
      },
      {
       "metadata": {},
       "output_type": "pyout",
       "prompt_number": 58,
       "text": [
        "idx: 2420\tloss: 4.0635738372803\ttrain score: 13.248333333333\tlabel: 35\tprediction: [1]37 [2]39 [3]82 [4]100 [5]30\t\n"
       ]
      },
      {
       "metadata": {},
       "output_type": "pyout",
       "prompt_number": 58,
       "text": [
        "idx: 2425\tloss: 4.0883221626282\ttrain score: 12.058333333333\tlabel: 62\tprediction: [1]45 [2]13 [3]37 [4]82 [5]83\t\n"
       ]
      },
      {
       "metadata": {},
       "output_type": "pyout",
       "prompt_number": 58,
       "text": [
        "idx: 2430\tloss: 4.0932574272156\ttrain score: 12.548333333333\tlabel: 1\tprediction: [1]32 [2]52 [3]90 [4]19 [5]26\t\n"
       ]
      },
      {
       "metadata": {},
       "output_type": "pyout",
       "prompt_number": 58,
       "text": [
        "idx: 2435\tloss: 4.0933895111084\ttrain score: 13.851666666667\tlabel: 32\tprediction: [1]29 [2]34 [3]90 [4]24 [5]52\t\n"
       ]
      },
      {
       "metadata": {},
       "output_type": "pyout",
       "prompt_number": 58,
       "text": [
        "idx: 2440\tloss: 4.0680723190308\ttrain score: 13.15\tlabel: 32\tprediction: [1]78 [2]24 [3]35 [4]72 [5]85\t\n"
       ]
      },
      {
       "metadata": {},
       "output_type": "pyout",
       "prompt_number": 58,
       "text": [
        "idx: 2445\tloss: 4.1027207374573\ttrain score: 12.271666666667\tlabel: 47\tprediction: [1]21 [2]83 [3]54 [4]86 [5]68\t\n"
       ]
      },
      {
       "metadata": {},
       "output_type": "pyout",
       "prompt_number": 58,
       "text": [
        "idx: 2450\tloss: 4.0695896148682\ttrain score: 12.381666666667\tlabel: 87\tprediction: [1]53 [2]64 [3]67 [4]23 [5]66\t\n"
       ]
      },
      {
       "metadata": {},
       "output_type": "pyout",
       "prompt_number": 58,
       "text": [
        "idx: 2455\tloss: 4.0813188552856\ttrain score: 12.683333333333\tlabel: 13\tprediction: [1]47 [2]65 [3]21 [4]86 [5]83\t\n"
       ]
      },
      {
       "metadata": {},
       "output_type": "pyout",
       "prompt_number": 58,
       "text": [
        "idx: 2460\tloss: 4.0860819816589\ttrain score: 12.346666666667\tlabel: 72\tprediction: [1]78 [2]16 [3]91 [4]74 [5]11\t\n"
       ]
      },
      {
       "metadata": {},
       "output_type": "pyout",
       "prompt_number": 58,
       "text": [
        "idx: 2465\tloss: 4.0917763710022\ttrain score: 12.593333333333\tlabel: 65\tprediction: [1]39 [2]45 [3]83 [4]82 [5]79\t\n"
       ]
      },
      {
       "metadata": {},
       "output_type": "pyout",
       "prompt_number": 58,
       "text": [
        "idx: 2470\tloss: 4.1000394821167\ttrain score: 13.135\tlabel: 15\tprediction: [1]41 [2]92 [3]16 [4]17 [5]43\t\n"
       ]
      },
      {
       "metadata": {},
       "output_type": "pyout",
       "prompt_number": 58,
       "text": [
        "idx: 2475\tloss: 4.077929019928\ttrain score: 13.163333333333\tlabel: 72\tprediction: [1]53 [2]88 [3]1 [4]72 [5]35\t\n"
       ]
      },
      {
       "metadata": {},
       "output_type": "pyout",
       "prompt_number": 58,
       "text": [
        "idx: 2480\tloss: 4.1008024215698\ttrain score: 13.046666666667\tlabel: 57\tprediction: [1]73 [2]70 [3]42 [4]87 [5]56\t\n"
       ]
      },
      {
       "metadata": {},
       "output_type": "pyout",
       "prompt_number": 58,
       "text": [
        "idx: 2485\tloss: 4.0548501014709\ttrain score: 12.1\tlabel: 9\tprediction: [1]91 [2]44 [3]94 [4]21 [5]83\t\n"
       ]
      },
      {
       "metadata": {},
       "output_type": "pyout",
       "prompt_number": 58,
       "text": [
        "idx: 2490\tloss: 4.0878338813782\ttrain score: 13.216666666667\tlabel: 20\tprediction: [1]34 [2]73 [3]20 [4]21 [5]22\t\n"
       ]
      },
      {
       "metadata": {},
       "output_type": "pyout",
       "prompt_number": 58,
       "text": [
        "idx: 2495\tloss: 4.0751953125\ttrain score: 13.626666666667\tlabel: 45\tprediction: [1]65 [2]83 [3]39 [4]86 [5]87\t\n"
       ]
      },
      {
       "metadata": {},
       "output_type": "pyout",
       "prompt_number": 58,
       "text": [
        "idx: 2500\t"
       ]
      },
      {
       "metadata": {},
       "output_type": "pyout",
       "prompt_number": 58,
       "text": [
        "loss: 4.0803875923157\ttrain score: 11.311666666667\tlabel: 28\tprediction: [1]28 [2]75 [3]66 [4]64 [5]74\t\n"
       ]
      },
      {
       "metadata": {},
       "output_type": "pyout",
       "prompt_number": 58,
       "text": [
        "idx: 2505\tloss: 4.062032699585\ttrain score: 13.803333333333\tlabel: 71\tprediction: [1]73 [2]71 [3]22 [4]84 [5]24\t\n"
       ]
      },
      {
       "metadata": {},
       "output_type": "pyout",
       "prompt_number": 58,
       "text": [
        "idx: 2510\tloss: 4.0973496437073\ttrain score: 11.528333333333\tlabel: 88\tprediction: [1]45 [2]69 [3]82 [4]30 [5]79\t\n"
       ]
      },
      {
       "metadata": {},
       "output_type": "pyout",
       "prompt_number": 58,
       "text": [
        "idx: 2515\tloss: 4.086236000061\ttrain score: 13.435\tlabel: 28\tprediction: [1]28 [2]91 [3]29 [4]81 [5]11\t\n"
       ]
      },
      {
       "metadata": {},
       "output_type": "pyout",
       "prompt_number": 58,
       "text": [
        "idx: 2520\tloss: 4.0790019035339\ttrain score: 11.825\tlabel: 2\tprediction: [1]72 [2]46 [3]20 [4]52 [5]89\t\n"
       ]
      },
      {
       "metadata": {},
       "output_type": "pyout",
       "prompt_number": 58,
       "text": [
        "idx: 2525\tloss: 4.0677790641785\ttrain score: 12.341666666667\tlabel: 53\tprediction: [1]67 [2]53 [3]66 [4]88 [5]71\t\n"
       ]
      },
      {
       "metadata": {},
       "output_type": "pyout",
       "prompt_number": 58,
       "text": [
        "idx: 2530\tloss: 4.0852255821228\ttrain score: 14.466666666667\tlabel: 71\tprediction: [1]69 [2]70 [3]22 [4]18 [5]42\t\n"
       ]
      },
      {
       "metadata": {},
       "output_type": "pyout",
       "prompt_number": 58,
       "text": [
        "idx: 2535\tloss: 4.0592346191406\ttrain score: 12.99\tlabel: 4\tprediction: [1]43 [2]91 [3]95 [4]33 [5]36\t\n"
       ]
      },
      {
       "metadata": {},
       "output_type": "pyout",
       "prompt_number": 58,
       "text": [
        "idx: 2540\tloss: 4.1065402030945\ttrain score: 11.818333333333\tlabel: 31\tprediction: [1]37 [2]39 [3]87 [4]86 [5]83\t\n"
       ]
      },
      {
       "metadata": {},
       "output_type": "pyout",
       "prompt_number": 58,
       "text": [
        "idx: 2545\tloss: 4.0900974273682\ttrain score: 12.228333333333\tlabel: 70\tprediction: [1]38 [2]71 [3]56 [4]20 [5]84\t\n"
       ]
      },
      {
       "metadata": {},
       "output_type": "pyout",
       "prompt_number": 58,
       "text": [
        "idx: 2550\tloss: 4.0617685317993\ttrain score: 11.596666666667\tlabel: 12\tprediction: [1]100 [2]74 [3]18 [4]23 [5]87\t\n"
       ]
      },
      {
       "metadata": {},
       "output_type": "pyout",
       "prompt_number": 58,
       "text": [
        "idx: 2555\tloss: 4.0865702629089\ttrain score: 13.961666666667\tlabel: 7\tprediction: [1]74 [2]43 [3]100 [4]33 [5]37\t\n"
       ]
      },
      {
       "metadata": {},
       "output_type": "pyout",
       "prompt_number": 58,
       "text": [
        "idx: 2560\tloss: 4.0819463729858\ttrain score: 14.068333333333\tlabel: 56\tprediction: [1]73 [2]70 [3]42 [4]87 [5]56\t\n"
       ]
      },
      {
       "metadata": {},
       "output_type": "pyout",
       "prompt_number": 58,
       "text": [
        "idx: 2565\tloss: 4.0929961204529\ttrain score: 13.88\tlabel: 9\tprediction: [1]49 [2]48 [3]56 [4]52 [5]51\t\n"
       ]
      },
      {
       "metadata": {},
       "output_type": "pyout",
       "prompt_number": 58,
       "text": [
        "idx: 2570\tloss: 4.0721659660339\ttrain score: 14.258333333333\tlabel: 1\tprediction: [1]32 [2]52 [3]90 [4]19 [5]26\t\n"
       ]
      },
      {
       "metadata": {},
       "output_type": "pyout",
       "prompt_number": 58,
       "text": [
        "idx: 2575\tloss: 4.0867652893066\ttrain score: 11.736666666667\tlabel: 28\tprediction: [1]28 [2]91 [3]29 [4]11 [5]78\t\n"
       ]
      },
      {
       "metadata": {},
       "output_type": "pyout",
       "prompt_number": 58,
       "text": [
        "idx: 2580\tloss: 4.0777649879456\ttrain score: 12.893333333333\tlabel: 85\tprediction: [1]43 [2]41 [3]60 [4]52 [5]49\t\n"
       ]
      },
      {
       "metadata": {},
       "output_type": "pyout",
       "prompt_number": 58,
       "text": [
        "idx: 2585\tloss: 4.1041836738586\ttrain score: 11.878333333333\tlabel: 70\tprediction: [1]69 [2]60 [3]19 [4]20 [5]70\t\n"
       ]
      },
      {
       "metadata": {},
       "output_type": "pyout",
       "prompt_number": 58,
       "text": [
        "idx: 2590\tloss: 4.0665688514709\ttrain score: 12.913333333333\tlabel: 65\tprediction: [1]23 [2]39 [3]44 [4]87 [5]21\t\n"
       ]
      },
      {
       "metadata": {},
       "output_type": "pyout",
       "prompt_number": 58,
       "text": [
        "idx: 2595\tloss: 4.0746293067932\ttrain score: 13.648333333333\tlabel: 85\tprediction: [1]1 [2]27 [3]35 [4]19 [5]17\t\n"
       ]
      },
      {
       "metadata": {},
       "output_type": "pyout",
       "prompt_number": 58,
       "text": [
        "idx: 2600\tloss: 4.0925703048706\ttrain score: 12.018333333333\tlabel: 26\tprediction: [1]31 [2]76 [3]84 [4]26 [5]83\t\n"
       ]
      },
      {
       "metadata": {},
       "output_type": "pyout",
       "prompt_number": 58,
       "text": [
        "idx: 2605\tloss: 4.1173391342163\ttrain score: 11.681666666667\tlabel: 77\tprediction: [1]40 [2]100 [3]85 [4]23 [5]51\t\n"
       ]
      },
      {
       "metadata": {},
       "output_type": "pyout",
       "prompt_number": 58,
       "text": [
        "idx: 2610\tloss: 4.0826959609985\ttrain score: 12.896666666667\tlabel: 63\tprediction: [1]31 [2]36 [3]23 [4]83 [5]82\t\n"
       ]
      },
      {
       "metadata": {},
       "output_type": "pyout",
       "prompt_number": 58,
       "text": [
        "idx: 2615\tloss: 4.0975465774536\ttrain score: 12.003333333333\tlabel: 11\tprediction: [1]96 [2]34 [3]3 [4]45 [5]5\t\n"
       ]
      },
      {
       "metadata": {},
       "output_type": "pyout",
       "prompt_number": 58,
       "text": [
        "idx: 2620\tloss: 4.0897812843323\ttrain score: 11.451666666667\tlabel: 95\tprediction: [1]33 [2]49 [3]24 [4]71 [5]73\t\n"
       ]
      },
      {
       "metadata": {},
       "output_type": "pyout",
       "prompt_number": 58,
       "text": [
        "idx: 2625\tloss: 4.079092502594\ttrain score: 12.175\tlabel: 57\tprediction: [1]87 [2]90 [3]39 [4]71 [5]74\t\n"
       ]
      },
      {
       "metadata": {},
       "output_type": "pyout",
       "prompt_number": 58,
       "text": [
        "idx: 2630\tloss: 4.0622577667236\ttrain score: 13.146666666667\tlabel: 20\tprediction: [1]70 [2]34 [3]84 [4]48 [5]69\t\n"
       ]
      },
      {
       "metadata": {},
       "output_type": "pyout",
       "prompt_number": 58,
       "text": [
        "idx: 2635\tloss: 4.0721259117126\ttrain score: 14.358333333333\tlabel: 85\tprediction: [1]81 [2]85 [3]56 [4]97 [5]91\t\n"
       ]
      },
      {
       "metadata": {},
       "output_type": "pyout",
       "prompt_number": 58,
       "text": [
        "idx: 2640\tloss: 4.1018004417419\ttrain score: 11.996666666667\tlabel: 54\tprediction: [1]68 [2]47 [3]82 [4]79 [5]31\t\n"
       ]
      },
      {
       "metadata": {},
       "output_type": "pyout",
       "prompt_number": 58,
       "text": [
        "idx: 2645\tloss: 4.0944538116455\ttrain score: 12.181666666667\tlabel: 69\tprediction: [1]100 [2]43 [3]90 [4]26 [5]86\t\n"
       ]
      },
      {
       "metadata": {},
       "output_type": "pyout",
       "prompt_number": 58,
       "text": [
        "idx: 2650\tloss: 4.0909175872803\ttrain score: 11.826666666667\tlabel: 73\tprediction: [1]96 [2]60 [3]73 [4]38 [5]18\t\n"
       ]
      },
      {
       "metadata": {},
       "output_type": "pyout",
       "prompt_number": 58,
       "text": [
        "idx: 2655\tloss: 4.0868382453918\ttrain score: 12.763333333333\tlabel: 85\tprediction: [1]27 [2]42 [3]1 [4]22 [5]84\t\n"
       ]
      },
      {
       "metadata": {},
       "output_type": "pyout",
       "prompt_number": 58,
       "text": [
        "idx: 2660\tloss: 4.0998959541321\ttrain score: 12.31\tlabel: 69\tprediction: [1]49 [2]48 [3]64 [4]60 [5]52\t\n"
       ]
      },
      {
       "metadata": {},
       "output_type": "pyout",
       "prompt_number": 58,
       "text": [
        "idx: 2665\tloss: 4.0735473632812\ttrain score: 13.461666666667\tlabel: 80\tprediction: [1]78 [2]24 [3]35 [4]72 [5]85\t\n"
       ]
      },
      {
       "metadata": {},
       "output_type": "pyout",
       "prompt_number": 58,
       "text": [
        "idx: 2670\tloss: 4.0529732704163\ttrain score: 13.745\tlabel: 2\tprediction: [1]72 [2]46 [3]20 [4]52 [5]89\t\n"
       ]
      },
      {
       "metadata": {},
       "output_type": "pyout",
       "prompt_number": 58,
       "text": [
        "idx: 2675\tloss: 4.0861411094666\ttrain score: 12.326666666667\tlabel: 48\tprediction: [1]41 [2]11 [3]91 [4]78 [5]18\t\n"
       ]
      },
      {
       "metadata": {},
       "output_type": "pyout",
       "prompt_number": 58,
       "text": [
        "idx: 2680\tloss: 4.0837416648865\ttrain score: 12.818333333333\tlabel: 65\tprediction: [1]26 [2]31 [3]47 [4]21 [5]22\t\n"
       ]
      },
      {
       "metadata": {},
       "output_type": "pyout",
       "prompt_number": 58,
       "text": [
        "idx: 2685\tloss: 4.066303730011\ttrain score: 12.925\tlabel: 5\tprediction: [1]73 [2]52 [3]92 [4]91 [5]26\t\n"
       ]
      },
      {
       "metadata": {},
       "output_type": "pyout",
       "prompt_number": 58,
       "text": [
        "idx: 2690\tloss: 4.1052026748657\ttrain score: 10.658333333333\tlabel: 66\tprediction: [1]88 [2]87 [3]27 [4]1 [5]35\t\n"
       ]
      },
      {
       "metadata": {},
       "output_type": "pyout",
       "prompt_number": 58,
       "text": [
        "idx: 2695\tloss: 4.0990858078003\ttrain score: 12.823333333333\tlabel: 65\tprediction: [1]39 [2]44 [3]83 [4]82 [5]31\t\n"
       ]
      },
      {
       "metadata": {},
       "output_type": "pyout",
       "prompt_number": 58,
       "text": [
        "idx: 2700\tloss: 4.0897312164307\ttrain score: 13.41\tlabel: 53\tprediction: [1]53 [2]88 [3]1 [4]72 [5]35\t\n"
       ]
      },
      {
       "metadata": {},
       "output_type": "pyout",
       "prompt_number": 58,
       "text": [
        "idx: 2705\tloss: 4.0810089111328\ttrain score: 12.49\tlabel: 10\tprediction: [1]34 [2]73 [3]20 [4]22 [5]24\t\n"
       ]
      },
      {
       "metadata": {},
       "output_type": "pyout",
       "prompt_number": 58,
       "text": [
        "idx: 2710\tloss: 4.0839920043945\ttrain score: 13.093333333333\tlabel: 90\tprediction: [1]49 [2]90 [3]15 [4]16 [5]17\t\n"
       ]
      },
      {
       "metadata": {},
       "output_type": "pyout",
       "prompt_number": 58,
       "text": [
        "idx: 2715\tloss: 4.0824046134949\ttrain score: 13.496666666667\tlabel: 31\tprediction: [1]76 [2]44 [3]26 [4]83 [5]30\t\n"
       ]
      },
      {
       "metadata": {},
       "output_type": "pyout",
       "prompt_number": 58,
       "text": [
        "idx: 2720\tloss: 4.1122760772705\ttrain score: 10.531666666667\tlabel: 55\tprediction: [1]72 [2]46 [3]20 [4]52 [5]89\t\n"
       ]
      },
      {
       "metadata": {},
       "output_type": "pyout",
       "prompt_number": 58,
       "text": [
        "idx: 2725\tloss: 4.1068978309631\ttrain score: 11.841666666667\tlabel: 59\tprediction: [1]49 [2]24 [3]48 [4]92 [5]91\t\n"
       ]
      },
      {
       "metadata": {},
       "output_type": "pyout",
       "prompt_number": 58,
       "text": [
        "idx: 2730\tloss: 4.080304145813\ttrain score: 12.366666666667\tlabel: 9\tprediction: [1]87 [2]65 [3]31 [4]37 [5]79\t\n"
       ]
      },
      {
       "metadata": {},
       "output_type": "pyout",
       "prompt_number": 58,
       "text": [
        "idx: 2735\tloss: 4.1033201217651\ttrain score: 13.331666666667\tlabel: 79\tprediction: [1]8 [2]22 [3]26 [4]29 [5]12\t\n"
       ]
      },
      {
       "metadata": {},
       "output_type": "pyout",
       "prompt_number": 58,
       "text": [
        "idx: 2740\tloss: 4.0761179924011\ttrain score: 12.758333333333\tlabel: 65\tprediction: [1]31 [2]100 [3]65 [4]26 [5]12\t\n"
       ]
      },
      {
       "metadata": {},
       "output_type": "pyout",
       "prompt_number": 58,
       "text": [
        "idx: 2745\tloss: 4.0810222625732\ttrain score: 12.98\tlabel: 49\tprediction: [1]33 [2]36 [3]77 [4]61 [5]29\t\n"
       ]
      },
      {
       "metadata": {},
       "output_type": "pyout",
       "prompt_number": 58,
       "text": [
        "idx: 2750\tloss: 4.0588712692261\ttrain score: 13.038333333333\tlabel: 75\tprediction: [1]75 [2]60 [3]69 [4]71 [5]67\t\n"
       ]
      },
      {
       "metadata": {},
       "output_type": "pyout",
       "prompt_number": 58,
       "text": [
        "idx: 2755\tloss: 4.0853219032288\ttrain score: 12.578333333333\tlabel: 81\tprediction: [1]93 [2]81 [3]53 [4]66 [5]67\t\n"
       ]
      },
      {
       "metadata": {},
       "output_type": "pyout",
       "prompt_number": 58,
       "text": [
        "idx: 2760\tloss: 4.0780439376831\ttrain score: 11.181666666667\tlabel: 50\tprediction: [1]33 [2]78 [3]22 [4]24 [5]50\t\n"
       ]
      },
      {
       "metadata": {},
       "output_type": "pyout",
       "prompt_number": 58,
       "text": [
        "idx: 2765\tloss: 4.0860877037048\ttrain score: 14.638333333333\tlabel: 57\tprediction: [1]38 [2]70 [3]42 [4]20 [5]84\t\n"
       ]
      },
      {
       "metadata": {},
       "output_type": "pyout",
       "prompt_number": 58,
       "text": [
        "idx: 2770\tloss: 4.0897006988525\ttrain score: 12.258333333333\tlabel: 35\tprediction: [1]78 [2]24 [3]35 [4]72 [5]85\t\n"
       ]
      },
      {
       "metadata": {},
       "output_type": "pyout",
       "prompt_number": 58,
       "text": [
        "idx: 2775\tloss: 4.0958075523376\ttrain score: 10.835\tlabel: 36\tprediction: [1]72 [2]46 [3]20 [4]52 [5]89\t\n"
       ]
      },
      {
       "metadata": {},
       "output_type": "pyout",
       "prompt_number": 58,
       "text": [
        "idx: 2780\tloss: 4.0914392471313\ttrain score: 12.668333333333\tlabel: 36\tprediction: [1]82 [2]37 [3]31 [4]30 [5]58\t\n"
       ]
      },
      {
       "metadata": {},
       "output_type": "pyout",
       "prompt_number": 58,
       "text": [
        "idx: 2785\tloss: 4.0923504829407\ttrain score: 12.851666666667\tlabel: 91\tprediction: [1]78 [2]24 [3]35 [4]72 [5]85\t\n"
       ]
      },
      {
       "metadata": {},
       "output_type": "pyout",
       "prompt_number": 58,
       "text": [
        "idx: 2790\tloss: 4.0675415992737\ttrain score: 11.731666666667\tlabel: 91\tprediction: [1]87 [2]84 [3]29 [4]52 [5]26\t\n"
       ]
      },
      {
       "metadata": {},
       "output_type": "pyout",
       "prompt_number": 58,
       "text": [
        "idx: 2795\tloss: 4.0859632492065\ttrain score: 12.225\tlabel: 81\tprediction: [1]28 [2]45 [3]81 [4]31 [5]93\t\n"
       ]
      },
      {
       "metadata": {},
       "output_type": "pyout",
       "prompt_number": 58,
       "text": [
        "idx: 2800\tloss: 4.0883507728577\ttrain score: 12.636666666667\tlabel: 75\tprediction: [1]75 [2]71 [3]67 [4]68 [5]69\t\n"
       ]
      },
      {
       "metadata": {},
       "output_type": "pyout",
       "prompt_number": 58,
       "text": [
        "idx: 2805\tloss: 4.091920375824\ttrain score: 11.405\tlabel: 57\tprediction: [1]73 [2]71 [3]42 [4]22 [5]18\t\n"
       ]
      },
      {
       "metadata": {},
       "output_type": "pyout",
       "prompt_number": 58,
       "text": [
        "idx: 2810\tloss: 4.0693874359131\ttrain score: 13.736666666667\tlabel: 62\tprediction: [1]68 [2]45 [3]82 [4]79 [5]30\t\n"
       ]
      },
      {
       "metadata": {},
       "output_type": "pyout",
       "prompt_number": 58,
       "text": [
        "idx: 2815\tloss: 4.0720810890198\ttrain score: 13.456666666667\tlabel: 24\tprediction: [1]73 [2]34 [3]24 [4]26 [5]29\t\n"
       ]
      },
      {
       "metadata": {},
       "output_type": "pyout",
       "prompt_number": 58,
       "text": [
        "idx: 2820\tloss: 4.1031422615051\ttrain score: 12.581666666667\tlabel: 10\tprediction: [1]73 [2]38 [3]20 [4]22 [5]26\t\n"
       ]
      },
      {
       "metadata": {},
       "output_type": "pyout",
       "prompt_number": 58,
       "text": [
        "idx: 2825\tloss: 4.0617380142212\ttrain score: 12.303333333333\tlabel: 35\tprediction: [1]33 [2]78 [3]22 [4]24 [5]50\t\n"
       ]
      },
      {
       "metadata": {},
       "output_type": "pyout",
       "prompt_number": 58,
       "text": [
        "idx: 2830\tloss: 4.1007866859436\ttrain score: 12.456666666667\tlabel: 14\tprediction: [1]92 [2]41 [3]34 [4]35 [5]78\t\n"
       ]
      },
      {
       "metadata": {},
       "output_type": "pyout",
       "prompt_number": 58,
       "text": [
        "idx: 2835\tloss: 4.0773406028748\ttrain score: 13.206666666667\tlabel: 7\tprediction: [1]36 [2]51 [3]92 [4]91 [5]77\t\n"
       ]
      },
      {
       "metadata": {},
       "output_type": "pyout",
       "prompt_number": 58,
       "text": [
        "idx: 2840\tloss: 4.0810222625732\ttrain score: 12.328333333333\tlabel: 2\tprediction: [1]72 [2]46 [3]20 [4]52 [5]89\t\n"
       ]
      },
      {
       "metadata": {},
       "output_type": "pyout",
       "prompt_number": 58,
       "text": [
        "idx: 2845\tloss: 4.0978207588196\ttrain score: 13.341666666667\tlabel: 6\tprediction: [1]48 [2]26 [3]91 [4]17 [5]18\t\n"
       ]
      },
      {
       "metadata": {},
       "output_type": "pyout",
       "prompt_number": 58,
       "text": [
        "idx: 2850\tloss: 4.0926718711853\ttrain score: 13.266666666667\tlabel: 98\tprediction: [1]41 [2]42 [3]52 [4]38 [5]18\t\n"
       ]
      },
      {
       "metadata": {},
       "output_type": "pyout",
       "prompt_number": 58,
       "text": [
        "idx: 2855\tloss: 4.0955896377563\ttrain score: 13.58\tlabel: 70\tprediction: [1]93 [2]29 [3]87 [4]1 [5]17\t\n"
       ]
      },
      {
       "metadata": {},
       "output_type": "pyout",
       "prompt_number": 58,
       "text": [
        "idx: 2860\tloss: 4.0547637939453\ttrain score: 12.783333333333\tlabel: 74\tprediction: [1]19 [2]96 [3]11 [4]10 [5]18\t\n"
       ]
      },
      {
       "metadata": {},
       "output_type": "pyout",
       "prompt_number": 58,
       "text": [
        "idx: 2865\tloss: 4.0953950881958\ttrain score: 12.621666666667\tlabel: 30\tprediction: [1]64 [2]65 [3]100 [4]30 [5]91\t\n"
       ]
      },
      {
       "metadata": {},
       "output_type": "pyout",
       "prompt_number": 58,
       "text": [
        "idx: 2870\tloss: 4.0619149208069\ttrain score: 13.853333333333\tlabel: 17\tprediction: [1]92 [2]48 [3]15 [4]77 [5]49\t\n"
       ]
      },
      {
       "metadata": {},
       "output_type": "pyout",
       "prompt_number": 58,
       "text": [
        "idx: 2875\tloss: 4.0831027030945\ttrain score: 12.998333333333\tlabel: 19\tprediction: [1]78 [2]24 [3]35 [4]72 [5]85\t\n"
       ]
      },
      {
       "metadata": {},
       "output_type": "pyout",
       "prompt_number": 58,
       "text": [
        "idx: 2880\tloss: 4.0754208564758\ttrain score: 12.075\tlabel: 99\tprediction: [1]73 [2]71 [3]22 [4]84 [5]24\t\n"
       ]
      },
      {
       "metadata": {},
       "output_type": "pyout",
       "prompt_number": 58,
       "text": [
        "idx: 2885\tloss: 4.1008086204529\ttrain score: 13.403333333333\tlabel: 85\tprediction: [1]78 [2]52 [3]90 [4]26 [5]19\t\n"
       ]
      },
      {
       "metadata": {},
       "output_type": "pyout",
       "prompt_number": 58,
       "text": [
        "idx: 2890\tloss: 4.0845823287964\ttrain score: 15.225\tlabel: 13\tprediction: [1]62 [2]60 [3]69 [4]65 [5]63\t\n"
       ]
      },
      {
       "metadata": {},
       "output_type": "pyout",
       "prompt_number": 58,
       "text": [
        "idx: 2895\tloss: 4.0798416137695\t"
       ]
      },
      {
       "metadata": {},
       "output_type": "pyout",
       "prompt_number": 58,
       "text": [
        "train score: 13.463333333333\tlabel: 50\tprediction: [1]74 [2]70 [3]16 [4]100 [5]30\t\n"
       ]
      },
      {
       "metadata": {},
       "output_type": "pyout",
       "prompt_number": 58,
       "text": [
        "idx: 2900\tloss: 4.0919771194458\ttrain score: 12.468333333333\tlabel: 73\tprediction: [1]69 [2]70 [3]22 [4]26 [5]34\t\n"
       ]
      },
      {
       "metadata": {},
       "output_type": "pyout",
       "prompt_number": 58,
       "text": [
        "idx: 2905\tloss: 4.0831141471863\ttrain score: 11.808333333333\tlabel: 65\tprediction: [1]83 [2]26 [3]58 [4]47 [5]21\t\n"
       ]
      },
      {
       "metadata": {},
       "output_type": "pyout",
       "prompt_number": 58,
       "text": [
        "idx: 2910\tloss: 4.0921144485474\ttrain score: 12.771666666667\tlabel: 63\tprediction: [1]37 [2]44 [3]23 [4]83 [5]82\t\n"
       ]
      },
      {
       "metadata": {},
       "output_type": "pyout",
       "prompt_number": 58,
       "text": [
        "idx: 2915\tloss: 4.0966734886169\ttrain score: 12.036666666667\tlabel: 75\tprediction: [1]75 [2]97 [3]68 [4]71 [5]66\t\n"
       ]
      },
      {
       "metadata": {},
       "output_type": "pyout",
       "prompt_number": 58,
       "text": [
        "idx: 2920\tloss: 4.0812840461731\ttrain score: 11.563333333333\tlabel: 96\tprediction: [1]69 [2]70 [3]22 [4]26 [5]34\t\n"
       ]
      },
      {
       "metadata": {},
       "output_type": "pyout",
       "prompt_number": 58,
       "text": [
        "idx: 2925\tloss: 4.0786218643188\ttrain score: 12.166666666667\tlabel: 1\tprediction: [1]78 [2]24 [3]35 [4]72 [5]85\t\n"
       ]
      },
      {
       "metadata": {},
       "output_type": "pyout",
       "prompt_number": 58,
       "text": [
        "idx: 2930\tloss: 4.0862760543823\ttrain score: 12.568333333333\tlabel: 17\tprediction: [1]11 [2]17 [3]56 [4]69 [5]20\t\n"
       ]
      },
      {
       "metadata": {},
       "output_type": "pyout",
       "prompt_number": 58,
       "text": [
        "idx: 2935\tloss: 4.0809288024902\ttrain score: 13.138333333333\tlabel: 72\tprediction: [1]78 [2]24 [3]35 [4]72 [5]85\t\n"
       ]
      },
      {
       "metadata": {},
       "output_type": "pyout",
       "prompt_number": 58,
       "text": [
        "idx: 2940\tloss: 4.0640797615051\ttrain score: 13.923333333333\tlabel: 12\tprediction: [1]26 [2]44 [3]18 [4]23 [5]87\t\n"
       ]
      },
      {
       "metadata": {},
       "output_type": "pyout",
       "prompt_number": 58,
       "text": [
        "idx: 2945\tloss: 4.066502571106\ttrain score: 13.248333333333\tlabel: 83\tprediction: [1]45 [2]68 [3]82 [4]100 [5]31\t\n"
       ]
      },
      {
       "metadata": {},
       "output_type": "pyout",
       "prompt_number": 58,
       "text": [
        "idx: 2950\tloss: 4.0735702514648\ttrain score: 12.21\tlabel: 49\tprediction: [1]38 [2]51 [3]91 [4]64 [5]29\t\n"
       ]
      },
      {
       "metadata": {},
       "output_type": "pyout",
       "prompt_number": 58,
       "text": [
        "idx: 2955\tloss: 4.066999912262\ttrain score: 12.67\tlabel: 84\tprediction: [1]34 [2]49 [3]29 [4]52 [5]84\t\n"
       ]
      },
      {
       "metadata": {},
       "output_type": "pyout",
       "prompt_number": 58,
       "text": [
        "idx: 2960\tloss: 4.093376159668\ttrain score: 12.525\tlabel: 72\tprediction: [1]51 [2]33 [3]92 [4]91 [5]44\t\n"
       ]
      },
      {
       "metadata": {},
       "output_type": "pyout",
       "prompt_number": 58,
       "text": [
        "idx: 2965\tloss: 4.1224904060364\ttrain score: 11.68\tlabel: 23\tprediction: [1]79 [2]76 [3]23 [4]83 [5]26\t\n"
       ]
      },
      {
       "metadata": {},
       "output_type": "pyout",
       "prompt_number": 58,
       "text": [
        "idx: 2970\tloss: 4.0900940895081\ttrain score: 11.893333333333\tlabel: 50\tprediction: [1]11 [2]56 [3]33 [4]35 [5]16\t\n"
       ]
      },
      {
       "metadata": {},
       "output_type": "pyout",
       "prompt_number": 58,
       "text": [
        "idx: 2975\tloss: 4.1115894317627\ttrain score: 12.248333333333\tlabel: 49\tprediction: [1]26 [2]92 [3]73 [4]15 [5]69\t\n"
       ]
      },
      {
       "metadata": {},
       "output_type": "pyout",
       "prompt_number": 58,
       "text": [
        "idx: 2980\tloss: 4.0590977668762\ttrain score: 14.118333333333\tlabel: 27\tprediction: [1]62 [2]79 [3]21 [4]67 [5]66\t\n"
       ]
      },
      {
       "metadata": {},
       "output_type": "pyout",
       "prompt_number": 58,
       "text": [
        "idx: 2985\tloss: 4.0743451118469\ttrain score: 12.808333333333\tlabel: 47\tprediction: [1]45 [2]47 [3]82 [4]79 [5]31\t\n"
       ]
      },
      {
       "metadata": {},
       "output_type": "pyout",
       "prompt_number": 58,
       "text": [
        "idx: 2990\tloss: 4.1023526191711\ttrain score: 11.193333333333\tlabel: 60\tprediction: [1]9 [2]32 [3]83 [4]82 [5]100\t\n"
       ]
      },
      {
       "metadata": {},
       "output_type": "pyout",
       "prompt_number": 58,
       "text": [
        "idx: 2995\tloss: 4.0751695632935\ttrain score: 13.651666666667\tlabel: 20\tprediction: [1]29 [2]7 [3]96 [4]11 [5]19\t\n"
       ]
      },
      {
       "metadata": {},
       "output_type": "pyout",
       "prompt_number": 58,
       "text": [
        "current LR: 0.0025\t\n"
       ]
      },
      {
       "metadata": {},
       "output_type": "pyout",
       "prompt_number": 58,
       "text": [
        "idx: 3000\tloss: 4.0657234191895\ttrain score: 11.78\tlabel: 8\tprediction: [1]76 [2]45 [3]83 [4]30 [5]82\t\n"
       ]
      },
      {
       "metadata": {},
       "output_type": "pyout",
       "prompt_number": 58,
       "text": [
        "idx: 3005\tloss: 4.0873742103577\ttrain score: 13.098333333333\tlabel: 57\tprediction: [1]87 [2]56 [3]57 [4]69 [5]70\t\n"
       ]
      },
      {
       "metadata": {},
       "output_type": "pyout",
       "prompt_number": 58,
       "text": [
        "idx: 3010\tloss: 4.0986924171448\ttrain score: 12.543333333333\tlabel: 58\tprediction: [1]86 [2]45 [3]47 [4]65 [5]58\t\n"
       ]
      },
      {
       "metadata": {},
       "output_type": "pyout",
       "prompt_number": 58,
       "text": [
        "idx: 3015\tloss: 4.0772218704224\ttrain score: 11.151666666667\tlabel: 75\tprediction: [1]31 [2]45 [3]21 [4]37 [5]68\t\n"
       ]
      },
      {
       "metadata": {},
       "output_type": "pyout",
       "prompt_number": 58,
       "text": [
        "idx: 3020\tloss: 4.0907859802246\ttrain score: 12.725\tlabel: 36\tprediction: [1]37 [2]76 [3]83 [4]100 [5]31\t\n"
       ]
      },
      {
       "metadata": {},
       "output_type": "pyout",
       "prompt_number": 58,
       "text": [
        "idx: 3025\tloss: 4.0601692199707\ttrain score: 14.286666666667\tlabel: 35\tprediction: [1]92 [2]48 [3]41 [4]77 [5]19\t\n"
       ]
      },
      {
       "metadata": {},
       "output_type": "pyout",
       "prompt_number": 58,
       "text": [
        "idx: 3030\tloss: 4.0795631408691\ttrain score: 11.738333333333\tlabel: 26\tprediction: [1]38 [2]39 [3]23 [4]100 [5]76\t\n"
       ]
      },
      {
       "metadata": {},
       "output_type": "pyout",
       "prompt_number": 58,
       "text": [
        "idx: 3035\tloss: 4.0850648880005\ttrain score: 11.596666666667\tlabel: 9\tprediction: [1]87 [2]65 [3]31 [4]37 [5]79\t\n"
       ]
      },
      {
       "metadata": {},
       "output_type": "pyout",
       "prompt_number": 58,
       "text": [
        "idx: 3040\tloss: 4.0794925689697\ttrain score: 14.265\tlabel: 90\tprediction: [1]11 [2]56 [3]33 [4]16 [5]35\t\n"
       ]
      },
      {
       "metadata": {},
       "output_type": "pyout",
       "prompt_number": 58,
       "text": [
        "idx: 3045\tloss: 4.0794262886047\ttrain score: 13.218333333333\tlabel: 14\tprediction: [1]32 [2]34 [3]73 [4]26 [5]70\t\n"
       ]
      },
      {
       "metadata": {},
       "output_type": "pyout",
       "prompt_number": 58,
       "text": [
        "idx: 3050\tloss: 4.0862340927124\ttrain score: 12.26\tlabel: 72\tprediction: [1]78 [2]24 [3]35 [4]72 [5]85\t\n"
       ]
      },
      {
       "metadata": {},
       "output_type": "pyout",
       "prompt_number": 58,
       "text": [
        "idx: 3055\tloss: 4.0956735610962\ttrain score: 12.548333333333\tlabel: 33\tprediction: [1]92 [2]100 [3]86 [4]78 [5]62\t\n"
       ]
      },
      {
       "metadata": {},
       "output_type": "pyout",
       "prompt_number": 58,
       "text": [
        "idx: 3060\tloss: 4.0893063545227\ttrain score: 13.421666666667\tlabel: 60\tprediction: [1]47 [2]69 [3]86 [4]83 [5]30\t\n"
       ]
      },
      {
       "metadata": {},
       "output_type": "pyout",
       "prompt_number": 58,
       "text": [
        "idx: 3065\tloss: 4.1094303131104\ttrain score: 12.405\tlabel: 83\tprediction: [1]39 [2]44 [3]23 [4]83 [5]82\t\n"
       ]
      },
      {
       "metadata": {},
       "output_type": "pyout",
       "prompt_number": 58,
       "text": [
        "idx: 3070\tloss: 4.0974888801575\ttrain score: 11.138333333333\tlabel: 93\tprediction: [1]47 [2]68 [3]82 [4]79 [5]37\t\n"
       ]
      },
      {
       "metadata": {},
       "output_type": "pyout",
       "prompt_number": 58,
       "text": [
        "idx: 3075\tloss: 4.0744562149048\ttrain score: 12.063333333333\tlabel: 45\tprediction: [1]62 [2]76 [3]79 [4]86 [5]83\t\n"
       ]
      },
      {
       "metadata": {},
       "output_type": "pyout",
       "prompt_number": 58,
       "text": [
        "idx: 3080\tloss: 4.0602793693542\ttrain score: 12.035\tlabel: 55\tprediction: [1]11 [2]78 [3]18 [4]55 [5]28\t\n"
       ]
      },
      {
       "metadata": {},
       "output_type": "pyout",
       "prompt_number": 58,
       "text": [
        "idx: 3085\tloss: 4.0722312927246\t"
       ]
      },
      {
       "metadata": {},
       "output_type": "pyout",
       "prompt_number": 58,
       "text": [
        "train score: 12.451666666667\tlabel: 10\tprediction: [1]92 [2]33 [3]16 [4]17 [5]34\t\n"
       ]
      },
      {
       "metadata": {},
       "output_type": "pyout",
       "prompt_number": 58,
       "text": [
        "idx: 3090\tloss: 4.0727066993713\ttrain score: 11.496666666667\tlabel: 37\tprediction: [1]76 [2]54 [3]37 [4]39 [5]83\t\n"
       ]
      },
      {
       "metadata": {},
       "output_type": "pyout",
       "prompt_number": 58,
       "text": [
        "idx: 3095\tloss: 4.087028503418\ttrain score: 11.798333333333\tlabel: 82\tprediction: [1]79 [2]36 [3]23 [4]26 [5]83\t\n"
       ]
      },
      {
       "metadata": {},
       "output_type": "pyout",
       "prompt_number": 58,
       "text": [
        "idx: 3100\tloss: 4.0841574668884\ttrain score: 11.9\tlabel: 8\tprediction: [1]95 [2]40 [3]17 [4]19 [5]43\t\n"
       ]
      },
      {
       "metadata": {},
       "output_type": "pyout",
       "prompt_number": 58,
       "text": [
        "idx: 3105\tloss: 4.0915470123291\ttrain score: 13.096666666667\tlabel: 36\tprediction: [1]39 [2]76 [3]86 [4]83 [5]82\t\n"
       ]
      },
      {
       "metadata": {},
       "output_type": "pyout",
       "prompt_number": 58,
       "text": [
        "idx: 3110\tloss: 4.0813012123108\ttrain score: 12.935\tlabel: 65\tprediction: [1]39 [2]45 [3]83 [4]82 [5]30\t\n"
       ]
      },
      {
       "metadata": {},
       "output_type": "pyout",
       "prompt_number": 58,
       "text": [
        "idx: 3115\tloss: 4.0731496810913\ttrain score: 13.275\tlabel: 44\tprediction: [1]21 [2]83 [3]87 [4]86 [5]37\t\n"
       ]
      },
      {
       "metadata": {},
       "output_type": "pyout",
       "prompt_number": 58,
       "text": [
        "idx: 3120\t"
       ]
      },
      {
       "metadata": {},
       "output_type": "pyout",
       "prompt_number": 58,
       "text": [
        "loss: 4.0708532333374\ttrain score: 12.383333333333\tlabel: 45\tprediction: [1]44 [2]48 [3]21 [4]23 [5]79\t\n"
       ]
      },
      {
       "metadata": {},
       "output_type": "pyout",
       "prompt_number": 58,
       "text": [
        "idx: 3125\tloss: 4.0782599449158\ttrain score: 13.23\tlabel: 62\tprediction: [1]59 [2]39 [3]23 [4]100 [5]21\t\n"
       ]
      },
      {
       "metadata": {},
       "output_type": "pyout",
       "prompt_number": 58,
       "text": [
        "idx: 3130\tloss: 4.0899062156677\ttrain score: 12.118333333333\t"
       ]
      },
      {
       "metadata": {},
       "output_type": "pyout",
       "prompt_number": 58,
       "text": [
        "label: 68\tprediction: [1]44 [2]45 [3]82 [4]79 [5]86\t\n"
       ]
      },
      {
       "metadata": {},
       "output_type": "pyout",
       "prompt_number": 58,
       "text": [
        "idx: 3135\tloss: 4.0694808959961\t"
       ]
      },
      {
       "metadata": {},
       "output_type": "pyout",
       "prompt_number": 58,
       "text": [
        "train score: 13.901666666667\tlabel: 92\tprediction: [1]51 [2]73 [3]22 [4]90 [5]19\t\n"
       ]
      },
      {
       "metadata": {},
       "output_type": "pyout",
       "prompt_number": 58,
       "text": [
        "idx: 3140\tloss: 4.0803232192993\ttrain score: 12.245\tlabel: 66\tprediction: [1]27 [2]93 [3]18 [4]32 [5]74\t\n"
       ]
      },
      {
       "metadata": {},
       "output_type": "pyout",
       "prompt_number": 58,
       "text": [
        "idx: 3145\tloss: 4.0681285858154\ttrain score: 14.058333333333\tlabel: 67\tprediction: [1]53 [2]88 [3]1 [4]72 [5]35\t\n"
       ]
      },
      {
       "metadata": {},
       "output_type": "pyout",
       "prompt_number": 58,
       "text": [
        "idx: 3150\tloss: 4.0977854728699\ttrain score: 10.806666666667\tlabel: 93\tprediction: [1]31 [2]58 [3]21 [4]62 [5]61\t\n"
       ]
      },
      {
       "metadata": {},
       "output_type": "pyout",
       "prompt_number": 58,
       "text": [
        "idx: 3155\tloss: 4.0851259231567\ttrain score: 12.241666666667\tlabel: 58\tprediction: [1]39 [2]62 [3]88 [4]86 [5]13\t\n"
       ]
      },
      {
       "metadata": {},
       "output_type": "pyout",
       "prompt_number": 58,
       "text": [
        "idx: 3160\tloss: 4.065016746521\ttrain score: 12.086666666667\tlabel: 8\tprediction: [1]48 [2]33 [3]52 [4]51 [5]24\t\n"
       ]
      },
      {
       "metadata": {},
       "output_type": "pyout",
       "prompt_number": 58,
       "text": [
        "idx: 3165\tloss: 4.0872163772583\ttrain score: 13.921666666667\tlabel: 41\tprediction: [1]83 [2]37 [3]26 [4]86 [5]100\t\n"
       ]
      },
      {
       "metadata": {},
       "output_type": "pyout",
       "prompt_number": 58,
       "text": [
        "idx: 3170\tloss: 4.0671753883362\ttrain score: 11.795\tlabel: 98\tprediction: [1]71 [2]84 [3]32 [4]39 [5]42\t\n"
       ]
      },
      {
       "metadata": {},
       "output_type": "pyout",
       "prompt_number": 58,
       "text": [
        "idx: 3175\tloss: 4.0907411575317\ttrain score: 12.516666666667\tlabel: 66\tprediction: [1]93 [2]81 [3]53 [4]66 [5]67\t\n"
       ]
      },
      {
       "metadata": {},
       "output_type": "pyout",
       "prompt_number": 58,
       "text": [
        "idx: 3180\tloss: 4.0783739089966\ttrain score: 13.178333333333\tlabel: 86\tprediction: [1]82 [2]31 [3]16 [4]91 [5]83\t\n"
       ]
      },
      {
       "metadata": {},
       "output_type": "pyout",
       "prompt_number": 58,
       "text": [
        "idx: 3185\tloss: 4.0726742744446\ttrain score: 11.181666666667\tlabel: 51\tprediction: [1]71 [2]84 [3]32 [4]39 [5]42\t\n"
       ]
      },
      {
       "metadata": {},
       "output_type": "pyout",
       "prompt_number": 58,
       "text": [
        "idx: 3190\tloss: 4.075918674469\ttrain score: 12.975\tlabel: 94\tprediction: [1]92 [2]91 [3]17 [4]84 [5]29\t\n"
       ]
      },
      {
       "metadata": {},
       "output_type": "pyout",
       "prompt_number": 58,
       "text": [
        "idx: 3195\tloss: 4.1024055480957\ttrain score: 12.221666666667\tlabel: 14\tprediction: [1]24 [2]41 [3]19 [4]48 [5]73\t\n"
       ]
      },
      {
       "metadata": {},
       "output_type": "pyout",
       "prompt_number": 58,
       "text": [
        "idx: 3200\tloss: 4.0695624351501\ttrain score: 13.028333333333\tlabel: 85\tprediction: [1]53 [2]88 [3]1 [4]72 [5]35\t\n"
       ]
      },
      {
       "metadata": {},
       "output_type": "pyout",
       "prompt_number": 58,
       "text": [
        "idx: 3205\tloss: 4.0753445625305\ttrain score: 12.936666666667\tlabel: 60\tprediction: [1]69 [2]6 [3]73 [4]32 [5]34\t\n"
       ]
      },
      {
       "metadata": {},
       "output_type": "pyout",
       "prompt_number": 58,
       "text": [
        "idx: 3210\tloss: 4.0758213996887\ttrain score: 11.456666666667\tlabel: 3\tprediction: [1]31 [2]47 [3]26 [4]83 [5]100\t\n"
       ]
      },
      {
       "metadata": {},
       "output_type": "pyout",
       "prompt_number": 58,
       "text": [
        "idx: 3215\tloss: 4.0890011787415\ttrain score: 12.881666666667\tlabel: 65\tprediction: [1]13 [2]47 [3]30 [4]100 [5]23\t\n"
       ]
      },
      {
       "metadata": {},
       "output_type": "pyout",
       "prompt_number": 58,
       "text": [
        "idx: 3220\tloss: 4.0683598518372\ttrain score: 12.6\tlabel: 95\tprediction: [1]49 [2]24 [3]78 [4]77 [5]33\t\n"
       ]
      },
      {
       "metadata": {},
       "output_type": "pyout",
       "prompt_number": 58,
       "text": [
        "idx: 3225\tloss: 4.0656251907349\ttrain score: 12.546666666667\tlabel: 15\tprediction: [1]37 [2]44 [3]83 [4]82 [5]30\t\n"
       ]
      },
      {
       "metadata": {},
       "output_type": "pyout",
       "prompt_number": 58,
       "text": [
        "idx: 3230\tloss: 4.1013007164001\ttrain score: 11.768333333333\tlabel: 46\tprediction: [1]46 [2]80 [3]55 [4]89 [5]20\t\n"
       ]
      },
      {
       "metadata": {},
       "output_type": "pyout",
       "prompt_number": 58,
       "text": [
        "idx: 3235\tloss: 4.0758943557739\ttrain score: 11.961666666667\tlabel: 20\tprediction: [1]48 [2]43 [3]20 [4]51 [5]49\t\n"
       ]
      },
      {
       "metadata": {},
       "output_type": "pyout",
       "prompt_number": 58,
       "text": [
        "idx: 3240\tloss: 4.101469039917\ttrain score: 12.413333333333\tlabel: 43\tprediction: [1]44 [2]95 [3]51 [4]49 [5]48\t\n"
       ]
      },
      {
       "metadata": {},
       "output_type": "pyout",
       "prompt_number": 58,
       "text": [
        "idx: 3245\tloss: 4.0645637512207\ttrain score: 13.548333333333\tlabel: 92\tprediction: [1]34 [2]49 [3]84 [4]24 [5]29\t\n"
       ]
      },
      {
       "metadata": {},
       "output_type": "pyout",
       "prompt_number": 58,
       "text": [
        "idx: 3250\tloss: 4.069673538208\ttrain score: 12.558333333333\tlabel: 88\tprediction: [1]53 [2]88 [3]1 [4]72 [5]35\t\n"
       ]
      },
      {
       "metadata": {},
       "output_type": "pyout",
       "prompt_number": 58,
       "text": [
        "idx: 3255\tloss: 4.0933675765991\ttrain score: 12.123333333333\tlabel: 81\tprediction: [1]69 [2]71 [3]38 [4]73 [5]98\t\n"
       ]
      },
      {
       "metadata": {},
       "output_type": "pyout",
       "prompt_number": 58,
       "text": [
        "idx: 3260\tloss: 4.0932817459106\ttrain score: 11.961666666667\tlabel: 70\tprediction: [1]73 [2]70 [3]42 [4]87 [5]56\t\n"
       ]
      },
      {
       "metadata": {},
       "output_type": "pyout",
       "prompt_number": 58,
       "text": [
        "idx: 3265\tloss: 4.0853800773621\ttrain score: 12.288333333333\tlabel: 76\tprediction: [1]94 [2]31 [3]91 [4]14 [5]12\t\n"
       ]
      },
      {
       "metadata": {},
       "output_type": "pyout",
       "prompt_number": 58,
       "text": [
        "idx: 3270\tloss: 4.0939350128174\ttrain score: 12.926666666667\tlabel: 66\tprediction: [1]35 [2]32 [3]18 [4]93 [5]1\t\n"
       ]
      },
      {
       "metadata": {},
       "output_type": "pyout",
       "prompt_number": 58,
       "text": [
        "idx: 3275\tloss: 4.0927453041077\ttrain score: 11.411666666667\tlabel: 83\tprediction: [1]39 [2]47 [3]83 [4]82 [5]30\t\n"
       ]
      },
      {
       "metadata": {},
       "output_type": "pyout",
       "prompt_number": 58,
       "text": [
        "idx: 3280\tloss: 4.0933265686035\ttrain score: 12.73\tlabel: 37\tprediction: [1]39 [2]44 [3]83 [4]82 [5]79\t\n"
       ]
      },
      {
       "metadata": {},
       "output_type": "pyout",
       "prompt_number": 58,
       "text": [
        "idx: 3285\tloss: 4.0789456367493\t"
       ]
      },
      {
       "metadata": {},
       "output_type": "pyout",
       "prompt_number": 58,
       "text": [
        "train score: 10.936666666667\tlabel: 74\tprediction: [1]76 [2]49 [3]15 [4]36 [5]94\t\n"
       ]
      },
      {
       "metadata": {},
       "output_type": "pyout",
       "prompt_number": 58,
       "text": [
        "idx: 3290\tloss: 4.0989737510681\ttrain score: 12.503333333333\tlabel: 42\tprediction: [1]70 [2]71 [3]26 [4]34 [5]38\t\n"
       ]
      },
      {
       "metadata": {},
       "output_type": "pyout",
       "prompt_number": 58,
       "text": [
        "idx: 3295\tloss: 4.0829935073853\ttrain score: 12.911666666667\tlabel: 52\tprediction: [1]95 [2]29 [3]52 [4]51 [5]24\t\n"
       ]
      },
      {
       "metadata": {},
       "output_type": "pyout",
       "prompt_number": 58,
       "text": [
        "idx: 3300\tloss: 4.0734596252441\ttrain score: 15.303333333333\tlabel: 81\tprediction: [1]74 [2]85 [3]18 [4]81 [5]91\t\n"
       ]
      }
     ],
     "prompt_number": 58
    }
   ],
   "metadata": {}
  }
 ]
}