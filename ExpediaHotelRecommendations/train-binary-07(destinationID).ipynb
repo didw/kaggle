{
 "metadata": {
  "language": "lua",
  "name": "",
  "signature": "sha256:19eacac02ea4c2f86ff059e8a87d553f1e06b8a3dd7147bf6e32c5ce5ff68529"
 },
 "nbformat": 3,
 "nbformat_minor": 0,
 "worksheets": [
  {
   "cells": [
    {
     "cell_type": "code",
     "collapsed": false,
     "input": [
      "require 'torch';\n",
      "require 'nn';\n",
      "require 'cutorch';\n",
      "require 'cunn';\n",
      "require 'cudnn';"
     ],
     "language": "python",
     "metadata": {},
     "outputs": [],
     "prompt_number": 24
    },
    {
     "cell_type": "markdown",
     "metadata": {},
     "source": [
      "### Split data"
     ]
    },
    {
     "cell_type": "code",
     "collapsed": false,
     "input": [
      "function split(str, pat)\n",
      "   local t = {}  -- NOTE: use {n = 0} in Lua-5.0\n",
      "   local fpat = \"(.-)\" .. pat\n",
      "   local last_end = 1\n",
      "   local s, e, cap = str:find(fpat, 1)\n",
      "   while s do\n",
      "      if s ~= 1 or cap ~= \"\" then\n",
      "         table.insert(t,cap)\n",
      "      end\n",
      "      last_end = e+1\n",
      "      s, e, cap = str:find(fpat, last_end)\n",
      "   end\n",
      "   if last_end <= #str then\n",
      "      cap = str:sub(last_end)\n",
      "      table.insert(t, cap)\n",
      "   end\n",
      "   return t\n",
      "end"
     ],
     "language": "python",
     "metadata": {},
     "outputs": [],
     "prompt_number": 25
    },
    {
     "cell_type": "markdown",
     "metadata": {},
     "source": [
      "## Conver Data"
     ]
    },
    {
     "cell_type": "markdown",
     "metadata": {},
     "source": [
      "### 1. To get week number"
     ]
    },
    {
     "cell_type": "code",
     "collapsed": false,
     "input": [
      "function getYearBeginDayOfWeek(tm)\n",
      "  yearBegin = os.time{year=os.date(\"*t\",tm).year,month=1,day=1}\n",
      "  yearBeginDayOfWeek = tonumber(os.date(\"%w\",yearBegin))\n",
      "  -- sunday correct from 0 -> 7\n",
      "  if(yearBeginDayOfWeek == 0) then yearBeginDayOfWeek = 7 end\n",
      "  return yearBeginDayOfWeek\n",
      "end\n",
      "function getDayAdd(tm)\n",
      "  yearBeginDayOfWeek = getYearBeginDayOfWeek(tm)\n",
      "  if(yearBeginDayOfWeek < 5 ) then\n",
      "    -- first day is week 1\n",
      "    dayAdd = (yearBeginDayOfWeek - 2)\n",
      "  else \n",
      "    -- first day is week 52 or 53\n",
      "    dayAdd = (yearBeginDayOfWeek - 9)\n",
      "  end  \n",
      "  return dayAdd\n",
      "end\n",
      "function getWeekNumberOfYear(tm)\n",
      "  dayOfYear = os.date(\"%j\",tm)\n",
      "  dayAdd = getDayAdd(tm)\n",
      "  dayOfYearCorrected = dayOfYear + dayAdd\n",
      "  if(dayOfYearCorrected < 0) then\n",
      "    -- week of last year - decide if 52 or 53\n",
      "    lastYearBegin = os.time{year=os.date(\"*t\",tm).year-1,month=1,day=1}\n",
      "    lastYearEnd = os.time{year=os.date(\"*t\",tm).year-1,month=12,day=31}\n",
      "    dayAdd = getDayAdd(lastYearBegin)\n",
      "    dayOfYear = dayOfYear + os.date(\"%j\",lastYearEnd)\n",
      "    dayOfYearCorrected = dayOfYear + dayAdd\n",
      "  end  \n",
      "  weekNum = math.floor((dayOfYearCorrected) / 7) + 1\n",
      "  if( (dayOfYearCorrected > 0) and weekNum == 53) then\n",
      "    -- check if it is not considered as part of week 1 of next year\n",
      "    nextYearBegin = os.time{year=os.date(\"*t\",tm).year+1,month=1,day=1}\n",
      "    yearBeginDayOfWeek = getYearBeginDayOfWeek(nextYearBegin)\n",
      "    if(yearBeginDayOfWeek < 5 ) then\n",
      "      weekNum = 1\n",
      "    end  \n",
      "  end  \n",
      "  return weekNum\n",
      "end"
     ],
     "language": "python",
     "metadata": {},
     "outputs": [],
     "prompt_number": 26
    },
    {
     "cell_type": "code",
     "collapsed": false,
     "input": [
      "function __getWeekday(tm)\n",
      "    return os.date(\"*t\",tm).wday\n",
      "end"
     ],
     "language": "python",
     "metadata": {},
     "outputs": [],
     "prompt_number": 27
    },
    {
     "cell_type": "code",
     "collapsed": false,
     "input": [
      "function getWeekday(input)\n",
      "    dates = split(input, \"-\")\n",
      "    if table.getn(dates) ~= 3 then\n",
      "        return -1\n",
      "    end\n",
      "    useDate = os.time{year=dates[1],month=dates[2],day=dates[3]}\n",
      "    return __getWeekday(useDate)\n",
      "end"
     ],
     "language": "python",
     "metadata": {},
     "outputs": [],
     "prompt_number": 28
    },
    {
     "cell_type": "code",
     "collapsed": false,
     "input": [
      "function getLengthStay(checkin, checkout)\n",
      "    local dIn= split(checkin, \"-\")\n",
      "    local dOut= split(checkout, \"-\")\n",
      "    if table.getn(dIn) ~= 3 or table.getn(dOut) ~= 3 then\n",
      "        return -1\n",
      "    end\n",
      "    local useDateIn = os.time{year=dIn[1],month=dIn[2],day=dIn[3]}\n",
      "    local useDateOut = os.time{year=dOut[1],month=dOut[2],day=dOut[3]}\n",
      "    local days = (useDateOut - useDateIn)/(24*60*60)\n",
      "    if days > 30 then\n",
      "        days = 30\n",
      "    end\n",
      "    return days\n",
      "end"
     ],
     "language": "python",
     "metadata": {},
     "outputs": [],
     "prompt_number": 29
    },
    {
     "cell_type": "code",
     "collapsed": false,
     "input": [
      "function isIncludeWeekend(checkin, checkout)\n",
      "    local dIn= split(checkin, \"-\")\n",
      "    local dOut= split(checkout, \"-\")\n",
      "    if table.getn(dIn) ~= 3 or table.getn(dOut) ~= 3 then\n",
      "        return -1\n",
      "    end\n",
      "    if getLengthStay(checkin, checkout) > 7 then\n",
      "        return 1\n",
      "    end\n",
      "    local useDateIn = os.time{year=dIn[1],month=dIn[2],day=dIn[3]}\n",
      "    local useDateOut = os.time{year=dOut[1],month=dOut[2],day=dOut[3]}\n",
      "    date = useDateIn\n",
      "    while date < useDateOut do\n",
      "        if __getWeekday(date) == 6 or __getWeekday(date) == 7 then return 1 end\n",
      "        date = date + 24 * 60 * 60\n",
      "    end\n",
      "    return 0\n",
      "end"
     ],
     "language": "python",
     "metadata": {},
     "outputs": [],
     "prompt_number": 30
    },
    {
     "cell_type": "code",
     "collapsed": false,
     "input": [
      "print(isIncludeWeekend(\"2016-05-20\", \"2016-05-21\"))"
     ],
     "language": "python",
     "metadata": {},
     "outputs": [],
     "prompt_number": 31
    },
    {
     "cell_type": "code",
     "collapsed": false,
     "input": [
      "function getDate(input)\n",
      "    dates = split(input, \"-\")\n",
      "    if table.getn(dates) ~= 3 then\n",
      "        return -1\n",
      "    end\n",
      "    useDate = os.time{year=dates[1],month=dates[2],day=dates[3]}\n",
      "    weekNum = getWeekNumberOfYear(useDate)\n",
      "    return weekNum\n",
      "end"
     ],
     "language": "python",
     "metadata": {},
     "outputs": [],
     "prompt_number": 32
    },
    {
     "cell_type": "markdown",
     "metadata": {},
     "source": [
      "### 2. onehot"
     ]
    },
    {
     "cell_type": "code",
     "collapsed": false,
     "input": [
      "function onehot(tab, value, len)\n",
      "    if value == nil then\n",
      "        value = 0\n",
      "    end\n",
      "    for i=1,len do\n",
      "        if i==tonumber(value) then\n",
      "            table.insert(tab, 1)\n",
      "        else\n",
      "            table.insert(tab, 0)\n",
      "        end\n",
      "    end\n",
      "end"
     ],
     "language": "python",
     "metadata": {},
     "outputs": [],
     "prompt_number": 33
    },
    {
     "cell_type": "code",
     "collapsed": false,
     "input": [
      "function onehot_range(data, value, len, step)\n",
      "    if value == nil then\n",
      "        value = 0\n",
      "    end\n",
      "    for i=1,len do\n",
      "        if tonumber(value) > i*tonumber(step) then\n",
      "            table.insert(data, 0)\n",
      "        else\n",
      "            table.insert(data, 1)\n",
      "            value = len * (step + 1)\n",
      "        end\n",
      "    end\n",
      "end"
     ],
     "language": "python",
     "metadata": {},
     "outputs": [],
     "prompt_number": 34
    },
    {
     "cell_type": "markdown",
     "metadata": {},
     "source": [
      "### 3. binary"
     ]
    },
    {
     "cell_type": "code",
     "collapsed": false,
     "input": [
      "function binary(data, value, len)\n",
      "    while len > 0 do\n",
      "        if value % 2 == 1 then\n",
      "            table.insert(data, 1)\n",
      "        else\n",
      "            table.insert(data, 0)\n",
      "        end\n",
      "        value = value / 2\n",
      "        len = (len / 2) - (len / 2)%1\n",
      "    end\n",
      "end"
     ],
     "language": "python",
     "metadata": {},
     "outputs": [],
     "prompt_number": 35
    },
    {
     "cell_type": "markdown",
     "metadata": {},
     "source": [
      "### 4. dest info"
     ]
    },
    {
     "cell_type": "code",
     "collapsed": false,
     "input": [
      "fileName = 'data/destinations.csv'\n",
      "\n",
      "info_sum = {}\n",
      "info_mean = {}\n",
      "info_std = {}\n",
      "N = 1\n",
      "head = 1\n",
      "for i=1,149 do table.insert(info_sum, 0) end\n",
      "for line in io.lines ( fileName ) do \n",
      "    if head == 1 then\n",
      "        head = 0\n",
      "    else\n",
      "        destdata = split(line, ',')\n",
      "        for j=1,149 do\n",
      "            info_sum[j] = info_sum[j] + tonumber(destdata[j+1])\n",
      "        end\n",
      "        N = N + 1\n",
      "    end\n",
      "end\n",
      "\n",
      "for i=1,149 do info_mean[i] = info_sum[i] / N end\n",
      "\n",
      "info_sum = {}\n",
      "N = 1\n",
      "head = 1\n",
      "for i=1,149 do table.insert(info_sum, 0) end\n",
      "for line in io.lines ( fileName ) do \n",
      "    if head == 1 then\n",
      "        head = 0\n",
      "    else\n",
      "        destdata = split(line, ',')\n",
      "        for j=1,149 do\n",
      "            info_sum[j] = info_sum[j] + (tonumber(destdata[j+1]) - info_mean[j]) * (tonumber(destdata[j+1]) - info_mean[j])\n",
      "        end\n",
      "        N = N + 1\n",
      "    end\n",
      "end\n",
      "\n",
      "for i=1,149 do info_std[i] = math.sqrt(info_sum[i] / N) end"
     ],
     "language": "python",
     "metadata": {},
     "outputs": [],
     "prompt_number": 36
    },
    {
     "cell_type": "code",
     "collapsed": false,
     "input": [
      "destInfo = {}\n",
      "i = 0\n",
      "head = 1\n",
      "nEmpty = 0\n",
      "empty_row = {}\n",
      "for j=1,149 do\n",
      "    table.insert(empty_row, 0)\n",
      "end\n",
      "for line in io.lines ( fileName ) do \n",
      "    if head == 1 then\n",
      "        head = 0\n",
      "    else\n",
      "        destdata = split(line, ',')\n",
      "        while tonumber(destdata[1]) ~= i do\n",
      "            --print('Empty line => destdata[1]: ' .. destdata[1], 'i: ' .. i)\n",
      "            table.insert(destInfo, empty_row)\n",
      "            i = i + 1\n",
      "            nEmpty = nEmpty + 1\n",
      "        end\n",
      "        row = {}\n",
      "        for j=1,149 do\n",
      "            table.insert(row, (destdata[j+1] - info_mean[j]) / info_std[j])\n",
      "        end\n",
      "        table.insert(destInfo, row)\n",
      "        if tonumber(destdata[1]) ~= i then\n",
      "            --print('Not Matched => destdata[1]: ' .. destdata[1], 'i: ' .. i)\n",
      "        end\n",
      "        i = i + 1\n",
      "    end\n",
      "end\n",
      "\n",
      "for i=1,1000 do table.insert(destInfo, empty_row) end\n",
      "print('nEmpty:' .. nEmpty)"
     ],
     "language": "python",
     "metadata": {},
     "outputs": [],
     "prompt_number": 37
    },
    {
     "cell_type": "code",
     "collapsed": false,
     "input": [
      "function addDestinationInfo(data, value)\n",
      "    for i=1,149 do\n",
      "        table.insert(data, destInfo[value][i])\n",
      "    end\n",
      "end"
     ],
     "language": "python",
     "metadata": {},
     "outputs": [],
     "prompt_number": 38
    },
    {
     "cell_type": "markdown",
     "metadata": {},
     "source": [
      "### Data normalize"
     ]
    },
    {
     "cell_type": "code",
     "collapsed": false,
     "input": [
      "distMean = 0\n",
      "distsum = 0\n",
      "data = loadData(1000)\n",
      "N = 0\n",
      "for i=1,1000 do \n",
      "    if data[i][4] ~= 0 then \n",
      "        N = N + 1; distsum = distsum + data[i][4] \n",
      "    end \n",
      "end\n",
      "distMean = distsum / N\n",
      "print(distsum)\n",
      "print(distMean)\n",
      "distsum = 0\n",
      "for i=1,1000 do \n",
      "    if data[i][4] ~= 0 then \n",
      "        N = N + 1; distsum = distsum + (data[i][4] -distMean)*(data[i][4] -distMean)\n",
      "    end \n",
      "end\n",
      "print(math.sqrt(distsum / N))"
     ],
     "language": "python",
     "metadata": {},
     "outputs": [
      {
       "metadata": {},
       "output_type": "pyout",
       "prompt_number": 39,
       "text": [
        "547\t\n",
        "1\t\n"
       ]
      },
      {
       "metadata": {},
       "output_type": "pyout",
       "prompt_number": 39,
       "text": [
        "0\t\n"
       ]
      }
     ],
     "prompt_number": 39
    },
    {
     "cell_type": "markdown",
     "metadata": {},
     "source": [
      "### Convert input to data"
     ]
    },
    {
     "cell_type": "code",
     "collapsed": false,
     "input": [
      "function tableToOutput(dataTable, scalarTable)\n",
      "   local data, scalarLabels, labels\n",
      "   local quantity = #scalarTable\n",
      "   local size = #dataTable[1]\n",
      "   data = torch.Tensor(quantity, size)\n",
      "   scalarLabels = torch.LongTensor(quantity):fill(-1111)\n",
      "   for i=1,#dataTable do\n",
      "      for j=1,#dataTable[1] do\n",
      "         data[i][j] = dataTable[i][j]\n",
      "      end\n",
      "      scalarLabels[i] = scalarTable[i]\n",
      "   end\n",
      "   return data, scalarLabels\n",
      "end"
     ],
     "language": "python",
     "metadata": {},
     "outputs": [],
     "prompt_number": 40
    },
    {
     "cell_type": "code",
     "collapsed": false,
     "input": [
      "function dataConvert(line)\n",
      "    if line == nil then\n",
      "        print('line is empty')\n",
      "    end\n",
      "    words = split(line, \",\")\n",
      "    data = {}\n",
      "    aa = split(words[1], ' ')[1]\n",
      "    table.insert(data, (tonumber(getDate(aa)) - 26) / 26) --1\n",
      "    table.insert(data, (getDate(words[12]) - 26) / 26) --12\n",
      "    table.insert(data, (getDate(words[13]) - 26) / 26) --13\n",
      "    \n",
      "    binary(data, getWeekday(aa), 7)\n",
      "    table.insert(data, isIncludeWeekend(words[12], words[13]))\n",
      "    binary(data, getLengthStay(words[12], words[13]), 30)\n",
      "    \n",
      "    if tonumber(words[7]) == nil then\n",
      "        table.insert(data, 0) -- distance\n",
      "    else\n",
      "        table.insert(data, (tonumber(words[7]) - 1800) / 1600) -- distance\n",
      "    end\n",
      "    table.insert(data, words[9])\n",
      "    table.insert(data, words[10])\n",
      "    table.insert(data, words[20])\n",
      "        \n",
      "    binary(data, words[2], 54)\n",
      "    binary(data, words[3], 5)\n",
      "    binary(data, words[4], 240)\n",
      "    binary(data, words[5], 1028)\n",
      "    binary(data, words[6], 56509)\n",
      "    binary(data, words[11], 11)\n",
      "    binary(data, words[14], 10)\n",
      "    binary(data, words[15], 10)\n",
      "    binary(data, words[16], 9)\n",
      "    binary(data, words[18], 10)\n",
      "    binary(data, words[21], 7)\n",
      "    binary(data, words[22], 213)\n",
      "    binary(data, words[23], 2118)\n",
      "    \n",
      "    -- destination information (17)\n",
      "    binary(data, tonumber(words[8]), 100000)\n",
      "    binary(data, tonumber(words[17]), 100000)\n",
      "    addDestinationInfo(data, tonumber(words[17]))\n",
      "    \n",
      "    return data\n",
      "end"
     ],
     "language": "python",
     "metadata": {},
     "outputs": [],
     "prompt_number": 41
    },
    {
     "cell_type": "code",
     "collapsed": false,
     "input": [
      "function testdataConvert(line)\n",
      "    if line == nil then\n",
      "        print('line is empty')\n",
      "    end\n",
      "    words = split(line, \",\")\n",
      "    data = {}\n",
      "    aa = split(words[2], ' ')[1]\n",
      "    table.insert(data, (tonumber(getDate(aa)) - 26) / 26) --1\n",
      "    table.insert(data, (getDate(words[13]) - 26) / 26) --12\n",
      "    table.insert(data, (getDate(words[14]) - 26) / 26) --13\n",
      "    \n",
      "    binary(data, getWeekday(aa), 7)\n",
      "    table.insert(data, isIncludeWeekend(words[13], words[14]))\n",
      "    binary(data, getLengthStay(words[13], words[14]), 30)\n",
      "    \n",
      "    if tonumber(words[8]) == nil then\n",
      "        table.insert(data, 0) -- distance\n",
      "    else\n",
      "        table.insert(data, (tonumber(words[8]) - 1800) / 1600) -- distance\n",
      "    end\n",
      "    table.insert(data, words[10])\n",
      "    table.insert(data, words[11])\n",
      "    table.insert(data, 1)\n",
      "        \n",
      "    binary(data, words[3], 54)\n",
      "    binary(data, words[4], 5)\n",
      "    binary(data, words[5], 240)\n",
      "    binary(data, words[6], 1028)\n",
      "    binary(data, words[7], 56509)\n",
      "    binary(data, words[12], 11)\n",
      "    binary(data, words[15], 10)\n",
      "    binary(data, words[16], 10)\n",
      "    binary(data, words[17], 9)\n",
      "    binary(data, words[19], 10)\n",
      "    binary(data, words[20], 7)\n",
      "    binary(data, words[21], 213)\n",
      "    binary(data, words[22], 2118)\n",
      "    \n",
      "    -- destination information (17)\n",
      "    binary(data, tonumber(words[9]), 100000)\n",
      "    binary(data, tonumber(words[18]), 100000)\n",
      "    addDestinationInfo(data, tonumber(words[18]))\n",
      "    \n",
      "    return data\n",
      "end"
     ],
     "language": "python",
     "metadata": {},
     "outputs": [],
     "prompt_number": 42
    },
    {
     "cell_type": "markdown",
     "metadata": {},
     "source": [
      "### Build model"
     ]
    },
    {
     "cell_type": "code",
     "collapsed": false,
     "input": [
      "model = nn.Sequential()\n",
      "-- for onehot inputsize: 3871\n",
      "model:add(nn.Linear(286, 1024))\n",
      "model:add(nn.Threshold(0, 1e-6))\n",
      "model:add(nn.ReLU())\n",
      "model:add(nn.Linear(1024, 256))\n",
      "model:add(nn.Threshold(0, 1e-6))\n",
      "model:add(nn.ReLU())\n",
      "model:add(nn.Linear(256, 100))\n",
      "model:add(nn.Sigmoid())\n",
      "model = model:cuda()\n",
      "\n",
      "params, grad_params = model:getParameters()\n",
      "crit = nn.CrossEntropyCriterion()\n",
      "crit = crit:cuda()"
     ],
     "language": "python",
     "metadata": {},
     "outputs": [],
     "prompt_number": 47
    },
    {
     "cell_type": "markdown",
     "metadata": {},
     "source": [
      "model = nn.Sequential()\n",
      "-- for onehot inputsize: 3871\n",
      "model:add(nn.Linear(252, 1024))\n",
      "model:add(nn.Sigmoid())\n",
      "model:add(nn.Linear(1024, 2048))\n",
      "model:add(nn.Sigmoid())\n",
      "model:add(nn.Linear(2048, 4096))\n",
      "model:add(nn.Sigmoid())\n",
      "model:add(nn.Linear(4096, 100))\n",
      "model = model:cuda()\n",
      "\n",
      "params, grad_params = model:getParameters()\n",
      "crit = nn.CrossEntropyCriterion()\n",
      "crit = crit:cuda()"
     ]
    },
    {
     "cell_type": "markdown",
     "metadata": {},
     "source": [
      "### Load Data"
     ]
    },
    {
     "cell_type": "code",
     "collapsed": false,
     "input": [
      "function loadData(quantity)\n",
      "    dataTable = {}\n",
      "    labTable = {}\n",
      "    for i=1,quantity do\n",
      "        local class = torch.random(0,99)\n",
      "        local fname = 'data/train/train_' .. string.format( \"%02d\", class ) .. '.csv'\n",
      "        file = io.open(fname, \"r\")\n",
      "        picked = torch.random(1,file:seek(\"end\")-200)\n",
      "        file:seek(\"set\", picked)\n",
      "        file:read()\n",
      "        table.insert(dataTable, dataConvert(file:read()))\n",
      "        table.insert(labTable, class+1)\n",
      "        io.close(file)\n",
      "    end\n",
      "    local data, label = tableToOutput(dataTable, labTable)\n",
      "    return data, label\n",
      "end"
     ],
     "language": "python",
     "metadata": {},
     "outputs": [],
     "prompt_number": 44
    },
    {
     "cell_type": "markdown",
     "metadata": {},
     "source": [
      "### Print"
     ]
    },
    {
     "cell_type": "code",
     "collapsed": false,
     "input": [
      "function PrintCM(idx)\n",
      "  local loss = 0\n",
      "  local top1 = 0\n",
      "  model:evaluate()\n",
      "  local x, y = loadData(1000)\n",
      "  x = x:cuda()\n",
      "  y = y:cuda()\n",
      "  local N = y:size(1)\n",
      "  local scores = model:forward(x)\n",
      "  loss = loss + crit:forward(scores, y)\n",
      "\n",
      "  local pred = scores:float()\n",
      "  local _, pred_sorted = pred:sort(2, true)\n",
      "\n",
      "  for i=1,N do\n",
      "    for j=1,5 do\n",
      "        if pred_sorted[i][j] == y[i] then\n",
      "          top1 = top1 + (1/j)\n",
      "        end\n",
      "    end\n",
      "  end\n",
      "  print(\"idx: \" .. idx, \"loss: \" .. loss, \"train score: \" .. top1 * 100 / N, 'label: ' .. y[1],\n",
      "        'prediction: [1]' .. pred_sorted[1][1] .. ' [2]' .. pred_sorted[1][2] .. ' [3]' .. pred_sorted[1][3] .. ' [4]' .. pred_sorted[1][4] .. ' [5]' .. pred_sorted[1][5])\n",
      "end"
     ],
     "language": "python",
     "metadata": {},
     "outputs": [],
     "prompt_number": 45
    },
    {
     "cell_type": "markdown",
     "metadata": {},
     "source": [
      "### Check Size"
     ]
    },
    {
     "cell_type": "code",
     "collapsed": false,
     "input": [
      "local x,y = loadData(2)\n",
      "print(x:size())"
     ],
     "language": "python",
     "metadata": {},
     "outputs": [
      {
       "metadata": {},
       "output_type": "pyout",
       "prompt_number": 46,
       "text": [
        "   2\n",
        " 286\n",
        "[torch.LongStorage of size 2]\n",
        "\n"
       ]
      }
     ],
     "prompt_number": 46
    },
    {
     "cell_type": "markdown",
     "metadata": {},
     "source": [
      "### Training"
     ]
    },
    {
     "cell_type": "code",
     "collapsed": false,
     "input": [
      "require 'optim';"
     ],
     "language": "python",
     "metadata": {},
     "outputs": [],
     "prompt_number": 48
    },
    {
     "cell_type": "code",
     "collapsed": false,
     "input": [
      "opt = {}\n",
      "batch_size = 10000\n",
      "train_size = 3000000\n",
      "max_epoch = 100\n",
      "opt.learningRate = 1e-2\n",
      "opt.lr_decay_factor = 0.5\n",
      "opt.lr_decay_every = 5 * train_size / batch_size\n",
      "opt.print_every = 5\n",
      "evaluate_every = 10 * train_size / batch_size\n",
      "optim_config = {learningRate = opt.learningRate}\n",
      "num_iterations = max_epoch * train_size / batch_size\n",
      "epoch = 1"
     ],
     "language": "python",
     "metadata": {},
     "outputs": [],
     "prompt_number": 49
    },
    {
     "cell_type": "code",
     "collapsed": false,
     "input": [
      "opt.learningRate = 1e-2\n",
      "opt.print_every = 5\n",
      "num_iterations = 11 * train_size / batch_size"
     ],
     "language": "python",
     "metadata": {},
     "outputs": [],
     "prompt_number": 50
    },
    {
     "cell_type": "code",
     "collapsed": false,
     "input": [
      "-- Loss function that we pass to an optim method\n",
      "function f(w)\n",
      "  assert(w == params)\n",
      "  grad_params:zero()\n",
      "\n",
      "  --local x, y = loader:nextBatch('train')\n",
      "  local x, y = loadData(batch_size)\n",
      "  \n",
      "  x = x:cuda()\n",
      "  y = y:cuda()\n",
      "  local scores = model:forward(x)\n",
      "  local loss = crit:forward(scores, y)\n",
      "  local grad_scores = crit:backward(scores, y)\n",
      "  model:backward(x, grad_scores)\n",
      "\n",
      "  grad_params:clamp(-5, 5)\n",
      "\n",
      "  return loss, grad_params\n",
      "end"
     ],
     "language": "python",
     "metadata": {},
     "outputs": [],
     "prompt_number": 51
    },
    {
     "cell_type": "code",
     "collapsed": false,
     "input": [
      "model:training()"
     ],
     "language": "python",
     "metadata": {},
     "outputs": [
      {
       "metadata": {},
       "output_type": "pyout",
       "prompt_number": 52,
       "text": [
        "\n"
       ]
      }
     ],
     "prompt_number": 52
    },
    {
     "cell_type": "code",
     "collapsed": false,
     "input": [
      "function saveModel(e)\n",
      "    local filename = string.format(\"model/model_%02d.t7\", e)\n",
      "    model:clearState()\n",
      "    model:float()\n",
      "    torch.save(filename, model)\n",
      "    model:cuda()\n",
      "end"
     ],
     "language": "python",
     "metadata": {},
     "outputs": [],
     "prompt_number": 53
    },
    {
     "cell_type": "code",
     "collapsed": false,
     "input": [
      "function make_submission(idx)\n",
      "    model:evaluate()\n",
      "    testname = 'data/test.csv'\n",
      "    submission_name = string.format(\"data/submission_%02d.csv\", idx)\n",
      "    submission_file = io.open(submission_name, 'w')\n",
      "    head = 1\n",
      "    idx = 0\n",
      "    submission_file:write(\"id,hotel_cluster\\n\")\n",
      "    for line in io.lines ( testname ) do\n",
      "        if head == 1 then\n",
      "            head = 0\n",
      "        else\n",
      "            testdata = testdataConvert(line)\n",
      "            words = split(line, ',')\n",
      "            if tonumber(words[1]) ~= idx then\n",
      "                print('words:' .. words[1] .. ', idx:' .. idx)            \n",
      "                idx = words[1]\n",
      "            end\n",
      "            tx, _ = tableToOutput({testdata}, {1})\n",
      "            local outputs = model:forward(tx:cuda())\n",
      "            local _, ps = outputs:float():sort(2, true)\n",
      "            submission_file:write(idx .. ',' .. ps[1][1]-1 .. ' ' .. ps[1][2]-1 .. ' ' .. ps[1][3]-1 .. ' ' .. ps[1][4]-1 .. ' ' .. ps[1][5]-1 .. '\\n')\n",
      "            idx = idx + 1\n",
      "        end\n",
      "    end\n",
      "    io.close(submission_file)\n",
      "end"
     ],
     "language": "python",
     "metadata": {},
     "outputs": [],
     "prompt_number": 54
    },
    {
     "cell_type": "code",
     "collapsed": false,
     "input": [
      "for i = 0, num_iterations do\n",
      "    if i ~= 0 and i % opt.lr_decay_every == 0 then\n",
      "        old_lr = opt.learningRate\n",
      "        opt.learningRate = opt.learningRate * opt.lr_decay_factor\n",
      "        optim_config = {learningRate = old_lr * opt.lr_decay_factor}\n",
      "        saveModel(epoch)\n",
      "        epoch = epoch + 1\n",
      "        print('current LR: ' .. opt.learningRate)\n",
      "    end\n",
      "    \n",
      "    local _, loss = optim.adam(f, params, optim_config)\n",
      "    if i % opt.print_every == 0 then\n",
      "        model:evaluate()\n",
      "        PrintCM(i)\n",
      "        model:training()\n",
      "    end\n",
      "    \n",
      "    if i ~= 0 and i % evaluate_every == 0 then\n",
      "        make_submission(i)\n",
      "    end\n",
      "end"
     ],
     "language": "python",
     "metadata": {},
     "outputs": [
      {
       "metadata": {},
       "output_type": "pyout",
       "prompt_number": 55,
       "text": [
        "idx: 0\tloss: 4.5916137695312\ttrain score: 3.3066666666667\tlabel: 48\tprediction: [1]85 [2]17 [3]44 [4]73 [5]38\t\n"
       ]
      },
      {
       "metadata": {},
       "output_type": "pyout",
       "prompt_number": 55,
       "text": [
        "idx: 5\tloss: 4.3953289985657\ttrain score: 10.151666666667\tlabel: 94\tprediction: [1]40 [2]8 [3]33 [4]17 [5]78\t\n"
       ]
      },
      {
       "metadata": {},
       "output_type": "pyout",
       "prompt_number": 55,
       "text": [
        "idx: 10\tloss: 4.3176383972168\ttrain score: 10.633333333333\tlabel: 57\tprediction: [1]50 [2]38 [3]42 [4]56 [5]99\t\n"
       ]
      },
      {
       "metadata": {},
       "output_type": "pyout",
       "prompt_number": 55,
       "text": [
        "idx: 15\tloss: 4.2620968818665\ttrain score: 10.11\tlabel: 86\tprediction: [1]83 [2]45 [3]31 [4]68 [5]63\t\n"
       ]
      },
      {
       "metadata": {},
       "output_type": "pyout",
       "prompt_number": 55,
       "text": [
        "idx: 20\tloss: 4.2508506774902\ttrain score: 10.588333333333\tlabel: 94\tprediction: [1]51 [2]40 [3]8 [4]33 [5]14\t\n"
       ]
      },
      {
       "metadata": {},
       "output_type": "pyout",
       "prompt_number": 55,
       "text": [
        "idx: 25\tloss: 4.239598274231\ttrain score: 9.9516666666667\tlabel: 21\tprediction: [1]87 [2]98 [3]65 [4]47 [5]12\t\n"
       ]
      },
      {
       "metadata": {},
       "output_type": "pyout",
       "prompt_number": 55,
       "text": [
        "idx: 30\tloss: 4.2279934883118\ttrain score: 12.61\tlabel: 26\tprediction: [1]30 [2]87 [3]98 [4]23 [5]65\t\n"
       ]
      },
      {
       "metadata": {},
       "output_type": "pyout",
       "prompt_number": 55,
       "text": [
        "idx: 35\tloss: 4.20374584198\ttrain score: 12.176666666667\tlabel: 72\tprediction: [1]55 [2]1 [3]72 [4]97 [5]35\t\n"
       ]
      },
      {
       "metadata": {},
       "output_type": "pyout",
       "prompt_number": 55,
       "text": [
        "idx: 40\tloss: 4.1947078704834\ttrain score: 11.501666666667\tlabel: 46\tprediction: [1]2 [2]89 [3]46 [4]52 [5]25\t\n"
       ]
      },
      {
       "metadata": {},
       "output_type": "pyout",
       "prompt_number": 55,
       "text": [
        "idx: 45\tloss: 4.1942253112793\ttrain score: 11.845\tlabel: 61\tprediction: [1]20 [2]22 [3]73 [4]50 [5]71\t\n"
       ]
      },
      {
       "metadata": {},
       "output_type": "pyout",
       "prompt_number": 55,
       "text": [
        "idx: 50\tloss: 4.1796140670776\ttrain score: 12.465\tlabel: 90\tprediction: [1]73 [2]34 [3]10 [4]26 [5]3\t\n"
       ]
      },
      {
       "metadata": {},
       "output_type": "pyout",
       "prompt_number": 55,
       "text": [
        "idx: 55\tloss: 4.2036099433899\ttrain score: 13.44\tlabel: 27\tprediction: [1]34 [2]84 [3]71 [4]19 [5]42\t\n"
       ]
      },
      {
       "metadata": {},
       "output_type": "pyout",
       "prompt_number": 55,
       "text": [
        "idx: 60\tloss: 4.1683034896851\ttrain score: 12.545\tlabel: 23\tprediction: [1]20 [2]22 [3]34 [4]84 [5]57\t\n"
       ]
      },
      {
       "metadata": {},
       "output_type": "pyout",
       "prompt_number": 55,
       "text": [
        "idx: 65\tloss: 4.1734523773193\ttrain score: 13.913333333333\tlabel: 63\tprediction: [1]92 [2]52 [3]29 [4]33 [5]73\t\n"
       ]
      },
      {
       "metadata": {},
       "output_type": "pyout",
       "prompt_number": 55,
       "text": [
        "idx: 70\tloss: 4.1570863723755\ttrain score: 13.265\tlabel: 6\tprediction: [1]16 [2]44 [3]43 [4]14 [5]8\t\n"
       ]
      },
      {
       "metadata": {},
       "output_type": "pyout",
       "prompt_number": 55,
       "text": [
        "idx: 75\tloss: 4.1581635475159\t"
       ]
      },
      {
       "metadata": {},
       "output_type": "pyout",
       "prompt_number": 55,
       "text": [
        "train score: 13.223333333333\tlabel: 98\tprediction: [1]42 [2]10 [3]22 [4]34 [5]73\t\n"
       ]
      },
      {
       "metadata": {},
       "output_type": "pyout",
       "prompt_number": 55,
       "text": [
        "idx: 80\tloss: 4.1398191452026\ttrain score: 13.451666666667\tlabel: 35\tprediction: [1]27 [2]85 [3]35 [4]74 [5]1\t\n"
       ]
      },
      {
       "metadata": {},
       "output_type": "pyout",
       "prompt_number": 55,
       "text": [
        "idx: 85\tloss: 4.127311706543\ttrain score: 14.386666666667\tlabel: 48\tprediction: [1]71 [2]42 [3]98 [4]4 [5]57\t\n"
       ]
      },
      {
       "metadata": {},
       "output_type": "pyout",
       "prompt_number": 55,
       "text": [
        "idx: 90\tloss: 4.1249408721924\ttrain score: 14.401666666667\tlabel: 85\tprediction: [1]55 [2]46 [3]2 [4]80 [5]52\t\n"
       ]
      },
      {
       "metadata": {},
       "output_type": "pyout",
       "prompt_number": 55,
       "text": [
        "idx: 95\tloss: 4.1468114852905\ttrain score: 14.378333333333\tlabel: 90\tprediction: [1]27 [2]85 [3]97 [4]90 [5]1\t\n"
       ]
      },
      {
       "metadata": {},
       "output_type": "pyout",
       "prompt_number": 55,
       "text": [
        "idx: 100\tloss: 4.13161277771\ttrain score: 14.573333333333\tlabel: 6\tprediction: [1]92 [2]49 [3]43 [4]17 [5]77\t\n"
       ]
      },
      {
       "metadata": {},
       "output_type": "pyout",
       "prompt_number": 55,
       "text": [
        "idx: 105\tloss: 4.1433353424072\ttrain score: 13.456666666667\tlabel: 28\tprediction: [1]58 [2]47 [3]61 [4]59 [5]21\t\n"
       ]
      },
      {
       "metadata": {},
       "output_type": "pyout",
       "prompt_number": 55,
       "text": [
        "idx: 110\tloss: 4.1177892684937\ttrain score: 13.915\tlabel: 48\tprediction: [1]50 [2]71 [3]99 [4]42 [5]57\t\n"
       ]
      },
      {
       "metadata": {},
       "output_type": "pyout",
       "prompt_number": 55,
       "text": [
        "idx: 115\tloss: 4.1285281181335\ttrain score: 14.468333333333\tlabel: 89\tprediction: [1]55 [2]25 [3]89 [4]46 [5]85\t\n"
       ]
      },
      {
       "metadata": {},
       "output_type": "pyout",
       "prompt_number": 55,
       "text": [
        "idx: 120\tloss: 4.1159744262695\ttrain score: 14.496666666667\tlabel: 34\tprediction: [1]51 [2]17 [3]52 [4]14 [5]33\t\n"
       ]
      }
     ]
    }
   ],
   "metadata": {}
  }
 ]
}