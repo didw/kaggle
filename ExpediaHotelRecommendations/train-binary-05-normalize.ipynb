{
 "metadata": {
  "language": "lua",
  "name": "",
  "signature": "sha256:9eea56e61193aa139820683bd816280a31a8f56e08eb9d1d2dba66981ddcd3dd"
 },
 "nbformat": 3,
 "nbformat_minor": 0,
 "worksheets": [
  {
   "cells": [
    {
     "cell_type": "markdown",
     "metadata": {},
     "source": [
      "From Experiment 04\n",
      "\n",
      "Changed data format from binary to range data\n",
      "\n",
      "and normalization\n"
     ]
    },
    {
     "cell_type": "code",
     "collapsed": false,
     "input": [
      "require 'torch';\n",
      "require 'nn';\n",
      "require 'cutorch';\n",
      "require 'cunn';\n",
      "require 'cudnn';"
     ],
     "language": "python",
     "metadata": {},
     "outputs": [],
     "prompt_number": 1
    },
    {
     "cell_type": "markdown",
     "metadata": {},
     "source": [
      "### Split data"
     ]
    },
    {
     "cell_type": "code",
     "collapsed": false,
     "input": [
      "function split(str, pat)\n",
      "   local t = {}  -- NOTE: use {n = 0} in Lua-5.0\n",
      "   local fpat = \"(.-)\" .. pat\n",
      "   local last_end = 1\n",
      "   local s, e, cap = str:find(fpat, 1)\n",
      "   while s do\n",
      "      if s ~= 1 or cap ~= \"\" then\n",
      "         table.insert(t,cap)\n",
      "      end\n",
      "      last_end = e+1\n",
      "      s, e, cap = str:find(fpat, last_end)\n",
      "   end\n",
      "   if last_end <= #str then\n",
      "      cap = str:sub(last_end)\n",
      "      table.insert(t, cap)\n",
      "   end\n",
      "   return t\n",
      "end"
     ],
     "language": "python",
     "metadata": {},
     "outputs": [],
     "prompt_number": 2
    },
    {
     "cell_type": "markdown",
     "metadata": {},
     "source": [
      "## Conver Data"
     ]
    },
    {
     "cell_type": "markdown",
     "metadata": {},
     "source": [
      "### 1. To get week number"
     ]
    },
    {
     "cell_type": "code",
     "collapsed": false,
     "input": [
      "function getYearBeginDayOfWeek(tm)\n",
      "  yearBegin = os.time{year=os.date(\"*t\",tm).year,month=1,day=1}\n",
      "  yearBeginDayOfWeek = tonumber(os.date(\"%w\",yearBegin))\n",
      "  -- sunday correct from 0 -> 7\n",
      "  if(yearBeginDayOfWeek == 0) then yearBeginDayOfWeek = 7 end\n",
      "  return yearBeginDayOfWeek\n",
      "end\n",
      "function getDayAdd(tm)\n",
      "  yearBeginDayOfWeek = getYearBeginDayOfWeek(tm)\n",
      "  if(yearBeginDayOfWeek < 5 ) then\n",
      "    -- first day is week 1\n",
      "    dayAdd = (yearBeginDayOfWeek - 2)\n",
      "  else \n",
      "    -- first day is week 52 or 53\n",
      "    dayAdd = (yearBeginDayOfWeek - 9)\n",
      "  end  \n",
      "  return dayAdd\n",
      "end\n",
      "function getWeekNumberOfYear(tm)\n",
      "  dayOfYear = os.date(\"%j\",tm)\n",
      "  dayAdd = getDayAdd(tm)\n",
      "  dayOfYearCorrected = dayOfYear + dayAdd\n",
      "  if(dayOfYearCorrected < 0) then\n",
      "    -- week of last year - decide if 52 or 53\n",
      "    lastYearBegin = os.time{year=os.date(\"*t\",tm).year-1,month=1,day=1}\n",
      "    lastYearEnd = os.time{year=os.date(\"*t\",tm).year-1,month=12,day=31}\n",
      "    dayAdd = getDayAdd(lastYearBegin)\n",
      "    dayOfYear = dayOfYear + os.date(\"%j\",lastYearEnd)\n",
      "    dayOfYearCorrected = dayOfYear + dayAdd\n",
      "  end  \n",
      "  weekNum = math.floor((dayOfYearCorrected) / 7) + 1\n",
      "  if( (dayOfYearCorrected > 0) and weekNum == 53) then\n",
      "    -- check if it is not considered as part of week 1 of next year\n",
      "    nextYearBegin = os.time{year=os.date(\"*t\",tm).year+1,month=1,day=1}\n",
      "    yearBeginDayOfWeek = getYearBeginDayOfWeek(nextYearBegin)\n",
      "    if(yearBeginDayOfWeek < 5 ) then\n",
      "      weekNum = 1\n",
      "    end  \n",
      "  end  \n",
      "  return weekNum\n",
      "end"
     ],
     "language": "python",
     "metadata": {},
     "outputs": [],
     "prompt_number": 3
    },
    {
     "cell_type": "code",
     "collapsed": false,
     "input": [
      "function __getWeekday(tm)\n",
      "    return os.date(\"*t\",tm).wday\n",
      "end"
     ],
     "language": "python",
     "metadata": {},
     "outputs": [],
     "prompt_number": 4
    },
    {
     "cell_type": "code",
     "collapsed": false,
     "input": [
      "function getWeekday(input)\n",
      "    dates = split(input, \"-\")\n",
      "    if table.getn(dates) ~= 3 then\n",
      "        return -1\n",
      "    end\n",
      "    useDate = os.time{year=dates[1],month=dates[2],day=dates[3]}\n",
      "    return __getWeekday(useDate)\n",
      "end"
     ],
     "language": "python",
     "metadata": {},
     "outputs": [],
     "prompt_number": 5
    },
    {
     "cell_type": "code",
     "collapsed": false,
     "input": [
      "function getLengthStay(checkin, checkout)\n",
      "    local dIn= split(checkin, \"-\")\n",
      "    local dOut= split(checkout, \"-\")\n",
      "    if table.getn(dIn) ~= 3 or table.getn(dOut) ~= 3 then\n",
      "        return -1\n",
      "    end\n",
      "    local useDateIn = os.time{year=dIn[1],month=dIn[2],day=dIn[3]}\n",
      "    local useDateOut = os.time{year=dOut[1],month=dOut[2],day=dOut[3]}\n",
      "    local days = (useDateOut - useDateIn)/(24*60*60)\n",
      "    if days > 30 then\n",
      "        days = 30\n",
      "    end\n",
      "    return days\n",
      "end"
     ],
     "language": "python",
     "metadata": {},
     "outputs": [],
     "prompt_number": 6
    },
    {
     "cell_type": "code",
     "collapsed": false,
     "input": [
      "function isIncludeWeekend(checkin, checkout)\n",
      "    local dIn= split(checkin, \"-\")\n",
      "    local dOut= split(checkout, \"-\")\n",
      "    if table.getn(dIn) ~= 3 or table.getn(dOut) ~= 3 then\n",
      "        return -1\n",
      "    end\n",
      "    if getLengthStay(checkin, checkout) > 7 then\n",
      "        return 1\n",
      "    end\n",
      "    local useDateIn = os.time{year=dIn[1],month=dIn[2],day=dIn[3]}\n",
      "    local useDateOut = os.time{year=dOut[1],month=dOut[2],day=dOut[3]}\n",
      "    date = useDateIn\n",
      "    while date < useDateOut do\n",
      "        if __getWeekday(date) == 6 or __getWeekday(date) == 7 then return 1 end\n",
      "        date = date + 24 * 60 * 60\n",
      "    end\n",
      "    return 0\n",
      "end"
     ],
     "language": "python",
     "metadata": {},
     "outputs": [],
     "prompt_number": 7
    },
    {
     "cell_type": "code",
     "collapsed": false,
     "input": [
      "print(isIncludeWeekend(\"2016-05-20\", \"2016-05-21\"))"
     ],
     "language": "python",
     "metadata": {},
     "outputs": [],
     "prompt_number": 8
    },
    {
     "cell_type": "code",
     "collapsed": false,
     "input": [
      "function getDate(input)\n",
      "    dates = split(input, \"-\")\n",
      "    if table.getn(dates) ~= 3 then\n",
      "        return -1\n",
      "    end\n",
      "    useDate = os.time{year=dates[1],month=dates[2],day=dates[3]}\n",
      "    weekNum = getWeekNumberOfYear(useDate)\n",
      "    return weekNum\n",
      "end"
     ],
     "language": "python",
     "metadata": {},
     "outputs": [],
     "prompt_number": 9
    },
    {
     "cell_type": "markdown",
     "metadata": {},
     "source": [
      "### 2. onehot"
     ]
    },
    {
     "cell_type": "code",
     "collapsed": false,
     "input": [
      "function onehot(tab, value, len)\n",
      "    if value == nil then\n",
      "        value = 0\n",
      "    end\n",
      "    for i=1,len do\n",
      "        if i==tonumber(value) then\n",
      "            table.insert(tab, 1)\n",
      "        else\n",
      "            table.insert(tab, 0)\n",
      "        end\n",
      "    end\n",
      "end"
     ],
     "language": "python",
     "metadata": {},
     "outputs": [],
     "prompt_number": 10
    },
    {
     "cell_type": "code",
     "collapsed": false,
     "input": [
      "function onehot_range(data, value, len, step)\n",
      "    if value == nil then\n",
      "        value = 0\n",
      "    end\n",
      "    for i=1,len do\n",
      "        if tonumber(value) > i*tonumber(step) then\n",
      "            table.insert(data, 0)\n",
      "        else\n",
      "            table.insert(data, 1)\n",
      "            value = len * (step + 1)\n",
      "        end\n",
      "    end\n",
      "end"
     ],
     "language": "python",
     "metadata": {},
     "outputs": [],
     "prompt_number": 11
    },
    {
     "cell_type": "markdown",
     "metadata": {},
     "source": [
      "### 3. binary"
     ]
    },
    {
     "cell_type": "code",
     "collapsed": false,
     "input": [
      "function binary(data, value, len)\n",
      "    while len > 0 do\n",
      "        if value % 2 == 1 then\n",
      "            table.insert(data, 1)\n",
      "        else\n",
      "            table.insert(data, 0)\n",
      "        end\n",
      "        value = value / 2\n",
      "        len = (len / 2) - (len / 2)%1\n",
      "    end\n",
      "end"
     ],
     "language": "python",
     "metadata": {},
     "outputs": [],
     "prompt_number": 12
    },
    {
     "cell_type": "markdown",
     "metadata": {},
     "source": [
      "### 4. dest info"
     ]
    },
    {
     "cell_type": "code",
     "collapsed": false,
     "input": [
      "fileName = 'data/destinations.csv'\n",
      "\n",
      "info_sum = {}\n",
      "info_mean = {}\n",
      "info_std = {}\n",
      "N = 1\n",
      "head = 1\n",
      "for i=1,149 do table.insert(info_sum, 0) end\n",
      "for line in io.lines ( fileName ) do \n",
      "    if head == 1 then\n",
      "        head = 0\n",
      "    else\n",
      "        destdata = split(line, ',')\n",
      "        for j=1,149 do\n",
      "            info_sum[j] = info_sum[j] + tonumber(destdata[j+1])\n",
      "        end\n",
      "        N = N + 1\n",
      "    end\n",
      "end\n",
      "\n",
      "for i=1,149 do info_mean[i] = info_sum[i] / N end\n",
      "\n",
      "info_sum = {}\n",
      "N = 1\n",
      "head = 1\n",
      "for i=1,149 do table.insert(info_sum, 0) end\n",
      "for line in io.lines ( fileName ) do \n",
      "    if head == 1 then\n",
      "        head = 0\n",
      "    else\n",
      "        destdata = split(line, ',')\n",
      "        for j=1,149 do\n",
      "            info_sum[j] = info_sum[j] + (tonumber(destdata[j+1]) - info_mean[j]) * (tonumber(destdata[j+1]) - info_mean[j])\n",
      "        end\n",
      "        N = N + 1\n",
      "    end\n",
      "end\n",
      "\n",
      "for i=1,149 do info_std[i] = math.sqrt(info_sum[i] / N) end"
     ],
     "language": "python",
     "metadata": {},
     "outputs": [],
     "prompt_number": 13
    },
    {
     "cell_type": "code",
     "collapsed": false,
     "input": [
      "destInfo = {}\n",
      "i = 0\n",
      "head = 1\n",
      "nEmpty = 0\n",
      "empty_row = {}\n",
      "for j=1,149 do\n",
      "    table.insert(empty_row, 0)\n",
      "end\n",
      "for line in io.lines ( fileName ) do \n",
      "    if head == 1 then\n",
      "        head = 0\n",
      "    else\n",
      "        destdata = split(line, ',')\n",
      "        while tonumber(destdata[1]) ~= i do\n",
      "            --print('Empty line => destdata[1]: ' .. destdata[1], 'i: ' .. i)\n",
      "            table.insert(destInfo, empty_row)\n",
      "            i = i + 1\n",
      "            nEmpty = nEmpty + 1\n",
      "        end\n",
      "        row = {}\n",
      "        for j=1,149 do\n",
      "            table.insert(row, (destdata[j+1] - info_mean[j]) / info_std[j])\n",
      "        end\n",
      "        table.insert(destInfo, row)\n",
      "        if tonumber(destdata[1]) ~= i then\n",
      "            --print('Not Matched => destdata[1]: ' .. destdata[1], 'i: ' .. i)\n",
      "        end\n",
      "        i = i + 1\n",
      "    end\n",
      "end\n",
      "\n",
      "for i=1,1000 do table.insert(destInfo, empty_row) end\n",
      "print('nEmpty:' .. nEmpty)"
     ],
     "language": "python",
     "metadata": {},
     "outputs": [
      {
       "metadata": {},
       "output_type": "pyout",
       "prompt_number": 14,
       "text": [
        "nEmpty:2888\t\n"
       ]
      }
     ],
     "prompt_number": 14
    },
    {
     "cell_type": "code",
     "collapsed": false,
     "input": [
      "function addDestinationInfo(data, value)\n",
      "    for i=1,149 do\n",
      "        table.insert(data, destInfo[value][i])\n",
      "    end\n",
      "end"
     ],
     "language": "python",
     "metadata": {},
     "outputs": [],
     "prompt_number": 15
    },
    {
     "cell_type": "code",
     "collapsed": false,
     "input": [
      "function tableToOutput(dataTable, scalarTable)\n",
      "   local data, scalarLabels, labels\n",
      "   local quantity = #scalarTable\n",
      "   local size = #dataTable[1]\n",
      "   data = torch.Tensor(quantity, size)\n",
      "   scalarLabels = torch.LongTensor(quantity):fill(-1111)\n",
      "   for i=1,#dataTable do\n",
      "      for j=1,#dataTable[1] do\n",
      "         data[i][j] = dataTable[i][j]\n",
      "      end\n",
      "      scalarLabels[i] = scalarTable[i]\n",
      "   end\n",
      "   return data, scalarLabels\n",
      "end"
     ],
     "language": "python",
     "metadata": {},
     "outputs": [],
     "prompt_number": 17
    },
    {
     "cell_type": "markdown",
     "metadata": {},
     "source": [
      "### Convert input to data"
     ]
    },
    {
     "cell_type": "code",
     "collapsed": false,
     "input": [
      "function dataConvert(line)\n",
      "    if line == nil then\n",
      "        print('line is empty')\n",
      "    end\n",
      "    words = split(line, \",\")\n",
      "    data = {}\n",
      "    aa = split(words[1], ' ')[1]\n",
      "    table.insert(data, (tonumber(getDate(aa)) - 26) / 26) --1\n",
      "    table.insert(data, (getDate(words[12]) - 26) / 26) --12\n",
      "    table.insert(data, (getDate(words[13]) - 26) / 26) --13\n",
      "    \n",
      "    table.insert(data, getWeekday(aa))\n",
      "    table.insert(data, isIncludeWeekend(words[12], words[13]))\n",
      "    table.insert(data, getLengthStay(words[12], words[13]))\n",
      "    \n",
      "    if tonumber(words[7]) == nil then\n",
      "        table.insert(data, 0) -- distance\n",
      "    else\n",
      "        table.insert(data, (tonumber(words[7]) - distMean[7]) / distStd[7]) -- distance\n",
      "    end\n",
      "    table.insert(data, (tonumber(words[9]) - distMean[9]) / distStd[9])\n",
      "    table.insert(data, (tonumber(words[10]) - distMean[10]) / distStd[10])\n",
      "    table.insert(data, (tonumber(words[20]) - distMean[20]) / distStd[20])\n",
      "    table.insert(data, (tonumber(words[2]) - distMean[2]) / distStd[2])\n",
      "    table.insert(data, (tonumber(words[3]) - distMean[3]) / distStd[3])\n",
      "    table.insert(data, (tonumber(words[4]) - distMean[4]) / distStd[4])\n",
      "    table.insert(data, (tonumber(words[5]) - distMean[5]) / distStd[5])\n",
      "    table.insert(data, (tonumber(words[6]) - distMean[6]) / distStd[6])\n",
      "    table.insert(data, (tonumber(words[8]) - distMean[8]) / distStd[8])\n",
      "    table.insert(data, (tonumber(words[11]) - distMean[11]) / distStd[11])\n",
      "    table.insert(data, (tonumber(words[14]) - distMean[14]) / distStd[14])\n",
      "    table.insert(data, (tonumber(words[15]) - distMean[15]) / distStd[15])\n",
      "    table.insert(data, (tonumber(words[16]) - distMean[16]) / distStd[16])\n",
      "    table.insert(data, (tonumber(words[18]) - distMean[18]) / distStd[18])\n",
      "    table.insert(data, (tonumber(words[21]) - distMean[21]) / distStd[21])\n",
      "    table.insert(data, (tonumber(words[22]) - distMean[22]) / distStd[2])\n",
      "    table.insert(data, (tonumber(words[23]) - distMean[23]) / distStd[23])\n",
      "    \n",
      "    -- destination information (17)\n",
      "    addDestinationInfo(data, tonumber(words[17]))\n",
      "    \n",
      "    return data\n",
      "end"
     ],
     "language": "python",
     "metadata": {},
     "outputs": [],
     "prompt_number": 18
    },
    {
     "cell_type": "markdown",
     "metadata": {},
     "source": [
      "### Load Data"
     ]
    },
    {
     "cell_type": "code",
     "collapsed": false,
     "input": [
      "function loadData(quantity)\n",
      "    dataTable = {}\n",
      "    labTable = {}\n",
      "    for i=1,quantity do\n",
      "        local class = torch.random(0,99)\n",
      "        local fname = 'data/train/train_' .. string.format( \"%02d\", class ) .. '.csv'\n",
      "        file = io.open(fname, \"r\")\n",
      "        picked = torch.random(1,file:seek(\"end\")-200)\n",
      "        file:seek(\"set\", picked)\n",
      "        file:read()\n",
      "        table.insert(dataTable, dataConvert(file:read()))\n",
      "        table.insert(labTable, class+1)\n",
      "        io.close(file)\n",
      "    end\n",
      "    local data, label = tableToOutput(dataTable, labTable)\n",
      "    return data, label\n",
      "end"
     ],
     "language": "python",
     "metadata": {},
     "outputs": [],
     "prompt_number": 21
    },
    {
     "cell_type": "markdown",
     "metadata": {},
     "source": [
      "### Data normalize"
     ]
    },
    {
     "cell_type": "code",
     "collapsed": false,
     "input": [
      "distMean = {0, 0, 0, 0, 0, 0, 0, 0, 0, 0, 0, 0, 0, 0, 0, 0, 0, 0, 0, 0, 0, 0, 0}\n",
      "local distsum = {0, 0, 0, 0, 0, 0, 0, 0, 0, 0, 0, 0, 0, 0, 0, 0, 0, 0, 0, 0, 0, 0, 0}\n",
      "distStd = {1, 1, 1, 1, 1, 1, 1, 1, 1, 1, 1, 1, 1, 1, 1, 1, 1, 1, 1, 1, 1, 1, 1}\n",
      "data = loadData(1000)\n",
      "N = 0\n",
      "for i=1,1000 do \n",
      "    for j=1,23 do\n",
      "        if j~=1 and j~=12 and j~=13 and data[i][j]~=nil then\n",
      "            distsum[j] = distsum[j] + data[i][j]\n",
      "        end\n",
      "    end\n",
      "end\n",
      "for i=1,23 do\n",
      "    distMean[i] = distsum[i] / 1000\n",
      "end\n",
      "print(distsum)\n",
      "print(distMean)\n",
      "distMean = {0, 0, 0, 0, 0, 0, 0, 0, 0, 0, 0, 0, 0, 0, 0, 0, 0, 0, 0, 0, 0, 0, 0}\n",
      "for i=1,1000 do \n",
      "    for j=1,23 do\n",
      "        if j~=1 and j~=12 and j~=13 and data[i][j]~=nil then\n",
      "            distsum[j] = distsum[j] + (distMean[j] - data[i][j])*(distMean[j] - data[i][j])\n",
      "        end\n",
      "    end\n",
      "end\n",
      "for i=1,23 do\n",
      "    distStd[i] = math.sqrt(distsum[i] / 1000)\n",
      "end\n",
      "print(distStd)"
     ],
     "language": "python",
     "metadata": {},
     "outputs": [
      {
       "metadata": {},
       "output_type": "pyout",
       "prompt_number": 24,
       "text": [
        "{\n",
        "  1 : 0\n",
        "  2 : 94.846153846154\n",
        "  3 : 82.346153846154\n",
        "  4 : 3978\n",
        "  5 : 558\n",
        "  6 : 2662\n",
        "  7 : 2200450.4066\n",
        "  8 : 72\n",
        "  9 : 173\n",
        "  10 : 1011\n",
        "  11 : 6858\n",
        "  12 : 0\n",
        "  13 : 0\n",
        "  14 : 312416\n",
        "  15 : 28389486\n",
        "  16 : 604463450\n",
        "  17 : 6210\n",
        "  18 : 1844\n",
        "  19 : 279\n",
        "  20 : 1099\n",
        "  21 : 2700\n",
        "  22 : 3015\n",
        "  23 : 84031\n",
        "}\n",
        "{\n",
        "  1 : 0\n",
        "  2 : 0.094846153846154\n",
        "  3 : 0.082346153846154\n",
        "  4 : 3.978\n",
        "  5 : 0.558\n",
        "  6 : 2.662\n",
        "  7 : 2200.4504066\n",
        "  8 : 0.072\n",
        "  9 : 0.173\n",
        "  10 : 1.011\n",
        "  11 : 6.858\n",
        "  12 : 0\n",
        "  13 : 0\n",
        "  14 : 312.416\n",
        "  15 : 28389.486\n",
        "  16 : 604463.45\n",
        "  17 : 6.21\n",
        "  18 : 1.844\n",
        "  19 : 0.279\n",
        "  20 : 1.099\n",
        "  21 : 2.7\n",
        "  22 : 3.015\n",
        "  23 : 84.031\n",
        "}\n"
       ]
      },
      {
       "metadata": {},
       "output_type": "pyout",
       "prompt_number": 24,
       "text": [
        "{\n",
        "  1 : 0\n",
        "  2 : 0.64119202968761\n",
        "  3 : 0.63188339685336\n",
        "  4 : 4.8064539943705\n",
        "  5 : 1.0564090116995\n",
        "  6 : 3.8152326272457\n",
        "  7 : 3366.0700402627\n",
        "  8 : 0.37947331922021\n",
        "  9 : 0.58821764679411\n",
        "  10 : 1.4303845636751\n",
        "  11 : 12.098346994528\n",
        "  12 : 0\n"
       ]
      },
      {
       "metadata": {},
       "output_type": "pyout",
       "prompt_number": 24,
       "text": [
        "  13 : 0\n",
        "  14 : 347.222496391\n",
        "  15 : 32934.929695325\n",
        "  16 : 695941.41049531\n",
        "  17 : 7.5906521458963\n",
        "  18 : 2.4449948875202\n",
        "  19 : 0.94762861923857\n",
        "  20 : 1.5728954192825\n",
        "  21 : 3.8410935942775\n",
        "  22 : 3.8173289090672\n",
        "  23 : 103.48114804156\n",
        "}\n"
       ]
      }
     ],
     "prompt_number": 24
    },
    {
     "cell_type": "markdown",
     "metadata": {},
     "source": [
      "### Convert input to data"
     ]
    },
    {
     "cell_type": "code",
     "collapsed": false,
     "input": [
      "function dataConvert(line)\n",
      "    if line == nil then\n",
      "        print('line is empty')\n",
      "    end\n",
      "    words = split(line, \",\")\n",
      "    data = {}\n",
      "    aa = split(words[1], ' ')[1]\n",
      "    table.insert(data, (tonumber(getDate(aa)) - 26) / 26) --1\n",
      "    table.insert(data, (getDate(words[12]) - 26) / 26) --12\n",
      "    table.insert(data, (getDate(words[13]) - 26) / 26) --13\n",
      "    \n",
      "    table.insert(data, getWeekday(aa))\n",
      "    table.insert(data, isIncludeWeekend(words[12], words[13]))\n",
      "    table.insert(data, getLengthStay(words[12], words[13]))\n",
      "    \n",
      "    if tonumber(words[7]) == nil then\n",
      "        table.insert(data, 0) -- distance\n",
      "    else\n",
      "        table.insert(data, (tonumber(words[7]) - distMean[7]) / distStd[7]) -- distance\n",
      "    end\n",
      "    table.insert(data, (tonumber(words[9]) - distMean[9]) / distStd[9])\n",
      "    table.insert(data, (tonumber(words[10]) - distMean[10]) / distStd[10])\n",
      "    table.insert(data, (tonumber(words[20]) - distMean[20]) / distStd[20])\n",
      "    table.insert(data, (tonumber(words[2]) - distMean[2]) / distStd[2])\n",
      "    table.insert(data, (tonumber(words[3]) - distMean[3]) / distStd[3])\n",
      "    table.insert(data, (tonumber(words[4]) - distMean[4]) / distStd[4])\n",
      "    table.insert(data, (tonumber(words[5]) - distMean[5]) / distStd[5])\n",
      "    table.insert(data, (tonumber(words[6]) - distMean[6]) / distStd[6])\n",
      "    table.insert(data, (tonumber(words[8]) - distMean[8]) / distStd[8])\n",
      "    table.insert(data, (tonumber(words[11]) - distMean[11]) / distStd[11])\n",
      "    table.insert(data, (tonumber(words[14]) - distMean[14]) / distStd[14])\n",
      "    table.insert(data, (tonumber(words[15]) - distMean[15]) / distStd[15])\n",
      "    table.insert(data, (tonumber(words[16]) - distMean[16]) / distStd[16])\n",
      "    table.insert(data, (tonumber(words[18]) - distMean[18]) / distStd[18])\n",
      "    table.insert(data, (tonumber(words[21]) - distMean[21]) / distStd[21])\n",
      "    table.insert(data, (tonumber(words[22]) - distMean[22]) / distStd[2])\n",
      "    table.insert(data, (tonumber(words[23]) - distMean[23]) / distStd[23])\n",
      "    \n",
      "    -- destination information (17)\n",
      "    addDestinationInfo(data, tonumber(words[17]))\n",
      "    \n",
      "    return data\n",
      "end"
     ],
     "language": "python",
     "metadata": {},
     "outputs": [],
     "prompt_number": 25
    },
    {
     "cell_type": "code",
     "collapsed": false,
     "input": [
      "function testdataConvert(line)\n",
      "    if line == nil then\n",
      "        print('line is empty')\n",
      "    end\n",
      "    words = split(line, \",\")\n",
      "    data = {}\n",
      "    aa = split(words[2], ' ')[1]\n",
      "    table.insert(data, (tonumber(getDate(aa)) - 26) / 26) --1\n",
      "    table.insert(data, (getDate(words[13]) - 26) / 26) --12\n",
      "    table.insert(data, (getDate(words[14]) - 26) / 26) --13\n",
      "    \n",
      "    table.insert(data, getWeekday(aa))\n",
      "    table.insert(data, isIncludeWeekend(words[13], words[14]))\n",
      "    table.insert(data, getLengthStay(words[13], words[14]))\n",
      "    \n",
      "    if tonumber(words[8]) == nil then\n",
      "        table.insert(data, 0) -- distance\n",
      "    else\n",
      "        table.insert(data, (tonumber(words[8]) - distMean[7]) / distStd[7]) -- distance\n",
      "    end\n",
      "    table.insert(data, (tonumber(words[10]) - distMean[9]) / distStd[9])\n",
      "    table.insert(data, (tonumber(words[11]) - distMean[10]) / distStd[10])\n",
      "    table.insert(data, (1 - distMean[20]) / distStd[20])\n",
      "    table.insert(data, (tonumber(words[3]) - distMean[2]) / distStd[2])\n",
      "    table.insert(data, (tonumber(words[4]) - distMean[3]) / distStd[3])\n",
      "    table.insert(data, (tonumber(words[5]) - distMean[4]) / distStd[4])\n",
      "    table.insert(data, (tonumber(words[6]) - distMean[5]) / distStd[5])\n",
      "    table.insert(data, (tonumber(words[7]) - distMean[6]) / distStd[6])\n",
      "    table.insert(data, (tonumber(words[9]) - distMean[8]) / distStd[8])\n",
      "    table.insert(data, (tonumber(words[12]) - distMean[11]) / distStd[11])\n",
      "    table.insert(data, (tonumber(words[15]) - distMean[14]) / distStd[14])\n",
      "    table.insert(data, (tonumber(words[16]) - distMean[15]) / distStd[15])\n",
      "    table.insert(data, (tonumber(words[17]) - distMean[16]) / distStd[16])\n",
      "    table.insert(data, (tonumber(words[19]) - distMean[18]) / distStd[18])\n",
      "    table.insert(data, (tonumber(words[20]) - distMean[21]) / distStd[21])\n",
      "    table.insert(data, (tonumber(words[21]) - distMean[22]) / distStd[22])\n",
      "    table.insert(data, (tonumber(words[22]) - distMean[23]) / distStd[23])\n",
      "    \n",
      "    -- destination information (17)\n",
      "    addDestinationInfo(data, tonumber(words[18]))\n",
      "    \n",
      "    return data\n",
      "end"
     ],
     "language": "python",
     "metadata": {},
     "outputs": [],
     "prompt_number": 27
    },
    {
     "cell_type": "markdown",
     "metadata": {},
     "source": [
      "### Build model"
     ]
    },
    {
     "cell_type": "code",
     "collapsed": false,
     "input": [
      "model = nn.Sequential()\n",
      "-- for onehot inputsize: 3871\n",
      "model:add(nn.Linear(173, 1024))\n",
      "model:add(nn.Threshold(0, 1e-6))\n",
      "model:add(nn.ReLU())\n",
      "model:add(nn.Linear(1024, 256))\n",
      "model:add(nn.Threshold(0, 1e-6))\n",
      "model:add(nn.ReLU())\n",
      "model:add(nn.Linear(256, 100))\n",
      "model:add(nn.Sigmoid())\n",
      "model = model:cuda()\n",
      "\n",
      "params, grad_params = model:getParameters()\n",
      "crit = nn.CrossEntropyCriterion()\n",
      "crit = crit:cuda()"
     ],
     "language": "python",
     "metadata": {},
     "outputs": [],
     "prompt_number": 28
    },
    {
     "cell_type": "markdown",
     "metadata": {},
     "source": [
      "model = nn.Sequential()\n",
      "-- for onehot inputsize: 3871\n",
      "model:add(nn.Linear(252, 1024))\n",
      "model:add(nn.Sigmoid())\n",
      "model:add(nn.Linear(1024, 2048))\n",
      "model:add(nn.Sigmoid())\n",
      "model:add(nn.Linear(2048, 4096))\n",
      "model:add(nn.Sigmoid())\n",
      "model:add(nn.Linear(4096, 100))\n",
      "model = model:cuda()\n",
      "\n",
      "params, grad_params = model:getParameters()\n",
      "crit = nn.CrossEntropyCriterion()\n",
      "crit = crit:cuda()"
     ]
    },
    {
     "cell_type": "markdown",
     "metadata": {},
     "source": [
      "### Print"
     ]
    },
    {
     "cell_type": "code",
     "collapsed": false,
     "input": [
      "function PrintCM(idx)\n",
      "  local loss = 0\n",
      "  local top1 = 0\n",
      "  model:evaluate()\n",
      "  local x, y = loadData(1000)\n",
      "  x = x:cuda()\n",
      "  y = y:cuda()\n",
      "  local N = y:size(1)\n",
      "  local scores = model:forward(x)\n",
      "  loss = loss + crit:forward(scores, y)\n",
      "\n",
      "  local pred = scores:float()\n",
      "  local _, pred_sorted = pred:sort(2, true)\n",
      "\n",
      "  for i=1,N do\n",
      "    for j=1,5 do\n",
      "        if pred_sorted[i][j] == y[i] then\n",
      "          top1 = top1 + (1/j)\n",
      "        end\n",
      "    end\n",
      "  end\n",
      "  print(\"idx: \" .. idx, \"loss: \" .. loss, \"train score: \" .. top1 * 100 / N, 'label: ' .. y[1],\n",
      "        'prediction: [1]' .. pred_sorted[1][1] .. ' [2]' .. pred_sorted[1][2] .. ' [3]' .. pred_sorted[1][3] .. ' [4]' .. pred_sorted[1][4] .. ' [5]' .. pred_sorted[1][5])\n",
      "end"
     ],
     "language": "python",
     "metadata": {},
     "outputs": [],
     "prompt_number": 29
    },
    {
     "cell_type": "markdown",
     "metadata": {},
     "source": [
      "### Check Size"
     ]
    },
    {
     "cell_type": "code",
     "collapsed": false,
     "input": [
      "local x,y = loadData(2)\n",
      "print(x:size())"
     ],
     "language": "python",
     "metadata": {},
     "outputs": [],
     "prompt_number": 30
    },
    {
     "cell_type": "markdown",
     "metadata": {},
     "source": [
      "### Training"
     ]
    },
    {
     "cell_type": "code",
     "collapsed": false,
     "input": [
      "require 'optim';"
     ],
     "language": "python",
     "metadata": {},
     "outputs": [],
     "prompt_number": 31
    },
    {
     "cell_type": "code",
     "collapsed": false,
     "input": [
      "opt = {}\n",
      "batch_size = 10000\n",
      "train_size = 3000000\n",
      "max_epoch = 100\n",
      "opt.learningRate = 1e-2\n",
      "opt.lr_decay_factor = 0.5\n",
      "opt.lr_decay_every = 5 * train_size / batch_size\n",
      "opt.print_every = 5\n",
      "evaluate_every = 10 * train_size / batch_size\n",
      "optim_config = {learningRate = opt.learningRate}\n",
      "num_iterations = max_epoch * train_size / batch_size\n",
      "epoch = 1"
     ],
     "language": "python",
     "metadata": {},
     "outputs": [],
     "prompt_number": 32
    },
    {
     "cell_type": "code",
     "collapsed": false,
     "input": [
      "opt.learningRate = 1e-2\n",
      "opt.print_every = 5\n",
      "num_iterations = 11 * train_size / batch_size"
     ],
     "language": "python",
     "metadata": {},
     "outputs": [],
     "prompt_number": 39
    },
    {
     "cell_type": "code",
     "collapsed": false,
     "input": [
      "-- Loss function that we pass to an optim method\n",
      "function f(w)\n",
      "  assert(w == params)\n",
      "  grad_params:zero()\n",
      "\n",
      "  --local x, y = loader:nextBatch('train')\n",
      "  local x, y = loadData(batch_size)\n",
      "  \n",
      "  x = x:cuda()\n",
      "  y = y:cuda()\n",
      "  local scores = model:forward(x)\n",
      "  local loss = crit:forward(scores, y)\n",
      "  local grad_scores = crit:backward(scores, y)\n",
      "  model:backward(x, grad_scores)\n",
      "\n",
      "  grad_params:clamp(-5, 5)\n",
      "\n",
      "  return loss, grad_params\n",
      "end"
     ],
     "language": "python",
     "metadata": {},
     "outputs": [],
     "prompt_number": 34
    },
    {
     "cell_type": "code",
     "collapsed": false,
     "input": [
      "model:training()"
     ],
     "language": "python",
     "metadata": {},
     "outputs": [
      {
       "metadata": {},
       "output_type": "pyout",
       "prompt_number": 35,
       "text": [
        "\n"
       ]
      }
     ],
     "prompt_number": 35
    },
    {
     "cell_type": "code",
     "collapsed": false,
     "input": [
      "function saveModel(e)\n",
      "    local filename = string.format(\"model/model_%02d.t7\", e)\n",
      "    model:clearState()\n",
      "    model:float()\n",
      "    torch.save(filename, model)\n",
      "    model:cuda()\n",
      "end"
     ],
     "language": "python",
     "metadata": {},
     "outputs": [],
     "prompt_number": 36
    },
    {
     "cell_type": "code",
     "collapsed": false,
     "input": [
      "function make_submission(idx)\n",
      "    model:evaluate()\n",
      "    testname = 'data/test.csv'\n",
      "    submission_name = string.format(\"data/submission_%02d.csv\", idx)\n",
      "    submission_file = io.open(submission_name, 'w')\n",
      "    head = 1\n",
      "    idx = 0\n",
      "    submission_file:write(\"id,hotel_cluster\\n\")\n",
      "    for line in io.lines ( testname ) do\n",
      "        if head == 1 then\n",
      "            head = 0\n",
      "        else\n",
      "            testdata = testdataConvert(line)\n",
      "            words = split(line, ',')\n",
      "            if tonumber(words[1]) ~= idx then\n",
      "                print('words:' .. words[1] .. ', idx:' .. idx)            \n",
      "                idx = words[1]\n",
      "            end\n",
      "            tx, _ = tableToOutput({testdata}, {1})\n",
      "            local outputs = model:forward(tx:cuda())\n",
      "            local _, ps = outputs:float():sort(2, true)\n",
      "            submission_file:write(idx .. ',' .. ps[1][1]-1 .. ' ' .. ps[1][2]-1 .. ' ' .. ps[1][3]-1 .. ' ' .. ps[1][4]-1 .. ' ' .. ps[1][5]-1 .. '\\n')\n",
      "            idx = idx + 1\n",
      "        end\n",
      "    end\n",
      "    io.close(submission_file)\n",
      "end"
     ],
     "language": "python",
     "metadata": {},
     "outputs": [],
     "prompt_number": 37
    },
    {
     "cell_type": "code",
     "collapsed": false,
     "input": [
      "for i = 0, num_iterations do\n",
      "    if i ~= 0 and i % opt.lr_decay_every == 0 then\n",
      "        old_lr = opt.learningRate\n",
      "        opt.learningRate = opt.learningRate * opt.lr_decay_factor\n",
      "        optim_config = {learningRate = old_lr * opt.lr_decay_factor}\n",
      "        saveModel(epoch)\n",
      "        epoch = epoch + 1\n",
      "        print('current LR: ' .. opt.learningRate)\n",
      "    end\n",
      "    \n",
      "    local _, loss = optim.adam(f, params, optim_config)\n",
      "    if i % opt.print_every == 0 then\n",
      "        model:evaluate()\n",
      "        PrintCM(i)\n",
      "        model:training()\n",
      "    end\n",
      "    \n",
      "    if i ~= 0 and i % evaluate_every == 0 then\n",
      "        make_submission(i)\n",
      "    end\n",
      "end"
     ],
     "language": "python",
     "metadata": {},
     "outputs": [
      {
       "metadata": {},
       "output_type": "pyout",
       "prompt_number": 40,
       "text": [
        "idx: 0\tloss: 4.6622905731201\ttrain score: 2.1583333333333\tlabel: 98\tprediction: [1]69 [2]68 [3]18 [4]64 [5]35\t\n"
       ]
      },
      {
       "metadata": {},
       "output_type": "pyout",
       "prompt_number": 40,
       "text": [
        "idx: 5\tloss: 4.6602902412415\ttrain score: 1.83\tlabel: 23\tprediction: [1]69 [2]68 [3]18 [4]64 [5]35\t\n"
       ]
      },
      {
       "metadata": {},
       "output_type": "pyout",
       "prompt_number": 40,
       "text": [
        "idx: 10\tloss: 4.6732902526855\ttrain score: 2.015\tlabel: 57\tprediction: [1]69 [2]68 [3]18 [4]64 [5]35\t\n"
       ]
      },
      {
       "metadata": {},
       "output_type": "pyout",
       "prompt_number": 40,
       "text": [
        "idx: 15\tloss: 4.6652898788452\ttrain score: 2.6766666666667\tlabel: 86\tprediction: [1]69 [2]68 [3]18 [4]64 [5]35\t\n"
       ]
      },
      {
       "metadata": {},
       "output_type": "pyout",
       "prompt_number": 40,
       "text": [
        "idx: 20\tloss: 4.6622905731201\ttrain score: 2.005\tlabel: 38\tprediction: [1]69 [2]68 [3]18 [4]64 [5]35\t\n"
       ]
      },
      {
       "metadata": {},
       "output_type": "pyout",
       "prompt_number": 40,
       "text": [
        "idx: 25\tloss: 4.666289806366\ttrain score: 1.945\tlabel: 8\tprediction: [1]69 [2]68 [3]18 [4]64 [5]35\t\n"
       ]
      },
      {
       "metadata": {},
       "output_type": "pyout",
       "prompt_number": 40,
       "text": [
        "idx: 30\tloss: 4.6892900466919\ttrain score: 1.5616666666667\tlabel: 39\tprediction: [1]69 [2]68 [3]18 [4]64 [5]35\t\n"
       ]
      },
      {
       "metadata": {},
       "output_type": "pyout",
       "prompt_number": 40,
       "text": [
        "idx: 35\tloss: 4.6602902412415\ttrain score: 2.3233333333333\tlabel: 20\tprediction: [1]69 [2]68 [3]18 [4]64 [5]35\t\n"
       ]
      },
      {
       "metadata": {},
       "output_type": "pyout",
       "prompt_number": 40,
       "text": [
        "idx: 40\tloss: 4.6762900352478\ttrain score: 1.5833333333333\tlabel: 38\tprediction: [1]69 [2]68 [3]18 [4]64 [5]35\t\n"
       ]
      },
      {
       "metadata": {},
       "output_type": "pyout",
       "prompt_number": 40,
       "text": [
        "idx: 45\tloss: 4.6722898483276\ttrain score: 2.3833333333333\tlabel: 82\tprediction: [1]69 [2]68 [3]18 [4]64 [5]35\t\n"
       ]
      },
      {
       "metadata": {},
       "output_type": "pyout",
       "prompt_number": 40,
       "text": [
        "idx: 50\tloss: 4.676290512085\ttrain score: 2.0716666666667\tlabel: 29\tprediction: [1]69 [2]68 [3]18 [4]64 [5]35\t\n"
       ]
      },
      {
       "metadata": {},
       "output_type": "pyout",
       "prompt_number": 40,
       "text": [
        "idx: 55\tloss: 4.6712899208069\ttrain score: 2.0666666666667\tlabel: 71\tprediction: [1]69 [2]68 [3]18 [4]64 [5]35\t\n"
       ]
      },
      {
       "metadata": {},
       "output_type": "pyout",
       "prompt_number": 40,
       "text": [
        "idx: 60\tloss: 4.680290222168\ttrain score: 1.9266666666667\tlabel: 47\tprediction: [1]69 [2]68 [3]18 [4]64 [5]35\t\n"
       ]
      },
      {
       "metadata": {},
       "output_type": "pyout",
       "prompt_number": 40,
       "text": [
        "idx: 65\tloss: 4.6622905731201\ttrain score: 2.3566666666667\tlabel: 28\tprediction: [1]69 [2]68 [3]18 [4]64 [5]35\t\n"
       ]
      },
      {
       "metadata": {},
       "output_type": "pyout",
       "prompt_number": 40,
       "text": [
        "idx: 70\tloss: 4.6632900238037\ttrain score: 2.4033333333333\tlabel: 67\tprediction: [1]69 [2]68 [3]18 [4]64 [5]35\t\n"
       ]
      },
      {
       "metadata": {},
       "output_type": "pyout",
       "prompt_number": 40,
       "text": [
        "idx: 75\tloss: 4.6852898597717\ttrain score: 1.8183333333333\tlabel: 33\tprediction: [1]69 [2]68 [3]18 [4]64 [5]35\t\n"
       ]
      },
      {
       "metadata": {},
       "output_type": "pyout",
       "prompt_number": 40,
       "text": [
        "idx: 80\tloss: 4.6652898788452\ttrain score: 2.73\tlabel: 16\tprediction: [1]69 [2]68 [3]18 [4]64 [5]35\t\n"
       ]
      },
      {
       "metadata": {},
       "output_type": "pyout",
       "prompt_number": 40,
       "text": [
        "idx: 85\tloss: 4.6552901268005\ttrain score: 3.0316666666667\tlabel: 45\tprediction: [1]69 [2]68 [3]18 [4]64 [5]35\t\n"
       ]
      },
      {
       "metadata": {},
       "output_type": "pyout",
       "prompt_number": 40,
       "text": [
        "idx: 90\tloss: 4.653290271759\ttrain score: 2.315\tlabel: 21\tprediction: [1]69 [2]68 [3]18 [4]64 [5]35\t\n"
       ]
      },
      {
       "metadata": {},
       "output_type": "pyout",
       "prompt_number": 40,
       "text": [
        "idx: 95\tloss: 4.6702904701233\ttrain score: 2.46\tlabel: 1\tprediction: [1]69 [2]68 [3]18 [4]64 [5]35\t\n"
       ]
      },
      {
       "metadata": {},
       "output_type": "pyout",
       "prompt_number": 40,
       "text": [
        "idx: 100\tloss: 4.662290096283\ttrain score: 2.1216666666667\tlabel: 85\tprediction: [1]69 [2]68 [3]18 [4]64 [5]35\t\n"
       ]
      },
      {
       "metadata": {},
       "output_type": "pyout",
       "prompt_number": 40,
       "text": [
        "idx: 105\tloss: 4.666289806366\ttrain score: 2.645\tlabel: 15\tprediction: [1]69 [2]68 [3]18 [4]64 [5]35\t\n"
       ]
      },
      {
       "metadata": {},
       "output_type": "pyout",
       "prompt_number": 40,
       "text": [
        "idx: 110\tloss: 4.6732902526855\ttrain score: 2.5266666666667\tlabel: 60\tprediction: [1]69 [2]68 [3]18 [4]64 [5]35\t\n"
       ]
      },
      {
       "metadata": {},
       "output_type": "pyout",
       "prompt_number": 40,
       "text": [
        "idx: 115\tloss: 4.6582899093628\ttrain score: 2.285\tlabel: 6\tprediction: [1]69 [2]68 [3]18 [4]64 [5]35\t\n"
       ]
      },
      {
       "metadata": {},
       "output_type": "pyout",
       "prompt_number": 40,
       "text": [
        "idx: 120\tloss: 4.666289806366\ttrain score: 2.1016666666667\tlabel: 21\tprediction: [1]69 [2]68 [3]18 [4]64 [5]35\t\n"
       ]
      },
      {
       "metadata": {},
       "output_type": "pyout",
       "prompt_number": 40,
       "text": [
        "idx: 125\tloss: 4.6772899627686\ttrain score: 1.9383333333333\tlabel: 25\tprediction: [1]69 [2]68 [3]18 [4]64 [5]35\t\n"
       ]
      },
      {
       "metadata": {},
       "output_type": "pyout",
       "prompt_number": 40,
       "text": [
        "idx: 130\tloss: 4.6462898254395\ttrain score: 3.2116666666667\tlabel: 38\tprediction: [1]69 [2]68 [3]18 [4]64 [5]35\t\n"
       ]
      },
      {
       "metadata": {},
       "output_type": "pyout",
       "prompt_number": 40,
       "text": [
        "idx: 135\tloss: 4.6682901382446\ttrain score: 2.3233333333333\tlabel: 75\tprediction: [1]69 [2]68 [3]18 [4]64 [5]35\t\n"
       ]
      },
      {
       "metadata": {},
       "output_type": "pyout",
       "prompt_number": 40,
       "text": [
        "idx: 140\tloss: 4.662290096283\ttrain score: 1.88\tlabel: 26\tprediction: [1]69 [2]68 [3]18 [4]64 [5]35\t\n"
       ]
      },
      {
       "metadata": {},
       "output_type": "pyout",
       "prompt_number": 40,
       "text": [
        "idx: 145\tloss: 4.6482901573181\ttrain score: 2.9016666666667\tlabel: 85\tprediction: [1]69 [2]68 [3]18 [4]64 [5]35\t\n"
       ]
      },
      {
       "metadata": {},
       "output_type": "pyout",
       "prompt_number": 40,
       "text": [
        "idx: 150\tloss: 4.6792898178101\ttrain score: 1.9083333333333\tlabel: 51\tprediction: [1]69 [2]68 [3]18 [4]64 [5]35\t\n"
       ]
      },
      {
       "metadata": {},
       "output_type": "pyout",
       "prompt_number": 40,
       "text": [
        "idx: 155\tloss: 4.6672902107239\ttrain score: 2.09\tlabel: 85\tprediction: [1]69 [2]68 [3]18 [4]64 [5]35\t\n"
       ]
      },
      {
       "metadata": {},
       "output_type": "pyout",
       "prompt_number": 40,
       "text": [
        "idx: 160\tloss: 4.6732902526855\ttrain score: 1.9033333333333\tlabel: 50\tprediction: [1]69 [2]68 [3]18 [4]64 [5]35\t\n"
       ]
      },
      {
       "metadata": {},
       "output_type": "pyout",
       "prompt_number": 40,
       "text": [
        "idx: 165\tloss: 4.6652903556824\ttrain score: 2.205\tlabel: 31\tprediction: [1]69 [2]68 [3]18 [4]64 [5]35\t\n"
       ]
      },
      {
       "metadata": {},
       "output_type": "pyout",
       "prompt_number": 40,
       "text": [
        "idx: 170\tloss: 4.6772899627686\ttrain score: 2.0783333333333\tlabel: 27\tprediction: [1]69 [2]68 [3]18 [4]64 [5]35\t\n"
       ]
      },
      {
       "metadata": {},
       "output_type": "pyout",
       "prompt_number": 40,
       "text": [
        "idx: 175\tloss: 4.6832900047302\ttrain score: 1.6166666666667\t"
       ]
      },
      {
       "metadata": {},
       "output_type": "pyout",
       "prompt_number": 40,
       "text": [
        "label: 23\tprediction: [1]69 [2]68 [3]18 [4]64 [5]35\t\n"
       ]
      },
      {
       "metadata": {},
       "output_type": "pyout",
       "prompt_number": 40,
       "text": [
        "idx: 180\tloss: 4.684289932251\ttrain score: 2.3216666666667\tlabel: 52\tprediction: [1]69 [2]68 [3]18 [4]64 [5]35\t\n"
       ]
      },
      {
       "metadata": {},
       "output_type": "pyout",
       "prompt_number": 40,
       "text": [
        "idx: 185\tloss: 4.684289932251\ttrain score: 1.88\tlabel: 5\tprediction: [1]69 [2]68 [3]18 [4]64 [5]35\t\n"
       ]
      },
      {
       "metadata": {},
       "output_type": "pyout",
       "prompt_number": 40,
       "text": [
        "idx: 190\tloss: 4.6632900238037\ttrain score: 2.3816666666667\tlabel: 64\tprediction: [1]69 [2]68 [3]18 [4]64 [5]35\t\n"
       ]
      },
      {
       "metadata": {},
       "output_type": "pyout",
       "prompt_number": 40,
       "text": [
        "idx: 195\tloss: 4.6722898483276\ttrain score: 2.035\tlabel: 24\tprediction: [1]69 [2]68 [3]18 [4]64 [5]35\t\n"
       ]
      },
      {
       "metadata": {},
       "output_type": "pyout",
       "prompt_number": 40,
       "text": [
        "idx: 200\tloss: 4.666289806366\ttrain score: 2.245\tlabel: 49\tprediction: [1]69 [2]68 [3]18 [4]64 [5]35\t\n"
       ]
      },
      {
       "metadata": {},
       "output_type": "pyout",
       "prompt_number": 40,
       "text": [
        "idx: 205\tloss: 4.6762900352478\ttrain score: 2.0983333333333\tlabel: 59\tprediction: [1]69 [2]68 [3]18 [4]64 [5]35\t\n"
       ]
      },
      {
       "metadata": {},
       "output_type": "pyout",
       "prompt_number": 40,
       "text": [
        "idx: 210\tloss: 4.6552901268005\ttrain score: 2.315\tlabel: 96\tprediction: [1]69 [2]68 [3]18 [4]64 [5]35\t\n"
       ]
      },
      {
       "metadata": {},
       "output_type": "pyout",
       "prompt_number": 40,
       "text": [
        "idx: 215\tloss: 4.6792898178101\ttrain score: 1.7916666666667\tlabel: 32\tprediction: [1]69 [2]68 [3]18 [4]64 [5]35\t\n"
       ]
      },
      {
       "metadata": {},
       "output_type": "pyout",
       "prompt_number": 40,
       "text": [
        "idx: 220\tloss: 4.6692900657654\ttrain score: 2.8133333333333\tlabel: 5\tprediction: [1]69 [2]68 [3]18 [4]64 [5]35\t\n"
       ]
      },
      {
       "metadata": {},
       "output_type": "pyout",
       "prompt_number": 40,
       "text": [
        "idx: 225\tloss: 4.662290096283\ttrain score: 2.365\tlabel: 72\tprediction: [1]69 [2]68 [3]18 [4]64 [5]35\t\n"
       ]
      },
      {
       "metadata": {},
       "output_type": "pyout",
       "prompt_number": 40,
       "text": [
        "idx: 230\tloss: 4.6742901802063\ttrain score: 1.9083333333333\tlabel: 54\tprediction: [1]69 [2]68 [3]18 [4]64 [5]35\t\n"
       ]
      },
      {
       "metadata": {},
       "output_type": "pyout",
       "prompt_number": 40,
       "text": [
        "idx: 235\tloss: 4.6582903862\ttrain score: 2.165\tlabel: 91\tprediction: [1]69 [2]68 [3]18 [4]64 [5]35\t\n"
       ]
      },
      {
       "metadata": {},
       "output_type": "pyout",
       "prompt_number": 40,
       "text": [
        "idx: 240\tloss: 4.6742901802063\ttrain score: 2.4083333333333\tlabel: 95\tprediction: [1]69 [2]68 [3]18 [4]64 [5]35\t\n"
       ]
      },
      {
       "metadata": {},
       "output_type": "pyout",
       "prompt_number": 40,
       "text": [
        "idx: 245\tloss: 4.6762900352478\ttrain score: 2.2816666666667\tlabel: 91\tprediction: [1]69 [2]68 [3]18 [4]64 [5]35\t\n"
       ]
      },
      {
       "metadata": {},
       "output_type": "pyout",
       "prompt_number": 40,
       "text": [
        "idx: 250\tloss: 4.6872901916504\ttrain score: 1.5816666666667\tlabel: 68\tprediction: [1]69 [2]68 [3]18 [4]64 [5]35\t\n"
       ]
      },
      {
       "metadata": {},
       "output_type": "pyout",
       "prompt_number": 40,
       "text": [
        "idx: 255\tloss: 4.6612901687622\ttrain score: 1.8583333333333\tlabel: 71\tprediction: [1]69 [2]68 [3]18 [4]64 [5]35\t\n"
       ]
      },
      {
       "metadata": {},
       "output_type": "pyout",
       "prompt_number": 40,
       "text": [
        "idx: 260\tloss: 4.6602902412415\ttrain score: 2.5616666666667\tlabel: 99\tprediction: [1]69 [2]68 [3]18 [4]64 [5]35\t\n"
       ]
      },
      {
       "metadata": {},
       "output_type": "pyout",
       "prompt_number": 40,
       "text": [
        "idx: 265\tloss: 4.6662907600403\ttrain score: 1.995\tlabel: 88\tprediction: [1]69 [2]68 [3]18 [4]64 [5]35\t"
       ]
      },
      {
       "metadata": {},
       "output_type": "pyout",
       "prompt_number": 40,
       "text": [
        "\n"
       ]
      },
      {
       "metadata": {},
       "output_type": "pyout",
       "prompt_number": 40,
       "text": [
        "idx: 270\tloss: 4.680290222168\ttrain score: 1.4416666666667\tlabel: 28\tprediction: [1]69 [2]68 [3]18 [4]64 [5]35\t\n"
       ]
      },
      {
       "metadata": {},
       "output_type": "pyout",
       "prompt_number": 40,
       "text": [
        "idx: 275\tloss: 4.6732902526855\ttrain score: 2.1366666666667\tlabel: 63\tprediction: [1]69 [2]68 [3]18 [4]64 [5]35\t\n"
       ]
      },
      {
       "metadata": {},
       "output_type": "pyout",
       "prompt_number": 40,
       "text": [
        "idx: 280\tloss: 4.6552901268005\ttrain score: 2.1866666666667\tlabel: 78\tprediction: [1]69 [2]68 [3]18 [4]64 [5]35\t\n"
       ]
      },
      {
       "metadata": {},
       "output_type": "pyout",
       "prompt_number": 40,
       "text": [
        "idx: 285\tloss: 4.6752901077271\ttrain score: 1.835\tlabel: 86\tprediction: [1]69 [2]68 [3]18 [4]64 [5]35\t\n"
       ]
      },
      {
       "metadata": {},
       "output_type": "pyout",
       "prompt_number": 40,
       "text": [
        "idx: 290\tloss: 4.6522898674011\ttrain score: 2.9033333333333\tlabel: 86\tprediction: [1]69 [2]68 [3]18 [4]64 [5]35\t\n"
       ]
      },
      {
       "metadata": {},
       "output_type": "pyout",
       "prompt_number": 40,
       "text": [
        "idx: 295\tloss: 4.6732907295227\ttrain score: 2.47\tlabel: 57\tprediction: [1]69 [2]68 [3]18 [4]64 [5]35\t\n"
       ]
      },
      {
       "metadata": {},
       "output_type": "pyout",
       "prompt_number": 40,
       "text": [
        "idx: 300\t"
       ]
      },
      {
       "metadata": {},
       "output_type": "pyout",
       "prompt_number": 40,
       "text": [
        "loss: 4.6612906455994\ttrain score: 2.0633333333333\tlabel: 97\tprediction: [1]69 [2]68 [3]18 [4]64 [5]35\t\n"
       ]
      },
      {
       "metadata": {},
       "output_type": "pyout",
       "prompt_number": 40,
       "text": [
        "idx: 305\tloss: 4.6642899513245\ttrain score: 2.3116666666667\tlabel: 63\tprediction: [1]69 [2]68 [3]18 [4]64 [5]35\t\n"
       ]
      },
      {
       "metadata": {},
       "output_type": "pyout",
       "prompt_number": 40,
       "text": [
        "idx: 310\t"
       ]
      },
      {
       "metadata": {},
       "output_type": "pyout",
       "prompt_number": 40,
       "text": [
        "loss: 4.662290096283\ttrain score: 1.9516666666667\tlabel: 14\tprediction: [1]69 [2]68 [3]18 [4]64 [5]35\t\n"
       ]
      },
      {
       "metadata": {},
       "output_type": "pyout",
       "prompt_number": 40,
       "text": [
        "idx: 315\tloss: 4.6742901802063\ttrain score: 2.1966666666667\tlabel: 38\tprediction: [1]69 [2]68 [3]18 [4]64 [5]35\t\n"
       ]
      },
      {
       "metadata": {},
       "output_type": "pyout",
       "prompt_number": 40,
       "text": [
        "idx: 320\tloss: 4.6562905311584\ttrain score: 2.2183333333333\tlabel: 60\tprediction: [1]69 [2]68 [3]18 [4]64 [5]35\t\n"
       ]
      },
      {
       "metadata": {},
       "output_type": "pyout",
       "prompt_number": 40,
       "text": [
        "idx: 325\tloss: 4.6822900772095\ttrain score: 1.7333333333333\tlabel: 5\tprediction: [1]69 [2]68 [3]18 [4]64 [5]35\t\n"
       ]
      },
      {
       "metadata": {},
       "output_type": "pyout",
       "prompt_number": 40,
       "text": [
        "idx: 330\tloss: 4.671290397644\ttrain score: 2.2766666666667\tlabel: 64\tprediction: [1]69 [2]68 [3]18 [4]64 [5]35\t\n"
       ]
      },
      {
       "metadata": {},
       "output_type": "pyout",
       "prompt_number": 40,
       "text": [
        "idx: 335\tloss: 4.6492900848389\ttrain score: 2.345\tlabel: 66\tprediction: [1]69 [2]68 [3]18 [4]64 [5]35\t\n"
       ]
      },
      {
       "metadata": {},
       "output_type": "pyout",
       "prompt_number": 40,
       "text": [
        "idx: 340\tloss: 4.6632900238037\ttrain score: 2.215\tlabel: 16\tprediction: [1]69 [2]68 [3]18 [4]64 [5]35\t\n"
       ]
      },
      {
       "metadata": {},
       "output_type": "pyout",
       "prompt_number": 40,
       "text": [
        "idx: 345\tloss: 4.6862902641296\ttrain score: 1.8766666666667\tlabel: 9\tprediction: [1]69 [2]68 [3]18 [4]64 [5]35\t\n"
       ]
      },
      {
       "metadata": {},
       "output_type": "pyout",
       "prompt_number": 40,
       "text": [
        "idx: 350\tloss: 4.6792898178101\ttrain score: 2.5683333333333\tlabel: 36\tprediction: [1]69 [2]68 [3]18 [4]64 [5]35\t\n"
       ]
      },
      {
       "metadata": {},
       "output_type": "pyout",
       "prompt_number": 40,
       "text": [
        "idx: 355\tloss: 4.6642904281616\ttrain score: 2.555\tlabel: 15\tprediction: [1]69 [2]68 [3]18 [4]64 [5]35\t\n"
       ]
      },
      {
       "metadata": {},
       "output_type": "pyout",
       "prompt_number": 40,
       "text": [
        "idx: 360\tloss: 4.6622905731201\ttrain score: 2.3\tlabel: 30\tprediction: [1]69 [2]68 [3]18 [4]64 [5]35\t\n"
       ]
      },
      {
       "metadata": {},
       "output_type": "pyout",
       "prompt_number": 40,
       "text": [
        "idx: 365\tloss: 4.6672902107239\ttrain score: 2.2733333333333\tlabel: 23\tprediction: [1]69 [2]68 [3]18 [4]64 [5]35\t\n"
       ]
      },
      {
       "metadata": {},
       "output_type": "pyout",
       "prompt_number": 40,
       "text": [
        "idx: 370\tloss: 4.6632905006409\ttrain score: 2.2733333333333\tlabel: 46\tprediction: [1]69 [2]68 [3]18 [4]64 [5]35\t\n"
       ]
      },
      {
       "metadata": {},
       "output_type": "pyout",
       "prompt_number": 40,
       "text": [
        "idx: 375\tloss: 4.6612906455994\ttrain score: 2.0233333333333\tlabel: 25\tprediction: [1]69 [2]68 [3]18 [4]64 [5]35\t\n"
       ]
      },
      {
       "metadata": {},
       "output_type": "pyout",
       "prompt_number": 40,
       "text": [
        "idx: 380\tloss: 4.667290687561\ttrain score: 2.575\tlabel: 73\tprediction: [1]69 [2]68 [3]18 [4]64 [5]35\t\n"
       ]
      },
      {
       "metadata": {},
       "output_type": "pyout",
       "prompt_number": 40,
       "text": [
        "idx: 385\tloss: 4.662290096283\ttrain score: 2.2783333333333\tlabel: 90\tprediction: [1]69 [2]68 [3]18 [4]64 [5]35\t\n"
       ]
      },
      {
       "metadata": {},
       "output_type": "pyout",
       "prompt_number": 40,
       "text": [
        "idx: 390\tloss: 4.6682906150818\ttrain score: 2.3233333333333\tlabel: 31\tprediction: [1]69 [2]68 [3]18 [4]64 [5]35\t\n"
       ]
      },
      {
       "metadata": {},
       "output_type": "pyout",
       "prompt_number": 40,
       "text": [
        "idx: 395\tloss: 4.6912899017334\ttrain score: 1.4116666666667\tlabel: 60\tprediction: [1]69 [2]68 [3]18 [4]64 [5]35\t\n"
       ]
      },
      {
       "metadata": {},
       "output_type": "pyout",
       "prompt_number": 40,
       "text": [
        "idx: 400\tloss: 4.6602902412415\ttrain score: 3.3133333333333\tlabel: 52\tprediction: [1]69 [2]68 [3]18 [4]64 [5]35\t\n"
       ]
      },
      {
       "metadata": {},
       "output_type": "pyout",
       "prompt_number": 40,
       "text": [
        "idx: 405\tloss: 4.6742901802063\ttrain score: 2.075\tlabel: 72\tprediction: [1]69 [2]68 [3]18 [4]64 [5]35\t\n"
       ]
      },
      {
       "metadata": {},
       "output_type": "pyout",
       "prompt_number": 40,
       "text": [
        "idx: 410\tloss: 4.6572904586792\ttrain score: 2.6566666666667\tlabel: 50\tprediction: [1]69 [2]68 [3]18 [4]64 [5]35\t\n"
       ]
      },
      {
       "metadata": {},
       "output_type": "pyout",
       "prompt_number": 40,
       "text": [
        "idx: 415\tloss: 4.6642904281616\ttrain score: 2.8883333333333\tlabel: 47\tprediction: [1]69 [2]68 [3]18 [4]64 [5]35\t\n"
       ]
      },
      {
       "metadata": {},
       "output_type": "pyout",
       "prompt_number": 40,
       "text": [
        "idx: 420\tloss: 4.6602902412415\ttrain score: 2.8116666666667\tlabel: 92\tprediction: [1]69 [2]68 [3]18 [4]64 [5]35\t\n"
       ]
      },
      {
       "metadata": {},
       "output_type": "pyout",
       "prompt_number": 40,
       "text": [
        "idx: 425\tloss: 4.6602902412415\ttrain score: 3.4416666666667\tlabel: 35\tprediction: [1]69 [2]68 [3]18 [4]64 [5]35\t\n"
       ]
      },
      {
       "metadata": {},
       "output_type": "pyout",
       "prompt_number": 40,
       "text": [
        "idx: 430\tloss: 4.6512904167175\ttrain score: 2.3816666666667\tlabel: 52\tprediction: [1]69 [2]68 [3]18 [4]64 [5]35\t\n"
       ]
      },
      {
       "metadata": {},
       "output_type": "pyout",
       "prompt_number": 40,
       "text": [
        "idx: 435\tloss: 4.6552901268005\ttrain score: 2.8316666666667\tlabel: 15\tprediction: [1]69 [2]68 [3]18 [4]64 [5]35\t\n"
       ]
      },
      {
       "metadata": {},
       "output_type": "pyout",
       "prompt_number": 40,
       "text": [
        "idx: 440\tloss: 4.6702904701233\ttrain score: 2.26\tlabel: 6\tprediction: [1]69 [2]68 [3]18 [4]64 [5]35\t\n"
       ]
      },
      {
       "metadata": {},
       "output_type": "pyout",
       "prompt_number": 40,
       "text": [
        "idx: 445\tloss: 4.6622905731201\ttrain score: 2.465\tlabel: 68\tprediction: [1]69 [2]68 [3]18 [4]64 [5]35\t\n"
       ]
      },
      {
       "metadata": {},
       "output_type": "pyout",
       "prompt_number": 40,
       "text": [
        "idx: 450\tloss: 4.6682906150818\ttrain score: 2.0966666666667\tlabel: 19\tprediction: [1]69 [2]68 [3]18 [4]64 [5]35\t\n"
       ]
      },
      {
       "metadata": {},
       "output_type": "pyout",
       "prompt_number": 40,
       "text": [
        "idx: 455\tloss: 4.6702899932861\ttrain score: 1.8466666666667\tlabel: 5\tprediction: [1]69 [2]68 [3]18 [4]64 [5]35\t\n"
       ]
      },
      {
       "metadata": {},
       "output_type": "pyout",
       "prompt_number": 40,
       "text": [
        "idx: 460\tloss: 4.6552901268005\ttrain score: 2.7933333333333\tlabel: 43\tprediction: [1]69 [2]68 [3]18 [4]64 [5]35\t\n"
       ]
      },
      {
       "metadata": {},
       "output_type": "pyout",
       "prompt_number": 40,
       "text": [
        "idx: 465\tloss: 4.6612901687622\ttrain score: 2.095\tlabel: 91\tprediction: [1]69 [2]68 [3]18 [4]64 [5]35\t\n"
       ]
      },
      {
       "metadata": {},
       "output_type": "pyout",
       "prompt_number": 40,
       "text": [
        "idx: 470\tloss: 4.6822900772095\ttrain score: 1.715\tlabel: 76\tprediction: [1]69 [2]68 [3]18 [4]64 [5]35\t\n"
       ]
      },
      {
       "metadata": {},
       "output_type": "pyout",
       "prompt_number": 40,
       "text": [
        "idx: 475\tloss: 4.6782903671265\ttrain score: 2.595\tlabel: 65\tprediction: [1]69 [2]68 [3]18 [4]64 [5]35\t\n"
       ]
      },
      {
       "metadata": {},
       "output_type": "pyout",
       "prompt_number": 40,
       "text": [
        "idx: 480\tloss: 4.6512904167175\ttrain score: 3.19\tlabel: 41\tprediction: [1]69 [2]68 [3]18 [4]64 [5]35\t\n"
       ]
      },
      {
       "metadata": {},
       "output_type": "pyout",
       "prompt_number": 40,
       "text": [
        "idx: 485\tloss: 4.6782898902893\ttrain score: 2.1566666666667\tlabel: 92\tprediction: [1]69 [2]68 [3]18 [4]64 [5]35\t\n"
       ]
      },
      {
       "metadata": {},
       "output_type": "pyout",
       "prompt_number": 40,
       "text": [
        "idx: 490\tloss: 4.6502904891968\ttrain score: 3.22\tlabel: 65\tprediction: [1]69 [2]68 [3]18 [4]64 [5]35\t\n"
       ]
      },
      {
       "metadata": {},
       "output_type": "pyout",
       "prompt_number": 40,
       "text": [
        "idx: 495\tloss: 4.6642899513245\ttrain score: 1.9816666666667\tlabel: 39\tprediction: [1]69 [2]68 [3]18 [4]64 [5]35\t\n"
       ]
      },
      {
       "metadata": {},
       "output_type": "pyout",
       "prompt_number": 40,
       "text": [
        "idx: 500\tloss: 4.6732907295227\ttrain score: 1.78\tlabel: 94\tprediction: [1]69 [2]68 [3]18 [4]64 [5]35\t\n"
       ]
      },
      {
       "metadata": {},
       "output_type": "pyout",
       "prompt_number": 40,
       "text": [
        "idx: 505\tloss: 4.6632900238037\ttrain score: 2.735\tlabel: 30\tprediction: [1]69 [2]68 [3]18 [4]64 [5]35\t\n"
       ]
      },
      {
       "metadata": {},
       "output_type": "pyout",
       "prompt_number": 40,
       "text": [
        "idx: 510\tloss: 4.6612901687622\ttrain score: 2.2433333333333\tlabel: 92\tprediction: [1]69 [2]68 [3]18 [4]64 [5]35\t\n"
       ]
      },
      {
       "metadata": {},
       "output_type": "pyout",
       "prompt_number": 40,
       "text": [
        "idx: 515\tloss: 4.680290222168\ttrain score: 2.105\tlabel: 99\tprediction: [1]69 [2]68 [3]18 [4]64 [5]35\t\n"
       ]
      },
      {
       "metadata": {},
       "output_type": "pyout",
       "prompt_number": 40,
       "text": [
        "idx: 520\tloss: 4.6632900238037\ttrain score: 2.5116666666667\tlabel: 54\tprediction: [1]69 [2]68 [3]18 [4]64 [5]35\t\n"
       ]
      },
      {
       "metadata": {},
       "output_type": "pyout",
       "prompt_number": 40,
       "text": [
        "idx: 525\tloss: 4.680290222168\ttrain score: 1.8116666666667\tlabel: 91\tprediction: [1]69 [2]68 [3]18 [4]64 [5]35\t\n"
       ]
      },
      {
       "metadata": {},
       "output_type": "pyout",
       "prompt_number": 40,
       "text": [
        "idx: 530\tloss: 4.662290096283\ttrain score: 3.1733333333333\tlabel: 71\tprediction: [1]69 [2]68 [3]18 [4]64 [5]35\t\n"
       ]
      },
      {
       "metadata": {},
       "output_type": "pyout",
       "prompt_number": 40,
       "text": [
        "idx: 535\tloss: 4.6782898902893\ttrain score: 2.2983333333333\tlabel: 91\tprediction: [1]69 [2]68 [3]18 [4]64 [5]35\t\n"
       ]
      },
      {
       "metadata": {},
       "output_type": "pyout",
       "prompt_number": 40,
       "text": [
        "idx: 540\tloss: 4.6692900657654\ttrain score: 2.5033333333333\tlabel: 29\tprediction: [1]69 [2]68 [3]18 [4]64 [5]35\t\n"
       ]
      },
      {
       "metadata": {},
       "output_type": "pyout",
       "prompt_number": 40,
       "text": [
        "idx: 545\tloss: 4.6762900352478\ttrain score: 2.1733333333333\tlabel: 25\tprediction: [1]69 [2]68 [3]18 [4]64 [5]35\t\n"
       ]
      },
      {
       "metadata": {},
       "output_type": "pyout",
       "prompt_number": 40,
       "text": [
        "idx: 550\tloss: 4.6602902412415\ttrain score: 1.7866666666667\tlabel: 71\tprediction: [1]69 [2]68 [3]18 [4]64 [5]35\t\n"
       ]
      },
      {
       "metadata": {},
       "output_type": "pyout",
       "prompt_number": 40,
       "text": [
        "idx: 555\tloss: 4.6782898902893\ttrain score: 2.5383333333333\tlabel: 33\tprediction: [1]69 [2]68 [3]18 [4]64 [5]35\t\n"
       ]
      },
      {
       "metadata": {},
       "output_type": "pyout",
       "prompt_number": 40,
       "text": [
        "idx: 560\tloss: 4.6832904815674\ttrain score: 2.0916666666667\tlabel: 60\tprediction: [1]69 [2]68 [3]18 [4]64 [5]35\t\n"
       ]
      },
      {
       "metadata": {},
       "output_type": "pyout",
       "prompt_number": 40,
       "text": [
        "idx: 565\tloss: 4.6812901496887\ttrain score: 1.7083333333333\tlabel: 41\tprediction: [1]69 [2]68 [3]18 [4]64 [5]35\t\n"
       ]
      },
      {
       "metadata": {},
       "output_type": "pyout",
       "prompt_number": 40,
       "text": [
        "idx: 570\tloss: 4.6772899627686\ttrain score: 2.085\tlabel: 100\tprediction: [1]69 [2]68 [3]18 [4]64 [5]35\t\n"
       ]
      },
      {
       "metadata": {},
       "output_type": "pyout",
       "prompt_number": 40,
       "text": [
        "idx: 575\tloss: 4.6722898483276\ttrain score: 2.1616666666667\tlabel: 1\tprediction: [1]69 [2]68 [3]18 [4]64 [5]35\t\n"
       ]
      },
      {
       "metadata": {},
       "output_type": "pyout",
       "prompt_number": 40,
       "text": [
        "idx: 580\tloss: 4.6882901191711\ttrain score: 2.0433333333333\tlabel: 51\tprediction: [1]69 [2]68 [3]18 [4]64 [5]35\t\n"
       ]
      },
      {
       "metadata": {},
       "output_type": "pyout",
       "prompt_number": 40,
       "text": [
        "idx: 585\tloss: 4.6692900657654\ttrain score: 1.8666666666667\tlabel: 15\tprediction: [1]69 [2]68 [3]18 [4]64 [5]35\t\n"
       ]
      },
      {
       "metadata": {},
       "output_type": "pyout",
       "prompt_number": 40,
       "text": [
        "idx: 590\tloss: 4.6762900352478\ttrain score: 1.9783333333333\tlabel: 1\tprediction: [1]69 [2]68 [3]18 [4]64 [5]35\t\n"
       ]
      },
      {
       "metadata": {},
       "output_type": "pyout",
       "prompt_number": 40,
       "text": [
        "idx: 595\tloss: 4.6632900238037\ttrain score: 2.495\tlabel: 57\tprediction: [1]69 [2]68 [3]18 [4]64 [5]35\t\n"
       ]
      },
      {
       "metadata": {},
       "output_type": "pyout",
       "prompt_number": 40,
       "text": [
        "idx: 600\tloss: 4.6692900657654\ttrain score: 1.9166666666667\tlabel: 63\tprediction: [1]69 [2]68 [3]18 [4]64 [5]35\t\n"
       ]
      },
      {
       "metadata": {},
       "output_type": "pyout",
       "prompt_number": 40,
       "text": [
        "idx: 605\tloss: 4.6882905960083\ttrain score: 1.61\tlabel: 81\tprediction: [1]69 [2]68 [3]18 [4]64 [5]35\t\n"
       ]
      },
      {
       "metadata": {},
       "output_type": "pyout",
       "prompt_number": 40,
       "text": [
        "idx: 610\tloss: 4.6582903862\ttrain score: 2.0966666666667\tlabel: 100\tprediction: [1]69 [2]68 [3]18 [4]64 [5]35\t\n"
       ]
      },
      {
       "metadata": {},
       "output_type": "pyout",
       "prompt_number": 40,
       "text": [
        "idx: 615\tloss: 4.6432900428772\ttrain score: 2.8933333333333\tlabel: 65\tprediction: [1]69 [2]68 [3]18 [4]64 [5]35\t\n"
       ]
      },
      {
       "metadata": {},
       "output_type": "pyout",
       "prompt_number": 40,
       "text": [
        "idx: 620\tloss: 4.6592898368835\ttrain score: 2.2716666666667\tlabel: 54\tprediction: [1]69 [2]68 [3]18 [4]64 [5]35\t\n"
       ]
      },
      {
       "metadata": {},
       "output_type": "pyout",
       "prompt_number": 40,
       "text": [
        "idx: 625\tloss: 4.6592903137207\ttrain score: 3.1383333333333\tlabel: 5\tprediction: [1]69 [2]68 [3]18 [4]64 [5]35\t\n"
       ]
      },
      {
       "metadata": {},
       "output_type": "pyout",
       "prompt_number": 40,
       "text": [
        "idx: 630\tloss: 4.6702899932861\ttrain score: 2.435\tlabel: 91\tprediction: [1]69 [2]68 [3]18 [4]64 [5]35\t\n"
       ]
      },
      {
       "metadata": {},
       "output_type": "pyout",
       "prompt_number": 40,
       "text": [
        "idx: 635\tloss: 4.6742906570435\ttrain score: 1.6233333333333\tlabel: 74\t"
       ]
      },
      {
       "metadata": {},
       "output_type": "pyout",
       "prompt_number": 40,
       "text": [
        "prediction: [1]69 [2]68 [3]18 [4]64 [5]35\t\n"
       ]
      },
      {
       "metadata": {},
       "output_type": "pyout",
       "prompt_number": 40,
       "text": [
        "idx: 640\tloss: 4.6722898483276\ttrain score: 2.535\tlabel: 100\tprediction: [1]69 [2]68 [3]18 [4]64 [5]35\t\n"
       ]
      },
      {
       "metadata": {},
       "output_type": "pyout",
       "prompt_number": 40,
       "text": [
        "idx: 645\tloss: 4.6682906150818\ttrain score: 2.6466666666667\tlabel: 72\tprediction: [1]69 [2]68 [3]18 [4]64 [5]35\t\n"
       ]
      },
      {
       "metadata": {},
       "output_type": "pyout",
       "prompt_number": 40,
       "text": [
        "idx: 650\tloss: 4.6852898597717\ttrain score: 1.93\tlabel: 10\tprediction: [1]69 [2]68 [3]18 [4]64 [5]35\t\n"
       ]
      },
      {
       "metadata": {},
       "output_type": "pyout",
       "prompt_number": 40,
       "text": [
        "idx: 655\tloss: 4.6602907180786\ttrain score: 2.3133333333333\tlabel: 64\tprediction: [1]69 [2]68 [3]18 [4]64 [5]35\t\n"
       ]
      },
      {
       "metadata": {},
       "output_type": "pyout",
       "prompt_number": 40,
       "text": [
        "idx: 660\tloss: 4.6672902107239\ttrain score: 2.7083333333333\tlabel: 85\tprediction: [1]69 [2]68 [3]18 [4]64 [5]35\t\n"
       ]
      },
      {
       "metadata": {},
       "output_type": "pyout",
       "prompt_number": 40,
       "text": [
        "idx: 665\tloss: 4.657289981842\ttrain score: 2.6666666666667\tlabel: 78\tprediction: [1]69 [2]68 [3]18 [4]64 [5]35\t\n"
       ]
      },
      {
       "metadata": {},
       "output_type": "pyout",
       "prompt_number": 40,
       "text": [
        "idx: 670\tloss: 4.6732902526855\ttrain score: 2.5666666666667\tlabel: 52\tprediction: [1]69 [2]68 [3]18 [4]64 [5]35\t\n"
       ]
      },
      {
       "metadata": {},
       "output_type": "pyout",
       "prompt_number": 40,
       "text": [
        "idx: 675\tloss: 4.6632900238037\ttrain score: 2.4283333333333\tlabel: 13\tprediction: [1]69 [2]68 [3]18 [4]64 [5]35\t\n"
       ]
      },
      {
       "metadata": {},
       "output_type": "pyout",
       "prompt_number": 40,
       "text": [
        "idx: 680\tloss: 4.6642899513245\ttrain score: 2.86\tlabel: 20\tprediction: [1]69 [2]68 [3]18 [4]64 [5]35\t\n"
       ]
      },
      {
       "metadata": {},
       "output_type": "pyout",
       "prompt_number": 40,
       "text": [
        "idx: 685\tloss: 4.6552906036377\ttrain score: 2.2733333333333\tlabel: 39\tprediction: [1]69 [2]68 [3]18 [4]64 [5]35\t\n"
       ]
      },
      {
       "metadata": {},
       "output_type": "pyout",
       "prompt_number": 40,
       "text": [
        "idx: 690\tloss: 4.6852898597717\ttrain score: 1.57\tlabel: 91\tprediction: [1]69 [2]68 [3]18 [4]64 [5]35\t\n"
       ]
      },
      {
       "metadata": {},
       "output_type": "pyout",
       "prompt_number": 40,
       "text": [
        "idx: 695\tloss: 4.6812901496887\ttrain score: 1.815\tlabel: 54\tprediction: [1]69 [2]68 [3]18 [4]64 [5]35\t\n"
       ]
      },
      {
       "metadata": {},
       "output_type": "pyout",
       "prompt_number": 40,
       "text": [
        "idx: 700\tloss: 4.6722903251648\ttrain score: 2.465\tlabel: 3\tprediction: [1]69 [2]68 [3]18 [4]64 [5]35\t\n"
       ]
      },
      {
       "metadata": {},
       "output_type": "pyout",
       "prompt_number": 40,
       "text": [
        "idx: 705\tloss: 4.6742901802063\ttrain score: 2.29\tlabel: 78\tprediction: [1]69 [2]68 [3]18 [4]64 [5]35\t\n"
       ]
      },
      {
       "metadata": {},
       "output_type": "pyout",
       "prompt_number": 40,
       "text": [
        "idx: 710\tloss: 4.6922898292542\ttrain score: 2.0916666666667\tlabel: 20\tprediction: [1]69 [2]68 [3]18 [4]64 [5]35\t\n"
       ]
      },
      {
       "metadata": {},
       "output_type": "pyout",
       "prompt_number": 40,
       "text": [
        "idx: 715\tloss: 4.6752901077271\ttrain score: 2.2916666666667\tlabel: 85\tprediction: [1]69 [2]68 [3]18 [4]64 [5]35\t\n"
       ]
      },
      {
       "metadata": {},
       "output_type": "pyout",
       "prompt_number": 40,
       "text": [
        "idx: 720\tloss: 4.6692900657654\ttrain score: 2.0666666666667\tlabel: 76\tprediction: [1]69 [2]68 [3]18 [4]64 [5]35\t\n"
       ]
      },
      {
       "metadata": {},
       "output_type": "pyout",
       "prompt_number": 40,
       "text": [
        "idx: 725\tloss: 4.667290687561\ttrain score: 2.3866666666667\tlabel: 87\tprediction: [1]69 [2]68 [3]18 [4]64 [5]35\t\n"
       ]
      },
      {
       "metadata": {},
       "output_type": "pyout",
       "prompt_number": 40,
       "text": [
        "idx: 730\tloss: 4.6642899513245\ttrain score: 2.1066666666667\tlabel: 89\tprediction: [1]69 [2]68 [3]18 [4]64 [5]35\t\n"
       ]
      },
      {
       "metadata": {},
       "output_type": "pyout",
       "prompt_number": 40,
       "text": [
        "idx: 735\tloss: 4.6682901382446\ttrain score: 1.8033333333333\tlabel: 20\tprediction: [1]69 [2]68 [3]18 [4]64 [5]35\t\n"
       ]
      },
      {
       "metadata": {},
       "output_type": "pyout",
       "prompt_number": 40,
       "text": [
        "idx: 740\tloss: 4.6562900543213\ttrain score: 2.345\tlabel: 72\tprediction: [1]69 [2]68 [3]18 [4]64 [5]35\t\n"
       ]
      },
      {
       "metadata": {},
       "output_type": "pyout",
       "prompt_number": 40,
       "text": [
        "idx: 745\tloss: 4.6662907600403\ttrain score: 2.4366666666667\tlabel: 54\tprediction: [1]69 [2]68 [3]18 [4]64 [5]35\t\n"
       ]
      },
      {
       "metadata": {},
       "output_type": "pyout",
       "prompt_number": 40,
       "text": [
        "idx: 750\tloss: 4.6592898368835\ttrain score: 2.3516666666667\tlabel: 4\tprediction: [1]69 [2]68 [3]18 [4]64 [5]35\t\n"
       ]
      },
      {
       "metadata": {},
       "output_type": "pyout",
       "prompt_number": 40,
       "text": [
        "idx: 755\tloss: 4.6702904701233\ttrain score: 2.0416666666667\tlabel: 85\tprediction: [1]69 [2]68 [3]18 [4]64 [5]35\t\n"
       ]
      },
      {
       "metadata": {},
       "output_type": "pyout",
       "prompt_number": 40,
       "text": [
        "idx: 760\tloss: 4.6682901382446\ttrain score: 1.6883333333333\tlabel: 40\tprediction: [1]69 [2]68 [3]18 [4]64 [5]35\t\n"
       ]
      },
      {
       "metadata": {},
       "output_type": "pyout",
       "prompt_number": 40,
       "text": [
        "idx: 765\t"
       ]
      },
      {
       "metadata": {},
       "output_type": "pyout",
       "prompt_number": 40,
       "text": [
        "loss: 4.6812901496887\ttrain score: 1.4933333333333\tlabel: 29\tprediction: [1]69 [2]68 [3]18 [4]64 [5]35\t\n"
       ]
      },
      {
       "metadata": {},
       "output_type": "pyout",
       "prompt_number": 40,
       "text": [
        "idx: 770\tloss: 4.676290512085\ttrain score: 2.2833333333333\tlabel: 15\tprediction: [1]69 [2]68 [3]18 [4]64 [5]35\t\n"
       ]
      },
      {
       "metadata": {},
       "output_type": "pyout",
       "prompt_number": 40,
       "text": [
        "idx: 775\tloss: 4.6512899398804\ttrain score: 2.6866666666667\tlabel: 16\tprediction: [1]69 [2]68 [3]18 [4]64 [5]35\t\n"
       ]
      },
      {
       "metadata": {},
       "output_type": "pyout",
       "prompt_number": 40,
       "text": [
        "idx: 780\tloss: 4.6592898368835\ttrain score: 2.41\tlabel: 7\tprediction: [1]69 [2]68 [3]18 [4]64 [5]35\t\n"
       ]
      },
      {
       "metadata": {},
       "output_type": "pyout",
       "prompt_number": 40,
       "text": [
        "idx: 785\tloss: 4.662290096283\ttrain score: 2.44\tlabel: 60\tprediction: [1]69 [2]68 [3]18 [4]64 [5]35\t\n"
       ]
      },
      {
       "metadata": {},
       "output_type": "pyout",
       "prompt_number": 40,
       "text": [
        "idx: 790\tloss: 4.6812901496887\ttrain score: 2.2966666666667\tlabel: 16\tprediction: [1]69 [2]68 [3]18 [4]64 [5]35\t\n"
       ]
      },
      {
       "metadata": {},
       "output_type": "pyout",
       "prompt_number": 40,
       "text": [
        "idx: 795\tloss: 4.6642899513245\ttrain score: 2.295\tlabel: 67\tprediction: [1]69 [2]68 [3]18 [4]64 [5]35\t\n"
       ]
      },
      {
       "metadata": {},
       "output_type": "pyout",
       "prompt_number": 40,
       "text": [
        "idx: 800\tloss: 4.680290222168\ttrain score: 2.1633333333333\tlabel: 31\tprediction: [1]69 [2]68 [3]18 [4]64 [5]35\t\n"
       ]
      },
      {
       "metadata": {},
       "output_type": "pyout",
       "prompt_number": 40,
       "text": [
        "idx: 805\tloss: 4.6552901268005\ttrain score: 3.205\tlabel: 8\tprediction: [1]69 [2]68 [3]18 [4]64 [5]35\t\n"
       ]
      },
      {
       "metadata": {},
       "output_type": "pyout",
       "prompt_number": 40,
       "text": [
        "idx: 810\tloss: 4.6762900352478\ttrain score: 1.78\tlabel: 70\tprediction: [1]69 [2]68 [3]18 [4]64 [5]35\t\n"
       ]
      },
      {
       "metadata": {},
       "output_type": "pyout",
       "prompt_number": 40,
       "text": [
        "idx: 815\tloss: 4.662290096283\ttrain score: 2.5\tlabel: 90\tprediction: [1]69 [2]68 [3]18 [4]64 [5]35\t\n"
       ]
      },
      {
       "metadata": {},
       "output_type": "pyout",
       "prompt_number": 40,
       "text": [
        "idx: 820\tloss: 4.6552901268005\ttrain score: 2.68\tlabel: 21\tprediction: [1]69 [2]68 [3]18 [4]64 [5]35\t\n"
       ]
      },
      {
       "metadata": {},
       "output_type": "pyout",
       "prompt_number": 40,
       "text": [
        "idx: 825\tloss: 4.6702899932861\ttrain score: 2.425\tlabel: 34\tprediction: [1]69 [2]68 [3]18 [4]64 [5]35\t\n"
       ]
      },
      {
       "metadata": {},
       "output_type": "pyout",
       "prompt_number": 40,
       "text": [
        "idx: 830\tloss: 4.6612901687622\ttrain score: 2.42\tlabel: 8\tprediction: [1]69 [2]68 [3]18 [4]64 [5]35\t\n"
       ]
      },
      {
       "metadata": {},
       "output_type": "pyout",
       "prompt_number": 40,
       "text": [
        "idx: 835\tloss: 4.6902899742126\ttrain score: 1.9916666666667\tlabel: 31\tprediction: [1]69 [2]68 [3]18 [4]64 [5]35\t\n"
       ]
      },
      {
       "metadata": {},
       "output_type": "pyout",
       "prompt_number": 40,
       "text": [
        "idx: 840\tloss: 4.6942901611328\ttrain score: 1.76\tlabel: 92\tprediction: [1]69 [2]68 [3]18 [4]64 [5]35\t\n"
       ]
      },
      {
       "metadata": {},
       "output_type": "pyout",
       "prompt_number": 40,
       "text": [
        "idx: 845\tloss: 4.6822905540466\ttrain score: 2.0483333333333\tlabel: 80\tprediction: [1]69 [2]68 [3]18 [4]64 [5]35\t\n"
       ]
      },
      {
       "metadata": {},
       "output_type": "pyout",
       "prompt_number": 40,
       "text": [
        "idx: 850\tloss: 4.6592898368835\ttrain score: 2.1816666666667\tlabel: 44\tprediction: [1]69 [2]68 [3]18 [4]64 [5]35\t\n"
       ]
      },
      {
       "metadata": {},
       "output_type": "pyout",
       "prompt_number": 40,
       "text": [
        "idx: 855\t"
       ]
      },
      {
       "metadata": {},
       "output_type": "pyout",
       "prompt_number": 40,
       "text": [
        "loss: 4.6762900352478\ttrain score: 2.0483333333333\tlabel: 100\tprediction: [1]69 [2]68 [3]18 [4]64 [5]35\t\n"
       ]
      },
      {
       "metadata": {},
       "output_type": "pyout",
       "prompt_number": 40,
       "text": [
        "idx: 860\tloss: 4.6692900657654\ttrain score: 1.6116666666667\tlabel: 68\tprediction: [1]69 [2]68 [3]18 [4]64 [5]35\t\n"
       ]
      },
      {
       "metadata": {},
       "output_type": "pyout",
       "prompt_number": 40,
       "text": [
        "idx: 865\tloss: 4.6702899932861\ttrain score: 2.1533333333333\tlabel: 91\tprediction: [1]69 [2]68 [3]18 [4]64 [5]35\t\n"
       ]
      },
      {
       "metadata": {},
       "output_type": "pyout",
       "prompt_number": 40,
       "text": [
        "idx: 870\tloss: 4.6702899932861\ttrain score: 2.53\tlabel: 9\tprediction: [1]69 [2]68 [3]18 [4]64 [5]35\t\n"
       ]
      },
      {
       "metadata": {},
       "output_type": "pyout",
       "prompt_number": 40,
       "text": [
        "idx: 875\tloss: 4.6882901191711\ttrain score: 1.95\tlabel: 50\tprediction: [1]69 [2]68 [3]18 [4]64 [5]35\t\n"
       ]
      },
      {
       "metadata": {},
       "output_type": "pyout",
       "prompt_number": 40,
       "text": [
        "idx: 880\tloss: 4.6692900657654\ttrain score: 2.7683333333333\tlabel: 69\tprediction: [1]69 [2]68 [3]18 [4]64 [5]35\t\n"
       ]
      },
      {
       "metadata": {},
       "output_type": "pyout",
       "prompt_number": 40,
       "text": [
        "idx: 885\tloss: 4.6702899932861\ttrain score: 2.2616666666667\tlabel: 32\tprediction: [1]69 [2]68 [3]18 [4]64 [5]35\t\n"
       ]
      },
      {
       "metadata": {},
       "output_type": "pyout",
       "prompt_number": 40,
       "text": [
        "idx: 890\tloss: 4.6592903137207\ttrain score: 2.1566666666667\tlabel: 3\tprediction: [1]69 [2]68 [3]18 [4]64 [5]35\t\n"
       ]
      },
      {
       "metadata": {},
       "output_type": "pyout",
       "prompt_number": 40,
       "text": [
        "idx: 895\tloss: 4.6602902412415\ttrain score: 3.1483333333333\tlabel: 35\tprediction: [1]69 [2]68 [3]18 [4]64 [5]35\t\n"
       ]
      },
      {
       "metadata": {},
       "output_type": "pyout",
       "prompt_number": 40,
       "text": [
        "idx: 900\tloss: 4.676290512085\ttrain score: 1.945\tlabel: 29\tprediction: [1]69 [2]68 [3]18 [4]64 [5]35\t\n"
       ]
      },
      {
       "metadata": {},
       "output_type": "pyout",
       "prompt_number": 40,
       "text": [
        "idx: 905\tloss: 4.6932902336121\ttrain score: 1.9533333333333\tlabel: 77\tprediction: [1]69 [2]68 [3]18 [4]64 [5]35\t\n"
       ]
      },
      {
       "metadata": {},
       "output_type": "pyout",
       "prompt_number": 40,
       "text": [
        "idx: 910\tloss: 4.6562900543213\ttrain score: 2.6866666666667\tlabel: 16\tprediction: [1]69 [2]68 [3]18 [4]64 [5]35\t\n"
       ]
      },
      {
       "metadata": {},
       "output_type": "pyout",
       "prompt_number": 40,
       "text": [
        "idx: 915\tloss: 4.6722898483276\ttrain score: 2.2516666666667\tlabel: 28\tprediction: [1]69 [2]68 [3]18 [4]64 [5]35\t\n"
       ]
      },
      {
       "metadata": {},
       "output_type": "pyout",
       "prompt_number": 40,
       "text": [
        "idx: 920\tloss: 4.6592898368835\ttrain score: 2.22\tlabel: 84\tprediction: [1]69 [2]68 [3]18 [4]64 [5]35\t\n"
       ]
      },
      {
       "metadata": {},
       "output_type": "pyout",
       "prompt_number": 40,
       "text": [
        "idx: 925\tloss: 4.6812901496887\ttrain score: 1.97\tlabel: 20\tprediction: [1]69 [2]68 [3]18 [4]64 [5]35\t\n"
       ]
      },
      {
       "metadata": {},
       "output_type": "pyout",
       "prompt_number": 40,
       "text": [
        "idx: 930\tloss: 4.6742901802063\ttrain score: 1.8666666666667\tlabel: 6\tprediction: [1]69 [2]68 [3]18 [4]64 [5]35\t\n"
       ]
      },
      {
       "metadata": {},
       "output_type": "pyout",
       "prompt_number": 40,
       "text": [
        "idx: 935\tloss: 4.657289981842\ttrain score: 2.775\t"
       ]
      },
      {
       "metadata": {},
       "output_type": "pyout",
       "prompt_number": 40,
       "text": [
        "label: 15\tprediction: [1]69 [2]68 [3]18 [4]64 [5]35\t\n"
       ]
      },
      {
       "metadata": {},
       "output_type": "pyout",
       "prompt_number": 40,
       "text": [
        "idx: 940\tloss: 4.6542906761169\ttrain score: 2.4066666666667\tlabel: 44\tprediction: [1]69 [2]68 [3]18 [4]64 [5]35\t\n"
       ]
      },
      {
       "metadata": {},
       "output_type": "pyout",
       "prompt_number": 40,
       "text": [
        "idx: 945\tloss: 4.6642904281616\ttrain score: 2.5633333333333\tlabel: 81\tprediction: [1]69 [2]68 [3]18 [4]64 [5]35\t\n"
       ]
      },
      {
       "metadata": {},
       "output_type": "pyout",
       "prompt_number": 40,
       "text": [
        "idx: 950\tloss: 4.6632900238037\ttrain score: 2.715\tlabel: 77\tprediction: [1]69 [2]68 [3]18 [4]64 [5]35\t\n"
       ]
      },
      {
       "metadata": {},
       "output_type": "pyout",
       "prompt_number": 40,
       "text": [
        "idx: 955\tloss: 4.6732907295227\ttrain score: 2.7833333333333\tlabel: 81\tprediction: [1]69 [2]68 [3]18 [4]64 [5]35\t\n"
       ]
      },
      {
       "metadata": {},
       "output_type": "pyout",
       "prompt_number": 40,
       "text": [
        "idx: 960\tloss: 4.6652898788452\ttrain score: 2.0833333333333\tlabel: 26\tprediction: [1]69 [2]68 [3]18 [4]64 [5]35\t\n"
       ]
      },
      {
       "metadata": {},
       "output_type": "pyout",
       "prompt_number": 40,
       "text": [
        "idx: 965\tloss: 4.662290096283\ttrain score: 2.36\tlabel: 31\tprediction: [1]69 [2]68 [3]18 [4]64 [5]35\t\n"
       ]
      },
      {
       "metadata": {},
       "output_type": "pyout",
       "prompt_number": 40,
       "text": [
        "idx: 970\tloss: 4.6742901802063\ttrain score: 2.7383333333333\tlabel: 19\tprediction: [1]69 [2]68 [3]18 [4]64 [5]35\t\n"
       ]
      },
      {
       "metadata": {},
       "output_type": "pyout",
       "prompt_number": 40,
       "text": [
        "idx: 975\tloss: 4.6762900352478\ttrain score: 2.165\tlabel: 21\tprediction: [1]69 [2]68 [3]18 [4]64 [5]35\t\n"
       ]
      },
      {
       "metadata": {},
       "output_type": "pyout",
       "prompt_number": 40,
       "text": [
        "idx: 980\tloss: 4.6462898254395\ttrain score: 2.4166666666667\tlabel: 52\tprediction: [1]69 [2]68 [3]18 [4]64 [5]35\t\n"
       ]
      },
      {
       "metadata": {},
       "output_type": "pyout",
       "prompt_number": 40,
       "text": [
        "idx: 985\tloss: 4.6722903251648\ttrain score: 2.0933333333333\tlabel: 100\tprediction: [1]69 [2]68 [3]18 [4]64 [5]35\t\n"
       ]
      },
      {
       "metadata": {},
       "output_type": "pyout",
       "prompt_number": 40,
       "text": [
        "idx: 990\tloss: 4.6722898483276\ttrain score: 2.3416666666667\tlabel: 23\tprediction: [1]69 [2]68 [3]18 [4]64 [5]35\t\n"
       ]
      },
      {
       "metadata": {},
       "output_type": "pyout",
       "prompt_number": 40,
       "text": [
        "idx: 995\tloss: 4.6612901687622\ttrain score: 1.9083333333333\tlabel: 49\tprediction: [1]69 [2]68 [3]18 [4]64 [5]35\t\n"
       ]
      },
      {
       "metadata": {},
       "output_type": "pyout",
       "prompt_number": 40,
       "text": [
        "idx: 1000\tloss: 4.6672902107239\ttrain score: 2.29\tlabel: 57\tprediction: [1]69 [2]68 [3]18 [4]64 [5]35\t\n"
       ]
      },
      {
       "metadata": {},
       "output_type": "pyout",
       "prompt_number": 40,
       "text": [
        "idx: 1005\tloss: 4.6612901687622\ttrain score: 2.0316666666667\tlabel: 71\tprediction: [1]69 [2]68 [3]18 [4]64 [5]35\t\n"
       ]
      },
      {
       "metadata": {},
       "output_type": "pyout",
       "prompt_number": 40,
       "text": [
        "idx: 1010\tloss: 4.6552901268005\ttrain score: 2.4983333333333\tlabel: 2\tprediction: [1]69 [2]68 [3]18 [4]64 [5]35\t\n"
       ]
      },
      {
       "metadata": {},
       "output_type": "pyout",
       "prompt_number": 40,
       "text": [
        "idx: 1015\tloss: 4.6652898788452\ttrain score: 2.5783333333333\tlabel: 58\tprediction: [1]69 [2]68 [3]18 [4]64 [5]35\t\n"
       ]
      },
      {
       "metadata": {},
       "output_type": "pyout",
       "prompt_number": 40,
       "text": [
        "idx: 1020\tloss: 4.6702899932861\ttrain score: 2.0416666666667\tlabel: 40\tprediction: [1]69 [2]68 [3]18 [4]64 [5]35\t\n"
       ]
      },
      {
       "metadata": {},
       "output_type": "pyout",
       "prompt_number": 40,
       "text": [
        "idx: 1025\tloss: 4.667290687561\ttrain score: 1.8966666666667\tlabel: 47\tprediction: [1]69 [2]68 [3]18 [4]64 [5]35\t\n"
       ]
      },
      {
       "metadata": {},
       "output_type": "pyout",
       "prompt_number": 40,
       "text": [
        "idx: 1030\tloss: 4.6742901802063\ttrain score: 1.445\tlabel: 69\tprediction: [1]69 [2]68 [3]18 [4]64 [5]35\t\n"
       ]
      },
      {
       "metadata": {},
       "output_type": "pyout",
       "prompt_number": 40,
       "text": [
        "idx: 1035\tloss: 4.6652898788452\ttrain score: 2.3833333333333\tlabel: 98\tprediction: [1]69 [2]68 [3]18 [4]64 [5]35\t\n"
       ]
      },
      {
       "metadata": {},
       "output_type": "pyout",
       "prompt_number": 40,
       "text": [
        "idx: 1040\tloss: 4.6962900161743\ttrain score: 1.95\tlabel: 33\tprediction: [1]69 [2]68 [3]18 [4]64 [5]35\t\n"
       ]
      },
      {
       "metadata": {},
       "output_type": "pyout",
       "prompt_number": 40,
       "text": [
        "idx: 1045\tloss: 4.6582903862\ttrain score: 2.155\tlabel: 82\tprediction: [1]69 [2]68 [3]18 [4]64 [5]35\t\n"
       ]
      },
      {
       "metadata": {},
       "output_type": "pyout",
       "prompt_number": 40,
       "text": [
        "idx: 1050\tloss: 4.6732907295227\ttrain score: 2.3433333333333\tlabel: 49\tprediction: [1]69 [2]68 [3]18 [4]64 [5]35\t\n"
       ]
      },
      {
       "metadata": {},
       "output_type": "pyout",
       "prompt_number": 40,
       "text": [
        "idx: 1055\tloss: 4.6502900123596\ttrain score: 2.6983333333333\tlabel: 45\tprediction: [1]69 [2]68 [3]18 [4]64 [5]35\t\n"
       ]
      },
      {
       "metadata": {},
       "output_type": "pyout",
       "prompt_number": 40,
       "text": [
        "idx: 1060\tloss: 4.6592898368835\ttrain score: 2.5183333333333\tlabel: 17\tprediction: [1]69 [2]68 [3]18 [4]64 [5]35\t\n"
       ]
      },
      {
       "metadata": {},
       "output_type": "pyout",
       "prompt_number": 40,
       "text": [
        "idx: 1065\tloss: 4.6562900543213\ttrain score: 3.0633333333333\tlabel: 23\tprediction: [1]69 [2]68 [3]18 [4]64 [5]35\t\n"
       ]
      },
      {
       "metadata": {},
       "output_type": "pyout",
       "prompt_number": 40,
       "text": [
        "idx: 1070\tloss: 4.6772899627686\ttrain score: 2.15\tlabel: 39\t"
       ]
      },
      {
       "metadata": {},
       "output_type": "pyout",
       "prompt_number": 40,
       "text": [
        "prediction: [1]69 [2]68 [3]18 [4]64 [5]35\t\n"
       ]
      },
      {
       "metadata": {},
       "output_type": "pyout",
       "prompt_number": 40,
       "text": [
        "idx: 1075\tloss: 4.6732907295227\ttrain score: 2.53\tlabel: 21\tprediction: [1]69 [2]68 [3]18 [4]64 [5]35\t\n"
       ]
      },
      {
       "metadata": {},
       "output_type": "pyout",
       "prompt_number": 40,
       "text": [
        "idx: 1080\tloss: 4.6762900352478\ttrain score: 1.5433333333333\tlabel: 3\tprediction: [1]69 [2]68 [3]18 [4]64 [5]35\t\n"
       ]
      },
      {
       "metadata": {},
       "output_type": "pyout",
       "prompt_number": 40,
       "text": [
        "idx: 1085\tloss: 4.6512899398804\ttrain score: 2.2616666666667\tlabel: 64\tprediction: [1]69 [2]68 [3]18 [4]64 [5]35\t\n"
       ]
      },
      {
       "metadata": {},
       "output_type": "pyout",
       "prompt_number": 40,
       "text": [
        "idx: 1090\tloss: 4.662290096283\ttrain score: 2.3233333333333\tlabel: 4\tprediction: [1]69 [2]68 [3]18 [4]64 [5]35\t\n"
       ]
      },
      {
       "metadata": {},
       "output_type": "pyout",
       "prompt_number": 40,
       "text": [
        "idx: 1095\tloss: 4.6552901268005\ttrain score: 2.515\tlabel: 98\tprediction: [1]69 [2]68 [3]18 [4]64 [5]35\t\n"
       ]
      },
      {
       "metadata": {},
       "output_type": "pyout",
       "prompt_number": 40,
       "text": [
        "idx: 1100\tloss: 4.6732902526855\ttrain score: 1.2383333333333\tlabel: 57\tprediction: [1]69 [2]68 [3]18 [4]64 [5]35\t\n"
       ]
      },
      {
       "metadata": {},
       "output_type": "pyout",
       "prompt_number": 40,
       "text": [
        "idx: 1105\tloss: 4.6762900352478\ttrain score: 2.3433333333333\tlabel: 98\tprediction: [1]69 [2]68 [3]18 [4]64 [5]35\t\n"
       ]
      },
      {
       "metadata": {},
       "output_type": "pyout",
       "prompt_number": 40,
       "text": [
        "idx: 1110\tloss: 4.666289806366\ttrain score: 2.4133333333333\tlabel: 60\tprediction: [1]69 [2]68 [3]18 [4]64 [5]35\t\n"
       ]
      },
      {
       "metadata": {},
       "output_type": "pyout",
       "prompt_number": 40,
       "text": [
        "idx: 1115\tloss: 4.6602902412415\ttrain score: 3.1066666666667\tlabel: 56\tprediction: [1]69 [2]68 [3]18 [4]64 [5]35\t\n"
       ]
      },
      {
       "metadata": {},
       "output_type": "pyout",
       "prompt_number": 40,
       "text": [
        "idx: 1120\tloss: 4.6852903366089\ttrain score: 1.75\tlabel: 12\tprediction: [1]69 [2]68 [3]18 [4]64 [5]35\t\n"
       ]
      },
      {
       "metadata": {},
       "output_type": "pyout",
       "prompt_number": 40,
       "text": [
        "idx: 1125\tloss: 4.666289806366\ttrain score: 2.56\tlabel: 98\tprediction: [1]69 [2]68 [3]18 [4]64 [5]35\t\n"
       ]
      },
      {
       "metadata": {},
       "output_type": "pyout",
       "prompt_number": 40,
       "text": [
        "idx: 1130\t"
       ]
      },
      {
       "metadata": {},
       "output_type": "pyout",
       "prompt_number": 40,
       "text": [
        "loss: 4.6642899513245\ttrain score: 3.0883333333333\tlabel: 62\tprediction: [1]69 [2]68 [3]18 [4]64 [5]35\t\n"
       ]
      },
      {
       "metadata": {},
       "output_type": "pyout",
       "prompt_number": 40,
       "text": [
        "idx: 1135\tloss: 4.6842904090881\ttrain score: 1.575\tlabel: 26\tprediction: [1]69 [2]68 [3]18 [4]64 [5]35\t\n"
       ]
      },
      {
       "metadata": {},
       "output_type": "pyout",
       "prompt_number": 40,
       "text": [
        "idx: 1140\tloss: 4.6852898597717\ttrain score: 2.2233333333333\tlabel: 92\tprediction: [1]69 [2]68 [3]18 [4]64 [5]35\t\n"
       ]
      },
      {
       "metadata": {},
       "output_type": "pyout",
       "prompt_number": 40,
       "text": [
        "idx: 1145\tloss: 4.6632900238037\ttrain score: 2.9616666666667\tlabel: 74\tprediction: [1]69 [2]68 [3]18 [4]64 [5]35\t\n"
       ]
      },
      {
       "metadata": {},
       "output_type": "pyout",
       "prompt_number": 40,
       "text": [
        "idx: 1150\tloss: 4.6592898368835\ttrain score: 2.215\tlabel: 56\tprediction: [1]69 [2]68 [3]18 [4]64 [5]35\t\n"
       ]
      },
      {
       "metadata": {},
       "output_type": "pyout",
       "prompt_number": 40,
       "text": [
        "idx: 1155\tloss: 4.6812901496887\ttrain score: 2.385\tlabel: 8\tprediction: [1]69 [2]68 [3]18 [4]64 [5]35\t\n"
       ]
      },
      {
       "metadata": {},
       "output_type": "pyout",
       "prompt_number": 40,
       "text": [
        "idx: 1160\tloss: 4.6832900047302\ttrain score: 1.785\tlabel: 8\tprediction: [1]69 [2]68 [3]18 [4]64 [5]35\t\n"
       ]
      },
      {
       "metadata": {},
       "output_type": "pyout",
       "prompt_number": 40,
       "text": [
        "idx: 1165\tloss: 4.6682901382446\ttrain score: 2.575\tlabel: 70\tprediction: [1]69 [2]68 [3]18 [4]64 [5]35\t\n"
       ]
      },
      {
       "metadata": {},
       "output_type": "pyout",
       "prompt_number": 40,
       "text": [
        "idx: 1170\tloss: 4.6852898597717\ttrain score: 2.1916666666667\tlabel: 41\tprediction: [1]69 [2]68 [3]18 [4]64 [5]35\t\n"
       ]
      },
      {
       "metadata": {},
       "output_type": "pyout",
       "prompt_number": 40,
       "text": [
        "idx: 1175\tloss: 4.6752901077271\ttrain score: 2.2416666666667\tlabel: 77\tprediction: [1]69 [2]68 [3]18 [4]64 [5]35\t\n"
       ]
      },
      {
       "metadata": {},
       "output_type": "pyout",
       "prompt_number": 40,
       "text": [
        "idx: 1180\tloss: 4.6682901382446\ttrain score: 2.2516666666667\tlabel: 97\tprediction: [1]69 [2]68 [3]18 [4]64 [5]35\t\n"
       ]
      },
      {
       "metadata": {},
       "output_type": "pyout",
       "prompt_number": 40,
       "text": [
        "idx: 1185\tloss: 4.6632900238037\ttrain score: 2.3533333333333\tlabel: 94\tprediction: [1]69 [2]68 [3]18 [4]64 [5]35\t\n"
       ]
      },
      {
       "metadata": {},
       "output_type": "pyout",
       "prompt_number": 40,
       "text": [
        "idx: 1190\tloss: 4.6792898178101\ttrain score: 2.0816666666667\tlabel: 65\tprediction: [1]69 [2]68 [3]18 [4]64 [5]35\t\n"
       ]
      },
      {
       "metadata": {},
       "output_type": "pyout",
       "prompt_number": 40,
       "text": [
        "idx: 1195\tloss: 4.671290397644\ttrain score: 2.6016666666667\tlabel: 85\tprediction: [1]69 [2]68 [3]18 [4]64 [5]35\t\n"
       ]
      },
      {
       "metadata": {},
       "output_type": "pyout",
       "prompt_number": 40,
       "text": [
        "idx: 1200\tloss: 4.6762900352478\ttrain score: 2.505\tlabel: 52\tprediction: [1]69 [2]68 [3]18 [4]64 [5]35\t\n"
       ]
      },
      {
       "metadata": {},
       "output_type": "pyout",
       "prompt_number": 40,
       "text": [
        "idx: 1205\tloss: 4.6682906150818\ttrain score: 2.5833333333333\tlabel: 44\tprediction: [1]69 [2]68 [3]18 [4]64 [5]35\t\n"
       ]
      },
      {
       "metadata": {},
       "output_type": "pyout",
       "prompt_number": 40,
       "text": [
        "idx: 1210\tloss: 4.6612906455994\ttrain score: 2.8183333333333\tlabel: 7\tprediction: [1]69 [2]68 [3]18 [4]64 [5]35\t\n"
       ]
      },
      {
       "metadata": {},
       "output_type": "pyout",
       "prompt_number": 40,
       "text": [
        "idx: 1215\tloss: 4.6742901802063\ttrain score: 1.6716666666667\tlabel: 64\tprediction: [1]69 [2]68 [3]18 [4]64 [5]35\t\n"
       ]
      },
      {
       "metadata": {},
       "output_type": "pyout",
       "prompt_number": 40,
       "text": [
        "idx: 1220\tloss: 4.6612901687622\ttrain score: 2.6416666666667\tlabel: 40\tprediction: [1]69 [2]68 [3]18 [4]64 [5]35\t\n"
       ]
      },
      {
       "metadata": {},
       "output_type": "pyout",
       "prompt_number": 40,
       "text": [
        "idx: 1225\tloss: 4.6812901496887\ttrain score: 1.675\tlabel: 78\tprediction: [1]69 [2]68 [3]18 [4]64 [5]35\t\n"
       ]
      },
      {
       "metadata": {},
       "output_type": "pyout",
       "prompt_number": 40,
       "text": [
        "idx: 1230\tloss: 4.6772904396057\ttrain score: 1.4633333333333\tlabel: 88\tprediction: [1]69 [2]68 [3]18 [4]64 [5]35\t\n"
       ]
      },
      {
       "metadata": {},
       "output_type": "pyout",
       "prompt_number": 40,
       "text": [
        "idx: 1235\tloss: 4.6652903556824\ttrain score: 1.9983333333333\tlabel: 99\tprediction: [1]69 [2]68 [3]18 [4]64 [5]35\t\n"
       ]
      },
      {
       "metadata": {},
       "output_type": "pyout",
       "prompt_number": 40,
       "text": [
        "idx: 1240\tloss: 4.6712899208069\ttrain score: 2.305\tlabel: 7\tprediction: [1]69 [2]68 [3]18 [4]64 [5]35\t\n"
       ]
      },
      {
       "metadata": {},
       "output_type": "pyout",
       "prompt_number": 40,
       "text": [
        "idx: 1245\tloss: 4.6682901382446\ttrain score: 2.4016666666667\tlabel: 83\tprediction: [1]69 [2]68 [3]18 [4]64 [5]35\t\n"
       ]
      },
      {
       "metadata": {},
       "output_type": "pyout",
       "prompt_number": 40,
       "text": [
        "idx: 1250\tloss: 4.6592903137207\ttrain score: 2.9416666666667\tlabel: 96\tprediction: [1]69 [2]68 [3]18 [4]64 [5]35\t\n"
       ]
      },
      {
       "metadata": {},
       "output_type": "pyout",
       "prompt_number": 40,
       "text": [
        "idx: 1255\tloss: 4.6652898788452\ttrain score: 2.595\tlabel: 21\tprediction: [1]69 [2]68 [3]18 [4]64 [5]35\t\n"
       ]
      },
      {
       "metadata": {},
       "output_type": "pyout",
       "prompt_number": 40,
       "text": [
        "idx: 1260\tloss: 4.6532907485962\ttrain score: 2.7916666666667\tlabel: 9\tprediction: [1]69 [2]68 [3]18 [4]64 [5]35\t\n"
       ]
      },
      {
       "metadata": {},
       "output_type": "pyout",
       "prompt_number": 40,
       "text": [
        "idx: 1265\tloss: 4.6582899093628\ttrain score: 2.62\tlabel: 72\tprediction: [1]69 [2]68 [3]18 [4]64 [5]35\t\n"
       ]
      },
      {
       "metadata": {},
       "output_type": "pyout",
       "prompt_number": 40,
       "text": [
        "idx: 1270\tloss: 4.6832900047302\ttrain score: 1.8416666666667\tlabel: 60\tprediction: [1]69 [2]68 [3]18 [4]64 [5]35\t\n"
       ]
      },
      {
       "metadata": {},
       "output_type": "pyout",
       "prompt_number": 40,
       "text": [
        "idx: 1275\t"
       ]
      },
      {
       "metadata": {},
       "output_type": "pyout",
       "prompt_number": 40,
       "text": [
        "loss: 4.6692900657654\ttrain score: 2.3516666666667\tlabel: 46\tprediction: [1]69 [2]68 [3]18 [4]64 [5]35\t\n"
       ]
      },
      {
       "metadata": {},
       "output_type": "pyout",
       "prompt_number": 40,
       "text": [
        "idx: 1280\tloss: 4.6822900772095\ttrain score: 2.475\tlabel: 48\tprediction: [1]69 [2]68 [3]18 [4]64 [5]35\t\n"
       ]
      },
      {
       "metadata": {},
       "output_type": "pyout",
       "prompt_number": 40,
       "text": [
        "idx: 1285\tloss: 4.6562905311584\ttrain score: 2.5583333333333\tlabel: 96\tprediction: [1]69 [2]68 [3]18 [4]64 [5]35\t\n"
       ]
      },
      {
       "metadata": {},
       "output_type": "pyout",
       "prompt_number": 40,
       "text": [
        "idx: 1290\tloss: 4.6652898788452\ttrain score: 2.04\tlabel: 15\tprediction: [1]69 [2]68 [3]18 [4]64 [5]35\t\n"
       ]
      },
      {
       "metadata": {},
       "output_type": "pyout",
       "prompt_number": 40,
       "text": [
        "idx: 1295\tloss: 4.6592903137207\ttrain score: 2.5866666666667\tlabel: 72\tprediction: [1]69 [2]68 [3]18 [4]64 [5]35\t\n"
       ]
      },
      {
       "metadata": {},
       "output_type": "pyout",
       "prompt_number": 40,
       "text": [
        "idx: 1300\tloss: 4.657289981842\ttrain score: 1.9416666666667\tlabel: 45\tprediction: [1]69 [2]68 [3]18 [4]64 [5]35\t\n"
       ]
      },
      {
       "metadata": {},
       "output_type": "pyout",
       "prompt_number": 40,
       "text": [
        "idx: 1305\tloss: 4.6652898788452\ttrain score: 3.3533333333333\tlabel: 87\tprediction: [1]69 [2]68 [3]18 [4]64 [5]35\t\n"
       ]
      },
      {
       "metadata": {},
       "output_type": "pyout",
       "prompt_number": 40,
       "text": [
        "idx: 1310\tloss: 4.6542901992798\ttrain score: 2.1166666666667\tlabel: 55\tprediction: [1]69 [2]68 [3]18 [4]64 [5]35\t\n"
       ]
      },
      {
       "metadata": {},
       "output_type": "pyout",
       "prompt_number": 40,
       "text": [
        "idx: 1315\tloss: 4.6562900543213\ttrain score: 2.995\tlabel: 42\tprediction: [1]69 [2]68 [3]18 [4]64 [5]35\t\n"
       ]
      },
      {
       "metadata": {},
       "output_type": "pyout",
       "prompt_number": 40,
       "text": [
        "idx: 1320\tloss: 4.6692900657654\ttrain score: 2.0966666666667\tlabel: 67\tprediction: [1]69 [2]68 [3]18 [4]64 [5]35\t\n"
       ]
      },
      {
       "metadata": {},
       "output_type": "pyout",
       "prompt_number": 40,
       "text": [
        "idx: 1325\tloss: 4.6722898483276\ttrain score: 2.425\tlabel: 65\tprediction: [1]69 [2]68 [3]18 [4]64 [5]35\t\n"
       ]
      },
      {
       "metadata": {},
       "output_type": "pyout",
       "prompt_number": 40,
       "text": [
        "idx: 1330\tloss: 4.6732907295227\ttrain score: 2.1233333333333\tlabel: 21\tprediction: [1]69 [2]68 [3]18 [4]64 [5]35\t\n"
       ]
      },
      {
       "metadata": {},
       "output_type": "pyout",
       "prompt_number": 40,
       "text": [
        "idx: 1335\tloss: 4.6812901496887\ttrain score: 1.9016666666667\tlabel: 60\tprediction: [1]69 [2]68 [3]18 [4]64 [5]35\t\n"
       ]
      },
      {
       "metadata": {},
       "output_type": "pyout",
       "prompt_number": 40,
       "text": [
        "idx: 1340\tloss: 4.6642904281616\ttrain score: 2.19\tlabel: 67\tprediction: [1]69 [2]68 [3]18 [4]64 [5]35\t\n"
       ]
      },
      {
       "metadata": {},
       "output_type": "pyout",
       "prompt_number": 40,
       "text": [
        "idx: 1345\tloss: 4.6742901802063\ttrain score: 1.9716666666667\tlabel: 27\tprediction: [1]69 [2]68 [3]18 [4]64 [5]35\t\n"
       ]
      },
      {
       "metadata": {},
       "output_type": "pyout",
       "prompt_number": 40,
       "text": [
        "idx: 1350\tloss: 4.6692900657654\t"
       ]
      },
      {
       "metadata": {},
       "output_type": "pyout",
       "prompt_number": 40,
       "text": [
        "train score: 2.2216666666667\tlabel: 39\tprediction: [1]69 [2]68 [3]18 [4]64 [5]35\t\n"
       ]
      },
      {
       "metadata": {},
       "output_type": "pyout",
       "prompt_number": 40,
       "text": [
        "idx: 1355\tloss: 4.6732902526855\ttrain score: 2.0533333333333\tlabel: 39\tprediction: [1]69 [2]68 [3]18 [4]64 [5]35\t\n"
       ]
      },
      {
       "metadata": {},
       "output_type": "pyout",
       "prompt_number": 40,
       "text": [
        "idx: 1360\tloss: 4.657289981842\ttrain score: 2.32\tlabel: 19\tprediction: [1]69 [2]68 [3]18 [4]64 [5]35\t\n"
       ]
      },
      {
       "metadata": {},
       "output_type": "pyout",
       "prompt_number": 40,
       "text": [
        "idx: 1365\tloss: 4.6642899513245\ttrain score: 2.3383333333333\tlabel: 49\tprediction: [1]69 [2]68 [3]18 [4]64 [5]35\t\n"
       ]
      },
      {
       "metadata": {},
       "output_type": "pyout",
       "prompt_number": 40,
       "text": [
        "idx: 1370\tloss: 4.6612906455994\ttrain score: 2.84\tlabel: 60\tprediction: [1]69 [2]68 [3]18 [4]64 [5]35\t\n"
       ]
      },
      {
       "metadata": {},
       "output_type": "pyout",
       "prompt_number": 40,
       "text": [
        "idx: 1375\tloss: 4.6642899513245\ttrain score: 3.0166666666667\tlabel: 9\tprediction: [1]69 [2]68 [3]18 [4]64 [5]35\t\n"
       ]
      },
      {
       "metadata": {},
       "output_type": "pyout",
       "prompt_number": 40,
       "text": [
        "idx: 1380\tloss: 4.6632900238037\ttrain score: 2.74\tlabel: 57\tprediction: [1]69 [2]68 [3]18 [4]64 [5]35\t\n"
       ]
      },
      {
       "metadata": {},
       "output_type": "pyout",
       "prompt_number": 40,
       "text": [
        "idx: 1385\tloss: 4.666289806366\ttrain score: 2.4783333333333\tlabel: 98\tprediction: [1]69 [2]68 [3]18 [4]64 [5]35\t\n"
       ]
      },
      {
       "metadata": {},
       "output_type": "pyout",
       "prompt_number": 40,
       "text": [
        "idx: 1390\tloss: 4.6682901382446\ttrain score: 2.0266666666667\tlabel: 17\tprediction: [1]69 [2]68 [3]18 [4]64 [5]35\t\n"
       ]
      },
      {
       "metadata": {},
       "output_type": "pyout",
       "prompt_number": 40,
       "text": [
        "idx: 1395\tloss: 4.6642899513245\ttrain score: 2.4133333333333\tlabel: 82\tprediction: [1]69 [2]68 [3]18 [4]64 [5]35\t\n"
       ]
      },
      {
       "metadata": {},
       "output_type": "pyout",
       "prompt_number": 40,
       "text": [
        "idx: 1400\tloss: 4.6642899513245\ttrain score: 2.7066666666667\tlabel: 70\tprediction: [1]69 [2]68 [3]18 [4]64 [5]35\t\n"
       ]
      },
      {
       "metadata": {},
       "output_type": "pyout",
       "prompt_number": 40,
       "text": [
        "idx: 1405\tloss: 4.6762900352478\ttrain score: 1.685\tlabel: 43\tprediction: [1]69 [2]68 [3]18 [4]64 [5]35\t\n"
       ]
      },
      {
       "metadata": {},
       "output_type": "pyout",
       "prompt_number": 40,
       "text": [
        "idx: 1410\tloss: 4.680290222168\ttrain score: 2.2066666666667\tlabel: 9\tprediction: [1]69 [2]68 [3]18 [4]64 [5]35\t\n"
       ]
      },
      {
       "metadata": {},
       "output_type": "pyout",
       "prompt_number": 40,
       "text": [
        "idx: 1415\tloss: 4.6512899398804\ttrain score: 2.2116666666667\tlabel: 65\tprediction: [1]69 [2]68 [3]18 [4]64 [5]35\t"
       ]
      },
      {
       "metadata": {},
       "output_type": "pyout",
       "prompt_number": 40,
       "text": [
        "\n"
       ]
      },
      {
       "metadata": {},
       "output_type": "pyout",
       "prompt_number": 40,
       "text": [
        "idx: 1420\tloss: 4.6582899093628\ttrain score: 2.4116666666667\tlabel: 90\tprediction: [1]69 [2]68 [3]18 [4]64 [5]35\t\n"
       ]
      },
      {
       "metadata": {},
       "output_type": "pyout",
       "prompt_number": 40,
       "text": [
        "idx: 1425\tloss: 4.6712899208069\ttrain score: 2.0816666666667\tlabel: 31\tprediction: [1]69 [2]68 [3]18 [4]64 [5]35\t\n"
       ]
      },
      {
       "metadata": {},
       "output_type": "pyout",
       "prompt_number": 40,
       "text": [
        "idx: 1430\tloss: 4.6592898368835\ttrain score: 2.6266666666667\tlabel: 37\tprediction: [1]69 [2]68 [3]18 [4]64 [5]35\t\n"
       ]
      },
      {
       "metadata": {},
       "output_type": "pyout",
       "prompt_number": 40,
       "text": [
        "idx: 1435\tloss: 4.6742901802063\ttrain score: 2.1316666666667\tlabel: 35\tprediction: [1]69 [2]68 [3]18 [4]64 [5]35\t\n"
       ]
      },
      {
       "metadata": {},
       "output_type": "pyout",
       "prompt_number": 40,
       "text": [
        "idx: 1440\tloss: 4.6812901496887\ttrain score: 2.34\tlabel: 96\tprediction: [1]69 [2]68 [3]18 [4]64 [5]35\t\n"
       ]
      },
      {
       "metadata": {},
       "output_type": "pyout",
       "prompt_number": 40,
       "text": [
        "idx: 1445\tloss: 4.6632905006409\ttrain score: 1.8983333333333\tlabel: 75\tprediction: [1]69 [2]68 [3]18 [4]64 [5]35\t\n"
       ]
      },
      {
       "metadata": {},
       "output_type": "pyout",
       "prompt_number": 40,
       "text": [
        "idx: 1450\tloss: 4.6862902641296\ttrain score: 1.7516666666667\tlabel: 44\tprediction: [1]69 [2]68 [3]18 [4]64 [5]35\t\n"
       ]
      },
      {
       "metadata": {},
       "output_type": "pyout",
       "prompt_number": 40,
       "text": [
        "idx: 1455\tloss: 4.6672902107239\ttrain score: 2.2566666666667\tlabel: 12\tprediction: [1]69 [2]68 [3]18 [4]64 [5]35\t\n"
       ]
      },
      {
       "metadata": {},
       "output_type": "pyout",
       "prompt_number": 40,
       "text": [
        "idx: 1460\tloss: 4.6682901382446\ttrain score: 2.1183333333333\t"
       ]
      },
      {
       "metadata": {},
       "output_type": "pyout",
       "prompt_number": 40,
       "text": [
        "label: 12\tprediction: [1]69 [2]68 [3]18 [4]64 [5]35\t\n"
       ]
      },
      {
       "metadata": {},
       "output_type": "pyout",
       "prompt_number": 40,
       "text": [
        "idx: 1465\tloss: 4.676290512085\ttrain score: 2.2966666666667\tlabel: 12\tprediction: [1]69 [2]68 [3]18 [4]64 [5]35\t\n"
       ]
      },
      {
       "metadata": {},
       "output_type": "pyout",
       "prompt_number": 40,
       "text": [
        "idx: 1470\tloss: 4.6592898368835\ttrain score: 2.7166666666667\tlabel: 69\tprediction: [1]69 [2]68 [3]18 [4]64 [5]35\t\n"
       ]
      },
      {
       "metadata": {},
       "output_type": "pyout",
       "prompt_number": 40,
       "text": [
        "idx: 1475\tloss: 4.6592903137207\ttrain score: 2.3766666666667\tlabel: 19\tprediction: [1]69 [2]68 [3]18 [4]64 [5]35\t\n"
       ]
      },
      {
       "metadata": {},
       "output_type": "pyout",
       "prompt_number": 40,
       "text": [
        "idx: 1480\tloss: 4.666289806366\ttrain score: 2.455\tlabel: 7\tprediction: [1]69 [2]68 [3]18 [4]64 [5]35\t\n"
       ]
      },
      {
       "metadata": {},
       "output_type": "pyout",
       "prompt_number": 40,
       "text": [
        "idx: 1485\tloss: 4.6702904701233\ttrain score: 2.1266666666667\tlabel: 41\tprediction: [1]69 [2]68 [3]18 [4]64 [5]35\t\n"
       ]
      },
      {
       "metadata": {},
       "output_type": "pyout",
       "prompt_number": 40,
       "text": [
        "idx: 1490\tloss: 4.6612901687622\ttrain score: 2.575\tlabel: 43\tprediction: [1]69 [2]68 [3]18 [4]64 [5]35\t\n"
       ]
      },
      {
       "metadata": {},
       "output_type": "pyout",
       "prompt_number": 40,
       "text": [
        "idx: 1495\tloss: 4.6542906761169\ttrain score: 3.615\tlabel: 57\t"
       ]
      },
      {
       "metadata": {},
       "output_type": "pyout",
       "prompt_number": 40,
       "text": [
        "prediction: [1]69 [2]68 [3]18 [4]64 [5]35\t\n"
       ]
      },
      {
       "metadata": {},
       "output_type": "pyout",
       "prompt_number": 40,
       "text": [
        "current LR: 0.005\t\n"
       ]
      },
      {
       "metadata": {},
       "output_type": "pyout",
       "prompt_number": 40,
       "text": [
        "idx: 1500\tloss: 4.6552906036377\ttrain score: 2.8216666666667\tlabel: 79\tprediction: [1]69 [2]68 [3]18 [4]64 [5]35\t\n"
       ]
      },
      {
       "metadata": {},
       "output_type": "pyout",
       "prompt_number": 40,
       "text": [
        "idx: 1505\tloss: 4.6782898902893\ttrain score: 1.87\tlabel: 1\tprediction: [1]69 [2]68 [3]18 [4]64 [5]35\t\n"
       ]
      },
      {
       "metadata": {},
       "output_type": "pyout",
       "prompt_number": 40,
       "text": [
        "idx: 1510\tloss: 4.6772904396057\ttrain score: 2.2533333333333\tlabel: 25\tprediction: [1]69 [2]68 [3]18 [4]64 [5]35\t\n"
       ]
      },
      {
       "metadata": {},
       "output_type": "pyout",
       "prompt_number": 40,
       "text": [
        "idx: 1515\tloss: 4.6702899932861\ttrain score: 2.58\tlabel: 38\tprediction: [1]69 [2]68 [3]18 [4]64 [5]35\t\n"
       ]
      },
      {
       "metadata": {},
       "output_type": "pyout",
       "prompt_number": 40,
       "text": [
        "idx: 1520\tloss: 4.6732902526855\ttrain score: 1.9933333333333\tlabel: 31\tprediction: [1]69 [2]68 [3]18 [4]64 [5]35\t\n"
       ]
      },
      {
       "metadata": {},
       "output_type": "pyout",
       "prompt_number": 40,
       "text": [
        "idx: 1525\tloss: 4.6742901802063\ttrain score: 2.0566666666667\tlabel: 87\tprediction: [1]69 [2]68 [3]18 [4]64 [5]35\t\n"
       ]
      },
      {
       "metadata": {},
       "output_type": "pyout",
       "prompt_number": 40,
       "text": [
        "idx: 1530\tloss: 4.6592898368835\ttrain score: 2.7116666666667\tlabel: 74\tprediction: [1]69 [2]68 [3]18 [4]64 [5]35\t\n"
       ]
      },
      {
       "metadata": {},
       "output_type": "pyout",
       "prompt_number": 40,
       "text": [
        "idx: 1535\tloss: 4.6722903251648\ttrain score: 1.965\tlabel: 58\tprediction: [1]69 [2]68 [3]18 [4]64 [5]35\t\n"
       ]
      },
      {
       "metadata": {},
       "output_type": "pyout",
       "prompt_number": 40,
       "text": [
        "idx: 1540\tloss: 4.6702899932861\ttrain score: 2.415\tlabel: 87\tprediction: [1]69 [2]68 [3]18 [4]64 [5]35\t\n"
       ]
      },
      {
       "metadata": {},
       "output_type": "pyout",
       "prompt_number": 40,
       "text": [
        "idx: 1545\tloss: 4.6592903137207\ttrain score: 2.425\tlabel: 72\tprediction: [1]69 [2]68 [3]18 [4]64 [5]35\t\n"
       ]
      },
      {
       "metadata": {},
       "output_type": "pyout",
       "prompt_number": 40,
       "text": [
        "idx: 1550\tloss: 4.6802906990051\ttrain score: 2.105\tlabel: 80\tprediction: [1]69 [2]68 [3]18 [4]64 [5]35\t\n"
       ]
      },
      {
       "metadata": {},
       "output_type": "pyout",
       "prompt_number": 40,
       "text": [
        "idx: 1555\tloss: 4.6662907600403\ttrain score: 1.9666666666667\tlabel: 46\tprediction: [1]69 [2]68 [3]18 [4]64 [5]35\t\n"
       ]
      },
      {
       "metadata": {},
       "output_type": "pyout",
       "prompt_number": 40,
       "text": [
        "idx: 1560\tloss: 4.6882901191711\ttrain score: 1.6116666666667\tlabel: 48\tprediction: [1]69 [2]68 [3]18 [4]64 [5]35\t\n"
       ]
      },
      {
       "metadata": {},
       "output_type": "pyout",
       "prompt_number": 40,
       "text": [
        "idx: 1565\tloss: 4.6582899093628\ttrain score: 2.475\tlabel: 69\tprediction: [1]69 [2]68 [3]18 [4]64 [5]35\t\n"
       ]
      },
      {
       "metadata": {},
       "output_type": "pyout",
       "prompt_number": 40,
       "text": [
        "idx: 1570\tloss: 4.6652903556824\ttrain score: 2.6116666666667\tlabel: 2\tprediction: [1]69 [2]68 [3]18 [4]64 [5]35\t\n"
       ]
      },
      {
       "metadata": {},
       "output_type": "pyout",
       "prompt_number": 40,
       "text": [
        "idx: 1575\tloss: 4.6872901916504\ttrain score: 2.03\tlabel: 39\tprediction: [1]69 [2]68 [3]18 [4]64 [5]35\t\n"
       ]
      },
      {
       "metadata": {},
       "output_type": "pyout",
       "prompt_number": 40,
       "text": [
        "idx: 1580\tloss: 4.653290271759\ttrain score: 3.0316666666667\tlabel: 69\tprediction: [1]69 [2]68 [3]18 [4]64 [5]35\t\n"
       ]
      },
      {
       "metadata": {},
       "output_type": "pyout",
       "prompt_number": 40,
       "text": [
        "idx: 1585\tloss: 4.6692905426025\ttrain score: 2.2283333333333\tlabel: 94\tprediction: [1]69 [2]68 [3]18 [4]64 [5]35\t\n"
       ]
      },
      {
       "metadata": {},
       "output_type": "pyout",
       "prompt_number": 40,
       "text": [
        "idx: 1590\tloss: 4.6542906761169\ttrain score: 2.64\tlabel: 89\tprediction: [1]69 [2]68 [3]18 [4]64 [5]35\t\n"
       ]
      },
      {
       "metadata": {},
       "output_type": "pyout",
       "prompt_number": 40,
       "text": [
        "idx: 1595\tloss: 4.6742906570435\ttrain score: 2.06\tlabel: 74\tprediction: [1]69 [2]68 [3]18 [4]64 [5]35\t\n"
       ]
      },
      {
       "metadata": {},
       "output_type": "pyout",
       "prompt_number": 40,
       "text": [
        "idx: 1600\tloss: 4.6792898178101\ttrain score: 1.6166666666667\tlabel: 53\tprediction: [1]69 [2]68 [3]18 [4]64 [5]35\t\n"
       ]
      },
      {
       "metadata": {},
       "output_type": "pyout",
       "prompt_number": 40,
       "text": [
        "idx: 1605\tloss: 4.6672902107239\ttrain score: 2.3916666666667\tlabel: 38\tprediction: [1]69 [2]68 [3]18 [4]64 [5]35\t\n"
       ]
      },
      {
       "metadata": {},
       "output_type": "pyout",
       "prompt_number": 40,
       "text": [
        "idx: 1610\tloss: 4.6652898788452\ttrain score: 2.42\tlabel: 72\tprediction: [1]69 [2]68 [3]18 [4]64 [5]35\t\n"
       ]
      },
      {
       "metadata": {},
       "output_type": "pyout",
       "prompt_number": 40,
       "text": [
        "idx: 1615\tloss: 4.6472902297974\ttrain score: 2.5866666666667\tlabel: 22\tprediction: [1]69 [2]68 [3]18 [4]64 [5]35\t\n"
       ]
      },
      {
       "metadata": {},
       "output_type": "pyout",
       "prompt_number": 40,
       "text": [
        "idx: 1620\tloss: 4.6712899208069\ttrain score: 2.3433333333333\tlabel: 49\tprediction: [1]69 [2]68 [3]18 [4]64 [5]35\t\n"
       ]
      },
      {
       "metadata": {},
       "output_type": "pyout",
       "prompt_number": 40,
       "text": [
        "idx: 1625\tloss: 4.6722898483276\ttrain score: 2.0533333333333\tlabel: 100\tprediction: [1]69 [2]68 [3]18 [4]64 [5]35\t\n"
       ]
      },
      {
       "metadata": {},
       "output_type": "pyout",
       "prompt_number": 40,
       "text": [
        "idx: 1630\tloss: 4.6642904281616\ttrain score: 2.6566666666667\tlabel: 61\tprediction: [1]69 [2]68 [3]18 [4]64 [5]35\t\n"
       ]
      },
      {
       "metadata": {},
       "output_type": "pyout",
       "prompt_number": 40,
       "text": [
        "idx: 1635\tloss: 4.6752901077271\ttrain score: 2.1033333333333\tlabel: 75\tprediction: [1]69 [2]68 [3]18 [4]64 [5]35\t\n"
       ]
      },
      {
       "metadata": {},
       "output_type": "pyout",
       "prompt_number": 40,
       "text": [
        "idx: 1640\tloss: 4.7012901306152\ttrain score: 2.45\tlabel: 27\tprediction: [1]69 [2]68 [3]18 [4]64 [5]35\t\n"
       ]
      },
      {
       "metadata": {},
       "output_type": "pyout",
       "prompt_number": 40,
       "text": [
        "idx: 1645\tloss: 4.6582899093628\ttrain score: 2.2733333333333\tlabel: 24\tprediction: [1]69 [2]68 [3]18 [4]64 [5]35\t\n"
       ]
      },
      {
       "metadata": {},
       "output_type": "pyout",
       "prompt_number": 40,
       "text": [
        "idx: 1650\tloss: 4.6592898368835\ttrain score: 1.995\tlabel: 15\tprediction: [1]69 [2]68 [3]18 [4]64 [5]35\t\n"
       ]
      },
      {
       "metadata": {},
       "output_type": "pyout",
       "prompt_number": 40,
       "text": [
        "idx: 1655\tloss: 4.6782898902893\ttrain score: 2.4383333333333\tlabel: 59\tprediction: [1]69 [2]68 [3]18 [4]64 [5]35\t\n"
       ]
      },
      {
       "metadata": {},
       "output_type": "pyout",
       "prompt_number": 40,
       "text": [
        "idx: 1660\tloss: 4.6502904891968\ttrain score: 2.2066666666667\tlabel: 10\tprediction: [1]69 [2]68 [3]18 [4]64 [5]35\t\n"
       ]
      },
      {
       "metadata": {},
       "output_type": "pyout",
       "prompt_number": 40,
       "text": [
        "idx: 1665\tloss: 4.6722898483276\ttrain score: 2.335\tlabel: 8\tprediction: [1]69 [2]68 [3]18 [4]64 [5]35\t\n"
       ]
      },
      {
       "metadata": {},
       "output_type": "pyout",
       "prompt_number": 40,
       "text": [
        "idx: 1670\tloss: 4.6612901687622\ttrain score: 2.055\tlabel: 90\tprediction: [1]69 [2]68 [3]18 [4]64 [5]35\t\n"
       ]
      },
      {
       "metadata": {},
       "output_type": "pyout",
       "prompt_number": 40,
       "text": [
        "idx: 1675\tloss: 4.6672902107239\ttrain score: 2.5233333333333\tlabel: 48\tprediction: [1]69 [2]68 [3]18 [4]64 [5]35\t\n"
       ]
      },
      {
       "metadata": {},
       "output_type": "pyout",
       "prompt_number": 40,
       "text": [
        "idx: 1680\tloss: 4.662290096283\ttrain score: 2.6166666666667\tlabel: 32\tprediction: [1]69 [2]68 [3]18 [4]64 [5]35\t\n"
       ]
      },
      {
       "metadata": {},
       "output_type": "pyout",
       "prompt_number": 40,
       "text": [
        "idx: 1685\tloss: 4.6812901496887\ttrain score: 1.9616666666667\tlabel: 13\tprediction: [1]69 [2]68 [3]18 [4]64 [5]35\t\n"
       ]
      },
      {
       "metadata": {},
       "output_type": "pyout",
       "prompt_number": 40,
       "text": [
        "idx: 1690\tloss: 4.6652898788452\ttrain score: 2.1283333333333\tlabel: 79\tprediction: [1]69 [2]68 [3]18 [4]64 [5]35\t\n"
       ]
      },
      {
       "metadata": {},
       "output_type": "pyout",
       "prompt_number": 40,
       "text": [
        "idx: 1695\tloss: 4.6602902412415\ttrain score: 2.48\tlabel: 27\tprediction: [1]69 [2]68 [3]18 [4]64 [5]35\t\n"
       ]
      },
      {
       "metadata": {},
       "output_type": "pyout",
       "prompt_number": 40,
       "text": [
        "idx: 1700\tloss: 4.6702904701233\ttrain score: 2.2083333333333\tlabel: 24\tprediction: [1]69 [2]68 [3]18 [4]64 [5]35\t\n"
       ]
      },
      {
       "metadata": {},
       "output_type": "pyout",
       "prompt_number": 40,
       "text": [
        "idx: 1705\tloss: 4.6742901802063\t"
       ]
      },
      {
       "metadata": {},
       "output_type": "pyout",
       "prompt_number": 40,
       "text": [
        "train score: 2.0683333333333\tlabel: 36\tprediction: [1]69 [2]68 [3]18 [4]64 [5]35\t\n"
       ]
      },
      {
       "metadata": {},
       "output_type": "pyout",
       "prompt_number": 40,
       "text": [
        "idx: 1710\tloss: 4.6702899932861\ttrain score: 2.3916666666667\tlabel: 65\tprediction: [1]69 [2]68 [3]18 [4]64 [5]35\t\n"
       ]
      },
      {
       "metadata": {},
       "output_type": "pyout",
       "prompt_number": 40,
       "text": [
        "idx: 1715\tloss: 4.6822900772095\ttrain score: 1.8433333333333\tlabel: 43\tprediction: [1]69 [2]68 [3]18 [4]64 [5]35\t\n"
       ]
      },
      {
       "metadata": {},
       "output_type": "pyout",
       "prompt_number": 40,
       "text": [
        "idx: 1720\tloss: 4.6702904701233\ttrain score: 2.26\tlabel: 51\tprediction: [1]69 [2]68 [3]18 [4]64 [5]35\t\n"
       ]
      },
      {
       "metadata": {},
       "output_type": "pyout",
       "prompt_number": 40,
       "text": [
        "idx: 1725\tloss: 4.6612901687622\ttrain score: 3.0366666666667\tlabel: 74\tprediction: [1]69 [2]68 [3]18 [4]64 [5]35\t\n"
       ]
      },
      {
       "metadata": {},
       "output_type": "pyout",
       "prompt_number": 40,
       "text": [
        "idx: 1730\tloss: 4.6722903251648\ttrain score: 2.02\tlabel: 87\tprediction: [1]69 [2]68 [3]18 [4]64 [5]35\t\n"
       ]
      },
      {
       "metadata": {},
       "output_type": "pyout",
       "prompt_number": 40,
       "text": [
        "idx: 1735\tloss: 4.667290687561\ttrain score: 2.0916666666667\tlabel: 11\tprediction: [1]69 [2]68 [3]18 [4]64 [5]35\t\n"
       ]
      },
      {
       "metadata": {},
       "output_type": "pyout",
       "prompt_number": 40,
       "text": [
        "idx: 1740\tloss: 4.6682901382446\ttrain score: 2.9416666666667\tlabel: 89\tprediction: [1]69 [2]68 [3]18 [4]64 [5]35\t\n"
       ]
      },
      {
       "metadata": {},
       "output_type": "pyout",
       "prompt_number": 40,
       "text": [
        "idx: 1745\tloss: 4.6662907600403\ttrain score: 2.2783333333333\tlabel: 45\tprediction: [1]69 [2]68 [3]18 [4]64 [5]35\t\n"
       ]
      },
      {
       "metadata": {},
       "output_type": "pyout",
       "prompt_number": 40,
       "text": [
        "idx: 1750\tloss: 4.6702899932861\ttrain score: 2.1583333333333\tlabel: 69\tprediction: [1]69 [2]68 [3]18 [4]64 [5]35\t\n"
       ]
      },
      {
       "metadata": {},
       "output_type": "pyout",
       "prompt_number": 40,
       "text": [
        "idx: 1755\tloss: 4.6662907600403\ttrain score: 2.3266666666667\tlabel: 25\tprediction: [1]69 [2]68 [3]18 [4]64 [5]35\t\n"
       ]
      },
      {
       "metadata": {},
       "output_type": "pyout",
       "prompt_number": 40,
       "text": [
        "idx: 1760\tloss: 4.662290096283\ttrain score: 2.535\tlabel: 100\tprediction: [1]69 [2]68 [3]18 [4]64 [5]35\t\n"
       ]
      },
      {
       "metadata": {},
       "output_type": "pyout",
       "prompt_number": 40,
       "text": [
        "idx: 1765\tloss: 4.6872901916504\ttrain score: 1.81\tlabel: 43\tprediction: [1]69 [2]68 [3]18 [4]64 [5]35\t\n"
       ]
      },
      {
       "metadata": {},
       "output_type": "pyout",
       "prompt_number": 40,
       "text": [
        "idx: 1770\tloss: 4.6862902641296\ttrain score: 2.0133333333333\tlabel: 15\tprediction: [1]69 [2]68 [3]18 [4]64 [5]35\t\n"
       ]
      },
      {
       "metadata": {},
       "output_type": "pyout",
       "prompt_number": 40,
       "text": [
        "idx: 1775\tloss: 4.6742901802063\ttrain score: 2.1616666666667\tlabel: 99\tprediction: [1]69 [2]68 [3]18 [4]64 [5]35\t\n"
       ]
      },
      {
       "metadata": {},
       "output_type": "pyout",
       "prompt_number": 40,
       "text": [
        "idx: 1780\tloss: 4.6592898368835\ttrain score: 2.5\tlabel: 87\tprediction: [1]69 [2]68 [3]18 [4]64 [5]35\t\n"
       ]
      },
      {
       "metadata": {},
       "output_type": "pyout",
       "prompt_number": 40,
       "text": [
        "idx: 1785\tloss: 4.6812901496887\ttrain score: 1.4766666666667\tlabel: 92\tprediction: [1]69 [2]68 [3]18 [4]64 [5]35\t\n"
       ]
      },
      {
       "metadata": {},
       "output_type": "pyout",
       "prompt_number": 40,
       "text": [
        "idx: 1790\tloss: 4.6642899513245\ttrain score: 2.665\tlabel: 63\tprediction: [1]69 [2]68 [3]18 [4]64 [5]35\t\n"
       ]
      },
      {
       "metadata": {},
       "output_type": "pyout",
       "prompt_number": 40,
       "text": [
        "idx: 1795\tloss: 4.6682901382446\ttrain score: 2.34\tlabel: 84\tprediction: [1]69 [2]68 [3]18 [4]64 [5]35\t\n"
       ]
      },
      {
       "metadata": {},
       "output_type": "pyout",
       "prompt_number": 40,
       "text": [
        "idx: 1800\tloss: 4.6842904090881\ttrain score: 1.94\tlabel: 26\tprediction: [1]69 [2]68 [3]18 [4]64 [5]35\t\n"
       ]
      },
      {
       "metadata": {},
       "output_type": "pyout",
       "prompt_number": 40,
       "text": [
        "idx: 1805\tloss: 4.657289981842\ttrain score: 3.1566666666667\tlabel: 7\tprediction: [1]69 [2]68 [3]18 [4]64 [5]35\t\n"
       ]
      },
      {
       "metadata": {},
       "output_type": "pyout",
       "prompt_number": 40,
       "text": [
        "idx: 1810\tloss: 4.6732902526855\ttrain score: 1.925\tlabel: 25\tprediction: [1]69 [2]68 [3]18 [4]64 [5]35\t\n"
       ]
      },
      {
       "metadata": {},
       "output_type": "pyout",
       "prompt_number": 40,
       "text": [
        "idx: 1815\tloss: 4.6812901496887\ttrain score: 1.99\tlabel: 15\tprediction: [1]69 [2]68 [3]18 [4]64 [5]35\t\n"
       ]
      },
      {
       "metadata": {},
       "output_type": "pyout",
       "prompt_number": 40,
       "text": [
        "idx: 1820\tloss: 4.6522898674011\ttrain score: 1.8533333333333\tlabel: 75\tprediction: [1]69 [2]68 [3]18 [4]64 [5]35\t\n"
       ]
      },
      {
       "metadata": {},
       "output_type": "pyout",
       "prompt_number": 40,
       "text": [
        "idx: 1825\tloss: 4.6852898597717\ttrain score: 1.4366666666667\tlabel: 7\tprediction: [1]69 [2]68 [3]18 [4]64 [5]35\t\n"
       ]
      },
      {
       "metadata": {},
       "output_type": "pyout",
       "prompt_number": 40,
       "text": [
        "idx: 1830\tloss: 4.6742901802063\ttrain score: 2.0233333333333\tlabel: 27\tprediction: [1]69 [2]68 [3]18 [4]64 [5]35\t\n"
       ]
      },
      {
       "metadata": {},
       "output_type": "pyout",
       "prompt_number": 40,
       "text": [
        "idx: 1835\tloss: 4.6472907066345\ttrain score: 2.7633333333333\tlabel: 73\tprediction: [1]69 [2]68 [3]18 [4]64 [5]35\t\n"
       ]
      },
      {
       "metadata": {},
       "output_type": "pyout",
       "prompt_number": 40,
       "text": [
        "idx: 1840\tloss: 4.6812901496887\ttrain score: 1.8516666666667\tlabel: 65\tprediction: [1]69 [2]68 [3]18 [4]64 [5]35\t\n"
       ]
      },
      {
       "metadata": {},
       "output_type": "pyout",
       "prompt_number": 40,
       "text": [
        "idx: 1845\tloss: 4.6582903862\ttrain score: 2.5766666666667\tlabel: 81\tprediction: [1]69 [2]68 [3]18 [4]64 [5]35\t\n"
       ]
      },
      {
       "metadata": {},
       "output_type": "pyout",
       "prompt_number": 40,
       "text": [
        "idx: 1850\tloss: 4.6552901268005\ttrain score: 2.4783333333333\tlabel: 97\tprediction: [1]69 [2]68 [3]18 [4]64 [5]35\t\n"
       ]
      },
      {
       "metadata": {},
       "output_type": "pyout",
       "prompt_number": 40,
       "text": [
        "idx: 1855\tloss: 4.6762900352478\ttrain score: 1.8416666666667\tlabel: 77\tprediction: [1]69 [2]68 [3]18 [4]64 [5]35\t\n"
       ]
      },
      {
       "metadata": {},
       "output_type": "pyout",
       "prompt_number": 40,
       "text": [
        "idx: 1860\tloss: 4.6602902412415\ttrain score: 2.1916666666667\tlabel: 29\tprediction: [1]69 [2]68 [3]18 [4]64 [5]35\t\n"
       ]
      },
      {
       "metadata": {},
       "output_type": "pyout",
       "prompt_number": 40,
       "text": [
        "idx: 1865\tloss: 4.6652903556824\ttrain score: 2.0083333333333\tlabel: 33\tprediction: [1]69 [2]68 [3]18 [4]64 [5]35\t\n"
       ]
      },
      {
       "metadata": {},
       "output_type": "pyout",
       "prompt_number": 40,
       "text": [
        "idx: 1870\tloss: 4.6612901687622\ttrain score: 2.1016666666667\tlabel: 35\tprediction: [1]69 [2]68 [3]18 [4]64 [5]35\t\n"
       ]
      },
      {
       "metadata": {},
       "output_type": "pyout",
       "prompt_number": 40,
       "text": [
        "idx: 1875\tloss: 4.6572904586792\ttrain score: 2.8866666666667\tlabel: 26\tprediction: [1]69 [2]68 [3]18 [4]64 [5]35\t\n"
       ]
      },
      {
       "metadata": {},
       "output_type": "pyout",
       "prompt_number": 40,
       "text": [
        "idx: 1880\tloss: 4.6652898788452\ttrain score: 2.7683333333333\tlabel: 24\tprediction: [1]69 [2]68 [3]18 [4]64 [5]35\t\n"
       ]
      },
      {
       "metadata": {},
       "output_type": "pyout",
       "prompt_number": 40,
       "text": [
        "idx: 1885\tloss: 4.6652898788452\ttrain score: 2.4783333333333\tlabel: 83\tprediction: [1]69 [2]68 [3]18 [4]64 [5]35\t\n"
       ]
      },
      {
       "metadata": {},
       "output_type": "pyout",
       "prompt_number": 40,
       "text": [
        "idx: 1890\tloss: 4.666289806366\ttrain score: 2.3283333333333\tlabel: 18\tprediction: [1]69 [2]68 [3]18 [4]64 [5]35\t\n"
       ]
      },
      {
       "metadata": {},
       "output_type": "pyout",
       "prompt_number": 40,
       "text": [
        "idx: 1895\tloss: 4.6672902107239\ttrain score: 2.265\tlabel: 2\tprediction: [1]69 [2]68 [3]18 [4]64 [5]35\t\n"
       ]
      },
      {
       "metadata": {},
       "output_type": "pyout",
       "prompt_number": 40,
       "text": [
        "idx: 1900\tloss: 4.635290145874\ttrain score: 3.275\tlabel: 51\tprediction: [1]69 [2]68 [3]18 [4]64 [5]35\t\n"
       ]
      },
      {
       "metadata": {},
       "output_type": "pyout",
       "prompt_number": 40,
       "text": [
        "idx: 1905\tloss: 4.667290687561\ttrain score: 2.5816666666667\tlabel: 97\tprediction: [1]69 [2]68 [3]18 [4]64 [5]35\t\n"
       ]
      },
      {
       "metadata": {},
       "output_type": "pyout",
       "prompt_number": 40,
       "text": [
        "idx: 1910\tloss: 4.6632900238037\ttrain score: 1.9083333333333\tlabel: 7\tprediction: [1]69 [2]68 [3]18 [4]64 [5]35\t\n"
       ]
      },
      {
       "metadata": {},
       "output_type": "pyout",
       "prompt_number": 40,
       "text": [
        "idx: 1915\tloss: 4.6832900047302\ttrain score: 1.875\tlabel: 54\tprediction: [1]69 [2]68 [3]18 [4]64 [5]35\t\n"
       ]
      },
      {
       "metadata": {},
       "output_type": "pyout",
       "prompt_number": 40,
       "text": [
        "idx: 1920\tloss: 4.6772899627686\ttrain score: 1.7816666666667\tlabel: 5\tprediction: [1]69 [2]68 [3]18 [4]64 [5]35\t\n"
       ]
      },
      {
       "metadata": {},
       "output_type": "pyout",
       "prompt_number": 40,
       "text": [
        "idx: 1925\tloss: 4.6512904167175\ttrain score: 2.0133333333333\tlabel: 78\tprediction: [1]69 [2]68 [3]18 [4]64 [5]35\t\n"
       ]
      },
      {
       "metadata": {},
       "output_type": "pyout",
       "prompt_number": 40,
       "text": [
        "idx: 1930\tloss: 4.6792902946472\ttrain score: 1.9433333333333\tlabel: 87\tprediction: [1]69 [2]68 [3]18 [4]64 [5]35\t\n"
       ]
      },
      {
       "metadata": {},
       "output_type": "pyout",
       "prompt_number": 40,
       "text": [
        "idx: 1935\tloss: 4.6642899513245\ttrain score: 2.2383333333333\tlabel: 52\tprediction: [1]69 [2]68 [3]18 [4]64 [5]35\t\n"
       ]
      },
      {
       "metadata": {},
       "output_type": "pyout",
       "prompt_number": 40,
       "text": [
        "idx: 1940\tloss: 4.684289932251\ttrain score: 1.8683333333333\tlabel: 6\tprediction: [1]69 [2]68 [3]18 [4]64 [5]35\t\n"
       ]
      },
      {
       "metadata": {},
       "output_type": "pyout",
       "prompt_number": 40,
       "text": [
        "idx: 1945\tloss: 4.6632900238037\ttrain score: 2.5366666666667\tlabel: 27\tprediction: [1]69 [2]68 [3]18 [4]64 [5]35\t\n"
       ]
      },
      {
       "metadata": {},
       "output_type": "pyout",
       "prompt_number": 40,
       "text": [
        "idx: 1950\tloss: 4.6752901077271\ttrain score: 2.1516666666667\tlabel: 73\tprediction: [1]69 [2]68 [3]18 [4]64 [5]35\t\n"
       ]
      },
      {
       "metadata": {},
       "output_type": "pyout",
       "prompt_number": 40,
       "text": [
        "idx: 1955\tloss: 4.6622905731201\ttrain score: 2.3966666666667\tlabel: 100\tprediction: [1]69 [2]68 [3]18 [4]64 [5]35\t\n"
       ]
      },
      {
       "metadata": {},
       "output_type": "pyout",
       "prompt_number": 40,
       "text": [
        "idx: 1960\tloss: 4.6852903366089\ttrain score: 1.915\tlabel: 89\tprediction: [1]69 [2]68 [3]18 [4]64 [5]35\t\n"
       ]
      },
      {
       "metadata": {},
       "output_type": "pyout",
       "prompt_number": 40,
       "text": [
        "idx: 1965\tloss: 4.6502900123596\ttrain score: 2.5066666666667\tlabel: 7\tprediction: [1]69 [2]68 [3]18 [4]64 [5]35\t\n"
       ]
      },
      {
       "metadata": {},
       "output_type": "pyout",
       "prompt_number": 40,
       "text": [
        "idx: 1970\tloss: 4.657289981842\ttrain score: 2.2366666666667\tlabel: 58\tprediction: [1]69 [2]68 [3]18 [4]64 [5]35\t\n"
       ]
      },
      {
       "metadata": {},
       "output_type": "pyout",
       "prompt_number": 40,
       "text": [
        "idx: 1975\tloss: 4.6762900352478\ttrain score: 3.0133333333333\tlabel: 41\tprediction: [1]69 [2]68 [3]18 [4]64 [5]35\t\n"
       ]
      },
      {
       "metadata": {},
       "output_type": "pyout",
       "prompt_number": 40,
       "text": [
        "idx: 1980\tloss: 4.6672902107239\ttrain score: 2.1866666666667\tlabel: 1\tprediction: [1]69 [2]68 [3]18 [4]64 [5]35\t\n"
       ]
      },
      {
       "metadata": {},
       "output_type": "pyout",
       "prompt_number": 40,
       "text": [
        "idx: 1985\tloss: 4.6472902297974\ttrain score: 2.355\tlabel: 54\tprediction: [1]69 [2]68 [3]18 [4]64 [5]35\t\n"
       ]
      },
      {
       "metadata": {},
       "output_type": "pyout",
       "prompt_number": 40,
       "text": [
        "idx: 1990\tloss: 4.6632905006409\ttrain score: 2.6466666666667\tlabel: 28\tprediction: [1]69 [2]68 [3]18 [4]64 [5]35\t\n"
       ]
      },
      {
       "metadata": {},
       "output_type": "pyout",
       "prompt_number": 40,
       "text": [
        "idx: 1995\tloss: 4.6612901687622\ttrain score: 2.13\tlabel: 38\tprediction: [1]69 [2]68 [3]18 [4]64 [5]35\t\n"
       ]
      },
      {
       "metadata": {},
       "output_type": "pyout",
       "prompt_number": 40,
       "text": [
        "idx: 2000\tloss: 4.6722898483276\ttrain score: 2.0183333333333\tlabel: 18\tprediction: [1]69 [2]68 [3]18 [4]64 [5]35\t\n"
       ]
      },
      {
       "metadata": {},
       "output_type": "pyout",
       "prompt_number": 40,
       "text": [
        "idx: 2005\tloss: 4.6502900123596\ttrain score: 2.7566666666667\tlabel: 8\tprediction: [1]69 [2]68 [3]18 [4]64 [5]35\t\n"
       ]
      },
      {
       "metadata": {},
       "output_type": "pyout",
       "prompt_number": 40,
       "text": [
        "idx: 2010\tloss: 4.6692900657654\ttrain score: 2.6566666666667\tlabel: 55\tprediction: [1]69 [2]68 [3]18 [4]64 [5]35\t\n"
       ]
      },
      {
       "metadata": {},
       "output_type": "pyout",
       "prompt_number": 40,
       "text": [
        "idx: 2015\tloss: 4.6752905845642\ttrain score: 2.1533333333333\tlabel: 67\tprediction: [1]69 [2]68 [3]18 [4]64 [5]35\t\n"
       ]
      },
      {
       "metadata": {},
       "output_type": "pyout",
       "prompt_number": 40,
       "text": [
        "idx: 2020\tloss: 4.6922903060913\ttrain score: 1.8333333333333\tlabel: 87\tprediction: [1]69 [2]68 [3]18 [4]64 [5]35\t\n"
       ]
      },
      {
       "metadata": {},
       "output_type": "pyout",
       "prompt_number": 40,
       "text": [
        "idx: 2025\tloss: 4.6592898368835\ttrain score: 2.255\tlabel: 66\tprediction: [1]69 [2]68 [3]18 [4]64 [5]35\t\n"
       ]
      },
      {
       "metadata": {},
       "output_type": "pyout",
       "prompt_number": 40,
       "text": [
        "idx: 2030\tloss: 4.6722898483276\ttrain score: 1.9416666666667\tlabel: 7\tprediction: [1]69 [2]68 [3]18 [4]64 [5]35\t\n"
       ]
      },
      {
       "metadata": {},
       "output_type": "pyout",
       "prompt_number": 40,
       "text": [
        "idx: 2035\tloss: 4.6742901802063\ttrain score: 1.66\tlabel: 56\tprediction: [1]69 [2]68 [3]18 [4]64 [5]35\t\n"
       ]
      },
      {
       "metadata": {},
       "output_type": "pyout",
       "prompt_number": 40,
       "text": [
        "idx: 2040\tloss: 4.6922898292542\ttrain score: 1.6766666666667\tlabel: 56\tprediction: [1]69 [2]68 [3]18 [4]64 [5]35\t\n"
       ]
      },
      {
       "metadata": {},
       "output_type": "pyout",
       "prompt_number": 40,
       "text": [
        "idx: 2045\tloss: 4.6522898674011\ttrain score: 3.1016666666667\tlabel: 9\tprediction: [1]69 [2]68 [3]18 [4]64 [5]35\t\n"
       ]
      },
      {
       "metadata": {},
       "output_type": "pyout",
       "prompt_number": 40,
       "text": [
        "idx: 2050\tloss: 4.6652898788452\ttrain score: 2.0883333333333\tlabel: 41\tprediction: [1]69 [2]68 [3]18 [4]64 [5]35\t\n"
       ]
      },
      {
       "metadata": {},
       "output_type": "pyout",
       "prompt_number": 40,
       "text": [
        "idx: 2055\tloss: 4.6542901992798\ttrain score: 2.82\tlabel: 85\tprediction: [1]69 [2]68 [3]18 [4]64 [5]35\t\n"
       ]
      },
      {
       "metadata": {},
       "output_type": "pyout",
       "prompt_number": 40,
       "text": [
        "idx: 2060\tloss: 4.6872901916504\ttrain score: 1.4533333333333\tlabel: 89\tprediction: [1]69 [2]68 [3]18 [4]64 [5]35\t\n"
       ]
      },
      {
       "metadata": {},
       "output_type": "pyout",
       "prompt_number": 40,
       "text": [
        "idx: 2065\tloss: 4.6582903862\ttrain score: 1.8333333333333\tlabel: 51\tprediction: [1]69 [2]68 [3]18 [4]64 [5]35\t\n"
       ]
      },
      {
       "metadata": {},
       "output_type": "pyout",
       "prompt_number": 40,
       "text": [
        "idx: 2070\tloss: 4.6742901802063\ttrain score: 1.795\tlabel: 14\tprediction: [1]69 [2]68 [3]18 [4]64 [5]35\t\n"
       ]
      },
      {
       "metadata": {},
       "output_type": "pyout",
       "prompt_number": 40,
       "text": [
        "idx: 2075\tloss: 4.6662907600403\ttrain score: 2.2083333333333\tlabel: 99\tprediction: [1]69 [2]68 [3]18 [4]64 [5]35\t\n"
       ]
      },
      {
       "metadata": {},
       "output_type": "pyout",
       "prompt_number": 40,
       "text": [
        "idx: 2080\tloss: 4.6652903556824\ttrain score: 2.43\tlabel: 37\tprediction: [1]69 [2]68 [3]18 [4]64 [5]35\t\n"
       ]
      },
      {
       "metadata": {},
       "output_type": "pyout",
       "prompt_number": 40,
       "text": [
        "idx: 2085\tloss: 4.6862907409668\ttrain score: 2.4883333333333\tlabel: 25\tprediction: [1]69 [2]68 [3]18 [4]64 [5]35\t\n"
       ]
      },
      {
       "metadata": {},
       "output_type": "pyout",
       "prompt_number": 40,
       "text": [
        "idx: 2090\tloss: 4.6522898674011\ttrain score: 2.33\tlabel: 45\tprediction: [1]69 [2]68 [3]18 [4]64 [5]35\t\n"
       ]
      },
      {
       "metadata": {},
       "output_type": "pyout",
       "prompt_number": 40,
       "text": [
        "idx: 2095\tloss: 4.6572904586792\ttrain score: 3.2016666666667\tlabel: 21\tprediction: [1]69 [2]68 [3]18 [4]64 [5]35\t\n"
       ]
      },
      {
       "metadata": {},
       "output_type": "pyout",
       "prompt_number": 40,
       "text": [
        "idx: 2100\tloss: 4.6752901077271\ttrain score: 2.6666666666667\tlabel: 54\tprediction: [1]69 [2]68 [3]18 [4]64 [5]35\t\n"
       ]
      },
      {
       "metadata": {},
       "output_type": "pyout",
       "prompt_number": 40,
       "text": [
        "idx: 2105\tloss: 4.676290512085\ttrain score: 2.1233333333333\tlabel: 78\tprediction: [1]69 [2]68 [3]18 [4]64 [5]35\t\n"
       ]
      },
      {
       "metadata": {},
       "output_type": "pyout",
       "prompt_number": 40,
       "text": [
        "idx: 2110\tloss: 4.6752901077271\ttrain score: 1.6566666666667\tlabel: 84\tprediction: [1]69 [2]68 [3]18 [4]64 [5]35\t\n"
       ]
      },
      {
       "metadata": {},
       "output_type": "pyout",
       "prompt_number": 40,
       "text": [
        "idx: 2115\tloss: 4.6562905311584\ttrain score: 2.0533333333333\tlabel: 63\tprediction: [1]69 [2]68 [3]18 [4]64 [5]35\t\n"
       ]
      },
      {
       "metadata": {},
       "output_type": "pyout",
       "prompt_number": 40,
       "text": [
        "idx: 2120\tloss: 4.6602902412415\ttrain score: 2.2366666666667\tlabel: 80\tprediction: [1]69 [2]68 [3]18 [4]64 [5]35\t\n"
       ]
      },
      {
       "metadata": {},
       "output_type": "pyout",
       "prompt_number": 40,
       "text": [
        "idx: 2125\tloss: 4.6632900238037\ttrain score: 2.8583333333333\tlabel: 50\tprediction: [1]69 [2]68 [3]18 [4]64 [5]35\t\n"
       ]
      },
      {
       "metadata": {},
       "output_type": "pyout",
       "prompt_number": 40,
       "text": [
        "idx: 2130\tloss: 4.6602907180786\ttrain score: 2.2916666666667\tlabel: 49\tprediction: [1]69 [2]68 [3]18 [4]64 [5]35\t\n"
       ]
      },
      {
       "metadata": {},
       "output_type": "pyout",
       "prompt_number": 40,
       "text": [
        "idx: 2135\tloss: 4.6682901382446\ttrain score: 2.64\tlabel: 53\tprediction: [1]69 [2]68 [3]18 [4]64 [5]35\t\n"
       ]
      },
      {
       "metadata": {},
       "output_type": "pyout",
       "prompt_number": 40,
       "text": [
        "idx: 2140\tloss: 4.6602907180786\ttrain score: 2.3683333333333\tlabel: 81\tprediction: [1]69 [2]68 [3]18 [4]64 [5]35\t\n"
       ]
      },
      {
       "metadata": {},
       "output_type": "pyout",
       "prompt_number": 40,
       "text": [
        "idx: 2145\tloss: 4.6862902641296\ttrain score: 1.8566666666667\tlabel: 1\tprediction: [1]69 [2]68 [3]18 [4]64 [5]35\t\n"
       ]
      },
      {
       "metadata": {},
       "output_type": "pyout",
       "prompt_number": 40,
       "text": [
        "idx: 2150\tloss: 4.6612901687622\ttrain score: 2.3116666666667\tlabel: 12\tprediction: [1]69 [2]68 [3]18 [4]64 [5]35\t\n"
       ]
      },
      {
       "metadata": {},
       "output_type": "pyout",
       "prompt_number": 40,
       "text": [
        "idx: 2155\tloss: 4.6642899513245\ttrain score: 2.6033333333333\tlabel: 16\tprediction: [1]69 [2]68 [3]18 [4]64 [5]35\t\n"
       ]
      },
      {
       "metadata": {},
       "output_type": "pyout",
       "prompt_number": 40,
       "text": [
        "idx: 2160\tloss: 4.6712899208069\ttrain score: 2.7466666666667\tlabel: 72\tprediction: [1]69 [2]68 [3]18 [4]64 [5]35\t\n"
       ]
      },
      {
       "metadata": {},
       "output_type": "pyout",
       "prompt_number": 40,
       "text": [
        "idx: 2165\tloss: 4.6742906570435\ttrain score: 2.3533333333333\tlabel: 75\tprediction: [1]69 [2]68 [3]18 [4]64 [5]35\t\n"
       ]
      },
      {
       "metadata": {},
       "output_type": "pyout",
       "prompt_number": 40,
       "text": [
        "idx: 2170\tloss: 4.6752901077271\ttrain score: 1.9933333333333\tlabel: 75\tprediction: [1]69 [2]68 [3]18 [4]64 [5]35\t\n"
       ]
      },
      {
       "metadata": {},
       "output_type": "pyout",
       "prompt_number": 40,
       "text": [
        "idx: 2175\tloss: 4.6772899627686\ttrain score: 1.8533333333333\tlabel: 82\tprediction: [1]69 [2]68 [3]18 [4]64 [5]35\t\n"
       ]
      },
      {
       "metadata": {},
       "output_type": "pyout",
       "prompt_number": 40,
       "text": [
        "idx: 2180\tloss: 4.6522898674011\ttrain score: 2.8966666666667\tlabel: 46\tprediction: [1]69 [2]68 [3]18 [4]64 [5]35\t\n"
       ]
      },
      {
       "metadata": {},
       "output_type": "pyout",
       "prompt_number": 40,
       "text": [
        "idx: 2185\tloss: 4.6792902946472\ttrain score: 2.1\tlabel: 98\tprediction: [1]69 [2]68 [3]18 [4]64 [5]35\t\n"
       ]
      },
      {
       "metadata": {},
       "output_type": "pyout",
       "prompt_number": 40,
       "text": [
        "idx: 2190\tloss: 4.6882901191711\ttrain score: 1.6516666666667\tlabel: 75\tprediction: [1]69 [2]68 [3]18 [4]64 [5]35\t\n"
       ]
      },
      {
       "metadata": {},
       "output_type": "pyout",
       "prompt_number": 40,
       "text": [
        "idx: 2195\tloss: 4.6702899932861\ttrain score: 2.43\tlabel: 81\tprediction: [1]69 [2]68 [3]18 [4]64 [5]35\t\n"
       ]
      },
      {
       "metadata": {},
       "output_type": "pyout",
       "prompt_number": 40,
       "text": [
        "idx: 2200\tloss: 4.6892900466919\ttrain score: 1.9483333333333\tlabel: 50\tprediction: [1]69 [2]68 [3]18 [4]64 [5]35\t\n"
       ]
      },
      {
       "metadata": {},
       "output_type": "pyout",
       "prompt_number": 40,
       "text": [
        "idx: 2205\tloss: 4.680290222168\ttrain score: 2.0216666666667\tlabel: 91\tprediction: [1]69 [2]68 [3]18 [4]64 [5]35\t\n"
       ]
      },
      {
       "metadata": {},
       "output_type": "pyout",
       "prompt_number": 40,
       "text": [
        "idx: 2210\tloss: 4.6632900238037\ttrain score: 2.985\tlabel: 34\tprediction: [1]69 [2]68 [3]18 [4]64 [5]35\t\n"
       ]
      },
      {
       "metadata": {},
       "output_type": "pyout",
       "prompt_number": 40,
       "text": [
        "idx: 2215\tloss: 4.6902899742126\ttrain score: 2.165\tlabel: 8\tprediction: [1]69 [2]68 [3]18 [4]64 [5]35\t\n"
       ]
      },
      {
       "metadata": {},
       "output_type": "pyout",
       "prompt_number": 40,
       "text": [
        "idx: 2220\tloss: 4.6872906684875\ttrain score: 2.015\tlabel: 89\tprediction: [1]69 [2]68 [3]18 [4]64 [5]35\t\n"
       ]
      },
      {
       "metadata": {},
       "output_type": "pyout",
       "prompt_number": 40,
       "text": [
        "idx: 2225\tloss: 4.639289855957\ttrain score: 3.3583333333333\tlabel: 83\tprediction: [1]69 [2]68 [3]18 [4]64 [5]35\t\n"
       ]
      },
      {
       "metadata": {},
       "output_type": "pyout",
       "prompt_number": 40,
       "text": [
        "idx: 2230\tloss: 4.6712899208069\ttrain score: 1.8566666666667\tlabel: 12\tprediction: [1]69 [2]68 [3]18 [4]64 [5]35\t\n"
       ]
      },
      {
       "metadata": {},
       "output_type": "pyout",
       "prompt_number": 40,
       "text": [
        "idx: 2235\tloss: 4.6652898788452\ttrain score: 2.6683333333333\tlabel: 71\tprediction: [1]69 [2]68 [3]18 [4]64 [5]35\t\n"
       ]
      },
      {
       "metadata": {},
       "output_type": "pyout",
       "prompt_number": 40,
       "text": [
        "idx: 2240\tloss: 4.6592903137207\ttrain score: 2.8133333333333\tlabel: 89\tprediction: [1]69 [2]68 [3]18 [4]64 [5]35\t\n"
       ]
      },
      {
       "metadata": {},
       "output_type": "pyout",
       "prompt_number": 40,
       "text": [
        "idx: 2245\tloss: 4.6642899513245\ttrain score: 3.0433333333333\tlabel: 88\tprediction: [1]69 [2]68 [3]18 [4]64 [5]35\t\n"
       ]
      },
      {
       "metadata": {},
       "output_type": "pyout",
       "prompt_number": 40,
       "text": [
        "idx: 2250\tloss: 4.680290222168\ttrain score: 1.7133333333333\tlabel: 76\tprediction: [1]69 [2]68 [3]18 [4]64 [5]35\t\n"
       ]
      },
      {
       "metadata": {},
       "output_type": "pyout",
       "prompt_number": 40,
       "text": [
        "idx: 2255\tloss: 4.6552901268005\ttrain score: 2.7183333333333\tlabel: 61\tprediction: [1]69 [2]68 [3]18 [4]64 [5]35\t\n"
       ]
      },
      {
       "metadata": {},
       "output_type": "pyout",
       "prompt_number": 40,
       "text": [
        "idx: 2260\tloss: 4.6432900428772\ttrain score: 2.85\tlabel: 94\tprediction: [1]69 [2]68 [3]18 [4]64 [5]35\t\n"
       ]
      },
      {
       "metadata": {},
       "output_type": "pyout",
       "prompt_number": 40,
       "text": [
        "idx: 2265\tloss: 4.6632905006409\ttrain score: 2.6383333333333\tlabel: 67\tprediction: [1]69 [2]68 [3]18 [4]64 [5]35\t\n"
       ]
      },
      {
       "metadata": {},
       "output_type": "pyout",
       "prompt_number": 40,
       "text": [
        "idx: 2270\tloss: 4.6612901687622\ttrain score: 2.15\tlabel: 26\tprediction: [1]69 [2]68 [3]18 [4]64 [5]35\t\n"
       ]
      },
      {
       "metadata": {},
       "output_type": "pyout",
       "prompt_number": 40,
       "text": [
        "idx: 2275\tloss: 4.6652903556824\ttrain score: 2.175\tlabel: 34\tprediction: [1]69 [2]68 [3]18 [4]64 [5]35\t\n"
       ]
      },
      {
       "metadata": {},
       "output_type": "pyout",
       "prompt_number": 40,
       "text": [
        "idx: 2280\tloss: 4.662290096283\ttrain score: 2.1733333333333\tlabel: 32\tprediction: [1]69 [2]68 [3]18 [4]64 [5]35\t\n"
       ]
      },
      {
       "metadata": {},
       "output_type": "pyout",
       "prompt_number": 40,
       "text": [
        "idx: 2285\tloss: 4.6762900352478\ttrain score: 1.8933333333333\tlabel: 6\tprediction: [1]69 [2]68 [3]18 [4]64 [5]35\t\n"
       ]
      },
      {
       "metadata": {},
       "output_type": "pyout",
       "prompt_number": 40,
       "text": [
        "idx: 2290\tloss: 4.6682901382446\ttrain score: 2.1566666666667\tlabel: 62\tprediction: [1]69 [2]68 [3]18 [4]64 [5]35\t\n"
       ]
      },
      {
       "metadata": {},
       "output_type": "pyout",
       "prompt_number": 40,
       "text": [
        "idx: 2295\tloss: 4.6702899932861\ttrain score: 2.2266666666667\tlabel: 79\tprediction: [1]69 [2]68 [3]18 [4]64 [5]35\t\n"
       ]
      },
      {
       "metadata": {},
       "output_type": "pyout",
       "prompt_number": 40,
       "text": [
        "idx: 2300\tloss: 4.6742901802063\ttrain score: 2.3266666666667\tlabel: 8\tprediction: [1]69 [2]68 [3]18 [4]64 [5]35\t\n"
       ]
      },
      {
       "metadata": {},
       "output_type": "pyout",
       "prompt_number": 40,
       "text": [
        "idx: 2305\tloss: 4.6612901687622\ttrain score: 2.8383333333333\tlabel: 88\tprediction: [1]69 [2]68 [3]18 [4]64 [5]35\t\n"
       ]
      },
      {
       "metadata": {},
       "output_type": "pyout",
       "prompt_number": 40,
       "text": [
        "idx: 2310\tloss: 4.6522898674011\ttrain score: 2.3266666666667\tlabel: 73\tprediction: [1]69 [2]68 [3]18 [4]64 [5]35\t\n"
       ]
      },
      {
       "metadata": {},
       "output_type": "pyout",
       "prompt_number": 40,
       "text": [
        "idx: 2315\tloss: 4.6712899208069\ttrain score: 2.1016666666667\tlabel: 71\tprediction: [1]69 [2]68 [3]18 [4]64 [5]35\t\n"
       ]
      },
      {
       "metadata": {},
       "output_type": "pyout",
       "prompt_number": 40,
       "text": [
        "idx: 2320\tloss: 4.6752901077271\ttrain score: 2.1883333333333\tlabel: 90\tprediction: [1]69 [2]68 [3]18 [4]64 [5]35\t\n"
       ]
      },
      {
       "metadata": {},
       "output_type": "pyout",
       "prompt_number": 40,
       "text": [
        "idx: 2325\tloss: 4.6882901191711\ttrain score: 2.3766666666667\tlabel: 15\tprediction: [1]69 [2]68 [3]18 [4]64 [5]35\t\n"
       ]
      },
      {
       "metadata": {},
       "output_type": "pyout",
       "prompt_number": 40,
       "text": [
        "idx: 2330\tloss: 4.6682906150818\ttrain score: 2.8233333333333\tlabel: 73\tprediction: [1]69 [2]68 [3]18 [4]64 [5]35\t\n"
       ]
      },
      {
       "metadata": {},
       "output_type": "pyout",
       "prompt_number": 40,
       "text": [
        "idx: 2335\tloss: 4.6462898254395\ttrain score: 2.72\tlabel: 97\tprediction: [1]69 [2]68 [3]18 [4]64 [5]35\t\n"
       ]
      },
      {
       "metadata": {},
       "output_type": "pyout",
       "prompt_number": 40,
       "text": [
        "idx: 2340\tloss: 4.6722903251648\ttrain score: 1.9866666666667\tlabel: 27\tprediction: [1]69 [2]68 [3]18 [4]64 [5]35\t\n"
       ]
      },
      {
       "metadata": {},
       "output_type": "pyout",
       "prompt_number": 40,
       "text": [
        "idx: 2345\tloss: 4.6652903556824\ttrain score: 2.2833333333333\tlabel: 54\tprediction: [1]69 [2]68 [3]18 [4]64 [5]35\t\n"
       ]
      },
      {
       "metadata": {},
       "output_type": "pyout",
       "prompt_number": 40,
       "text": [
        "idx: 2350\tloss: 4.6752901077271\ttrain score: 2.3\tlabel: 39\tprediction: [1]69 [2]68 [3]18 [4]64 [5]35\t\n"
       ]
      },
      {
       "metadata": {},
       "output_type": "pyout",
       "prompt_number": 40,
       "text": [
        "idx: 2355\tloss: 4.6622905731201\ttrain score: 2.365\tlabel: 32\tprediction: [1]69 [2]68 [3]18 [4]64 [5]35\t\n"
       ]
      },
      {
       "metadata": {},
       "output_type": "pyout",
       "prompt_number": 40,
       "text": [
        "idx: 2360\tloss: 4.6812901496887\ttrain score: 2.4233333333333\tlabel: 29\tprediction: [1]69 [2]68 [3]18 [4]64 [5]35\t\n"
       ]
      },
      {
       "metadata": {},
       "output_type": "pyout",
       "prompt_number": 40,
       "text": [
        "idx: 2365\tloss: 4.6742901802063\ttrain score: 1.85\tlabel: 21\tprediction: [1]69 [2]68 [3]18 [4]64 [5]35\t\n"
       ]
      },
      {
       "metadata": {},
       "output_type": "pyout",
       "prompt_number": 40,
       "text": [
        "idx: 2370\tloss: 4.6852898597717\ttrain score: 2.095\tlabel: 45\tprediction: [1]69 [2]68 [3]18 [4]64 [5]35\t\n"
       ]
      },
      {
       "metadata": {},
       "output_type": "pyout",
       "prompt_number": 40,
       "text": [
        "idx: 2375\tloss: 4.6722898483276\ttrain score: 1.9\tlabel: 79\tprediction: [1]69 [2]68 [3]18 [4]64 [5]35\t\n"
       ]
      },
      {
       "metadata": {},
       "output_type": "pyout",
       "prompt_number": 40,
       "text": [
        "idx: 2380\tloss: 4.6702904701233\ttrain score: 2.3616666666667\tlabel: 65\tprediction: [1]69 [2]68 [3]18 [4]64 [5]35\t\n"
       ]
      },
      {
       "metadata": {},
       "output_type": "pyout",
       "prompt_number": 40,
       "text": [
        "idx: 2385\tloss: 4.6612901687622\ttrain score: 2.3866666666667\tlabel: 76\tprediction: [1]69 [2]68 [3]18 [4]64 [5]35\t\n"
       ]
      },
      {
       "metadata": {},
       "output_type": "pyout",
       "prompt_number": 40,
       "text": [
        "idx: 2390\tloss: 4.6702904701233\ttrain score: 1.79\tlabel: 42\tprediction: [1]69 [2]68 [3]18 [4]64 [5]35\t\n"
       ]
      },
      {
       "metadata": {},
       "output_type": "pyout",
       "prompt_number": 40,
       "text": [
        "idx: 2395\tloss: 4.6632900238037\ttrain score: 1.845\tlabel: 56\tprediction: [1]69 [2]68 [3]18 [4]64 [5]35\t\n"
       ]
      },
      {
       "metadata": {},
       "output_type": "pyout",
       "prompt_number": 40,
       "text": [
        "idx: 2400\tloss: 4.657289981842\ttrain score: 2.7116666666667\tlabel: 68\tprediction: [1]69 [2]68 [3]18 [4]64 [5]35\t\n"
       ]
      },
      {
       "metadata": {},
       "output_type": "pyout",
       "prompt_number": 40,
       "text": [
        "idx: 2405\tloss: 4.6682901382446\ttrain score: 2.0916666666667\tlabel: 5\tprediction: [1]69 [2]68 [3]18 [4]64 [5]35\t\n"
       ]
      },
      {
       "metadata": {},
       "output_type": "pyout",
       "prompt_number": 40,
       "text": [
        "idx: 2410\tloss: 4.6652903556824\ttrain score: 1.935\tlabel: 69\tprediction: [1]69 [2]68 [3]18 [4]64 [5]35\t\n"
       ]
      },
      {
       "metadata": {},
       "output_type": "pyout",
       "prompt_number": 40,
       "text": [
        "idx: 2415\tloss: 4.6752905845642\ttrain score: 1.745\tlabel: 57\tprediction: [1]69 [2]68 [3]18 [4]64 [5]35\t\n"
       ]
      },
      {
       "metadata": {},
       "output_type": "pyout",
       "prompt_number": 40,
       "text": [
        "idx: 2420\tloss: 4.6512904167175\ttrain score: 2.9616666666667\tlabel: 24\tprediction: [1]69 [2]68 [3]18 [4]64 [5]35\t\n"
       ]
      },
      {
       "metadata": {},
       "output_type": "pyout",
       "prompt_number": 40,
       "text": [
        "idx: 2425\tloss: 4.6752901077271\ttrain score: 2.08\tlabel: 67\tprediction: [1]69 [2]68 [3]18 [4]64 [5]35\t\n"
       ]
      },
      {
       "metadata": {},
       "output_type": "pyout",
       "prompt_number": 40,
       "text": [
        "idx: 2430\tloss: 4.6752901077271\ttrain score: 2.085\tlabel: 51\tprediction: [1]69 [2]68 [3]18 [4]64 [5]35\t\n"
       ]
      },
      {
       "metadata": {},
       "output_type": "pyout",
       "prompt_number": 40,
       "text": [
        "idx: 2435\tloss: 4.6572904586792\ttrain score: 2.4783333333333\tlabel: 34\tprediction: [1]69 [2]68 [3]18 [4]64 [5]35\t\n"
       ]
      },
      {
       "metadata": {},
       "output_type": "pyout",
       "prompt_number": 40,
       "text": [
        "idx: 2440\tloss: 4.6792898178101\ttrain score: 2.135\tlabel: 45\tprediction: [1]69 [2]68 [3]18 [4]64 [5]35\t\n"
       ]
      },
      {
       "metadata": {},
       "output_type": "pyout",
       "prompt_number": 40,
       "text": [
        "idx: 2445\tloss: 4.6882901191711\ttrain score: 1.795\tlabel: 97\tprediction: [1]69 [2]68 [3]18 [4]64 [5]35\t\n"
       ]
      },
      {
       "metadata": {},
       "output_type": "pyout",
       "prompt_number": 40,
       "text": [
        "idx: 2450\tloss: 4.684289932251\ttrain score: 2.2033333333333\tlabel: 31\tprediction: [1]69 [2]68 [3]18 [4]64 [5]35\t\n"
       ]
      },
      {
       "metadata": {},
       "output_type": "pyout",
       "prompt_number": 40,
       "text": [
        "idx: 2455\tloss: 4.6692900657654\ttrain score: 1.965\tlabel: 42\tprediction: [1]69 [2]68 [3]18 [4]64 [5]35\t\n"
       ]
      },
      {
       "metadata": {},
       "output_type": "pyout",
       "prompt_number": 40,
       "text": [
        "idx: 2460\tloss: 4.6692900657654\ttrain score: 2.5466666666667\tlabel: 61\tprediction: [1]69 [2]68 [3]18 [4]64 [5]35\t\n"
       ]
      },
      {
       "metadata": {},
       "output_type": "pyout",
       "prompt_number": 40,
       "text": [
        "idx: 2465\tloss: 4.6442904472351\ttrain score: 3.025\tlabel: 75\tprediction: [1]69 [2]68 [3]18 [4]64 [5]35\t\n"
       ]
      },
      {
       "metadata": {},
       "output_type": "pyout",
       "prompt_number": 40,
       "text": [
        "idx: 2470\tloss: 4.6602902412415\ttrain score: 1.7033333333333\tlabel: 93\tprediction: [1]69 [2]68 [3]18 [4]64 [5]35\t\n"
       ]
      },
      {
       "metadata": {},
       "output_type": "pyout",
       "prompt_number": 40,
       "text": [
        "idx: 2475\tloss: 4.667290687561\ttrain score: 2.3633333333333\tlabel: 32\tprediction: [1]69 [2]68 [3]18 [4]64 [5]35\t\n"
       ]
      },
      {
       "metadata": {},
       "output_type": "pyout",
       "prompt_number": 40,
       "text": [
        "idx: 2480\tloss: 4.6692905426025\ttrain score: 3.0566666666667\tlabel: 24\tprediction: [1]69 [2]68 [3]18 [4]64 [5]35\t\n"
       ]
      },
      {
       "metadata": {},
       "output_type": "pyout",
       "prompt_number": 40,
       "text": [
        "idx: 2485\tloss: 4.6772899627686\ttrain score: 2.0066666666667\tlabel: 50\tprediction: [1]69 [2]68 [3]18 [4]64 [5]35\t\n"
       ]
      },
      {
       "metadata": {},
       "output_type": "pyout",
       "prompt_number": 40,
       "text": [
        "idx: 2490\tloss: 4.6742901802063\ttrain score: 1.9766666666667\tlabel: 36\tprediction: [1]69 [2]68 [3]18 [4]64 [5]35\t\n"
       ]
      },
      {
       "metadata": {},
       "output_type": "pyout",
       "prompt_number": 40,
       "text": [
        "idx: 2495\tloss: 4.6822905540466\ttrain score: 1.5266666666667\tlabel: 31\tprediction: [1]69 [2]68 [3]18 [4]64 [5]35\t\n"
       ]
      },
      {
       "metadata": {},
       "output_type": "pyout",
       "prompt_number": 40,
       "text": [
        "idx: 2500\tloss: 4.6832900047302\ttrain score: 1.9233333333333\tlabel: 60\tprediction: [1]69 [2]68 [3]18 [4]64 [5]35\t\n"
       ]
      },
      {
       "metadata": {},
       "output_type": "pyout",
       "prompt_number": 40,
       "text": [
        "idx: 2505\tloss: 4.6962900161743\ttrain score: 1.6183333333333\tlabel: 11\tprediction: [1]69 [2]68 [3]18 [4]64 [5]35\t\n"
       ]
      },
      {
       "metadata": {},
       "output_type": "pyout",
       "prompt_number": 40,
       "text": [
        "idx: 2510\tloss: 4.6582899093628\ttrain score: 2.5633333333333\tlabel: 12\tprediction: [1]69 [2]68 [3]18 [4]64 [5]35\t\n"
       ]
      },
      {
       "metadata": {},
       "output_type": "pyout",
       "prompt_number": 40,
       "text": [
        "idx: 2515\tloss: 4.662290096283\ttrain score: 2.74\tlabel: 59\tprediction: [1]69 [2]68 [3]18 [4]64 [5]35\t\n"
       ]
      },
      {
       "metadata": {},
       "output_type": "pyout",
       "prompt_number": 40,
       "text": [
        "idx: 2520\tloss: 4.657289981842\ttrain score: 1.87\tlabel: 22\tprediction: [1]69 [2]68 [3]18 [4]64 [5]35\t\n"
       ]
      },
      {
       "metadata": {},
       "output_type": "pyout",
       "prompt_number": 40,
       "text": [
        "idx: 2525\tloss: 4.6642899513245\ttrain score: 2.375\tlabel: 95\tprediction: [1]69 [2]68 [3]18 [4]64 [5]35\t\n"
       ]
      },
      {
       "metadata": {},
       "output_type": "pyout",
       "prompt_number": 40,
       "text": [
        "idx: 2530\tloss: 4.6542901992798\ttrain score: 2.845\tlabel: 87\tprediction: [1]69 [2]68 [3]18 [4]64 [5]35\t\n"
       ]
      },
      {
       "metadata": {},
       "output_type": "pyout",
       "prompt_number": 40,
       "text": [
        "idx: 2535\tloss: 4.6772904396057\ttrain score: 1.72\tlabel: 5\tprediction: [1]69 [2]68 [3]18 [4]64 [5]35\t\n"
       ]
      },
      {
       "metadata": {},
       "output_type": "pyout",
       "prompt_number": 40,
       "text": [
        "idx: 2540\tloss: 4.6502904891968\ttrain score: 2.5083333333333\tlabel: 57\tprediction: [1]69 [2]68 [3]18 [4]64 [5]35\t\n"
       ]
      },
      {
       "metadata": {},
       "output_type": "pyout",
       "prompt_number": 40,
       "text": [
        "idx: 2545\tloss: 4.6592898368835\ttrain score: 2.315\tlabel: 83\tprediction: [1]69 [2]68 [3]18 [4]64 [5]35\t\n"
       ]
      },
      {
       "metadata": {},
       "output_type": "pyout",
       "prompt_number": 40,
       "text": [
        "idx: 2550\tloss: 4.680290222168\ttrain score: 1.8\tlabel: 13\tprediction: [1]69 [2]68 [3]18 [4]64 [5]35\t\n"
       ]
      },
      {
       "metadata": {},
       "output_type": "pyout",
       "prompt_number": 40,
       "text": [
        "idx: 2555\tloss: 4.6682901382446\ttrain score: 2.4316666666667\tlabel: 51\tprediction: [1]69 [2]68 [3]18 [4]64 [5]35\t\n"
       ]
      },
      {
       "metadata": {},
       "output_type": "pyout",
       "prompt_number": 40,
       "text": [
        "idx: 2560\tloss: 4.6522898674011\ttrain score: 2.315\tlabel: 16\tprediction: [1]69 [2]68 [3]18 [4]64 [5]35\t\n"
       ]
      },
      {
       "metadata": {},
       "output_type": "pyout",
       "prompt_number": 40,
       "text": [
        "idx: 2565\tloss: 4.6652898788452\ttrain score: 2.3116666666667\tlabel: 30\tprediction: [1]69 [2]68 [3]18 [4]64 [5]35\t\n"
       ]
      },
      {
       "metadata": {},
       "output_type": "pyout",
       "prompt_number": 40,
       "text": [
        "idx: 2570\tloss: 4.6552901268005\ttrain score: 2.4033333333333\tlabel: 98\tprediction: [1]69 [2]68 [3]18 [4]64 [5]35\t\n"
       ]
      },
      {
       "metadata": {},
       "output_type": "pyout",
       "prompt_number": 40,
       "text": [
        "idx: 2575\tloss: 4.6562900543213\ttrain score: 2.6616666666667\tlabel: 35\tprediction: [1]69 [2]68 [3]18 [4]64 [5]35\t\n"
       ]
      },
      {
       "metadata": {},
       "output_type": "pyout",
       "prompt_number": 40,
       "text": [
        "idx: 2580\tloss: 4.6632905006409\ttrain score: 2.4966666666667\tlabel: 49\tprediction: [1]69 [2]68 [3]18 [4]64 [5]35\t\n"
       ]
      },
      {
       "metadata": {},
       "output_type": "pyout",
       "prompt_number": 40,
       "text": [
        "idx: 2585\tloss: 4.6622905731201\ttrain score: 2.1733333333333\tlabel: 33\tprediction: [1]69 [2]68 [3]18 [4]64 [5]35\t\n"
       ]
      },
      {
       "metadata": {},
       "output_type": "pyout",
       "prompt_number": 40,
       "text": [
        "idx: 2590\tloss: 4.6942901611328\ttrain score: 1.255\tlabel: 20\tprediction: [1]69 [2]68 [3]18 [4]64 [5]35\t\n"
       ]
      },
      {
       "metadata": {},
       "output_type": "pyout",
       "prompt_number": 40,
       "text": [
        "idx: 2595\tloss: 4.6702899932861\t"
       ]
      },
      {
       "metadata": {},
       "output_type": "pyout",
       "prompt_number": 40,
       "text": [
        "train score: 2.2266666666667\tlabel: 3\tprediction: [1]69 [2]68 [3]18 [4]64 [5]35\t\n"
       ]
      },
      {
       "metadata": {},
       "output_type": "pyout",
       "prompt_number": 40,
       "text": [
        "idx: 2600\tloss: 4.653290271759\ttrain score: 2.4583333333333\tlabel: 64\tprediction: [1]69 [2]68 [3]18 [4]64 [5]35\t\n"
       ]
      },
      {
       "metadata": {},
       "output_type": "pyout",
       "prompt_number": 40,
       "text": [
        "idx: 2605\tloss: 4.6602907180786\ttrain score: 2.8983333333333\tlabel: 30\tprediction: [1]69 [2]68 [3]18 [4]64 [5]35\t\n"
       ]
      },
      {
       "metadata": {},
       "output_type": "pyout",
       "prompt_number": 40,
       "text": [
        "idx: 2610\tloss: 4.6682901382446\ttrain score: 2.315\tlabel: 25\tprediction: [1]69 [2]68 [3]18 [4]64 [5]35\t\n"
       ]
      },
      {
       "metadata": {},
       "output_type": "pyout",
       "prompt_number": 40,
       "text": [
        "idx: 2615\tloss: 4.6652898788452\ttrain score: 2.8833333333333\tlabel: 49\t"
       ]
      },
      {
       "metadata": {},
       "output_type": "pyout",
       "prompt_number": 40,
       "text": [
        "prediction: [1]69 [2]68 [3]18 [4]64 [5]35\t\n"
       ]
      },
      {
       "metadata": {},
       "output_type": "pyout",
       "prompt_number": 40,
       "text": [
        "idx: 2620\tloss: 4.6812901496887\ttrain score: 2.0566666666667\tlabel: 38\tprediction: [1]69 [2]68 [3]18 [4]64 [5]35\t\n"
       ]
      },
      {
       "metadata": {},
       "output_type": "pyout",
       "prompt_number": 40,
       "text": [
        "idx: 2625\tloss: 4.6692900657654\ttrain score: 2.3883333333333\tlabel: 39\tprediction: [1]69 [2]68 [3]18 [4]64 [5]35\t\n"
       ]
      },
      {
       "metadata": {},
       "output_type": "pyout",
       "prompt_number": 40,
       "text": [
        "idx: 2630\tloss: 4.6682901382446\ttrain score: 2.385\tlabel: 37\tprediction: [1]69 [2]68 [3]18 [4]64 [5]35\t\n"
       ]
      },
      {
       "metadata": {},
       "output_type": "pyout",
       "prompt_number": 40,
       "text": [
        "idx: 2635\tloss: 4.6682901382446\ttrain score: 2.4033333333333\tlabel: 66\tprediction: [1]69 [2]68 [3]18 [4]64 [5]35\t\n"
       ]
      },
      {
       "metadata": {},
       "output_type": "pyout",
       "prompt_number": 40,
       "text": [
        "idx: 2640\tloss: 4.6562905311584\ttrain score: 2.4283333333333\tlabel: 95\tprediction: [1]69 [2]68 [3]18 [4]64 [5]35\t\n"
       ]
      },
      {
       "metadata": {},
       "output_type": "pyout",
       "prompt_number": 40,
       "text": [
        "idx: 2645\tloss: 4.6562905311584\ttrain score: 2.0666666666667\tlabel: 6\tprediction: [1]69 [2]68 [3]18 [4]64 [5]35\t\n"
       ]
      },
      {
       "metadata": {},
       "output_type": "pyout",
       "prompt_number": 40,
       "text": [
        "idx: 2650\tloss: 4.6772904396057\ttrain score: 2.1633333333333\tlabel: 2\tprediction: [1]69 [2]68 [3]18 [4]64 [5]35\t\n"
       ]
      },
      {
       "metadata": {},
       "output_type": "pyout",
       "prompt_number": 40,
       "text": [
        "idx: 2655\tloss: 4.6702899932861\ttrain score: 1.535\tlabel: 93\tprediction: [1]69 [2]68 [3]18 [4]64 [5]35\t\n"
       ]
      },
      {
       "metadata": {},
       "output_type": "pyout",
       "prompt_number": 40,
       "text": [
        "idx: 2660\tloss: 4.6712899208069\ttrain score: 2.4316666666667\tlabel: 62\tprediction: [1]69 [2]68 [3]18 [4]64 [5]35\t\n"
       ]
      },
      {
       "metadata": {},
       "output_type": "pyout",
       "prompt_number": 40,
       "text": [
        "idx: 2665\tloss: 4.6602907180786\ttrain score: 2.2466666666667\tlabel: 56\tprediction: [1]69 [2]68 [3]18 [4]64 [5]35\t\n"
       ]
      },
      {
       "metadata": {},
       "output_type": "pyout",
       "prompt_number": 40,
       "text": [
        "idx: 2670\tloss: 4.6832900047302\ttrain score: 2.2\tlabel: 30\tprediction: [1]69 [2]68 [3]18 [4]64 [5]35\t\n"
       ]
      },
      {
       "metadata": {},
       "output_type": "pyout",
       "prompt_number": 40,
       "text": [
        "idx: 2675\tloss: 4.6712899208069\ttrain score: 2.225\tlabel: 30\tprediction: [1]69 [2]68 [3]18 [4]64 [5]35\t\n"
       ]
      },
      {
       "metadata": {},
       "output_type": "pyout",
       "prompt_number": 40,
       "text": [
        "idx: 2680\tloss: 4.6522898674011\ttrain score: 2.1833333333333\t"
       ]
      },
      {
       "metadata": {},
       "output_type": "pyout",
       "prompt_number": 40,
       "text": [
        "label: 56\tprediction: [1]69 [2]68 [3]18 [4]64 [5]35\t\n"
       ]
      },
      {
       "metadata": {},
       "output_type": "pyout",
       "prompt_number": 40,
       "text": [
        "idx: 2685\tloss: 4.6732902526855\ttrain score: 1.9083333333333\tlabel: 40\tprediction: [1]69 [2]68 [3]18 [4]64 [5]35\t\n"
       ]
      },
      {
       "metadata": {},
       "output_type": "pyout",
       "prompt_number": 40,
       "text": [
        "idx: 2690\tloss: 4.666289806366\ttrain score: 1.9183333333333\tlabel: 61\tprediction: [1]69 [2]68 [3]18 [4]64 [5]35\t\n"
       ]
      },
      {
       "metadata": {},
       "output_type": "pyout",
       "prompt_number": 40,
       "text": [
        "idx: 2695\tloss: 4.6722898483276\ttrain score: 2.265\tlabel: 13\tprediction: [1]69 [2]68 [3]18 [4]64 [5]35\t\n"
       ]
      },
      {
       "metadata": {},
       "output_type": "pyout",
       "prompt_number": 40,
       "text": [
        "idx: 2700\tloss: 4.6632900238037\t"
       ]
      },
      {
       "metadata": {},
       "output_type": "pyout",
       "prompt_number": 40,
       "text": [
        "train score: 2.5\tlabel: 91\tprediction: [1]69 [2]68 [3]18 [4]64 [5]35\t\n"
       ]
      },
      {
       "metadata": {},
       "output_type": "pyout",
       "prompt_number": 40,
       "text": [
        "idx: 2705\tloss: 4.6812901496887\ttrain score: 1.9783333333333\tlabel: 24\tprediction: [1]69 [2]68 [3]18 [4]64 [5]35\t\n"
       ]
      },
      {
       "metadata": {},
       "output_type": "pyout",
       "prompt_number": 40,
       "text": [
        "idx: 2710\tloss: 4.6592903137207\ttrain score: 2.1516666666667\tlabel: 23\tprediction: [1]69 [2]68 [3]18 [4]64 [5]35\t\n"
       ]
      },
      {
       "metadata": {},
       "output_type": "pyout",
       "prompt_number": 40,
       "text": [
        "idx: 2715\tloss: 4.6702899932861\ttrain score: 1.76\tlabel: 22\tprediction: [1]69 [2]68 [3]18 [4]64 [5]35\t\n"
       ]
      },
      {
       "metadata": {},
       "output_type": "pyout",
       "prompt_number": 40,
       "text": [
        "idx: 2720\tloss: 4.6682901382446\ttrain score: 2.5933333333333\tlabel: 75\tprediction: [1]69 [2]68 [3]18 [4]64 [5]35\t\n"
       ]
      },
      {
       "metadata": {},
       "output_type": "pyout",
       "prompt_number": 40,
       "text": [
        "idx: 2725\tloss: 4.6892900466919\ttrain score: 1.76\tlabel: 13\tprediction: [1]69 [2]68 [3]18 [4]64 [5]35\t\n"
       ]
      },
      {
       "metadata": {},
       "output_type": "pyout",
       "prompt_number": 40,
       "text": [
        "idx: 2730\tloss: 4.680290222168\ttrain score: 2.32\tlabel: 100\tprediction: [1]69 [2]68 [3]18 [4]64 [5]35\t\n"
       ]
      },
      {
       "metadata": {},
       "output_type": "pyout",
       "prompt_number": 40,
       "text": [
        "idx: 2735\tloss: 4.666289806366\ttrain score: 2.195\tlabel: 76\tprediction: [1]69 [2]68 [3]18 [4]64 [5]35\t\n"
       ]
      },
      {
       "metadata": {},
       "output_type": "pyout",
       "prompt_number": 40,
       "text": [
        "idx: 2740\tloss: 4.6742901802063\ttrain score: 1.9533333333333\tlabel: 47\tprediction: [1]69 [2]68 [3]18 [4]64 [5]35\t\n"
       ]
      },
      {
       "metadata": {},
       "output_type": "pyout",
       "prompt_number": 40,
       "text": [
        "idx: 2745\tloss: 4.6712899208069\ttrain score: 2.24\tlabel: 88\tprediction: [1]69 [2]68 [3]18 [4]64 [5]35\t\n"
       ]
      },
      {
       "metadata": {},
       "output_type": "pyout",
       "prompt_number": 40,
       "text": [
        "idx: 2750\tloss: 4.6702899932861\ttrain score: 1.915\tlabel: 6\tprediction: [1]69 [2]68 [3]18 [4]64 [5]35\t\n"
       ]
      },
      {
       "metadata": {},
       "output_type": "pyout",
       "prompt_number": 40,
       "text": [
        "idx: 2755\tloss: 4.666289806366\ttrain score: 2.18\tlabel: 46\tprediction: [1]69 [2]68 [3]18 [4]64 [5]35\t\n"
       ]
      },
      {
       "metadata": {},
       "output_type": "pyout",
       "prompt_number": 40,
       "text": [
        "idx: 2760\tloss: 4.6652898788452\ttrain score: 1.9083333333333\tlabel: 22\tprediction: [1]69 [2]68 [3]18 [4]64 [5]35\t\n"
       ]
      },
      {
       "metadata": {},
       "output_type": "pyout",
       "prompt_number": 40,
       "text": [
        "idx: 2765\tloss: 4.6732902526855\ttrain score: 2.3466666666667\tlabel: 63\tprediction: [1]69 [2]68 [3]18 [4]64 [5]35\t\n"
       ]
      },
      {
       "metadata": {},
       "output_type": "pyout",
       "prompt_number": 40,
       "text": [
        "idx: 2770\tloss: 4.6792898178101\ttrain score: 1.71\tlabel: 81\tprediction: [1]69 [2]68 [3]18 [4]64 [5]35\t\n"
       ]
      },
      {
       "metadata": {},
       "output_type": "pyout",
       "prompt_number": 40,
       "text": [
        "idx: 2775\tloss: 4.680290222168\ttrain score: 2.105\tlabel: 75\tprediction: [1]69 [2]68 [3]18 [4]64 [5]35\t\n"
       ]
      },
      {
       "metadata": {},
       "output_type": "pyout",
       "prompt_number": 40,
       "text": [
        "idx: 2780\tloss: 4.6722898483276\ttrain score: 2.1\tlabel: 67\tprediction: [1]69 [2]68 [3]18 [4]64 [5]35\t\n"
       ]
      },
      {
       "metadata": {},
       "output_type": "pyout",
       "prompt_number": 40,
       "text": [
        "idx: 2785\tloss: 4.6692900657654\ttrain score: 2.1866666666667\tlabel: 4\tprediction: [1]69 [2]68 [3]18 [4]64 [5]35\t\n"
       ]
      },
      {
       "metadata": {},
       "output_type": "pyout",
       "prompt_number": 40,
       "text": [
        "idx: 2790\tloss: 4.666289806366\ttrain score: 2.0233333333333\tlabel: 18\tprediction: [1]69 [2]68 [3]18 [4]64 [5]35\t\n"
       ]
      },
      {
       "metadata": {},
       "output_type": "pyout",
       "prompt_number": 40,
       "text": [
        "idx: 2795\tloss: 4.6752901077271\ttrain score: 1.7166666666667\tlabel: 17\tprediction: [1]69 [2]68 [3]18 [4]64 [5]35\t\n"
       ]
      },
      {
       "metadata": {},
       "output_type": "pyout",
       "prompt_number": 40,
       "text": [
        "idx: 2800\tloss: 4.662290096283\ttrain score: 2.84\tlabel: 87\tprediction: [1]69 [2]68 [3]18 [4]64 [5]35\t\n"
       ]
      },
      {
       "metadata": {},
       "output_type": "pyout",
       "prompt_number": 40,
       "text": [
        "idx: 2805\tloss: 4.6552901268005\ttrain score: 2.76\tlabel: 30\tprediction: [1]69 [2]68 [3]18 [4]64 [5]35\t\n"
       ]
      },
      {
       "metadata": {},
       "output_type": "pyout",
       "prompt_number": 40,
       "text": [
        "idx: 2810\tloss: 4.6992902755737\ttrain score: 1.6283333333333\tlabel: 8\tprediction: [1]69 [2]68 [3]18 [4]64 [5]35\t\n"
       ]
      },
      {
       "metadata": {},
       "output_type": "pyout",
       "prompt_number": 40,
       "text": [
        "idx: 2815\tloss: 4.6752901077271\ttrain score: 1.6716666666667\tlabel: 32\tprediction: [1]69 [2]68 [3]18 [4]64 [5]35\t\n"
       ]
      },
      {
       "metadata": {},
       "output_type": "pyout",
       "prompt_number": 40,
       "text": [
        "idx: 2820\tloss: 4.6742901802063\ttrain score: 1.9516666666667\tlabel: 93\tprediction: [1]69 [2]68 [3]18 [4]64 [5]35\t\n"
       ]
      },
      {
       "metadata": {},
       "output_type": "pyout",
       "prompt_number": 40,
       "text": [
        "idx: 2825\tloss: 4.6702899932861\ttrain score: 2.6833333333333\tlabel: 44\tprediction: [1]69 [2]68 [3]18 [4]64 [5]35\t\n"
       ]
      },
      {
       "metadata": {},
       "output_type": "pyout",
       "prompt_number": 40,
       "text": [
        "idx: 2830\tloss: 4.6672902107239\ttrain score: 2.6133333333333\tlabel: 68\tprediction: [1]69 [2]68 [3]18 [4]64 [5]35\t\n"
       ]
      },
      {
       "metadata": {},
       "output_type": "pyout",
       "prompt_number": 40,
       "text": [
        "idx: 2835\tloss: 4.6682901382446\ttrain score: 1.985\tlabel: 89\tprediction: [1]69 [2]68 [3]18 [4]64 [5]35\t\n"
       ]
      },
      {
       "metadata": {},
       "output_type": "pyout",
       "prompt_number": 40,
       "text": [
        "idx: 2840\tloss: 4.6812901496887\ttrain score: 1.7333333333333\tlabel: 41\tprediction: [1]69 [2]68 [3]18 [4]64 [5]35\t\n"
       ]
      },
      {
       "metadata": {},
       "output_type": "pyout",
       "prompt_number": 40,
       "text": [
        "idx: 2845\tloss: 4.6462903022766\ttrain score: 2.6483333333333\tlabel: 39\tprediction: [1]69 [2]68 [3]18 [4]64 [5]35\t\n"
       ]
      },
      {
       "metadata": {},
       "output_type": "pyout",
       "prompt_number": 40,
       "text": [
        "idx: 2850\tloss: 4.6472902297974\ttrain score: 2.3733333333333\tlabel: 22\tprediction: [1]69 [2]68 [3]18 [4]64 [5]35\t\n"
       ]
      },
      {
       "metadata": {},
       "output_type": "pyout",
       "prompt_number": 40,
       "text": [
        "idx: 2855\tloss: 4.6542901992798\ttrain score: 3.2133333333333\tlabel: 59\tprediction: [1]69 [2]68 [3]18 [4]64 [5]35\t\n"
       ]
      },
      {
       "metadata": {},
       "output_type": "pyout",
       "prompt_number": 40,
       "text": [
        "idx: 2860\tloss: 4.6522903442383\ttrain score: 2.955\tlabel: 10\tprediction: [1]69 [2]68 [3]18 [4]64 [5]35\t\n"
       ]
      },
      {
       "metadata": {},
       "output_type": "pyout",
       "prompt_number": 40,
       "text": [
        "idx: 2865\tloss: 4.6602902412415\ttrain score: 2.0466666666667\tlabel: 49\tprediction: [1]69 [2]68 [3]18 [4]64 [5]35\t\n"
       ]
      },
      {
       "metadata": {},
       "output_type": "pyout",
       "prompt_number": 40,
       "text": [
        "idx: 2870\tloss: 4.6712899208069\ttrain score: 2.3316666666667\tlabel: 65\tprediction: [1]69 [2]68 [3]18 [4]64 [5]35\t\n"
       ]
      },
      {
       "metadata": {},
       "output_type": "pyout",
       "prompt_number": 40,
       "text": [
        "idx: 2875\tloss: 4.666289806366\ttrain score: 2.5483333333333\tlabel: 15\tprediction: [1]69 [2]68 [3]18 [4]64 [5]35\t\n"
       ]
      },
      {
       "metadata": {},
       "output_type": "pyout",
       "prompt_number": 40,
       "text": [
        "idx: 2880\tloss: 4.6582899093628\ttrain score: 2.6216666666667\tlabel: 83\tprediction: [1]69 [2]68 [3]18 [4]64 [5]35\t\n"
       ]
      },
      {
       "metadata": {},
       "output_type": "pyout",
       "prompt_number": 40,
       "text": [
        "idx: 2885\tloss: 4.6882901191711\ttrain score: 1.895\tlabel: 70\tprediction: [1]69 [2]68 [3]18 [4]64 [5]35\t\n"
       ]
      },
      {
       "metadata": {},
       "output_type": "pyout",
       "prompt_number": 40,
       "text": [
        "idx: 2890\tloss: 4.680290222168\ttrain score: 2.1483333333333\tlabel: 4\tprediction: [1]69 [2]68 [3]18 [4]64 [5]35\t\n"
       ]
      },
      {
       "metadata": {},
       "output_type": "pyout",
       "prompt_number": 40,
       "text": [
        "idx: 2895\tloss: 4.662290096283\ttrain score: 1.8266666666667\tlabel: 5\tprediction: [1]69 [2]68 [3]18 [4]64 [5]35\t\n"
       ]
      },
      {
       "metadata": {},
       "output_type": "pyout",
       "prompt_number": 40,
       "text": [
        "idx: 2900\tloss: 4.6712899208069\ttrain score: 2.3433333333333\tlabel: 22\tprediction: [1]69 [2]68 [3]18 [4]64 [5]35\t\n"
       ]
      },
      {
       "metadata": {},
       "output_type": "pyout",
       "prompt_number": 40,
       "text": [
        "idx: 2905\tloss: 4.6822900772095\ttrain score: 2.5883333333333\tlabel: 6\tprediction: [1]69 [2]68 [3]18 [4]64 [5]35\t\n"
       ]
      },
      {
       "metadata": {},
       "output_type": "pyout",
       "prompt_number": 40,
       "text": [
        "idx: 2910\tloss: 4.6592898368835\ttrain score: 2.1516666666667\tlabel: 34\tprediction: [1]69 [2]68 [3]18 [4]64 [5]35\t\n"
       ]
      },
      {
       "metadata": {},
       "output_type": "pyout",
       "prompt_number": 40,
       "text": [
        "idx: 2915\tloss: 4.662290096283\ttrain score: 1.8216666666667\tlabel: 84\tprediction: [1]69 [2]68 [3]18 [4]64 [5]35\t\n"
       ]
      },
      {
       "metadata": {},
       "output_type": "pyout",
       "prompt_number": 40,
       "text": [
        "idx: 2920\tloss: 4.653290271759\ttrain score: 2.8066666666667\tlabel: 88\tprediction: [1]69 [2]68 [3]18 [4]64 [5]35\t\n"
       ]
      },
      {
       "metadata": {},
       "output_type": "pyout",
       "prompt_number": 40,
       "text": [
        "idx: 2925\tloss: 4.6592898368835\ttrain score: 1.9116666666667\tlabel: 58\tprediction: [1]69 [2]68 [3]18 [4]64 [5]35\t\n"
       ]
      },
      {
       "metadata": {},
       "output_type": "pyout",
       "prompt_number": 40,
       "text": [
        "idx: 2930\tloss: 4.6592898368835\ttrain score: 2.395\tlabel: 71\tprediction: [1]69 [2]68 [3]18 [4]64 [5]35\t\n"
       ]
      },
      {
       "metadata": {},
       "output_type": "pyout",
       "prompt_number": 40,
       "text": [
        "idx: 2935\tloss: 4.6662907600403\ttrain score: 2.9416666666667\tlabel: 28\tprediction: [1]69 [2]68 [3]18 [4]64 [5]35\t\n"
       ]
      },
      {
       "metadata": {},
       "output_type": "pyout",
       "prompt_number": 40,
       "text": [
        "idx: 2940\tloss: 4.6892900466919\ttrain score: 1.8783333333333\tlabel: 49\tprediction: [1]69 [2]68 [3]18 [4]64 [5]35\t\n"
       ]
      },
      {
       "metadata": {},
       "output_type": "pyout",
       "prompt_number": 40,
       "text": [
        "idx: 2945\tloss: 4.657289981842\ttrain score: 2.1433333333333\tlabel: 29\tprediction: [1]69 [2]68 [3]18 [4]64 [5]35\t\n"
       ]
      },
      {
       "metadata": {},
       "output_type": "pyout",
       "prompt_number": 40,
       "text": [
        "idx: 2950\tloss: 4.653290271759\ttrain score: 2.5216666666667\tlabel: 55\tprediction: [1]69 [2]68 [3]18 [4]64 [5]35\t\n"
       ]
      },
      {
       "metadata": {},
       "output_type": "pyout",
       "prompt_number": 40,
       "text": [
        "idx: 2955\tloss: 4.6812901496887\ttrain score: 2.2516666666667\tlabel: 100\tprediction: [1]69 [2]68 [3]18 [4]64 [5]35\t\n"
       ]
      },
      {
       "metadata": {},
       "output_type": "pyout",
       "prompt_number": 40,
       "text": [
        "idx: 2960\tloss: 4.6552901268005\ttrain score: 2.5566666666667\tlabel: 93\tprediction: [1]69 [2]68 [3]18 [4]64 [5]35\t\n"
       ]
      },
      {
       "metadata": {},
       "output_type": "pyout",
       "prompt_number": 40,
       "text": [
        "idx: 2965\tloss: 4.6692905426025\ttrain score: 1.7033333333333\tlabel: 94\tprediction: [1]69 [2]68 [3]18 [4]64 [5]35\t\n"
       ]
      },
      {
       "metadata": {},
       "output_type": "pyout",
       "prompt_number": 40,
       "text": [
        "idx: 2970\tloss: 4.6522898674011\ttrain score: 2.0783333333333\tlabel: 64\tprediction: [1]69 [2]68 [3]18 [4]64 [5]35\t\n"
       ]
      },
      {
       "metadata": {},
       "output_type": "pyout",
       "prompt_number": 40,
       "text": [
        "idx: 2975\tloss: 4.6662907600403\ttrain score: 2.83\tlabel: 15\tprediction: [1]69 [2]68 [3]18 [4]64 [5]35\t\n"
       ]
      },
      {
       "metadata": {},
       "output_type": "pyout",
       "prompt_number": 40,
       "text": [
        "idx: 2980\tloss: 4.6762900352478\ttrain score: 2.4133333333333\tlabel: 73\t"
       ]
      },
      {
       "metadata": {},
       "output_type": "pyout",
       "prompt_number": 40,
       "text": [
        "prediction: [1]69 [2]68 [3]18 [4]64 [5]35\t\n"
       ]
      },
      {
       "metadata": {},
       "output_type": "pyout",
       "prompt_number": 40,
       "text": [
        "idx: 2985\tloss: 4.6742901802063\ttrain score: 1.9983333333333\tlabel: 22\tprediction: [1]69 [2]68 [3]18 [4]64 [5]35\t\n"
       ]
      },
      {
       "metadata": {},
       "output_type": "pyout",
       "prompt_number": 40,
       "text": [
        "idx: 2990\tloss: 4.6772899627686\ttrain score: 2.445\tlabel: 25\tprediction: [1]69 [2]68 [3]18 [4]64 [5]35\t\n"
       ]
      },
      {
       "metadata": {},
       "output_type": "pyout",
       "prompt_number": 40,
       "text": [
        "idx: 2995\tloss: 4.6822900772095\ttrain score: 1.7916666666667\tlabel: 30\tprediction: [1]69 [2]68 [3]18 [4]64 [5]35\t\n"
       ]
      },
      {
       "metadata": {},
       "output_type": "pyout",
       "prompt_number": 40,
       "text": [
        "current LR: 0.0025\t\n"
       ]
      },
      {
       "metadata": {},
       "output_type": "pyout",
       "prompt_number": 40,
       "text": [
        "idx: 3000\tloss: 4.6632900238037\ttrain score: 2.3516666666667\tlabel: 98\tprediction: [1]69 [2]68 [3]18 [4]64 [5]35\t\n"
       ]
      },
      {
       "metadata": {},
       "output_type": "pyout",
       "prompt_number": 40,
       "text": [
        "idx: 3005\tloss: 4.657289981842\ttrain score: 2.22\tlabel: 91\tprediction: [1]69 [2]68 [3]18 [4]64 [5]35\t\n"
       ]
      },
      {
       "metadata": {},
       "output_type": "pyout",
       "prompt_number": 40,
       "text": [
        "idx: 3010\tloss: 4.6732902526855\ttrain score: 2.4533333333333\tlabel: 99\tprediction: [1]69 [2]68 [3]18 [4]64 [5]35\t\n"
       ]
      },
      {
       "metadata": {},
       "output_type": "pyout",
       "prompt_number": 40,
       "text": [
        "idx: 3015\t"
       ]
      },
      {
       "metadata": {},
       "output_type": "pyout",
       "prompt_number": 40,
       "text": [
        "loss: 4.6672902107239\ttrain score: 2.285\tlabel: 50\tprediction: [1]69 [2]68 [3]18 [4]64 [5]35\t\n"
       ]
      },
      {
       "metadata": {},
       "output_type": "pyout",
       "prompt_number": 40,
       "text": [
        "idx: 3020\tloss: 4.6692900657654\ttrain score: 2.3516666666667\tlabel: 59\tprediction: [1]69 [2]68 [3]18 [4]64 [5]35\t\n"
       ]
      },
      {
       "metadata": {},
       "output_type": "pyout",
       "prompt_number": 40,
       "text": [
        "idx: 3025\tloss: 4.6762900352478\ttrain score: 2.1416666666667\tlabel: 21\tprediction: [1]69 [2]68 [3]18 [4]64 [5]35\t\n"
       ]
      },
      {
       "metadata": {},
       "output_type": "pyout",
       "prompt_number": 40,
       "text": [
        "idx: 3030\tloss: 4.6642904281616\ttrain score: 2.62\tlabel: 7\tprediction: [1]69 [2]68 [3]18 [4]64 [5]35\t\n"
       ]
      },
      {
       "metadata": {},
       "output_type": "pyout",
       "prompt_number": 40,
       "text": [
        "idx: 3035\tloss: 4.6772899627686\ttrain score: 2.665\tlabel: 5\tprediction: [1]69 [2]68 [3]18 [4]64 [5]35\t\n"
       ]
      },
      {
       "metadata": {},
       "output_type": "pyout",
       "prompt_number": 40,
       "text": [
        "idx: 3040\tloss: 4.6732902526855\ttrain score: 1.8616666666667\tlabel: 64\tprediction: [1]69 [2]68 [3]18 [4]64 [5]35\t\n"
       ]
      },
      {
       "metadata": {},
       "output_type": "pyout",
       "prompt_number": 40,
       "text": [
        "idx: 3045\tloss: 4.6552901268005\ttrain score: 2.475\tlabel: 89\tprediction: [1]69 [2]68 [3]18 [4]64 [5]35\t\n"
       ]
      },
      {
       "metadata": {},
       "output_type": "pyout",
       "prompt_number": 40,
       "text": [
        "idx: 3050\tloss: 4.6782898902893\ttrain score: 1.95\tlabel: 77\tprediction: [1]69 [2]68 [3]18 [4]64 [5]35\t\n"
       ]
      },
      {
       "metadata": {},
       "output_type": "pyout",
       "prompt_number": 40,
       "text": [
        "idx: 3055\tloss: 4.6482901573181\ttrain score: 2.4016666666667\tlabel: 32\tprediction: [1]69 [2]68 [3]18 [4]64 [5]35\t\n"
       ]
      },
      {
       "metadata": {},
       "output_type": "pyout",
       "prompt_number": 40,
       "text": [
        "idx: 3060\tloss: 4.6592898368835\ttrain score: 2.1233333333333\tlabel: 93\tprediction: [1]69 [2]68 [3]18 [4]64 [5]35\t\n"
       ]
      },
      {
       "metadata": {},
       "output_type": "pyout",
       "prompt_number": 40,
       "text": [
        "idx: 3065\tloss: 4.6742901802063\ttrain score: 2.5116666666667\tlabel: 36\tprediction: [1]69 [2]68 [3]18 [4]64 [5]35\t\n"
       ]
      },
      {
       "metadata": {},
       "output_type": "pyout",
       "prompt_number": 40,
       "text": [
        "idx: 3070\tloss: 4.6972899436951\ttrain score: 1.2966666666667\tlabel: 12\tprediction: [1]69 [2]68 [3]18 [4]64 [5]35\t\n"
       ]
      },
      {
       "metadata": {},
       "output_type": "pyout",
       "prompt_number": 40,
       "text": [
        "idx: 3075\tloss: 4.667290687561\ttrain score: 1.8183333333333\tlabel: 35\tprediction: [1]69 [2]68 [3]18 [4]64 [5]35\t\n"
       ]
      },
      {
       "metadata": {},
       "output_type": "pyout",
       "prompt_number": 40,
       "text": [
        "idx: 3080\tloss: 4.6632905006409\ttrain score: 1.935\tlabel: 26\tprediction: [1]69 [2]68 [3]18 [4]64 [5]35\t\n"
       ]
      },
      {
       "metadata": {},
       "output_type": "pyout",
       "prompt_number": 40,
       "text": [
        "idx: 3085\tloss: 4.6492900848389\ttrain score: 2.96\tlabel: 55\tprediction: [1]69 [2]68 [3]18 [4]64 [5]35\t\n"
       ]
      },
      {
       "metadata": {},
       "output_type": "pyout",
       "prompt_number": 40,
       "text": [
        "idx: 3090\tloss: 4.6722898483276\ttrain score: 2.1833333333333\tlabel: 93\tprediction: [1]69 [2]68 [3]18 [4]64 [5]35\t\n"
       ]
      },
      {
       "metadata": {},
       "output_type": "pyout",
       "prompt_number": 40,
       "text": [
        "idx: 3095\tloss: 4.6762900352478\ttrain score: 2.3183333333333\tlabel: 8\tprediction: [1]69 [2]68 [3]18 [4]64 [5]35\t\n"
       ]
      },
      {
       "metadata": {},
       "output_type": "pyout",
       "prompt_number": 40,
       "text": [
        "idx: 3100\tloss: 4.6642899513245\ttrain score: 2.5766666666667\tlabel: 85\tprediction: [1]69 [2]68 [3]18 [4]64 [5]35\t\n"
       ]
      },
      {
       "metadata": {},
       "output_type": "pyout",
       "prompt_number": 40,
       "text": [
        "idx: 3105\tloss: 4.662290096283\ttrain score: 2.6166666666667\tlabel: 12\tprediction: [1]69 [2]68 [3]18 [4]64 [5]35\t\n"
       ]
      },
      {
       "metadata": {},
       "output_type": "pyout",
       "prompt_number": 40,
       "text": [
        "idx: 3110\tloss: 4.6642899513245\ttrain score: 2.7183333333333\tlabel: 26\tprediction: [1]69 [2]68 [3]18 [4]64 [5]35\t\n"
       ]
      },
      {
       "metadata": {},
       "output_type": "pyout",
       "prompt_number": 40,
       "text": [
        "idx: 3115\tloss: 4.6542901992798\ttrain score: 2.67\tlabel: 92\tprediction: [1]69 [2]68 [3]18 [4]64 [5]35\t\n"
       ]
      },
      {
       "metadata": {},
       "output_type": "pyout",
       "prompt_number": 40,
       "text": [
        "idx: 3120\tloss: 4.6522898674011\ttrain score: 2.5816666666667\tlabel: 14\tprediction: [1]69 [2]68 [3]18 [4]64 [5]35\t\n"
       ]
      },
      {
       "metadata": {},
       "output_type": "pyout",
       "prompt_number": 40,
       "text": [
        "idx: 3125\tloss: 4.666289806366\ttrain score: 1.965\tlabel: 69\t"
       ]
      },
      {
       "metadata": {},
       "output_type": "pyout",
       "prompt_number": 40,
       "text": [
        "prediction: [1]69 [2]68 [3]18 [4]64 [5]35\t\n"
       ]
      },
      {
       "metadata": {},
       "output_type": "pyout",
       "prompt_number": 40,
       "text": [
        "idx: 3130\tloss: 4.6762900352478\ttrain score: 1.8683333333333\tlabel: 90\tprediction: [1]69 [2]68 [3]18 [4]64 [5]35\t\n"
       ]
      },
      {
       "metadata": {},
       "output_type": "pyout",
       "prompt_number": 40,
       "text": [
        "idx: 3135\tloss: 4.6602902412415\ttrain score: 3.1183333333333\tlabel: 93\tprediction: [1]69 [2]68 [3]18 [4]64 [5]35\t\n"
       ]
      },
      {
       "metadata": {},
       "output_type": "pyout",
       "prompt_number": 40,
       "text": [
        "idx: 3140\tloss: 4.666289806366\ttrain score: 2.455\tlabel: 46\tprediction: [1]69 [2]68 [3]18 [4]64 [5]35\t\n"
       ]
      },
      {
       "metadata": {},
       "output_type": "pyout",
       "prompt_number": 40,
       "text": [
        "idx: 3145\tloss: 4.6722898483276\ttrain score: 2.6\tlabel: 89\tprediction: [1]69 [2]68 [3]18 [4]64 [5]35\t\n"
       ]
      },
      {
       "metadata": {},
       "output_type": "pyout",
       "prompt_number": 40,
       "text": [
        "idx: 3150\tloss: 4.6562900543213\ttrain score: 2.6633333333333\tlabel: 53\tprediction: [1]69 [2]68 [3]18 [4]64 [5]35\t\n"
       ]
      },
      {
       "metadata": {},
       "output_type": "pyout",
       "prompt_number": 40,
       "text": [
        "idx: 3155\tloss: 4.6692900657654\ttrain score: 2.53\tlabel: 78\tprediction: [1]69 [2]68 [3]18 [4]64 [5]35\t\n"
       ]
      },
      {
       "metadata": {},
       "output_type": "pyout",
       "prompt_number": 40,
       "text": [
        "idx: 3160\tloss: 4.6642899513245\ttrain score: 2.6983333333333\tlabel: 57\tprediction: [1]69 [2]68 [3]18 [4]64 [5]35\t\n"
       ]
      },
      {
       "metadata": {},
       "output_type": "pyout",
       "prompt_number": 40,
       "text": [
        "idx: 3165\tloss: 4.6702899932861\ttrain score: 2.28\tlabel: 79\tprediction: [1]69 [2]68 [3]18 [4]64 [5]35\t\n"
       ]
      },
      {
       "metadata": {},
       "output_type": "pyout",
       "prompt_number": 40,
       "text": [
        "idx: 3170\tloss: 4.6602907180786\ttrain score: 2.4733333333333\tlabel: 90\tprediction: [1]69 [2]68 [3]18 [4]64 [5]35\t\n"
       ]
      },
      {
       "metadata": {},
       "output_type": "pyout",
       "prompt_number": 40,
       "text": [
        "idx: 3175\tloss: 4.667290687561\ttrain score: 2.27\tlabel: 18\tprediction: [1]69 [2]68 [3]18 [4]64 [5]35\t\n"
       ]
      },
      {
       "metadata": {},
       "output_type": "pyout",
       "prompt_number": 40,
       "text": [
        "idx: 3180\tloss: 4.6732902526855\ttrain score: 2.0666666666667\tlabel: 5\tprediction: [1]69 [2]68 [3]18 [4]64 [5]35\t\n"
       ]
      },
      {
       "metadata": {},
       "output_type": "pyout",
       "prompt_number": 40,
       "text": [
        "idx: 3185\tloss: 4.6632900238037\ttrain score: 2.0916666666667\tlabel: 8\tprediction: [1]69 [2]68 [3]18 [4]64 [5]35\t\n"
       ]
      },
      {
       "metadata": {},
       "output_type": "pyout",
       "prompt_number": 40,
       "text": [
        "idx: 3190\tloss: 4.6612901687622\ttrain score: 2.31\tlabel: 11\tprediction: [1]69 [2]68 [3]18 [4]64 [5]35\t\n"
       ]
      },
      {
       "metadata": {},
       "output_type": "pyout",
       "prompt_number": 40,
       "text": [
        "idx: 3195\tloss: 4.6612901687622\ttrain score: 2.3016666666667\tlabel: 23\tprediction: [1]69 [2]68 [3]18 [4]64 [5]35\t\n"
       ]
      },
      {
       "metadata": {},
       "output_type": "pyout",
       "prompt_number": 40,
       "text": [
        "idx: 3200\tloss: 4.6502900123596\ttrain score: 2.7\tlabel: 72\tprediction: [1]69 [2]68 [3]18 [4]64 [5]35\t\n"
       ]
      },
      {
       "metadata": {},
       "output_type": "pyout",
       "prompt_number": 40,
       "text": [
        "idx: 3205\tloss: 4.6712899208069\ttrain score: 2.1716666666667\tlabel: 92\tprediction: [1]69 [2]68 [3]18 [4]64 [5]35\t\n"
       ]
      },
      {
       "metadata": {},
       "output_type": "pyout",
       "prompt_number": 40,
       "text": [
        "idx: 3210\tloss: 4.6772904396057\ttrain score: 1.9916666666667\tlabel: 97\tprediction: [1]69 [2]68 [3]18 [4]64 [5]35\t\n"
       ]
      },
      {
       "metadata": {},
       "output_type": "pyout",
       "prompt_number": 40,
       "text": [
        "idx: 3215\tloss: 4.6812901496887\ttrain score: 2.1883333333333\tlabel: 47\tprediction: [1]69 [2]68 [3]18 [4]64 [5]35\t\n"
       ]
      },
      {
       "metadata": {},
       "output_type": "pyout",
       "prompt_number": 40,
       "text": [
        "idx: 3220\tloss: 4.6562905311584\ttrain score: 3.1033333333333\tlabel: 98\tprediction: [1]69 [2]68 [3]18 [4]64 [5]35\t\n"
       ]
      },
      {
       "metadata": {},
       "output_type": "pyout",
       "prompt_number": 40,
       "text": [
        "idx: 3225\tloss: 4.6742901802063\ttrain score: 2.08\tlabel: 19\tprediction: [1]69 [2]68 [3]18 [4]64 [5]35\t\n"
       ]
      },
      {
       "metadata": {},
       "output_type": "pyout",
       "prompt_number": 40,
       "text": [
        "idx: 3230\tloss: 4.6512899398804\ttrain score: 2.805\tlabel: 94\tprediction: [1]69 [2]68 [3]18 [4]64 [5]35\t\n"
       ]
      },
      {
       "metadata": {},
       "output_type": "pyout",
       "prompt_number": 40,
       "text": [
        "idx: 3235\tloss: 4.6722898483276\ttrain score: 2.04\tlabel: 93\tprediction: [1]69 [2]68 [3]18 [4]64 [5]35\t\n"
       ]
      },
      {
       "metadata": {},
       "output_type": "pyout",
       "prompt_number": 40,
       "text": [
        "idx: 3240\tloss: 4.6642899513245\ttrain score: 2.655\tlabel: 55\tprediction: [1]69 [2]68 [3]18 [4]64 [5]35\t\n"
       ]
      },
      {
       "metadata": {},
       "output_type": "pyout",
       "prompt_number": 40,
       "text": [
        "idx: 3245\tloss: 4.6662907600403\ttrain score: 2.8116666666667\tlabel: 27\tprediction: [1]69 [2]68 [3]18 [4]64 [5]35\t\n"
       ]
      },
      {
       "metadata": {},
       "output_type": "pyout",
       "prompt_number": 40,
       "text": [
        "idx: 3250\tloss: 4.6722898483276\ttrain score: 2.09\tlabel: 96\tprediction: [1]69 [2]68 [3]18 [4]64 [5]35\t\n"
       ]
      },
      {
       "metadata": {},
       "output_type": "pyout",
       "prompt_number": 40,
       "text": [
        "idx: 3255\tloss: 4.6732902526855\ttrain score: 2.6583333333333\tlabel: 93\tprediction: [1]69 [2]68 [3]18 [4]64 [5]35\t\n"
       ]
      },
      {
       "metadata": {},
       "output_type": "pyout",
       "prompt_number": 40,
       "text": [
        "idx: 3260\tloss: 4.6612901687622\ttrain score: 1.9\tlabel: 44\tprediction: [1]69 [2]68 [3]18 [4]64 [5]35\t\n"
       ]
      },
      {
       "metadata": {},
       "output_type": "pyout",
       "prompt_number": 40,
       "text": [
        "idx: 3265\tloss: 4.6702899932861\ttrain score: 2.1633333333333\tlabel: 88\tprediction: [1]69 [2]68 [3]18 [4]64 [5]35\t\n"
       ]
      },
      {
       "metadata": {},
       "output_type": "pyout",
       "prompt_number": 40,
       "text": [
        "idx: 3270\tloss: 4.6602902412415\ttrain score: 1.6\tlabel: 84\tprediction: [1]69 [2]68 [3]18 [4]64 [5]35\t\n"
       ]
      },
      {
       "metadata": {},
       "output_type": "pyout",
       "prompt_number": 40,
       "text": [
        "idx: 3275\tloss: 4.6582899093628\ttrain score: 2.9716666666667\tlabel: 46\tprediction: [1]69 [2]68 [3]18 [4]64 [5]35\t\n"
       ]
      },
      {
       "metadata": {},
       "output_type": "pyout",
       "prompt_number": 40,
       "text": [
        "idx: 3280\tloss: 4.676290512085\ttrain score: 1.65\tlabel: 85\tprediction: [1]69 [2]68 [3]18 [4]64 [5]35\t\n"
       ]
      },
      {
       "metadata": {},
       "output_type": "pyout",
       "prompt_number": 40,
       "text": [
        "idx: 3285\tloss: 4.6732902526855\ttrain score: 1.5816666666667\tlabel: 60\tprediction: [1]69 [2]68 [3]18 [4]64 [5]35\t\n"
       ]
      },
      {
       "metadata": {},
       "output_type": "pyout",
       "prompt_number": 40,
       "text": [
        "idx: 3290\tloss: 4.6692900657654\ttrain score: 1.6383333333333\tlabel: 51\tprediction: [1]69 [2]68 [3]18 [4]64 [5]35\t\n"
       ]
      },
      {
       "metadata": {},
       "output_type": "pyout",
       "prompt_number": 40,
       "text": [
        "idx: 3295\tloss: 4.6722903251648\ttrain score: 2.5616666666667\tlabel: 72\tprediction: [1]69 [2]68 [3]18 [4]64 [5]35\t\n"
       ]
      },
      {
       "metadata": {},
       "output_type": "pyout",
       "prompt_number": 40,
       "text": [
        "idx: 3300\tloss: 4.6892905235291\ttrain score: 1.7516666666667\tlabel: 57\tprediction: [1]69 [2]68 [3]18 [4]64 [5]35\t\n"
       ]
      }
     ],
     "prompt_number": 40
    }
   ],
   "metadata": {}
  }
 ]
}