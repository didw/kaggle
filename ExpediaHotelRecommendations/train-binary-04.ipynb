{
 "metadata": {
  "language": "lua",
  "name": "",
  "signature": "sha256:9f1d36e2357898561d2ccb4bd14ca6b250c8bcc0d77ab4a5117424e809f708d9"
 },
 "nbformat": 3,
 "nbformat_minor": 0,
 "worksheets": [
  {
   "cells": [
    {
     "cell_type": "markdown",
     "metadata": {},
     "source": [
      "From Experiment 01\n",
      "\n",
      "Add userid\n"
     ]
    },
    {
     "cell_type": "code",
     "collapsed": false,
     "input": [
      "require 'torch';\n",
      "require 'nn';\n",
      "require 'cutorch';\n",
      "require 'cunn';\n",
      "require 'cudnn';"
     ],
     "language": "python",
     "metadata": {},
     "outputs": [],
     "prompt_number": 1
    },
    {
     "cell_type": "markdown",
     "metadata": {},
     "source": [
      "### Split data"
     ]
    },
    {
     "cell_type": "code",
     "collapsed": false,
     "input": [
      "function split(str, pat)\n",
      "   local t = {}  -- NOTE: use {n = 0} in Lua-5.0\n",
      "   local fpat = \"(.-)\" .. pat\n",
      "   local last_end = 1\n",
      "   local s, e, cap = str:find(fpat, 1)\n",
      "   while s do\n",
      "      if s ~= 1 or cap ~= \"\" then\n",
      "         table.insert(t,cap)\n",
      "      end\n",
      "      last_end = e+1\n",
      "      s, e, cap = str:find(fpat, last_end)\n",
      "   end\n",
      "   if last_end <= #str then\n",
      "      cap = str:sub(last_end)\n",
      "      table.insert(t, cap)\n",
      "   end\n",
      "   return t\n",
      "end"
     ],
     "language": "python",
     "metadata": {},
     "outputs": [],
     "prompt_number": 2
    },
    {
     "cell_type": "markdown",
     "metadata": {},
     "source": [
      "## Conver Data"
     ]
    },
    {
     "cell_type": "markdown",
     "metadata": {},
     "source": [
      "### 1. To get week number"
     ]
    },
    {
     "cell_type": "code",
     "collapsed": false,
     "input": [
      "function getYearBeginDayOfWeek(tm)\n",
      "  yearBegin = os.time{year=os.date(\"*t\",tm).year,month=1,day=1}\n",
      "  yearBeginDayOfWeek = tonumber(os.date(\"%w\",yearBegin))\n",
      "  -- sunday correct from 0 -> 7\n",
      "  if(yearBeginDayOfWeek == 0) then yearBeginDayOfWeek = 7 end\n",
      "  return yearBeginDayOfWeek\n",
      "end\n",
      "function getDayAdd(tm)\n",
      "  yearBeginDayOfWeek = getYearBeginDayOfWeek(tm)\n",
      "  if(yearBeginDayOfWeek < 5 ) then\n",
      "    -- first day is week 1\n",
      "    dayAdd = (yearBeginDayOfWeek - 2)\n",
      "  else \n",
      "    -- first day is week 52 or 53\n",
      "    dayAdd = (yearBeginDayOfWeek - 9)\n",
      "  end  \n",
      "  return dayAdd\n",
      "end\n",
      "function getWeekNumberOfYear(tm)\n",
      "  dayOfYear = os.date(\"%j\",tm)\n",
      "  dayAdd = getDayAdd(tm)\n",
      "  dayOfYearCorrected = dayOfYear + dayAdd\n",
      "  if(dayOfYearCorrected < 0) then\n",
      "    -- week of last year - decide if 52 or 53\n",
      "    lastYearBegin = os.time{year=os.date(\"*t\",tm).year-1,month=1,day=1}\n",
      "    lastYearEnd = os.time{year=os.date(\"*t\",tm).year-1,month=12,day=31}\n",
      "    dayAdd = getDayAdd(lastYearBegin)\n",
      "    dayOfYear = dayOfYear + os.date(\"%j\",lastYearEnd)\n",
      "    dayOfYearCorrected = dayOfYear + dayAdd\n",
      "  end  \n",
      "  weekNum = math.floor((dayOfYearCorrected) / 7) + 1\n",
      "  if( (dayOfYearCorrected > 0) and weekNum == 53) then\n",
      "    -- check if it is not considered as part of week 1 of next year\n",
      "    nextYearBegin = os.time{year=os.date(\"*t\",tm).year+1,month=1,day=1}\n",
      "    yearBeginDayOfWeek = getYearBeginDayOfWeek(nextYearBegin)\n",
      "    if(yearBeginDayOfWeek < 5 ) then\n",
      "      weekNum = 1\n",
      "    end  \n",
      "  end  \n",
      "  return weekNum\n",
      "end"
     ],
     "language": "python",
     "metadata": {},
     "outputs": [],
     "prompt_number": 3
    },
    {
     "cell_type": "code",
     "collapsed": false,
     "input": [
      "function __getWeekday(tm)\n",
      "    return os.date(\"*t\",tm).wday\n",
      "end"
     ],
     "language": "python",
     "metadata": {},
     "outputs": [],
     "prompt_number": 4
    },
    {
     "cell_type": "code",
     "collapsed": false,
     "input": [
      "function getWeekday(input)\n",
      "    dates = split(input, \"-\")\n",
      "    if table.getn(dates) ~= 3 then\n",
      "        return -1\n",
      "    end\n",
      "    useDate = os.time{year=dates[1],month=dates[2],day=dates[3]}\n",
      "    return __getWeekday(useDate)\n",
      "end"
     ],
     "language": "python",
     "metadata": {},
     "outputs": [],
     "prompt_number": 5
    },
    {
     "cell_type": "code",
     "collapsed": false,
     "input": [
      "function getLengthStay(checkin, checkout)\n",
      "    local dIn= split(checkin, \"-\")\n",
      "    local dOut= split(checkout, \"-\")\n",
      "    if table.getn(dIn) ~= 3 or table.getn(dOut) ~= 3 then\n",
      "        return -1\n",
      "    end\n",
      "    local useDateIn = os.time{year=dIn[1],month=dIn[2],day=dIn[3]}\n",
      "    local useDateOut = os.time{year=dOut[1],month=dOut[2],day=dOut[3]}\n",
      "    local days = (useDateOut - useDateIn)/(24*60*60)\n",
      "    if days > 30 then\n",
      "        days = 30\n",
      "    end\n",
      "    return days\n",
      "end"
     ],
     "language": "python",
     "metadata": {},
     "outputs": [],
     "prompt_number": 6
    },
    {
     "cell_type": "code",
     "collapsed": false,
     "input": [
      "function isIncludeWeekend(checkin, checkout)\n",
      "    local dIn= split(checkin, \"-\")\n",
      "    local dOut= split(checkout, \"-\")\n",
      "    if table.getn(dIn) ~= 3 or table.getn(dOut) ~= 3 then\n",
      "        return -1\n",
      "    end\n",
      "    if getLengthStay(checkin, checkout) > 7 then\n",
      "        return 1\n",
      "    end\n",
      "    local useDateIn = os.time{year=dIn[1],month=dIn[2],day=dIn[3]}\n",
      "    local useDateOut = os.time{year=dOut[1],month=dOut[2],day=dOut[3]}\n",
      "    date = useDateIn\n",
      "    while date < useDateOut do\n",
      "        if __getWeekday(date) == 6 or __getWeekday(date) == 7 then return 1 end\n",
      "        date = date + 24 * 60 * 60\n",
      "    end\n",
      "    return 0\n",
      "end"
     ],
     "language": "python",
     "metadata": {},
     "outputs": [],
     "prompt_number": 7
    },
    {
     "cell_type": "code",
     "collapsed": false,
     "input": [
      "print(isIncludeWeekend(\"2016-05-20\", \"2016-05-21\"))"
     ],
     "language": "python",
     "metadata": {},
     "outputs": [],
     "prompt_number": 8
    },
    {
     "cell_type": "code",
     "collapsed": false,
     "input": [
      "function getDate(input)\n",
      "    dates = split(input, \"-\")\n",
      "    if table.getn(dates) ~= 3 then\n",
      "        return -1\n",
      "    end\n",
      "    useDate = os.time{year=dates[1],month=dates[2],day=dates[3]}\n",
      "    weekNum = getWeekNumberOfYear(useDate)\n",
      "    return weekNum\n",
      "end"
     ],
     "language": "python",
     "metadata": {},
     "outputs": [
      {
       "metadata": {},
       "output_type": "pyout",
       "prompt_number": 9,
       "text": [
        "1\t\n"
       ]
      }
     ],
     "prompt_number": 9
    },
    {
     "cell_type": "markdown",
     "metadata": {},
     "source": [
      "### 2. onehot"
     ]
    },
    {
     "cell_type": "code",
     "collapsed": false,
     "input": [
      "function onehot(tab, value, len)\n",
      "    if value == nil then\n",
      "        value = 0\n",
      "    end\n",
      "    for i=1,len do\n",
      "        if i==tonumber(value) then\n",
      "            table.insert(tab, 1)\n",
      "        else\n",
      "            table.insert(tab, 0)\n",
      "        end\n",
      "    end\n",
      "end"
     ],
     "language": "python",
     "metadata": {},
     "outputs": [],
     "prompt_number": 10
    },
    {
     "cell_type": "code",
     "collapsed": false,
     "input": [
      "function onehot_range(data, value, len, step)\n",
      "    if value == nil then\n",
      "        value = 0\n",
      "    end\n",
      "    for i=1,len do\n",
      "        if tonumber(value) > i*tonumber(step) then\n",
      "            table.insert(data, 0)\n",
      "        else\n",
      "            table.insert(data, 1)\n",
      "            value = len * (step + 1)\n",
      "        end\n",
      "    end\n",
      "end"
     ],
     "language": "python",
     "metadata": {},
     "outputs": [],
     "prompt_number": 11
    },
    {
     "cell_type": "markdown",
     "metadata": {},
     "source": [
      "### 3. binary"
     ]
    },
    {
     "cell_type": "code",
     "collapsed": false,
     "input": [
      "function binary(data, value, len)\n",
      "    while len > 0 do\n",
      "        if value % 2 == 1 then\n",
      "            table.insert(data, 1)\n",
      "        else\n",
      "            table.insert(data, 0)\n",
      "        end\n",
      "        value = value / 2\n",
      "        len = (len / 2) - (len / 2)%1\n",
      "    end\n",
      "end"
     ],
     "language": "python",
     "metadata": {},
     "outputs": [],
     "prompt_number": 12
    },
    {
     "cell_type": "markdown",
     "metadata": {},
     "source": [
      "### 4. dest info"
     ]
    },
    {
     "cell_type": "code",
     "collapsed": false,
     "input": [
      "fileName = 'data/destinations.csv'\n",
      "\n",
      "info_sum = {}\n",
      "info_mean = {}\n",
      "info_std = {}\n",
      "N = 1\n",
      "head = 1\n",
      "for i=1,149 do table.insert(info_sum, 0) end\n",
      "for line in io.lines ( fileName ) do \n",
      "    if head == 1 then\n",
      "        head = 0\n",
      "    else\n",
      "        destdata = split(line, ',')\n",
      "        for j=1,149 do\n",
      "            info_sum[j] = info_sum[j] + tonumber(destdata[j+1])\n",
      "        end\n",
      "        N = N + 1\n",
      "    end\n",
      "end\n",
      "\n",
      "for i=1,149 do info_mean[i] = info_sum[i] / N end\n",
      "\n",
      "info_sum = {}\n",
      "N = 1\n",
      "head = 1\n",
      "for i=1,149 do table.insert(info_sum, 0) end\n",
      "for line in io.lines ( fileName ) do \n",
      "    if head == 1 then\n",
      "        head = 0\n",
      "    else\n",
      "        destdata = split(line, ',')\n",
      "        for j=1,149 do\n",
      "            info_sum[j] = info_sum[j] + (tonumber(destdata[j+1]) - info_mean[j]) * (tonumber(destdata[j+1]) - info_mean[j])\n",
      "        end\n",
      "        N = N + 1\n",
      "    end\n",
      "end\n",
      "\n",
      "for i=1,149 do info_std[i] = math.sqrt(info_sum[i] / N) end"
     ],
     "language": "python",
     "metadata": {},
     "outputs": [],
     "prompt_number": 13
    },
    {
     "cell_type": "code",
     "collapsed": false,
     "input": [
      "destInfo = {}\n",
      "i = 0\n",
      "head = 1\n",
      "nEmpty = 0\n",
      "empty_row = {}\n",
      "for j=1,149 do\n",
      "    table.insert(empty_row, 0)\n",
      "end\n",
      "for line in io.lines ( fileName ) do \n",
      "    if head == 1 then\n",
      "        head = 0\n",
      "    else\n",
      "        destdata = split(line, ',')\n",
      "        while tonumber(destdata[1]) ~= i do\n",
      "            --print('Empty line => destdata[1]: ' .. destdata[1], 'i: ' .. i)\n",
      "            table.insert(destInfo, empty_row)\n",
      "            i = i + 1\n",
      "            nEmpty = nEmpty + 1\n",
      "        end\n",
      "        row = {}\n",
      "        for j=1,149 do\n",
      "            table.insert(row, (destdata[j+1] - info_mean[j]) / info_std[j])\n",
      "        end\n",
      "        table.insert(destInfo, row)\n",
      "        if tonumber(destdata[1]) ~= i then\n",
      "            --print('Not Matched => destdata[1]: ' .. destdata[1], 'i: ' .. i)\n",
      "        end\n",
      "        i = i + 1\n",
      "    end\n",
      "end\n",
      "\n",
      "for i=1,1000 do table.insert(destInfo, empty_row) end\n",
      "print('nEmpty:' .. nEmpty)"
     ],
     "language": "python",
     "metadata": {},
     "outputs": [],
     "prompt_number": 14
    },
    {
     "cell_type": "code",
     "collapsed": false,
     "input": [
      "function addDestinationInfo(data, value)\n",
      "    for i=1,149 do\n",
      "        table.insert(data, destInfo[value][i])\n",
      "    end\n",
      "end"
     ],
     "language": "python",
     "metadata": {},
     "outputs": [
      {
       "metadata": {},
       "output_type": "pyout",
       "prompt_number": 14,
       "text": [
        "nEmpty:2888\t\n"
       ]
      }
     ],
     "prompt_number": 15
    },
    {
     "cell_type": "markdown",
     "metadata": {},
     "source": [
      "### Data normalize"
     ]
    },
    {
     "cell_type": "code",
     "collapsed": false,
     "input": [
      "distMean = 0\n",
      "distsum = 0\n",
      "data = loadData(1000)\n",
      "N = 0\n",
      "for i=1,1000 do \n",
      "    if data[i][4] ~= 0 then \n",
      "        N = N + 1; distsum = distsum + data[i][4] \n",
      "    end \n",
      "end\n",
      "distMean = distsum / N\n",
      "print(distsum)\n",
      "print(distMean)\n",
      "distsum = 0\n",
      "for i=1,1000 do \n",
      "    if data[i][4] ~= 0 then \n",
      "        N = N + 1; distsum = distsum + (data[i][4] -distMean)*(data[i][4] -distMean)\n",
      "    end \n",
      "end\n",
      "print(math.sqrt(distsum / N))"
     ],
     "language": "python",
     "metadata": {},
     "outputs": [
      {
       "ename": "[string \"distMean = 0...\"]:3: attempt to call global 'loadData' (a nil value)\nstack traceback:\n\t[string \"distMean = 0...\"]:3: in main chunk\n\t[C]: in function 'xpcall'\n\t/root/torch/install/share/lua/5.1/itorch/main.lua:179: in function </root/torch/install/share/lua/5.1/itorch/main.lua:143>\n\t/root/torch/install/share/lua/5.1/lzmq/poller.lua:75: in function 'poll'\n\t/root/torch/install/share/lua/5.1/lzmq/impl/loop.lua:307: in function 'poll'\n\t/root/torch/install/share/lua/5.1/lzmq/impl/loop.lua:325: in function 'sleep_ex'\n\t/root/torch/install/share/lua/5.1/lzmq/impl/loop.lua:370: in function 'start'\n\t/root/torch/install/share/lua/5.1/itorch/main.lua:350: in main chunk\n\t[C]: in function 'require'\n\t(command line):1: in main chunk\n\t[C]: at 0x00406670",
       "evalue": "",
       "output_type": "pyerr",
       "traceback": [
        "[string \"distMean = 0...\"]:3: attempt to call global 'loadData' (a nil value)\nstack traceback:\n\t[string \"distMean = 0...\"]:3: in main chunk\n\t[C]: in function 'xpcall'\n\t/root/torch/install/share/lua/5.1/itorch/main.lua:179: in function </root/torch/install/share/lua/5.1/itorch/main.lua:143>\n\t/root/torch/install/share/lua/5.1/lzmq/poller.lua:75: in function 'poll'\n\t/root/torch/install/share/lua/5.1/lzmq/impl/loop.lua:307: in function 'poll'\n\t/root/torch/install/share/lua/5.1/lzmq/impl/loop.lua:325: in function 'sleep_ex'\n\t/root/torch/install/share/lua/5.1/lzmq/impl/loop.lua:370: in function 'start'\n\t/root/torch/install/share/lua/5.1/itorch/main.lua:350: in main chunk\n\t[C]: in function 'require'\n\t(command line):1: in main chunk\n\t[C]: at 0x00406670"
       ]
      }
     ],
     "prompt_number": 16
    },
    {
     "cell_type": "markdown",
     "metadata": {},
     "source": [
      "### Convert input to data"
     ]
    },
    {
     "cell_type": "code",
     "collapsed": false,
     "input": [
      "function tableToOutput(dataTable, scalarTable)\n",
      "   local data, scalarLabels, labels\n",
      "   local quantity = #scalarTable\n",
      "   local size = #dataTable[1]\n",
      "   data = torch.Tensor(quantity, size)\n",
      "   scalarLabels = torch.LongTensor(quantity):fill(-1111)\n",
      "   for i=1,#dataTable do\n",
      "      for j=1,#dataTable[1] do\n",
      "         data[i][j] = dataTable[i][j]\n",
      "      end\n",
      "      scalarLabels[i] = scalarTable[i]\n",
      "   end\n",
      "   return data, scalarLabels\n",
      "end"
     ],
     "language": "python",
     "metadata": {},
     "outputs": [],
     "prompt_number": 17
    },
    {
     "cell_type": "code",
     "collapsed": false,
     "input": [
      "function dataConvert(line)\n",
      "    if line == nil then\n",
      "        print('line is empty')\n",
      "    end\n",
      "    words = split(line, \",\")\n",
      "    data = {}\n",
      "    aa = split(words[1], ' ')[1]\n",
      "    table.insert(data, (tonumber(getDate(aa)) - 26) / 26) --1\n",
      "    table.insert(data, (getDate(words[12]) - 26) / 26) --12\n",
      "    table.insert(data, (getDate(words[13]) - 26) / 26) --13\n",
      "    \n",
      "    binary(data, getWeekday(aa), 7)\n",
      "    table.insert(data, isIncludeWeekend(words[12], words[13]))\n",
      "    binary(data, getLengthStay(words[12], words[13]), 30)\n",
      "    \n",
      "    if tonumber(words[7]) == nil then\n",
      "        table.insert(data, 0) -- distance\n",
      "    else\n",
      "        table.insert(data, (tonumber(words[7]) - 1800) / 1600) -- distance\n",
      "    end\n",
      "    table.insert(data, words[9])\n",
      "    table.insert(data, words[10])\n",
      "    table.insert(data, words[20])\n",
      "        \n",
      "    binary(data, words[2], 54)\n",
      "    binary(data, words[3], 5)\n",
      "    binary(data, words[4], 240)\n",
      "    binary(data, words[5], 1028)\n",
      "    binary(data, words[6], 56509)\n",
      "    binary(data, words[8], 100000)      -- user id\n",
      "    binary(data, words[11], 11)\n",
      "    binary(data, words[14], 10)\n",
      "    binary(data, words[15], 10)\n",
      "    binary(data, words[16], 9)\n",
      "    binary(data, words[18], 10)\n",
      "    binary(data, words[21], 7)\n",
      "    binary(data, words[22], 213)\n",
      "    binary(data, words[23], 2118)\n",
      "    \n",
      "    -- destination information (17)\n",
      "    addDestinationInfo(data, tonumber(words[17]))\n",
      "    \n",
      "    return data\n",
      "end"
     ],
     "language": "python",
     "metadata": {},
     "outputs": [],
     "prompt_number": 18
    },
    {
     "cell_type": "code",
     "collapsed": false,
     "input": [
      "function testdataConvert(line)\n",
      "    if line == nil then\n",
      "        print('line is empty')\n",
      "    end\n",
      "    words = split(line, \",\")\n",
      "    data = {}\n",
      "    aa = split(words[2], ' ')[1]\n",
      "    table.insert(data, (tonumber(getDate(aa)) - 26) / 26) --1\n",
      "    table.insert(data, (getDate(words[13]) - 26) / 26) --12\n",
      "    table.insert(data, (getDate(words[14]) - 26) / 26) --13\n",
      "    \n",
      "    binary(data, getWeekday(aa), 7)\n",
      "    table.insert(data, isIncludeWeekend(words[13], words[14]))\n",
      "    binary(data, getLengthStay(words[13], words[14]), 30)\n",
      "    \n",
      "    if tonumber(words[8]) == nil then\n",
      "        table.insert(data, 0) -- distance\n",
      "    else\n",
      "        table.insert(data, (tonumber(words[8]) - 1800) / 1600) -- distance\n",
      "    end\n",
      "    table.insert(data, words[10])\n",
      "    table.insert(data, words[11])\n",
      "    table.insert(data, 1)\n",
      "        \n",
      "    binary(data, words[3], 54)\n",
      "    binary(data, words[4], 5)\n",
      "    binary(data, words[5], 240)\n",
      "    binary(data, words[6], 1028)\n",
      "    binary(data, words[7], 56509)\n",
      "    binary(data, words[9], 100000)      -- user id\n",
      "    binary(data, words[12], 11)\n",
      "    binary(data, words[15], 10)\n",
      "    binary(data, words[16], 10)\n",
      "    binary(data, words[17], 9)\n",
      "    binary(data, words[19], 10)\n",
      "    binary(data, words[20], 7)\n",
      "    binary(data, words[21], 213)\n",
      "    binary(data, words[22], 2118)\n",
      "    \n",
      "    -- destination information (17)\n",
      "    addDestinationInfo(data, tonumber(words[18]))\n",
      "    \n",
      "    return data\n",
      "end"
     ],
     "language": "python",
     "metadata": {},
     "outputs": [],
     "prompt_number": 19
    },
    {
     "cell_type": "markdown",
     "metadata": {},
     "source": [
      "### Build model"
     ]
    },
    {
     "cell_type": "code",
     "collapsed": false,
     "input": [
      "model = nn.Sequential()\n",
      "-- for onehot inputsize: 3871\n",
      "model:add(nn.Linear(269, 1024))\n",
      "model:add(nn.Threshold(0, 1e-6))\n",
      "model:add(nn.ReLU())\n",
      "model:add(nn.Linear(1024, 256))\n",
      "model:add(nn.Threshold(0, 1e-6))\n",
      "model:add(nn.ReLU())\n",
      "model:add(nn.Linear(256, 100))\n",
      "model:add(nn.Sigmoid())\n",
      "model = model:cuda()\n",
      "\n",
      "params, grad_params = model:getParameters()\n",
      "crit = nn.CrossEntropyCriterion()\n",
      "crit = crit:cuda()"
     ],
     "language": "python",
     "metadata": {},
     "outputs": [],
     "prompt_number": 36
    },
    {
     "cell_type": "markdown",
     "metadata": {},
     "source": [
      "model = nn.Sequential()\n",
      "-- for onehot inputsize: 3871\n",
      "model:add(nn.Linear(252, 1024))\n",
      "model:add(nn.Sigmoid())\n",
      "model:add(nn.Linear(1024, 2048))\n",
      "model:add(nn.Sigmoid())\n",
      "model:add(nn.Linear(2048, 4096))\n",
      "model:add(nn.Sigmoid())\n",
      "model:add(nn.Linear(4096, 100))\n",
      "model = model:cuda()\n",
      "\n",
      "params, grad_params = model:getParameters()\n",
      "crit = nn.CrossEntropyCriterion()\n",
      "crit = crit:cuda()"
     ]
    },
    {
     "cell_type": "markdown",
     "metadata": {},
     "source": [
      "### Load Data"
     ]
    },
    {
     "cell_type": "code",
     "collapsed": false,
     "input": [
      "function loadData(quantity)\n",
      "    dataTable = {}\n",
      "    labTable = {}\n",
      "    for i=1,quantity do\n",
      "        local class = torch.random(0,99)\n",
      "        local fname = 'data/train/train_' .. string.format( \"%02d\", class ) .. '.csv'\n",
      "        file = io.open(fname, \"r\")\n",
      "        picked = torch.random(1,file:seek(\"end\")-200)\n",
      "        file:seek(\"set\", picked)\n",
      "        file:read()\n",
      "        table.insert(dataTable, dataConvert(file:read()))\n",
      "        table.insert(labTable, class+1)\n",
      "        io.close(file)\n",
      "    end\n",
      "    local data, label = tableToOutput(dataTable, labTable)\n",
      "    return data, label\n",
      "end"
     ],
     "language": "python",
     "metadata": {},
     "outputs": [],
     "prompt_number": 21
    },
    {
     "cell_type": "markdown",
     "metadata": {},
     "source": [
      "### Print"
     ]
    },
    {
     "cell_type": "code",
     "collapsed": false,
     "input": [
      "function PrintCM(idx)\n",
      "  local loss = 0\n",
      "  local top1 = 0\n",
      "  model:evaluate()\n",
      "  local x, y = loadData(1000)\n",
      "  x = x:cuda()\n",
      "  y = y:cuda()\n",
      "  local N = y:size(1)\n",
      "  local scores = model:forward(x)\n",
      "  loss = loss + crit:forward(scores, y)\n",
      "\n",
      "  local pred = scores:float()\n",
      "  local _, pred_sorted = pred:sort(2, true)\n",
      "\n",
      "  for i=1,N do\n",
      "    for j=1,5 do\n",
      "        if pred_sorted[i][j] == y[i] then\n",
      "          top1 = top1 + (1/j)\n",
      "        end\n",
      "    end\n",
      "  end\n",
      "  print(\"idx: \" .. idx, \"loss: \" .. loss, \"train score: \" .. top1 * 100 / N, 'label: ' .. y[1],\n",
      "        'prediction: [1]' .. pred_sorted[1][1] .. ' [2]' .. pred_sorted[1][2] .. ' [3]' .. pred_sorted[1][3] .. ' [4]' .. pred_sorted[1][4] .. ' [5]' .. pred_sorted[1][5])\n",
      "end"
     ],
     "language": "python",
     "metadata": {},
     "outputs": [],
     "prompt_number": 22
    },
    {
     "cell_type": "markdown",
     "metadata": {},
     "source": [
      "### Check Size"
     ]
    },
    {
     "cell_type": "code",
     "collapsed": false,
     "input": [
      "local x,y = loadData(2)\n",
      "print(x:size())"
     ],
     "language": "python",
     "metadata": {},
     "outputs": [
      {
       "metadata": {},
       "output_type": "pyout",
       "prompt_number": 23,
       "text": [
        "   2\n",
        " 269\n",
        "[torch.LongStorage of size 2]\n",
        "\n"
       ]
      }
     ],
     "prompt_number": 23
    },
    {
     "cell_type": "markdown",
     "metadata": {},
     "source": [
      "### Training"
     ]
    },
    {
     "cell_type": "code",
     "collapsed": false,
     "input": [
      "require 'optim';"
     ],
     "language": "python",
     "metadata": {},
     "outputs": [],
     "prompt_number": 25
    },
    {
     "cell_type": "code",
     "collapsed": false,
     "input": [
      "opt = {}\n",
      "batch_size = 10000\n",
      "train_size = 3000000\n",
      "max_epoch = 100\n",
      "opt.learningRate = 1e-2\n",
      "opt.lr_decay_factor = 0.5\n",
      "opt.lr_decay_every = 5 * train_size / batch_size\n",
      "opt.print_every = 5\n",
      "evaluate_every = 10 * train_size / batch_size\n",
      "optim_config = {learningRate = opt.learningRate}\n",
      "num_iterations = max_epoch * train_size / batch_size\n",
      "epoch = 1"
     ],
     "language": "python",
     "metadata": {},
     "outputs": [],
     "prompt_number": 26
    },
    {
     "cell_type": "code",
     "collapsed": false,
     "input": [
      "opt.learningRate = 1e-2\n",
      "opt.print_every = 5\n",
      "num_iterations = 11 * train_size / batch_size"
     ],
     "language": "python",
     "metadata": {},
     "outputs": [],
     "prompt_number": 40
    },
    {
     "cell_type": "code",
     "collapsed": false,
     "input": [
      "-- Loss function that we pass to an optim method\n",
      "function f(w)\n",
      "  assert(w == params)\n",
      "  grad_params:zero()\n",
      "\n",
      "  --local x, y = loader:nextBatch('train')\n",
      "  local x, y = loadData(batch_size)\n",
      "  \n",
      "  x = x:cuda()\n",
      "  y = y:cuda()\n",
      "  local scores = model:forward(x)\n",
      "  local loss = crit:forward(scores, y)\n",
      "  local grad_scores = crit:backward(scores, y)\n",
      "  model:backward(x, grad_scores)\n",
      "\n",
      "  grad_params:clamp(-5, 5)\n",
      "\n",
      "  return loss, grad_params\n",
      "end"
     ],
     "language": "python",
     "metadata": {},
     "outputs": [],
     "prompt_number": 28
    },
    {
     "cell_type": "code",
     "collapsed": false,
     "input": [
      "model:training()"
     ],
     "language": "python",
     "metadata": {},
     "outputs": [
      {
       "metadata": {},
       "output_type": "pyout",
       "prompt_number": 29,
       "text": [
        "\n"
       ]
      }
     ],
     "prompt_number": 29
    },
    {
     "cell_type": "code",
     "collapsed": false,
     "input": [
      "function saveModel(e)\n",
      "    local filename = string.format(\"model/model_%02d.t7\", e)\n",
      "    model:clearState()\n",
      "    model:float()\n",
      "    torch.save(filename, model)\n",
      "    model:cuda()\n",
      "end"
     ],
     "language": "python",
     "metadata": {},
     "outputs": [],
     "prompt_number": 30
    },
    {
     "cell_type": "code",
     "collapsed": false,
     "input": [
      "function make_submission(idx)\n",
      "    model:evaluate()\n",
      "    testname = 'data/test.csv'\n",
      "    submission_name = string.format(\"data/submission_%02d.csv\", idx)\n",
      "    submission_file = io.open(submission_name, 'w')\n",
      "    head = 1\n",
      "    idx = 0\n",
      "    submission_file:write(\"id,hotel_cluster\\n\")\n",
      "    for line in io.lines ( testname ) do\n",
      "        if head == 1 then\n",
      "            head = 0\n",
      "        else\n",
      "            testdata = testdataConvert(line)\n",
      "            words = split(line, ',')\n",
      "            if tonumber(words[1]) ~= idx then\n",
      "                print('words:' .. words[1] .. ', idx:' .. idx)            \n",
      "                idx = words[1]\n",
      "            end\n",
      "            tx, _ = tableToOutput({testdata}, {1})\n",
      "            local outputs = model:forward(tx:cuda())\n",
      "            local _, ps = outputs:float():sort(2, true)\n",
      "            submission_file:write(idx .. ',' .. ps[1][1]-1 .. ' ' .. ps[1][2]-1 .. ' ' .. ps[1][3]-1 .. ' ' .. ps[1][4]-1 .. ' ' .. ps[1][5]-1 .. '\\n')\n",
      "            idx = idx + 1\n",
      "        end\n",
      "    end\n",
      "    io.close(submission_file)\n",
      "end"
     ],
     "language": "python",
     "metadata": {},
     "outputs": [],
     "prompt_number": 31
    },
    {
     "cell_type": "code",
     "collapsed": false,
     "input": [
      "for i = 0, num_iterations do\n",
      "    if i ~= 0 and i % opt.lr_decay_every == 0 then\n",
      "        old_lr = opt.learningRate\n",
      "        opt.learningRate = opt.learningRate * opt.lr_decay_factor\n",
      "        optim_config = {learningRate = old_lr * opt.lr_decay_factor}\n",
      "        saveModel(epoch)\n",
      "        epoch = epoch + 1\n",
      "        print('current LR: ' .. opt.learningRate)\n",
      "    end\n",
      "    \n",
      "    local _, loss = optim.adam(f, params, optim_config)\n",
      "    if i % opt.print_every == 0 then\n",
      "        model:evaluate()\n",
      "        PrintCM(i)\n",
      "        model:training()\n",
      "    end\n",
      "    \n",
      "    if i ~= 0 and i % evaluate_every == 0 then\n",
      "        make_submission(i)\n",
      "    end\n",
      "end"
     ],
     "language": "python",
     "metadata": {},
     "outputs": [
      {
       "metadata": {},
       "output_type": "pyout",
       "prompt_number": 41,
       "text": [
        "idx: 0\tloss: 4.046350479126\ttrain score: 15.023333333333\tlabel: 25\tprediction: [1]72 [2]55 [3]46 [4]2 [5]52\t\n"
       ]
      },
      {
       "metadata": {},
       "output_type": "pyout",
       "prompt_number": 41,
       "text": [
        "idx: 5\tloss: 4.0701169967651\ttrain score: 14.47\tlabel: 45\tprediction: [1]63 [2]64 [3]68 [4]37 [5]79\t\n"
       ]
      },
      {
       "metadata": {},
       "output_type": "pyout",
       "prompt_number": 41,
       "text": [
        "idx: 10\tloss: 4.0829763412476\ttrain score: 14.271666666667\tlabel: 1\tprediction: [1]45 [2]1 [3]27 [4]81 [5]85\t\n"
       ]
      },
      {
       "metadata": {},
       "output_type": "pyout",
       "prompt_number": 41,
       "text": [
        "idx: 15\tloss: 4.0567164421082\ttrain score: 15.746666666667\tlabel: 72\tprediction: [1]78 [2]35 [3]55 [4]72 [5]1\t\n"
       ]
      },
      {
       "metadata": {},
       "output_type": "pyout",
       "prompt_number": 41,
       "text": [
        "idx: 20\tloss: 4.0460982322693\ttrain score: 16.256666666667\tlabel: 87\tprediction: [1]76 [2]39 [3]65 [4]98 [5]26\t\n"
       ]
      },
      {
       "metadata": {},
       "output_type": "pyout",
       "prompt_number": 41,
       "text": [
        "idx: 25\tloss: 4.0584211349487\ttrain score: 14.965\tlabel: 76\tprediction: [1]40 [2]14 [3]73 [4]29 [5]48\t\n"
       ]
      },
      {
       "metadata": {},
       "output_type": "pyout",
       "prompt_number": 41,
       "text": [
        "idx: 30\tloss: 4.0950036048889\ttrain score: 14.425\tlabel: 38\tprediction: [1]42 [2]22 [3]49 [4]18 [5]19\t\n"
       ]
      },
      {
       "metadata": {},
       "output_type": "pyout",
       "prompt_number": 41,
       "text": [
        "idx: 35\tloss: 4.086371421814\ttrain score: 14.671666666667\tlabel: 10\tprediction: [1]59 [2]47 [3]60 [4]65 [5]100\t\n"
       ]
      },
      {
       "metadata": {},
       "output_type": "pyout",
       "prompt_number": 41,
       "text": [
        "idx: 40\tloss: 4.0596032142639\ttrain score: 16.143333333333\tlabel: 81\tprediction: [1]81 [2]95 [3]85 [4]77 [5]84\t\n"
       ]
      },
      {
       "metadata": {},
       "output_type": "pyout",
       "prompt_number": 41,
       "text": [
        "idx: 45\tloss: 4.0518155097961\ttrain score: 16.995\tlabel: 81\tprediction: [1]39 [2]13 [3]68 [4]64 [5]21\t\n"
       ]
      },
      {
       "metadata": {},
       "output_type": "pyout",
       "prompt_number": 41,
       "text": [
        "idx: 50\tloss: 4.0620260238647\ttrain score: 15.766666666667\tlabel: 61\tprediction: [1]41 [2]43 [3]33 [4]34 [5]77\t\n"
       ]
      },
      {
       "metadata": {},
       "output_type": "pyout",
       "prompt_number": 41,
       "text": [
        "idx: 55\tloss: 4.0740480422974\ttrain score: 13.845\tlabel: 20\tprediction: [1]19 [2]22 [3]42 [4]38 [5]50\t\n"
       ]
      },
      {
       "metadata": {},
       "output_type": "pyout",
       "prompt_number": 41,
       "text": [
        "idx: 60\tloss: 4.0833954811096\ttrain score: 15.181666666667\tlabel: 2\tprediction: [1]72 [2]2 [3]46 [4]52 [5]89\t\n"
       ]
      },
      {
       "metadata": {},
       "output_type": "pyout",
       "prompt_number": 41,
       "text": [
        "idx: 65\tloss: 4.0802431106567\ttrain score: 14.501666666667\tlabel: 1\tprediction: [1]11 [2]100 [3]90 [4]84 [5]78\t\n"
       ]
      },
      {
       "metadata": {},
       "output_type": "pyout",
       "prompt_number": 41,
       "text": [
        "idx: 70\tloss: 4.058349609375\ttrain score: 15.851666666667\tlabel: 39\tprediction: [1]37 [2]39 [3]21 [4]87 [5]86\t\n"
       ]
      },
      {
       "metadata": {},
       "output_type": "pyout",
       "prompt_number": 41,
       "text": [
        "idx: 75\tloss: 4.0635466575623\ttrain score: 15.698333333333\tlabel: 76\tprediction: [1]6 [2]12 [3]76 [4]39 [5]22\t\n"
       ]
      },
      {
       "metadata": {},
       "output_type": "pyout",
       "prompt_number": 41,
       "text": [
        "idx: 80\tloss: 4.0540580749512\ttrain score: 16.465\tlabel: 45\tprediction: [1]68 [2]60 [3]79 [4]30 [5]59\t\n"
       ]
      },
      {
       "metadata": {},
       "output_type": "pyout",
       "prompt_number": 41,
       "text": [
        "idx: 85\tloss: 4.0764756202698\ttrain score: 15.291666666667\tlabel: 79\tprediction: [1]86 [2]31 [3]58 [4]37 [5]82\t\n"
       ]
      },
      {
       "metadata": {},
       "output_type": "pyout",
       "prompt_number": 41,
       "text": [
        "idx: 90\tloss: 4.0714511871338\ttrain score: 13.948333333333\tlabel: 46\tprediction: [1]89 [2]52 [3]80 [4]55 [5]25\t\n"
       ]
      },
      {
       "metadata": {},
       "output_type": "pyout",
       "prompt_number": 41,
       "text": [
        "idx: 95\tloss: 4.04878282547\ttrain score: 15.498333333333\tlabel: 52\tprediction: [1]11 [2]97 [3]18 [4]73 [5]74\t\n"
       ]
      },
      {
       "metadata": {},
       "output_type": "pyout",
       "prompt_number": 41,
       "text": [
        "idx: 100\tloss: 4.0534434318542\ttrain score: 15.13\tlabel: 3\tprediction: [1]65 [2]59 [3]26 [4]31 [5]79\t\n"
       ]
      },
      {
       "metadata": {},
       "output_type": "pyout",
       "prompt_number": 41,
       "text": [
        "idx: 105\tloss: 4.0611391067505\ttrain score: 15.656666666667\tlabel: 39\tprediction: [1]65 [2]79 [3]100 [4]10 [5]36\t\n"
       ]
      },
      {
       "metadata": {},
       "output_type": "pyout",
       "prompt_number": 41,
       "text": [
        "idx: 110\tloss: 4.0507879257202\ttrain score: 14.625\tlabel: 100\tprediction: [1]82 [2]45 [3]30 [4]31 [5]37\t\n"
       ]
      },
      {
       "metadata": {},
       "output_type": "pyout",
       "prompt_number": 41,
       "text": [
        "idx: 115\tloss: 4.0451121330261\ttrain score: 14.655\tlabel: 81\tprediction: [1]82 [2]63 [3]9 [4]36 [5]86\t\n"
       ]
      },
      {
       "metadata": {},
       "output_type": "pyout",
       "prompt_number": 41,
       "text": [
        "idx: 120\tloss: 4.037652015686\ttrain score: 14.595\tlabel: 27\tprediction: [1]85 [2]32 [3]35 [4]72 [5]74\t\n"
       ]
      },
      {
       "metadata": {},
       "output_type": "pyout",
       "prompt_number": 41,
       "text": [
        "idx: 125\tloss: 4.059654712677\ttrain score: 14.078333333333\tlabel: 71\tprediction: [1]95 [2]96 [3]69 [4]20 [5]19\t\n"
       ]
      },
      {
       "metadata": {},
       "output_type": "pyout",
       "prompt_number": 41,
       "text": [
        "idx: 130\tloss: 4.0640082359314\ttrain score: 14.853333333333\tlabel: 77\tprediction: [1]96 [2]20 [3]71 [4]18 [5]22\t\n"
       ]
      },
      {
       "metadata": {},
       "output_type": "pyout",
       "prompt_number": 41,
       "text": [
        "idx: 135\tloss: 4.0588407516479\ttrain score: 15.763333333333\tlabel: 56\tprediction: [1]71 [2]69 [3]42 [4]22 [5]20\t\n"
       ]
      },
      {
       "metadata": {},
       "output_type": "pyout",
       "prompt_number": 41,
       "text": [
        "idx: 140\tloss: 4.0439195632935\ttrain score: 14.195\tlabel: 28\tprediction: [1]28 [2]90 [3]36 [4]75 [5]43\t\n"
       ]
      },
      {
       "metadata": {},
       "output_type": "pyout",
       "prompt_number": 41,
       "text": [
        "idx: 145\tloss: 4.0390849113464\ttrain score: 15.41\tlabel: 56\tprediction: [1]60 [2]56 [3]73 [4]69 [5]26\t\n"
       ]
      },
      {
       "metadata": {},
       "output_type": "pyout",
       "prompt_number": 41,
       "text": [
        "idx: 150\tloss: 4.0432767868042\ttrain score: 14.761666666667\tlabel: 8\tprediction: [1]14 [2]40 [3]43 [4]51 [5]92\t\n"
       ]
      },
      {
       "metadata": {},
       "output_type": "pyout",
       "prompt_number": 41,
       "text": [
        "idx: 155\tloss: 4.0621566772461\ttrain score: 13.526666666667\tlabel: 29\tprediction: [1]8 [2]14 [3]29 [4]5 [5]43\t\n"
       ]
      },
      {
       "metadata": {},
       "output_type": "pyout",
       "prompt_number": 41,
       "text": [
        "idx: 160\tloss: 4.0688400268555\ttrain score: 13.915\tlabel: 74\tprediction: [1]29 [2]33 [3]44 [4]84 [5]64\t\n"
       ]
      },
      {
       "metadata": {},
       "output_type": "pyout",
       "prompt_number": 41,
       "text": [
        "idx: 165\tloss: 4.0639667510986\ttrain score: 14.186666666667\tlabel: 17\tprediction: [1]8 [2]51 [3]40 [4]48 [5]41\t\n"
       ]
      },
      {
       "metadata": {},
       "output_type": "pyout",
       "prompt_number": 41,
       "text": [
        "idx: 170\tloss: 4.0669422149658\ttrain score: 15.006666666667\tlabel: 28\tprediction: [1]92 [2]51 [3]48 [4]95 [5]15\t\n"
       ]
      },
      {
       "metadata": {},
       "output_type": "pyout",
       "prompt_number": 41,
       "text": [
        "idx: 175\tloss: 4.064564704895\ttrain score: 13.806666666667\tlabel: 32\tprediction: [1]88 [2]32 [3]66 [4]53 [5]67\t\n"
       ]
      },
      {
       "metadata": {},
       "output_type": "pyout",
       "prompt_number": 41,
       "text": [
        "idx: 180\tloss: 4.0561003684998\ttrain score: 14.345\tlabel: 83\tprediction: [1]86 [2]45 [3]58 [4]62 [5]31\t\n"
       ]
      },
      {
       "metadata": {},
       "output_type": "pyout",
       "prompt_number": 41,
       "text": [
        "idx: 185\tloss: 4.0377645492554\ttrain score: 17.186666666667\tlabel: 14\tprediction: [1]43 [2]8 [3]14 [4]78 [5]77\t\n"
       ]
      },
      {
       "metadata": {},
       "output_type": "pyout",
       "prompt_number": 41,
       "text": [
        "idx: 190\tloss: 4.0455584526062\ttrain score: 13.956666666667\tlabel: 19\tprediction: [1]40 [2]24 [3]19 [4]92 [5]41\t\n"
       ]
      },
      {
       "metadata": {},
       "output_type": "pyout",
       "prompt_number": 41,
       "text": [
        "idx: 195\tloss: 4.0566372871399\ttrain score: 14.951666666667\tlabel: 6\tprediction: [1]21 [2]9 [3]39 [4]76 [5]31\t\n"
       ]
      },
      {
       "metadata": {},
       "output_type": "pyout",
       "prompt_number": 41,
       "text": [
        "idx: 200\tloss: 4.0747923851013\ttrain score: 14.593333333333\tlabel: 94\tprediction: [1]11 [2]16 [3]91 [4]48 [5]94\t\n"
       ]
      },
      {
       "metadata": {},
       "output_type": "pyout",
       "prompt_number": 41,
       "text": [
        "idx: 205\tloss: 4.070716381073\ttrain score: 15.8\tlabel: 89\tprediction: [1]72 [2]89 [3]80 [4]25 [5]2\t\n"
       ]
      },
      {
       "metadata": {},
       "output_type": "pyout",
       "prompt_number": 41,
       "text": [
        "idx: 210\tloss: 4.0450077056885\ttrain score: 16.828333333333\tlabel: 2\tprediction: [1]55 [2]52 [3]2 [4]25 [5]46\t\n"
       ]
      },
      {
       "metadata": {},
       "output_type": "pyout",
       "prompt_number": 41,
       "text": [
        "idx: 215\tloss: 4.0701937675476\ttrain score: 14.066666666667\tlabel: 40\tprediction: [1]60 [2]70 [3]29 [4]34 [5]38\t\n"
       ]
      },
      {
       "metadata": {},
       "output_type": "pyout",
       "prompt_number": 41,
       "text": [
        "idx: 220\tloss: 4.0706324577332\ttrain score: 15.08\tlabel: 54\tprediction: [1]94 [2]9 [3]86 [4]83 [5]82\t\n"
       ]
      },
      {
       "metadata": {},
       "output_type": "pyout",
       "prompt_number": 41,
       "text": [
        "idx: 225\tloss: 4.0626521110535\ttrain score: 14.798333333333\tlabel: 1\tprediction: [1]74 [2]97 [3]36 [4]40 [5]1\t\n"
       ]
      },
      {
       "metadata": {},
       "output_type": "pyout",
       "prompt_number": 41,
       "text": [
        "idx: 230\tloss: 4.0449495315552\ttrain score: 16.22\tlabel: 57\tprediction: [1]70 [2]42 [3]18 [4]56 [5]20\t\n"
       ]
      },
      {
       "metadata": {},
       "output_type": "pyout",
       "prompt_number": 41,
       "text": [
        "idx: 235\tloss: 4.0417485237122\ttrain score: 15.165\tlabel: 21\tprediction: [1]60 [2]7 [3]43 [4]17 [5]94\t\n"
       ]
      },
      {
       "metadata": {},
       "output_type": "pyout",
       "prompt_number": 41,
       "text": [
        "idx: 240\tloss: 4.0573239326477\ttrain score: 15.891666666667\tlabel: 99\tprediction: [1]24 [2]50 [3]10 [4]99 [5]5\t\n"
       ]
      },
      {
       "metadata": {},
       "output_type": "pyout",
       "prompt_number": 41,
       "text": [
        "idx: 245\tloss: 4.0427408218384\ttrain score: 16.885\tlabel: 75\tprediction: [1]75 [2]20 [3]29 [4]24 [5]70\t\n"
       ]
      },
      {
       "metadata": {},
       "output_type": "pyout",
       "prompt_number": 41,
       "text": [
        "idx: 250\tloss: 4.0767259597778\ttrain score: 14.098333333333\tlabel: 71\tprediction: [1]69 [2]34 [3]22 [4]71 [5]70\t"
       ]
      },
      {
       "metadata": {},
       "output_type": "pyout",
       "prompt_number": 41,
       "text": [
        "\n"
       ]
      },
      {
       "metadata": {},
       "output_type": "pyout",
       "prompt_number": 41,
       "text": [
        "idx: 255\tloss: 4.0513606071472\ttrain score: 15.473333333333\tlabel: 91\tprediction: [1]8 [2]91 [3]92 [4]95 [5]40\t\n"
       ]
      },
      {
       "metadata": {},
       "output_type": "pyout",
       "prompt_number": 41,
       "text": [
        "idx: 260\tloss: 4.0467782020569\ttrain score: 16.805\tlabel: 40\tprediction: [1]49 [2]29 [3]22 [4]60 [5]24\t\n"
       ]
      },
      {
       "metadata": {},
       "output_type": "pyout",
       "prompt_number": 41,
       "text": [
        "idx: 265\tloss: 4.0458016395569\ttrain score: 14.505\tlabel: 1\tprediction: [1]53 [2]72 [3]1 [4]27 [5]85\t\n"
       ]
      },
      {
       "metadata": {},
       "output_type": "pyout",
       "prompt_number": 41,
       "text": [
        "idx: 270\tloss: 4.0622515678406\ttrain score: 14.808333333333\tlabel: 18\tprediction: [1]41 [2]84 [3]99 [4]42 [5]71\t\n"
       ]
      },
      {
       "metadata": {},
       "output_type": "pyout",
       "prompt_number": 41,
       "text": [
        "idx: 275\tloss: 4.069176197052\ttrain score: 13.671666666667\tlabel: 24\tprediction: [1]41 [2]43 [3]92 [4]29 [5]33\t\n"
       ]
      },
      {
       "metadata": {},
       "output_type": "pyout",
       "prompt_number": 41,
       "text": [
        "idx: 280\tloss: 4.0631113052368\ttrain score: 15.451666666667\tlabel: 23\tprediction: [1]62 [2]59 [3]68 [4]23 [5]63\t\n"
       ]
      },
      {
       "metadata": {},
       "output_type": "pyout",
       "prompt_number": 41,
       "text": [
        "idx: 285\tloss: 4.0594363212585\ttrain score: 14.745\tlabel: 48\tprediction: [1]35 [2]27 [3]81 [4]1 [5]74\t\n"
       ]
      },
      {
       "metadata": {},
       "output_type": "pyout",
       "prompt_number": 41,
       "text": [
        "idx: 290\tloss: 4.0431156158447\ttrain score: 15.716666666667\tlabel: 100\tprediction: [1]52 [2]70 [3]26 [4]34 [5]38\t"
       ]
      },
      {
       "metadata": {},
       "output_type": "pyout",
       "prompt_number": 41,
       "text": [
        "\n"
       ]
      },
      {
       "metadata": {},
       "output_type": "pyout",
       "prompt_number": 41,
       "text": [
        "idx: 295\tloss: 4.0753779411316\ttrain score: 13.818333333333\tlabel: 47\tprediction: [1]86 [2]83 [3]63 [4]30 [5]31\t\n"
       ]
      },
      {
       "metadata": {},
       "output_type": "pyout",
       "prompt_number": 41,
       "text": [
        "idx: 300\tloss: 4.0476903915405\ttrain score: 15.881666666667\tlabel: 31\tprediction: [1]59 [2]98 [3]91 [4]63 [5]60\t\n"
       ]
      },
      {
       "metadata": {},
       "output_type": "pyout",
       "prompt_number": 41,
       "text": [
        "idx: 305\tloss: 4.0322833061218\ttrain score: 16.883333333333\tlabel: 85\tprediction: [1]87 [2]29 [3]45 [4]74 [5]85\t\n"
       ]
      },
      {
       "metadata": {},
       "output_type": "pyout",
       "prompt_number": 41,
       "text": [
        "idx: 310\tloss: 4.0545978546143\ttrain score: 14.65\tlabel: 41\tprediction: [1]99 [2]42 [3]98 [4]70 [5]22\t\n"
       ]
      },
      {
       "metadata": {},
       "output_type": "pyout",
       "prompt_number": 41,
       "text": [
        "idx: 315\tloss: 4.0436387062073\ttrain score: 15.69\tlabel: 72\tprediction: [1]74 [2]97 [3]27 [4]64 [5]63\t\n"
       ]
      },
      {
       "metadata": {},
       "output_type": "pyout",
       "prompt_number": 41,
       "text": [
        "idx: 320\tloss: 4.0424690246582\ttrain score: 14.168333333333\tlabel: 97\tprediction: [1]56 [2]35 [3]41 [4]84 [5]90\t\n"
       ]
      },
      {
       "metadata": {},
       "output_type": "pyout",
       "prompt_number": 41,
       "text": [
        "idx: 325\tloss: 4.0580630302429\ttrain score: 15.455\tlabel: 38\tprediction: [1]62 [2]59 [3]87 [4]83 [5]44\t\n"
       ]
      },
      {
       "metadata": {},
       "output_type": "pyout",
       "prompt_number": 41,
       "text": [
        "idx: 330\tloss: 4.0636477470398\ttrain score: 13.883333333333\tlabel: 95\tprediction: [1]34 [2]61 [3]100 [4]24 [5]78\t\n"
       ]
      },
      {
       "metadata": {},
       "output_type": "pyout",
       "prompt_number": 41,
       "text": [
        "idx: 335\tloss: 4.0684332847595\ttrain score: 14.306666666667\tlabel: 68\tprediction: [1]63 [2]31 [3]79 [4]68 [5]21\t\n"
       ]
      },
      {
       "metadata": {},
       "output_type": "pyout",
       "prompt_number": 41,
       "text": [
        "idx: 340\tloss: 4.0564923286438\ttrain score: 16.368333333333\tlabel: 78\tprediction: [1]13 [2]63 [3]47 [4]62 [5]37\t\n"
       ]
      },
      {
       "metadata": {},
       "output_type": "pyout",
       "prompt_number": 41,
       "text": [
        "idx: 345\tloss: 4.0522165298462\ttrain score: 15.841666666667\tlabel: 38\tprediction: [1]40 [2]92 [3]26 [4]73 [5]69\t\n"
       ]
      },
      {
       "metadata": {},
       "output_type": "pyout",
       "prompt_number": 41,
       "text": [
        "idx: 350\tloss: 4.0525398254395\ttrain score: 14.261666666667\tlabel: 49\tprediction: [1]76 [2]73 [3]24 [4]29 [5]33\t\n"
       ]
      },
      {
       "metadata": {},
       "output_type": "pyout",
       "prompt_number": 41,
       "text": [
        "idx: 355\tloss: 4.0530252456665\t"
       ]
      },
      {
       "metadata": {},
       "output_type": "pyout",
       "prompt_number": 41,
       "text": [
        "train score: 14.713333333333\tlabel: 16\tprediction: [1]40 [2]48 [3]77 [4]33 [5]15\t\n"
       ]
      },
      {
       "metadata": {},
       "output_type": "pyout",
       "prompt_number": 41,
       "text": [
        "idx: 360\tloss: 4.0534234046936\ttrain score: 15.655\tlabel: 51\tprediction: [1]21 [2]68 [3]59 [4]79 [5]37\t\n"
       ]
      },
      {
       "metadata": {},
       "output_type": "pyout",
       "prompt_number": 41,
       "text": [
        "idx: 365\tloss: 4.0509233474731\ttrain score: 15.72\tlabel: 67\tprediction: [1]88 [2]27 [3]66 [4]67 [5]72\t\n"
       ]
      },
      {
       "metadata": {},
       "output_type": "pyout",
       "prompt_number": 41,
       "text": [
        "idx: 370\tloss: 4.0471053123474\ttrain score: 15.031666666667\tlabel: 4\tprediction: [1]79 [2]54 [3]45 [4]31 [5]59\t\n"
       ]
      },
      {
       "metadata": {},
       "output_type": "pyout",
       "prompt_number": 41,
       "text": [
        "idx: 375\tloss: 4.0392832756042\ttrain score: 16.223333333333\tlabel: 40\tprediction: [1]51 [2]92 [3]19 [4]34 [5]17\t\n"
       ]
      },
      {
       "metadata": {},
       "output_type": "pyout",
       "prompt_number": 41,
       "text": [
        "idx: 380\tloss: 4.048734664917\ttrain score: 15.58\tlabel: 27\tprediction: [1]27 [2]85 [3]67 [4]72 [5]35\t\n"
       ]
      },
      {
       "metadata": {},
       "output_type": "pyout",
       "prompt_number": 41,
       "text": [
        "idx: 385\tloss: 4.0229296684265\ttrain score: 14.465\tlabel: 92\tprediction: [1]40 [2]48 [3]73 [4]56 [5]84\t\n"
       ]
      },
      {
       "metadata": {},
       "output_type": "pyout",
       "prompt_number": 41,
       "text": [
        "idx: 390\tloss: 4.0481910705566\ttrain score: 15.168333333333\tlabel: 11\tprediction: [1]57 [2]70 [3]26 [4]32 [5]34\t\n"
       ]
      },
      {
       "metadata": {},
       "output_type": "pyout",
       "prompt_number": 41,
       "text": [
        "idx: 395\tloss: 4.0573530197144\ttrain score: 14.195\t"
       ]
      },
      {
       "metadata": {},
       "output_type": "pyout",
       "prompt_number": 41,
       "text": [
        "label: 82\tprediction: [1]45 [2]37 [3]81 [4]79 [5]68\t\n"
       ]
      },
      {
       "metadata": {},
       "output_type": "pyout",
       "prompt_number": 41,
       "text": [
        "idx: 400\tloss: 4.0256395339966\ttrain score: 15.961666666667\tlabel: 36\tprediction: [1]43 [2]15 [3]92 [4]24 [5]40\t\n"
       ]
      },
      {
       "metadata": {},
       "output_type": "pyout",
       "prompt_number": 41,
       "text": [
        "idx: 405\tloss: 4.0547833442688\ttrain score: 13.781666666667\tlabel: 49\tprediction: [1]96 [2]20 [3]50 [4]69 [5]92\t\n"
       ]
      },
      {
       "metadata": {},
       "output_type": "pyout",
       "prompt_number": 41,
       "text": [
        "idx: 410\tloss: 4.0386943817139\t"
       ]
      },
      {
       "metadata": {},
       "output_type": "pyout",
       "prompt_number": 41,
       "text": [
        "train score: 15.813333333333\tlabel: 76\tprediction: [1]52 [2]29 [3]69 [4]22 [5]24\t\n"
       ]
      },
      {
       "metadata": {},
       "output_type": "pyout",
       "prompt_number": 41,
       "text": [
        "idx: 415\tloss: 4.0488018989563\ttrain score: 14.616666666667\tlabel: 15\tprediction: [1]51 [2]49 [3]19 [4]78 [5]77\t\n"
       ]
      },
      {
       "metadata": {},
       "output_type": "pyout",
       "prompt_number": 41,
       "text": [
        "idx: 420\tloss: 4.0617203712463\ttrain score: 13.583333333333\tlabel: 57\tprediction: [1]57 [2]87 [3]22 [4]69 [5]70\t\n"
       ]
      },
      {
       "metadata": {},
       "output_type": "pyout",
       "prompt_number": 41,
       "text": [
        "idx: 425\tloss: 4.0311713218689\ttrain score: 16.615\tlabel: 37\tprediction: [1]63 [2]31 [3]79 [4]23 [5]68\t\n"
       ]
      },
      {
       "metadata": {},
       "output_type": "pyout",
       "prompt_number": 41,
       "text": [
        "idx: 430\tloss: 4.04243516922\ttrain score: 16.555\tlabel: 82\tprediction: [1]79 [2]68 [3]82 [4]62 [5]61\t\n"
       ]
      },
      {
       "metadata": {},
       "output_type": "pyout",
       "prompt_number": 41,
       "text": [
        "idx: 435\tloss: 4.06986951828\ttrain score: 15.43\tlabel: 52\tprediction: [1]51 [2]52 [3]34 [4]40 [5]41\t\n"
       ]
      },
      {
       "metadata": {},
       "output_type": "pyout",
       "prompt_number": 41,
       "text": [
        "idx: 440\tloss: 4.0466661453247\ttrain score: 16.393333333333\tlabel: 78\tprediction: [1]92 [2]43 [3]40 [4]49 [5]51\t\n"
       ]
      },
      {
       "metadata": {},
       "output_type": "pyout",
       "prompt_number": 41,
       "text": [
        "idx: 445\tloss: 4.0383133888245\ttrain score: 14.861666666667\tlabel: 85\tprediction: [1]34 [2]85 [3]20 [4]27 [5]1\t\n"
       ]
      },
      {
       "metadata": {},
       "output_type": "pyout",
       "prompt_number": 41,
       "text": [
        "idx: 450\tloss: 4.0320844650269\ttrain score: 15.46\tlabel: 64\tprediction: [1]41 [2]48 [3]70 [4]57 [5]51\t\n"
       ]
      },
      {
       "metadata": {},
       "output_type": "pyout",
       "prompt_number": 41,
       "text": [
        "idx: 455\tloss: 4.068736076355\ttrain score: 14.533333333333\tlabel: 14\tprediction: [1]41 [2]40 [3]16 [4]17 [5]43\t\n"
       ]
      },
      {
       "metadata": {},
       "output_type": "pyout",
       "prompt_number": 41,
       "text": [
        "idx: 460\tloss: 4.0545773506165\ttrain score: 14.405\tlabel: 76\tprediction: [1]93 [2]27 [3]61 [4]70 [5]32\t\n"
       ]
      },
      {
       "metadata": {},
       "output_type": "pyout",
       "prompt_number": 41,
       "text": [
        "idx: 465\tloss: 4.0491142272949\ttrain score: 16.388333333333\tlabel: 1\tprediction: [1]57 [2]24 [3]1 [4]70 [5]18\t\n"
       ]
      },
      {
       "metadata": {},
       "output_type": "pyout",
       "prompt_number": 41,
       "text": [
        "idx: 470\tloss: 4.0536532402039\ttrain score: 14.711666666667\tlabel: 10\tprediction: [1]34 [2]60 [3]100 [4]26 [5]73\t\n"
       ]
      },
      {
       "metadata": {},
       "output_type": "pyout",
       "prompt_number": 41,
       "text": [
        "idx: 475\tloss: 4.0564131736755\ttrain score: 14.001666666667\tlabel: 61\tprediction: [1]56 [2]20 [3]38 [4]71 [5]70\t\n"
       ]
      },
      {
       "metadata": {},
       "output_type": "pyout",
       "prompt_number": 41,
       "text": [
        "idx: 480\tloss: 4.0618109703064\ttrain score: 14.98\tlabel: 34\tprediction: [1]48 [2]33 [3]17 [4]49 [5]92\t\n"
       ]
      },
      {
       "metadata": {},
       "output_type": "pyout",
       "prompt_number": 41,
       "text": [
        "idx: 485\tloss: 4.0478444099426\ttrain score: 13.04\tlabel: 96\tprediction: [1]20 [2]69 [3]22 [4]42 [5]19\t\n"
       ]
      },
      {
       "metadata": {},
       "output_type": "pyout",
       "prompt_number": 41,
       "text": [
        "idx: 490\tloss: 4.0594396591187\ttrain score: 15.35\tlabel: 64\tprediction: [1]35 [2]32 [3]64 [4]8 [5]60\t\n"
       ]
      },
      {
       "metadata": {},
       "output_type": "pyout",
       "prompt_number": 41,
       "text": [
        "idx: 495\tloss: 4.0377597808838\ttrain score: 15.465\t"
       ]
      },
      {
       "metadata": {},
       "output_type": "pyout",
       "prompt_number": 41,
       "text": [
        "label: 58\tprediction: [1]43 [2]18 [3]14 [4]40 [5]17\t\n"
       ]
      },
      {
       "metadata": {},
       "output_type": "pyout",
       "prompt_number": 41,
       "text": [
        "idx: 500\tloss: 4.0353083610535\ttrain score: 17.711666666667\tlabel: 20\tprediction: [1]7 [2]17 [3]34 [4]20 [5]11\t\n"
       ]
      },
      {
       "metadata": {},
       "output_type": "pyout",
       "prompt_number": 41,
       "text": [
        "idx: 505\tloss: 4.0529279708862\ttrain score: 15.923333333333\tlabel: 49\tprediction: [1]41 [2]43 [3]92 [4]16 [5]15\t\n"
       ]
      },
      {
       "metadata": {},
       "output_type": "pyout",
       "prompt_number": 41,
       "text": [
        "idx: 510\tloss: 4.0403385162354\ttrain score: 15.205\tlabel: 71\tprediction: [1]38 [2]65 [3]69 [4]70 [5]10\t\n"
       ]
      },
      {
       "metadata": {},
       "output_type": "pyout",
       "prompt_number": 41,
       "text": [
        "idx: 515\tloss: 4.0502829551697\ttrain score: 16.016666666667\tlabel: 10\tprediction: [1]69 [2]57 [3]50 [4]22 [5]71\t\n"
       ]
      },
      {
       "metadata": {},
       "output_type": "pyout",
       "prompt_number": 41,
       "text": [
        "idx: 520\tloss: 4.0516352653503\ttrain score: 15.871666666667\tlabel: 3\tprediction: [1]14 [2]12 [3]100 [4]19 [5]69\t\n"
       ]
      },
      {
       "metadata": {},
       "output_type": "pyout",
       "prompt_number": 41,
       "text": [
        "idx: 525\tloss: 4.0533790588379\ttrain score: 16.938333333333\tlabel: 38\tprediction: [1]69 [2]12 [3]30 [4]31 [5]83\t\n"
       ]
      },
      {
       "metadata": {},
       "output_type": "pyout",
       "prompt_number": 41,
       "text": [
        "idx: 530\tloss: 4.0505042076111\ttrain score: 16.101666666667\tlabel: 85\tprediction: [1]74 [2]27 [3]97 [4]93 [5]88\t\n"
       ]
      },
      {
       "metadata": {},
       "output_type": "pyout",
       "prompt_number": 41,
       "text": [
        "idx: 535\tloss: 4.0389018058777\ttrain score: 14.568333333333\tlabel: 93\tprediction: [1]40 [2]49 [3]43 [4]92 [5]48\t\n"
       ]
      },
      {
       "metadata": {},
       "output_type": "pyout",
       "prompt_number": 41,
       "text": [
        "idx: 540\tloss: 4.0604419708252\ttrain score: 17.08\tlabel: 69\tprediction: [1]38 [2]90 [3]56 [4]11 [5]10\t\n"
       ]
      },
      {
       "metadata": {},
       "output_type": "pyout",
       "prompt_number": 41,
       "text": [
        "idx: 545\tloss: 4.0455865859985\ttrain score: 15.695\tlabel: 9\tprediction: [1]59 [2]9 [3]54 [4]68 [5]87\t\n"
       ]
      },
      {
       "metadata": {},
       "output_type": "pyout",
       "prompt_number": 41,
       "text": [
        "idx: 550\tloss: 4.0600228309631\ttrain score: 15.431666666667\tlabel: 45\tprediction: [1]45 [2]63 [3]31 [4]39 [5]44\t\n"
       ]
      },
      {
       "metadata": {},
       "output_type": "pyout",
       "prompt_number": 41,
       "text": [
        "idx: 555\tloss: 4.046106338501\ttrain score: 16.196666666667\tlabel: 64\tprediction: [1]93 [2]45 [3]37 [4]31 [5]27\t\n"
       ]
      },
      {
       "metadata": {},
       "output_type": "pyout",
       "prompt_number": 41,
       "text": [
        "idx: 560\tloss: 4.0319662094116\ttrain score: 17.496666666667\tlabel: 91\tprediction: [1]29 [2]51 [3]17 [4]84 [5]73\t\n"
       ]
      },
      {
       "metadata": {},
       "output_type": "pyout",
       "prompt_number": 41,
       "text": [
        "idx: 565\tloss: 4.0460243225098\ttrain score: 16.138333333333\tlabel: 43\tprediction: [1]44 [2]43 [3]17 [4]48 [5]95\t\n"
       ]
      },
      {
       "metadata": {},
       "output_type": "pyout",
       "prompt_number": 41,
       "text": [
        "idx: 570\tloss: 4.0519847869873\ttrain score: 15.686666666667\tlabel: 12\tprediction: [1]38 [2]9 [3]23 [4]42 [5]87\t\n"
       ]
      },
      {
       "metadata": {},
       "output_type": "pyout",
       "prompt_number": 41,
       "text": [
        "idx: 575\tloss: 4.0428595542908\ttrain score: 15.761666666667\tlabel: 2\tprediction: [1]2 [2]80 [3]89 [4]85 [5]20\t\n"
       ]
      },
      {
       "metadata": {},
       "output_type": "pyout",
       "prompt_number": 41,
       "text": [
        "idx: 580\tloss: 4.0488362312317\ttrain score: 14.36\tlabel: 53\tprediction: [1]67 [2]35 [3]85 [4]66 [5]88\t\n"
       ]
      },
      {
       "metadata": {},
       "output_type": "pyout",
       "prompt_number": 41,
       "text": [
        "idx: 585\tloss: 4.0309739112854\ttrain score: 15.616666666667\tlabel: 88\tprediction: [1]35 [2]1 [3]85 [4]66 [5]67\t\n"
       ]
      },
      {
       "metadata": {},
       "output_type": "pyout",
       "prompt_number": 41,
       "text": [
        "idx: 590\tloss: 4.0412588119507\ttrain score: 15.771666666667\tlabel: 19\tprediction: [1]33 [2]34 [3]24 [4]78 [5]73\t\n"
       ]
      },
      {
       "metadata": {},
       "output_type": "pyout",
       "prompt_number": 41,
       "text": [
        "idx: 595\tloss: 4.0546560287476\ttrain score: 15.541666666667\tlabel: 60\tprediction: [1]65 [2]62 [3]30 [4]31 [5]69\t\n"
       ]
      },
      {
       "metadata": {},
       "output_type": "pyout",
       "prompt_number": 41,
       "text": [
        "idx: 600\tloss: 4.0225405693054\ttrain score: 17.59\tlabel: 42\tprediction: [1]20 [2]57 [3]42 [4]69 [5]70\t\n"
       ]
      },
      {
       "metadata": {},
       "output_type": "pyout",
       "prompt_number": 41,
       "text": [
        "idx: 605\tloss: 4.0516662597656\ttrain score: 16.22\tlabel: 15\tprediction: [1]43 [2]40 [3]92 [4]48 [5]44\t\n"
       ]
      },
      {
       "metadata": {},
       "output_type": "pyout",
       "prompt_number": 41,
       "text": [
        "idx: 610\tloss: 4.0529932975769\ttrain score: 15.21\tlabel: 79\tprediction: [1]86 [2]30 [3]62 [4]79 [5]13\t\n"
       ]
      },
      {
       "metadata": {},
       "output_type": "pyout",
       "prompt_number": 41,
       "text": [
        "idx: 615\tloss: 4.0535554885864\ttrain score: 16.076666666667\tlabel: 89\tprediction: [1]25 [2]46 [3]85 [4]55 [5]89\t\n"
       ]
      },
      {
       "metadata": {},
       "output_type": "pyout",
       "prompt_number": 41,
       "text": [
        "idx: 620\tloss: 4.0537219047546\ttrain score: 15.285\tlabel: 12\tprediction: [1]23 [2]87 [3]58 [4]65 [5]21\t\n"
       ]
      },
      {
       "metadata": {},
       "output_type": "pyout",
       "prompt_number": 41,
       "text": [
        "idx: 625\tloss: 4.0529246330261\ttrain score: 14.046666666667\tlabel: 62\tprediction: [1]31 [2]44 [3]40 [4]48 [5]49\t\n"
       ]
      },
      {
       "metadata": {},
       "output_type": "pyout",
       "prompt_number": 41,
       "text": [
        "idx: 630\tloss: 4.0498280525208\ttrain score: 13.428333333333\tlabel: 89\tprediction: [1]25 [2]46 [3]20 [4]55 [5]89\t\n"
       ]
      },
      {
       "metadata": {},
       "output_type": "pyout",
       "prompt_number": 41,
       "text": [
        "idx: 635\tloss: 4.0341835021973\ttrain score: 16.948333333333\tlabel: 42\tprediction: [1]96 [2]70 [3]69 [4]84 [5]38\t\n"
       ]
      },
      {
       "metadata": {},
       "output_type": "pyout",
       "prompt_number": 41,
       "text": [
        "idx: 640\tloss: 4.0433387756348\ttrain score: 17.015\tlabel: 3\tprediction: [1]98 [2]22 [3]38 [4]69 [5]84\t\n"
       ]
      },
      {
       "metadata": {},
       "output_type": "pyout",
       "prompt_number": 41,
       "text": [
        "idx: 645\tloss: 4.0646114349365\ttrain score: 15.4\tlabel: 94\tprediction: [1]35 [2]91 [3]64 [4]60 [5]24\t\n"
       ]
      },
      {
       "metadata": {},
       "output_type": "pyout",
       "prompt_number": 41,
       "text": [
        "idx: 650\tloss: 4.0480360984802\ttrain score: 16.38\tlabel: 46\tprediction: [1]46 [2]25 [3]85 [4]20 [5]72\t\n"
       ]
      },
      {
       "metadata": {},
       "output_type": "pyout",
       "prompt_number": 41,
       "text": [
        "idx: 655\tloss: 4.0605149269104\ttrain score: 14.533333333333\tlabel: 96\tprediction: [1]29 [2]94 [3]15 [4]14 [5]65\t\n"
       ]
      },
      {
       "metadata": {},
       "output_type": "pyout",
       "prompt_number": 41,
       "text": [
        "idx: 660\tloss: 4.0356984138489\ttrain score: 15.058333333333\tlabel: 17\tprediction: [1]84 [2]52 [3]17 [4]48 [5]24\t\n"
       ]
      },
      {
       "metadata": {},
       "output_type": "pyout",
       "prompt_number": 41,
       "text": [
        "idx: 665\tloss: 4.0425996780396\ttrain score: 15.451666666667\tlabel: 62\tprediction: [1]39 [2]68 [3]83 [4]82 [5]30\t\n"
       ]
      },
      {
       "metadata": {},
       "output_type": "pyout",
       "prompt_number": 41,
       "text": [
        "idx: 670\tloss: 4.0344405174255\ttrain score: 14.346666666667\tlabel: 60\tprediction: [1]52 [2]51 [3]77 [4]73 [5]24\t\n"
       ]
      },
      {
       "metadata": {},
       "output_type": "pyout",
       "prompt_number": 41,
       "text": [
        "idx: 675\tloss: 4.0454483032227\ttrain score: 16.278333333333\tlabel: 41\tprediction: [1]8 [2]49 [3]43 [4]51 [5]40\t\n"
       ]
      },
      {
       "metadata": {},
       "output_type": "pyout",
       "prompt_number": 41,
       "text": [
        "idx: 680\tloss: 4.0478487014771\ttrain score: 16.326666666667\tlabel: 27\tprediction: [1]35 [2]1 [3]85 [4]67 [5]53\t\n"
       ]
      },
      {
       "metadata": {},
       "output_type": "pyout",
       "prompt_number": 41,
       "text": [
        "idx: 685\tloss: 4.0565528869629\ttrain score: 14.486666666667\tlabel: 28\tprediction: [1]13 [2]28 [3]62 [4]64 [5]82\t\n"
       ]
      },
      {
       "metadata": {},
       "output_type": "pyout",
       "prompt_number": 41,
       "text": [
        "idx: 690\tloss: 4.0775184631348\ttrain score: 13.355\tlabel: 42\tprediction: [1]29 [2]4 [3]40 [4]9 [5]33\t\n"
       ]
      },
      {
       "metadata": {},
       "output_type": "pyout",
       "prompt_number": 41,
       "text": [
        "idx: 695\tloss: 4.0245614051819\ttrain score: 16.338333333333\tlabel: 70\tprediction: [1]70 [2]71 [3]38 [4]20 [5]56\t\n"
       ]
      },
      {
       "metadata": {},
       "output_type": "pyout",
       "prompt_number": 41,
       "text": [
        "idx: 700\tloss: 4.0555424690247\ttrain score: 14.385\tlabel: 7\tprediction: [1]60 [2]7 [3]29 [4]19 [5]33\t\n"
       ]
      },
      {
       "metadata": {},
       "output_type": "pyout",
       "prompt_number": 41,
       "text": [
        "idx: 705\tloss: 4.0731539726257\ttrain score: 16.05\tlabel: 46\tprediction: [1]85 [2]2 [3]89 [4]25 [5]46\t\n"
       ]
      },
      {
       "metadata": {},
       "output_type": "pyout",
       "prompt_number": 41,
       "text": [
        "idx: 710\tloss: 4.0467829704285\ttrain score: 15.626666666667\tlabel: 69\tprediction: [1]84 [2]52 [3]29 [4]69 [5]19\t\n"
       ]
      },
      {
       "metadata": {},
       "output_type": "pyout",
       "prompt_number": 41,
       "text": [
        "idx: 715\tloss: 4.0486149787903\ttrain score: 15.688333333333\tlabel: 20\tprediction: [1]70 [2]71 [3]22 [4]24 [5]84\t\n"
       ]
      },
      {
       "metadata": {},
       "output_type": "pyout",
       "prompt_number": 41,
       "text": [
        "idx: 720\tloss: 4.0344500541687\ttrain score: 16.588333333333\tlabel: 42\tprediction: [1]43 [2]17 [3]73 [4]38 [5]50\t\n"
       ]
      },
      {
       "metadata": {},
       "output_type": "pyout",
       "prompt_number": 41,
       "text": [
        "idx: 725\tloss: 4.0420851707458\ttrain score: 16.083333333333\tlabel: 99\tprediction: [1]69 [2]57 [3]20 [4]38 [5]22\t\n"
       ]
      },
      {
       "metadata": {},
       "output_type": "pyout",
       "prompt_number": 41,
       "text": [
        "idx: 730\tloss: 4.0422897338867\ttrain score: 13.89\tlabel: 18\tprediction: [1]82 [2]32 [3]62 [4]63 [5]18\t\n"
       ]
      },
      {
       "metadata": {},
       "output_type": "pyout",
       "prompt_number": 41,
       "text": [
        "idx: 735\tloss: 4.0435590744019\ttrain score: 14.62\tlabel: 8\tprediction: [1]29 [2]38 [3]92 [4]91 [5]24\t\n"
       ]
      },
      {
       "metadata": {},
       "output_type": "pyout",
       "prompt_number": 41,
       "text": [
        "idx: 740\tloss: 4.0598292350769\ttrain score: 14.44\tlabel: 87\tprediction: [1]94 [2]68 [3]36 [4]21 [5]59\t\n"
       ]
      },
      {
       "metadata": {},
       "output_type": "pyout",
       "prompt_number": 41,
       "text": [
        "idx: 745\tloss: 4.0563387870789\ttrain score: 16.686666666667\tlabel: 50\tprediction: [1]70 [2]60 [3]19 [4]20 [5]71\t\n"
       ]
      },
      {
       "metadata": {},
       "output_type": "pyout",
       "prompt_number": 41,
       "text": [
        "idx: 750\tloss: 4.0396337509155\ttrain score: 15.808333333333\tlabel: 24\tprediction: [1]48 [2]8 [3]15 [4]14 [5]43\t\n"
       ]
      },
      {
       "metadata": {},
       "output_type": "pyout",
       "prompt_number": 41,
       "text": [
        "idx: 755\tloss: 4.0501565933228\ttrain score: 15.955\tlabel: 51\tprediction: [1]8 [2]49 [3]16 [4]77 [5]92\t\n"
       ]
      },
      {
       "metadata": {},
       "output_type": "pyout",
       "prompt_number": 41,
       "text": [
        "idx: 760\tloss: 4.0506987571716\ttrain score: 14.805\tlabel: 12\tprediction: [1]40 [2]95 [3]16 [4]17 [5]41\t\n"
       ]
      },
      {
       "metadata": {},
       "output_type": "pyout",
       "prompt_number": 41,
       "text": [
        "idx: 765\tloss: 4.0380167961121\ttrain score: 16.758333333333\tlabel: 46\tprediction: [1]72 [2]46 [3]85 [4]52 [5]55\t\n"
       ]
      },
      {
       "metadata": {},
       "output_type": "pyout",
       "prompt_number": 41,
       "text": [
        "idx: 770\tloss: 4.042896270752\ttrain score: 15.855\tlabel: 86\tprediction: [1]63 [2]58 [3]83 [4]13 [5]86\t\n"
       ]
      },
      {
       "metadata": {},
       "output_type": "pyout",
       "prompt_number": 41,
       "text": [
        "idx: 775\tloss: 4.0553202629089\ttrain score: 15.135\tlabel: 55\tprediction: [1]11 [2]78 [3]18 [4]55 [5]40\t\n"
       ]
      },
      {
       "metadata": {},
       "output_type": "pyout",
       "prompt_number": 41,
       "text": [
        "idx: 780\tloss: 4.0514545440674\ttrain score: 14.156666666667\tlabel: 48\tprediction: [1]95 [2]49 [3]17 [4]34 [5]51\t\n"
       ]
      },
      {
       "metadata": {},
       "output_type": "pyout",
       "prompt_number": 41,
       "text": [
        "idx: 785\tloss: 4.0480027198792\ttrain score: 15.035\tlabel: 30\tprediction: [1]63 [2]62 [3]37 [4]44 [5]54\t\n"
       ]
      },
      {
       "metadata": {},
       "output_type": "pyout",
       "prompt_number": 41,
       "text": [
        "idx: 790\tloss: 4.0596218109131\ttrain score: 15.993333333333\tlabel: 18\tprediction: [1]69 [2]84 [3]22 [4]26 [5]38\t\n"
       ]
      },
      {
       "metadata": {},
       "output_type": "pyout",
       "prompt_number": 41,
       "text": [
        "idx: 795\tloss: 4.0641646385193\ttrain score: 15.961666666667\tlabel: 98\tprediction: [1]94 [2]87 [3]73 [4]42 [5]40\t\n"
       ]
      },
      {
       "metadata": {},
       "output_type": "pyout",
       "prompt_number": 41,
       "text": [
        "idx: 800\tloss: 4.0469145774841\ttrain score: 15.156666666667\tlabel: 77\tprediction: [1]98 [2]26 [3]18 [4]85 [5]41\t\n"
       ]
      },
      {
       "metadata": {},
       "output_type": "pyout",
       "prompt_number": 41,
       "text": [
        "idx: 805\tloss: 4.0415902137756\ttrain score: 14.308333333333\tlabel: 92\tprediction: [1]19 [2]34 [3]42 [4]56 [5]57\t\n"
       ]
      },
      {
       "metadata": {},
       "output_type": "pyout",
       "prompt_number": 41,
       "text": [
        "idx: 810\tloss: 4.0616316795349\ttrain score: 16.796666666667\tlabel: 26\tprediction: [1]26 [2]31 [3]38 [4]76 [5]65\t\n"
       ]
      },
      {
       "metadata": {},
       "output_type": "pyout",
       "prompt_number": 41,
       "text": [
        "idx: 815\tloss: 4.042013168335\ttrain score: 16.343333333333\tlabel: 90\tprediction: [1]76 [2]10 [3]23 [4]86 [5]83\t\n"
       ]
      },
      {
       "metadata": {},
       "output_type": "pyout",
       "prompt_number": 41,
       "text": [
        "idx: 820\tloss: 4.0564746856689\ttrain score: 13.976666666667\tlabel: 7\tprediction: [1]16 [2]17 [3]33 [4]29 [5]43\t\n"
       ]
      },
      {
       "metadata": {},
       "output_type": "pyout",
       "prompt_number": 41,
       "text": [
        "idx: 825\tloss: 4.0602812767029\ttrain score: 15.483333333333\tlabel: 65\tprediction: [1]63 [2]62 [3]68 [4]44 [5]45\t\n"
       ]
      },
      {
       "metadata": {},
       "output_type": "pyout",
       "prompt_number": 41,
       "text": [
        "idx: 830\tloss: 4.0287675857544\ttrain score: 14.961666666667\tlabel: 13\tprediction: [1]45 [2]61 [3]86 [4]79 [5]82\t\n"
       ]
      },
      {
       "metadata": {},
       "output_type": "pyout",
       "prompt_number": 41,
       "text": [
        "idx: 835\tloss: 4.0365595817566\ttrain score: 16.176666666667\tlabel: 96\tprediction: [1]42 [2]38 [3]69 [4]56 [5]22\t\n"
       ]
      },
      {
       "metadata": {},
       "output_type": "pyout",
       "prompt_number": 41,
       "text": [
        "idx: 840\tloss: 4.0584526062012\ttrain score: 16.681666666667\tlabel: 4\tprediction: [1]41 [2]15 [3]49 [4]51 [5]95\t\n"
       ]
      },
      {
       "metadata": {},
       "output_type": "pyout",
       "prompt_number": 41,
       "text": [
        "idx: 845\tloss: 4.0429654121399\ttrain score: 16.24\tlabel: 98\tprediction: [1]42 [2]56 [3]71 [4]69 [5]22\t\n"
       ]
      },
      {
       "metadata": {},
       "output_type": "pyout",
       "prompt_number": 41,
       "text": [
        "idx: 850\tloss: 4.0283632278442\ttrain score: 15.058333333333\tlabel: 18\tprediction: [1]20 [2]22 [3]56 [4]18 [5]52\t\n"
       ]
      },
      {
       "metadata": {},
       "output_type": "pyout",
       "prompt_number": 41,
       "text": [
        "idx: 855\tloss: 4.0605664253235\ttrain score: 16.116666666667\tlabel: 59\tprediction: [1]60 [2]69 [3]47 [4]83 [5]59\t\n"
       ]
      },
      {
       "metadata": {},
       "output_type": "pyout",
       "prompt_number": 41,
       "text": [
        "idx: 860\tloss: 4.0383939743042\ttrain score: 17.018333333333\tlabel: 58\tprediction: [1]68 [2]64 [3]21 [4]82 [5]79\t\n"
       ]
      },
      {
       "metadata": {},
       "output_type": "pyout",
       "prompt_number": 41,
       "text": [
        "idx: 865\tloss: 4.057569026947\ttrain score: 15.101666666667\tlabel: 3\tprediction: [1]79 [2]68 [3]37 [4]44 [5]54\t\n"
       ]
      },
      {
       "metadata": {},
       "output_type": "pyout",
       "prompt_number": 41,
       "text": [
        "idx: 870\tloss: 4.0386486053467\ttrain score: 16.061666666667\tlabel: 53\tprediction: [1]88 [2]81 [3]67 [4]66 [5]53\t\n"
       ]
      },
      {
       "metadata": {},
       "output_type": "pyout",
       "prompt_number": 41,
       "text": [
        "idx: 875\tloss: 4.0284562110901\ttrain score: 14.631666666667\tlabel: 19\tprediction: [1]11 [2]26 [3]19 [4]73 [5]16\t\n"
       ]
      },
      {
       "metadata": {},
       "output_type": "pyout",
       "prompt_number": 41,
       "text": [
        "idx: 880\tloss: 4.0508246421814\ttrain score: 14.86\tlabel: 11\tprediction: [1]49 [2]42 [3]56 [4]52 [5]51\t\n"
       ]
      },
      {
       "metadata": {},
       "output_type": "pyout",
       "prompt_number": 41,
       "text": [
        "idx: 885\tloss: 4.0694999694824\ttrain score: 15.015\tlabel: 48\tprediction: [1]56 [2]69 [3]22 [4]29 [5]20\t\n"
       ]
      },
      {
       "metadata": {},
       "output_type": "pyout",
       "prompt_number": 41,
       "text": [
        "idx: 890\tloss: 4.0251817703247\ttrain score: 15.881666666667\tlabel: 98\tprediction: [1]47 [2]68 [3]30 [4]31 [5]83\t\n"
       ]
      },
      {
       "metadata": {},
       "output_type": "pyout",
       "prompt_number": 41,
       "text": [
        "idx: 895\tloss: 4.0500597953796\ttrain score: 15.215\tlabel: 78\tprediction: [1]34 [2]15 [3]8 [4]40 [5]4\t\n"
       ]
      },
      {
       "metadata": {},
       "output_type": "pyout",
       "prompt_number": 41,
       "text": [
        "idx: 900\tloss: 4.0438566207886\ttrain score: 14.476666666667\tlabel: 82\tprediction: [1]30 [2]31 [3]79 [4]23 [5]58\t\n"
       ]
      },
      {
       "metadata": {},
       "output_type": "pyout",
       "prompt_number": 41,
       "text": [
        "idx: 905\tloss: 4.044732093811\ttrain score: 16.063333333333\tlabel: 91\tprediction: [1]34 [2]40 [3]92 [4]77 [5]29\t\n"
       ]
      },
      {
       "metadata": {},
       "output_type": "pyout",
       "prompt_number": 41,
       "text": [
        "idx: 910\tloss: 4.0347108840942\ttrain score: 15.193333333333\tlabel: 40\tprediction: [1]77 [2]44 [3]29 [4]94 [5]33\t\n"
       ]
      },
      {
       "metadata": {},
       "output_type": "pyout",
       "prompt_number": 41,
       "text": [
        "idx: 915\tloss: 4.0550136566162\ttrain score: 15.656666666667\tlabel: 82\tprediction: [1]39 [2]45 [3]86 [4]83 [5]30\t\n"
       ]
      },
      {
       "metadata": {},
       "output_type": "pyout",
       "prompt_number": 41,
       "text": [
        "idx: 920\tloss: 4.0542850494385\ttrain score: 15.82\tlabel: 69\tprediction: [1]38 [2]99 [3]84 [4]65 [5]12\t\n"
       ]
      },
      {
       "metadata": {},
       "output_type": "pyout",
       "prompt_number": 41,
       "text": [
        "idx: 925\tloss: 4.0187101364136\ttrain score: 17.713333333333\tlabel: 4\tprediction: [1]48 [2]14 [3]33 [4]64 [5]40\t\n"
       ]
      },
      {
       "metadata": {},
       "output_type": "pyout",
       "prompt_number": 41,
       "text": [
        "idx: 930\tloss: 4.0433115959167\ttrain score: 15.963333333333\tlabel: 66\tprediction: [1]53 [2]93 [3]32 [4]88 [5]66\t\n"
       ]
      },
      {
       "metadata": {},
       "output_type": "pyout",
       "prompt_number": 41,
       "text": [
        "idx: 935\tloss: 4.051441192627\ttrain score: 15.956666666667\tlabel: 83\tprediction: [1]82 [2]47 [3]86 [4]21 [5]54\t\n"
       ]
      },
      {
       "metadata": {},
       "output_type": "pyout",
       "prompt_number": 41,
       "text": [
        "idx: 940\tloss: 4.0396790504456\ttrain score: 16.58\tlabel: 4\tprediction: [1]31 [2]47 [3]21 [4]54 [5]86\t\n"
       ]
      },
      {
       "metadata": {},
       "output_type": "pyout",
       "prompt_number": 41,
       "text": [
        "idx: 945\tloss: 4.0352501869202\ttrain score: 16.168333333333\tlabel: 75\tprediction: [1]75 [2]28 [3]60 [4]61 [5]70\t\n"
       ]
      },
      {
       "metadata": {},
       "output_type": "pyout",
       "prompt_number": 41,
       "text": [
        "idx: 950\tloss: 4.0420489311218\ttrain score: 15.73\tlabel: 23\tprediction: [1]19 [2]90 [3]16 [4]65 [5]100\t\n"
       ]
      },
      {
       "metadata": {},
       "output_type": "pyout",
       "prompt_number": 41,
       "text": [
        "idx: 955\tloss: 4.0444893836975\ttrain score: 16.466666666667\tlabel: 46\tprediction: [1]89 [2]46 [3]85 [4]52 [5]72\t\n"
       ]
      },
      {
       "metadata": {},
       "output_type": "pyout",
       "prompt_number": 41,
       "text": [
        "idx: 960\tloss: 4.0362758636475\ttrain score: 16.303333333333\tlabel: 31\tprediction: [1]45 [2]68 [3]83 [4]82 [5]30\t\n"
       ]
      },
      {
       "metadata": {},
       "output_type": "pyout",
       "prompt_number": 41,
       "text": [
        "idx: 965\tloss: 4.0506916046143\ttrain score: 15.666666666667\tlabel: 37\tprediction: [1]60 [2]30 [3]37 [4]83 [5]82\t\n"
       ]
      },
      {
       "metadata": {},
       "output_type": "pyout",
       "prompt_number": 41,
       "text": [
        "idx: 970\tloss: 4.058895111084\ttrain score: 15.608333333333\tlabel: 56\tprediction: [1]71 [2]42 [3]20 [4]69 [5]22\t\n"
       ]
      },
      {
       "metadata": {},
       "output_type": "pyout",
       "prompt_number": 41,
       "text": [
        "idx: 975\tloss: 4.0576333999634\ttrain score: 14.14\tlabel: 85\tprediction: [1]85 [2]1 [3]93 [4]74 [5]90\t\n"
       ]
      },
      {
       "metadata": {},
       "output_type": "pyout",
       "prompt_number": 41,
       "text": [
        "idx: 980\tloss: 4.039032459259\ttrain score: 15.96\tlabel: 48\tprediction: [1]36 [2]8 [3]15 [4]48 [5]49\t\n"
       ]
      },
      {
       "metadata": {},
       "output_type": "pyout",
       "prompt_number": 41,
       "text": [
        "idx: 985\tloss: 4.0668926239014\ttrain score: 16.285\tlabel: 100\tprediction: [1]76 [2]41 [3]38 [4]48 [5]34\t\n"
       ]
      },
      {
       "metadata": {},
       "output_type": "pyout",
       "prompt_number": 41,
       "text": [
        "idx: 990\tloss: 4.0515370368958\ttrain score: 15.093333333333\tlabel: 84\tprediction: [1]41 [2]12 [3]22 [4]84 [5]69\t\n"
       ]
      },
      {
       "metadata": {},
       "output_type": "pyout",
       "prompt_number": 41,
       "text": [
        "idx: 995\tloss: 4.0439190864563\ttrain score: 14.928333333333\tlabel: 41\tprediction: [1]56 [2]18 [3]42 [4]71 [5]84\t\n"
       ]
      },
      {
       "metadata": {},
       "output_type": "pyout",
       "prompt_number": 41,
       "text": [
        "idx: 1000\tloss: 4.038001537323\ttrain score: 16.345\tlabel: 38\tprediction: [1]34 [2]24 [3]10 [4]56 [5]50\t\n"
       ]
      },
      {
       "metadata": {},
       "output_type": "pyout",
       "prompt_number": 41,
       "text": [
        "idx: 1005\tloss: 4.0502367019653\ttrain score: 16.166666666667\tlabel: 25\tprediction: [1]89 [2]80 [3]52 [4]2 [5]46\t\n"
       ]
      },
      {
       "metadata": {},
       "output_type": "pyout",
       "prompt_number": 41,
       "text": [
        "idx: 1010\tloss: 4.0405020713806\ttrain score: 15.716666666667\tlabel: 3\tprediction: [1]59 [2]44 [3]31 [4]79 [5]36\t\n"
       ]
      },
      {
       "metadata": {},
       "output_type": "pyout",
       "prompt_number": 41,
       "text": [
        "idx: 1015\tloss: 4.0324687957764\ttrain score: 16.623333333333\tlabel: 76\tprediction: [1]62 [2]61 [3]76 [4]21 [5]31\t\n"
       ]
      },
      {
       "metadata": {},
       "output_type": "pyout",
       "prompt_number": 41,
       "text": [
        "idx: 1020\tloss: 4.0555753707886\t"
       ]
      },
      {
       "metadata": {},
       "output_type": "pyout",
       "prompt_number": 41,
       "text": [
        "train score: 15.153333333333\tlabel: 90\tprediction: [1]59 [2]44 [3]37 [4]31 [5]79\t\n"
       ]
      },
      {
       "metadata": {},
       "output_type": "pyout",
       "prompt_number": 41,
       "text": [
        "idx: 1025\tloss: 4.0697231292725\ttrain score: 15.26\tlabel: 17\tprediction: [1]92 [2]48 [3]43 [4]52 [5]8\t\n"
       ]
      },
      {
       "metadata": {},
       "output_type": "pyout",
       "prompt_number": 41,
       "text": [
        "idx: 1030\tloss: 4.0534200668335\ttrain score: 16.426666666667\tlabel: 15\tprediction: [1]38 [2]83 [3]65 [4]30 [5]87\t\n"
       ]
      },
      {
       "metadata": {},
       "output_type": "pyout",
       "prompt_number": 41,
       "text": [
        "idx: 1035\tloss: 4.0282125473022\ttrain score: 15.975\tlabel: 48\tprediction: [1]34 [2]40 [3]19 [4]77 [5]33\t\n"
       ]
      },
      {
       "metadata": {},
       "output_type": "pyout",
       "prompt_number": 41,
       "text": [
        "idx: 1040\tloss: 4.0542407035828\ttrain score: 14.505\tlabel: 57\tprediction: [1]61 [2]60 [3]34 [4]24 [5]40\t\n"
       ]
      },
      {
       "metadata": {},
       "output_type": "pyout",
       "prompt_number": 41,
       "text": [
        "idx: 1045\tloss: 4.0812063217163\ttrain score: 13.653333333333\tlabel: 7\tprediction: [1]37 [2]47 [3]83 [4]82 [5]30\t\n"
       ]
      },
      {
       "metadata": {},
       "output_type": "pyout",
       "prompt_number": 41,
       "text": [
        "idx: 1050\tloss: 4.0591268539429\ttrain score: 14.733333333333\tlabel: 72\tprediction: [1]73 [2]76 [3]32 [4]35 [5]51\t\n"
       ]
      },
      {
       "metadata": {},
       "output_type": "pyout",
       "prompt_number": 41,
       "text": [
        "idx: 1055\tloss: 4.0681028366089\ttrain score: 12.956666666667\tlabel: 17\tprediction: [1]52 [2]92 [3]16 [4]15 [5]14\t\n"
       ]
      },
      {
       "metadata": {},
       "output_type": "pyout",
       "prompt_number": 41,
       "text": [
        "idx: 1060\tloss: 4.0497736930847\ttrain score: 16.886666666667\tlabel: 97\tprediction: [1]60 [2]27 [3]26 [4]32 [5]24\t\n"
       ]
      },
      {
       "metadata": {},
       "output_type": "pyout",
       "prompt_number": 41,
       "text": [
        "idx: 1065\tloss: 4.0417551994324\ttrain score: 14.673333333333\tlabel: 92\tprediction: [1]77 [2]51 [3]19 [4]33 [5]92\t\n"
       ]
      },
      {
       "metadata": {},
       "output_type": "pyout",
       "prompt_number": 41,
       "text": [
        "idx: 1070\tloss: 4.0548620223999\ttrain score: 15.095\tlabel: 25\tprediction: [1]2 [2]89 [3]72 [4]55 [5]85\t\n"
       ]
      },
      {
       "metadata": {},
       "output_type": "pyout",
       "prompt_number": 41,
       "text": [
        "idx: 1075\tloss: 4.0494537353516\ttrain score: 14.463333333333\tlabel: 40\tprediction: [1]33 [2]60 [3]100 [4]77 [5]73\t\n"
       ]
      },
      {
       "metadata": {},
       "output_type": "pyout",
       "prompt_number": 41,
       "text": [
        "idx: 1080\tloss: 4.0553703308105\ttrain score: 14.666666666667\tlabel: 89\tprediction: [1]25 [2]46 [3]55 [4]89 [5]80\t\n"
       ]
      },
      {
       "metadata": {},
       "output_type": "pyout",
       "prompt_number": 41,
       "text": [
        "idx: 1085\tloss: 4.0573654174805\ttrain score: 14.875\tlabel: 34\tprediction: [1]51 [2]29 [3]77 [4]96 [5]24\t\n"
       ]
      },
      {
       "metadata": {},
       "output_type": "pyout",
       "prompt_number": 41,
       "text": [
        "idx: 1090\tloss: 4.0586957931519\ttrain score: 15.503333333333\tlabel: 34\tprediction: [1]29 [2]22 [3]17 [4]18 [5]19\t\n"
       ]
      },
      {
       "metadata": {},
       "output_type": "pyout",
       "prompt_number": 41,
       "text": [
        "idx: 1095\tloss: 4.035457611084\ttrain score: 16.295\tlabel: 40\tprediction: [1]35 [2]48 [3]24 [4]29 [5]84\t\n"
       ]
      },
      {
       "metadata": {},
       "output_type": "pyout",
       "prompt_number": 41,
       "text": [
        "idx: 1100\tloss: 4.0525364875793\ttrain score: 15.731666666667\tlabel: 54\tprediction: [1]39 [2]79 [3]94 [4]23 [5]87\t\n"
       ]
      },
      {
       "metadata": {},
       "output_type": "pyout",
       "prompt_number": 41,
       "text": [
        "idx: 1105\tloss: 4.0389113426208\ttrain score: 16.813333333333\tlabel: 72\tprediction: [1]72 [2]78 [3]35 [4]51 [5]55\t\n"
       ]
      },
      {
       "metadata": {},
       "output_type": "pyout",
       "prompt_number": 41,
       "text": [
        "idx: 1110\tloss: 4.0551280975342\ttrain score: 14.473333333333\tlabel: 89\tprediction: [1]72 [2]46 [3]55 [4]89 [5]80\t\n"
       ]
      },
      {
       "metadata": {},
       "output_type": "pyout",
       "prompt_number": 41,
       "text": [
        "idx: 1115\tloss: 4.0634870529175\ttrain score: 15.395\tlabel: 78\tprediction: [1]43 [2]33 [3]20 [4]24 [5]18\t\n"
       ]
      },
      {
       "metadata": {},
       "output_type": "pyout",
       "prompt_number": 41,
       "text": [
        "idx: 1120\tloss: 4.038646697998\ttrain score: 14.936666666667\tlabel: 49\tprediction: [1]33 [2]51 [3]48 [4]43 [5]8\t\n"
       ]
      },
      {
       "metadata": {},
       "output_type": "pyout",
       "prompt_number": 41,
       "text": [
        "idx: 1125\tloss: 4.0547232627869\ttrain score: 14.655\tlabel: 85\tprediction: [1]32 [2]85 [3]66 [4]67 [5]35\t\n"
       ]
      },
      {
       "metadata": {},
       "output_type": "pyout",
       "prompt_number": 41,
       "text": [
        "idx: 1130\tloss: 4.0361413955688\ttrain score: 16.416666666667\tlabel: 36\tprediction: [1]42 [2]41 [3]49 [4]48 [5]43\t\n"
       ]
      },
      {
       "metadata": {},
       "output_type": "pyout",
       "prompt_number": 41,
       "text": [
        "idx: 1135\tloss: 4.0554423332214\ttrain score: 15.471666666667\tlabel: 55\tprediction: [1]72 [2]46 [3]52 [4]89 [5]80\t\n"
       ]
      },
      {
       "metadata": {},
       "output_type": "pyout",
       "prompt_number": 41,
       "text": [
        "idx: 1140\tloss: 4.0281991958618\ttrain score: 15.555\tlabel: 10\tprediction: [1]22 [2]26 [3]42 [4]19 [5]20\t\n"
       ]
      },
      {
       "metadata": {},
       "output_type": "pyout",
       "prompt_number": 41,
       "text": [
        "idx: 1145\tloss: 4.0619263648987\ttrain score: 15.24\tlabel: 75\tprediction: [1]75 [2]58 [3]18 [4]8 [5]43\t\n"
       ]
      },
      {
       "metadata": {},
       "output_type": "pyout",
       "prompt_number": 41,
       "text": [
        "idx: 1150\tloss: 4.030207157135\ttrain score: 16.868333333333\tlabel: 50\tprediction: [1]22 [2]50 [3]99 [4]96 [5]69\t\n"
       ]
      },
      {
       "metadata": {},
       "output_type": "pyout",
       "prompt_number": 41,
       "text": [
        "idx: 1155\tloss: 4.0478940010071\ttrain score: 16.066666666667\tlabel: 59\tprediction: [1]37 [2]83 [3]23 [4]68 [5]30\t\n"
       ]
      },
      {
       "metadata": {},
       "output_type": "pyout",
       "prompt_number": 41,
       "text": [
        "idx: 1160\tloss: 4.0363545417786\ttrain score: 15.918333333333\tlabel: 54\tprediction: [1]79 [2]44 [3]83 [4]21 [5]81\t\n"
       ]
      },
      {
       "metadata": {},
       "output_type": "pyout",
       "prompt_number": 41,
       "text": [
        "idx: 1165\tloss: 4.0425539016724\ttrain score: 15.208333333333\tlabel: 100\tprediction: [1]48 [2]44 [3]14 [4]54 [5]62\t\n"
       ]
      },
      {
       "metadata": {},
       "output_type": "pyout",
       "prompt_number": 41,
       "text": [
        "idx: 1170\tloss: 4.0653066635132\ttrain score: 15.178333333333\tlabel: 74\tprediction: [1]91 [2]34 [3]94 [4]21 [5]11\t\n"
       ]
      },
      {
       "metadata": {},
       "output_type": "pyout",
       "prompt_number": 41,
       "text": [
        "idx: 1175\tloss: 4.0346064567566\ttrain score: 15.326666666667\tlabel: 86\tprediction: [1]41 [2]40 [3]15 [4]44 [5]43\t\n"
       ]
      },
      {
       "metadata": {},
       "output_type": "pyout",
       "prompt_number": 41,
       "text": [
        "idx: 1180\tloss: 4.0481672286987\ttrain score: 15.263333333333\tlabel: 70\tprediction: [1]20 [2]57 [3]70 [4]71 [5]42\t\n"
       ]
      },
      {
       "metadata": {},
       "output_type": "pyout",
       "prompt_number": 41,
       "text": [
        "idx: 1185\tloss: 4.054295539856\ttrain score: 14.706666666667\tlabel: 81\tprediction: [1]31 [2]86 [3]45 [4]63 [5]62\t\n"
       ]
      },
      {
       "metadata": {},
       "output_type": "pyout",
       "prompt_number": 41,
       "text": [
        "idx: 1190\tloss: 4.0465440750122\ttrain score: 16.17\tlabel: 42\tprediction: [1]34 [2]60 [3]29 [4]78 [5]77\t\n"
       ]
      },
      {
       "metadata": {},
       "output_type": "pyout",
       "prompt_number": 41,
       "text": [
        "idx: 1195\tloss: 4.0470633506775\ttrain score: 16.98\tlabel: 29\tprediction: [1]43 [2]77 [3]15 [4]16 [5]36\t\n"
       ]
      },
      {
       "metadata": {},
       "output_type": "pyout",
       "prompt_number": 41,
       "text": [
        "idx: 1200\tloss: 4.0445818901062\ttrain score: 15.121666666667\tlabel: 41\tprediction: [1]10 [2]56 [3]71 [4]73 [5]19\t\n"
       ]
      },
      {
       "metadata": {},
       "output_type": "pyout",
       "prompt_number": 41,
       "text": [
        "idx: 1205\tloss: 4.0565967559814\ttrain score: 14.36\tlabel: 36\tprediction: [1]68 [2]86 [3]82 [4]37 [5]79\t\n"
       ]
      },
      {
       "metadata": {},
       "output_type": "pyout",
       "prompt_number": 41,
       "text": [
        "idx: 1210\tloss: 4.0586924552917\ttrain score: 15.675\tlabel: 45\tprediction: [1]31 [2]37 [3]82 [4]21 [5]79\t\n"
       ]
      },
      {
       "metadata": {},
       "output_type": "pyout",
       "prompt_number": 41,
       "text": [
        "idx: 1215\tloss: 4.0542793273926\ttrain score: 14.371666666667\tlabel: 95\tprediction: [1]49 [2]8 [3]51 [4]33 [5]34\t\n"
       ]
      },
      {
       "metadata": {},
       "output_type": "pyout",
       "prompt_number": 41,
       "text": [
        "idx: 1220\tloss: 4.0345144271851\ttrain score: 16.621666666667\tlabel: 43\tprediction: [1]33 [2]40 [3]92 [4]24 [5]77\t\n"
       ]
      },
      {
       "metadata": {},
       "output_type": "pyout",
       "prompt_number": 41,
       "text": [
        "idx: 1225\tloss: 4.0546398162842\ttrain score: 15.835\tlabel: 78\tprediction: [1]34 [2]78 [3]74 [4]32 [5]33\t\n"
       ]
      },
      {
       "metadata": {},
       "output_type": "pyout",
       "prompt_number": 41,
       "text": [
        "idx: 1230\tloss: 4.0554165840149\ttrain score: 15.886666666667\tlabel: 9\tprediction: [1]91 [2]43 [3]73 [4]40 [5]15\t\n"
       ]
      },
      {
       "metadata": {},
       "output_type": "pyout",
       "prompt_number": 41,
       "text": [
        "idx: 1235\tloss: 4.0356316566467\ttrain score: 16.455\tlabel: 64\tprediction: [1]88 [2]87 [3]74 [4]35 [5]1\t\n"
       ]
      },
      {
       "metadata": {},
       "output_type": "pyout",
       "prompt_number": 41,
       "text": [
        "idx: 1240\tloss: 4.0441660881042\ttrain score: 15.811666666667\tlabel: 48\tprediction: [1]74 [2]27 [3]97 [4]35 [5]18\t\n"
       ]
      },
      {
       "metadata": {},
       "output_type": "pyout",
       "prompt_number": 41,
       "text": [
        "idx: 1245\tloss: 4.0480403900146\ttrain score: 14.805\tlabel: 80\tprediction: [1]89 [2]52 [3]2 [4]46 [5]72\t\n"
       ]
      },
      {
       "metadata": {},
       "output_type": "pyout",
       "prompt_number": 41,
       "text": [
        "idx: 1250\tloss: 4.0540432929993\ttrain score: 15.518333333333\tlabel: 22\tprediction: [1]70 [2]73 [3]34 [4]38 [5]42\t\n"
       ]
      },
      {
       "metadata": {},
       "output_type": "pyout",
       "prompt_number": 41,
       "text": [
        "idx: 1255\tloss: 4.0548024177551\ttrain score: 14.635\tlabel: 86\tprediction: [1]13 [2]31 [3]59 [4]58 [5]63\t\n"
       ]
      },
      {
       "metadata": {},
       "output_type": "pyout",
       "prompt_number": 41,
       "text": [
        "idx: 1260\tloss: 4.0657410621643\ttrain score: 15.993333333333\tlabel: 69\tprediction: [1]90 [2]34 [3]84 [4]26 [5]56\t\n"
       ]
      },
      {
       "metadata": {},
       "output_type": "pyout",
       "prompt_number": 41,
       "text": [
        "idx: 1265\tloss: 4.0469980239868\ttrain score: 14.901666666667\tlabel: 91\tprediction: [1]20 [2]22 [3]16 [4]50 [5]19\t\n"
       ]
      },
      {
       "metadata": {},
       "output_type": "pyout",
       "prompt_number": 41,
       "text": [
        "idx: 1270\tloss: 4.0640444755554\ttrain score: 15.705\tlabel: 13\tprediction: [1]47 [2]82 [3]83 [4]86 [5]37\t\n"
       ]
      },
      {
       "metadata": {},
       "output_type": "pyout",
       "prompt_number": 41,
       "text": [
        "idx: 1275\tloss: 4.0576829910278\ttrain score: 14.691666666667\tlabel: 12\t"
       ]
      },
      {
       "metadata": {},
       "output_type": "pyout",
       "prompt_number": 41,
       "text": [
        "prediction: [1]12 [2]39 [3]38 [4]42 [5]84\t\n"
       ]
      },
      {
       "metadata": {},
       "output_type": "pyout",
       "prompt_number": 41,
       "text": [
        "idx: 1280\tloss: 4.051830291748\ttrain score: 14.015\tlabel: 60\tprediction: [1]39 [2]45 [3]83 [4]82 [5]79\t\n"
       ]
      },
      {
       "metadata": {},
       "output_type": "pyout",
       "prompt_number": 41,
       "text": [
        "idx: 1285\tloss: 4.0394082069397\ttrain score: 16.34\tlabel: 33\tprediction: [1]71 [2]90 [3]22 [4]87 [5]44\t\n"
       ]
      },
      {
       "metadata": {},
       "output_type": "pyout",
       "prompt_number": 41,
       "text": [
        "idx: 1290\tloss: 4.0505514144897\ttrain score: 15.158333333333\tlabel: 56\tprediction: [1]22 [2]73 [3]18 [4]19 [5]20\t\n"
       ]
      },
      {
       "metadata": {},
       "output_type": "pyout",
       "prompt_number": 41,
       "text": [
        "idx: 1295\tloss: 4.0531120300293\ttrain score: 14.243333333333\tlabel: 4\tprediction: [1]50 [2]10 [3]22 [4]42 [5]56\t\n"
       ]
      },
      {
       "metadata": {},
       "output_type": "pyout",
       "prompt_number": 41,
       "text": [
        "idx: 1300\tloss: 4.0290946960449\ttrain score: 14.918333333333\tlabel: 3\tprediction: [1]11 [2]29 [3]69 [4]73 [5]84\t\n"
       ]
      },
      {
       "metadata": {},
       "output_type": "pyout",
       "prompt_number": 41,
       "text": [
        "idx: 1305\tloss: 4.0508122444153\ttrain score: 14.926666666667\tlabel: 96\tprediction: [1]38 [2]10 [3]19 [4]69 [5]22\t\n"
       ]
      },
      {
       "metadata": {},
       "output_type": "pyout",
       "prompt_number": 41,
       "text": [
        "idx: 1310\tloss: 4.0572605133057\ttrain score: 15.965\tlabel: 29\tprediction: [1]8 [2]35 [3]33 [4]17 [5]27\t\n"
       ]
      },
      {
       "metadata": {},
       "output_type": "pyout",
       "prompt_number": 41,
       "text": [
        "idx: 1315\tloss: 4.0596528053284\t"
       ]
      },
      {
       "metadata": {},
       "output_type": "pyout",
       "prompt_number": 41,
       "text": [
        "train score: 14.26\tlabel: 36\tprediction: [1]51 [2]36 [3]24 [4]29 [5]52\t\n"
       ]
      },
      {
       "metadata": {},
       "output_type": "pyout",
       "prompt_number": 41,
       "text": [
        "idx: 1320\tloss: 4.0571699142456\ttrain score: 14.29\tlabel: 20\tprediction: [1]48 [2]42 [3]52 [4]51 [5]49\t\n"
       ]
      },
      {
       "metadata": {},
       "output_type": "pyout",
       "prompt_number": 41,
       "text": [
        "idx: 1325\tloss: 4.0585746765137\ttrain score: 12.565\tlabel: 37\tprediction: [1]68 [2]47 [3]82 [4]79 [5]30\t\n"
       ]
      },
      {
       "metadata": {},
       "output_type": "pyout",
       "prompt_number": 41,
       "text": [
        "idx: 1330\tloss: 4.0628294944763\ttrain score: 15.063333333333\tlabel: 40\tprediction: [1]34 [2]56 [3]22 [4]69 [5]20\t\n"
       ]
      },
      {
       "metadata": {},
       "output_type": "pyout",
       "prompt_number": 41,
       "text": [
        "idx: 1335\tloss: 4.0288801193237\ttrain score: 16.12\tlabel: 30\tprediction: [1]64 [2]28 [3]91 [4]30 [5]31\t\n"
       ]
      },
      {
       "metadata": {},
       "output_type": "pyout",
       "prompt_number": 41,
       "text": [
        "idx: 1340\tloss: 4.0319871902466\ttrain score: 16.956666666667\tlabel: 1\tprediction: [1]11 [2]84 [3]35 [4]27 [5]1\t\n"
       ]
      },
      {
       "metadata": {},
       "output_type": "pyout",
       "prompt_number": 41,
       "text": [
        "idx: 1345\tloss: 4.0146822929382\ttrain score: 16.508333333333\tlabel: 76\tprediction: [1]12 [2]47 [3]76 [4]79 [5]21\t\n"
       ]
      },
      {
       "metadata": {},
       "output_type": "pyout",
       "prompt_number": 41,
       "text": [
        "idx: 1350\tloss: 4.0571365356445\ttrain score: 15.741666666667\tlabel: 75\tprediction: [1]75 [2]24 [3]27 [4]84 [5]70\t\n"
       ]
      },
      {
       "metadata": {},
       "output_type": "pyout",
       "prompt_number": 41,
       "text": [
        "idx: 1355\tloss: 4.0585603713989\ttrain score: 16.055\tlabel: 54\tprediction: [1]39 [2]47 [3]86 [4]83 [5]100\t\n"
       ]
      },
      {
       "metadata": {},
       "output_type": "pyout",
       "prompt_number": 41,
       "text": [
        "idx: 1360\tloss: 4.0562810897827\ttrain score: 15.291666666667\tlabel: 46\tprediction: [1]85 [2]2 [3]55 [4]25 [5]46\t\n"
       ]
      },
      {
       "metadata": {},
       "output_type": "pyout",
       "prompt_number": 41,
       "text": [
        "idx: 1365\tloss: 4.0230112075806\ttrain score: 16.591666666667\tlabel: 89\tprediction: [1]89 [2]52 [3]2 [4]46 [5]72\t\n"
       ]
      },
      {
       "metadata": {},
       "output_type": "pyout",
       "prompt_number": 41,
       "text": [
        "idx: 1370\tloss: 4.048659324646\ttrain score: 15.21\tlabel: 32\tprediction: [1]35 [2]76 [3]21 [4]85 [5]82\t\n"
       ]
      },
      {
       "metadata": {},
       "output_type": "pyout",
       "prompt_number": 41,
       "text": [
        "idx: 1375\tloss: 4.0677480697632\ttrain score: 15.045\tlabel: 97\tprediction: [1]97 [2]91 [3]40 [4]36 [5]33\t\n"
       ]
      },
      {
       "metadata": {},
       "output_type": "pyout",
       "prompt_number": 41,
       "text": [
        "idx: 1380\tloss: 4.0515613555908\ttrain score: 15.205\tlabel: 59\tprediction: [1]91 [2]82 [3]37 [4]21 [5]94\t\n"
       ]
      },
      {
       "metadata": {},
       "output_type": "pyout",
       "prompt_number": 41,
       "text": [
        "idx: 1385\tloss: 4.0675525665283\ttrain score: 15.096666666667\tlabel: 18\tprediction: [1]73 [2]71 [3]22 [4]24 [5]84\t\n"
       ]
      },
      {
       "metadata": {},
       "output_type": "pyout",
       "prompt_number": 41,
       "text": [
        "idx: 1390\tloss: 4.0505614280701\ttrain score: 14.81\tlabel: 6\tprediction: [1]74 [2]85 [3]38 [4]40 [5]45\t\n"
       ]
      },
      {
       "metadata": {},
       "output_type": "pyout",
       "prompt_number": 41,
       "text": [
        "idx: 1395\tloss: 4.0392408370972\ttrain score: 15.738333333333\tlabel: 5\tprediction: [1]11 [2]14 [3]26 [4]51 [5]52\t\n"
       ]
      },
      {
       "metadata": {},
       "output_type": "pyout",
       "prompt_number": 41,
       "text": [
        "idx: 1400\tloss: 4.0344243049622\ttrain score: 14.633333333333\tlabel: 79\tprediction: [1]40 [2]45 [3]86 [4]30 [5]83\t\n"
       ]
      },
      {
       "metadata": {},
       "output_type": "pyout",
       "prompt_number": 41,
       "text": [
        "idx: 1405\tloss: 4.0390877723694\ttrain score: 16.566666666667\tlabel: 10\tprediction: [1]22 [2]76 [3]86 [4]60 [5]100\t\n"
       ]
      },
      {
       "metadata": {},
       "output_type": "pyout",
       "prompt_number": 41,
       "text": [
        "idx: 1410\tloss: 4.0516996383667\ttrain score: 15.665\tlabel: 58\tprediction: [1]37 [2]63 [3]82 [4]21 [5]31\t\n"
       ]
      },
      {
       "metadata": {},
       "output_type": "pyout",
       "prompt_number": 41,
       "text": [
        "idx: 1415\tloss: 4.0530076026917\ttrain score: 15.083333333333\tlabel: 20\tprediction: [1]69 [2]52 [3]19 [4]20 [5]22\t\n"
       ]
      },
      {
       "metadata": {},
       "output_type": "pyout",
       "prompt_number": 41,
       "text": [
        "idx: 1420\tloss: 4.0659952163696\ttrain score: 14.033333333333\tlabel: 50\tprediction: [1]57 [2]71 [3]22 [4]24 [5]32\t\n"
       ]
      },
      {
       "metadata": {},
       "output_type": "pyout",
       "prompt_number": 41,
       "text": [
        "idx: 1425\tloss: 4.0648436546326\ttrain score: 14.598333333333\tlabel: 26\tprediction: [1]79 [2]39 [3]91 [4]21 [5]83\t\n"
       ]
      },
      {
       "metadata": {},
       "output_type": "pyout",
       "prompt_number": 41,
       "text": [
        "idx: 1430\tloss: 4.0515818595886\ttrain score: 14.893333333333\tlabel: 13\tprediction: [1]45 [2]68 [3]83 [4]82 [5]31\t\n"
       ]
      },
      {
       "metadata": {},
       "output_type": "pyout",
       "prompt_number": 41,
       "text": [
        "idx: 1435\tloss: 4.0611209869385\ttrain score: 15.116666666667\tlabel: 12\tprediction: [1]15 [2]83 [3]87 [4]62 [5]63\t\n"
       ]
      },
      {
       "metadata": {},
       "output_type": "pyout",
       "prompt_number": 41,
       "text": [
        "idx: 1440\tloss: 4.0571751594543\ttrain score: 14.311666666667\tlabel: 83\tprediction: [1]39 [2]68 [3]83 [4]82 [5]79\t\n"
       ]
      },
      {
       "metadata": {},
       "output_type": "pyout",
       "prompt_number": 41,
       "text": [
        "idx: 1445\tloss: 4.0544543266296\ttrain score: 14.146666666667\tlabel: 98\tprediction: [1]84 [2]70 [3]19 [4]20 [5]22\t\n"
       ]
      },
      {
       "metadata": {},
       "output_type": "pyout",
       "prompt_number": 41,
       "text": [
        "idx: 1450\tloss: 4.0299077033997\ttrain score: 15.778333333333\tlabel: 38\tprediction: [1]79 [2]47 [3]30 [4]31 [5]100\t\n"
       ]
      },
      {
       "metadata": {},
       "output_type": "pyout",
       "prompt_number": 41,
       "text": [
        "idx: 1455\tloss: 4.052628993988\ttrain score: 13.306666666667\tlabel: 95\tprediction: [1]92 [2]49 [3]19 [4]34 [5]95\t\n"
       ]
      },
      {
       "metadata": {},
       "output_type": "pyout",
       "prompt_number": 41,
       "text": [
        "idx: 1460\tloss: 4.0363597869873\ttrain score: 15.545\tlabel: 22\tprediction: [1]60 [2]59 [3]65 [4]63 [5]22\t\n"
       ]
      },
      {
       "metadata": {},
       "output_type": "pyout",
       "prompt_number": 41,
       "text": [
        "idx: 1465\tloss: 4.0513391494751\ttrain score: 13.973333333333\tlabel: 90\tprediction: [1]40 [2]48 [3]49 [4]92 [5]95\t\n"
       ]
      },
      {
       "metadata": {},
       "output_type": "pyout",
       "prompt_number": 41,
       "text": [
        "idx: 1470\tloss: 4.039831161499\ttrain score: 14.94\tlabel: 5\tprediction: [1]73 [2]76 [3]40 [4]41 [5]48\t\n"
       ]
      },
      {
       "metadata": {},
       "output_type": "pyout",
       "prompt_number": 41,
       "text": [
        "idx: 1475\tloss: 4.038622379303\ttrain score: 14.945\tlabel: 24\tprediction: [1]70 [2]74 [3]26 [4]32 [5]38\t\n"
       ]
      },
      {
       "metadata": {},
       "output_type": "pyout",
       "prompt_number": 41,
       "text": [
        "idx: 1480\tloss: 4.0251064300537\ttrain score: 15.778333333333\tlabel: 93\tprediction: [1]63 [2]88 [3]66 [4]27 [5]45\t\n"
       ]
      },
      {
       "metadata": {},
       "output_type": "pyout",
       "prompt_number": 41,
       "text": [
        "idx: 1485\tloss: 4.0501179695129\ttrain score: 14.446666666667\tlabel: 99\tprediction: [1]50 [2]71 [3]24 [4]69 [5]84\t\n"
       ]
      },
      {
       "metadata": {},
       "output_type": "pyout",
       "prompt_number": 41,
       "text": [
        "idx: 1490\tloss: 4.0611300468445\ttrain score: 15.616666666667\tlabel: 94\tprediction: [1]83 [2]100 [3]86 [4]45 [5]44\t\n"
       ]
      },
      {
       "metadata": {},
       "output_type": "pyout",
       "prompt_number": 41,
       "text": [
        "idx: 1495\tloss: 4.0588040351868\ttrain score: 15.668333333333\tlabel: 26\tprediction: [1]20 [2]52 [3]17 [4]73 [5]51\t\n"
       ]
      },
      {
       "metadata": {},
       "output_type": "pyout",
       "prompt_number": 41,
       "text": [
        "current LR: 0.005\t\n"
       ]
      },
      {
       "metadata": {},
       "output_type": "pyout",
       "prompt_number": 41,
       "text": [
        "idx: 1500\tloss: 4.0365400314331\ttrain score: 15.063333333333\tlabel: 56\tprediction: [1]11 [2]32 [3]78 [4]72 [5]18\t\n"
       ]
      },
      {
       "metadata": {},
       "output_type": "pyout",
       "prompt_number": 41,
       "text": [
        "idx: 1505\tloss: 4.0293183326721\ttrain score: 16.148333333333\tlabel: 40\tprediction: [1]76 [2]85 [3]32 [4]35 [5]72\t\n"
       ]
      },
      {
       "metadata": {},
       "output_type": "pyout",
       "prompt_number": 41,
       "text": [
        "idx: 1510\tloss: 4.0567636489868\ttrain score: 13.953333333333\tlabel: 19\tprediction: [1]41 [2]43 [3]33 [4]84 [5]74\t\n"
       ]
      },
      {
       "metadata": {},
       "output_type": "pyout",
       "prompt_number": 41,
       "text": [
        "idx: 1515\tloss: 4.0536136627197\ttrain score: 14.39\tlabel: 22\tprediction: [1]70 [2]42 [3]22 [4]98 [5]57\t\n"
       ]
      },
      {
       "metadata": {},
       "output_type": "pyout",
       "prompt_number": 41,
       "text": [
        "idx: 1520\tloss: 4.0725889205933\ttrain score: 13.055\tlabel: 34\tprediction: [1]36 [2]52 [3]77 [4]29 [5]73\t\n"
       ]
      },
      {
       "metadata": {},
       "output_type": "pyout",
       "prompt_number": 41,
       "text": [
        "idx: 1525\tloss: 4.0260643959045\ttrain score: 17.608333333333\tlabel: 51\tprediction: [1]52 [2]77 [3]17 [4]43 [5]92\t\n"
       ]
      },
      {
       "metadata": {},
       "output_type": "pyout",
       "prompt_number": 41,
       "text": [
        "idx: 1530\tloss: 4.0653109550476\ttrain score: 15.898333333333\tlabel: 1\tprediction: [1]84 [2]34 [3]74 [4]27 [5]18\t\n"
       ]
      },
      {
       "metadata": {},
       "output_type": "pyout",
       "prompt_number": 41,
       "text": [
        "idx: 1535\tloss: 4.0469160079956\ttrain score: 15.241666666667\tlabel: 23\tprediction: [1]65 [2]31 [3]21 [4]23 [5]26\t\n"
       ]
      },
      {
       "metadata": {},
       "output_type": "pyout",
       "prompt_number": 41,
       "text": [
        "idx: 1540\tloss: 4.0725655555725\ttrain score: 15.276666666667\tlabel: 83\tprediction: [1]44 [2]47 [3]30 [4]31 [5]100\t\n"
       ]
      },
      {
       "metadata": {},
       "output_type": "pyout",
       "prompt_number": 41,
       "text": [
        "idx: 1545\tloss: 4.0254244804382\t"
       ]
      },
      {
       "metadata": {},
       "output_type": "pyout",
       "prompt_number": 41,
       "text": [
        "train score: 16.086666666667\tlabel: 81\tprediction: [1]37 [2]83 [3]54 [4]87 [5]86\t\n"
       ]
      },
      {
       "metadata": {},
       "output_type": "pyout",
       "prompt_number": 41,
       "text": [
        "idx: 1550\tloss: 4.0619769096375\ttrain score: 14.263333333333\tlabel: 8\tprediction: [1]31 [2]58 [3]37 [4]86 [5]13\t\n"
       ]
      },
      {
       "metadata": {},
       "output_type": "pyout",
       "prompt_number": 41,
       "text": [
        "idx: 1555\tloss: 4.0534563064575\ttrain score: 13.536666666667\tlabel: 85\tprediction: [1]52 [2]27 [3]20 [4]72 [5]64\t\n"
       ]
      },
      {
       "metadata": {},
       "output_type": "pyout",
       "prompt_number": 41,
       "text": [
        "idx: 1560\tloss: 4.0584020614624\ttrain score: 14.233333333333\tlabel: 88\tprediction: [1]53 [2]88 [3]1 [4]72 [5]35\t\n"
       ]
      },
      {
       "metadata": {},
       "output_type": "pyout",
       "prompt_number": 41,
       "text": [
        "idx: 1565\tloss: 4.0462079048157\ttrain score: 16.02\tlabel: 15\tprediction: [1]95 [2]48 [3]51 [4]77 [5]43\t\n"
       ]
      },
      {
       "metadata": {},
       "output_type": "pyout",
       "prompt_number": 41,
       "text": [
        "idx: 1570\tloss: 4.0409941673279\ttrain score: 14.088333333333\tlabel: 55\tprediction: [1]11 [2]18 [3]55 [4]78 [5]73\t\n"
       ]
      },
      {
       "metadata": {},
       "output_type": "pyout",
       "prompt_number": 41,
       "text": [
        "idx: 1575\tloss: 4.022716999054\ttrain score: 15.26\tlabel: 67\tprediction: [1]67 [2]93 [3]32 [4]88 [5]74\t\n"
       ]
      },
      {
       "metadata": {},
       "output_type": "pyout",
       "prompt_number": 41,
       "text": [
        "idx: 1580\tloss: 4.0152153968811\ttrain score: 15.611666666667\tlabel: 71\tprediction: [1]56 [2]98 [3]42 [4]71 [5]84\t\n"
       ]
      },
      {
       "metadata": {},
       "output_type": "pyout",
       "prompt_number": 41,
       "text": [
        "idx: 1585\tloss: 4.0527391433716\ttrain score: 14.7\tlabel: 62\tprediction: [1]62 [2]26 [3]76 [4]65 [5]63\t\n"
       ]
      },
      {
       "metadata": {},
       "output_type": "pyout",
       "prompt_number": 41,
       "text": [
        "idx: 1590\tloss: 4.023060798645\ttrain score: 14.946666666667\tlabel: 1\tprediction: [1]33 [2]35 [3]52 [4]85 [5]84\t\n"
       ]
      },
      {
       "metadata": {},
       "output_type": "pyout",
       "prompt_number": 41,
       "text": [
        "idx: 1595\tloss: 4.0589742660522\ttrain score: 14.706666666667\tlabel: 87\tprediction: [1]68 [2]47 [3]82 [4]31 [5]76\t\n"
       ]
      },
      {
       "metadata": {},
       "output_type": "pyout",
       "prompt_number": 41,
       "text": [
        "idx: 1600\tloss: 4.0408854484558\ttrain score: 14.765\tlabel: 4\tprediction: [1]77 [2]43 [3]16 [4]15 [5]92\t\n"
       ]
      },
      {
       "metadata": {},
       "output_type": "pyout",
       "prompt_number": 41,
       "text": [
        "idx: 1605\tloss: 4.0541729927063\ttrain score: 14.211666666667\tlabel: 36\tprediction: [1]12 [2]44 [3]21 [4]30 [5]31\t\n"
       ]
      },
      {
       "metadata": {},
       "output_type": "pyout",
       "prompt_number": 41,
       "text": [
        "idx: 1610\tloss: 4.0299844741821\ttrain score: 14.116666666667\tlabel: 14\tprediction: [1]34 [2]52 [3]91 [4]26 [5]29\t\n"
       ]
      },
      {
       "metadata": {},
       "output_type": "pyout",
       "prompt_number": 41,
       "text": [
        "idx: 1615\tloss: 4.0285692214966\ttrain score: 15.313333333333\tlabel: 61\tprediction: [1]61 [2]31 [3]68 [4]63 [5]62\t\n"
       ]
      },
      {
       "metadata": {},
       "output_type": "pyout",
       "prompt_number": 41,
       "text": [
        "idx: 1620\tloss: 4.0604267120361\ttrain score: 14.305\tlabel: 98\tprediction: [1]70 [2]73 [3]34 [4]38 [5]42\t\n"
       ]
      },
      {
       "metadata": {},
       "output_type": "pyout",
       "prompt_number": 41,
       "text": [
        "idx: 1625\tloss: 4.032440662384\ttrain score: 15.001666666667\tlabel: 59\tprediction: [1]36 [2]65 [3]39 [4]37 [5]100\t\n"
       ]
      },
      {
       "metadata": {},
       "output_type": "pyout",
       "prompt_number": 41,
       "text": [
        "idx: 1630\tloss: 4.0473232269287\ttrain score: 14.016666666667\tlabel: 30\tprediction: [1]82 [2]83 [3]21 [4]60 [5]79\t\n"
       ]
      },
      {
       "metadata": {},
       "output_type": "pyout",
       "prompt_number": 41,
       "text": [
        "idx: 1635\tloss: 4.0355091094971\ttrain score: 16.476666666667\tlabel: 35\tprediction: [1]74 [2]18 [3]81 [4]35 [5]97\t\n"
       ]
      },
      {
       "metadata": {},
       "output_type": "pyout",
       "prompt_number": 41,
       "text": [
        "idx: 1640\tloss: 4.0378475189209\ttrain score: 15.883333333333\tlabel: 60\tprediction: [1]52 [2]51 [3]20 [4]61 [5]22\t\n"
       ]
      },
      {
       "metadata": {},
       "output_type": "pyout",
       "prompt_number": 41,
       "text": [
        "idx: 1645\tloss: 4.0537128448486\ttrain score: 15.285\tlabel: 16\tprediction: [1]20 [2]7 [3]34 [4]11 [5]51\t\n"
       ]
      },
      {
       "metadata": {},
       "output_type": "pyout",
       "prompt_number": 41,
       "text": [
        "idx: 1650\tloss: 4.0287494659424\ttrain score: 16.068333333333\tlabel: 44\tprediction: [1]39 [2]45 [3]82 [4]81 [5]30\t\n"
       ]
      },
      {
       "metadata": {},
       "output_type": "pyout",
       "prompt_number": 41,
       "text": [
        "idx: 1655\tloss: 4.032525062561\ttrain score: 14.911666666667\tlabel: 76\tprediction: [1]61 [2]88 [3]27 [4]32 [5]70\t\n"
       ]
      },
      {
       "metadata": {},
       "output_type": "pyout",
       "prompt_number": 41,
       "text": [
        "idx: 1660\tloss: 4.0423555374146\ttrain score: 14.686666666667\tlabel: 76\tprediction: [1]61 [2]88 [3]27 [4]32 [5]70\t\n"
       ]
      },
      {
       "metadata": {},
       "output_type": "pyout",
       "prompt_number": 41,
       "text": [
        "idx: 1665\tloss: 4.037130355835\ttrain score: 15.431666666667\tlabel: 1\tprediction: [1]87 [2]45 [3]76 [4]1 [5]42\t\n"
       ]
      },
      {
       "metadata": {},
       "output_type": "pyout",
       "prompt_number": 41,
       "text": [
        "idx: 1670\tloss: 4.0522584915161\ttrain score: 13.838333333333\tlabel: 25\tprediction: [1]89 [2]85 [3]2 [4]55 [5]72\t\n"
       ]
      },
      {
       "metadata": {},
       "output_type": "pyout",
       "prompt_number": 41,
       "text": [
        "idx: 1675\tloss: 4.0399732589722\ttrain score: 15.726666666667\tlabel: 13\tprediction: [1]70 [2]74 [3]24 [4]32 [5]38\t\n"
       ]
      },
      {
       "metadata": {},
       "output_type": "pyout",
       "prompt_number": 41,
       "text": [
        "idx: 1680\tloss: 4.0500049591064\ttrain score: 14.815\tlabel: 84\tprediction: [1]48 [2]41 [3]84 [4]18 [5]38\t\n"
       ]
      },
      {
       "metadata": {},
       "output_type": "pyout",
       "prompt_number": 41,
       "text": [
        "idx: 1685\tloss: 4.0554842948914\ttrain score: 15.796666666667\tlabel: 70\tprediction: [1]42 [2]71 [3]20 [4]22 [5]69\t\n"
       ]
      },
      {
       "metadata": {},
       "output_type": "pyout",
       "prompt_number": 41,
       "text": [
        "idx: 1690\tloss: 4.0480990409851\ttrain score: 14.49\tlabel: 51\tprediction: [1]49 [2]48 [3]33 [4]92 [5]91\t\n"
       ]
      },
      {
       "metadata": {},
       "output_type": "pyout",
       "prompt_number": 41,
       "text": [
        "idx: 1695\tloss: 4.0165829658508\ttrain score: 13.7\tlabel: 92\tprediction: [1]18 [2]1 [3]97 [4]84 [5]42\t\n"
       ]
      },
      {
       "metadata": {},
       "output_type": "pyout",
       "prompt_number": 41,
       "text": [
        "idx: 1700\tloss: 4.0492215156555\ttrain score: 14.625\tlabel: 34\tprediction: [1]100 [2]51 [3]90 [4]49 [5]92\t\n"
       ]
      },
      {
       "metadata": {},
       "output_type": "pyout",
       "prompt_number": 41,
       "text": [
        "idx: 1705\tloss: 4.039315700531\ttrain score: 14.866666666667\tlabel: 30\tprediction: [1]13 [2]39 [3]21 [4]82 [5]100\t\n"
       ]
      },
      {
       "metadata": {},
       "output_type": "pyout",
       "prompt_number": 41,
       "text": [
        "idx: 1710\tloss: 4.0544714927673\ttrain score: 15.873333333333\tlabel: 96\tprediction: [1]26 [2]100 [3]59 [4]60 [5]69\t\n"
       ]
      },
      {
       "metadata": {},
       "output_type": "pyout",
       "prompt_number": 41,
       "text": [
        "idx: 1715\tloss: 4.0453219413757\ttrain score: 13.906666666667\tlabel: 40\tprediction: [1]52 [2]51 [3]60 [4]24 [5]69\t\n"
       ]
      },
      {
       "metadata": {},
       "output_type": "pyout",
       "prompt_number": 41,
       "text": [
        "idx: 1720\tloss: 4.0680360794067\ttrain score: 15.335\tlabel: 5\tprediction: [1]84 [2]7 [3]56 [4]11 [5]81\t\n"
       ]
      },
      {
       "metadata": {},
       "output_type": "pyout",
       "prompt_number": 41,
       "text": [
        "idx: 1725\tloss: 4.054530620575\ttrain score: 14.185\tlabel: 79\tprediction: [1]65 [2]63 [3]79 [4]31 [5]68\t\n"
       ]
      },
      {
       "metadata": {},
       "output_type": "pyout",
       "prompt_number": 41,
       "text": [
        "idx: 1730\tloss: 4.0414485931396\ttrain score: 14.928333333333\tlabel: 96\tprediction: [1]20 [2]22 [3]60 [4]18 [5]19\t\n"
       ]
      },
      {
       "metadata": {},
       "output_type": "pyout",
       "prompt_number": 41,
       "text": [
        "idx: 1735\tloss: 4.0449666976929\ttrain score: 15.323333333333\tlabel: 54\tprediction: [1]63 [2]54 [3]90 [4]21 [5]68\t\n"
       ]
      },
      {
       "metadata": {},
       "output_type": "pyout",
       "prompt_number": 41,
       "text": [
        "idx: 1740\tloss: 4.0538401603699\ttrain score: 15.048333333333\tlabel: 15\tprediction: [1]73 [2]71 [3]22 [4]24 [5]84\t\n"
       ]
      },
      {
       "metadata": {},
       "output_type": "pyout",
       "prompt_number": 41,
       "text": [
        "idx: 1745\tloss: 4.0572338104248\ttrain score: 15.966666666667\tlabel: 21\tprediction: [1]63 [2]61 [3]82 [4]21 [5]31\t\n"
       ]
      },
      {
       "metadata": {},
       "output_type": "pyout",
       "prompt_number": 41,
       "text": [
        "idx: 1750\tloss: 4.0568141937256\ttrain score: 13.268333333333\tlabel: 69\tprediction: [1]56 [2]65 [3]26 [4]29 [5]30\t\n"
       ]
      },
      {
       "metadata": {},
       "output_type": "pyout",
       "prompt_number": 41,
       "text": [
        "idx: 1755\tloss: 4.0442886352539\ttrain score: 17.653333333333\tlabel: 31\tprediction: [1]31 [2]61 [3]79 [4]68 [5]63\t\n"
       ]
      },
      {
       "metadata": {},
       "output_type": "pyout",
       "prompt_number": 41,
       "text": [
        "idx: 1760\tloss: 4.0383319854736\ttrain score: 15.413333333333\tlabel: 60\tprediction: [1]30 [2]94 [3]16 [4]17 [5]33\t\n"
       ]
      },
      {
       "metadata": {},
       "output_type": "pyout",
       "prompt_number": 41,
       "text": [
        "idx: 1765\tloss: 4.0458931922913\ttrain score: 14.203333333333\tlabel: 33\tprediction: [1]52 [2]51 [3]24 [4]29 [5]73\t\n"
       ]
      },
      {
       "metadata": {},
       "output_type": "pyout",
       "prompt_number": 41,
       "text": [
        "idx: 1770\tloss: 4.0408473014832\ttrain score: 13.475\tlabel: 69\tprediction: [1]12 [2]71 [3]26 [4]38 [5]39\t\n"
       ]
      },
      {
       "metadata": {},
       "output_type": "pyout",
       "prompt_number": 41,
       "text": [
        "idx: 1775\tloss: 4.0436630249023\ttrain score: 15.245\tlabel: 100\tprediction: [1]79 [2]37 [3]23 [4]83 [5]82\t\n"
       ]
      },
      {
       "metadata": {},
       "output_type": "pyout",
       "prompt_number": 41,
       "text": [
        "idx: 1780\tloss: 4.0366182327271\ttrain score: 14.691666666667\tlabel: 11\tprediction: [1]35 [2]85 [3]67 [4]45 [5]32\t\n"
       ]
      },
      {
       "metadata": {},
       "output_type": "pyout",
       "prompt_number": 41,
       "text": [
        "idx: 1785\t"
       ]
      },
      {
       "metadata": {},
       "output_type": "pyout",
       "prompt_number": 41,
       "text": [
        "loss: 4.0394821166992\ttrain score: 15.351666666667\tlabel: 8\tprediction: [1]44 [2]21 [3]33 [4]77 [5]40\t\n"
       ]
      },
      {
       "metadata": {},
       "output_type": "pyout",
       "prompt_number": 41,
       "text": [
        "idx: 1790\tloss: 4.0431218147278\ttrain score: 13.793333333333\tlabel: 7\tprediction: [1]22 [2]52 [3]19 [4]20 [5]54\t\n"
       ]
      },
      {
       "metadata": {},
       "output_type": "pyout",
       "prompt_number": 41,
       "text": [
        "idx: 1795\tloss: 4.0482783317566\ttrain score: 14.458333333333\tlabel: 81\tprediction: [1]93 [2]81 [3]53 [4]67 [5]66\t\n"
       ]
      },
      {
       "metadata": {},
       "output_type": "pyout",
       "prompt_number": 41,
       "text": [
        "idx: 1800\tloss: 4.0498223304749\ttrain score: 15.088333333333\tlabel: 20\tprediction: [1]38 [2]71 [3]92 [4]50 [5]29\t\n"
       ]
      },
      {
       "metadata": {},
       "output_type": "pyout",
       "prompt_number": 41,
       "text": [
        "idx: 1805\tloss: 4.0378079414368\ttrain score: 14.13\tlabel: 85\tprediction: [1]70 [2]74 [3]24 [4]32 [5]38\t\n"
       ]
      },
      {
       "metadata": {},
       "output_type": "pyout",
       "prompt_number": 41,
       "text": [
        "idx: 1810\tloss: 4.041615486145\ttrain score: 15.811666666667\tlabel: 14\tprediction: [1]69 [2]71 [3]19 [4]73 [5]5\t\n"
       ]
      },
      {
       "metadata": {},
       "output_type": "pyout",
       "prompt_number": 41,
       "text": [
        "idx: 1815\tloss: 4.0611953735352\ttrain score: 15.876666666667\tlabel: 29\tprediction: [1]29 [2]40 [3]19 [4]33 [5]92\t\n"
       ]
      },
      {
       "metadata": {},
       "output_type": "pyout",
       "prompt_number": 41,
       "text": [
        "idx: 1820\tloss: 4.0565552711487\ttrain score: 14.908333333333\tlabel: 81\tprediction: [1]93 [2]81 [3]53 [4]67 [5]66\t\n"
       ]
      },
      {
       "metadata": {},
       "output_type": "pyout",
       "prompt_number": 41,
       "text": [
        "idx: 1825\tloss: 4.0511918067932\ttrain score: 14.331666666667\tlabel: 46\tprediction: [1]89 [2]85 [3]2 [4]55 [5]72\t\n"
       ]
      },
      {
       "metadata": {},
       "output_type": "pyout",
       "prompt_number": 41,
       "text": [
        "idx: 1830\tloss: 4.0678210258484\ttrain score: 12.498333333333\tlabel: 37\tprediction: [1]37 [2]62 [3]45 [4]59 [5]94\t\n"
       ]
      },
      {
       "metadata": {},
       "output_type": "pyout",
       "prompt_number": 41,
       "text": [
        "idx: 1835\tloss: 4.0359907150269\ttrain score: 15.045\tlabel: 52\tprediction: [1]50 [2]12 [3]27 [4]22 [5]20\t\n"
       ]
      },
      {
       "metadata": {},
       "output_type": "pyout",
       "prompt_number": 41,
       "text": [
        "idx: 1840\tloss: 4.057487487793\ttrain score: 13.545\tlabel: 87\tprediction: [1]26 [2]12 [3]22 [4]84 [5]77\t\n"
       ]
      },
      {
       "metadata": {},
       "output_type": "pyout",
       "prompt_number": 41,
       "text": [
        "idx: 1845\tloss: 4.0289568901062\ttrain score: 15.06\tlabel: 63\tprediction: [1]11 [2]93 [3]87 [4]82 [5]81\t\n"
       ]
      },
      {
       "metadata": {},
       "output_type": "pyout",
       "prompt_number": 41,
       "text": [
        "idx: 1850\tloss: 4.0503621101379\ttrain score: 14.453333333333\tlabel: 12\tprediction: [1]19 [2]52 [3]70 [4]69 [5]60\t\n"
       ]
      },
      {
       "metadata": {},
       "output_type": "pyout",
       "prompt_number": 41,
       "text": [
        "idx: 1855\tloss: 4.0461301803589\ttrain score: 14.396666666667\tlabel: 3\tprediction: [1]79 [2]47 [3]83 [4]30 [5]82\t\n"
       ]
      },
      {
       "metadata": {},
       "output_type": "pyout",
       "prompt_number": 41,
       "text": [
        "idx: 1860\tloss: 4.0588669776917\ttrain score: 14.393333333333\tlabel: 58\tprediction: [1]65 [2]30 [3]82 [4]83 [5]21\t\n"
       ]
      },
      {
       "metadata": {},
       "output_type": "pyout",
       "prompt_number": 41,
       "text": [
        "idx: 1865\tloss: 4.0134887695312\t"
       ]
      },
      {
       "metadata": {},
       "output_type": "pyout",
       "prompt_number": 41,
       "text": [
        "train score: 16.38\tlabel: 32\tprediction: [1]52 [2]34 [3]94 [4]38 [5]21\t\n"
       ]
      },
      {
       "metadata": {},
       "output_type": "pyout",
       "prompt_number": 41,
       "text": [
        "idx: 1870\tloss: 4.0326719284058\ttrain score: 15.21\tlabel: 15\tprediction: [1]73 [2]33 [3]52 [4]78 [5]77\t\n"
       ]
      },
      {
       "metadata": {},
       "output_type": "pyout",
       "prompt_number": 41,
       "text": [
        "idx: 1875\tloss: 4.0428252220154\ttrain score: 14.773333333333\tlabel: 72\tprediction: [1]76 [2]85 [3]32 [4]35 [5]72\t\n"
       ]
      },
      {
       "metadata": {},
       "output_type": "pyout",
       "prompt_number": 41,
       "text": [
        "idx: 1880\tloss: 4.0404276847839\ttrain score: 15.18\tlabel: 11\tprediction: [1]40 [2]41 [3]90 [4]78 [5]33\t\n"
       ]
      },
      {
       "metadata": {},
       "output_type": "pyout",
       "prompt_number": 41,
       "text": [
        "idx: 1885\tloss: 4.0456366539001\ttrain score: 14.591666666667\tlabel: 31\tprediction: [1]54 [2]44 [3]83 [4]86 [5]21\t\n"
       ]
      },
      {
       "metadata": {},
       "output_type": "pyout",
       "prompt_number": 41,
       "text": [
        "idx: 1890\tloss: 4.0502243041992\ttrain score: 16.04\tlabel: 38\tprediction: [1]70 [2]84 [3]38 [4]20 [5]69\t\n"
       ]
      },
      {
       "metadata": {},
       "output_type": "pyout",
       "prompt_number": 41,
       "text": [
        "idx: 1895\tloss: 4.06254529953\ttrain score: 13.976666666667\tlabel: 3\tprediction: [1]52 [2]24 [3]19 [4]60 [5]34\t\n"
       ]
      },
      {
       "metadata": {},
       "output_type": "pyout",
       "prompt_number": 41,
       "text": [
        "idx: 1900\tloss: 4.0546083450317\ttrain score: 14.251666666667\tlabel: 4\tprediction: [1]23 [2]31 [3]59 [4]68 [5]79\t\n"
       ]
      },
      {
       "metadata": {},
       "output_type": "pyout",
       "prompt_number": 41,
       "text": [
        "idx: 1905\tloss: 4.0448985099792\ttrain score: 14.966666666667\tlabel: 7\tprediction: [1]48 [2]92 [3]17 [4]32 [5]51\t\n"
       ]
      },
      {
       "metadata": {},
       "output_type": "pyout",
       "prompt_number": 41,
       "text": [
        "idx: 1910\tloss: 4.0674295425415\ttrain score: 16.106666666667\tlabel: 84\tprediction: [1]73 [2]52 [3]19 [4]78 [5]77\t\n"
       ]
      },
      {
       "metadata": {},
       "output_type": "pyout",
       "prompt_number": 41,
       "text": [
        "idx: 1915\tloss: 4.0284729003906\ttrain score: 14.855\tlabel: 8\tprediction: [1]95 [2]40 [3]16 [4]43 [5]41\t\n"
       ]
      },
      {
       "metadata": {},
       "output_type": "pyout",
       "prompt_number": 41,
       "text": [
        "idx: 1920\tloss: 4.0711803436279\ttrain score: 13.458333333333\tlabel: 22\tprediction: [1]33 [2]40 [3]22 [4]78 [5]29\t\n"
       ]
      },
      {
       "metadata": {},
       "output_type": "pyout",
       "prompt_number": 41,
       "text": [
        "idx: 1925\tloss: 4.0343928337097\ttrain score: 16.523333333333\tlabel: 12\tprediction: [1]82 [2]71 [3]26 [4]38 [5]39\t\n"
       ]
      },
      {
       "metadata": {},
       "output_type": "pyout",
       "prompt_number": 41,
       "text": [
        "idx: 1930\tloss: 4.0370888710022\ttrain score: 14.385\tlabel: 58\tprediction: [1]72 [2]61 [3]77 [4]73 [5]32\t\n"
       ]
      },
      {
       "metadata": {},
       "output_type": "pyout",
       "prompt_number": 41,
       "text": [
        "idx: 1935\tloss: 4.0325608253479\ttrain score: 16.155\tlabel: 46\tprediction: [1]89 [2]85 [3]2 [4]55 [5]72\t\n"
       ]
      },
      {
       "metadata": {},
       "output_type": "pyout",
       "prompt_number": 41,
       "text": [
        "idx: 1940\tloss: 4.0744090080261\ttrain score: 14.478333333333\tlabel: 37\tprediction: [1]45 [2]86 [3]26 [4]30 [5]31\t\n"
       ]
      },
      {
       "metadata": {},
       "output_type": "pyout",
       "prompt_number": 41,
       "text": [
        "idx: 1945\tloss: 4.0450859069824\ttrain score: 16.481666666667\tlabel: 67\tprediction: [1]93 [2]81 [3]53 [4]67 [5]66\t\n"
       ]
      },
      {
       "metadata": {},
       "output_type": "pyout",
       "prompt_number": 41,
       "text": [
        "idx: 1950\tloss: 4.0601963996887\ttrain score: 15.22\tlabel: 41\tprediction: [1]49 [2]33 [3]22 [4]70 [5]24\t\n"
       ]
      },
      {
       "metadata": {},
       "output_type": "pyout",
       "prompt_number": 41,
       "text": [
        "idx: 1955\tloss: 4.0491452217102\ttrain score: 15.09\tlabel: 81\tprediction: [1]9 [2]58 [3]36 [4]90 [5]54\t\n"
       ]
      },
      {
       "metadata": {},
       "output_type": "pyout",
       "prompt_number": 41,
       "text": [
        "idx: 1960\tloss: 4.0436682701111\ttrain score: 14.913333333333\tlabel: 30\tprediction: [1]59 [2]30 [3]21 [4]68 [5]63\t\n"
       ]
      },
      {
       "metadata": {},
       "output_type": "pyout",
       "prompt_number": 41,
       "text": [
        "idx: 1965\tloss: 4.0467748641968\ttrain score: 13.831666666667\tlabel: 81\tprediction: [1]44 [2]29 [3]60 [4]77 [5]92\t\n"
       ]
      },
      {
       "metadata": {},
       "output_type": "pyout",
       "prompt_number": 41,
       "text": [
        "idx: 1970\tloss: 4.0418858528137\ttrain score: 15.828333333333\tlabel: 17\tprediction: [1]36 [2]24 [3]17 [4]60 [5]20\t\n"
       ]
      },
      {
       "metadata": {},
       "output_type": "pyout",
       "prompt_number": 41,
       "text": [
        "idx: 1975\tloss: 4.0457668304443\ttrain score: 13.785\tlabel: 90\tprediction: [1]36 [2]38 [3]26 [4]84 [5]100\t\n"
       ]
      },
      {
       "metadata": {},
       "output_type": "pyout",
       "prompt_number": 41,
       "text": [
        "idx: 1980\tloss: 4.0699672698975\ttrain score: 14.281666666667\tlabel: 23\tprediction: [1]68 [2]36 [3]38 [4]44 [5]23\t\n"
       ]
      },
      {
       "metadata": {},
       "output_type": "pyout",
       "prompt_number": 41,
       "text": [
        "idx: 1985\tloss: 4.028703212738\ttrain score: 15.258333333333\tlabel: 77\tprediction: [1]8 [2]92 [3]40 [4]41 [5]15\t\n"
       ]
      },
      {
       "metadata": {},
       "output_type": "pyout",
       "prompt_number": 41,
       "text": [
        "idx: 1990\tloss: 4.0421333312988\ttrain score: 14.44\tlabel: 76\tprediction: [1]62 [2]30 [3]79 [4]64 [5]63\t\n"
       ]
      },
      {
       "metadata": {},
       "output_type": "pyout",
       "prompt_number": 41,
       "text": [
        "idx: 1995\tloss: 4.0240521430969\ttrain score: 16.376666666667\tlabel: 81\tprediction: [1]85 [2]91 [3]93 [4]74 [5]90\t\n"
       ]
      },
      {
       "metadata": {},
       "output_type": "pyout",
       "prompt_number": 41,
       "text": [
        "idx: 2000\tloss: 4.0550527572632\ttrain score: 14.356666666667\tlabel: 83\tprediction: [1]12 [2]45 [3]31 [4]86 [5]37\t\n"
       ]
      },
      {
       "metadata": {},
       "output_type": "pyout",
       "prompt_number": 41,
       "text": [
        "idx: 2005\tloss: 4.0538644790649\ttrain score: 16.16\tlabel: 8\tprediction: [1]73 [2]56 [3]78 [4]77 [5]24\t\n"
       ]
      },
      {
       "metadata": {},
       "output_type": "pyout",
       "prompt_number": 41,
       "text": [
        "idx: 2010\tloss: 4.0248899459839\ttrain score: 13.911666666667\tlabel: 47\tprediction: [1]65 [2]63 [3]31 [4]68 [5]21\t\n"
       ]
      },
      {
       "metadata": {},
       "output_type": "pyout",
       "prompt_number": 41,
       "text": [
        "idx: 2015\tloss: 4.0395994186401\ttrain score: 15.331666666667\tlabel: 50\tprediction: [1]24 [2]73 [3]20 [4]22 [5]14\t\n"
       ]
      },
      {
       "metadata": {},
       "output_type": "pyout",
       "prompt_number": 41,
       "text": [
        "idx: 2020\tloss: 4.0600075721741\ttrain score: 14.518333333333\tlabel: 83\tprediction: [1]26 [2]63 [3]21 [4]44 [5]23\t\n"
       ]
      },
      {
       "metadata": {},
       "output_type": "pyout",
       "prompt_number": 41,
       "text": [
        "idx: 2025\tloss: 4.0433764457703\ttrain score: 14.818333333333\tlabel: 60\tprediction: [1]22 [2]52 [3]34 [4]19 [5]60\t\n"
       ]
      },
      {
       "metadata": {},
       "output_type": "pyout",
       "prompt_number": 41,
       "text": [
        "idx: 2030\tloss: 4.0470104217529\ttrain score: 14.565\tlabel: 62\tprediction: [1]10 [2]63 [3]37 [4]47 [5]21\t\n"
       ]
      },
      {
       "metadata": {},
       "output_type": "pyout",
       "prompt_number": 41,
       "text": [
        "idx: 2035\tloss: 4.0579652786255\ttrain score: 13.435\tlabel: 63\tprediction: [1]62 [2]31 [3]79 [4]68 [5]65\t\n"
       ]
      },
      {
       "metadata": {},
       "output_type": "pyout",
       "prompt_number": 41,
       "text": [
        "idx: 2040\tloss: 4.0394530296326\ttrain score: 15.418333333333\tlabel: 24\tprediction: [1]43 [2]41 [3]49 [4]48 [5]92\t\n"
       ]
      },
      {
       "metadata": {},
       "output_type": "pyout",
       "prompt_number": 41,
       "text": [
        "idx: 2045\tloss: 4.0428795814514\ttrain score: 14.916666666667\tlabel: 99\tprediction: [1]70 [2]84 [3]38 [4]20 [5]69\t\n"
       ]
      },
      {
       "metadata": {},
       "output_type": "pyout",
       "prompt_number": 41,
       "text": [
        "idx: 2050\tloss: 4.0402212142944\ttrain score: 15.08\tlabel: 59\tprediction: [1]39 [2]45 [3]83 [4]82 [5]30\t\n"
       ]
      },
      {
       "metadata": {},
       "output_type": "pyout",
       "prompt_number": 41,
       "text": [
        "idx: 2055\tloss: 4.0328874588013\ttrain score: 13.95\tlabel: 92\tprediction: [1]61 [2]94 [3]44 [4]15 [5]49\t\n"
       ]
      },
      {
       "metadata": {},
       "output_type": "pyout",
       "prompt_number": 41,
       "text": [
        "idx: 2060\tloss: 4.0467467308044\ttrain score: 14.67\tlabel: 65\tprediction: [1]96 [2]26 [3]90 [4]56 [5]91\t\n"
       ]
      },
      {
       "metadata": {},
       "output_type": "pyout",
       "prompt_number": 41,
       "text": [
        "idx: 2065\tloss: 4.0597748756409\ttrain score: 14.68\tlabel: 35\tprediction: [1]33 [2]35 [3]27 [4]1 [5]32\t\n"
       ]
      },
      {
       "metadata": {},
       "output_type": "pyout",
       "prompt_number": 41,
       "text": [
        "idx: 2070\tloss: 4.0351858139038\ttrain score: 15.145\tlabel: 73\tprediction: [1]40 [2]51 [3]84 [4]49 [5]77\t\n"
       ]
      },
      {
       "metadata": {},
       "output_type": "pyout",
       "prompt_number": 41,
       "text": [
        "idx: 2075\tloss: 4.0712957382202\ttrain score: 14.47\tlabel: 47\tprediction: [1]79 [2]47 [3]30 [4]100 [5]83\t\n"
       ]
      },
      {
       "metadata": {},
       "output_type": "pyout",
       "prompt_number": 41,
       "text": [
        "idx: 2080\tloss: 4.0611715316772\ttrain score: 13.503333333333\tlabel: 16\tprediction: [1]52 [2]33 [3]22 [4]73 [5]61\t\n"
       ]
      },
      {
       "metadata": {},
       "output_type": "pyout",
       "prompt_number": 41,
       "text": [
        "idx: 2085\tloss: 4.0611238479614\ttrain score: 14.376666666667\tlabel: 61\tprediction: [1]51 [2]49 [3]77 [4]92 [5]52\t\n"
       ]
      },
      {
       "metadata": {},
       "output_type": "pyout",
       "prompt_number": 41,
       "text": [
        "idx: 2090\tloss: 4.0370264053345\ttrain score: 14.458333333333\tlabel: 17\tprediction: [1]49 [2]48 [3]17 [4]95 [5]52\t\n"
       ]
      },
      {
       "metadata": {},
       "output_type": "pyout",
       "prompt_number": 41,
       "text": [
        "idx: 2095\tloss: 4.055534362793\ttrain score: 15.55\tlabel: 13\tprediction: [1]62 [2]64 [3]82 [4]37 [5]86\t\n"
       ]
      },
      {
       "metadata": {},
       "output_type": "pyout",
       "prompt_number": 41,
       "text": [
        "idx: 2100\tloss: 4.0468149185181\ttrain score: 15.741666666667\tlabel: 53\tprediction: [1]53 [2]88 [3]1 [4]72 [5]35\t\n"
       ]
      },
      {
       "metadata": {},
       "output_type": "pyout",
       "prompt_number": 41,
       "text": [
        "idx: 2105\tloss: 4.0208759307861\ttrain score: 15.39\tlabel: 63\tprediction: [1]37 [2]45 [3]83 [4]26 [5]82\t\n"
       ]
      },
      {
       "metadata": {},
       "output_type": "pyout",
       "prompt_number": 41,
       "text": [
        "idx: 2110\tloss: 4.0456891059875\ttrain score: 14.708333333333\tlabel: 37\tprediction: [1]58 [2]30 [3]63 [4]62 [5]61\t\n"
       ]
      },
      {
       "metadata": {},
       "output_type": "pyout",
       "prompt_number": 41,
       "text": [
        "idx: 2115\tloss: 4.0456261634827\ttrain score: 14.745\tlabel: 96\tprediction: [1]26 [2]56 [3]20 [4]69 [5]22\t\n"
       ]
      },
      {
       "metadata": {},
       "output_type": "pyout",
       "prompt_number": 41,
       "text": [
        "idx: 2120\tloss: 4.0606398582458\ttrain score: 13.92\tlabel: 66\tprediction: [1]85 [2]74 [3]67 [4]66 [5]93\t\n"
       ]
      },
      {
       "metadata": {},
       "output_type": "pyout",
       "prompt_number": 41,
       "text": [
        "idx: 2125\tloss: 4.0513529777527\ttrain score: 15.646666666667\tlabel: 69\tprediction: [1]70 [2]71 [3]56 [4]38 [5]22\t\n"
       ]
      },
      {
       "metadata": {},
       "output_type": "pyout",
       "prompt_number": 41,
       "text": [
        "idx: 2130\tloss: 4.0418119430542\ttrain score: 14.62\tlabel: 81\tprediction: [1]81 [2]45 [3]82 [4]28 [5]93\t\n"
       ]
      },
      {
       "metadata": {},
       "output_type": "pyout",
       "prompt_number": 41,
       "text": [
        "idx: 2135\tloss: 4.0460314750671\ttrain score: 14.03\tlabel: 35\tprediction: [1]93 [2]91 [3]85 [4]45 [5]16\t\n"
       ]
      },
      {
       "metadata": {},
       "output_type": "pyout",
       "prompt_number": 41,
       "text": [
        "idx: 2140\tloss: 4.0579552650452\ttrain score: 13.123333333333\tlabel: 92\tprediction: [1]19 [2]43 [3]12 [4]17 [5]92\t\n"
       ]
      },
      {
       "metadata": {},
       "output_type": "pyout",
       "prompt_number": 41,
       "text": [
        "idx: 2145\tloss: 4.0651683807373\ttrain score: 13.456666666667\tlabel: 58\tprediction: [1]87 [2]30 [3]90 [4]21 [5]45\t\n"
       ]
      },
      {
       "metadata": {},
       "output_type": "pyout",
       "prompt_number": 41,
       "text": [
        "idx: 2150\tloss: 4.0492224693298\ttrain score: 15.226666666667\tlabel: 98\tprediction: [1]60 [2]71 [3]22 [4]26 [5]38\t\n"
       ]
      },
      {
       "metadata": {},
       "output_type": "pyout",
       "prompt_number": 41,
       "text": [
        "idx: 2155\tloss: 4.0658159255981\ttrain score: 14.866666666667\tlabel: 61\tprediction: [1]77 [2]11 [3]35 [4]40 [5]43\t\n"
       ]
      },
      {
       "metadata": {},
       "output_type": "pyout",
       "prompt_number": 41,
       "text": [
        "idx: 2160\tloss: 4.0263047218323\ttrain score: 15.693333333333\tlabel: 60\tprediction: [1]47 [2]69 [3]82 [4]79 [5]74\t\n"
       ]
      },
      {
       "metadata": {},
       "output_type": "pyout",
       "prompt_number": 41,
       "text": [
        "idx: 2165\tloss: 4.0567049980164\ttrain score: 14.26\tlabel: 14\tprediction: [1]49 [2]73 [3]92 [4]48 [5]91\t\n"
       ]
      },
      {
       "metadata": {},
       "output_type": "pyout",
       "prompt_number": 41,
       "text": [
        "idx: 2170\tloss: 4.0453109741211\ttrain score: 14.208333333333\tlabel: 9\tprediction: [1]36 [2]10 [3]82 [4]87 [5]23\t\n"
       ]
      },
      {
       "metadata": {},
       "output_type": "pyout",
       "prompt_number": 41,
       "text": [
        "idx: 2175\tloss: 4.0473446846008\ttrain score: 15.156666666667\tlabel: 8\tprediction: [1]8 [2]41 [3]48 [4]49 [5]61\t\n"
       ]
      },
      {
       "metadata": {},
       "output_type": "pyout",
       "prompt_number": 41,
       "text": [
        "idx: 2180\tloss: 4.0551919937134\ttrain score: 15.65\tlabel: 55\tprediction: [1]89 [2]55 [3]52 [4]2 [5]46\t\n"
       ]
      },
      {
       "metadata": {},
       "output_type": "pyout",
       "prompt_number": 41,
       "text": [
        "idx: 2185\tloss: 4.0612306594849\ttrain score: 15.081666666667\tlabel: 68\tprediction: [1]31 [2]63 [3]13 [4]83 [5]68\t\n"
       ]
      },
      {
       "metadata": {},
       "output_type": "pyout",
       "prompt_number": 41,
       "text": [
        "idx: 2190\tloss: 4.0455031394958\ttrain score: 14.048333333333\tlabel: 68\tprediction: [1]36 [2]37 [3]86 [4]30 [5]31\t\n"
       ]
      },
      {
       "metadata": {},
       "output_type": "pyout",
       "prompt_number": 41,
       "text": [
        "idx: 2195\tloss: 4.0598511695862\ttrain score: 11.79\tlabel: 58\tprediction: [1]45 [2]68 [3]83 [4]82 [5]30\t\n"
       ]
      },
      {
       "metadata": {},
       "output_type": "pyout",
       "prompt_number": 41,
       "text": [
        "idx: 2200\tloss: 4.0545291900635\ttrain score: 15.108333333333\tlabel: 91\tprediction: [1]91 [2]74 [3]33 [4]35 [5]27\t\n"
       ]
      },
      {
       "metadata": {},
       "output_type": "pyout",
       "prompt_number": 41,
       "text": [
        "idx: 2205\tloss: 4.0376996994019\ttrain score: 13.891666666667\tlabel: 72\tprediction: [1]76 [2]78 [3]35 [4]55 [5]72\t\n"
       ]
      },
      {
       "metadata": {},
       "output_type": "pyout",
       "prompt_number": 41,
       "text": [
        "idx: 2210\tloss: 4.0531258583069\ttrain score: 13.618333333333\tlabel: 1\tprediction: [1]18 [2]42 [3]34 [4]27 [5]1\t\n"
       ]
      },
      {
       "metadata": {},
       "output_type": "pyout",
       "prompt_number": 41,
       "text": [
        "idx: 2215\tloss: 4.0572094917297\ttrain score: 15.14\tlabel: 39\tprediction: [1]44 [2]45 [3]30 [4]31 [5]87\t\n"
       ]
      },
      {
       "metadata": {},
       "output_type": "pyout",
       "prompt_number": 41,
       "text": [
        "idx: 2220\tloss: 4.0505328178406\ttrain score: 14.935\tlabel: 85\tprediction: [1]93 [2]81 [3]53 [4]67 [5]66\t\n"
       ]
      },
      {
       "metadata": {},
       "output_type": "pyout",
       "prompt_number": 41,
       "text": [
        "idx: 2225\tloss: 4.055570602417\ttrain score: 14.74\tlabel: 59\tprediction: [1]62 [2]64 [3]37 [4]82 [5]86\t\n"
       ]
      },
      {
       "metadata": {},
       "output_type": "pyout",
       "prompt_number": 41,
       "text": [
        "idx: 2230\tloss: 4.0360736846924\ttrain score: 14.353333333333\tlabel: 69\tprediction: [1]94 [2]90 [3]22 [4]70 [5]19\t\n"
       ]
      },
      {
       "metadata": {},
       "output_type": "pyout",
       "prompt_number": 41,
       "text": [
        "idx: 2235\tloss: 4.0762844085693\ttrain score: 14.4\tlabel: 91\tprediction: [1]12 [2]62 [3]21 [4]30 [5]31\t\n"
       ]
      },
      {
       "metadata": {},
       "output_type": "pyout",
       "prompt_number": 41,
       "text": [
        "idx: 2240\tloss: 4.0681986808777\ttrain score: 14.003333333333\tlabel: 24\tprediction: [1]41 [2]40 [3]16 [4]48 [5]43\t\n"
       ]
      },
      {
       "metadata": {},
       "output_type": "pyout",
       "prompt_number": 41,
       "text": [
        "idx: 2245\tloss: 4.0310254096985\ttrain score: 13.29\tlabel: 48\tprediction: [1]44 [2]83 [3]82 [4]100 [5]31\t\n"
       ]
      },
      {
       "metadata": {},
       "output_type": "pyout",
       "prompt_number": 41,
       "text": [
        "idx: 2250\tloss: 4.0419344902039\ttrain score: 14.25\tlabel: 12\tprediction: [1]68 [2]44 [3]82 [4]26 [5]30\t\n"
       ]
      },
      {
       "metadata": {},
       "output_type": "pyout",
       "prompt_number": 41,
       "text": [
        "idx: 2255\tloss: 4.0580854415894\ttrain score: 15.311666666667\tlabel: 4\tprediction: [1]91 [2]31 [3]63 [4]93 [5]64\t\n"
       ]
      },
      {
       "metadata": {},
       "output_type": "pyout",
       "prompt_number": 41,
       "text": [
        "idx: 2260\tloss: 4.0692248344421\ttrain score: 14.378333333333\tlabel: 58\tprediction: [1]13 [2]30 [3]21 [4]31 [5]82\t\n"
       ]
      },
      {
       "metadata": {},
       "output_type": "pyout",
       "prompt_number": 41,
       "text": [
        "idx: 2265\tloss: 4.0393056869507\ttrain score: 15.04\tlabel: 43\tprediction: [1]49 [2]42 [3]56 [4]52 [5]51\t\n"
       ]
      },
      {
       "metadata": {},
       "output_type": "pyout",
       "prompt_number": 41,
       "text": [
        "idx: 2270\tloss: 4.0454287528992\ttrain score: 15.73\tlabel: 77\tprediction: [1]34 [2]48 [3]24 [4]52 [5]51\t\n"
       ]
      },
      {
       "metadata": {},
       "output_type": "pyout",
       "prompt_number": 41,
       "text": [
        "idx: 2275\tloss: 4.024806022644\ttrain score: 16.151666666667\tlabel: 14\tprediction: [1]29 [2]33 [3]51 [4]49 [5]48\t\n"
       ]
      },
      {
       "metadata": {},
       "output_type": "pyout",
       "prompt_number": 41,
       "text": [
        "idx: 2280\tloss: 4.0583529472351\ttrain score: 13.008333333333\tlabel: 95\tprediction: [1]15 [2]77 [3]51 [4]49 [5]48\t\n"
       ]
      },
      {
       "metadata": {},
       "output_type": "pyout",
       "prompt_number": 41,
       "text": [
        "idx: 2285\tloss: 4.0386691093445\ttrain score: 14.65\tlabel: 46\tprediction: [1]89 [2]85 [3]2 [4]55 [5]72\t\n"
       ]
      },
      {
       "metadata": {},
       "output_type": "pyout",
       "prompt_number": 41,
       "text": [
        "idx: 2290\tloss: 4.0513792037964\ttrain score: 15.24\tlabel: 35\tprediction: [1]64 [2]76 [3]74 [4]79 [5]27\t\n"
       ]
      },
      {
       "metadata": {},
       "output_type": "pyout",
       "prompt_number": 41,
       "text": [
        "idx: 2295\tloss: 4.0469799041748\ttrain score: 15.92\tlabel: 10\tprediction: [1]12 [2]38 [3]70 [4]26 [5]18\t\n"
       ]
      },
      {
       "metadata": {},
       "output_type": "pyout",
       "prompt_number": 41,
       "text": [
        "idx: 2300\tloss: 4.0730018615723\ttrain score: 13.418333333333\tlabel: 83\tprediction: [1]100 [2]31 [3]86 [4]85 [5]83\t\n"
       ]
      },
      {
       "metadata": {},
       "output_type": "pyout",
       "prompt_number": 41,
       "text": [
        "idx: 2305\tloss: 4.0407891273499\ttrain score: 13.515\tlabel: 71\tprediction: [1]33 [2]51 [3]73 [4]29 [5]61\t\n"
       ]
      },
      {
       "metadata": {},
       "output_type": "pyout",
       "prompt_number": 41,
       "text": [
        "idx: 2310\tloss: 4.0324511528015\ttrain score: 15.098333333333\tlabel: 84\tprediction: [1]18 [2]71 [3]42 [4]85 [5]84\t\n"
       ]
      },
      {
       "metadata": {},
       "output_type": "pyout",
       "prompt_number": 41,
       "text": [
        "idx: 2315\tloss: 4.0488471984863\ttrain score: 15.033333333333\tlabel: 27\tprediction: [1]11 [2]96 [3]56 [4]5 [5]50\t\n"
       ]
      },
      {
       "metadata": {},
       "output_type": "pyout",
       "prompt_number": 41,
       "text": [
        "idx: 2320\tloss: 4.0507688522339\ttrain score: 14.678333333333\tlabel: 27\tprediction: [1]94 [2]77 [3]17 [4]33 [5]59\t\n"
       ]
      },
      {
       "metadata": {},
       "output_type": "pyout",
       "prompt_number": 41,
       "text": [
        "idx: 2325\tloss: 4.0429391860962\ttrain score: 15.198333333333\tlabel: 2\tprediction: [1]89 [2]85 [3]2 [4]55 [5]72\t\n"
       ]
      },
      {
       "metadata": {},
       "output_type": "pyout",
       "prompt_number": 41,
       "text": [
        "idx: 2330\tloss: 4.0233497619629\ttrain score: 14.423333333333\tlabel: 93\tprediction: [1]85 [2]91 [3]93 [4]74 [5]90\t\n"
       ]
      },
      {
       "metadata": {},
       "output_type": "pyout",
       "prompt_number": 41,
       "text": [
        "idx: 2335\tloss: 4.0532097816467\ttrain score: 15.461666666667\tlabel: 76\tprediction: [1]39 [2]76 [3]23 [4]86 [5]83\t\n"
       ]
      },
      {
       "metadata": {},
       "output_type": "pyout",
       "prompt_number": 41,
       "text": [
        "idx: 2340\tloss: 4.0267200469971\ttrain score: 15.361666666667\tlabel: 60\tprediction: [1]60 [2]24 [3]77 [4]72 [5]20\t\n"
       ]
      },
      {
       "metadata": {},
       "output_type": "pyout",
       "prompt_number": 41,
       "text": [
        "idx: 2345\tloss: 4.0412249565125\ttrain score: 15.601666666667\tlabel: 36\tprediction: [1]36 [2]9 [3]100 [4]65 [5]87\t\n"
       ]
      },
      {
       "metadata": {},
       "output_type": "pyout",
       "prompt_number": 41,
       "text": [
        "idx: 2350\tloss: 4.0468864440918\ttrain score: 15.903333333333\tlabel: 6\tprediction: [1]79 [2]36 [3]86 [4]26 [5]83\t\n"
       ]
      },
      {
       "metadata": {},
       "output_type": "pyout",
       "prompt_number": 41,
       "text": [
        "idx: 2355\tloss: 4.0536437034607\ttrain score: 14.098333333333\tlabel: 27\tprediction: [1]60 [2]24 [3]77 [4]72 [5]20\t\n"
       ]
      },
      {
       "metadata": {},
       "output_type": "pyout",
       "prompt_number": 41,
       "text": [
        "idx: 2360\tloss: 4.0389537811279\ttrain score: 13.973333333333\tlabel: 48\tprediction: [1]40 [2]8 [3]14 [4]29 [5]33\t\n"
       ]
      },
      {
       "metadata": {},
       "output_type": "pyout",
       "prompt_number": 41,
       "text": [
        "idx: 2365\tloss: 4.0417957305908\ttrain score: 15.745\tlabel: 82\tprediction: [1]68 [2]100 [3]83 [4]82 [5]23\t\n"
       ]
      },
      {
       "metadata": {},
       "output_type": "pyout",
       "prompt_number": 41,
       "text": [
        "idx: 2370\tloss: 4.0287199020386\ttrain score: 14.743333333333\tlabel: 31\tprediction: [1]37 [2]21 [3]44 [4]79 [5]39\t\n"
       ]
      },
      {
       "metadata": {},
       "output_type": "pyout",
       "prompt_number": 41,
       "text": [
        "idx: 2375\tloss: 4.0605597496033\ttrain score: 15.475\tlabel: 67\tprediction: [1]53 [2]88 [3]1 [4]72 [5]35\t\n"
       ]
      },
      {
       "metadata": {},
       "output_type": "pyout",
       "prompt_number": 41,
       "text": [
        "idx: 2380\tloss: 4.0398111343384\ttrain score: 15.401666666667\tlabel: 26\tprediction: [1]33 [2]60 [3]24 [4]74 [5]73\t\n"
       ]
      },
      {
       "metadata": {},
       "output_type": "pyout",
       "prompt_number": 41,
       "text": [
        "idx: 2385\tloss: 4.0419569015503\ttrain score: 15.218333333333\tlabel: 58\tprediction: [1]31 [2]61 [3]79 [4]68 [5]63\t\n"
       ]
      },
      {
       "metadata": {},
       "output_type": "pyout",
       "prompt_number": 41,
       "text": [
        "idx: 2390\tloss: 4.0556545257568\ttrain score: 12.873333333333\tlabel: 1\tprediction: [1]18 [2]42 [3]34 [4]27 [5]1\t\n"
       ]
      },
      {
       "metadata": {},
       "output_type": "pyout",
       "prompt_number": 41,
       "text": [
        "idx: 2395\tloss: 4.0729207992554\ttrain score: 13.763333333333\tlabel: 89\tprediction: [1]89 [2]85 [3]2 [4]55 [5]72\t\n"
       ]
      },
      {
       "metadata": {},
       "output_type": "pyout",
       "prompt_number": 41,
       "text": [
        "idx: 2400\tloss: 4.0456628799438\ttrain score: 15.385\tlabel: 7\tprediction: [1]43 [2]24 [3]16 [4]44 [5]95\t\n"
       ]
      },
      {
       "metadata": {},
       "output_type": "pyout",
       "prompt_number": 41,
       "text": [
        "idx: 2405\tloss: 4.0539889335632\ttrain score: 15.45\tlabel: 92\tprediction: [1]34 [2]95 [3]92 [4]19 [5]49\t\n"
       ]
      },
      {
       "metadata": {},
       "output_type": "pyout",
       "prompt_number": 41,
       "text": [
        "idx: 2410\tloss: 4.0528059005737\ttrain score: 15.471666666667\tlabel: 22\tprediction: [1]70 [2]74 [3]24 [4]32 [5]38\t\n"
       ]
      },
      {
       "metadata": {},
       "output_type": "pyout",
       "prompt_number": 41,
       "text": [
        "idx: 2415\tloss: 4.0584917068481\ttrain score: 15.401666666667\tlabel: 7\tprediction: [1]34 [2]52 [3]92 [4]78 [5]73\t\n"
       ]
      },
      {
       "metadata": {},
       "output_type": "pyout",
       "prompt_number": 41,
       "text": [
        "idx: 2420\tloss: 4.0619549751282\ttrain score: 14.413333333333\tlabel: 89\tprediction: [1]89 [2]85 [3]2 [4]55 [5]72\t\n"
       ]
      },
      {
       "metadata": {},
       "output_type": "pyout",
       "prompt_number": 41,
       "text": [
        "idx: 2425\tloss: 4.0658144950867\ttrain score: 14.298333333333\tlabel: 17\tprediction: [1]51 [2]26 [3]19 [4]20 [5]60\t\n"
       ]
      },
      {
       "metadata": {},
       "output_type": "pyout",
       "prompt_number": 41,
       "text": [
        "idx: 2430\tloss: 4.0388731956482\ttrain score: 15.336666666667\tlabel: 62\tprediction: [1]58 [2]47 [3]83 [4]82 [5]31\t\n"
       ]
      },
      {
       "metadata": {},
       "output_type": "pyout",
       "prompt_number": 41,
       "text": [
        "idx: 2435\tloss: 4.0319499969482\ttrain score: 17.125\tlabel: 84\tprediction: [1]20 [2]19 [3]42 [4]73 [5]100\t\n"
       ]
      },
      {
       "metadata": {},
       "output_type": "pyout",
       "prompt_number": 41,
       "text": [
        "idx: 2440\tloss: 4.061252117157\ttrain score: 15.523333333333\tlabel: 47\tprediction: [1]91 [2]100 [3]47 [4]59 [5]68\t\n"
       ]
      },
      {
       "metadata": {},
       "output_type": "pyout",
       "prompt_number": 41,
       "text": [
        "idx: 2445\tloss: 4.0449957847595\ttrain score: 15.163333333333\tlabel: 78\tprediction: [1]14 [2]17 [3]78 [4]50 [5]43\t\n"
       ]
      },
      {
       "metadata": {},
       "output_type": "pyout",
       "prompt_number": 41,
       "text": [
        "idx: 2450\tloss: 4.0399327278137\ttrain score: 15.846666666667\tlabel: 57\tprediction: [1]20 [2]56 [3]69 [4]42 [5]70\t\n"
       ]
      },
      {
       "metadata": {},
       "output_type": "pyout",
       "prompt_number": 41,
       "text": [
        "idx: 2455\tloss: 4.0602512359619\ttrain score: 14.513333333333\tlabel: 91\tprediction: [1]38 [2]26 [3]13 [4]10 [5]90\t\n"
       ]
      },
      {
       "metadata": {},
       "output_type": "pyout",
       "prompt_number": 41,
       "text": [
        "idx: 2460\tloss: 4.0397176742554\ttrain score: 16.348333333333\tlabel: 81\tprediction: [1]30 [2]37 [3]83 [4]82 [5]28\t\n"
       ]
      },
      {
       "metadata": {},
       "output_type": "pyout",
       "prompt_number": 41,
       "text": [
        "idx: 2465\tloss: 4.0320286750793\ttrain score: 15.688333333333\tlabel: 19\tprediction: [1]29 [2]49 [3]20 [4]69 [5]22\t\n"
       ]
      },
      {
       "metadata": {},
       "output_type": "pyout",
       "prompt_number": 41,
       "text": [
        "idx: 2470\tloss: 4.063494682312\ttrain score: 14.761666666667\tlabel: 42\tprediction: [1]34 [2]84 [3]20 [4]42 [5]18\t\n"
       ]
      },
      {
       "metadata": {},
       "output_type": "pyout",
       "prompt_number": 41,
       "text": [
        "idx: 2475\tloss: 4.0527820587158\ttrain score: 13.556666666667\tlabel: 17\tprediction: [1]24 [2]49 [3]50 [4]19 [5]22\t\n"
       ]
      },
      {
       "metadata": {},
       "output_type": "pyout",
       "prompt_number": 41,
       "text": [
        "idx: 2480\tloss: 4.0403828620911\ttrain score: 14.56\tlabel: 51\tprediction: [1]43 [2]60 [3]29 [4]17 [5]33\t\n"
       ]
      },
      {
       "metadata": {},
       "output_type": "pyout",
       "prompt_number": 41,
       "text": [
        "idx: 2485\tloss: 4.0359582901001\ttrain score: 13.955\tlabel: 94\tprediction: [1]65 [2]82 [3]37 [4]39 [5]36\t\n"
       ]
      },
      {
       "metadata": {},
       "output_type": "pyout",
       "prompt_number": 41,
       "text": [
        "idx: 2490\tloss: 4.0482602119446\ttrain score: 14.25\tlabel: 31\tprediction: [1]68 [2]39 [3]21 [4]44 [5]87\t\n"
       ]
      },
      {
       "metadata": {},
       "output_type": "pyout",
       "prompt_number": 41,
       "text": [
        "idx: 2495\tloss: 4.046600818634\ttrain score: 17.115\tlabel: 33\tprediction: [1]36 [2]41 [3]78 [4]77 [5]29\t\n"
       ]
      },
      {
       "metadata": {},
       "output_type": "pyout",
       "prompt_number": 41,
       "text": [
        "idx: 2500\tloss: 4.0527124404907\ttrain score: 15.555\tlabel: 65\tprediction: [1]82 [2]45 [3]87 [4]58 [5]85\t\n"
       ]
      },
      {
       "metadata": {},
       "output_type": "pyout",
       "prompt_number": 41,
       "text": [
        "idx: 2505\tloss: 4.0560255050659\ttrain score: 15.421666666667\tlabel: 92\tprediction: [1]48 [2]15 [3]77 [4]33 [5]40\t\n"
       ]
      },
      {
       "metadata": {},
       "output_type": "pyout",
       "prompt_number": 41,
       "text": [
        "idx: 2510\tloss: 4.0208654403687\ttrain score: 14.863333333333\tlabel: 93\tprediction: [1]21 [2]37 [3]93 [4]45 [5]79\t\n"
       ]
      },
      {
       "metadata": {},
       "output_type": "pyout",
       "prompt_number": 41,
       "text": [
        "idx: 2515\tloss: 4.0404000282288\ttrain score: 15.208333333333\tlabel: 30\tprediction: [1]74 [2]79 [3]54 [4]59 [5]63\t\n"
       ]
      },
      {
       "metadata": {},
       "output_type": "pyout",
       "prompt_number": 41,
       "text": [
        "idx: 2520\tloss: 4.0224165916443\ttrain score: 14.161666666667\tlabel: 82\tprediction: [1]76 [2]13 [3]83 [4]23 [5]100\t\n"
       ]
      },
      {
       "metadata": {},
       "output_type": "pyout",
       "prompt_number": 41,
       "text": [
        "idx: 2525\tloss: 4.0607481002808\ttrain score: 14.64\tlabel: 15\tprediction: [1]43 [2]95 [3]91 [4]17 [5]16\t\n"
       ]
      },
      {
       "metadata": {},
       "output_type": "pyout",
       "prompt_number": 41,
       "text": [
        "idx: 2530\tloss: 4.0357456207275\ttrain score: 15.518333333333\tlabel: 70\tprediction: [1]70 [2]69 [3]50 [4]24 [5]90\t\n"
       ]
      },
      {
       "metadata": {},
       "output_type": "pyout",
       "prompt_number": 41,
       "text": [
        "idx: 2535\tloss: 4.0457720756531\ttrain score: 14.538333333333\tlabel: 56\tprediction: [1]38 [2]70 [3]42 [4]56 [5]69\t\n"
       ]
      },
      {
       "metadata": {},
       "output_type": "pyout",
       "prompt_number": 41,
       "text": [
        "idx: 2540\tloss: 4.0336728096008\ttrain score: 14.598333333333\tlabel: 32\tprediction: [1]49 [2]42 [3]56 [4]52 [5]51\t\n"
       ]
      },
      {
       "metadata": {},
       "output_type": "pyout",
       "prompt_number": 41,
       "text": [
        "idx: 2545\tloss: 4.0434346199036\ttrain score: 13.785\tlabel: 8\tprediction: [1]12 [2]41 [3]33 [4]36 [5]77\t\n"
       ]
      },
      {
       "metadata": {},
       "output_type": "pyout",
       "prompt_number": 41,
       "text": [
        "idx: 2550\tloss: 4.0708541870117\ttrain score: 14.486666666667\tlabel: 89\tprediction: [1]89 [2]85 [3]2 [4]55 [5]72\t\n"
       ]
      },
      {
       "metadata": {},
       "output_type": "pyout",
       "prompt_number": 41,
       "text": [
        "idx: 2555\tloss: 4.0541443824768\ttrain score: 15.475\tlabel: 87\tprediction: [1]70 [2]84 [3]38 [4]20 [5]69\t\n"
       ]
      },
      {
       "metadata": {},
       "output_type": "pyout",
       "prompt_number": 41,
       "text": [
        "idx: 2560\tloss: 4.054557800293\ttrain score: 13.97\tlabel: 51\tprediction: [1]40 [2]41 [3]84 [4]29 [5]77\t\n"
       ]
      },
      {
       "metadata": {},
       "output_type": "pyout",
       "prompt_number": 41,
       "text": [
        "idx: 2565\tloss: 4.0581822395325\ttrain score: 14.151666666667\tlabel: 65\tprediction: [1]13 [2]87 [3]74 [4]35 [5]67\t\n"
       ]
      },
      {
       "metadata": {},
       "output_type": "pyout",
       "prompt_number": 41,
       "text": [
        "idx: 2570\tloss: 4.0502161979675\ttrain score: 13.661666666667\tlabel: 64\tprediction: [1]32 [2]61 [3]64 [4]13 [5]63\t\n"
       ]
      },
      {
       "metadata": {},
       "output_type": "pyout",
       "prompt_number": 41,
       "text": [
        "idx: 2575\tloss: 4.0483679771423\ttrain score: 15.63\tlabel: 63\tprediction: [1]62 [2]64 [3]37 [4]82 [5]86\t\n"
       ]
      },
      {
       "metadata": {},
       "output_type": "pyout",
       "prompt_number": 41,
       "text": [
        "idx: 2580\tloss: 4.0539488792419\ttrain score: 15.686666666667\tlabel: 92\tprediction: [1]69 [2]52 [3]24 [4]78 [5]77\t\n"
       ]
      },
      {
       "metadata": {},
       "output_type": "pyout",
       "prompt_number": 41,
       "text": [
        "idx: 2585\tloss: 4.0340919494629\t"
       ]
      },
      {
       "metadata": {},
       "output_type": "pyout",
       "prompt_number": 41,
       "text": [
        "train score: 13.74\tlabel: 56\tprediction: [1]20 [2]57 [3]69 [4]42 [5]70\t\n"
       ]
      },
      {
       "metadata": {},
       "output_type": "pyout",
       "prompt_number": 41,
       "text": [
        "idx: 2590\tloss: 4.0537190437317\ttrain score: 14.645\tlabel: 99\tprediction: [1]74 [2]12 [3]70 [4]22 [5]65\t\n"
       ]
      },
      {
       "metadata": {},
       "output_type": "pyout",
       "prompt_number": 41,
       "text": [
        "idx: 2595\tloss: 4.0581336021423\ttrain score: 14.113333333333\tlabel: 59\tprediction: [1]60 [2]39 [3]30 [4]86 [5]83\t\n"
       ]
      },
      {
       "metadata": {},
       "output_type": "pyout",
       "prompt_number": 41,
       "text": [
        "idx: 2600\t"
       ]
      },
      {
       "metadata": {},
       "output_type": "pyout",
       "prompt_number": 41,
       "text": [
        "loss: 4.0576124191284\ttrain score: 14.841666666667\tlabel: 14\tprediction: [1]52 [2]51 [3]22 [4]24 [5]26\t\n"
       ]
      },
      {
       "metadata": {},
       "output_type": "pyout",
       "prompt_number": 41,
       "text": [
        "idx: 2605\tloss: 4.0444083213806\ttrain score: 14.471666666667\tlabel: 77\tprediction: [1]61 [2]43 [3]48 [4]95 [5]16\t\n"
       ]
      },
      {
       "metadata": {},
       "output_type": "pyout",
       "prompt_number": 41,
       "text": [
        "idx: 2610\tloss: 4.0510511398315\ttrain score: 15.853333333333\tlabel: 99\tprediction: [1]26 [2]63 [3]38 [4]16 [5]94\t\n"
       ]
      },
      {
       "metadata": {},
       "output_type": "pyout",
       "prompt_number": 41,
       "text": [
        "idx: 2615\tloss: 4.047315120697\ttrain score: 15.261666666667\tlabel: 77\tprediction: [1]85 [2]91 [3]93 [4]74 [5]90\t\n"
       ]
      },
      {
       "metadata": {},
       "output_type": "pyout",
       "prompt_number": 41,
       "text": [
        "idx: 2620\tloss: 4.0422201156616\ttrain score: 14.42\tlabel: 54\tprediction: [1]31 [2]63 [3]82 [4]21 [5]79\t\n"
       ]
      },
      {
       "metadata": {},
       "output_type": "pyout",
       "prompt_number": 41,
       "text": [
        "idx: 2625\tloss: 4.0292859077454\ttrain score: 14.24\tlabel: 12\tprediction: [1]51 [2]44 [3]16 [4]62 [5]52\t\n"
       ]
      },
      {
       "metadata": {},
       "output_type": "pyout",
       "prompt_number": 41,
       "text": [
        "idx: 2630\tloss: 4.0486726760864\ttrain score: 13.783333333333\tlabel: 57\tprediction: [1]42 [2]71 [3]20 [4]22 [5]69\t\n"
       ]
      },
      {
       "metadata": {},
       "output_type": "pyout",
       "prompt_number": 41,
       "text": [
        "idx: 2635\tloss: 4.0534429550171\ttrain score: 14.405\tlabel: 64\tprediction: [1]58 [2]45 [3]83 [4]82 [5]30\t\n"
       ]
      },
      {
       "metadata": {},
       "output_type": "pyout",
       "prompt_number": 41,
       "text": [
        "idx: 2640\tloss: 4.0331501960754\ttrain score: 15.651666666667\tlabel: 43\tprediction: [1]14 [2]19 [3]41 [4]43 [5]48\t\n"
       ]
      },
      {
       "metadata": {},
       "output_type": "pyout",
       "prompt_number": 41,
       "text": [
        "idx: 2645\tloss: 4.0491895675659\ttrain score: 15.106666666667\tlabel: 33\tprediction: [1]21 [2]51 [3]29 [4]8 [5]14\t\n"
       ]
      },
      {
       "metadata": {},
       "output_type": "pyout",
       "prompt_number": 41,
       "text": [
        "idx: 2650\tloss: 4.0642251968384\ttrain score: 15.026666666667\tlabel: 65\tprediction: [1]62 [2]64 [3]82 [4]37 [5]86\t\n"
       ]
      },
      {
       "metadata": {},
       "output_type": "pyout",
       "prompt_number": 41,
       "text": [
        "idx: 2655\tloss: 4.0385904312134\ttrain score: 15.895\tlabel: 36\tprediction: [1]37 [2]82 [3]30 [4]13 [5]31\t\n"
       ]
      },
      {
       "metadata": {},
       "output_type": "pyout",
       "prompt_number": 41,
       "text": [
        "idx: 2660\tloss: 4.0354676246643\ttrain score: 15.903333333333\tlabel: 87\tprediction: [1]36 [2]44 [3]23 [4]86 [5]83\t\n"
       ]
      },
      {
       "metadata": {},
       "output_type": "pyout",
       "prompt_number": 41,
       "text": [
        "idx: 2665\tloss: 4.0395421981812\ttrain score: 16.175\tlabel: 97\tprediction: [1]66 [2]76 [3]88 [4]74 [5]18\t\n"
       ]
      },
      {
       "metadata": {},
       "output_type": "pyout",
       "prompt_number": 41,
       "text": [
        "idx: 2670\tloss: 4.0459551811218\ttrain score: 15.775\tlabel: 12\tprediction: [1]51 [2]29 [3]69 [4]60 [5]24\t\n"
       ]
      },
      {
       "metadata": {},
       "output_type": "pyout",
       "prompt_number": 41,
       "text": [
        "idx: 2675\tloss: 4.0632810592651\ttrain score: 12.92\tlabel: 74\tprediction: [1]39 [2]76 [3]26 [4]30 [5]83\t\n"
       ]
      },
      {
       "metadata": {},
       "output_type": "pyout",
       "prompt_number": 41,
       "text": [
        "idx: 2680\tloss: 4.0465974807739\ttrain score: 15.518333333333\tlabel: 37\tprediction: [1]79 [2]47 [3]30 [4]100 [5]83\t\n"
       ]
      },
      {
       "metadata": {},
       "output_type": "pyout",
       "prompt_number": 41,
       "text": [
        "idx: 2685\tloss: 4.0606918334961\ttrain score: 14.708333333333\tlabel: 72\tprediction: [1]19 [2]52 [3]41 [4]17 [5]72\t\n"
       ]
      },
      {
       "metadata": {},
       "output_type": "pyout",
       "prompt_number": 41,
       "text": [
        "idx: 2690\tloss: 4.0474462509155\ttrain score: 16.01\tlabel: 100\tprediction: [1]38 [2]39 [3]30 [4]31 [5]79\t\n"
       ]
      },
      {
       "metadata": {},
       "output_type": "pyout",
       "prompt_number": 41,
       "text": [
        "idx: 2695\tloss: 4.0702714920044\ttrain score: 13.678333333333\tlabel: 67\tprediction: [1]53 [2]88 [3]1 [4]72 [5]35\t\n"
       ]
      },
      {
       "metadata": {},
       "output_type": "pyout",
       "prompt_number": 41,
       "text": [
        "idx: 2700\tloss: 4.0456833839417\ttrain score: 15.598333333333\tlabel: 71\tprediction: [1]78 [2]76 [3]71 [4]70 [5]69\t\n"
       ]
      },
      {
       "metadata": {},
       "output_type": "pyout",
       "prompt_number": 41,
       "text": [
        "idx: 2705\tloss: 4.0417900085449\ttrain score: 15.758333333333\tlabel: 42\tprediction: [1]70 [2]69 [3]20 [4]22 [5]71\t\n"
       ]
      },
      {
       "metadata": {},
       "output_type": "pyout",
       "prompt_number": 41,
       "text": [
        "idx: 2710\tloss: 4.0223612785339\ttrain score: 14.825\tlabel: 53\tprediction: [1]88 [2]53 [3]66 [4]67 [5]81\t\n"
       ]
      },
      {
       "metadata": {},
       "output_type": "pyout",
       "prompt_number": 41,
       "text": [
        "idx: 2715\tloss: 4.0630350112915\ttrain score: 15.076666666667\tlabel: 86\tprediction: [1]38 [2]39 [3]83 [4]30 [5]31\t\n"
       ]
      },
      {
       "metadata": {},
       "output_type": "pyout",
       "prompt_number": 41,
       "text": [
        "idx: 2720\tloss: 4.0544543266296\ttrain score: 14.843333333333\tlabel: 29\tprediction: [1]48 [2]44 [3]58 [4]95 [5]51\t\n"
       ]
      },
      {
       "metadata": {},
       "output_type": "pyout",
       "prompt_number": 41,
       "text": [
        "idx: 2725\tloss: 4.0502796173096\ttrain score: 15.2\tlabel: 26\tprediction: [1]63 [2]79 [3]86 [4]91 [5]68\t\n"
       ]
      },
      {
       "metadata": {},
       "output_type": "pyout",
       "prompt_number": 41,
       "text": [
        "idx: 2730\tloss: 4.0453524589539\ttrain score: 14.076666666667\tlabel: 11\tprediction: [1]73 [2]76 [3]38 [4]41 [5]48\t\n"
       ]
      },
      {
       "metadata": {},
       "output_type": "pyout",
       "prompt_number": 41,
       "text": [
        "idx: 2735\tloss: 4.0583629608154\ttrain score: 14.336666666667\tlabel: 22\tprediction: [1]20 [2]22 [3]73 [4]42 [5]19\t\n"
       ]
      },
      {
       "metadata": {},
       "output_type": "pyout",
       "prompt_number": 41,
       "text": [
        "idx: 2740\tloss: 4.0381598472595\ttrain score: 14.106666666667\tlabel: 14\tprediction: [1]92 [2]14 [3]33 [4]49 [5]95\t\n"
       ]
      },
      {
       "metadata": {},
       "output_type": "pyout",
       "prompt_number": 41,
       "text": [
        "idx: 2745\tloss: 4.0363063812256\ttrain score: 14.658333333333\tlabel: 65\tprediction: [1]12 [2]47 [3]38 [4]26 [5]71\t\n"
       ]
      },
      {
       "metadata": {},
       "output_type": "pyout",
       "prompt_number": 41,
       "text": [
        "idx: 2750\tloss: 4.0506634712219\ttrain score: 13.605\tlabel: 88\tprediction: [1]53 [2]88 [3]1 [4]72 [5]35\t\n"
       ]
      },
      {
       "metadata": {},
       "output_type": "pyout",
       "prompt_number": 41,
       "text": [
        "idx: 2755\tloss: 4.0555505752563\ttrain score: 14.438333333333\tlabel: 4\tprediction: [1]36 [2]79 [3]23 [4]86 [5]26\t\n"
       ]
      },
      {
       "metadata": {},
       "output_type": "pyout",
       "prompt_number": 41,
       "text": [
        "idx: 2760\tloss: 4.0539770126343\ttrain score: 14.886666666667\tlabel: 70\tprediction: [1]26 [2]51 [3]69 [4]22 [5]61\t\n"
       ]
      },
      {
       "metadata": {},
       "output_type": "pyout",
       "prompt_number": 41,
       "text": [
        "idx: 2765\tloss: 4.0592732429504\ttrain score: 14.621666666667\tlabel: 55\tprediction: [1]89 [2]85 [3]2 [4]55 [5]72\t\n"
       ]
      },
      {
       "metadata": {},
       "output_type": "pyout",
       "prompt_number": 41,
       "text": [
        "idx: 2770\tloss: 4.0386724472046\ttrain score: 15.128333333333\tlabel: 97\tprediction: [1]85 [2]74 [3]35 [4]41 [5]18\t\n"
       ]
      },
      {
       "metadata": {},
       "output_type": "pyout",
       "prompt_number": 41,
       "text": [
        "idx: 2775\tloss: 4.0262017250061\ttrain score: 14.62\tlabel: 9\t"
       ]
      },
      {
       "metadata": {},
       "output_type": "pyout",
       "prompt_number": 41,
       "text": [
        "prediction: [1]44 [2]31 [3]59 [4]87 [5]23\t\n"
       ]
      },
      {
       "metadata": {},
       "output_type": "pyout",
       "prompt_number": 41,
       "text": [
        "idx: 2780\tloss: 4.0502038002014\ttrain score: 14.913333333333\tlabel: 50\tprediction: [1]49 [2]43 [3]19 [4]52 [5]51\t\n"
       ]
      },
      {
       "metadata": {},
       "output_type": "pyout",
       "prompt_number": 41,
       "text": [
        "idx: 2785\tloss: 4.0904722213745\ttrain score: 14.878333333333\tlabel: 75\tprediction: [1]75 [2]25 [3]80 [4]69 [5]67\t\n"
       ]
      },
      {
       "metadata": {},
       "output_type": "pyout",
       "prompt_number": 41,
       "text": [
        "idx: 2790\tloss: 4.0404462814331\ttrain score: 14.231666666667\tlabel: 5\tprediction: [1]31 [2]65 [3]13 [4]82 [5]81\t\n"
       ]
      },
      {
       "metadata": {},
       "output_type": "pyout",
       "prompt_number": 41,
       "text": [
        "idx: 2795\tloss: 4.0527839660645\ttrain score: 16.145\tlabel: 19\tprediction: [1]59 [2]60 [3]29 [4]30 [5]38\t\n"
       ]
      },
      {
       "metadata": {},
       "output_type": "pyout",
       "prompt_number": 41,
       "text": [
        "idx: 2800\tloss: 4.0304298400879\ttrain score: 14.488333333333\tlabel: 18\tprediction: [1]38 [2]71 [3]18 [4]40 [5]73\t\n"
       ]
      },
      {
       "metadata": {},
       "output_type": "pyout",
       "prompt_number": 41,
       "text": [
        "idx: 2805\tloss: 4.0463285446167\ttrain score: 14.176666666667\tlabel: 1\tprediction: [1]1 [2]74 [3]35 [4]18 [5]97\t\n"
       ]
      },
      {
       "metadata": {},
       "output_type": "pyout",
       "prompt_number": 41,
       "text": [
        "idx: 2810\tloss: 4.0360631942749\ttrain score: 15.583333333333\tlabel: 94\tprediction: [1]40 [2]41 [3]92 [4]91 [5]33\t\n"
       ]
      },
      {
       "metadata": {},
       "output_type": "pyout",
       "prompt_number": 41,
       "text": [
        "idx: 2815\tloss: 4.0416221618652\ttrain score: 13.803333333333\tlabel: 82\tprediction: [1]82 [2]63 [3]31 [4]13 [5]16\t\n"
       ]
      },
      {
       "metadata": {},
       "output_type": "pyout",
       "prompt_number": 41,
       "text": [
        "idx: 2820\tloss: 4.0585932731628\ttrain score: 15.315\t"
       ]
      },
      {
       "metadata": {},
       "output_type": "pyout",
       "prompt_number": 41,
       "text": [
        "label: 41\tprediction: [1]60 [2]29 [3]73 [4]22 [5]71\t\n"
       ]
      },
      {
       "metadata": {},
       "output_type": "pyout",
       "prompt_number": 41,
       "text": [
        "idx: 2825\tloss: 4.0689716339111\ttrain score: 13.811666666667\tlabel: 56\tprediction: [1]38 [2]40 [3]24 [4]92 [5]29\t\n"
       ]
      },
      {
       "metadata": {},
       "output_type": "pyout",
       "prompt_number": 41,
       "text": [
        "idx: 2830\tloss: 4.0492310523987\ttrain score: 14.616666666667\tlabel: 36\tprediction: [1]37 [2]76 [3]83 [4]82 [5]79\t\n"
       ]
      },
      {
       "metadata": {},
       "output_type": "pyout",
       "prompt_number": 41,
       "text": [
        "idx: 2835\tloss: 4.071319103241\ttrain score: 13.778333333333\tlabel: 30\tprediction: [1]24 [2]48 [3]19 [4]96 [5]51\t\n"
       ]
      },
      {
       "metadata": {},
       "output_type": "pyout",
       "prompt_number": 41,
       "text": [
        "idx: 2840\tloss: 4.0103445053101\ttrain score: 15.351666666667\tlabel: 91\tprediction: [1]49 [2]48 [3]78 [4]77 [5]74\t\n"
       ]
      },
      {
       "metadata": {},
       "output_type": "pyout",
       "prompt_number": 41,
       "text": [
        "idx: 2845\tloss: 4.0425987243652\ttrain score: 16.083333333333\tlabel: 12\tprediction: [1]33 [2]34 [3]26 [4]84 [5]29\t\n"
       ]
      },
      {
       "metadata": {},
       "output_type": "pyout",
       "prompt_number": 41,
       "text": [
        "idx: 2850\tloss: 4.0493855476379\ttrain score: 16.163333333333\tlabel: 43\tprediction: [1]33 [2]60 [3]20 [4]77 [5]73\t\n"
       ]
      },
      {
       "metadata": {},
       "output_type": "pyout",
       "prompt_number": 41,
       "text": [
        "idx: 2855\tloss: 4.0497727394104\ttrain score: 16.63\tlabel: 29\tprediction: [1]19 [2]20 [3]60 [4]56 [5]52\t\n"
       ]
      },
      {
       "metadata": {},
       "output_type": "pyout",
       "prompt_number": 41,
       "text": [
        "idx: 2860\tloss: 4.0282368659973\ttrain score: 16.4\tlabel: 92\tprediction: [1]24 [2]26 [3]65 [4]19 [5]52\t\n"
       ]
      },
      {
       "metadata": {},
       "output_type": "pyout",
       "prompt_number": 41,
       "text": [
        "idx: 2865\tloss: 4.0536885261536\ttrain score: 13.546666666667\tlabel: 13\tprediction: [1]59 [2]58 [3]68 [4]21 [5]63\t\n"
       ]
      },
      {
       "metadata": {},
       "output_type": "pyout",
       "prompt_number": 41,
       "text": [
        "idx: 2870\tloss: 4.0348873138428\ttrain score: 14.411666666667\tlabel: 53\tprediction: [1]53 [2]88 [3]1 [4]72 [5]35\t\n"
       ]
      },
      {
       "metadata": {},
       "output_type": "pyout",
       "prompt_number": 41,
       "text": [
        "idx: 2875\tloss: 4.0546207427979\ttrain score: 15.333333333333\tlabel: 50\tprediction: [1]89 [2]85 [3]2 [4]55 [5]72\t\n"
       ]
      },
      {
       "metadata": {},
       "output_type": "pyout",
       "prompt_number": 41,
       "text": [
        "idx: 2880\tloss: 4.0349769592285\ttrain score: 14.78\tlabel: 3\tprediction: [1]76 [2]47 [3]30 [4]31 [5]79\t\n"
       ]
      },
      {
       "metadata": {},
       "output_type": "pyout",
       "prompt_number": 41,
       "text": [
        "idx: 2885\tloss: 4.0456376075745\ttrain score: 13.788333333333\tlabel: 44\tprediction: [1]44 [2]86 [3]36 [4]31 [5]39\t\n"
       ]
      },
      {
       "metadata": {},
       "output_type": "pyout",
       "prompt_number": 41,
       "text": [
        "idx: 2890\tloss: 4.041232585907\ttrain score: 16.956666666667\tlabel: 74\tprediction: [1]40 [2]41 [3]91 [4]29 [5]33\t\n"
       ]
      },
      {
       "metadata": {},
       "output_type": "pyout",
       "prompt_number": 41,
       "text": [
        "idx: 2895\tloss: 4.045759677887\ttrain score: 15.103333333333\tlabel: 6\tprediction: [1]30 [2]31 [3]23 [4]83 [5]82\t\n"
       ]
      },
      {
       "metadata": {},
       "output_type": "pyout",
       "prompt_number": 41,
       "text": [
        "idx: 2900\tloss: 4.0418391227722\ttrain score: 14.628333333333\tlabel: 81\tprediction: [1]71 [2]70 [3]57 [4]81 [5]42\t\n"
       ]
      },
      {
       "metadata": {},
       "output_type": "pyout",
       "prompt_number": 41,
       "text": [
        "idx: 2905\tloss: 4.0341086387634\ttrain score: 15.448333333333\tlabel: 41\tprediction: [1]71 [2]55 [3]84 [4]22 [5]100\t\n"
       ]
      },
      {
       "metadata": {},
       "output_type": "pyout",
       "prompt_number": 41,
       "text": [
        "idx: 2910\tloss: 4.0432343482971\ttrain score: 14.823333333333\tlabel: 27\tprediction: [1]66 [2]35 [3]85 [4]18 [5]93\t\n"
       ]
      },
      {
       "metadata": {},
       "output_type": "pyout",
       "prompt_number": 41,
       "text": [
        "idx: 2915\tloss: 4.0477614402771\ttrain score: 14.76\tlabel: 39\tprediction: [1]36 [2]10 [3]82 [4]87 [5]23\t\n"
       ]
      },
      {
       "metadata": {},
       "output_type": "pyout",
       "prompt_number": 41,
       "text": [
        "idx: 2920\tloss: 4.0389227867126\ttrain score: 14.721666666667\tlabel: 46\tprediction: [1]46 [2]80 [3]55 [4]89 [5]85\t\n"
       ]
      },
      {
       "metadata": {},
       "output_type": "pyout",
       "prompt_number": 41,
       "text": [
        "idx: 2925\tloss: 4.050714969635\ttrain score: 13.658333333333\tlabel: 71\tprediction: [1]60 [2]49 [3]50 [4]22 [5]69\t\n"
       ]
      },
      {
       "metadata": {},
       "output_type": "pyout",
       "prompt_number": 41,
       "text": [
        "idx: 2930\tloss: 4.0576524734497\ttrain score: 13.741666666667\tlabel: 39\tprediction: [1]31 [2]61 [3]79 [4]68 [5]63\t\n"
       ]
      },
      {
       "metadata": {},
       "output_type": "pyout",
       "prompt_number": 41,
       "text": [
        "idx: 2935\tloss: 4.0410771369934\ttrain score: 13.918333333333\tlabel: 1\tprediction: [1]35 [2]64 [3]74 [4]19 [5]1\t\n"
       ]
      },
      {
       "metadata": {},
       "output_type": "pyout",
       "prompt_number": 41,
       "text": [
        "idx: 2940\tloss: 4.0344882011414\ttrain score: 14.863333333333\tlabel: 19\tprediction: [1]34 [2]38 [3]84 [4]70 [5]26\t\n"
       ]
      },
      {
       "metadata": {},
       "output_type": "pyout",
       "prompt_number": 41,
       "text": [
        "idx: 2945\tloss: 4.0401186943054\ttrain score: 15.366666666667\tlabel: 82\tprediction: [1]21 [2]61 [3]58 [4]63 [5]82\t\n"
       ]
      },
      {
       "metadata": {},
       "output_type": "pyout",
       "prompt_number": 41,
       "text": [
        "idx: 2950\tloss: 4.039927482605\ttrain score: 14.251666666667\tlabel: 75\tprediction: [1]75 [2]43 [3]68 [4]70 [5]66\t\n"
       ]
      },
      {
       "metadata": {},
       "output_type": "pyout",
       "prompt_number": 41,
       "text": [
        "idx: 2955\tloss: 4.0475430488586\ttrain score: 13.585\tlabel: 58\tprediction: [1]45 [2]13 [3]68 [4]82 [5]83\t\n"
       ]
      },
      {
       "metadata": {},
       "output_type": "pyout",
       "prompt_number": 41,
       "text": [
        "idx: 2960\tloss: 4.0427055358887\ttrain score: 15.183333333333\tlabel: 56\tprediction: [1]7 [2]84 [3]90 [4]18 [5]91\t\n"
       ]
      },
      {
       "metadata": {},
       "output_type": "pyout",
       "prompt_number": 41,
       "text": [
        "idx: 2965\tloss: 4.0386486053467\ttrain score: 15.13\tlabel: 60\tprediction: [1]49 [2]95 [3]92 [4]43 [5]17\t\n"
       ]
      },
      {
       "metadata": {},
       "output_type": "pyout",
       "prompt_number": 41,
       "text": [
        "idx: 2970\tloss: 4.0273337364197\ttrain score: 15.843333333333\tlabel: 93\tprediction: [1]93 [2]63 [3]82 [4]81 [5]13\t\n"
       ]
      },
      {
       "metadata": {},
       "output_type": "pyout",
       "prompt_number": 41,
       "text": [
        "idx: 2975\tloss: 4.0399217605591\ttrain score: 15.451666666667\tlabel: 81\tprediction: [1]91 [2]64 [3]47 [4]45 [5]81\t\n"
       ]
      },
      {
       "metadata": {},
       "output_type": "pyout",
       "prompt_number": 41,
       "text": [
        "idx: 2980\tloss: 4.0262217521667\ttrain score: 17.166666666667\tlabel: 9\tprediction: [1]51 [2]49 [3]77 [4]92 [5]52\t\n"
       ]
      },
      {
       "metadata": {},
       "output_type": "pyout",
       "prompt_number": 41,
       "text": [
        "idx: 2985\tloss: 4.0400409698486\ttrain score: 16.016666666667\tlabel: 81\tprediction: [1]49 [2]48 [3]52 [4]24 [5]26\t\n"
       ]
      },
      {
       "metadata": {},
       "output_type": "pyout",
       "prompt_number": 41,
       "text": [
        "idx: 2990\tloss: 4.0576105117798\ttrain score: 14.183333333333\tlabel: 23\tprediction: [1]36 [2]9 [3]87 [4]82 [5]23\t\n"
       ]
      },
      {
       "metadata": {},
       "output_type": "pyout",
       "prompt_number": 41,
       "text": [
        "idx: 2995\tloss: 4.0446057319641\ttrain score: 14.486666666667\tlabel: 14\tprediction: [1]43 [2]14 [3]33 [4]34 [5]18\t\n"
       ]
      },
      {
       "metadata": {},
       "output_type": "pyout",
       "prompt_number": 41,
       "text": [
        "current LR: 0.0025\t\n"
       ]
      },
      {
       "metadata": {},
       "output_type": "pyout",
       "prompt_number": 41,
       "text": [
        "idx: 3000\tloss: 4.0452046394348\ttrain score: 13.273333333333\tlabel: 45\tprediction: [1]68 [2]45 [3]83 [4]82 [5]79\t\n"
       ]
      },
      {
       "metadata": {},
       "output_type": "pyout",
       "prompt_number": 41,
       "text": [
        "idx: 3005\tloss: 4.0275464057922\ttrain score: 16.138333333333\tlabel: 85\tprediction: [1]74 [2]10 [3]22 [4]18 [5]57\t\n"
       ]
      },
      {
       "metadata": {},
       "output_type": "pyout",
       "prompt_number": 41,
       "text": [
        "idx: 3010\tloss: 4.061420917511\ttrain score: 14.27\tlabel: 5\tprediction: [1]60 [2]56 [3]20 [4]70 [5]22\t\n"
       ]
      },
      {
       "metadata": {},
       "output_type": "pyout",
       "prompt_number": 41,
       "text": [
        "idx: 3015\tloss: 4.0645279884338\ttrain score: 13.348333333333\tlabel: 25\tprediction: [1]89 [2]85 [3]2 [4]55 [5]72\t\n"
       ]
      },
      {
       "metadata": {},
       "output_type": "pyout",
       "prompt_number": 41,
       "text": [
        "idx: 3020\tloss: 4.0573558807373\ttrain score: 12.841666666667\tlabel: 52\tprediction: [1]86 [2]100 [3]37 [4]36 [5]79\t\n"
       ]
      },
      {
       "metadata": {},
       "output_type": "pyout",
       "prompt_number": 41,
       "text": [
        "idx: 3025\tloss: 4.0486965179443\ttrain score: 15.583333333333\tlabel: 58\tprediction: [1]82 [2]30 [3]59 [4]21 [5]79\t\n"
       ]
      },
      {
       "metadata": {},
       "output_type": "pyout",
       "prompt_number": 41,
       "text": [
        "idx: 3030\tloss: 4.0370573997498\ttrain score: 14.216666666667\tlabel: 81\tprediction: [1]93 [2]81 [3]53 [4]67 [5]66\t\n"
       ]
      },
      {
       "metadata": {},
       "output_type": "pyout",
       "prompt_number": 41,
       "text": [
        "idx: 3035\tloss: 4.0426259040833\ttrain score: 15.085\tlabel: 56\tprediction: [1]18 [2]78 [3]91 [4]12 [5]11\t\n"
       ]
      },
      {
       "metadata": {},
       "output_type": "pyout",
       "prompt_number": 41,
       "text": [
        "idx: 3040\tloss: 4.0402097702026\ttrain score: 14.431666666667\tlabel: 93\tprediction: [1]62 [2]86 [3]68 [4]100 [5]64\t\n"
       ]
      },
      {
       "metadata": {},
       "output_type": "pyout",
       "prompt_number": 41,
       "text": [
        "idx: 3045\tloss: 4.0365300178528\ttrain score: 13.571666666667\tlabel: 11\tprediction: [1]11 [2]30 [3]34 [4]84 [5]6\t\n"
       ]
      },
      {
       "metadata": {},
       "output_type": "pyout",
       "prompt_number": 41,
       "text": [
        "idx: 3050\tloss: 4.0542364120483\ttrain score: 14.486666666667\tlabel: 96\tprediction: [1]65 [2]59 [3]21 [4]23 [5]26\t\n"
       ]
      },
      {
       "metadata": {},
       "output_type": "pyout",
       "prompt_number": 41,
       "text": [
        "idx: 3055\tloss: 4.0352993011475\ttrain score: 16.463333333333\tlabel: 96\tprediction: [1]71 [2]21 [3]4 [4]22 [5]58\t\n"
       ]
      },
      {
       "metadata": {},
       "output_type": "pyout",
       "prompt_number": 41,
       "text": [
        "idx: 3060\tloss: 4.0461802482605\ttrain score: 16.043333333333\tlabel: 89\tprediction: [1]89 [2]85 [3]2 [4]55 [5]72\t\n"
       ]
      },
      {
       "metadata": {},
       "output_type": "pyout",
       "prompt_number": 41,
       "text": [
        "idx: 3065\tloss: 4.0425233840942\ttrain score: 15.751666666667\tlabel: 82\tprediction: [1]45 [2]47 [3]83 [4]82 [5]30\t\n"
       ]
      },
      {
       "metadata": {},
       "output_type": "pyout",
       "prompt_number": 41,
       "text": [
        "idx: 3070\tloss: 4.0550770759583\ttrain score: 15.871666666667\tlabel: 8\tprediction: [1]48 [2]78 [3]51 [4]49 [5]29\t\n"
       ]
      },
      {
       "metadata": {},
       "output_type": "pyout",
       "prompt_number": 41,
       "text": [
        "idx: 3075\tloss: 4.059579372406\ttrain score: 14.411666666667\tlabel: 40\tprediction: [1]95 [2]52 [3]77 [4]92 [5]29\t\n"
       ]
      },
      {
       "metadata": {},
       "output_type": "pyout",
       "prompt_number": 41,
       "text": [
        "idx: 3080\tloss: 4.0388922691345\ttrain score: 14.758333333333\tlabel: 85\tprediction: [1]91 [2]74 [3]35 [4]23 [5]97\t\n"
       ]
      },
      {
       "metadata": {},
       "output_type": "pyout",
       "prompt_number": 41,
       "text": [
        "idx: 3085\tloss: 4.0320987701416\ttrain score: 14.266666666667\tlabel: 62\tprediction: [1]13 [2]31 [3]58 [4]63 [5]37\t\n"
       ]
      },
      {
       "metadata": {},
       "output_type": "pyout",
       "prompt_number": 41,
       "text": [
        "idx: 3090\tloss: 4.0339388847351\ttrain score: 14.5\tlabel: 88\tprediction: [1]88 [2]1 [3]93 [4]27 [5]34\t\n"
       ]
      },
      {
       "metadata": {},
       "output_type": "pyout",
       "prompt_number": 41,
       "text": [
        "idx: 3095\tloss: 4.0734934806824\ttrain score: 13.905\tlabel: 13\tprediction: [1]82 [2]79 [3]30 [4]31 [5]100\t\n"
       ]
      },
      {
       "metadata": {},
       "output_type": "pyout",
       "prompt_number": 41,
       "text": [
        "idx: 3100\tloss: 4.0479254722595\ttrain score: 16.213333333333\tlabel: 1\tprediction: [1]85 [2]24 [3]74 [4]1 [5]14\t\n"
       ]
      },
      {
       "metadata": {},
       "output_type": "pyout",
       "prompt_number": 41,
       "text": [
        "idx: 3105\tloss: 4.0582022666931\ttrain score: 15.03\tlabel: 80\tprediction: [1]89 [2]85 [3]2 [4]55 [5]72\t\n"
       ]
      },
      {
       "metadata": {},
       "output_type": "pyout",
       "prompt_number": 41,
       "text": [
        "idx: 3110\tloss: 4.0357222557068\ttrain score: 15.66\tlabel: 63\tprediction: [1]37 [2]13 [3]83 [4]30 [5]86\t\n"
       ]
      },
      {
       "metadata": {},
       "output_type": "pyout",
       "prompt_number": 41,
       "text": [
        "idx: 3115\tloss: 4.0347027778625\ttrain score: 15.251666666667\tlabel: 93\tprediction: [1]59 [2]31 [3]23 [4]65 [5]26\t\n"
       ]
      },
      {
       "metadata": {},
       "output_type": "pyout",
       "prompt_number": 41,
       "text": [
        "idx: 3120\tloss: 4.0500435829163\ttrain score: 15.29\tlabel: 7\tprediction: [1]34 [2]60 [3]77 [4]26 [5]74\t\n"
       ]
      },
      {
       "metadata": {},
       "output_type": "pyout",
       "prompt_number": 41,
       "text": [
        "idx: 3125\tloss: 4.047324180603\ttrain score: 13.136666666667\tlabel: 59\tprediction: [1]26 [2]44 [3]12 [4]30 [5]79\t\n"
       ]
      },
      {
       "metadata": {},
       "output_type": "pyout",
       "prompt_number": 41,
       "text": [
        "idx: 3130\tloss: 4.0316014289856\ttrain score: 14.07\tlabel: 46\tprediction: [1]80 [2]85 [3]2 [4]55 [5]25\t\n"
       ]
      },
      {
       "metadata": {},
       "output_type": "pyout",
       "prompt_number": 41,
       "text": [
        "idx: 3135\tloss: 4.0458374023438\ttrain score: 14.6\tlabel: 100\tprediction: [1]65 [2]82 [3]37 [4]39 [5]36\t\n"
       ]
      },
      {
       "metadata": {},
       "output_type": "pyout",
       "prompt_number": 41,
       "text": [
        "idx: 3140\tloss: 4.0565104484558\ttrain score: 15.2\tlabel: 52\tprediction: [1]89 [2]80 [3]52 [4]2 [5]46\t\n"
       ]
      },
      {
       "metadata": {},
       "output_type": "pyout",
       "prompt_number": 41,
       "text": [
        "idx: 3145\tloss: 4.0414419174194\ttrain score: 13.655\tlabel: 89\tprediction: [1]89 [2]85 [3]2 [4]55 [5]72\t\n"
       ]
      },
      {
       "metadata": {},
       "output_type": "pyout",
       "prompt_number": 41,
       "text": [
        "idx: 3150\tloss: 4.061586856842\ttrain score: 15.361666666667\tlabel: 27\tprediction: [1]12 [2]74 [3]35 [4]1 [5]97\t\n"
       ]
      },
      {
       "metadata": {},
       "output_type": "pyout",
       "prompt_number": 41,
       "text": [
        "idx: 3155\tloss: 4.04629945755\ttrain score: 13.025\tlabel: 63\tprediction: [1]58 [2]47 [3]21 [4]82 [5]31\t\n"
       ]
      },
      {
       "metadata": {},
       "output_type": "pyout",
       "prompt_number": 41,
       "text": [
        "idx: 3160\tloss: 4.0387535095215\ttrain score: 16.22\tlabel: 21\tprediction: [1]62 [2]61 [3]82 [4]76 [5]58\t\n"
       ]
      },
      {
       "metadata": {},
       "output_type": "pyout",
       "prompt_number": 41,
       "text": [
        "idx: 3165\tloss: 4.0585951805115\ttrain score: 15.923333333333\tlabel: 70\tprediction: [1]84 [2]70 [3]19 [4]20 [5]22\t\n"
       ]
      },
      {
       "metadata": {},
       "output_type": "pyout",
       "prompt_number": 41,
       "text": [
        "idx: 3170\tloss: 4.0639843940735\ttrain score: 14.021666666667\tlabel: 73\tprediction: [1]29 [2]52 [3]73 [4]24 [5]70\t\n"
       ]
      },
      {
       "metadata": {},
       "output_type": "pyout",
       "prompt_number": 41,
       "text": [
        "idx: 3175\tloss: 4.061821937561\ttrain score: 14.993333333333\tlabel: 77\t"
       ]
      },
      {
       "metadata": {},
       "output_type": "pyout",
       "prompt_number": 41,
       "text": [
        "prediction: [1]50 [2]34 [3]95 [4]60 [5]92\t\n"
       ]
      },
      {
       "metadata": {},
       "output_type": "pyout",
       "prompt_number": 41,
       "text": [
        "idx: 3180\tloss: 4.0555281639099\ttrain score: 14.368333333333\tlabel: 26\tprediction: [1]82 [2]38 [3]86 [4]26 [5]100\t\n"
       ]
      },
      {
       "metadata": {},
       "output_type": "pyout",
       "prompt_number": 41,
       "text": [
        "idx: 3185\tloss: 4.0390658378601\ttrain score: 16.266666666667\tlabel: 28\tprediction: [1]28 [2]82 [3]58 [4]13 [5]64\t\n"
       ]
      },
      {
       "metadata": {},
       "output_type": "pyout",
       "prompt_number": 41,
       "text": [
        "idx: 3190\tloss: 4.0569949150085\ttrain score: 14.95\tlabel: 80\tprediction: [1]89 [2]85 [3]2 [4]55 [5]72\t\n"
       ]
      },
      {
       "metadata": {},
       "output_type": "pyout",
       "prompt_number": 41,
       "text": [
        "idx: 3195\tloss: 4.0422263145447\ttrain score: 14.921666666667\tlabel: 26\tprediction: [1]43 [2]49 [3]92 [4]26 [5]91\t\n"
       ]
      },
      {
       "metadata": {},
       "output_type": "pyout",
       "prompt_number": 41,
       "text": [
        "idx: 3200\tloss: 4.0462737083435\ttrain score: 16.043333333333\tlabel: 99\tprediction: [1]22 [2]14 [3]29 [4]5 [5]50\t\n"
       ]
      },
      {
       "metadata": {},
       "output_type": "pyout",
       "prompt_number": 41,
       "text": [
        "idx: 3205\tloss: 4.021192073822\ttrain score: 15.038333333333\tlabel: 38\t"
       ]
      },
      {
       "metadata": {},
       "output_type": "pyout",
       "prompt_number": 41,
       "text": [
        "prediction: [1]73 [2]42 [3]22 [4]84 [5]20\t\n"
       ]
      },
      {
       "metadata": {},
       "output_type": "pyout",
       "prompt_number": 41,
       "text": [
        "idx: 3210\tloss: 4.0324478149414\ttrain score: 15.511666666667\tlabel: 46\tprediction: [1]89 [2]85 [3]2 [4]55 [5]72\t\n"
       ]
      },
      {
       "metadata": {},
       "output_type": "pyout",
       "prompt_number": 41,
       "text": [
        "idx: 3215\tloss: 4.0531268119812\ttrain score: 12.933333333333\tlabel: 74\tprediction: [1]85 [2]91 [3]93 [4]74 [5]90\t\n"
       ]
      },
      {
       "metadata": {},
       "output_type": "pyout",
       "prompt_number": 41,
       "text": [
        "idx: 3220\tloss: 4.0540418624878\ttrain score: 14.92\tlabel: 83\tprediction: [1]82 [2]63 [3]30 [4]58 [5]13\t\n"
       ]
      },
      {
       "metadata": {},
       "output_type": "pyout",
       "prompt_number": 41,
       "text": [
        "idx: 3225\tloss: 4.0411958694458\ttrain score: 13.883333333333\tlabel: 58\tprediction: [1]41 [2]40 [3]19 [4]17 [5]15\t\n"
       ]
      },
      {
       "metadata": {},
       "output_type": "pyout",
       "prompt_number": 41,
       "text": [
        "idx: 3230\tloss: 4.0212726593018\ttrain score: 13.696666666667\tlabel: 17\tprediction: [1]49 [2]48 [3]17 [4]51 [5]19\t\n"
       ]
      },
      {
       "metadata": {},
       "output_type": "pyout",
       "prompt_number": 41,
       "text": [
        "idx: 3235\tloss: 4.0764307975769\ttrain score: 14.543333333333\tlabel: 5\tprediction: [1]18 [2]90 [3]27 [4]84 [5]5\t\n"
       ]
      },
      {
       "metadata": {},
       "output_type": "pyout",
       "prompt_number": 41,
       "text": [
        "idx: 3240\tloss: 4.0449142456055\ttrain score: 14.863333333333\tlabel: 74\tprediction: [1]13 [2]87 [3]74 [4]35 [5]67\t\n"
       ]
      },
      {
       "metadata": {},
       "output_type": "pyout",
       "prompt_number": 41,
       "text": [
        "idx: 3245\tloss: 4.0310802459717\ttrain score: 15.768333333333\tlabel: 63\tprediction: [1]13 [2]45 [3]82 [4]83 [5]21\t\n"
       ]
      },
      {
       "metadata": {},
       "output_type": "pyout",
       "prompt_number": 41,
       "text": [
        "idx: 3250\tloss: 4.0427923202515\ttrain score: 13.178333333333\tlabel: 68\tprediction: [1]26 [2]30 [3]21 [4]62 [5]61\t\n"
       ]
      },
      {
       "metadata": {},
       "output_type": "pyout",
       "prompt_number": 41,
       "text": [
        "idx: 3255\tloss: 4.0482063293457\ttrain score: 15.646666666667\tlabel: 47\tprediction: [1]59 [2]23 [3]65 [4]63 [5]62\t\n"
       ]
      },
      {
       "metadata": {},
       "output_type": "pyout",
       "prompt_number": 41,
       "text": [
        "idx: 3260\tloss: 4.0534286499023\ttrain score: 14.421666666667\tlabel: 25\tprediction: [1]80 [2]85 [3]2 [4]55 [5]25\t\n"
       ]
      },
      {
       "metadata": {},
       "output_type": "pyout",
       "prompt_number": 41,
       "text": [
        "idx: 3265\tloss: 4.0382361412048\ttrain score: 14.345\tlabel: 8\tprediction: [1]8 [2]91 [3]48 [4]29 [5]32\t\n"
       ]
      },
      {
       "metadata": {},
       "output_type": "pyout",
       "prompt_number": 41,
       "text": [
        "idx: 3270\tloss: 4.0382685661316\ttrain score: 15.793333333333\tlabel: 94\tprediction: [1]21 [2]37 [3]86 [4]83 [5]82\t\n"
       ]
      },
      {
       "metadata": {},
       "output_type": "pyout",
       "prompt_number": 41,
       "text": [
        "idx: 3275\tloss: 4.0553269386292\ttrain score: 14.175\tlabel: 75\tprediction: [1]75 [2]25 [3]69 [4]66 [5]67\t\n"
       ]
      },
      {
       "metadata": {},
       "output_type": "pyout",
       "prompt_number": 41,
       "text": [
        "idx: 3280\tloss: 4.0423574447632\ttrain score: 15.03\tlabel: 60\tprediction: [1]33 [2]8 [3]44 [4]14 [5]43\t\n"
       ]
      },
      {
       "metadata": {},
       "output_type": "pyout",
       "prompt_number": 41,
       "text": [
        "idx: 3285\tloss: 4.0407190322876\ttrain score: 14.503333333333\tlabel: 8\tprediction: [1]42 [2]41 [3]49 [4]48 [5]43\t\n"
       ]
      },
      {
       "metadata": {},
       "output_type": "pyout",
       "prompt_number": 41,
       "text": [
        "idx: 3290\tloss: 4.0313744544983\ttrain score: 15.535\tlabel: 11\tprediction: [1]8 [2]33 [3]17 [4]49 [5]95\t\n"
       ]
      },
      {
       "metadata": {},
       "output_type": "pyout",
       "prompt_number": 41,
       "text": [
        "idx: 3295\tloss: 4.0402112007141\ttrain score: 15.001666666667\tlabel: 67\tprediction: [1]35 [2]67 [3]85 [4]74 [5]32\t\n"
       ]
      },
      {
       "metadata": {},
       "output_type": "pyout",
       "prompt_number": 41,
       "text": [
        "idx: 3300\tloss: 4.029176235199\ttrain score: 15.418333333333\tlabel: 51\tprediction: [1]8 [2]43 [3]49 [4]85 [5]48\t\n"
       ]
      }
     ],
     "prompt_number": 41
    }
   ],
   "metadata": {}
  }
 ]
}