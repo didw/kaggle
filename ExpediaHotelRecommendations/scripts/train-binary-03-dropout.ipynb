{
 "metadata": {
  "language": "lua",
  "name": "",
  "signature": "sha256:09e7ae2e9365e4466bb5ed14e4d9bf34bfe554d9a17fe127194a4c49dbd2d28b"
 },
 "nbformat": 3,
 "nbformat_minor": 0,
 "worksheets": [
  {
   "cells": [
    {
     "cell_type": "code",
     "collapsed": false,
     "input": [
      "require 'torch';\n",
      "require 'nn';\n",
      "require 'cutorch';\n",
      "require 'cunn';\n",
      "require 'cudnn';"
     ],
     "language": "python",
     "metadata": {},
     "outputs": [],
     "prompt_number": 1
    },
    {
     "cell_type": "markdown",
     "metadata": {},
     "source": [
      "### Split data"
     ]
    },
    {
     "cell_type": "code",
     "collapsed": false,
     "input": [
      "function split(str, pat)\n",
      "   local t = {}  -- NOTE: use {n = 0} in Lua-5.0\n",
      "   local fpat = \"(.-)\" .. pat\n",
      "   local last_end = 1\n",
      "   local s, e, cap = str:find(fpat, 1)\n",
      "   while s do\n",
      "      if s ~= 1 or cap ~= \"\" then\n",
      "         table.insert(t,cap)\n",
      "      end\n",
      "      last_end = e+1\n",
      "      s, e, cap = str:find(fpat, last_end)\n",
      "   end\n",
      "   if last_end <= #str then\n",
      "      cap = str:sub(last_end)\n",
      "      table.insert(t, cap)\n",
      "   end\n",
      "   return t\n",
      "end"
     ],
     "language": "python",
     "metadata": {},
     "outputs": [],
     "prompt_number": 2
    },
    {
     "cell_type": "markdown",
     "metadata": {},
     "source": [
      "## Conver Data"
     ]
    },
    {
     "cell_type": "markdown",
     "metadata": {},
     "source": [
      "### 1. To get week number"
     ]
    },
    {
     "cell_type": "code",
     "collapsed": false,
     "input": [
      "function getYearBeginDayOfWeek(tm)\n",
      "  yearBegin = os.time{year=os.date(\"*t\",tm).year,month=1,day=1}\n",
      "  yearBeginDayOfWeek = tonumber(os.date(\"%w\",yearBegin))\n",
      "  -- sunday correct from 0 -> 7\n",
      "  if(yearBeginDayOfWeek == 0) then yearBeginDayOfWeek = 7 end\n",
      "  return yearBeginDayOfWeek\n",
      "end\n",
      "function getDayAdd(tm)\n",
      "  yearBeginDayOfWeek = getYearBeginDayOfWeek(tm)\n",
      "  if(yearBeginDayOfWeek < 5 ) then\n",
      "    -- first day is week 1\n",
      "    dayAdd = (yearBeginDayOfWeek - 2)\n",
      "  else \n",
      "    -- first day is week 52 or 53\n",
      "    dayAdd = (yearBeginDayOfWeek - 9)\n",
      "  end  \n",
      "  return dayAdd\n",
      "end\n",
      "function getWeekNumberOfYear(tm)\n",
      "  dayOfYear = os.date(\"%j\",tm)\n",
      "  dayAdd = getDayAdd(tm)\n",
      "  dayOfYearCorrected = dayOfYear + dayAdd\n",
      "  if(dayOfYearCorrected < 0) then\n",
      "    -- week of last year - decide if 52 or 53\n",
      "    lastYearBegin = os.time{year=os.date(\"*t\",tm).year-1,month=1,day=1}\n",
      "    lastYearEnd = os.time{year=os.date(\"*t\",tm).year-1,month=12,day=31}\n",
      "    dayAdd = getDayAdd(lastYearBegin)\n",
      "    dayOfYear = dayOfYear + os.date(\"%j\",lastYearEnd)\n",
      "    dayOfYearCorrected = dayOfYear + dayAdd\n",
      "  end  \n",
      "  weekNum = math.floor((dayOfYearCorrected) / 7) + 1\n",
      "  if( (dayOfYearCorrected > 0) and weekNum == 53) then\n",
      "    -- check if it is not considered as part of week 1 of next year\n",
      "    nextYearBegin = os.time{year=os.date(\"*t\",tm).year+1,month=1,day=1}\n",
      "    yearBeginDayOfWeek = getYearBeginDayOfWeek(nextYearBegin)\n",
      "    if(yearBeginDayOfWeek < 5 ) then\n",
      "      weekNum = 1\n",
      "    end  \n",
      "  end  \n",
      "  return weekNum\n",
      "end"
     ],
     "language": "python",
     "metadata": {},
     "outputs": [],
     "prompt_number": 3
    },
    {
     "cell_type": "code",
     "collapsed": false,
     "input": [
      "function __getWeekday(tm)\n",
      "    return os.date(\"*t\",tm).wday\n",
      "end"
     ],
     "language": "python",
     "metadata": {},
     "outputs": [],
     "prompt_number": 4
    },
    {
     "cell_type": "code",
     "collapsed": false,
     "input": [
      "function getWeekday(input)\n",
      "    dates = split(input, \"-\")\n",
      "    if table.getn(dates) ~= 3 then\n",
      "        return -1\n",
      "    end\n",
      "    useDate = os.time{year=dates[1],month=dates[2],day=dates[3]}\n",
      "    return __getWeekday(useDate)\n",
      "end"
     ],
     "language": "python",
     "metadata": {},
     "outputs": [],
     "prompt_number": 5
    },
    {
     "cell_type": "code",
     "collapsed": false,
     "input": [
      "function getLengthStay(checkin, checkout)\n",
      "    local dIn= split(checkin, \"-\")\n",
      "    local dOut= split(checkout, \"-\")\n",
      "    if table.getn(dIn) ~= 3 or table.getn(dOut) ~= 3 then\n",
      "        return -1\n",
      "    end\n",
      "    local useDateIn = os.time{year=dIn[1],month=dIn[2],day=dIn[3]}\n",
      "    local useDateOut = os.time{year=dOut[1],month=dOut[2],day=dOut[3]}\n",
      "    local days = (useDateOut - useDateIn)/(24*60*60)\n",
      "    if days > 30 then\n",
      "        days = 30\n",
      "    end\n",
      "    return days\n",
      "end"
     ],
     "language": "python",
     "metadata": {},
     "outputs": [],
     "prompt_number": 6
    },
    {
     "cell_type": "code",
     "collapsed": false,
     "input": [
      "function isIncludeWeekend(checkin, checkout)\n",
      "    local dIn= split(checkin, \"-\")\n",
      "    local dOut= split(checkout, \"-\")\n",
      "    if table.getn(dIn) ~= 3 or table.getn(dOut) ~= 3 then\n",
      "        return -1\n",
      "    end\n",
      "    if getLengthStay(checkin, checkout) > 7 then\n",
      "        return 1\n",
      "    end\n",
      "    local useDateIn = os.time{year=dIn[1],month=dIn[2],day=dIn[3]}\n",
      "    local useDateOut = os.time{year=dOut[1],month=dOut[2],day=dOut[3]}\n",
      "    date = useDateIn\n",
      "    while date < useDateOut do\n",
      "        if __getWeekday(date) == 6 or __getWeekday(date) == 7 then return 1 end\n",
      "        date = date + 24 * 60 * 60\n",
      "    end\n",
      "    return 0\n",
      "end"
     ],
     "language": "python",
     "metadata": {},
     "outputs": [],
     "prompt_number": 7
    },
    {
     "cell_type": "code",
     "collapsed": false,
     "input": [
      "print(isIncludeWeekend(\"2016-05-20\", \"2016-05-21\"))"
     ],
     "language": "python",
     "metadata": {},
     "outputs": [],
     "prompt_number": 8
    },
    {
     "cell_type": "code",
     "collapsed": false,
     "input": [
      "function getDate(input)\n",
      "    dates = split(input, \"-\")\n",
      "    if table.getn(dates) ~= 3 then\n",
      "        return -1\n",
      "    end\n",
      "    useDate = os.time{year=dates[1],month=dates[2],day=dates[3]}\n",
      "    weekNum = getWeekNumberOfYear(useDate)\n",
      "    return weekNum\n",
      "end"
     ],
     "language": "python",
     "metadata": {},
     "outputs": [],
     "prompt_number": 9
    },
    {
     "cell_type": "markdown",
     "metadata": {},
     "source": [
      "### 2. onehot"
     ]
    },
    {
     "cell_type": "code",
     "collapsed": false,
     "input": [
      "function onehot(tab, value, len)\n",
      "    if value == nil then\n",
      "        value = 0\n",
      "    end\n",
      "    for i=1,len do\n",
      "        if i==tonumber(value) then\n",
      "            table.insert(tab, 1)\n",
      "        else\n",
      "            table.insert(tab, 0)\n",
      "        end\n",
      "    end\n",
      "end"
     ],
     "language": "python",
     "metadata": {},
     "outputs": [],
     "prompt_number": 10
    },
    {
     "cell_type": "code",
     "collapsed": false,
     "input": [
      "function onehot_range(data, value, len, step)\n",
      "    if value == nil then\n",
      "        value = 0\n",
      "    end\n",
      "    for i=1,len do\n",
      "        if tonumber(value) > i*tonumber(step) then\n",
      "            table.insert(data, 0)\n",
      "        else\n",
      "            table.insert(data, 1)\n",
      "            value = len * (step + 1)\n",
      "        end\n",
      "    end\n",
      "end"
     ],
     "language": "python",
     "metadata": {},
     "outputs": [],
     "prompt_number": 11
    },
    {
     "cell_type": "markdown",
     "metadata": {},
     "source": [
      "### 3. binary"
     ]
    },
    {
     "cell_type": "code",
     "collapsed": false,
     "input": [
      "function binary(data, value, len)\n",
      "    while len > 0 do\n",
      "        if value % 2 == 1 then\n",
      "            table.insert(data, 0.5)\n",
      "        else\n",
      "            table.insert(data, -0.5)\n",
      "        end\n",
      "        value = value / 2\n",
      "        len = (len / 2) - (len / 2)%1\n",
      "    end\n",
      "end"
     ],
     "language": "python",
     "metadata": {},
     "outputs": [],
     "prompt_number": 12
    },
    {
     "cell_type": "markdown",
     "metadata": {},
     "source": [
      "### 4. dest info"
     ]
    },
    {
     "cell_type": "code",
     "collapsed": false,
     "input": [
      "fileName = 'data/destinations.csv'\n",
      "\n",
      "info_sum = {}\n",
      "info_mean = {}\n",
      "info_std = {}\n",
      "N = 1\n",
      "head = 1\n",
      "for i=1,149 do table.insert(info_sum, 0) end\n",
      "for line in io.lines ( fileName ) do \n",
      "    if head == 1 then\n",
      "        head = 0\n",
      "    else\n",
      "        destdata = split(line, ',')\n",
      "        for j=1,149 do\n",
      "            info_sum[j] = info_sum[j] + tonumber(destdata[j+1])\n",
      "        end\n",
      "        N = N + 1\n",
      "    end\n",
      "end\n",
      "\n",
      "for i=1,149 do info_mean[i] = info_sum[i] / N end\n",
      "\n",
      "info_sum = {}\n",
      "N = 1\n",
      "head = 1\n",
      "for i=1,149 do table.insert(info_sum, 0) end\n",
      "for line in io.lines ( fileName ) do \n",
      "    if head == 1 then\n",
      "        head = 0\n",
      "    else\n",
      "        destdata = split(line, ',')\n",
      "        for j=1,149 do\n",
      "            info_sum[j] = info_sum[j] + (tonumber(destdata[j+1]) - info_mean[j]) * (tonumber(destdata[j+1]) - info_mean[j])\n",
      "        end\n",
      "        N = N + 1\n",
      "    end\n",
      "end\n",
      "\n",
      "for i=1,149 do info_std[i] = math.sqrt(info_sum[i] / N) end"
     ],
     "language": "python",
     "metadata": {},
     "outputs": [],
     "prompt_number": 13
    },
    {
     "cell_type": "code",
     "collapsed": false,
     "input": [
      "destInfo = {}\n",
      "i = 0\n",
      "head = 1\n",
      "nEmpty = 0\n",
      "empty_row = {}\n",
      "for j=1,149 do\n",
      "    table.insert(empty_row, 0)\n",
      "end\n",
      "for line in io.lines ( fileName ) do \n",
      "    if head == 1 then\n",
      "        head = 0\n",
      "    else\n",
      "        destdata = split(line, ',')\n",
      "        while tonumber(destdata[1]) ~= i do\n",
      "            --print('Empty line => destdata[1]: ' .. destdata[1], 'i: ' .. i)\n",
      "            table.insert(destInfo, empty_row)\n",
      "            i = i + 1\n",
      "            nEmpty = nEmpty + 1\n",
      "        end\n",
      "        row = {}\n",
      "        for j=1,149 do\n",
      "            table.insert(row, (destdata[j+1] - info_mean[j]) / info_std[j])\n",
      "        end\n",
      "        table.insert(destInfo, row)\n",
      "        if tonumber(destdata[1]) ~= i then\n",
      "            --print('Not Matched => destdata[1]: ' .. destdata[1], 'i: ' .. i)\n",
      "        end\n",
      "        i = i + 1\n",
      "    end\n",
      "end\n",
      "\n",
      "for i=1,1000 do table.insert(destInfo, empty_row) end\n",
      "print('nEmpty:' .. nEmpty)"
     ],
     "language": "python",
     "metadata": {},
     "outputs": [
      {
       "metadata": {},
       "output_type": "pyout",
       "prompt_number": 14,
       "text": [
        "nEmpty:2888\t\n"
       ]
      }
     ],
     "prompt_number": 14
    },
    {
     "cell_type": "code",
     "collapsed": false,
     "input": [
      "function addDestinationInfo(data, value)\n",
      "    for i=1,149 do\n",
      "        table.insert(data, destInfo[value][i])\n",
      "    end\n",
      "end"
     ],
     "language": "python",
     "metadata": {},
     "outputs": [],
     "prompt_number": 15
    },
    {
     "cell_type": "markdown",
     "metadata": {},
     "source": [
      "### Data normalize"
     ]
    },
    {
     "cell_type": "code",
     "collapsed": false,
     "input": [
      "distMean = 0\n",
      "distsum = 0\n",
      "data = loadData(1000)\n",
      "N = 0\n",
      "for i=1,1000 do \n",
      "    if data[i][4] ~= 0 then \n",
      "        N = N + 1; distsum = distsum + data[i][4] \n",
      "    end \n",
      "end\n",
      "distMean = distsum / N\n",
      "print(distsum)\n",
      "print(distMean)\n",
      "distsum = 0\n",
      "for i=1,1000 do \n",
      "    if data[i][4] ~= 0 then \n",
      "        N = N + 1; distsum = distsum + (data[i][4] -distMean)*(data[i][4] -distMean)\n",
      "    end \n",
      "end\n",
      "print(math.sqrt(distsum / N))"
     ],
     "language": "python",
     "metadata": {},
     "outputs": [
      {
       "ename": "[string \"distMean = 0...\"]:3: attempt to call global 'loadData' (a nil value)\nstack traceback:\n\t[string \"distMean = 0...\"]:3: in main chunk\n\t[C]: in function 'xpcall'\n\t/root/torch/install/share/lua/5.1/itorch/main.lua:179: in function </root/torch/install/share/lua/5.1/itorch/main.lua:143>\n\t/root/torch/install/share/lua/5.1/lzmq/poller.lua:75: in function 'poll'\n\t/root/torch/install/share/lua/5.1/lzmq/impl/loop.lua:307: in function 'poll'\n\t/root/torch/install/share/lua/5.1/lzmq/impl/loop.lua:325: in function 'sleep_ex'\n\t/root/torch/install/share/lua/5.1/lzmq/impl/loop.lua:370: in function 'start'\n\t/root/torch/install/share/lua/5.1/itorch/main.lua:350: in main chunk\n\t[C]: in function 'require'\n\t(command line):1: in main chunk\n\t[C]: at 0x00406670",
       "evalue": "",
       "output_type": "pyerr",
       "traceback": [
        "[string \"distMean = 0...\"]:3: attempt to call global 'loadData' (a nil value)\nstack traceback:\n\t[string \"distMean = 0...\"]:3: in main chunk\n\t[C]: in function 'xpcall'\n\t/root/torch/install/share/lua/5.1/itorch/main.lua:179: in function </root/torch/install/share/lua/5.1/itorch/main.lua:143>\n\t/root/torch/install/share/lua/5.1/lzmq/poller.lua:75: in function 'poll'\n\t/root/torch/install/share/lua/5.1/lzmq/impl/loop.lua:307: in function 'poll'\n\t/root/torch/install/share/lua/5.1/lzmq/impl/loop.lua:325: in function 'sleep_ex'\n\t/root/torch/install/share/lua/5.1/lzmq/impl/loop.lua:370: in function 'start'\n\t/root/torch/install/share/lua/5.1/itorch/main.lua:350: in main chunk\n\t[C]: in function 'require'\n\t(command line):1: in main chunk\n\t[C]: at 0x00406670"
       ]
      }
     ],
     "prompt_number": 16
    },
    {
     "cell_type": "code",
     "collapsed": false,
     "input": [
      "data = loadData(1000)\n",
      "for i=1,1000 do\n",
      "    getLengthStay"
     ],
     "language": "python",
     "metadata": {},
     "outputs": [
      {
       "ename": "[string \"data = loadData(1000)...\"]:4: '=' expected near '<eof>'",
       "evalue": "",
       "output_type": "pyerr",
       "traceback": [
        "[string \"data = loadData(1000)...\"]:4: '=' expected near '<eof>'"
       ]
      }
     ],
     "prompt_number": 17
    },
    {
     "cell_type": "markdown",
     "metadata": {},
     "source": [
      "### Convert input to data"
     ]
    },
    {
     "cell_type": "code",
     "collapsed": false,
     "input": [
      "function tableToOutput(dataTable, scalarTable)\n",
      "   local data, scalarLabels, labels\n",
      "   local quantity = #scalarTable\n",
      "   local size = #dataTable[1]\n",
      "   data = torch.Tensor(quantity, size)\n",
      "   scalarLabels = torch.LongTensor(quantity):fill(-1111)\n",
      "   for i=1,#dataTable do\n",
      "      for j=1,#dataTable[1] do\n",
      "         data[i][j] = dataTable[i][j]\n",
      "      end\n",
      "      scalarLabels[i] = scalarTable[i]\n",
      "   end\n",
      "   return data, scalarLabels\n",
      "end"
     ],
     "language": "python",
     "metadata": {},
     "outputs": [],
     "prompt_number": 18
    },
    {
     "cell_type": "code",
     "collapsed": false,
     "input": [
      "function dataConvert(line)\n",
      "    if line == nil then\n",
      "        print('line is empty')\n",
      "    end\n",
      "    words = split(line, \",\")\n",
      "    data = {}\n",
      "    aa = split(words[1], ' ')[1]\n",
      "    binary(data, tonumber(getDate(aa)), 53) --1\n",
      "    binary(data, getDate(words[12]), 53) --12\n",
      "    binary(data, getDate(words[13]), 53) --13\n",
      "    \n",
      "    binary(data, getWeekday(aa), 7)\n",
      "    table.insert(data, isIncludeWeekend(words[12], words[13])-0.5)\n",
      "    binary(data, getLengthStay(words[12], words[13]), 30)\n",
      "    \n",
      "    if tonumber(words[7]) == nil then\n",
      "        binary(data, 0, 3600) -- distance\n",
      "    else\n",
      "        binary(data, tonumber(words[7]), 3600) -- distance\n",
      "    end\n",
      "    table.insert(data, tonumber(words[9])-0.5)\n",
      "    table.insert(data, tonumber(words[10])-0.5)\n",
      "    table.insert(data, tonumber(words[20])-0.5)\n",
      "        \n",
      "    binary(data, words[2], 54)\n",
      "    binary(data, words[3], 5)\n",
      "    binary(data, words[4], 240)\n",
      "    binary(data, words[5], 1028)\n",
      "    binary(data, words[6], 56509)\n",
      "    binary(data, words[11], 11)\n",
      "    binary(data, words[14], 10)\n",
      "    binary(data, words[15], 10)\n",
      "    binary(data, words[16], 9)\n",
      "    binary(data, words[18], 10)\n",
      "    binary(data, words[21], 7)\n",
      "    binary(data, words[22], 213)\n",
      "    binary(data, words[23], 2118)\n",
      "    \n",
      "    -- destination information (17)\n",
      "    addDestinationInfo(data, tonumber(words[17]))\n",
      "    \n",
      "    return data\n",
      "end"
     ],
     "language": "python",
     "metadata": {},
     "outputs": [],
     "prompt_number": 19
    },
    {
     "cell_type": "code",
     "collapsed": false,
     "input": [
      "function testdataConvert(line)\n",
      "    if line == nil then\n",
      "        print('line is empty')\n",
      "    end\n",
      "    words = split(line, \",\")\n",
      "    data = {}\n",
      "    aa = split(words[2], ' ')[1]\n",
      "    binary(data, tonumber(getDate(aa)), 53) --1\n",
      "    binary(data, getDate(words[13]), 53) --12\n",
      "    binary(data, getDate(words[14]), 53) --13\n",
      "    \n",
      "    binary(data, getWeekday(aa), 7)\n",
      "    table.insert(data, isIncludeWeekend(words[13], words[14])-0.5)\n",
      "    binary(data, getLengthStay(words[13], words[14]), 30)\n",
      "    \n",
      "    if tonumber(words[8]) == nil then\n",
      "        binary(data, 0, 3600) -- distance\n",
      "    else\n",
      "        binary(data, tonumber(words[8]), 3600) -- distance\n",
      "    end\n",
      "    table.insert(data, tonumber(words[10])-0.5)\n",
      "    table.insert(data, tonumber(words[11])-0.5)\n",
      "    table.insert(data, 0.5)\n",
      "        \n",
      "    binary(data, words[3], 54)\n",
      "    binary(data, words[4], 5)\n",
      "    binary(data, words[5], 240)\n",
      "    binary(data, words[6], 1028)\n",
      "    binary(data, words[7], 56509)\n",
      "    binary(data, words[12], 11)\n",
      "    binary(data, words[15], 10)\n",
      "    binary(data, words[16], 10)\n",
      "    binary(data, words[17], 9)\n",
      "    binary(data, words[19], 10)\n",
      "    binary(data, words[20], 7)\n",
      "    binary(data, words[21], 213)\n",
      "    binary(data, words[22], 2118)\n",
      "    \n",
      "    -- destination information (17)\n",
      "    addDestinationInfo(data, tonumber(words[18]))\n",
      "    \n",
      "    return data\n",
      "end"
     ],
     "language": "python",
     "metadata": {},
     "outputs": [],
     "prompt_number": 20
    },
    {
     "cell_type": "markdown",
     "metadata": {},
     "source": [
      "### Build model"
     ]
    },
    {
     "cell_type": "code",
     "collapsed": false,
     "input": [
      "model = nn.Sequential()\n",
      "-- for onehot inputsize: 3871\n",
      "model:add(nn.Linear(278, 1024))\n",
      "model:add(nn.Threshold(0, 1e-6))\n",
      "model:add(nn.ReLU())\n",
      "model:add(nn.Dropout(0.5))\n",
      "model:add(nn.Linear(1024, 256))\n",
      "model:add(nn.Threshold(0, 1e-6))\n",
      "model:add(nn.ReLU())\n",
      "model:add(nn.Dropout(0.5))\n",
      "model:add(nn.Linear(256, 100))\n",
      "model:add(nn.Sigmoid())\n",
      "model = model:cuda()\n",
      "\n",
      "params, grad_params = model:getParameters()\n",
      "crit = nn.CrossEntropyCriterion()\n",
      "crit = crit:cuda()"
     ],
     "language": "python",
     "metadata": {},
     "outputs": [],
     "prompt_number": 21
    },
    {
     "cell_type": "markdown",
     "metadata": {},
     "source": [
      "model = nn.Sequential()\n",
      "-- for onehot inputsize: 3871\n",
      "model:add(nn.Linear(252, 1024))\n",
      "model:add(nn.Sigmoid())\n",
      "model:add(nn.Linear(1024, 2048))\n",
      "model:add(nn.Sigmoid())\n",
      "model:add(nn.Linear(2048, 4096))\n",
      "model:add(nn.Sigmoid())\n",
      "model:add(nn.Linear(4096, 100))\n",
      "model = model:cuda()\n",
      "\n",
      "params, grad_params = model:getParameters()\n",
      "crit = nn.CrossEntropyCriterion()\n",
      "crit = crit:cuda()"
     ]
    },
    {
     "cell_type": "markdown",
     "metadata": {},
     "source": [
      "### Load Data"
     ]
    },
    {
     "cell_type": "code",
     "collapsed": false,
     "input": [
      "function loadData(quantity)\n",
      "    dataTable = {}\n",
      "    labTable = {}\n",
      "    for i=1,quantity do\n",
      "        local class = torch.random(0,99)\n",
      "        local fname = 'data/train/train_' .. string.format( \"%02d\", class ) .. '.csv'\n",
      "        file = io.open(fname, \"r\")\n",
      "        picked = torch.random(1,file:seek(\"end\")-200)\n",
      "        file:seek(\"set\", picked)\n",
      "        file:read()\n",
      "        table.insert(dataTable, dataConvert(file:read()))\n",
      "        table.insert(labTable, class+1)\n",
      "        io.close(file)\n",
      "    end\n",
      "    local data, label = tableToOutput(dataTable, labTable)\n",
      "    return data, label\n",
      "end"
     ],
     "language": "python",
     "metadata": {},
     "outputs": [],
     "prompt_number": 22
    },
    {
     "cell_type": "markdown",
     "metadata": {},
     "source": [
      "### Print"
     ]
    },
    {
     "cell_type": "code",
     "collapsed": false,
     "input": [
      "function PrintCM(idx)\n",
      "  local loss = 0\n",
      "  local top1 = 0\n",
      "  model:evaluate()\n",
      "  local x, y = loadData(1000)\n",
      "  x = x:cuda()\n",
      "  y = y:cuda()\n",
      "  local N = y:size(1)\n",
      "  local scores = model:forward(x)\n",
      "  loss = loss + crit:forward(scores, y)\n",
      "\n",
      "  local pred = scores:float()\n",
      "  local _, pred_sorted = pred:sort(2, true)\n",
      "\n",
      "  for i=1,N do\n",
      "    for j=1,5 do\n",
      "        if pred_sorted[i][j] == y[i] then\n",
      "          top1 = top1 + (1/j)\n",
      "        end\n",
      "    end\n",
      "  end\n",
      "  print(\"idx: \" .. idx, \"loss: \" .. loss, \"train score: \" .. top1 * 100 / N, 'label: ' .. y[1],\n",
      "        'prediction: [1]' .. pred_sorted[1][1] .. ' [2]' .. pred_sorted[1][2] .. ' [3]' .. pred_sorted[1][3] .. ' [4]' .. pred_sorted[1][4] .. ' [5]' .. pred_sorted[1][5])\n",
      "end"
     ],
     "language": "python",
     "metadata": {},
     "outputs": [],
     "prompt_number": 23
    },
    {
     "cell_type": "markdown",
     "metadata": {},
     "source": [
      "### Check Size"
     ]
    },
    {
     "cell_type": "code",
     "collapsed": false,
     "input": [
      "local x,y = loadData(2)\n",
      "print(x:size())"
     ],
     "language": "python",
     "metadata": {},
     "outputs": [
      {
       "metadata": {},
       "output_type": "pyout",
       "prompt_number": 24,
       "text": [
        "   2\n",
        " 278\n",
        "[torch.LongStorage of size 2]\n",
        "\n"
       ]
      }
     ],
     "prompt_number": 24
    },
    {
     "cell_type": "markdown",
     "metadata": {},
     "source": [
      "### Training"
     ]
    },
    {
     "cell_type": "code",
     "collapsed": false,
     "input": [
      "require 'optim';"
     ],
     "language": "python",
     "metadata": {},
     "outputs": [],
     "prompt_number": 25
    },
    {
     "cell_type": "code",
     "collapsed": false,
     "input": [
      "opt = {}\n",
      "batch_size = 10000\n",
      "train_size = 3000000\n",
      "max_epoch = 100\n",
      "opt.learningRate = 1e-1\n",
      "opt.weightDecay = 1e-2\n",
      "opt.momentum = 0.9\n",
      "opt.lr_decay_factor = 0.5\n",
      "opt.lr_decay_every = 5 * train_size / batch_size\n",
      "opt.print_every = 5\n",
      "evaluate_every = 10 * train_size / batch_size\n",
      "optim_config = {learningRate = opt.learningRate, weightDecay = opt.weightDecay, momentum = opt.momentum}\n",
      "num_iterations = max_epoch * train_size / batch_size\n",
      "epoch = 1"
     ],
     "language": "python",
     "metadata": {},
     "outputs": [],
     "prompt_number": 26
    },
    {
     "cell_type": "code",
     "collapsed": false,
     "input": [
      "opt.learningRate = 1e-2\n",
      "opt.print_every = 5\n",
      "num_iterations = max_epoch * train_size / batch_size"
     ],
     "language": "python",
     "metadata": {},
     "outputs": [],
     "prompt_number": 27
    },
    {
     "cell_type": "code",
     "collapsed": false,
     "input": [
      "-- Loss function that we pass to an optim method\n",
      "function f(w)\n",
      "  assert(w == params)\n",
      "  grad_params:zero()\n",
      "\n",
      "  --local x, y = loader:nextBatch('train')\n",
      "  local x, y = loadData(batch_size)\n",
      "  \n",
      "  x = x:cuda()\n",
      "  y = y:cuda()\n",
      "  local scores = model:forward(x)\n",
      "  local loss = crit:forward(scores, y)\n",
      "  local grad_scores = crit:backward(scores, y)\n",
      "  model:backward(x, grad_scores)\n",
      "\n",
      "  grad_params:clamp(-5, 5)\n",
      "\n",
      "  return loss, grad_params\n",
      "end"
     ],
     "language": "python",
     "metadata": {},
     "outputs": [],
     "prompt_number": 28
    },
    {
     "cell_type": "code",
     "collapsed": false,
     "input": [
      "model:training()"
     ],
     "language": "python",
     "metadata": {},
     "outputs": [],
     "prompt_number": 29
    },
    {
     "cell_type": "code",
     "collapsed": false,
     "input": [
      "function saveModel(e)\n",
      "    local filename = string.format(\"model/model_%02d.t7\", e)\n",
      "    model:clearState()\n",
      "    model:float()\n",
      "    torch.save(filename, model)\n",
      "    model:cuda()\n",
      "end"
     ],
     "language": "python",
     "metadata": {},
     "outputs": [],
     "prompt_number": 30
    },
    {
     "cell_type": "code",
     "collapsed": false,
     "input": [
      "function make_submission(idx)\n",
      "    model:evaluate()\n",
      "    testname = 'data/test.csv'\n",
      "    submission_name = string.format(\"data/submission_%02d.csv\", idx)\n",
      "    submission_file = io.open(submission_name, 'w')\n",
      "    head = 1\n",
      "    idx = 0\n",
      "    submission_file:write(\"id,hotel_cluster\\n\")\n",
      "    for line in io.lines ( testname ) do\n",
      "        if head == 1 then\n",
      "            head = 0\n",
      "        else\n",
      "            testdata = testdataConvert(line)\n",
      "            words = split(line, ',')\n",
      "            if tonumber(words[1]) ~= idx then\n",
      "                print('words:' .. words[1] .. ', idx:' .. idx)            \n",
      "                idx = words[1]\n",
      "            end\n",
      "            tx, _ = tableToOutput({testdata}, {1})\n",
      "            local outputs = model:forward(tx:cuda())\n",
      "            local _, ps = outputs:float():sort(2, true)\n",
      "            submission_file:write(idx .. ',' .. ps[1][1]-1 .. ' ' .. ps[1][2]-1 .. ' ' .. ps[1][3]-1 .. ' ' .. ps[1][4]-1 .. ' ' .. ps[1][5]-1 .. '\\n')\n",
      "            idx = idx + 1\n",
      "        end\n",
      "    end\n",
      "    io.close(submission_file)\n",
      "end"
     ],
     "language": "python",
     "metadata": {},
     "outputs": [],
     "prompt_number": 31
    },
    {
     "cell_type": "code",
     "collapsed": false,
     "input": [
      "for i = 0, num_iterations do\n",
      "    if i ~= 0 and i % opt.lr_decay_every == 0 then\n",
      "        old_lr = opt.learningRate\n",
      "        old_md = opt.weightDecay\n",
      "        opt.learningRate = opt.learningRate * opt.lr_decay_factor\n",
      "        opt.weightDecay = opt.weightDecay * opt.lr_decay_factor\n",
      "        optim_config = {learningRate = opt.learningRate, weightDecay = opt.weightDecay, momentum = opt.momentum}\n",
      "        saveModel(epoch)\n",
      "        epoch = epoch + 1\n",
      "        print('current LR: ' .. opt.learningRate)\n",
      "    end\n",
      "    \n",
      "    local _, loss = optim.sgd(f, params, optim_config)\n",
      "    if i % opt.print_every == 0 then\n",
      "        model:evaluate()\n",
      "        PrintCM(i)\n",
      "        model:training()\n",
      "    end\n",
      "    \n",
      "    if i ~= 0 and i % evaluate_every == 0 then\n",
      "        make_submission(i)\n",
      "    end\n",
      "end"
     ],
     "language": "python",
     "metadata": {},
     "outputs": [
      {
       "metadata": {},
       "output_type": "pyout",
       "prompt_number": 32,
       "text": [
        "idx: 0\tloss: 4.6037197113037\ttrain score: 1.1333333333333\tlabel: 28\tprediction: [1]89 [2]65 [3]94 [4]42 [5]80\t\n"
       ]
      },
      {
       "metadata": {},
       "output_type": "pyout",
       "prompt_number": 32,
       "text": [
        "idx: 5\tloss: 4.6037583351135\ttrain score: 1.7083333333333\tlabel: 18\tprediction: [1]89 [2]80 [3]51 [4]17 [5]5\t\n"
       ]
      },
      {
       "metadata": {},
       "output_type": "pyout",
       "prompt_number": 32,
       "text": [
        "idx: 10\tloss: 4.6035251617432\ttrain score: 2.525\tlabel: 37\tprediction: [1]25 [2]65 [3]80 [4]79 [5]97\t\n"
       ]
      },
      {
       "metadata": {},
       "output_type": "pyout",
       "prompt_number": 32,
       "text": [
        "idx: 15\tloss: 4.6030840873718\ttrain score: 2.275\tlabel: 95\tprediction: [1]89 [2]97 [3]17 [4]65 [5]76\t\n"
       ]
      },
      {
       "metadata": {},
       "output_type": "pyout",
       "prompt_number": 32,
       "text": [
        "idx: 20\tloss: 4.6018400192261\ttrain score: 2.62\tlabel: 54\tprediction: [1]65 [2]89 [3]80 [4]97 [5]29\t\n"
       ]
      },
      {
       "metadata": {},
       "output_type": "pyout",
       "prompt_number": 32,
       "text": [
        "idx: 25\tloss: 4.602463722229\ttrain score: 2.8683333333333\tlabel: 97\tprediction: [1]80 [2]97 [3]65 [4]89 [5]98\t\n"
       ]
      },
      {
       "metadata": {},
       "output_type": "pyout",
       "prompt_number": 32,
       "text": [
        "idx: 30\t"
       ]
      },
      {
       "metadata": {},
       "output_type": "pyout",
       "prompt_number": 32,
       "text": [
        "loss: 4.6014695167542\ttrain score: 3.2933333333333\tlabel: 89\tprediction: [1]89 [2]97 [3]25 [4]46 [5]76\t\n"
       ]
      },
      {
       "metadata": {},
       "output_type": "pyout",
       "prompt_number": 32,
       "text": [
        "idx: 35\tloss: 4.6026940345764\ttrain score: 2.6\tlabel: 81\tprediction: [1]89 [2]80 [3]85 [4]46 [5]36\t\n"
       ]
      },
      {
       "metadata": {},
       "output_type": "pyout",
       "prompt_number": 32,
       "text": [
        "idx: 40\tloss: 4.6014156341553\ttrain score: 3.465\tlabel: 22\tprediction: [1]89 [2]80 [3]65 [4]55 [5]97\t\n"
       ]
      },
      {
       "metadata": {},
       "output_type": "pyout",
       "prompt_number": 32,
       "text": [
        "idx: 45\tloss: 4.6014909744263\ttrain score: 3.5016666666667\tlabel: 100\tprediction: [1]89 [2]97 [3]80 [4]76 [5]65\t\n"
       ]
      },
      {
       "metadata": {},
       "output_type": "pyout",
       "prompt_number": 32,
       "text": [
        "idx: 50\tloss: 4.6009073257446\ttrain score: 4.1116666666667\tlabel: 29\tprediction: [1]89 [2]80 [3]97 [4]61 [5]65\t\n"
       ]
      },
      {
       "metadata": {},
       "output_type": "pyout",
       "prompt_number": 32,
       "text": [
        "idx: 55\tloss: 4.5995454788208\ttrain score: 4.0733333333333\tlabel: 57\tprediction: [1]89 [2]65 [3]80 [4]55 [5]17\t\n"
       ]
      },
      {
       "metadata": {},
       "output_type": "pyout",
       "prompt_number": 32,
       "text": [
        "idx: 60\tloss: 4.6000051498413\ttrain score: 3.9\tlabel: 97\tprediction: [1]89 [2]65 [3]25 [4]46 [5]76\t\n"
       ]
      },
      {
       "metadata": {},
       "output_type": "pyout",
       "prompt_number": 32,
       "text": [
        "idx: 65\tloss: 4.5993280410767\ttrain score: 4.705\tlabel: 33\tprediction: [1]89 [2]97 [3]71 [4]46 [5]65\t\n"
       ]
      },
      {
       "metadata": {},
       "output_type": "pyout",
       "prompt_number": 32,
       "text": [
        "idx: 70\tloss: 4.6012020111084\ttrain score: 3.43\tlabel: 100\tprediction: [1]51 [2]31 [3]42 [4]12 [5]32\t\n"
       ]
      },
      {
       "metadata": {},
       "output_type": "pyout",
       "prompt_number": 32,
       "text": [
        "idx: 75\tloss: 4.597825050354\ttrain score: 4.7383333333333\tlabel: 30\tprediction: [1]65 [2]25 [3]46 [4]75 [5]85\t\n"
       ]
      },
      {
       "metadata": {},
       "output_type": "pyout",
       "prompt_number": 32,
       "text": [
        "idx: 80\tloss: 4.5980405807495\ttrain score: 4.1616666666667\tlabel: 47\tprediction: [1]89 [2]65 [3]25 [4]80 [5]51\t\n"
       ]
      },
      {
       "metadata": {},
       "output_type": "pyout",
       "prompt_number": 32,
       "text": [
        "idx: 85\tloss: 4.5990028381348\ttrain score: 4.735\tlabel: 47\tprediction: [1]89 [2]57 [3]97 [4]65 [5]80\t\n"
       ]
      },
      {
       "metadata": {},
       "output_type": "pyout",
       "prompt_number": 32,
       "text": [
        "idx: 90\tloss: 4.5988936424255\ttrain score: 4.2116666666667\tlabel: 67\tprediction: [1]57 [2]67 [3]66 [4]65 [5]89\t\n"
       ]
      },
      {
       "metadata": {},
       "output_type": "pyout",
       "prompt_number": 32,
       "text": [
        "idx: 95\tloss: 4.5961709022522\ttrain score: 4.2066666666667\tlabel: 45\tprediction: [1]94 [2]17 [3]42 [4]36 [5]89\t\n"
       ]
      },
      {
       "metadata": {},
       "output_type": "pyout",
       "prompt_number": 32,
       "text": [
        "idx: 100\tloss: 4.597722530365\ttrain score: 4.1166666666667\tlabel: 97\tprediction: [1]57 [2]89 [3]46 [4]97 [5]25\t\n"
       ]
      },
      {
       "metadata": {},
       "output_type": "pyout",
       "prompt_number": 32,
       "text": [
        "idx: 105\tloss: 4.5975050926208\ttrain score: 4.9616666666667\tlabel: 71\tprediction: [1]46 [2]57 [3]89 [4]25 [5]71\t\n"
       ]
      },
      {
       "metadata": {},
       "output_type": "pyout",
       "prompt_number": 32,
       "text": [
        "idx: 110\tloss: 4.5966100692749\ttrain score: 4.5333333333333\tlabel: 18\tprediction: [1]46 [2]97 [3]65 [4]89 [5]57\t\n"
       ]
      },
      {
       "metadata": {},
       "output_type": "pyout",
       "prompt_number": 32,
       "text": [
        "idx: 115\tloss: 4.595196723938\ttrain score: 6.005\tlabel: 61\tprediction: [1]17 [2]97 [3]42 [4]80 [5]89\t\n"
       ]
      },
      {
       "metadata": {},
       "output_type": "pyout",
       "prompt_number": 32,
       "text": [
        "idx: 120\tloss: 4.5958971977234\ttrain score: 5.595\tlabel: 15\tprediction: [1]80 [2]89 [3]85 [4]57 [5]71\t\n"
       ]
      },
      {
       "metadata": {},
       "output_type": "pyout",
       "prompt_number": 32,
       "text": [
        "idx: 125\tloss: 4.5955166816711\ttrain score: 5.835\tlabel: 63\tprediction: [1]65 [2]89 [3]95 [4]78 [5]55\t\n"
       ]
      },
      {
       "metadata": {},
       "output_type": "pyout",
       "prompt_number": 32,
       "text": [
        "idx: 130\tloss: 4.5946888923645\ttrain score: 5.915\tlabel: 59\tprediction: [1]81 [2]63 [3]89 [4]31 [5]36\t\n"
       ]
      },
      {
       "metadata": {},
       "output_type": "pyout",
       "prompt_number": 32,
       "text": [
        "idx: 135\tloss: 4.5948119163513\ttrain score: 5.63\tlabel: 77\tprediction: [1]25 [2]80 [3]89 [4]56 [5]46\t\n"
       ]
      },
      {
       "metadata": {},
       "output_type": "pyout",
       "prompt_number": 32,
       "text": [
        "idx: 140\tloss: 4.5948252677917\ttrain score: 4.9783333333333\tlabel: 12\tprediction: [1]42 [2]31 [3]81 [4]54 [5]36\t\n"
       ]
      },
      {
       "metadata": {},
       "output_type": "pyout",
       "prompt_number": 32,
       "text": [
        "idx: 145\tloss: 4.5969944000244\ttrain score: 4.5316666666667\tlabel: 2\tprediction: [1]89 [2]46 [3]25 [4]2 [5]80\t\n"
       ]
      },
      {
       "metadata": {},
       "output_type": "pyout",
       "prompt_number": 32,
       "text": [
        "idx: 150\tloss: 4.5936756134033\ttrain score: 5.73\tlabel: 50\tprediction: [1]57 [2]46 [3]89 [4]97 [5]20\t\n"
       ]
      },
      {
       "metadata": {},
       "output_type": "pyout",
       "prompt_number": 32,
       "text": [
        "idx: 155\tloss: 4.5924477577209\ttrain score: 5.2633333333333\tlabel: 34\tprediction: [1]46 [2]57 [3]89 [4]25 [5]71\t"
       ]
      },
      {
       "metadata": {},
       "output_type": "pyout",
       "prompt_number": 32,
       "text": [
        "\n"
       ]
      },
      {
       "metadata": {},
       "output_type": "pyout",
       "prompt_number": 32,
       "text": [
        "idx: 160\tloss: 4.5953092575073\ttrain score: 4.7183333333333\tlabel: 17\tprediction: [1]89 [2]85 [3]46 [4]57 [5]80\t\n"
       ]
      },
      {
       "metadata": {},
       "output_type": "pyout",
       "prompt_number": 32,
       "text": [
        "idx: 165\tloss: 4.5935854911804\ttrain score: 5.795\tlabel: 80\tprediction: [1]46 [2]89 [3]25 [4]2 [5]80\t\n"
       ]
      },
      {
       "metadata": {},
       "output_type": "pyout",
       "prompt_number": 32,
       "text": [
        "idx: 170\tloss: 4.593713760376\ttrain score: 4.8833333333333\tlabel: 16\tprediction: [1]57 [2]89 [3]46 [4]25 [5]80\t\n"
       ]
      },
      {
       "metadata": {},
       "output_type": "pyout",
       "prompt_number": 32,
       "text": [
        "idx: 175\tloss: 4.5935659408569\ttrain score: 5.9416666666667\tlabel: 58\tprediction: [1]46 [2]57 [3]72 [4]25 [5]71\t\n"
       ]
      },
      {
       "metadata": {},
       "output_type": "pyout",
       "prompt_number": 32,
       "text": [
        "idx: 180\tloss: 4.5924301147461\ttrain score: 5.0283333333333\tlabel: 86\tprediction: [1]89 [2]97 [3]57 [4]80 [5]46\t\n"
       ]
      },
      {
       "metadata": {},
       "output_type": "pyout",
       "prompt_number": 32,
       "text": [
        "idx: 185\tloss: 4.5925636291504\ttrain score: 4.8833333333333\tlabel: 65\tprediction: [1]42 [2]36 [3]81 [4]58 [5]94\t\n"
       ]
      },
      {
       "metadata": {},
       "output_type": "pyout",
       "prompt_number": 32,
       "text": [
        "idx: 190\tloss: 4.5932860374451\ttrain score: 5.2416666666667\tlabel: 49\tprediction: [1]54 [2]95 [3]17 [4]78 [5]81\t\n"
       ]
      },
      {
       "metadata": {},
       "output_type": "pyout",
       "prompt_number": 32,
       "text": [
        "idx: 195\tloss: 4.592013835907\ttrain score: 5.9683333333333\tlabel: 31\tprediction: [1]57 [2]20 [3]80 [4]46 [5]25\t\n"
       ]
      },
      {
       "metadata": {},
       "output_type": "pyout",
       "prompt_number": 32,
       "text": [
        "idx: 200\tloss: 4.5909752845764\ttrain score: 5.0066666666667\tlabel: 30\tprediction: [1]57 [2]89 [3]72 [4]71 [5]46\t\n"
       ]
      },
      {
       "metadata": {},
       "output_type": "pyout",
       "prompt_number": 32,
       "text": [
        "idx: 205\tloss: 4.5887894630432\ttrain score: 5.475\tlabel: 4\tprediction: [1]81 [2]54 [3]42 [4]31 [5]63\t\n"
       ]
      },
      {
       "metadata": {},
       "output_type": "pyout",
       "prompt_number": 32,
       "text": [
        "idx: 210\tloss: 4.5864686965942\ttrain score: 6.44\tlabel: 60\tprediction: [1]46 [2]89 [3]57 [4]80 [5]72\t\n"
       ]
      },
      {
       "metadata": {},
       "output_type": "pyout",
       "prompt_number": 32,
       "text": [
        "idx: 215\tloss: 4.5886030197144\ttrain score: 5.2266666666667\tlabel: 90\tprediction: [1]31 [2]81 [3]58 [4]51 [5]42\t\n"
       ]
      },
      {
       "metadata": {},
       "output_type": "pyout",
       "prompt_number": 32,
       "text": [
        "idx: 220\tloss: 4.5902180671692\ttrain score: 4.97\tlabel: 51\tprediction: [1]89 [2]80 [3]25 [4]85 [5]72\t\n"
       ]
      },
      {
       "metadata": {},
       "output_type": "pyout",
       "prompt_number": 32,
       "text": [
        "idx: 225\tloss: 4.5867810249329\ttrain score: 6.025\tlabel: 7\tprediction: [1]89 [2]57 [3]46 [4]80 [5]25\t\n"
       ]
      },
      {
       "metadata": {},
       "output_type": "pyout",
       "prompt_number": 32,
       "text": [
        "idx: 230\tloss: 4.5884103775024\ttrain score: 4.4716666666667\tlabel: 42\tprediction: [1]81 [2]54 [3]31 [4]51 [5]36\t\n"
       ]
      },
      {
       "metadata": {},
       "output_type": "pyout",
       "prompt_number": 32,
       "text": [
        "idx: 235\tloss: 4.5890636444092\ttrain score: 5.5383333333333\tlabel: 6\tprediction: [1]89 [2]25 [3]46 [4]57 [5]80\t\n"
       ]
      },
      {
       "metadata": {},
       "output_type": "pyout",
       "prompt_number": 32,
       "text": [
        "idx: 240\tloss: 4.5902070999146\ttrain score: 5.1683333333333\tlabel: 43\tprediction: [1]89 [2]80 [3]57 [4]25 [5]85\t\n"
       ]
      },
      {
       "metadata": {},
       "output_type": "pyout",
       "prompt_number": 32,
       "text": [
        "idx: 245\tloss: 4.5866441726685\ttrain score: 5.6733333333333\tlabel: 55\tprediction: [1]31 [2]42 [3]81 [4]51 [5]58\t\n"
       ]
      },
      {
       "metadata": {},
       "output_type": "pyout",
       "prompt_number": 32,
       "text": [
        "idx: 250\tloss: 4.5889186859131\ttrain score: 4.52\tlabel: 85\tprediction: [1]46 [2]2 [3]25 [4]80 [5]57\t\n"
       ]
      },
      {
       "metadata": {},
       "output_type": "pyout",
       "prompt_number": 32,
       "text": [
        "idx: 255\tloss: 4.5882930755615\ttrain score: 5.2633333333333\tlabel: 13\tprediction: [1]31 [2]42 [3]23 [4]93 [5]51\t\n"
       ]
      },
      {
       "metadata": {},
       "output_type": "pyout",
       "prompt_number": 32,
       "text": [
        "idx: 260\tloss: 4.5845322608948\ttrain score: 5.64\tlabel: 9\tprediction: [1]89 [2]85 [3]80 [4]25 [5]78\t\n"
       ]
      },
      {
       "metadata": {},
       "output_type": "pyout",
       "prompt_number": 32,
       "text": [
        "idx: 265\tloss: 4.5889611244202\ttrain score: 5.075\tlabel: 82\tprediction: [1]80 [2]89 [3]57 [4]85 [5]72\t\n"
       ]
      },
      {
       "metadata": {},
       "output_type": "pyout",
       "prompt_number": 32,
       "text": [
        "idx: 270\tloss: 4.5849175453186\ttrain score: 5.4533333333333\tlabel: 24\tprediction: [1]57 [2]72 [3]80 [4]89 [5]46\t\n"
       ]
      },
      {
       "metadata": {},
       "output_type": "pyout",
       "prompt_number": 32,
       "text": [
        "idx: 275\tloss: 4.586799621582\ttrain score: 5.3883333333333\tlabel: 48\tprediction: [1]81 [2]54 [3]63 [4]45 [5]31\t\n"
       ]
      },
      {
       "metadata": {},
       "output_type": "pyout",
       "prompt_number": 32,
       "text": [
        "idx: 280\tloss: 4.582362651825\ttrain score: 5.8833333333333\tlabel: 95\tprediction: [1]80 [2]85 [3]65 [4]78 [5]41\t\n"
       ]
      },
      {
       "metadata": {},
       "output_type": "pyout",
       "prompt_number": 32,
       "text": [
        "idx: 285\tloss: 4.5832362174988\ttrain score: 6.1716666666667\tlabel: 13\tprediction: [1]46 [2]89 [3]57 [4]80 [5]25\t\n"
       ]
      },
      {
       "metadata": {},
       "output_type": "pyout",
       "prompt_number": 32,
       "text": [
        "idx: 290\tloss: 4.5848450660706\ttrain score: 5.0566666666667\tlabel: 44\tprediction: [1]46 [2]89 [3]25 [4]57 [5]72\t\n"
       ]
      },
      {
       "metadata": {},
       "output_type": "pyout",
       "prompt_number": 32,
       "text": [
        "idx: 295\tloss: 4.5814671516418\ttrain score: 5.5333333333333\tlabel: 65\tprediction: [1]46 [2]57 [3]72 [4]89 [5]25\t\n"
       ]
      },
      {
       "metadata": {},
       "output_type": "pyout",
       "prompt_number": 32,
       "text": [
        "idx: 300\tloss: 4.5858788490295\ttrain score: 4.7833333333333\tlabel: 34\tprediction: [1]46 [2]89 [3]25 [4]57 [5]72\t\n"
       ]
      },
      {
       "metadata": {},
       "output_type": "pyout",
       "prompt_number": 32,
       "text": [
        "idx: 305\tloss: 4.5798559188843\ttrain score: 5.6216666666667\tlabel: 21\tprediction: [1]54 [2]81 [3]63 [4]31 [5]45\t\n"
       ]
      },
      {
       "metadata": {},
       "output_type": "pyout",
       "prompt_number": 32,
       "text": [
        "idx: 310\tloss: 4.5833368301392\ttrain score: 4.845\tlabel: 33\tprediction: [1]81 [2]54 [3]63 [4]28 [5]45\t\n"
       ]
      },
      {
       "metadata": {},
       "output_type": "pyout",
       "prompt_number": 32,
       "text": [
        "idx: 315\tloss: 4.5833306312561\ttrain score: 5.7783333333333\tlabel: 90\tprediction: [1]46 [2]89 [3]25 [4]57 [5]20\t\n"
       ]
      },
      {
       "metadata": {},
       "output_type": "pyout",
       "prompt_number": 32,
       "text": [
        "idx: 320\tloss: 4.5812740325928\ttrain score: 5.5483333333333\tlabel: 28\tprediction: [1]81 [2]54 [3]63 [4]31 [5]28\t\n"
       ]
      },
      {
       "metadata": {},
       "output_type": "pyout",
       "prompt_number": 32,
       "text": [
        "idx: 325\tloss: 4.5859174728394\ttrain score: 4.4083333333333\tlabel: 29\tprediction: [1]46 [2]25 [3]89 [4]57 [5]72\t\n"
       ]
      },
      {
       "metadata": {},
       "output_type": "pyout",
       "prompt_number": 32,
       "text": [
        "idx: 330\tloss: 4.5830092430115\ttrain score: 6.17\t"
       ]
      },
      {
       "metadata": {},
       "output_type": "pyout",
       "prompt_number": 32,
       "text": [
        "label: 36\tprediction: [1]80 [2]89 [3]72 [4]57 [5]46\t\n"
       ]
      },
      {
       "metadata": {},
       "output_type": "pyout",
       "prompt_number": 32,
       "text": [
        "idx: 335\tloss: 4.5841708183289\ttrain score: 5.115\tlabel: 11\tprediction: [1]46 [2]57 [3]25 [4]72 [5]2\t\n"
       ]
      },
      {
       "metadata": {},
       "output_type": "pyout",
       "prompt_number": 32,
       "text": [
        "idx: 340\tloss: 4.5826344490051\ttrain score: 5.0916666666667\tlabel: 83\tprediction: [1]81 [2]63 [3]93 [4]16 [5]42\t\n"
       ]
      },
      {
       "metadata": {},
       "output_type": "pyout",
       "prompt_number": 32,
       "text": [
        "idx: 345\tloss: 4.5805344581604\ttrain score: 4.62\tlabel: 84\tprediction: [1]46 [2]25 [3]80 [4]57 [5]72\t\n"
       ]
      },
      {
       "metadata": {},
       "output_type": "pyout",
       "prompt_number": 32,
       "text": [
        "idx: 350\tloss: 4.5795497894287\ttrain score: 5.4583333333333\tlabel: 66\tprediction: [1]25 [2]46 [3]57 [4]2 [5]89\t\n"
       ]
      },
      {
       "metadata": {},
       "output_type": "pyout",
       "prompt_number": 32,
       "text": [
        "idx: 355\tloss: 4.5827107429504\ttrain score: 5.38\tlabel: 33\tprediction: [1]46 [2]57 [3]72 [4]25 [5]20\t\n"
       ]
      },
      {
       "metadata": {},
       "output_type": "pyout",
       "prompt_number": 32,
       "text": [
        "idx: 360\tloss: 4.5765433311462\ttrain score: 5.52\t"
       ]
      },
      {
       "metadata": {},
       "output_type": "pyout",
       "prompt_number": 32,
       "text": [
        "label: 60\tprediction: [1]80 [2]89 [3]85 [4]55 [5]25\t\n"
       ]
      },
      {
       "metadata": {},
       "output_type": "pyout",
       "prompt_number": 32,
       "text": [
        "idx: 365\tloss: 4.5837001800537\ttrain score: 4.0433333333333\tlabel: 69\tprediction: [1]46 [2]57 [3]72 [4]25 [5]89\t"
       ]
      },
      {
       "metadata": {},
       "output_type": "pyout",
       "prompt_number": 32,
       "text": [
        "\n"
       ]
      },
      {
       "metadata": {},
       "output_type": "pyout",
       "prompt_number": 32,
       "text": [
        "idx: 370\tloss: 4.5777778625488\ttrain score: 6.2716666666667\tlabel: 53\tprediction: [1]54 [2]36 [3]31 [4]42 [5]95\t\n"
       ]
      },
      {
       "metadata": {},
       "output_type": "pyout",
       "prompt_number": 32,
       "text": [
        "idx: 375\tloss: 4.5784611701965\ttrain score: 5.335\tlabel: 52\tprediction: [1]81 [2]54 [3]63 [4]28 [5]31\t\n"
       ]
      },
      {
       "metadata": {},
       "output_type": "pyout",
       "prompt_number": 32,
       "text": [
        "idx: 380\tloss: 4.5831370353699\ttrain score: 4.5333333333333\tlabel: 97\tprediction: [1]46 [2]89 [3]80 [4]25 [5]72\t\n"
       ]
      },
      {
       "metadata": {},
       "output_type": "pyout",
       "prompt_number": 32,
       "text": [
        "idx: 385\tloss: 4.5749483108521\ttrain score: 6.0133333333333\tlabel: 25\tprediction: [1]46 [2]89 [3]25 [4]2 [5]80\t\n"
       ]
      },
      {
       "metadata": {},
       "output_type": "pyout",
       "prompt_number": 32,
       "text": [
        "idx: 390\tloss: 4.5781326293945\ttrain score: 5.1266666666667\tlabel: 64\tprediction: [1]81 [2]63 [3]28 [4]54 [5]45\t\n"
       ]
      },
      {
       "metadata": {},
       "output_type": "pyout",
       "prompt_number": 32,
       "text": [
        "idx: 395\tloss: 4.5686483383179\ttrain score: 6.1516666666667\tlabel: 79\tprediction: [1]81 [2]63 [3]54 [4]28 [5]45\t\n"
       ]
      },
      {
       "metadata": {},
       "output_type": "pyout",
       "prompt_number": 32,
       "text": [
        "idx: 400\tloss: 4.5758500099182\ttrain score: 5.0933333333333\tlabel: 83\tprediction: [1]81 [2]63 [3]54 [4]93 [5]23\t\n"
       ]
      },
      {
       "metadata": {},
       "output_type": "pyout",
       "prompt_number": 32,
       "text": [
        "idx: 405\tloss: 4.5827560424805\ttrain score: 4.4766666666667\tlabel: 43\tprediction: [1]46 [2]25 [3]89 [4]57 [5]2\t\n"
       ]
      },
      {
       "metadata": {},
       "output_type": "pyout",
       "prompt_number": 32,
       "text": [
        "idx: 410\tloss: 4.5812616348267\ttrain score: 4.67\tlabel: 7\tprediction: [1]54 [2]81 [3]17 [4]23 [5]58\t\n"
       ]
      },
      {
       "metadata": {},
       "output_type": "pyout",
       "prompt_number": 32,
       "text": [
        "idx: 415\tloss: 4.5772171020508\ttrain score: 4.3066666666667\tlabel: 41\tprediction: [1]80 [2]57 [3]72 [4]42 [5]85\t"
       ]
      },
      {
       "metadata": {},
       "output_type": "pyout",
       "prompt_number": 32,
       "text": [
        "\n"
       ]
      },
      {
       "metadata": {},
       "output_type": "pyout",
       "prompt_number": 32,
       "text": [
        "idx: 420\tloss: 4.5754265785217\ttrain score: 4.91\tlabel: 77\tprediction: [1]46 [2]25 [3]89 [4]2 [5]80\t\n"
       ]
      },
      {
       "metadata": {},
       "output_type": "pyout",
       "prompt_number": 32,
       "text": [
        "idx: 425\tloss: 4.5751338005066\ttrain score: 5.3866666666667\tlabel: 57\tprediction: [1]57 [2]46 [3]80 [4]2 [5]25\t\n"
       ]
      },
      {
       "metadata": {},
       "output_type": "pyout",
       "prompt_number": 32,
       "text": [
        "idx: 430\tloss: 4.5714025497437\ttrain score: 6.015\tlabel: 99\tprediction: [1]46 [2]25 [3]2 [4]57 [5]20\t\n"
       ]
      },
      {
       "metadata": {},
       "output_type": "pyout",
       "prompt_number": 32,
       "text": [
        "idx: 435\tloss: 4.5747294425964\ttrain score: 4.4533333333333\tlabel: 33\tprediction: [1]46 [2]72 [3]57 [4]80 [5]2\t\n"
       ]
      },
      {
       "metadata": {},
       "output_type": "pyout",
       "prompt_number": 32,
       "text": [
        "idx: 440\tloss: 4.5764245986938\ttrain score: 5.0666666666667\tlabel: 71\tprediction: [1]46 [2]25 [3]89 [4]80 [5]2\t\n"
       ]
      },
      {
       "metadata": {},
       "output_type": "pyout",
       "prompt_number": 32,
       "text": [
        "idx: 445\tloss: 4.5736422538757\ttrain score: 5.165\tlabel: 9\tprediction: [1]46 [2]2 [3]25 [4]80 [5]57\t\n"
       ]
      },
      {
       "metadata": {},
       "output_type": "pyout",
       "prompt_number": 32,
       "text": [
        "idx: 450\tloss: 4.5697145462036\ttrain score: 5.4833333333333\tlabel: 95\tprediction: [1]17 [2]42 [3]85 [4]80 [5]95\t\n"
       ]
      },
      {
       "metadata": {},
       "output_type": "pyout",
       "prompt_number": 32,
       "text": [
        "idx: 455\tloss: 4.5771946907043\ttrain score: 4.4633333333333\tlabel: 95\tprediction: [1]46 [2]25 [3]72 [4]57 [5]80\t\n"
       ]
      },
      {
       "metadata": {},
       "output_type": "pyout",
       "prompt_number": 32,
       "text": [
        "idx: 460\tloss: 4.5750598907471\ttrain score: 5.35\tlabel: 31\tprediction: [1]80 [2]25 [3]20 [4]57 [5]2\t\n"
       ]
      },
      {
       "metadata": {},
       "output_type": "pyout",
       "prompt_number": 32,
       "text": [
        "idx: 465\tloss: 4.5800528526306\ttrain score: 3.8783333333333\tlabel: 30\tprediction: [1]54 [2]81 [3]28 [4]63 [5]23\t\n"
       ]
      },
      {
       "metadata": {},
       "output_type": "pyout",
       "prompt_number": 32,
       "text": [
        "idx: 470\tloss: 4.5727710723877\ttrain score: 5.1966666666667\tlabel: 79\tprediction: [1]81 [2]63 [3]54 [4]28 [5]31\t\n"
       ]
      },
      {
       "metadata": {},
       "output_type": "pyout",
       "prompt_number": 32,
       "text": [
        "idx: 475\tloss: 4.5668821334839\ttrain score: 4.9\tlabel: 71\tprediction: [1]46 [2]25 [3]57 [4]89 [5]2\t\n"
       ]
      },
      {
       "metadata": {},
       "output_type": "pyout",
       "prompt_number": 32,
       "text": [
        "idx: 480\tloss: 4.5726246833801\ttrain score: 5.4183333333333\tlabel: 32\tprediction: [1]46 [2]25 [3]2 [4]57 [5]80\t\n"
       ]
      },
      {
       "metadata": {},
       "output_type": "pyout",
       "prompt_number": 32,
       "text": [
        "idx: 485\tloss: 4.5770649909973\ttrain score: 4.7116666666667\tlabel: 30\tprediction: [1]81 [2]28 [3]63 [4]54 [5]31\t\n"
       ]
      },
      {
       "metadata": {},
       "output_type": "pyout",
       "prompt_number": 32,
       "text": [
        "idx: 490\tloss: 4.5692219734192\ttrain score: 5.255\tlabel: 42\tprediction: [1]46 [2]25 [3]89 [4]2 [5]80\t\n"
       ]
      },
      {
       "metadata": {},
       "output_type": "pyout",
       "prompt_number": 32,
       "text": [
        "idx: 495\tloss: 4.5729427337646\ttrain score: 4.95\tlabel: 36\tprediction: [1]46 [2]25 [3]57 [4]89 [5]2\t\n"
       ]
      },
      {
       "metadata": {},
       "output_type": "pyout",
       "prompt_number": 32,
       "text": [
        "idx: 500\tloss: 4.5708136558533\ttrain score: 4.15\tlabel: 11\tprediction: [1]25 [2]46 [3]80 [4]2 [5]89\t\n"
       ]
      },
      {
       "metadata": {},
       "output_type": "pyout",
       "prompt_number": 32,
       "text": [
        "idx: 505\tloss: 4.57377576828\ttrain score: 4.0733333333333\tlabel: 56\tprediction: [1]46 [2]25 [3]89 [4]2 [5]57\t\n"
       ]
      },
      {
       "metadata": {},
       "output_type": "pyout",
       "prompt_number": 32,
       "text": [
        "idx: 510\tloss: 4.5755338668823\ttrain score: 3.8683333333333\tlabel: 89\tprediction: [1]46 [2]25 [3]89 [4]2 [5]80\t\n"
       ]
      },
      {
       "metadata": {},
       "output_type": "pyout",
       "prompt_number": 32,
       "text": [
        "idx: 515\tloss: 4.5709352493286\ttrain score: 4.5866666666667\tlabel: 23\tprediction: [1]25 [2]80 [3]46 [4]57 [5]89\t\n"
       ]
      },
      {
       "metadata": {},
       "output_type": "pyout",
       "prompt_number": 32,
       "text": [
        "idx: 520\tloss: 4.5715050697327\ttrain score: 5.3866666666667\tlabel: 68\tprediction: [1]63 [2]28 [3]81 [4]31 [5]54\t\n"
       ]
      },
      {
       "metadata": {},
       "output_type": "pyout",
       "prompt_number": 32,
       "text": [
        "idx: 525\tloss: 4.574333190918\ttrain score: 5.06\tlabel: 36\tprediction: [1]80 [2]85 [3]20 [4]72 [5]57\t\n"
       ]
      },
      {
       "metadata": {},
       "output_type": "pyout",
       "prompt_number": 32,
       "text": [
        "idx: 530\tloss: 4.5734295845032\ttrain score: 4.3333333333333\tlabel: 35\tprediction: [1]46 [2]25 [3]2 [4]89 [5]80\t\n"
       ]
      },
      {
       "metadata": {},
       "output_type": "pyout",
       "prompt_number": 32,
       "text": [
        "idx: 535\tloss: 4.5666742324829\ttrain score: 5.41\tlabel: 47\tprediction: [1]42 [2]85 [3]78 [4]57 [5]51\t\n"
       ]
      },
      {
       "metadata": {},
       "output_type": "pyout",
       "prompt_number": 32,
       "text": [
        "idx: 540\tloss: 4.5733952522278\ttrain score: 3.9183333333333\tlabel: 59\tprediction: [1]81 [2]28 [3]63 [4]54 [5]31\t\n"
       ]
      },
      {
       "metadata": {},
       "output_type": "pyout",
       "prompt_number": 32,
       "text": [
        "idx: 545\tloss: 4.5744309425354\ttrain score: 5.895\tlabel: 51\tprediction: [1]25 [2]46 [3]2 [4]80 [5]89\t\n"
       ]
      },
      {
       "metadata": {},
       "output_type": "pyout",
       "prompt_number": 32,
       "text": [
        "idx: 550\tloss: 4.5659470558167\ttrain score: 6.1583333333333\tlabel: 89\tprediction: [1]46 [2]25 [3]89 [4]2 [5]80\t\n"
       ]
      },
      {
       "metadata": {},
       "output_type": "pyout",
       "prompt_number": 32,
       "text": [
        "idx: 555\tloss: 4.5746688842773\ttrain score: 3.8766666666667\tlabel: 30\tprediction: [1]57 [2]20 [3]72 [4]99 [5]25\t\n"
       ]
      },
      {
       "metadata": {},
       "output_type": "pyout",
       "prompt_number": 32,
       "text": [
        "idx: 560\t"
       ]
      },
      {
       "metadata": {},
       "output_type": "pyout",
       "prompt_number": 32,
       "text": [
        "loss: 4.5723943710327\ttrain score: 4.985\tlabel: 32\tprediction: [1]25 [2]46 [3]2 [4]80 [5]89\t\n"
       ]
      },
      {
       "metadata": {},
       "output_type": "pyout",
       "prompt_number": 32,
       "text": [
        "idx: 565\tloss: 4.5688076019287\ttrain score: 4.525\tlabel: 17\tprediction: [1]81 [2]28 [3]63 [4]54 [5]31\t\n"
       ]
      },
      {
       "metadata": {},
       "output_type": "pyout",
       "prompt_number": 32,
       "text": [
        "idx: 570\tloss: 4.5671939849854\ttrain score: 4.9\tlabel: 28\tprediction: [1]81 [2]28 [3]63 [4]54 [5]31\t\n"
       ]
      },
      {
       "metadata": {},
       "output_type": "pyout",
       "prompt_number": 32,
       "text": [
        "idx: 575\tloss: 4.5725841522217\ttrain score: 5.3016666666667\tlabel: 77\tprediction: [1]75 [2]81 [3]28 [4]23 [5]45\t\n"
       ]
      },
      {
       "metadata": {},
       "output_type": "pyout",
       "prompt_number": 32,
       "text": [
        "idx: 580\tloss: 4.5648822784424\ttrain score: 4.8766666666667\tlabel: 21\tprediction: [1]81 [2]28 [3]63 [4]54 [5]31\t\n"
       ]
      },
      {
       "metadata": {},
       "output_type": "pyout",
       "prompt_number": 32,
       "text": [
        "idx: 585\tloss: 4.5719747543335\ttrain score: 4.415\tlabel: 90\tprediction: [1]57 [2]20 [3]80 [4]72 [5]50\t\n"
       ]
      },
      {
       "metadata": {},
       "output_type": "pyout",
       "prompt_number": 32,
       "text": [
        "idx: 590\tloss: 4.5740280151367\ttrain score: 4.5483333333333\tlabel: 7\tprediction: [1]46 [2]25 [3]57 [4]2 [5]80\t\n"
       ]
      },
      {
       "metadata": {},
       "output_type": "pyout",
       "prompt_number": 32,
       "text": [
        "idx: 595\tloss: 4.5754885673523\ttrain score: 5.1966666666667\tlabel: 75\tprediction: [1]75 [2]20 [3]80 [4]2 [5]85\t\n"
       ]
      },
      {
       "metadata": {},
       "output_type": "pyout",
       "prompt_number": 32,
       "text": [
        "idx: 600\tloss: 4.5735564231873\ttrain score: 4.3383333333333\tlabel: 77\tprediction: [1]25 [2]46 [3]2 [4]80 [5]57\t\n"
       ]
      },
      {
       "metadata": {},
       "output_type": "pyout",
       "prompt_number": 32,
       "text": [
        "idx: 605\tloss: 4.5710592269897\ttrain score: 4.4166666666667\tlabel: 63\tprediction: [1]81 [2]28 [3]63 [4]54 [5]31\t\n"
       ]
      },
      {
       "metadata": {},
       "output_type": "pyout",
       "prompt_number": 32,
       "text": [
        "idx: 610\tloss: 4.5701665878296\ttrain score: 4.775\tlabel: 39\tprediction: [1]81 [2]28 [3]63 [4]54 [5]31\t\n"
       ]
      },
      {
       "metadata": {},
       "output_type": "pyout",
       "prompt_number": 32,
       "text": [
        "idx: 615\tloss: 4.5764656066895\ttrain score: 4.44\tlabel: 87\tprediction: [1]25 [2]46 [3]2 [4]57 [5]80\t\n"
       ]
      },
      {
       "metadata": {},
       "output_type": "pyout",
       "prompt_number": 32,
       "text": [
        "idx: 620\tloss: 4.559579372406\ttrain score: 5.555\tlabel: 7\tprediction: [1]20 [2]57 [3]80 [4]85 [5]70\t\n"
       ]
      },
      {
       "metadata": {},
       "output_type": "pyout",
       "prompt_number": 32,
       "text": [
        "idx: 625\tloss: 4.5663247108459\ttrain score: 5.9233333333333\tlabel: 81\tprediction: [1]81 [2]28 [3]63 [4]54 [5]31\t\n"
       ]
      },
      {
       "metadata": {},
       "output_type": "pyout",
       "prompt_number": 32,
       "text": [
        "idx: 630\tloss: 4.5779085159302\ttrain score: 4.735\tlabel: 36\tprediction: [1]80 [2]20 [3]2 [4]25 [5]57\t\n"
       ]
      },
      {
       "metadata": {},
       "output_type": "pyout",
       "prompt_number": 32,
       "text": [
        "idx: 635\tloss: 4.5582022666931\ttrain score: 5.2166666666667\tlabel: 42\tprediction: [1]25 [2]46 [3]2 [4]89 [5]80\t\n"
       ]
      },
      {
       "metadata": {},
       "output_type": "pyout",
       "prompt_number": 32,
       "text": [
        "idx: 640\tloss: 4.5641508102417\ttrain score: 4.5766666666667\tlabel: 25\tprediction: [1]46 [2]25 [3]2 [4]89 [5]80\t\n"
       ]
      },
      {
       "metadata": {},
       "output_type": "pyout",
       "prompt_number": 32,
       "text": [
        "idx: 645\tloss: 4.5682168006897\ttrain score: 5.2416666666667\tlabel: 90\tprediction: [1]25 [2]46 [3]2 [4]80 [5]20\t\n"
       ]
      },
      {
       "metadata": {},
       "output_type": "pyout",
       "prompt_number": 32,
       "text": [
        "idx: 650\tloss: 4.5576519966125\ttrain score: 5.0283333333333\tlabel: 95\tprediction: [1]25 [2]46 [3]2 [4]80 [5]89\t\n"
       ]
      },
      {
       "metadata": {},
       "output_type": "pyout",
       "prompt_number": 32,
       "text": [
        "idx: 655\tloss: 4.5588812828064\ttrain score: 5.1516666666667\tlabel: 93\tprediction: [1]81 [2]28 [3]63 [4]54 [5]31\t\n"
       ]
      },
      {
       "metadata": {},
       "output_type": "pyout",
       "prompt_number": 32,
       "text": [
        "idx: 660\tloss: 4.5623984336853\ttrain score: 5.0483333333333\tlabel: 60\tprediction: [1]81 [2]28 [3]63 [4]31 [5]54\t\n"
       ]
      },
      {
       "metadata": {},
       "output_type": "pyout",
       "prompt_number": 32,
       "text": [
        "idx: 665\tloss: 4.5692949295044\ttrain score: 3.9133333333333\tlabel: 57\tprediction: [1]25 [2]2 [3]46 [4]80 [5]20\t\n"
       ]
      },
      {
       "metadata": {},
       "output_type": "pyout",
       "prompt_number": 32,
       "text": [
        "idx: 670\tloss: 4.5632410049438\ttrain score: 4.79\tlabel: 3\tprediction: [1]28 [2]81 [3]63 [4]23 [5]79\t\n"
       ]
      },
      {
       "metadata": {},
       "output_type": "pyout",
       "prompt_number": 32,
       "text": [
        "idx: 675\tloss: 4.5708937644958\ttrain score: 5.2283333333333\tlabel: 86\tprediction: [1]25 [2]2 [3]46 [4]80 [5]20\t\n"
       ]
      },
      {
       "metadata": {},
       "output_type": "pyout",
       "prompt_number": 32,
       "text": [
        "idx: 680\tloss: 4.5661969184875\ttrain score: 4.3683333333333\tlabel: 12\tprediction: [1]25 [2]46 [3]2 [4]80 [5]89\t\n"
       ]
      },
      {
       "metadata": {},
       "output_type": "pyout",
       "prompt_number": 32,
       "text": [
        "idx: 685\tloss: 4.5713706016541\ttrain score: 4.7916666666667\tlabel: 83\tprediction: [1]2 [2]25 [3]46 [4]80 [5]20\t\n"
       ]
      },
      {
       "metadata": {},
       "output_type": "pyout",
       "prompt_number": 32,
       "text": [
        "idx: 690\tloss: 4.5672497749329\ttrain score: 4.9216666666667\tlabel: 12\tprediction: [1]75 [2]18 [3]35 [4]93 [5]53\t\n"
       ]
      },
      {
       "metadata": {},
       "output_type": "pyout",
       "prompt_number": 32,
       "text": [
        "idx: 695\tloss: 4.5690445899963\ttrain score: 4.2166666666667\tlabel: 44\tprediction: [1]81 [2]28 [3]63 [4]54 [5]31\t\n"
       ]
      },
      {
       "metadata": {},
       "output_type": "pyout",
       "prompt_number": 32,
       "text": [
        "idx: 700\tloss: 4.5704746246338\ttrain score: 4.0983333333333\tlabel: 20\tprediction: [1]25 [2]46 [3]2 [4]80 [5]20\t\n"
       ]
      },
      {
       "metadata": {},
       "output_type": "pyout",
       "prompt_number": 32,
       "text": [
        "idx: 705\tloss: 4.5666718482971\ttrain score: 5.4783333333333\tlabel: 96\tprediction: [1]80 [2]2 [3]25 [4]20 [5]46\t\n"
       ]
      },
      {
       "metadata": {},
       "output_type": "pyout",
       "prompt_number": 32,
       "text": [
        "idx: 710\tloss: 4.5670175552368\ttrain score: 5.1833333333333\tlabel: 69\tprediction: [1]25 [2]46 [3]2 [4]80 [5]89\t\n"
       ]
      },
      {
       "metadata": {},
       "output_type": "pyout",
       "prompt_number": 32,
       "text": [
        "idx: 715\tloss: 4.5607419013977\ttrain score: 4.9616666666667\tlabel: 63\tprediction: [1]20 [2]50 [3]80 [4]72 [5]96\t\n"
       ]
      },
      {
       "metadata": {},
       "output_type": "pyout",
       "prompt_number": 32,
       "text": [
        "idx: 720\tloss: 4.5677618980408\ttrain score: 5.2033333333333\tlabel: 11\tprediction: [1]80 [2]85 [3]20 [4]57 [5]50\t\n"
       ]
      },
      {
       "metadata": {},
       "output_type": "pyout",
       "prompt_number": 32,
       "text": [
        "idx: 725\tloss: 4.5709762573242\ttrain score: 4.83\tlabel: 34\tprediction: [1]25 [2]46 [3]2 [4]20 [5]80\t\n"
       ]
      },
      {
       "metadata": {},
       "output_type": "pyout",
       "prompt_number": 32,
       "text": [
        "idx: 730\tloss: 4.5682382583618\ttrain score: 4.9866666666667\tlabel: 43\tprediction: [1]25 [2]2 [3]46 [4]80 [5]20\t\n"
       ]
      },
      {
       "metadata": {},
       "output_type": "pyout",
       "prompt_number": 32,
       "text": [
        "idx: 735\tloss: 4.5661916732788\ttrain score: 6.2033333333333\tlabel: 55\tprediction: [1]28 [2]81 [3]79 [4]63 [5]23\t"
       ]
      },
      {
       "metadata": {},
       "output_type": "pyout",
       "prompt_number": 32,
       "text": [
        "\n"
       ]
      },
      {
       "metadata": {},
       "output_type": "pyout",
       "prompt_number": 32,
       "text": [
        "idx: 740\tloss: 4.5601105690002\ttrain score: 5.5066666666667\tlabel: 9\tprediction: [1]17 [2]42 [3]51 [4]35 [5]85\t\n"
       ]
      },
      {
       "metadata": {},
       "output_type": "pyout",
       "prompt_number": 32,
       "text": [
        "idx: 745\tloss: 4.5665011405945\ttrain score: 6.1516666666667\tlabel: 17\tprediction: [1]25 [2]46 [3]2 [4]80 [5]20\t\n"
       ]
      },
      {
       "metadata": {},
       "output_type": "pyout",
       "prompt_number": 32,
       "text": [
        "idx: 750\tloss: 4.5632138252258\ttrain score: 4.7083333333333\tlabel: 56\tprediction: [1]25 [2]46 [3]2 [4]80 [5]89\t\n"
       ]
      },
      {
       "metadata": {},
       "output_type": "pyout",
       "prompt_number": 32,
       "text": [
        "idx: 755\tloss: 4.5729656219482\ttrain score: 5.3766666666667\tlabel: 76\tprediction: [1]85 [2]35 [3]42 [4]96 [5]70\t\n"
       ]
      },
      {
       "metadata": {},
       "output_type": "pyout",
       "prompt_number": 32,
       "text": [
        "idx: 760\tloss: 4.5665483474731\ttrain score: 6.4666666666667\tlabel: 8\tprediction: [1]28 [2]81 [3]63 [4]31 [5]54\t\n"
       ]
      },
      {
       "metadata": {},
       "output_type": "pyout",
       "prompt_number": 32,
       "text": [
        "idx: 765\tloss: 4.5629024505615\ttrain score: 5.3616666666667\tlabel: 18\tprediction: [1]28 [2]17 [3]81 [4]63 [5]93\t\n"
       ]
      },
      {
       "metadata": {},
       "output_type": "pyout",
       "prompt_number": 32,
       "text": [
        "idx: 770\tloss: 4.5748405456543\ttrain score: 5.5166666666667\tlabel: 45\tprediction: [1]93 [2]81 [3]28 [4]75 [5]23\t\n"
       ]
      },
      {
       "metadata": {},
       "output_type": "pyout",
       "prompt_number": 32,
       "text": [
        "idx: 775\tloss: 4.570752620697\ttrain score: 4.685\tlabel: 52\tprediction: [1]25 [2]46 [3]2 [4]80 [5]20\t\n"
       ]
      },
      {
       "metadata": {},
       "output_type": "pyout",
       "prompt_number": 32,
       "text": [
        "idx: 780\tloss: 4.5634570121765\ttrain score: 5.1916666666667\tlabel: 7\tprediction: [1]28 [2]81 [3]63 [4]54 [5]31\t\n"
       ]
      },
      {
       "metadata": {},
       "output_type": "pyout",
       "prompt_number": 32,
       "text": [
        "idx: 785\tloss: 4.5647439956665\ttrain score: 5.1333333333333\tlabel: 51\tprediction: [1]20 [2]25 [3]57 [4]46 [5]2\t\n"
       ]
      },
      {
       "metadata": {},
       "output_type": "pyout",
       "prompt_number": 32,
       "text": [
        "idx: 790\tloss: 4.5690217018127\ttrain score: 4.025\tlabel: 84\tprediction: [1]2 [2]25 [3]46 [4]80 [5]20\t\n"
       ]
      },
      {
       "metadata": {},
       "output_type": "pyout",
       "prompt_number": 32,
       "text": [
        "idx: 795\tloss: 4.5696721076965\ttrain score: 4.81\tlabel: 3\tprediction: [1]20 [2]57 [3]50 [4]99 [5]70\t\n"
       ]
      },
      {
       "metadata": {},
       "output_type": "pyout",
       "prompt_number": 32,
       "text": [
        "idx: 800\tloss: 4.5641627311707\ttrain score: 5.245\tlabel: 86\tprediction: [1]20 [2]2 [3]25 [4]80 [5]46\t\n"
       ]
      },
      {
       "metadata": {},
       "output_type": "pyout",
       "prompt_number": 32,
       "text": [
        "idx: 805\tloss: 4.5651664733887\ttrain score: 5.12\tlabel: 100\tprediction: [1]25 [2]46 [3]2 [4]80 [5]20\t\n"
       ]
      },
      {
       "metadata": {},
       "output_type": "pyout",
       "prompt_number": 32,
       "text": [
        "idx: 810\tloss: 4.5597972869873\ttrain score: 5.5633333333333\tlabel: 40\tprediction: [1]28 [2]81 [3]63 [4]54 [5]31\t\n"
       ]
      },
      {
       "metadata": {},
       "output_type": "pyout",
       "prompt_number": 32,
       "text": [
        "idx: 815\tloss: 4.5614686012268\ttrain score: 5.1433333333333\tlabel: 95\tprediction: [1]28 [2]81 [3]63 [4]54 [5]31\t\n"
       ]
      },
      {
       "metadata": {},
       "output_type": "pyout",
       "prompt_number": 32,
       "text": [
        "idx: 820\tloss: 4.5588855743408\ttrain score: 5.455\tlabel: 35\tprediction: [1]25 [2]46 [3]2 [4]20 [5]80\t\n"
       ]
      },
      {
       "metadata": {},
       "output_type": "pyout",
       "prompt_number": 32,
       "text": [
        "idx: 825\tloss: 4.5604205131531\ttrain score: 6.13\tlabel: 81\tprediction: [1]28 [2]81 [3]63 [4]54 [5]31\t\n"
       ]
      },
      {
       "metadata": {},
       "output_type": "pyout",
       "prompt_number": 32,
       "text": [
        "idx: 830\tloss: 4.5662927627563\ttrain score: 4.925\tlabel: 18\tprediction: [1]20 [2]2 [3]25 [4]80 [5]46\t\n"
       ]
      },
      {
       "metadata": {},
       "output_type": "pyout",
       "prompt_number": 32,
       "text": [
        "idx: 835\tloss: 4.5637564659119\ttrain score: 4.935\tlabel: 86\tprediction: [1]20 [2]50 [3]80 [4]99 [5]57\t\n"
       ]
      },
      {
       "metadata": {},
       "output_type": "pyout",
       "prompt_number": 32,
       "text": [
        "idx: 840\tloss: 4.5718507766724\ttrain score: 4.9083333333333\tlabel: 58\tprediction: [1]53 [2]88 [3]66 [4]85 [5]67\t\n"
       ]
      },
      {
       "metadata": {},
       "output_type": "pyout",
       "prompt_number": 32,
       "text": [
        "idx: 845\tloss: 4.5680446624756\ttrain score: 5.09\tlabel: 89\tprediction: [1]25 [2]46 [3]2 [4]89 [5]80\t\n"
       ]
      },
      {
       "metadata": {},
       "output_type": "pyout",
       "prompt_number": 32,
       "text": [
        "idx: 850\tloss: 4.5641117095947\ttrain score: 4.7666666666667\tlabel: 24\tprediction: [1]25 [2]46 [3]2 [4]80 [5]20\t\n"
       ]
      },
      {
       "metadata": {},
       "output_type": "pyout",
       "prompt_number": 32,
       "text": [
        "idx: 855\tloss: 4.5628170967102\ttrain score: 4.935\tlabel: 20\tprediction: [1]25 [2]2 [3]46 [4]20 [5]80\t\n"
       ]
      },
      {
       "metadata": {},
       "output_type": "pyout",
       "prompt_number": 32,
       "text": [
        "idx: 860\tloss: 4.5609316825867\ttrain score: 5.1316666666667\tlabel: 61\tprediction: [1]25 [2]2 [3]46 [4]80 [5]20\t\n"
       ]
      },
      {
       "metadata": {},
       "output_type": "pyout",
       "prompt_number": 32,
       "text": [
        "idx: 865\tloss: 4.5668044090271\ttrain score: 4.89\tlabel: 33\tprediction: [1]25 [2]2 [3]46 [4]80 [5]20\t\n"
       ]
      },
      {
       "metadata": {},
       "output_type": "pyout",
       "prompt_number": 32,
       "text": [
        "idx: 870\tloss: 4.5643787384033\ttrain score: 3.9933333333333\tlabel: 6\tprediction: [1]42 [2]88 [3]85 [4]66 [5]35\t\n"
       ]
      },
      {
       "metadata": {},
       "output_type": "pyout",
       "prompt_number": 32,
       "text": [
        "idx: 875\tloss: 4.5648536682129\ttrain score: 4.765\tlabel: 25\tprediction: [1]25 [2]46 [3]2 [4]89 [5]80\t\n"
       ]
      },
      {
       "metadata": {},
       "output_type": "pyout",
       "prompt_number": 32,
       "text": [
        "idx: 880\tloss: 4.5651431083679\ttrain score: 4.96\tlabel: 26\tprediction: [1]20 [2]80 [3]2 [4]99 [5]50\t\n"
       ]
      },
      {
       "metadata": {},
       "output_type": "pyout",
       "prompt_number": 32,
       "text": [
        "idx: 885\tloss: 4.5729851722717\ttrain score: 5.0266666666667\tlabel: 8\tprediction: [1]28 [2]81 [3]63 [4]54 [5]31\t\n"
       ]
      },
      {
       "metadata": {},
       "output_type": "pyout",
       "prompt_number": 32,
       "text": [
        "idx: 890\tloss: 4.5656342506409\ttrain score: 5.765\tlabel: 26\tprediction: [1]75 [2]53 [3]85 [4]93 [5]35\t\n"
       ]
      },
      {
       "metadata": {},
       "output_type": "pyout",
       "prompt_number": 32,
       "text": [
        "idx: 895\tloss: 4.5579566955566\ttrain score: 5.03\tlabel: 2\tprediction: [1]25 [2]46 [3]2 [4]89 [5]80\t\n"
       ]
      },
      {
       "metadata": {},
       "output_type": "pyout",
       "prompt_number": 32,
       "text": [
        "idx: 900\tloss: 4.5646696090698\ttrain score: 4.695\tlabel: 44\tprediction: [1]28 [2]81 [3]63 [4]54 [5]31\t\n"
       ]
      },
      {
       "metadata": {},
       "output_type": "pyout",
       "prompt_number": 32,
       "text": [
        "idx: 905\tloss: 4.5648212432861\ttrain score: 5.1883333333333\tlabel: 7\tprediction: [1]2 [2]25 [3]80 [4]46 [5]20\t\n"
       ]
      },
      {
       "metadata": {},
       "output_type": "pyout",
       "prompt_number": 32,
       "text": [
        "idx: 910\tloss: 4.5599236488342\ttrain score: 5.6166666666667\tlabel: 9\tprediction: [1]20 [2]25 [3]57 [4]2 [5]46\t\n"
       ]
      },
      {
       "metadata": {},
       "output_type": "pyout",
       "prompt_number": 32,
       "text": [
        "idx: 915\tloss: 4.5765070915222\ttrain score: 5.4516666666667\tlabel: 67\tprediction: [1]28 [2]81 [3]63 [4]31 [5]54\t\n"
       ]
      },
      {
       "metadata": {},
       "output_type": "pyout",
       "prompt_number": 32,
       "text": [
        "idx: 920\tloss: 4.5580086708069\ttrain score: 5.3683333333333\tlabel: 8\tprediction: [1]25 [2]46 [3]2 [4]80 [5]20\t\n"
       ]
      },
      {
       "metadata": {},
       "output_type": "pyout",
       "prompt_number": 32,
       "text": [
        "idx: 925\tloss: 4.5555105209351\ttrain score: 5.2016666666667\tlabel: 76\tprediction: [1]25 [2]46 [3]2 [4]80 [5]89\t\n"
       ]
      },
      {
       "metadata": {},
       "output_type": "pyout",
       "prompt_number": 32,
       "text": [
        "idx: 930\tloss: 4.5605177879333\ttrain score: 5.5816666666667\tlabel: 44\tprediction: [1]28 [2]81 [3]75 [4]63 [5]31\t\n"
       ]
      },
      {
       "metadata": {},
       "output_type": "pyout",
       "prompt_number": 32,
       "text": [
        "idx: 935\tloss: 4.5588173866272\ttrain score: 6.0083333333333\tlabel: 35\tprediction: [1]25 [2]46 [3]2 [4]20 [5]80\t\n"
       ]
      },
      {
       "metadata": {},
       "output_type": "pyout",
       "prompt_number": 32,
       "text": [
        "idx: 940\tloss: 4.5676865577698\ttrain score: 4.4766666666667\tlabel: 64\tprediction: [1]28 [2]81 [3]63 [4]54 [5]31\t\n"
       ]
      },
      {
       "metadata": {},
       "output_type": "pyout",
       "prompt_number": 32,
       "text": [
        "idx: 945\tloss: 4.5600781440735\ttrain score: 5.975\tlabel: 30\tprediction: [1]20 [2]2 [3]25 [4]80 [5]50\t\n"
       ]
      },
      {
       "metadata": {},
       "output_type": "pyout",
       "prompt_number": 32,
       "text": [
        "idx: 950\tloss: 4.5669798851013\ttrain score: 6.0216666666667\tlabel: 91\tprediction: [1]20 [2]50 [3]80 [4]99 [5]96\t\n"
       ]
      },
      {
       "metadata": {},
       "output_type": "pyout",
       "prompt_number": 32,
       "text": [
        "idx: 955\tloss: 4.564329624176\ttrain score: 5.475\tlabel: 54\tprediction: [1]2 [2]25 [3]20 [4]46 [5]80\t\n"
       ]
      },
      {
       "metadata": {},
       "output_type": "pyout",
       "prompt_number": 32,
       "text": [
        "idx: 960\tloss: 4.554829120636\ttrain score: 5.8016666666667\tlabel: 77\tprediction: [1]20 [2]70 [3]99 [4]85 [5]50\t\n"
       ]
      },
      {
       "metadata": {},
       "output_type": "pyout",
       "prompt_number": 32,
       "text": [
        "idx: 965\tloss: 4.5613493919373\ttrain score: 4.2983333333333\tlabel: 10\tprediction: [1]25 [2]2 [3]46 [4]20 [5]80\t\n"
       ]
      },
      {
       "metadata": {},
       "output_type": "pyout",
       "prompt_number": 32,
       "text": [
        "idx: 970\tloss: 4.5589962005615\ttrain score: 5.4383333333333\tlabel: 100\tprediction: [1]25 [2]46 [3]2 [4]80 [5]20\t\n"
       ]
      },
      {
       "metadata": {},
       "output_type": "pyout",
       "prompt_number": 32,
       "text": [
        "idx: 975\tloss: 4.5650949478149\ttrain score: 5.6783333333333\tlabel: 31\tprediction: [1]25 [2]46 [3]2 [4]80 [5]89\t\n"
       ]
      },
      {
       "metadata": {},
       "output_type": "pyout",
       "prompt_number": 32,
       "text": [
        "idx: 980\tloss: 4.5651297569275\ttrain score: 6.185\tlabel: 7\tprediction: [1]28 [2]81 [3]63 [4]31 [5]79\t\n"
       ]
      },
      {
       "metadata": {},
       "output_type": "pyout",
       "prompt_number": 32,
       "text": [
        "idx: 985\tloss: 4.566876411438\ttrain score: 4.7616666666667\tlabel: 71\tprediction: [1]25 [2]2 [3]46 [4]20 [5]80\t\n"
       ]
      },
      {
       "metadata": {},
       "output_type": "pyout",
       "prompt_number": 32,
       "text": [
        "idx: 990\tloss: 4.5557599067688\ttrain score: 5.475\tlabel: 41\tprediction: [1]28 [2]81 [3]63 [4]54 [5]44\t\n"
       ]
      },
      {
       "metadata": {},
       "output_type": "pyout",
       "prompt_number": 32,
       "text": [
        "idx: 995\tloss: 4.5702590942383\ttrain score: 5.4833333333333\tlabel: 29\tprediction: [1]75 [2]81 [3]93 [4]28 [5]23\t\n"
       ]
      },
      {
       "metadata": {},
       "output_type": "pyout",
       "prompt_number": 32,
       "text": [
        "idx: 1000\tloss: 4.5607938766479\ttrain score: 5.435\tlabel: 67\tprediction: [1]20 [2]57 [3]99 [4]50 [5]70\t\n"
       ]
      },
      {
       "metadata": {},
       "output_type": "pyout",
       "prompt_number": 32,
       "text": [
        "idx: 1005\tloss: 4.5602993965149\ttrain score: 5.38\tlabel: 39\tprediction: [1]28 [2]81 [3]75 [4]63 [5]79\t\n"
       ]
      },
      {
       "metadata": {},
       "output_type": "pyout",
       "prompt_number": 32,
       "text": [
        "idx: 1010\tloss: 4.5597867965698\ttrain score: 5.71\tlabel: 80\tprediction: [1]25 [2]46 [3]2 [4]89 [5]80\t\n"
       ]
      },
      {
       "metadata": {},
       "output_type": "pyout",
       "prompt_number": 32,
       "text": [
        "idx: 1015\tloss: 4.5631175041199\ttrain score: 5.2033333333333\tlabel: 33\tprediction: [1]2 [2]25 [3]20 [4]46 [5]80\t\n"
       ]
      },
      {
       "metadata": {},
       "output_type": "pyout",
       "prompt_number": 32,
       "text": [
        "idx: 1020\tloss: 4.5626535415649\ttrain score: 5.0466666666667\tlabel: 35\tprediction: [1]20 [2]50 [3]57 [4]99 [5]96\t\n"
       ]
      },
      {
       "metadata": {},
       "output_type": "pyout",
       "prompt_number": 32,
       "text": [
        "idx: 1025\tloss: 4.5592160224915\ttrain score: 5.0316666666667\tlabel: 65\tprediction: [1]20 [2]50 [3]99 [4]96 [5]70\t\n"
       ]
      },
      {
       "metadata": {},
       "output_type": "pyout",
       "prompt_number": 32,
       "text": [
        "idx: 1030\tloss: 4.5566387176514\ttrain score: 6.34\tlabel: 13\tprediction: [1]28 [2]81 [3]63 [4]54 [5]31\t\n"
       ]
      },
      {
       "metadata": {},
       "output_type": "pyout",
       "prompt_number": 32,
       "text": [
        "idx: 1035\tloss: 4.5655918121338\ttrain score: 5.645\tlabel: 67\tprediction: [1]20 [2]57 [3]99 [4]50 [5]70\t\n"
       ]
      },
      {
       "metadata": {},
       "output_type": "pyout",
       "prompt_number": 32,
       "text": [
        "idx: 1040\tloss: 4.5615587234497\ttrain score: 5.8033333333333\tlabel: 61\tprediction: [1]25 [2]2 [3]46 [4]20 [5]80\t\n"
       ]
      },
      {
       "metadata": {},
       "output_type": "pyout",
       "prompt_number": 32,
       "text": [
        "idx: 1045\tloss: 4.5642461776733\ttrain score: 5.1566666666667\tlabel: 92\tprediction: [1]25 [2]2 [3]46 [4]80 [5]89\t\n"
       ]
      },
      {
       "metadata": {},
       "output_type": "pyout",
       "prompt_number": 32,
       "text": [
        "idx: 1050\tloss: 4.5521240234375\ttrain score: 5.1766666666667\tlabel: 50\tprediction: [1]28 [2]81 [3]63 [4]44 [5]54\t\n"
       ]
      },
      {
       "metadata": {},
       "output_type": "pyout",
       "prompt_number": 32,
       "text": [
        "idx: 1055\tloss: 4.5572519302368\ttrain score: 5.2283333333333\tlabel: 88\tprediction: [1]20 [2]57 [3]99 [4]50 [5]70\t\n"
       ]
      },
      {
       "metadata": {},
       "output_type": "pyout",
       "prompt_number": 32,
       "text": [
        "idx: 1060\tloss: 4.5618281364441\ttrain score: 5.13\tlabel: 32\tprediction: [1]20 [2]50 [3]85 [4]99 [5]96\t\n"
       ]
      },
      {
       "metadata": {},
       "output_type": "pyout",
       "prompt_number": 32,
       "text": [
        "idx: 1065\tloss: 4.5708451271057\ttrain score: 5.22\tlabel: 91\tprediction: [1]28 [2]81 [3]63 [4]44 [5]54\t\n"
       ]
      },
      {
       "metadata": {},
       "output_type": "pyout",
       "prompt_number": 32,
       "text": [
        "idx: 1070\tloss: 4.5645060539246\ttrain score: 4.7683333333333\tlabel: 91\tprediction: [1]81 [2]28 [3]75 [4]93 [5]23\t\n"
       ]
      },
      {
       "metadata": {},
       "output_type": "pyout",
       "prompt_number": 32,
       "text": [
        "idx: 1075\tloss: 4.5602998733521\ttrain score: 4.8033333333333\tlabel: 71\tprediction: [1]20 [2]2 [3]25 [4]46 [5]80\t\n"
       ]
      },
      {
       "metadata": {},
       "output_type": "pyout",
       "prompt_number": 32,
       "text": [
        "idx: 1080\tloss: 4.5670785903931\ttrain score: 5.5433333333333\tlabel: 56\tprediction: [1]25 [2]2 [3]46 [4]80 [5]20\t\n"
       ]
      },
      {
       "metadata": {},
       "output_type": "pyout",
       "prompt_number": 32,
       "text": [
        "idx: 1085\tloss: 4.5637502670288\ttrain score: 5.6483333333333\tlabel: 12\tprediction: [1]20 [2]50 [3]99 [4]57 [5]96\t\n"
       ]
      },
      {
       "metadata": {},
       "output_type": "pyout",
       "prompt_number": 32,
       "text": [
        "idx: 1090\tloss: 4.5661873817444\ttrain score: 4.5816666666667\tlabel: 63\tprediction: [1]28 [2]81 [3]63 [4]44 [5]54\t\n"
       ]
      },
      {
       "metadata": {},
       "output_type": "pyout",
       "prompt_number": 32,
       "text": [
        "idx: 1095\tloss: 4.5571703910828\ttrain score: 5.8116666666667\tlabel: 95\tprediction: [1]28 [2]81 [3]63 [4]75 [5]44\t\n"
       ]
      },
      {
       "metadata": {},
       "output_type": "pyout",
       "prompt_number": 32,
       "text": [
        "idx: 1100\tloss: 4.5615086555481\ttrain score: 5.1266666666667\tlabel: 40\tprediction: [1]28 [2]81 [3]75 [4]63 [5]79\t\n"
       ]
      },
      {
       "metadata": {},
       "output_type": "pyout",
       "prompt_number": 32,
       "text": [
        "idx: 1105\tloss: 4.5649633407593\ttrain score: 4.6516666666667\tlabel: 12\tprediction: [1]20 [2]50 [3]57 [4]99 [5]80\t\n"
       ]
      },
      {
       "metadata": {},
       "output_type": "pyout",
       "prompt_number": 32,
       "text": [
        "idx: 1110\tloss: 4.5518112182617\ttrain score: 5.705\tlabel: 90\tprediction: [1]20 [2]96 [3]50 [4]99 [5]70\t\n"
       ]
      },
      {
       "metadata": {},
       "output_type": "pyout",
       "prompt_number": 32,
       "text": [
        "idx: 1115\tloss: 4.5666851997375\ttrain score: 5.15\tlabel: 76\tprediction: [1]2 [2]25 [3]20 [4]46 [5]80\t\n"
       ]
      },
      {
       "metadata": {},
       "output_type": "pyout",
       "prompt_number": 32,
       "text": [
        "idx: 1120\tloss: 4.5697908401489\ttrain score: 5.585\tlabel: 92\tprediction: [1]20 [2]50 [3]2 [4]57 [5]25\t\n"
       ]
      },
      {
       "metadata": {},
       "output_type": "pyout",
       "prompt_number": 32,
       "text": [
        "idx: 1125\tloss: 4.5682611465454\ttrain score: 6.2366666666667\tlabel: 30\tprediction: [1]53 [2]88 [3]66 [4]67 [5]75\t\n"
       ]
      },
      {
       "metadata": {},
       "output_type": "pyout",
       "prompt_number": 32,
       "text": [
        "idx: 1130\tloss: 4.5572195053101\ttrain score: 5.485\tlabel: 82\tprediction: [1]28 [2]81 [3]63 [4]44 [5]75\t\n"
       ]
      },
      {
       "metadata": {},
       "output_type": "pyout",
       "prompt_number": 32,
       "text": [
        "idx: 1135\tloss: 4.5598006248474\ttrain score: 6.7933333333333\tlabel: 73\tprediction: [1]28 [2]81 [3]75 [4]63 [5]79\t\n"
       ]
      },
      {
       "metadata": {},
       "output_type": "pyout",
       "prompt_number": 32,
       "text": [
        "idx: 1140\tloss: 4.5616307258606\ttrain score: 4.9833333333333\tlabel: 40\tprediction: [1]20 [2]2 [3]50 [4]25 [5]80\t\n"
       ]
      },
      {
       "metadata": {},
       "output_type": "pyout",
       "prompt_number": 32,
       "text": [
        "idx: 1145\tloss: 4.5522718429565\ttrain score: 6.0016666666667\tlabel: 61\tprediction: [1]2 [2]25 [3]46 [4]20 [5]80\t\n"
       ]
      },
      {
       "metadata": {},
       "output_type": "pyout",
       "prompt_number": 32,
       "text": [
        "idx: 1150\tloss: 4.5677337646484\ttrain score: 4.8316666666667\tlabel: 7\tprediction: [1]2 [2]20 [3]25 [4]46 [5]80\t\n"
       ]
      },
      {
       "metadata": {},
       "output_type": "pyout",
       "prompt_number": 32,
       "text": [
        "idx: 1155\tloss: 4.5609135627747\ttrain score: 6.435\tlabel: 57\tprediction: [1]46 [2]25 [3]2 [4]80 [5]20\t\n"
       ]
      },
      {
       "metadata": {},
       "output_type": "pyout",
       "prompt_number": 32,
       "text": [
        "idx: 1160\tloss: 4.5629377365112\ttrain score: 5.8083333333333\tlabel: 80\tprediction: [1]46 [2]25 [3]2 [4]89 [5]80\t\n"
       ]
      },
      {
       "metadata": {},
       "output_type": "pyout",
       "prompt_number": 32,
       "text": [
        "idx: 1165\tloss: 4.5560684204102\ttrain score: 6.3633333333333\tlabel: 61\tprediction: [1]2 [2]25 [3]46 [4]20 [5]80\t\n"
       ]
      },
      {
       "metadata": {},
       "output_type": "pyout",
       "prompt_number": 32,
       "text": [
        "idx: 1170\tloss: 4.5609931945801\ttrain score: 5.4466666666667\tlabel: 15\tprediction: [1]28 [2]81 [3]75 [4]63 [5]44\t\n"
       ]
      },
      {
       "metadata": {},
       "output_type": "pyout",
       "prompt_number": 32,
       "text": [
        "idx: 1175\tloss: 4.5618300437927\ttrain score: 5.01\tlabel: 87\tprediction: [1]20 [2]50 [3]99 [4]57 [5]96\t\n"
       ]
      },
      {
       "metadata": {},
       "output_type": "pyout",
       "prompt_number": 32,
       "text": [
        "idx: 1180\tloss: 4.566978931427\ttrain score: 5.3383333333333\tlabel: 68\tprediction: [1]20 [2]50 [3]2 [4]80 [5]99\t\n"
       ]
      },
      {
       "metadata": {},
       "output_type": "pyout",
       "prompt_number": 32,
       "text": [
        "idx: 1185\tloss: 4.5598211288452\ttrain score: 5.05\tlabel: 54\tprediction: [1]28 [2]81 [3]75 [4]63 [5]44\t\n"
       ]
      },
      {
       "metadata": {},
       "output_type": "pyout",
       "prompt_number": 32,
       "text": [
        "idx: 1190\tloss: 4.5599055290222\ttrain score: 6.6816666666667\tlabel: 68\tprediction: [1]28 [2]81 [3]63 [4]75 [5]44\t\n"
       ]
      },
      {
       "metadata": {},
       "output_type": "pyout",
       "prompt_number": 32,
       "text": [
        "idx: 1195\tloss: 4.5641169548035\ttrain score: 4.73\tlabel: 100\tprediction: [1]20 [2]50 [3]57 [4]99 [5]2\t\n"
       ]
      },
      {
       "metadata": {},
       "output_type": "pyout",
       "prompt_number": 32,
       "text": [
        "idx: 1200\tloss: 4.5641083717346\ttrain score: 5.6266666666667\tlabel: 95\tprediction: [1]75 [2]53 [3]88 [4]67 [5]66\t\n"
       ]
      },
      {
       "metadata": {},
       "output_type": "pyout",
       "prompt_number": 32,
       "text": [
        "idx: 1205\tloss: 4.5589375495911\ttrain score: 5.4233333333333\tlabel: 58\tprediction: [1]2 [2]25 [3]46 [4]80 [5]20\t\n"
       ]
      },
      {
       "metadata": {},
       "output_type": "pyout",
       "prompt_number": 32,
       "text": [
        "idx: 1210\tloss: 4.5608143806458\ttrain score: 4.63\tlabel: 42\tprediction: [1]25 [2]2 [3]46 [4]20 [5]50\t\n"
       ]
      },
      {
       "metadata": {},
       "output_type": "pyout",
       "prompt_number": 32,
       "text": [
        "idx: 1215\t"
       ]
      },
      {
       "metadata": {},
       "output_type": "pyout",
       "prompt_number": 32,
       "text": [
        "loss: 4.5574598312378\ttrain score: 5.1366666666667\tlabel: 72\tprediction: [1]20 [2]50 [3]99 [4]57 [5]96\t\n"
       ]
      },
      {
       "metadata": {},
       "output_type": "pyout",
       "prompt_number": 32,
       "text": [
        "idx: 1220\tloss: 4.5654530525208\ttrain score: 5.2716666666667\tlabel: 30\tprediction: [1]88 [2]53 [3]66 [4]85 [5]42\t\n"
       ]
      },
      {
       "metadata": {},
       "output_type": "pyout",
       "prompt_number": 32,
       "text": [
        "idx: 1225\tloss: 4.5623483657837\ttrain score: 5.7833333333333\tlabel: 52\tprediction: [1]20 [2]50 [3]96 [4]85 [5]42\t\n"
       ]
      },
      {
       "metadata": {},
       "output_type": "pyout",
       "prompt_number": 32,
       "text": [
        "idx: 1230\tloss: 4.5559854507446\ttrain score: 5.3316666666667\tlabel: 49\tprediction: [1]20 [2]50 [3]96 [4]42 [5]99\t\n"
       ]
      },
      {
       "metadata": {},
       "output_type": "pyout",
       "prompt_number": 32,
       "text": [
        "idx: 1235\tloss: 4.5602016448975\ttrain score: 5.9516666666667\tlabel: 6\tprediction: [1]88 [2]20 [3]53 [4]85 [5]99\t\n"
       ]
      },
      {
       "metadata": {},
       "output_type": "pyout",
       "prompt_number": 32,
       "text": [
        "idx: 1240\tloss: 4.5616655349731\ttrain score: 5.885\tlabel: 41\tprediction: [1]28 [2]81 [3]75 [4]44 [5]63\t\n"
       ]
      },
      {
       "metadata": {},
       "output_type": "pyout",
       "prompt_number": 32,
       "text": [
        "idx: 1245\tloss: 4.5557475090027\ttrain score: 5.4883333333333\tlabel: 68\tprediction: [1]20 [2]88 [3]99 [4]96 [5]50\t\n"
       ]
      },
      {
       "metadata": {},
       "output_type": "pyout",
       "prompt_number": 32,
       "text": [
        "idx: 1250\tloss: 4.5612950325012\ttrain score: 4.8816666666667\tlabel: 65\tprediction: [1]20 [2]50 [3]99 [4]57 [5]96\t"
       ]
      },
      {
       "metadata": {},
       "output_type": "pyout",
       "prompt_number": 32,
       "text": [
        "\n"
       ]
      },
      {
       "metadata": {},
       "output_type": "pyout",
       "prompt_number": 32,
       "text": [
        "idx: 1255\tloss: 4.5561761856079\ttrain score: 5.935\tlabel: 9\tprediction: [1]20 [2]99 [3]50 [4]57 [5]70\t\n"
       ]
      },
      {
       "metadata": {},
       "output_type": "pyout",
       "prompt_number": 32,
       "text": [
        "idx: 1260\tloss: 4.5628232955933\ttrain score: 5.8633333333333\tlabel: 21\tprediction: [1]20 [2]50 [3]99 [4]57 [5]96\t\n"
       ]
      },
      {
       "metadata": {},
       "output_type": "pyout",
       "prompt_number": 32,
       "text": [
        "idx: 1265\tloss: 4.5681991577148\ttrain score: 5.4683333333333\tlabel: 7\tprediction: [1]75 [2]93 [3]23 [4]35 [5]78\t\n"
       ]
      },
      {
       "metadata": {},
       "output_type": "pyout",
       "prompt_number": 32,
       "text": [
        "idx: 1270\tloss: 4.5548534393311\ttrain score: 5.5816666666667\tlabel: 68\tprediction: [1]28 [2]75 [3]81 [4]63 [5]54\t\n"
       ]
      },
      {
       "metadata": {},
       "output_type": "pyout",
       "prompt_number": 32,
       "text": [
        "idx: 1275\tloss: 4.5661749839783\ttrain score: 4.6483333333333\tlabel: 41\tprediction: [1]20 [2]50 [3]2 [4]25 [5]46\t\n"
       ]
      },
      {
       "metadata": {},
       "output_type": "pyout",
       "prompt_number": 32,
       "text": [
        "idx: 1280\tloss: 4.5581321716309\ttrain score: 5.44\tlabel: 55\tprediction: [1]28 [2]81 [3]75 [4]63 [5]44\t\n"
       ]
      },
      {
       "metadata": {},
       "output_type": "pyout",
       "prompt_number": 32,
       "text": [
        "idx: 1285\tloss: 4.5657482147217\ttrain score: 5.8133333333333\tlabel: 26\tprediction: [1]20 [2]50 [3]2 [4]99 [5]25\t\n"
       ]
      },
      {
       "metadata": {},
       "output_type": "pyout",
       "prompt_number": 32,
       "text": [
        "idx: 1290\tloss: 4.5468125343323\ttrain score: 6.5916666666667\tlabel: 29\tprediction: [1]20 [2]2 [3]25 [4]46 [5]50\t\n"
       ]
      },
      {
       "metadata": {},
       "output_type": "pyout",
       "prompt_number": 32,
       "text": [
        "idx: 1295\tloss: 4.5542650222778\ttrain score: 5.9416666666667\tlabel: 67\tprediction: [1]20 [2]2 [3]25 [4]46 [5]50\t\n"
       ]
      },
      {
       "metadata": {},
       "output_type": "pyout",
       "prompt_number": 32,
       "text": [
        "idx: 1300\tloss: 4.5633249282837\ttrain score: 5.66\tlabel: 74\tprediction: [1]28 [2]81 [3]75 [4]44 [5]63\t\n"
       ]
      },
      {
       "metadata": {},
       "output_type": "pyout",
       "prompt_number": 32,
       "text": [
        "idx: 1305\tloss: 4.5618524551392\ttrain score: 4.8233333333333\tlabel: 87\tprediction: [1]20 [2]2 [3]25 [4]46 [5]50\t\n"
       ]
      },
      {
       "metadata": {},
       "output_type": "pyout",
       "prompt_number": 32,
       "text": [
        "idx: 1310\tloss: 4.5610837936401\ttrain score: 5.5133333333333\tlabel: 39\tprediction: [1]20 [2]50 [3]99 [4]57 [5]96\t\n"
       ]
      },
      {
       "metadata": {},
       "output_type": "pyout",
       "prompt_number": 32,
       "text": [
        "idx: 1315\tloss: 4.5601148605347\ttrain score: 6\tlabel: 85\tprediction: [1]28 [2]75 [3]81 [4]63 [5]44\t\n"
       ]
      },
      {
       "metadata": {},
       "output_type": "pyout",
       "prompt_number": 32,
       "text": [
        "idx: 1320\tloss: 4.5491528511047\ttrain score: 6.0516666666667\tlabel: 25\tprediction: [1]2 [2]25 [3]46 [4]89 [5]80\t\n"
       ]
      },
      {
       "metadata": {},
       "output_type": "pyout",
       "prompt_number": 32,
       "text": [
        "idx: 1325\tloss: 4.5582447052002\ttrain score: 5.8783333333333\tlabel: 85\tprediction: [1]20 [2]50 [3]99 [4]96 [5]57\t\n"
       ]
      },
      {
       "metadata": {},
       "output_type": "pyout",
       "prompt_number": 32,
       "text": [
        "idx: 1330\tloss: 4.5575604438782\ttrain score: 5.7333333333333\tlabel: 4\tprediction: [1]20 [2]88 [3]99 [4]96 [5]50\t\n"
       ]
      },
      {
       "metadata": {},
       "output_type": "pyout",
       "prompt_number": 32,
       "text": [
        "idx: 1335\tloss: 4.5560956001282\ttrain score: 4.84\tlabel: 25\tprediction: [1]2 [2]25 [3]46 [4]20 [5]80\t\n"
       ]
      },
      {
       "metadata": {},
       "output_type": "pyout",
       "prompt_number": 32,
       "text": [
        "idx: 1340\tloss: 4.556056022644\ttrain score: 6.4616666666667\tlabel: 97\tprediction: [1]28 [2]75 [3]81 [4]44 [5]63\t\n"
       ]
      },
      {
       "metadata": {},
       "output_type": "pyout",
       "prompt_number": 32,
       "text": [
        "idx: 1345\tloss: 4.5618124008179\ttrain score: 6.235\tlabel: 16\tprediction: [1]28 [2]75 [3]81 [4]44 [5]63\t\n"
       ]
      },
      {
       "metadata": {},
       "output_type": "pyout",
       "prompt_number": 32,
       "text": [
        "idx: 1350\tloss: 4.5571579933167\ttrain score: 5.4066666666667\tlabel: 40\tprediction: [1]75 [2]28 [3]81 [4]63 [5]79\t\n"
       ]
      },
      {
       "metadata": {},
       "output_type": "pyout",
       "prompt_number": 32,
       "text": [
        "idx: 1355\tloss: 4.5634632110596\ttrain score: 5.255\tlabel: 62\tprediction: [1]28 [2]81 [3]75 [4]44 [5]68\t\n"
       ]
      },
      {
       "metadata": {},
       "output_type": "pyout",
       "prompt_number": 32,
       "text": [
        "idx: 1360\tloss: 4.5517106056213\ttrain score: 5.6083333333333\tlabel: 45\tprediction: [1]20 [2]99 [3]50 [4]96 [5]85\t\n"
       ]
      },
      {
       "metadata": {},
       "output_type": "pyout",
       "prompt_number": 32,
       "text": [
        "idx: 1365\tloss: 4.5595450401306\ttrain score: 6.7066666666667\tlabel: 4\tprediction: [1]20 [2]50 [3]2 [4]80 [5]99\t\n"
       ]
      },
      {
       "metadata": {},
       "output_type": "pyout",
       "prompt_number": 32,
       "text": [
        "idx: 1370\tloss: 4.5549702644348\ttrain score: 5.5633333333333\tlabel: 53\tprediction: [1]20 [2]50 [3]99 [4]57 [5]96\t\n"
       ]
      },
      {
       "metadata": {},
       "output_type": "pyout",
       "prompt_number": 32,
       "text": [
        "idx: 1375\tloss: 4.5538873672485\ttrain score: 5.7516666666667\tlabel: 57\tprediction: [1]20 [2]2 [3]25 [4]46 [5]50\t\n"
       ]
      },
      {
       "metadata": {},
       "output_type": "pyout",
       "prompt_number": 32,
       "text": [
        "idx: 1380\tloss: 4.5605010986328\ttrain score: 4.97\tlabel: 89\tprediction: [1]2 [2]25 [3]46 [4]89 [5]80\t\n"
       ]
      },
      {
       "metadata": {},
       "output_type": "pyout",
       "prompt_number": 32,
       "text": [
        "idx: 1385\tloss: 4.5585088729858\ttrain score: 6.5066666666667\tlabel: 57\tprediction: [1]28 [2]81 [3]75 [4]44 [5]68\t\n"
       ]
      },
      {
       "metadata": {},
       "output_type": "pyout",
       "prompt_number": 32,
       "text": [
        "idx: 1390\tloss: 4.5602445602417\ttrain score: 5.14\tlabel: 44\tprediction: [1]28 [2]81 [3]75 [4]44 [5]68\t\n"
       ]
      },
      {
       "metadata": {},
       "output_type": "pyout",
       "prompt_number": 32,
       "text": [
        "idx: 1395\tloss: 4.5585651397705\ttrain score: 4.885\tlabel: 75\tprediction: [1]75 [2]53 [3]88 [4]27 [5]67\t\n"
       ]
      },
      {
       "metadata": {},
       "output_type": "pyout",
       "prompt_number": 32,
       "text": [
        "idx: 1400\tloss: 4.5498614311218\ttrain score: 5.6283333333333\tlabel: 30\tprediction: [1]96 [2]20 [3]50 [4]85 [5]99\t\n"
       ]
      },
      {
       "metadata": {},
       "output_type": "pyout",
       "prompt_number": 32,
       "text": [
        "idx: 1405\tloss: 4.557713508606\ttrain score: 5.31\tlabel: 92\tprediction: [1]75 [2]28 [3]81 [4]93 [5]23\t\n"
       ]
      },
      {
       "metadata": {},
       "output_type": "pyout",
       "prompt_number": 32,
       "text": [
        "idx: 1410\tloss: 4.5660209655762\ttrain score: 5.4266666666667\tlabel: 63\tprediction: [1]20 [2]99 [3]96 [4]50 [5]88\t\n"
       ]
      },
      {
       "metadata": {},
       "output_type": "pyout",
       "prompt_number": 32,
       "text": [
        "idx: 1415\tloss: 4.5597462654114\ttrain score: 5.26\tlabel: 73\tprediction: [1]20 [2]50 [3]99 [4]57 [5]2\t\n"
       ]
      },
      {
       "metadata": {},
       "output_type": "pyout",
       "prompt_number": 32,
       "text": [
        "idx: 1420\tloss: 4.5585746765137\ttrain score: 5.6683333333333\tlabel: 78\tprediction: [1]20 [2]50 [3]96 [4]99 [5]85\t\n"
       ]
      },
      {
       "metadata": {},
       "output_type": "pyout",
       "prompt_number": 32,
       "text": [
        "idx: 1425\tloss: 4.5576758384705\ttrain score: 5.1466666666667\tlabel: 66\tprediction: [1]28 [2]75 [3]81 [4]44 [5]63\t\n"
       ]
      },
      {
       "metadata": {},
       "output_type": "pyout",
       "prompt_number": 32,
       "text": [
        "idx: 1430\tloss: 4.555431842804\ttrain score: 5.52\tlabel: 92\tprediction: [1]2 [2]20 [3]25 [4]46 [5]50\t\n"
       ]
      },
      {
       "metadata": {},
       "output_type": "pyout",
       "prompt_number": 32,
       "text": [
        "idx: 1435\tloss: 4.5548152923584\ttrain score: 5.9633333333333\tlabel: 21\tprediction: [1]28 [2]81 [3]75 [4]44 [5]68\t\n"
       ]
      },
      {
       "metadata": {},
       "output_type": "pyout",
       "prompt_number": 32,
       "text": [
        "idx: 1440\tloss: 4.554220199585\ttrain score: 5.77\tlabel: 74\tprediction: [1]28 [2]81 [3]75 [4]44 [5]68\t\n"
       ]
      },
      {
       "metadata": {},
       "output_type": "pyout",
       "prompt_number": 32,
       "text": [
        "idx: 1445\tloss: 4.5568513870239\ttrain score: 5.5033333333333\tlabel: 69\tprediction: [1]28 [2]81 [3]75 [4]44 [5]68\t\n"
       ]
      },
      {
       "metadata": {},
       "output_type": "pyout",
       "prompt_number": 32,
       "text": [
        "idx: 1450\tloss: 4.5602536201477\ttrain score: 5.455\tlabel: 55\tprediction: [1]28 [2]75 [3]81 [4]44 [5]63\t\n"
       ]
      },
      {
       "metadata": {},
       "output_type": "pyout",
       "prompt_number": 32,
       "text": [
        "idx: 1455\t"
       ]
      },
      {
       "metadata": {},
       "output_type": "pyout",
       "prompt_number": 32,
       "text": [
        "loss: 4.5544381141663\ttrain score: 5.8083333333333\tlabel: 76\tprediction: [1]20 [2]99 [3]50 [4]57 [5]96\t\n"
       ]
      },
      {
       "metadata": {},
       "output_type": "pyout",
       "prompt_number": 32,
       "text": [
        "idx: 1460\tloss: 4.5548386573792\ttrain score: 5.7033333333333\tlabel: 22\tprediction: [1]75 [2]28 [3]81 [4]63 [5]44\t\n"
       ]
      },
      {
       "metadata": {},
       "output_type": "pyout",
       "prompt_number": 32,
       "text": [
        "idx: 1465\tloss: 4.5591006278992\ttrain score: 4.99\tlabel: 80\tprediction: [1]2 [2]25 [3]46 [4]89 [5]80\t\n"
       ]
      },
      {
       "metadata": {},
       "output_type": "pyout",
       "prompt_number": 32,
       "text": [
        "idx: 1470\tloss: 4.5560574531555\ttrain score: 5.5116666666667\tlabel: 71\tprediction: [1]2 [2]25 [3]20 [4]46 [5]50\t\n"
       ]
      },
      {
       "metadata": {},
       "output_type": "pyout",
       "prompt_number": 32,
       "text": [
        "idx: 1475\tloss: 4.5563316345215\ttrain score: 5.2016666666667\tlabel: 76\tprediction: [1]20 [2]2 [3]50 [4]25 [5]46\t\n"
       ]
      },
      {
       "metadata": {},
       "output_type": "pyout",
       "prompt_number": 32,
       "text": [
        "idx: 1480\tloss: 4.559871673584\ttrain score: 5.4116666666667\tlabel: 72\t"
       ]
      },
      {
       "metadata": {},
       "output_type": "pyout",
       "prompt_number": 32,
       "text": [
        "prediction: [1]2 [2]25 [3]46 [4]89 [5]80\t\n"
       ]
      },
      {
       "metadata": {},
       "output_type": "pyout",
       "prompt_number": 32,
       "text": [
        "idx: 1485\tloss: 4.5481910705566\ttrain score: 5.725\tlabel: 28\tprediction: [1]28 [2]81 [3]75 [4]44 [5]68\t\n"
       ]
      },
      {
       "metadata": {},
       "output_type": "pyout",
       "prompt_number": 32,
       "text": [
        "idx: 1490\tloss: 4.561595916748\ttrain score: 4.025\tlabel: 100\tprediction: [1]28 [2]75 [3]81 [4]44 [5]68\t\n"
       ]
      },
      {
       "metadata": {},
       "output_type": "pyout",
       "prompt_number": 32,
       "text": [
        "idx: 1495\tloss: 4.560471534729\ttrain score: 4.9683333333333\tlabel: 67\tprediction: [1]75 [2]28 [3]81 [4]53 [5]67\t\n"
       ]
      },
      {
       "metadata": {},
       "output_type": "pyout",
       "prompt_number": 32,
       "text": [
        "current LR: 0.005\t\n"
       ]
      },
      {
       "metadata": {},
       "output_type": "pyout",
       "prompt_number": 32,
       "text": [
        "idx: 1500\tloss: 4.5620760917664\ttrain score: 5.2716666666667\tlabel: 3\tprediction: [1]88 [2]53 [3]66 [4]67 [5]96\t\n"
       ]
      },
      {
       "metadata": {},
       "output_type": "pyout",
       "prompt_number": 32,
       "text": [
        "idx: 1505\tloss: 4.5602321624756\ttrain score: 4.6383333333333\tlabel: 74\tprediction: [1]88 [2]53 [3]66 [4]67 [5]20\t\n"
       ]
      },
      {
       "metadata": {},
       "output_type": "pyout",
       "prompt_number": 32,
       "text": [
        "idx: 1510\tloss: 4.5599422454834\ttrain score: 5.58\tlabel: 94\tprediction: [1]28 [2]75 [3]81 [4]44 [5]63\t\n"
       ]
      },
      {
       "metadata": {},
       "output_type": "pyout",
       "prompt_number": 32,
       "text": [
        "idx: 1515\tloss: 4.5703663825989\ttrain score: 4.7716666666667\tlabel: 17\tprediction: [1]28 [2]75 [3]81 [4]44 [5]63\t\n"
       ]
      },
      {
       "metadata": {},
       "output_type": "pyout",
       "prompt_number": 32,
       "text": [
        "idx: 1520\tloss: 4.5521240234375\ttrain score: 5.5666666666667\tlabel: 30\tprediction: [1]20 [2]50 [3]99 [4]96 [5]70\t\n"
       ]
      },
      {
       "metadata": {},
       "output_type": "pyout",
       "prompt_number": 32,
       "text": [
        "idx: 1525\tloss: 4.5586524009705\ttrain score: 6.2116666666667\tlabel: 88\tprediction: [1]20 [2]50 [3]99 [4]57 [5]2\t\n"
       ]
      },
      {
       "metadata": {},
       "output_type": "pyout",
       "prompt_number": 32,
       "text": [
        "idx: 1530\tloss: 4.55939245224\ttrain score: 5.0733333333333\tlabel: 6\tprediction: [1]20 [2]50 [3]2 [4]25 [5]57\t\n"
       ]
      },
      {
       "metadata": {},
       "output_type": "pyout",
       "prompt_number": 32,
       "text": [
        "idx: 1535\tloss: 4.56378698349\ttrain score: 5.0783333333333\tlabel: 98\tprediction: [1]28 [2]81 [3]75 [4]44 [5]68\t\n"
       ]
      },
      {
       "metadata": {},
       "output_type": "pyout",
       "prompt_number": 32,
       "text": [
        "idx: 1540\tloss: 4.5520253181458\ttrain score: 5.6016666666667\tlabel: 91\tprediction: [1]53 [2]88 [3]75 [4]85 [5]66\t\n"
       ]
      },
      {
       "metadata": {},
       "output_type": "pyout",
       "prompt_number": 32,
       "text": [
        "idx: 1545\tloss: 4.5539903640747\ttrain score: 7.335\tlabel: 100\tprediction: [1]20 [2]96 [3]50 [4]85 [5]99\t\n"
       ]
      },
      {
       "metadata": {},
       "output_type": "pyout",
       "prompt_number": 32,
       "text": [
        "idx: 1550\tloss: 4.557954788208\ttrain score: 5.3783333333333\tlabel: 72\tprediction: [1]2 [2]25 [3]46 [4]20 [5]80\t\n"
       ]
      },
      {
       "metadata": {},
       "output_type": "pyout",
       "prompt_number": 32,
       "text": [
        "idx: 1555\tloss: 4.5634145736694\ttrain score: 5.0233333333333\tlabel: 14\tprediction: [1]75 [2]28 [3]81 [4]53 [5]67\t\n"
       ]
      },
      {
       "metadata": {},
       "output_type": "pyout",
       "prompt_number": 32,
       "text": [
        "idx: 1560\tloss: 4.5573668479919\ttrain score: 4.8683333333333\tlabel: 46\tprediction: [1]2 [2]25 [3]46 [4]89 [5]80\t\n"
       ]
      },
      {
       "metadata": {},
       "output_type": "pyout",
       "prompt_number": 32,
       "text": [
        "idx: 1565\tloss: 4.5531349182129\ttrain score: 6.12\tlabel: 8\tprediction: [1]20 [2]50 [3]2 [4]25 [5]80\t\n"
       ]
      },
      {
       "metadata": {},
       "output_type": "pyout",
       "prompt_number": 32,
       "text": [
        "idx: 1570\tloss: 4.5574722290039\ttrain score: 5.7683333333333\tlabel: 6\tprediction: [1]88 [2]66 [3]53 [4]67 [5]96\t\n"
       ]
      },
      {
       "metadata": {},
       "output_type": "pyout",
       "prompt_number": 32,
       "text": [
        "idx: 1575\tloss: 4.5625042915344\ttrain score: 5.085\tlabel: 97\tprediction: [1]75 [2]28 [3]81 [4]93 [5]63\t\n"
       ]
      },
      {
       "metadata": {},
       "output_type": "pyout",
       "prompt_number": 32,
       "text": [
        "idx: 1580\tloss: 4.5545601844788\ttrain score: 5.8166666666667\tlabel: 90\tprediction: [1]28 [2]81 [3]75 [4]44 [5]68\t\n"
       ]
      },
      {
       "metadata": {},
       "output_type": "pyout",
       "prompt_number": 32,
       "text": [
        "idx: 1585\tloss: 4.55446434021\ttrain score: 5.2633333333333\tlabel: 30\tprediction: [1]20 [2]99 [3]96 [4]88 [5]50\t\n"
       ]
      },
      {
       "metadata": {},
       "output_type": "pyout",
       "prompt_number": 32,
       "text": [
        "idx: 1590\tloss: 4.5546746253967\ttrain score: 5.4416666666667\tlabel: 44\tprediction: [1]28 [2]81 [3]75 [4]44 [5]68\t\n"
       ]
      },
      {
       "metadata": {},
       "output_type": "pyout",
       "prompt_number": 32,
       "text": [
        "idx: 1595\tloss: 4.555655002594\ttrain score: 5.5466666666667\tlabel: 15\tprediction: [1]20 [2]50 [3]80 [4]2 [5]99\t\n"
       ]
      },
      {
       "metadata": {},
       "output_type": "pyout",
       "prompt_number": 32,
       "text": [
        "idx: 1600\tloss: 4.5560431480408\ttrain score: 6.2516666666667\tlabel: 13\tprediction: [1]28 [2]81 [3]75 [4]44 [5]68\t\n"
       ]
      },
      {
       "metadata": {},
       "output_type": "pyout",
       "prompt_number": 32,
       "text": [
        "idx: 1605\tloss: 4.5621733665466\ttrain score: 6.2\tlabel: 1\tprediction: [1]88 [2]53 [3]66 [4]67 [5]85\t\n"
       ]
      },
      {
       "metadata": {},
       "output_type": "pyout",
       "prompt_number": 32,
       "text": [
        "idx: 1610\tloss: 4.5566005706787\ttrain score: 5.82\tlabel: 15\tprediction: [1]28 [2]81 [3]75 [4]44 [5]68\t\n"
       ]
      },
      {
       "metadata": {},
       "output_type": "pyout",
       "prompt_number": 32,
       "text": [
        "idx: 1615\tloss: 4.5592927932739\ttrain score: 5.5583333333333\tlabel: 50\tprediction: [1]20 [2]50 [3]2 [4]25 [5]46\t\n"
       ]
      },
      {
       "metadata": {},
       "output_type": "pyout",
       "prompt_number": 32,
       "text": [
        "idx: 1620\tloss: 4.5487518310547\ttrain score: 6.35\tlabel: 92\tprediction: [1]75 [2]28 [3]81 [4]63 [5]79\t\n"
       ]
      },
      {
       "metadata": {},
       "output_type": "pyout",
       "prompt_number": 32,
       "text": [
        "idx: 1625\tloss: 4.5640268325806\ttrain score: 4.2816666666667\tlabel: 44\tprediction: [1]20 [2]2 [3]25 [4]46 [5]50\t\n"
       ]
      },
      {
       "metadata": {},
       "output_type": "pyout",
       "prompt_number": 32,
       "text": [
        "idx: 1630\tloss: 4.5625333786011\ttrain score: 4.2083333333333\tlabel: 19\tprediction: [1]20 [2]50 [3]99 [4]96 [5]70\t\n"
       ]
      },
      {
       "metadata": {},
       "output_type": "pyout",
       "prompt_number": 32,
       "text": [
        "idx: 1635\tloss: 4.5655694007874\ttrain score: 4.455\tlabel: 14\tprediction: [1]20 [2]50 [3]99 [4]96 [5]57\t\n"
       ]
      },
      {
       "metadata": {},
       "output_type": "pyout",
       "prompt_number": 32,
       "text": [
        "idx: 1640\tloss: 4.5519633293152\ttrain score: 5.68\tlabel: 3\tprediction: [1]28 [2]75 [3]81 [4]44 [5]63\t\n"
       ]
      },
      {
       "metadata": {},
       "output_type": "pyout",
       "prompt_number": 32,
       "text": [
        "idx: 1645\tloss: 4.5630888938904\ttrain score: 5.5016666666667\tlabel: 6\tprediction: [1]20 [2]99 [3]88 [4]96 [5]50\t\n"
       ]
      },
      {
       "metadata": {},
       "output_type": "pyout",
       "prompt_number": 32,
       "text": [
        "idx: 1650\tloss: 4.5601201057434\ttrain score: 5.4283333333333\tlabel: 74\tprediction: [1]28 [2]81 [3]75 [4]44 [5]68\t\n"
       ]
      },
      {
       "metadata": {},
       "output_type": "pyout",
       "prompt_number": 32,
       "text": [
        "idx: 1655\tloss: 4.5556707382202\ttrain score: 5.71\tlabel: 17\tprediction: [1]2 [2]20 [3]25 [4]46 [5]50\t\n"
       ]
      },
      {
       "metadata": {},
       "output_type": "pyout",
       "prompt_number": 32,
       "text": [
        "idx: 1660\tloss: 4.5676889419556\ttrain score: 5.2383333333333\tlabel: 92\tprediction: [1]20 [2]50 [3]99 [4]57 [5]96\t\n"
       ]
      },
      {
       "metadata": {},
       "output_type": "pyout",
       "prompt_number": 32,
       "text": [
        "idx: 1665\tloss: 4.5505180358887\ttrain score: 5.4483333333333\tlabel: 36\tprediction: [1]28 [2]75 [3]81 [4]44 [5]63\t\n"
       ]
      },
      {
       "metadata": {},
       "output_type": "pyout",
       "prompt_number": 32,
       "text": [
        "idx: 1670\tloss: 4.556957244873\ttrain score: 5.1516666666667\tlabel: 92\tprediction: [1]28 [2]81 [3]75 [4]44 [5]68\t\n"
       ]
      },
      {
       "metadata": {},
       "output_type": "pyout",
       "prompt_number": 32,
       "text": [
        "idx: 1675\tloss: 4.5568923950195\ttrain score: 5.8433333333333\tlabel: 16\tprediction: [1]28 [2]75 [3]81 [4]44 [5]68\t\n"
       ]
      },
      {
       "metadata": {},
       "output_type": "pyout",
       "prompt_number": 32,
       "text": [
        "idx: 1680\tloss: 4.561215877533\ttrain score: 5.195\tlabel: 49\tprediction: [1]28 [2]81 [3]75 [4]44 [5]68\t\n"
       ]
      },
      {
       "metadata": {},
       "output_type": "pyout",
       "prompt_number": 32,
       "text": [
        "idx: 1685\tloss: 4.5551619529724\ttrain score: 4.8766666666667\tlabel: 42\tprediction: [1]28 [2]75 [3]81 [4]44 [5]63\t\n"
       ]
      },
      {
       "metadata": {},
       "output_type": "pyout",
       "prompt_number": 32,
       "text": [
        "idx: 1690\tloss: 4.558340549469\ttrain score: 4.7383333333333\tlabel: 98\tprediction: [1]20 [2]50 [3]99 [4]96 [5]70\t\n"
       ]
      },
      {
       "metadata": {},
       "output_type": "pyout",
       "prompt_number": 32,
       "text": [
        "idx: 1695\tloss: 4.5603513717651\ttrain score: 5.6416666666667\tlabel: 23\tprediction: [1]20 [2]50 [3]57 [4]2 [5]99\t\n"
       ]
      },
      {
       "metadata": {},
       "output_type": "pyout",
       "prompt_number": 32,
       "text": [
        "idx: 1700\tloss: 4.562798500061\ttrain score: 5.5933333333333\tlabel: 15\tprediction: [1]28 [2]81 [3]75 [4]44 [5]68\t\n"
       ]
      },
      {
       "metadata": {},
       "output_type": "pyout",
       "prompt_number": 32,
       "text": [
        "idx: 1705\tloss: 4.5575280189514\ttrain score: 6.1383333333333\tlabel: 58\tprediction: [1]20 [2]50 [3]2 [4]57 [5]99\t\n"
       ]
      },
      {
       "metadata": {},
       "output_type": "pyout",
       "prompt_number": 32,
       "text": [
        "idx: 1710\tloss: 4.5547070503235\ttrain score: 5.335\tlabel: 10\tprediction: [1]28 [2]81 [3]75 [4]44 [5]68\t\n"
       ]
      },
      {
       "metadata": {},
       "output_type": "pyout",
       "prompt_number": 32,
       "text": [
        "idx: 1715\tloss: 4.5564985275269\ttrain score: 5.8216666666667\tlabel: 88\tprediction: [1]20 [2]50 [3]99 [4]96 [5]57\t\n"
       ]
      },
      {
       "metadata": {},
       "output_type": "pyout",
       "prompt_number": 32,
       "text": [
        "idx: 1720\tloss: 4.5571036338806\ttrain score: 6.3616666666667\tlabel: 14\tprediction: [1]2 [2]20 [3]25 [4]46 [5]50\t\n"
       ]
      },
      {
       "metadata": {},
       "output_type": "pyout",
       "prompt_number": 32,
       "text": [
        "idx: 1725\tloss: 4.5582890510559\ttrain score: 5.1466666666667\tlabel: 30\tprediction: [1]28 [2]81 [3]75 [4]44 [5]68\t\n"
       ]
      },
      {
       "metadata": {},
       "output_type": "pyout",
       "prompt_number": 32,
       "text": [
        "idx: 1730\tloss: 4.5579423904419\ttrain score: 5.5033333333333\tlabel: 53\tprediction: [1]20 [2]50 [3]99 [4]96 [5]57\t\n"
       ]
      },
      {
       "metadata": {},
       "output_type": "pyout",
       "prompt_number": 32,
       "text": [
        "idx: 1735\tloss: 4.5562534332275\ttrain score: 5.9816666666667\tlabel: 62\tprediction: [1]28 [2]81 [3]75 [4]44 [5]68\t\n"
       ]
      },
      {
       "metadata": {},
       "output_type": "pyout",
       "prompt_number": 32,
       "text": [
        "idx: 1740\tloss: 4.5526061058044\ttrain score: 6.0866666666667\tlabel: 61\tprediction: [1]28 [2]75 [3]81 [4]44 [5]63\t\n"
       ]
      },
      {
       "metadata": {},
       "output_type": "pyout",
       "prompt_number": 32,
       "text": [
        "idx: 1745\tloss: 4.5567517280579\ttrain score: 5.5\tlabel: 35\tprediction: [1]20 [2]2 [3]50 [4]25 [5]46\t\n"
       ]
      },
      {
       "metadata": {},
       "output_type": "pyout",
       "prompt_number": 32,
       "text": [
        "idx: 1750\tloss: 4.5571675300598\ttrain score: 5.7316666666667\tlabel: 22\tprediction: [1]20 [2]2 [3]25 [4]46 [5]50\t\n"
       ]
      },
      {
       "metadata": {},
       "output_type": "pyout",
       "prompt_number": 32,
       "text": [
        "idx: 1755\tloss: 4.5535888671875\ttrain score: 6.3433333333333\tlabel: 10\tprediction: [1]20 [2]99 [3]96 [4]50 [5]88\t\n"
       ]
      },
      {
       "metadata": {},
       "output_type": "pyout",
       "prompt_number": 32,
       "text": [
        "idx: 1760\tloss: 4.5488786697388\ttrain score: 6.03\tlabel: 65\tprediction: [1]20 [2]2 [3]25 [4]50 [5]80\t\n"
       ]
      },
      {
       "metadata": {},
       "output_type": "pyout",
       "prompt_number": 32,
       "text": [
        "idx: 1765\tloss: 4.5543055534363\ttrain score: 6.5816666666667\tlabel: 90\tprediction: [1]20 [2]99 [3]50 [4]96 [5]70\t\n"
       ]
      },
      {
       "metadata": {},
       "output_type": "pyout",
       "prompt_number": 32,
       "text": [
        "idx: 1770\tloss: 4.5570006370544\ttrain score: 5.71\tlabel: 1\tprediction: [1]2 [2]20 [3]25 [4]46 [5]50\t\n"
       ]
      },
      {
       "metadata": {},
       "output_type": "pyout",
       "prompt_number": 32,
       "text": [
        "idx: 1775\tloss: 4.5691075325012\ttrain score: 5.865\tlabel: 27\tprediction: [1]20 [2]88 [3]99 [4]96 [5]66\t\n"
       ]
      },
      {
       "metadata": {},
       "output_type": "pyout",
       "prompt_number": 32,
       "text": [
        "idx: 1780\tloss: 4.5602293014526\ttrain score: 5.395\tlabel: 61\tprediction: [1]28 [2]81 [3]75 [4]44 [5]68\t\n"
       ]
      },
      {
       "metadata": {},
       "output_type": "pyout",
       "prompt_number": 32,
       "text": [
        "idx: 1785\tloss: 4.5673136711121\ttrain score: 5.8516666666667\tlabel: 90\tprediction: [1]20 [2]50 [3]99 [4]2 [5]57\t\n"
       ]
      },
      {
       "metadata": {},
       "output_type": "pyout",
       "prompt_number": 32,
       "text": [
        "idx: 1790\tloss: 4.5479803085327\ttrain score: 5.9816666666667\tlabel: 57\tprediction: [1]28 [2]75 [3]81 [4]63 [5]44\t\n"
       ]
      },
      {
       "metadata": {},
       "output_type": "pyout",
       "prompt_number": 32,
       "text": [
        "idx: 1795\tloss: 4.5501155853271\ttrain score: 5.5366666666667\tlabel: 89\tprediction: [1]2 [2]25 [3]46 [4]89 [5]80\t\n"
       ]
      },
      {
       "metadata": {},
       "output_type": "pyout",
       "prompt_number": 32,
       "text": [
        "idx: 1800\tloss: 4.5573673248291\ttrain score: 5.04\tlabel: 91\tprediction: [1]53 [2]67 [3]66 [4]88 [5]75\t\n"
       ]
      },
      {
       "metadata": {},
       "output_type": "pyout",
       "prompt_number": 32,
       "text": [
        "idx: 1805\tloss: 4.5595297813416\ttrain score: 4.965\tlabel: 83\tprediction: [1]88 [2]53 [3]66 [4]67 [5]99\t\n"
       ]
      },
      {
       "metadata": {},
       "output_type": "pyout",
       "prompt_number": 32,
       "text": [
        "idx: 1810\tloss: 4.556610584259\ttrain score: 5.2266666666667\tlabel: 32\tprediction: [1]20 [2]50 [3]99 [4]57 [5]2\t\n"
       ]
      },
      {
       "metadata": {},
       "output_type": "pyout",
       "prompt_number": 32,
       "text": [
        "idx: 1815\tloss: 4.5586090087891\ttrain score: 5.7733333333333\tlabel: 79\tprediction: [1]20 [2]99 [3]50 [4]57 [5]96\t\n"
       ]
      },
      {
       "metadata": {},
       "output_type": "pyout",
       "prompt_number": 32,
       "text": [
        "idx: 1820\tloss: 4.5581216812134\ttrain score: 5.8316666666667\tlabel: 55\tprediction: [1]2 [2]25 [3]46 [4]89 [5]80\t\n"
       ]
      },
      {
       "metadata": {},
       "output_type": "pyout",
       "prompt_number": 32,
       "text": [
        "idx: 1825\tloss: 4.5625658035278\ttrain score: 5.395\tlabel: 25\tprediction: [1]2 [2]25 [3]46 [4]89 [5]80\t\n"
       ]
      },
      {
       "metadata": {},
       "output_type": "pyout",
       "prompt_number": 32,
       "text": [
        "idx: 1830\tloss: 4.556088924408\ttrain score: 6.3716666666667\tlabel: 1\tprediction: [1]20 [2]2 [3]50 [4]25 [5]46\t\n"
       ]
      },
      {
       "metadata": {},
       "output_type": "pyout",
       "prompt_number": 32,
       "text": [
        "idx: 1835\tloss: 4.5551881790161\ttrain score: 5.5166666666667\tlabel: 2\tprediction: [1]2 [2]25 [3]46 [4]89 [5]80\t\n"
       ]
      },
      {
       "metadata": {},
       "output_type": "pyout",
       "prompt_number": 32,
       "text": [
        "idx: 1840\tloss: 4.5473341941833\ttrain score: 6.2733333333333\tlabel: 10\tprediction: [1]20 [2]88 [3]96 [4]99 [5]85\t\n"
       ]
      },
      {
       "metadata": {},
       "output_type": "pyout",
       "prompt_number": 32,
       "text": [
        "idx: 1845\tloss: 4.5558905601501\ttrain score: 6.1366666666667\tlabel: 13\tprediction: [1]75 [2]28 [3]81 [4]44 [5]63\t\n"
       ]
      },
      {
       "metadata": {},
       "output_type": "pyout",
       "prompt_number": 32,
       "text": [
        "idx: 1850\tloss: 4.5520024299622\ttrain score: 5.9933333333333\tlabel: 91\tprediction: [1]20 [2]50 [3]99 [4]57 [5]96\t\n"
       ]
      },
      {
       "metadata": {},
       "output_type": "pyout",
       "prompt_number": 32,
       "text": [
        "idx: 1855\tloss: 4.5559225082397\ttrain score: 5.8133333333333\tlabel: 66\tprediction: [1]88 [2]20 [3]99 [4]66 [5]96\t\n"
       ]
      },
      {
       "metadata": {},
       "output_type": "pyout",
       "prompt_number": 32,
       "text": [
        "idx: 1860\tloss: 4.5559587478638\ttrain score: 6.6683333333333\tlabel: 94\tprediction: [1]28 [2]81 [3]75 [4]44 [5]68\t\n"
       ]
      },
      {
       "metadata": {},
       "output_type": "pyout",
       "prompt_number": 32,
       "text": [
        "idx: 1865\tloss: 4.5587730407715\ttrain score: 5.745\tlabel: 87\tprediction: [1]28 [2]75 [3]81 [4]44 [5]68\t\n"
       ]
      },
      {
       "metadata": {},
       "output_type": "pyout",
       "prompt_number": 32,
       "text": [
        "idx: 1870\tloss: 4.5616798400879\ttrain score: 5.2366666666667\tlabel: 52\tprediction: [1]2 [2]25 [3]46 [4]89 [5]80\t\n"
       ]
      },
      {
       "metadata": {},
       "output_type": "pyout",
       "prompt_number": 32,
       "text": [
        "idx: 1875\tloss: 4.5460867881775\ttrain score: 6.3333333333333\tlabel: 75\tprediction: [1]75 [2]53 [3]67 [4]88 [5]27\t\n"
       ]
      },
      {
       "metadata": {},
       "output_type": "pyout",
       "prompt_number": 32,
       "text": [
        "idx: 1880\tloss: 4.5613718032837\ttrain score: 5.505\tlabel: 76\tprediction: [1]20 [2]50 [3]2 [4]57 [5]99\t\n"
       ]
      },
      {
       "metadata": {},
       "output_type": "pyout",
       "prompt_number": 32,
       "text": [
        "idx: 1885\tloss: 4.5645670890808\ttrain score: 4.3933333333333\tlabel: 10\tprediction: [1]20 [2]50 [3]2 [4]25 [5]57\t\n"
       ]
      },
      {
       "metadata": {},
       "output_type": "pyout",
       "prompt_number": 32,
       "text": [
        "idx: 1890\tloss: 4.5503101348877\ttrain score: 6.7983333333333\tlabel: 69\tprediction: [1]2 [2]25 [3]20 [4]46 [5]50\t\n"
       ]
      },
      {
       "metadata": {},
       "output_type": "pyout",
       "prompt_number": 32,
       "text": [
        "idx: 1895\tloss: 4.5463490486145\ttrain score: 6.4866666666667\tlabel: 68\tprediction: [1]28 [2]81 [3]75 [4]44 [5]68\t\n"
       ]
      },
      {
       "metadata": {},
       "output_type": "pyout",
       "prompt_number": 32,
       "text": [
        "idx: 1900\tloss: 4.5624828338623\ttrain score: 5.4133333333333\tlabel: 55\tprediction: [1]28 [2]81 [3]75 [4]44 [5]68\t\n"
       ]
      },
      {
       "metadata": {},
       "output_type": "pyout",
       "prompt_number": 32,
       "text": [
        "idx: 1905\tloss: 4.5571718215942\ttrain score: 5.645\tlabel: 2\tprediction: [1]2 [2]20 [3]25 [4]46 [5]80\t\n"
       ]
      },
      {
       "metadata": {},
       "output_type": "pyout",
       "prompt_number": 32,
       "text": [
        "idx: 1910\tloss: 4.5603065490723\ttrain score: 6.2883333333333\tlabel: 14\tprediction: [1]2 [2]25 [3]46 [4]20 [5]80\t\n"
       ]
      },
      {
       "metadata": {},
       "output_type": "pyout",
       "prompt_number": 32,
       "text": [
        "idx: 1915\tloss: 4.5577077865601\ttrain score: 5.94\tlabel: 41\tprediction: [1]2 [2]25 [3]46 [4]89 [5]80\t\n"
       ]
      },
      {
       "metadata": {},
       "output_type": "pyout",
       "prompt_number": 32,
       "text": [
        "idx: 1920\tloss: 4.555278301239\ttrain score: 6.5616666666667\tlabel: 51\tprediction: [1]2 [2]25 [3]46 [4]89 [5]80\t\n"
       ]
      },
      {
       "metadata": {},
       "output_type": "pyout",
       "prompt_number": 32,
       "text": [
        "idx: 1925\tloss: 4.5551476478577\ttrain score: 5.68\tlabel: 93\tprediction: [1]28 [2]75 [3]81 [4]44 [5]68\t\n"
       ]
      },
      {
       "metadata": {},
       "output_type": "pyout",
       "prompt_number": 32,
       "text": [
        "idx: 1930\tloss: 4.5517501831055\ttrain score: 4.6383333333333\tlabel: 2\tprediction: [1]2 [2]25 [3]46 [4]89 [5]80\t\n"
       ]
      },
      {
       "metadata": {},
       "output_type": "pyout",
       "prompt_number": 32,
       "text": [
        "idx: 1935\tloss: 4.5550894737244\ttrain score: 6.47\tlabel: 97\t"
       ]
      },
      {
       "metadata": {},
       "output_type": "pyout",
       "prompt_number": 32,
       "text": [
        "prediction: [1]2 [2]20 [3]25 [4]46 [5]80\t\n"
       ]
      },
      {
       "metadata": {},
       "output_type": "pyout",
       "prompt_number": 32,
       "text": [
        "idx: 1940\tloss: 4.5636806488037\ttrain score: 4.7583333333333\tlabel: 84\tprediction: [1]53 [2]67 [3]75 [4]88 [5]66\t\n"
       ]
      },
      {
       "metadata": {},
       "output_type": "pyout",
       "prompt_number": 32,
       "text": [
        "idx: 1945\tloss: 4.5686068534851\ttrain score: 4.6883333333333\tlabel: 51\tprediction: [1]28 [2]75 [3]81 [4]44 [5]63\t\n"
       ]
      },
      {
       "metadata": {},
       "output_type": "pyout",
       "prompt_number": 32,
       "text": [
        "idx: 1950\tloss: 4.5549449920654\ttrain score: 5.855\tlabel: 4\tprediction: [1]20 [2]50 [3]99 [4]57 [5]2\t\n"
       ]
      },
      {
       "metadata": {},
       "output_type": "pyout",
       "prompt_number": 32,
       "text": [
        "idx: 1955\tloss: 4.5665259361267\ttrain score: 4.585\tlabel: 68\tprediction: [1]75 [2]53 [3]67 [4]28 [5]81\t\n"
       ]
      },
      {
       "metadata": {},
       "output_type": "pyout",
       "prompt_number": 32,
       "text": [
        "idx: 1960\tloss: 4.5508980751038\ttrain score: 6.2783333333333\tlabel: 80\tprediction: [1]2 [2]25 [3]46 [4]89 [5]80\t\n"
       ]
      },
      {
       "metadata": {},
       "output_type": "pyout",
       "prompt_number": 32,
       "text": [
        "idx: 1965\tloss: 4.5550937652588\ttrain score: 5.7616666666667\tlabel: 84\tprediction: [1]28 [2]75 [3]81 [4]44 [5]68\t\n"
       ]
      },
      {
       "metadata": {},
       "output_type": "pyout",
       "prompt_number": 32,
       "text": [
        "idx: 1970\tloss: 4.556556224823\ttrain score: 6.205\tlabel: 28\tprediction: [1]75 [2]28 [3]81 [4]44 [5]63\t\n"
       ]
      },
      {
       "metadata": {},
       "output_type": "pyout",
       "prompt_number": 32,
       "text": [
        "idx: 1975\tloss: 4.5562281608582\ttrain score: 5.5083333333333\tlabel: 87\tprediction: [1]20 [2]88 [3]99 [4]66 [5]96\t\n"
       ]
      },
      {
       "metadata": {},
       "output_type": "pyout",
       "prompt_number": 32,
       "text": [
        "idx: 1980\tloss: 4.5599751472473\ttrain score: 6.905\tlabel: 60\tprediction: [1]28 [2]81 [3]75 [4]44 [5]68\t\n"
       ]
      },
      {
       "metadata": {},
       "output_type": "pyout",
       "prompt_number": 32,
       "text": [
        "idx: 1985\tloss: 4.5599226951599\ttrain score: 5.8666666666667\tlabel: 60\tprediction: [1]28 [2]81 [3]75 [4]44 [5]68\t\n"
       ]
      },
      {
       "metadata": {},
       "output_type": "pyout",
       "prompt_number": 32,
       "text": [
        "idx: 1990\tloss: 4.5539808273315\ttrain score: 5.5266666666667\tlabel: 47\tprediction: [1]53 [2]88 [3]67 [4]66 [5]85\t\n"
       ]
      },
      {
       "metadata": {},
       "output_type": "pyout",
       "prompt_number": 32,
       "text": [
        "idx: 1995\tloss: 4.5525808334351\ttrain score: 6.175\tlabel: 93\tprediction: [1]20 [2]50 [3]99 [4]57 [5]96\t\n"
       ]
      },
      {
       "metadata": {},
       "output_type": "pyout",
       "prompt_number": 32,
       "text": [
        "idx: 2000\tloss: 4.5464057922363\ttrain score: 5.8733333333333\tlabel: 16\tprediction: [1]28 [2]75 [3]81 [4]44 [5]63\t\n"
       ]
      },
      {
       "metadata": {},
       "output_type": "pyout",
       "prompt_number": 32,
       "text": [
        "idx: 2005\tloss: 4.5574555397034\ttrain score: 5.62\tlabel: 19\tprediction: [1]28 [2]75 [3]81 [4]44 [5]68\t\n"
       ]
      },
      {
       "metadata": {},
       "output_type": "pyout",
       "prompt_number": 32,
       "text": [
        "idx: 2010\tloss: 4.5658497810364\ttrain score: 5.7316666666667\tlabel: 96\tprediction: [1]28 [2]75 [3]81 [4]44 [5]68\t\n"
       ]
      },
      {
       "metadata": {},
       "output_type": "pyout",
       "prompt_number": 32,
       "text": [
        "idx: 2015\tloss: 4.5556745529175\ttrain score: 4.335\tlabel: 98\tprediction: [1]20 [2]2 [3]25 [4]50 [5]46\t\n"
       ]
      },
      {
       "metadata": {},
       "output_type": "pyout",
       "prompt_number": 32,
       "text": [
        "idx: 2020\tloss: 4.5537214279175\ttrain score: 5.405\tlabel: 93\tprediction: [1]75 [2]53 [3]67 [4]28 [5]81\t\n"
       ]
      },
      {
       "metadata": {},
       "output_type": "pyout",
       "prompt_number": 32,
       "text": [
        "idx: 2025\tloss: 4.552659034729\ttrain score: 6.035\tlabel: 11\tprediction: [1]20 [2]50 [3]2 [4]25 [5]57\t\n"
       ]
      },
      {
       "metadata": {},
       "output_type": "pyout",
       "prompt_number": 32,
       "text": [
        "idx: 2030\tloss: 4.5526475906372\ttrain score: 6.2633333333333\tlabel: 7\tprediction: [1]28 [2]81 [3]75 [4]44 [5]68\t\n"
       ]
      },
      {
       "metadata": {},
       "output_type": "pyout",
       "prompt_number": 32,
       "text": [
        "idx: 2035\tloss: 4.5519599914551\ttrain score: 5.8816666666667\tlabel: 83\tprediction: [1]28 [2]81 [3]75 [4]44 [5]68\t\n"
       ]
      },
      {
       "metadata": {},
       "output_type": "pyout",
       "prompt_number": 32,
       "text": [
        "idx: 2040\tloss: 4.5544271469116\ttrain score: 5.2783333333333\tlabel: 76\tprediction: [1]20 [2]50 [3]99 [4]96 [5]70\t\n"
       ]
      },
      {
       "metadata": {},
       "output_type": "pyout",
       "prompt_number": 32,
       "text": [
        "idx: 2045\tloss: 4.5606017112732\ttrain score: 5.08\tlabel: 87\tprediction: [1]28 [2]81 [3]75 [4]44 [5]68\t\n"
       ]
      },
      {
       "metadata": {},
       "output_type": "pyout",
       "prompt_number": 32,
       "text": [
        "idx: 2050\tloss: 4.5533185005188\ttrain score: 5.685\tlabel: 80\tprediction: [1]2 [2]25 [3]46 [4]89 [5]80\t\n"
       ]
      },
      {
       "metadata": {},
       "output_type": "pyout",
       "prompt_number": 32,
       "text": [
        "idx: 2055\tloss: 4.5575132369995\ttrain score: 6.1483333333333\tlabel: 76\tprediction: [1]20 [2]2 [3]25 [4]50 [5]80\t\n"
       ]
      },
      {
       "metadata": {},
       "output_type": "pyout",
       "prompt_number": 32,
       "text": [
        "idx: 2060\tloss: 4.5591444969177\ttrain score: 5.57\tlabel: 14\tprediction: [1]2 [2]20 [3]25 [4]46 [5]50\t\n"
       ]
      },
      {
       "metadata": {},
       "output_type": "pyout",
       "prompt_number": 32,
       "text": [
        "idx: 2065\tloss: 4.5643892288208\ttrain score: 5.8933333333333\tlabel: 82\tprediction: [1]28 [2]75 [3]81 [4]44 [5]68\t\n"
       ]
      },
      {
       "metadata": {},
       "output_type": "pyout",
       "prompt_number": 32,
       "text": [
        "idx: 2070\tloss: 4.5575103759766\ttrain score: 5.005\tlabel: 32\tprediction: [1]20 [2]50 [3]99 [4]96 [5]70\t\n"
       ]
      },
      {
       "metadata": {},
       "output_type": "pyout",
       "prompt_number": 32,
       "text": [
        "idx: 2075\tloss: 4.5530557632446\ttrain score: 5.4266666666667\tlabel: 55\tprediction: [1]75 [2]28 [3]81 [4]63 [5]79\t\n"
       ]
      },
      {
       "metadata": {},
       "output_type": "pyout",
       "prompt_number": 32,
       "text": [
        "idx: 2080\tloss: 4.5636715888977\ttrain score: 5.9866666666667\tlabel: 23\tprediction: [1]88 [2]53 [3]66 [4]67 [5]96\t\n"
       ]
      },
      {
       "metadata": {},
       "output_type": "pyout",
       "prompt_number": 32,
       "text": [
        "idx: 2085\tloss: 4.5622410774231\ttrain score: 6.3666666666667\tlabel: 91\tprediction: [1]28 [2]81 [3]75 [4]44 [5]68\t\n"
       ]
      },
      {
       "metadata": {},
       "output_type": "pyout",
       "prompt_number": 32,
       "text": [
        "idx: 2090\tloss: 4.5541033744812\ttrain score: 6.485\tlabel: 87\tprediction: [1]20 [2]50 [3]99 [4]57 [5]96\t\n"
       ]
      },
      {
       "metadata": {},
       "output_type": "pyout",
       "prompt_number": 32,
       "text": [
        "idx: 2095\tloss: 4.5574822425842\ttrain score: 4.8566666666667\tlabel: 45\tprediction: [1]28 [2]75 [3]81 [4]44 [5]68\t\n"
       ]
      },
      {
       "metadata": {},
       "output_type": "pyout",
       "prompt_number": 32,
       "text": [
        "idx: 2100\tloss: 4.5642652511597\ttrain score: 5.0533333333333\tlabel: 93\tprediction: [1]20 [2]50 [3]99 [4]96 [5]70\t\n"
       ]
      },
      {
       "metadata": {},
       "output_type": "pyout",
       "prompt_number": 32,
       "text": [
        "idx: 2105\tloss: 4.5601334571838\ttrain score: 5.605\tlabel: 10\tprediction: [1]20 [2]50 [3]99 [4]57 [5]2\t\n"
       ]
      },
      {
       "metadata": {},
       "output_type": "pyout",
       "prompt_number": 32,
       "text": [
        "idx: 2110\tloss: 4.5508389472961\ttrain score: 6.0066666666667\tlabel: 59\tprediction: [1]53 [2]88 [3]66 [4]67 [5]85\t\n"
       ]
      },
      {
       "metadata": {},
       "output_type": "pyout",
       "prompt_number": 32,
       "text": [
        "idx: 2115\tloss: 4.5588159561157\ttrain score: 4.7783333333333\tlabel: 26\tprediction: [1]28 [2]81 [3]75 [4]44 [5]68\t\n"
       ]
      },
      {
       "metadata": {},
       "output_type": "pyout",
       "prompt_number": 32,
       "text": [
        "idx: 2120\tloss: 4.5445957183838\ttrain score: 5.56\tlabel: 25\tprediction: [1]2 [2]20 [3]25 [4]46 [5]80\t\n"
       ]
      },
      {
       "metadata": {},
       "output_type": "pyout",
       "prompt_number": 32,
       "text": [
        "idx: 2125\tloss: 4.5552701950073\ttrain score: 5.4016666666667\tlabel: 100\tprediction: [1]75 [2]53 [3]67 [4]88 [5]66\t\n"
       ]
      },
      {
       "metadata": {},
       "output_type": "pyout",
       "prompt_number": 32,
       "text": [
        "idx: 2130\tloss: 4.5523476600647\ttrain score: 5.4016666666667\tlabel: 24\tprediction: [1]75 [2]28 [3]81 [4]63 [5]79\t\n"
       ]
      },
      {
       "metadata": {},
       "output_type": "pyout",
       "prompt_number": 32,
       "text": [
        "idx: 2135\tloss: 4.5606374740601\ttrain score: 5.7333333333333\tlabel: 20\tprediction: [1]20 [2]2 [3]50 [4]25 [5]46\t\n"
       ]
      },
      {
       "metadata": {},
       "output_type": "pyout",
       "prompt_number": 32,
       "text": [
        "idx: 2140\tloss: 4.5645084381104\ttrain score: 4.5616666666667\tlabel: 37\tprediction: [1]20 [2]50 [3]2 [4]99 [5]57\t\n"
       ]
      },
      {
       "metadata": {},
       "output_type": "pyout",
       "prompt_number": 32,
       "text": [
        "idx: 2145\tloss: 4.5676999092102\ttrain score: 5.6333333333333\tlabel: 87\tprediction: [1]2 [2]25 [3]46 [4]20 [5]80\t\n"
       ]
      },
      {
       "metadata": {},
       "output_type": "pyout",
       "prompt_number": 32,
       "text": [
        "idx: 2150\tloss: 4.5556435585022\ttrain score: 5.5283333333333\tlabel: 75\tprediction: [1]75 [2]53 [3]67 [4]27 [5]88\t\n"
       ]
      },
      {
       "metadata": {},
       "output_type": "pyout",
       "prompt_number": 32,
       "text": [
        "idx: 2155\tloss: 4.5587468147278\ttrain score: 6.1866666666667\tlabel: 11\tprediction: [1]28 [2]75 [3]81 [4]44 [5]63\t\n"
       ]
      },
      {
       "metadata": {},
       "output_type": "pyout",
       "prompt_number": 32,
       "text": [
        "idx: 2160\tloss: 4.5615863800049\ttrain score: 5.425\tlabel: 56\tprediction: [1]75 [2]28 [3]81 [4]63 [5]79\t\n"
       ]
      },
      {
       "metadata": {},
       "output_type": "pyout",
       "prompt_number": 32,
       "text": [
        "idx: 2165\tloss: 4.5608162879944\ttrain score: 5.325\tlabel: 4\tprediction: [1]75 [2]28 [3]81 [4]79 [5]63\t\n"
       ]
      },
      {
       "metadata": {},
       "output_type": "pyout",
       "prompt_number": 32,
       "text": [
        "idx: 2170\tloss: 4.5521378517151\ttrain score: 5.255\tlabel: 85\tprediction: [1]20 [2]50 [3]2 [4]25 [5]57\t\n"
       ]
      },
      {
       "metadata": {},
       "output_type": "pyout",
       "prompt_number": 32,
       "text": [
        "idx: 2175\tloss: 4.5538244247437\ttrain score: 6.4316666666667\tlabel: 54\tprediction: [1]20 [2]50 [3]2 [4]25 [5]80\t\n"
       ]
      },
      {
       "metadata": {},
       "output_type": "pyout",
       "prompt_number": 32,
       "text": [
        "idx: 2180\tloss: 4.5569314956665\ttrain score: 4.6783333333333\tlabel: 64\tprediction: [1]28 [2]75 [3]81 [4]44 [5]63\t\n"
       ]
      },
      {
       "metadata": {},
       "output_type": "pyout",
       "prompt_number": 32,
       "text": [
        "idx: 2185\tloss: 4.5583820343018\ttrain score: 6.025\tlabel: 36\tprediction: [1]28 [2]75 [3]81 [4]44 [5]68\t\n"
       ]
      },
      {
       "metadata": {},
       "output_type": "pyout",
       "prompt_number": 32,
       "text": [
        "idx: 2190\tloss: 4.557991027832\ttrain score: 6.205\tlabel: 8\tprediction: [1]75 [2]28 [3]81 [4]63 [5]79\t\n"
       ]
      },
      {
       "metadata": {},
       "output_type": "pyout",
       "prompt_number": 32,
       "text": [
        "idx: 2195\tloss: 4.5609335899353\ttrain score: 5.6033333333333\tlabel: 80\tprediction: [1]2 [2]25 [3]46 [4]89 [5]80\t\n"
       ]
      },
      {
       "metadata": {},
       "output_type": "pyout",
       "prompt_number": 32,
       "text": [
        "idx: 2200\tloss: 4.5673360824585\ttrain score: 5.0366666666667\tlabel: 41\tprediction: [1]20 [2]50 [3]99 [4]57 [5]2\t\n"
       ]
      },
      {
       "metadata": {},
       "output_type": "pyout",
       "prompt_number": 32,
       "text": [
        "idx: 2205\tloss: 4.5579013824463\ttrain score: 4.9766666666667\tlabel: 74\tprediction: [1]28 [2]81 [3]75 [4]44 [5]68\t\n"
       ]
      },
      {
       "metadata": {},
       "output_type": "pyout",
       "prompt_number": 32,
       "text": [
        "idx: 2210\tloss: 4.5579228401184\ttrain score: 4.485\tlabel: 96\tprediction: [1]20 [2]99 [3]96 [4]50 [5]88\t\n"
       ]
      },
      {
       "metadata": {},
       "output_type": "pyout",
       "prompt_number": 32,
       "text": [
        "idx: 2215\tloss: 4.5656394958496\ttrain score: 4.7783333333333\tlabel: 66\tprediction: [1]20 [2]50 [3]99 [4]96 [5]70\t\n"
       ]
      },
      {
       "metadata": {},
       "output_type": "pyout",
       "prompt_number": 32,
       "text": [
        "idx: 2220\tloss: 4.5604753494263\ttrain score: 6.5516666666667\tlabel: 69\tprediction: [1]20 [2]50 [3]57 [4]99 [5]2\t\n"
       ]
      },
      {
       "metadata": {},
       "output_type": "pyout",
       "prompt_number": 32,
       "text": [
        "idx: 2225\tloss: 4.5554847717285\ttrain score: 5.6566666666667\tlabel: 46\tprediction: [1]2 [2]25 [3]46 [4]89 [5]80\t\n"
       ]
      },
      {
       "metadata": {},
       "output_type": "pyout",
       "prompt_number": 32,
       "text": [
        "idx: 2230\tloss: 4.559720993042\ttrain score: 5.61\tlabel: 82\tprediction: [1]28 [2]75 [3]81 [4]44 [5]68\t\n"
       ]
      },
      {
       "metadata": {},
       "output_type": "pyout",
       "prompt_number": 32,
       "text": [
        "idx: 2235\tloss: 4.5609602928162\ttrain score: 5.5166666666667\tlabel: 98\tprediction: [1]2 [2]25 [3]20 [4]46 [5]80\t\n"
       ]
      },
      {
       "metadata": {},
       "output_type": "pyout",
       "prompt_number": 32,
       "text": [
        "idx: 2240\tloss: 4.5596432685852\ttrain score: 4.785\tlabel: 28\tprediction: [1]28 [2]81 [3]75 [4]44 [5]68\t\n"
       ]
      },
      {
       "metadata": {},
       "output_type": "pyout",
       "prompt_number": 32,
       "text": [
        "idx: 2245\tloss: 4.5618019104004\ttrain score: 5.81\tlabel: 51\tprediction: [1]2 [2]20 [3]25 [4]46 [5]50\t\n"
       ]
      },
      {
       "metadata": {},
       "output_type": "pyout",
       "prompt_number": 32,
       "text": [
        "idx: 2250\tloss: 4.5523834228516\ttrain score: 6.4133333333333\tlabel: 41\tprediction: [1]20 [2]50 [3]99 [4]57 [5]2\t\n"
       ]
      },
      {
       "metadata": {},
       "output_type": "pyout",
       "prompt_number": 32,
       "text": [
        "idx: 2255\tloss: 4.5651125907898\ttrain score: 5.9033333333333\tlabel: 78\tprediction: [1]28 [2]75 [3]81 [4]44 [5]63\t\n"
       ]
      },
      {
       "metadata": {},
       "output_type": "pyout",
       "prompt_number": 32,
       "text": [
        "idx: 2260\tloss: 4.5664558410645\ttrain score: 4.7433333333333\tlabel: 38\tprediction: [1]20 [2]2 [3]50 [4]25 [5]80\t\n"
       ]
      },
      {
       "metadata": {},
       "output_type": "pyout",
       "prompt_number": 32,
       "text": [
        "idx: 2265\tloss: 4.5587606430054\ttrain score: 5.9983333333333\tlabel: 56\tprediction: [1]2 [2]25 [3]20 [4]46 [5]50\t\n"
       ]
      },
      {
       "metadata": {},
       "output_type": "pyout",
       "prompt_number": 32,
       "text": [
        "idx: 2270\tloss: 4.5627808570862\ttrain score: 5.6233333333333\tlabel: 90\tprediction: [1]28 [2]75 [3]81 [4]44 [5]68\t\n"
       ]
      },
      {
       "metadata": {},
       "output_type": "pyout",
       "prompt_number": 32,
       "text": [
        "idx: 2275\tloss: 4.5534014701843\ttrain score: 5.345\tlabel: 71\tprediction: [1]20 [2]2 [3]25 [4]46 [5]50\t\n"
       ]
      },
      {
       "metadata": {},
       "output_type": "pyout",
       "prompt_number": 32,
       "text": [
        "idx: 2280\tloss: 4.5528130531311\ttrain score: 5.25\tlabel: 54\tprediction: [1]2 [2]20 [3]25 [4]50 [5]46\t\n"
       ]
      },
      {
       "metadata": {},
       "output_type": "pyout",
       "prompt_number": 32,
       "text": [
        "idx: 2285\tloss: 4.5496711730957\ttrain score: 6.8766666666667\tlabel: 66\tprediction: [1]28 [2]75 [3]81 [4]44 [5]68\t\n"
       ]
      },
      {
       "metadata": {},
       "output_type": "pyout",
       "prompt_number": 32,
       "text": [
        "idx: 2290\tloss: 4.5570044517517\ttrain score: 5.3033333333333\tlabel: 7\tprediction: [1]20 [2]50 [3]96 [4]99 [5]85\t\n"
       ]
      },
      {
       "metadata": {},
       "output_type": "pyout",
       "prompt_number": 32,
       "text": [
        "idx: 2295\tloss: 4.5591883659363\ttrain score: 5.3216666666667\tlabel: 25\tprediction: [1]2 [2]25 [3]46 [4]89 [5]80\t\n"
       ]
      },
      {
       "metadata": {},
       "output_type": "pyout",
       "prompt_number": 32,
       "text": [
        "idx: 2300\tloss: 4.5583148002625\ttrain score: 5.6133333333333\tlabel: 7\tprediction: [1]20 [2]50 [3]99 [4]96 [5]70\t\n"
       ]
      },
      {
       "metadata": {},
       "output_type": "pyout",
       "prompt_number": 32,
       "text": [
        "idx: 2305\tloss: 4.5564208030701\ttrain score: 6.0216666666667\tlabel: 16\tprediction: [1]28 [2]81 [3]75 [4]44 [5]68\t\n"
       ]
      },
      {
       "metadata": {},
       "output_type": "pyout",
       "prompt_number": 32,
       "text": [
        "idx: 2310\t"
       ]
      },
      {
       "metadata": {},
       "output_type": "pyout",
       "prompt_number": 32,
       "text": [
        "loss: 4.5613603591919\ttrain score: 4.5666666666667\tlabel: 58\tprediction: [1]20 [2]99 [3]96 [4]50 [5]70\t\n"
       ]
      },
      {
       "metadata": {},
       "output_type": "pyout",
       "prompt_number": 32,
       "text": [
        "idx: 2315\tloss: 4.5558700561523\ttrain score: 5.9233333333333\tlabel: 63\tprediction: [1]20 [2]99 [3]96 [4]50 [5]88\t\n"
       ]
      },
      {
       "metadata": {},
       "output_type": "pyout",
       "prompt_number": 32,
       "text": [
        "idx: 2320\tloss: 4.5480732917786\ttrain score: 6.4133333333333\tlabel: 69\tprediction: [1]20 [2]88 [3]99 [4]96 [5]66\t\n"
       ]
      },
      {
       "metadata": {},
       "output_type": "pyout",
       "prompt_number": 32,
       "text": [
        "idx: 2325\tloss: 4.5508694648743\ttrain score: 6.7516666666667\tlabel: 88\tprediction: [1]75 [2]28 [3]81 [4]63 [5]44\t\n"
       ]
      },
      {
       "metadata": {},
       "output_type": "pyout",
       "prompt_number": 32,
       "text": [
        "idx: 2330\tloss: 4.5630164146423\ttrain score: 5.76\tlabel: 67\tprediction: [1]20 [2]50 [3]99 [4]96 [5]57\t\n"
       ]
      },
      {
       "metadata": {},
       "output_type": "pyout",
       "prompt_number": 32,
       "text": [
        "idx: 2335\tloss: 4.5589895248413\ttrain score: 5.6916666666667\tlabel: 38\tprediction: [1]20 [2]50 [3]99 [4]57 [5]2\t\n"
       ]
      },
      {
       "metadata": {},
       "output_type": "pyout",
       "prompt_number": 32,
       "text": [
        "idx: 2340\tloss: 4.5599341392517\ttrain score: 4.7316666666667\tlabel: 31\tprediction: [1]2 [2]25 [3]46 [4]20 [5]80\t\n"
       ]
      },
      {
       "metadata": {},
       "output_type": "pyout",
       "prompt_number": 32,
       "text": [
        "idx: 2345\tloss: 4.5576415061951\ttrain score: 6.0733333333333\tlabel: 73\tprediction: [1]75 [2]85 [3]18 [4]35 [5]27\t\n"
       ]
      },
      {
       "metadata": {},
       "output_type": "pyout",
       "prompt_number": 32,
       "text": [
        "idx: 2350\tloss: 4.5582928657532\ttrain score: 5.9833333333333\tlabel: 37\tprediction: [1]28 [2]75 [3]81 [4]44 [5]68\t\n"
       ]
      },
      {
       "metadata": {},
       "output_type": "pyout",
       "prompt_number": 32,
       "text": [
        "idx: 2355\tloss: 4.5711979866028\ttrain score: 5.4366666666667\tlabel: 36\tprediction: [1]28 [2]81 [3]75 [4]44 [5]68\t\n"
       ]
      },
      {
       "metadata": {},
       "output_type": "pyout",
       "prompt_number": 32,
       "text": [
        "idx: 2360\tloss: 4.5646362304688\ttrain score: 5.6966666666667\t"
       ]
      },
      {
       "metadata": {},
       "output_type": "pyout",
       "prompt_number": 32,
       "text": [
        "label: 60\tprediction: [1]28 [2]75 [3]81 [4]44 [5]63\t\n"
       ]
      },
      {
       "metadata": {},
       "output_type": "pyout",
       "prompt_number": 32,
       "text": [
        "idx: 2365\tloss: 4.5534982681274\ttrain score: 5.575\tlabel: 23\tprediction: [1]28 [2]75 [3]81 [4]44 [5]68\t\n"
       ]
      },
      {
       "metadata": {},
       "output_type": "pyout",
       "prompt_number": 32,
       "text": [
        "idx: 2370\tloss: 4.5571355819702\ttrain score: 6.555\tlabel: 67\tprediction: [1]20 [2]50 [3]99 [4]96 [5]70\t\n"
       ]
      },
      {
       "metadata": {},
       "output_type": "pyout",
       "prompt_number": 32,
       "text": [
        "idx: 2375\tloss: 4.5553092956543\ttrain score: 5.6033333333333\tlabel: 70\tprediction: [1]20 [2]50 [3]99 [4]57 [5]2\t\n"
       ]
      },
      {
       "metadata": {},
       "output_type": "pyout",
       "prompt_number": 32,
       "text": [
        "idx: 2380\tloss: 4.5560841560364\ttrain score: 5.6116666666667\tlabel: 43\tprediction: [1]28 [2]81 [3]75 [4]44 [5]68\t\n"
       ]
      },
      {
       "metadata": {},
       "output_type": "pyout",
       "prompt_number": 32,
       "text": [
        "idx: 2385\tloss: 4.560923576355\ttrain score: 5.1016666666667\tlabel: 52\tprediction: [1]20 [2]2 [3]25 [4]50 [5]46\t\n"
       ]
      },
      {
       "metadata": {},
       "output_type": "pyout",
       "prompt_number": 32,
       "text": [
        "idx: 2390\tloss: 4.5562777519226\ttrain score: 6.52\tlabel: 17\tprediction: [1]75 [2]28 [3]81 [4]63 [5]79\t\n"
       ]
      },
      {
       "metadata": {},
       "output_type": "pyout",
       "prompt_number": 32,
       "text": [
        "idx: 2395\tloss: 4.5584878921509\ttrain score: 4.225\tlabel: 32\tprediction: [1]20 [2]50 [3]2 [4]25 [5]57\t\n"
       ]
      },
      {
       "metadata": {},
       "output_type": "pyout",
       "prompt_number": 32,
       "text": [
        "idx: 2400\tloss: 4.5643458366394\ttrain score: 6.2583333333333\tlabel: 30\tprediction: [1]75 [2]28 [3]81 [4]63 [5]79\t\n"
       ]
      },
      {
       "metadata": {},
       "output_type": "pyout",
       "prompt_number": 32,
       "text": [
        "idx: 2405\tloss: 4.552538394928\ttrain score: 5.5716666666667\tlabel: 14\tprediction: [1]20 [2]50 [3]2 [4]99 [5]57\t\n"
       ]
      },
      {
       "metadata": {},
       "output_type": "pyout",
       "prompt_number": 32,
       "text": [
        "idx: 2410\tloss: 4.5628223419189\ttrain score: 4.9\tlabel: 20\tprediction: [1]2 [2]25 [3]46 [4]89 [5]80\t\n"
       ]
      },
      {
       "metadata": {},
       "output_type": "pyout",
       "prompt_number": 32,
       "text": [
        "idx: 2415\tloss: 4.5646243095398\ttrain score: 6.1533333333333\tlabel: 42\tprediction: [1]20 [2]50 [3]99 [4]96 [5]57\t\n"
       ]
      },
      {
       "metadata": {},
       "output_type": "pyout",
       "prompt_number": 32,
       "text": [
        "idx: 2420\tloss: 4.5544114112854\ttrain score: 4.5183333333333\tlabel: 14\tprediction: [1]20 [2]2 [3]25 [4]50 [5]46\t\n"
       ]
      },
      {
       "metadata": {},
       "output_type": "pyout",
       "prompt_number": 32,
       "text": [
        "idx: 2425\tloss: 4.5618243217468\ttrain score: 5.625\tlabel: 1\tprediction: [1]2 [2]25 [3]46 [4]20 [5]80\t\n"
       ]
      },
      {
       "metadata": {},
       "output_type": "pyout",
       "prompt_number": 32,
       "text": [
        "idx: 2430\tloss: 4.5598568916321\ttrain score: 5.7316666666667\tlabel: 38\tprediction: [1]28 [2]81 [3]75 [4]44 [5]68\t\n"
       ]
      },
      {
       "metadata": {},
       "output_type": "pyout",
       "prompt_number": 32,
       "text": [
        "idx: 2435\tloss: 4.5489678382874\ttrain score: 6.0033333333333\tlabel: 44\tprediction: [1]75 [2]53 [3]27 [4]67 [5]88\t\n"
       ]
      },
      {
       "metadata": {},
       "output_type": "pyout",
       "prompt_number": 32,
       "text": [
        "idx: 2440\tloss: 4.5542435646057\t"
       ]
      },
      {
       "metadata": {},
       "output_type": "pyout",
       "prompt_number": 32,
       "text": [
        "train score: 6.6033333333333\tlabel: 51\tprediction: [1]20 [2]50 [3]99 [4]96 [5]70\t\n"
       ]
      },
      {
       "metadata": {},
       "output_type": "pyout",
       "prompt_number": 32,
       "text": [
        "idx: 2445\tloss: 4.5681891441345\ttrain score: 4\tlabel: 36\tprediction: [1]20 [2]99 [3]50 [4]57 [5]96\t\n"
       ]
      },
      {
       "metadata": {},
       "output_type": "pyout",
       "prompt_number": 32,
       "text": [
        "idx: 2450\tloss: 4.5608377456665\ttrain score: 7.055\tlabel: 58\tprediction: [1]28 [2]75 [3]81 [4]44 [5]68\t\n"
       ]
      },
      {
       "metadata": {},
       "output_type": "pyout",
       "prompt_number": 32,
       "text": [
        "idx: 2455\tloss: 4.5454831123352\ttrain score: 5.8066666666667\tlabel: 31\tprediction: [1]20 [2]50 [3]99 [4]96 [5]70\t\n"
       ]
      },
      {
       "metadata": {},
       "output_type": "pyout",
       "prompt_number": 32,
       "text": [
        "idx: 2460\tloss: 4.5605607032776\ttrain score: 5.3583333333333\tlabel: 24\tprediction: [1]28 [2]81 [3]75 [4]44 [5]68\t\n"
       ]
      },
      {
       "metadata": {},
       "output_type": "pyout",
       "prompt_number": 32,
       "text": [
        "idx: 2465\tloss: 4.5491442680359\ttrain score: 5.7583333333333\tlabel: 80\tprediction: [1]2 [2]20 [3]25 [4]46 [5]80\t\n"
       ]
      },
      {
       "metadata": {},
       "output_type": "pyout",
       "prompt_number": 32,
       "text": [
        "idx: 2470\tloss: 4.5536203384399\ttrain score: 6.9933333333333\tlabel: 14\tprediction: [1]20 [2]50 [3]99 [4]57 [5]96\t\n"
       ]
      },
      {
       "metadata": {},
       "output_type": "pyout",
       "prompt_number": 32,
       "text": [
        "idx: 2475\tloss: 4.5507235527039\ttrain score: 8.415\tlabel: 68\tprediction: [1]28 [2]81 [3]75 [4]44 [5]68\t\n"
       ]
      },
      {
       "metadata": {},
       "output_type": "pyout",
       "prompt_number": 32,
       "text": [
        "idx: 2480\tloss: 4.5512294769287\ttrain score: 5.9133333333333\tlabel: 17\tprediction: [1]28 [2]81 [3]75 [4]44 [5]68\t\n"
       ]
      },
      {
       "metadata": {},
       "output_type": "pyout",
       "prompt_number": 32,
       "text": [
        "idx: 2485\tloss: 4.5566825866699\ttrain score: 4.795\tlabel: 3\tprediction: [1]28 [2]75 [3]81 [4]44 [5]68\t\n"
       ]
      },
      {
       "metadata": {},
       "output_type": "pyout",
       "prompt_number": 32,
       "text": [
        "idx: 2490\tloss: 4.5572848320007\ttrain score: 4.5866666666667\tlabel: 53\tprediction: [1]20 [2]50 [3]99 [4]96 [5]57\t\n"
       ]
      },
      {
       "metadata": {},
       "output_type": "pyout",
       "prompt_number": 32,
       "text": [
        "idx: 2495\tloss: 4.5680356025696\ttrain score: 4.045\tlabel: 30\tprediction: [1]53 [2]88 [3]67 [4]66 [5]75\t\n"
       ]
      },
      {
       "metadata": {},
       "output_type": "pyout",
       "prompt_number": 32,
       "text": [
        "idx: 2500\tloss: 4.5505909919739\ttrain score: 5.3516666666667\tlabel: 74\tprediction: [1]75 [2]28 [3]81 [4]63 [5]79\t\n"
       ]
      },
      {
       "metadata": {},
       "output_type": "pyout",
       "prompt_number": 32,
       "text": [
        "idx: 2505\tloss: 4.5523071289062\ttrain score: 4.83\tlabel: 24\tprediction: [1]75 [2]28 [3]81 [4]79 [5]63\t\n"
       ]
      },
      {
       "metadata": {},
       "output_type": "pyout",
       "prompt_number": 32,
       "text": [
        "idx: 2510\tloss: 4.5541653633118\ttrain score: 6.24\t"
       ]
      },
      {
       "metadata": {},
       "output_type": "pyout",
       "prompt_number": 32,
       "text": [
        "label: 70\tprediction: [1]2 [2]25 [3]46 [4]20 [5]80\t\n"
       ]
      },
      {
       "metadata": {},
       "output_type": "pyout",
       "prompt_number": 32,
       "text": [
        "idx: 2515\tloss: 4.5598559379578\ttrain score: 4.9466666666667\tlabel: 81\tprediction: [1]75 [2]28 [3]81 [4]44 [5]63\t\n"
       ]
      },
      {
       "metadata": {},
       "output_type": "pyout",
       "prompt_number": 32,
       "text": [
        "idx: 2520\tloss: 4.5498270988464\ttrain score: 6.13\tlabel: 44\tprediction: [1]28 [2]81 [3]75 [4]44 [5]68\t\n"
       ]
      },
      {
       "metadata": {},
       "output_type": "pyout",
       "prompt_number": 32,
       "text": [
        "idx: 2525\tloss: 4.5559272766113\ttrain score: 4.6933333333333\tlabel: 36\tprediction: [1]75 [2]28 [3]81 [4]63 [5]79\t\n"
       ]
      },
      {
       "metadata": {},
       "output_type": "pyout",
       "prompt_number": 32,
       "text": [
        "idx: 2530\tloss: 4.5593476295471\ttrain score: 5.4016666666667\tlabel: 57\tprediction: [1]2 [2]25 [3]46 [4]20 [5]80\t\n"
       ]
      },
      {
       "metadata": {},
       "output_type": "pyout",
       "prompt_number": 32,
       "text": [
        "idx: 2535\tloss: 4.5588884353638\ttrain score: 5.5766666666667\tlabel: 77\tprediction: [1]75 [2]28 [3]81 [4]53 [5]79\t\n"
       ]
      },
      {
       "metadata": {},
       "output_type": "pyout",
       "prompt_number": 32,
       "text": [
        "idx: 2540\tloss: 4.5555963516235\ttrain score: 6.7216666666667\tlabel: 69\tprediction: [1]2 [2]25 [3]46 [4]20 [5]80\t\n"
       ]
      },
      {
       "metadata": {},
       "output_type": "pyout",
       "prompt_number": 32,
       "text": [
        "idx: 2545\tloss: 4.555953502655\ttrain score: 5.53\tlabel: 57\tprediction: [1]2 [2]25 [3]46 [4]20 [5]80\t\n"
       ]
      },
      {
       "metadata": {},
       "output_type": "pyout",
       "prompt_number": 32,
       "text": [
        "idx: 2550\tloss: 4.5721340179443\ttrain score: 5.045\tlabel: 19\tprediction: [1]20 [2]50 [3]2 [4]25 [5]57\t\n"
       ]
      },
      {
       "metadata": {},
       "output_type": "pyout",
       "prompt_number": 32,
       "text": [
        "idx: 2555\tloss: 4.5626788139343\ttrain score: 4.675\tlabel: 15\tprediction: [1]28 [2]81 [3]75 [4]44 [5]68\t\n"
       ]
      },
      {
       "metadata": {},
       "output_type": "pyout",
       "prompt_number": 32,
       "text": [
        "idx: 2560\tloss: 4.5505084991455\ttrain score: 6.855\tlabel: 8\tprediction: [1]20 [2]50 [3]2 [4]25 [5]80\t\n"
       ]
      }
     ]
    }
   ],
   "metadata": {}
  }
 ]
}