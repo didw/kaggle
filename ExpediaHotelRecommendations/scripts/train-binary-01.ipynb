{
 "metadata": {
  "language": "lua",
  "name": "",
  "signature": "sha256:b6dec201fce3851328d2c80783961ff4b1c177d1bbfad172fdc6ce10e0775e97"
 },
 "nbformat": 3,
 "nbformat_minor": 0,
 "worksheets": [
  {
   "cells": [
    {
     "cell_type": "code",
     "collapsed": false,
     "input": [
      "require 'torch';\n",
      "require 'nn';\n",
      "require 'cutorch';\n",
      "require 'cunn';\n",
      "require 'cudnn';"
     ],
     "language": "python",
     "metadata": {},
     "outputs": [],
     "prompt_number": 1
    },
    {
     "cell_type": "markdown",
     "metadata": {},
     "source": [
      "### Split data"
     ]
    },
    {
     "cell_type": "code",
     "collapsed": false,
     "input": [
      "function split(str, pat)\n",
      "   local t = {}  -- NOTE: use {n = 0} in Lua-5.0\n",
      "   local fpat = \"(.-)\" .. pat\n",
      "   local last_end = 1\n",
      "   local s, e, cap = str:find(fpat, 1)\n",
      "   while s do\n",
      "      if s ~= 1 or cap ~= \"\" then\n",
      "         table.insert(t,cap)\n",
      "      end\n",
      "      last_end = e+1\n",
      "      s, e, cap = str:find(fpat, last_end)\n",
      "   end\n",
      "   if last_end <= #str then\n",
      "      cap = str:sub(last_end)\n",
      "      table.insert(t, cap)\n",
      "   end\n",
      "   return t\n",
      "end"
     ],
     "language": "python",
     "metadata": {},
     "outputs": [],
     "prompt_number": 2
    },
    {
     "cell_type": "markdown",
     "metadata": {},
     "source": [
      "## Conver Data"
     ]
    },
    {
     "cell_type": "markdown",
     "metadata": {},
     "source": [
      "### 1. To get week number"
     ]
    },
    {
     "cell_type": "code",
     "collapsed": false,
     "input": [
      "function getYearBeginDayOfWeek(tm)\n",
      "  yearBegin = os.time{year=os.date(\"*t\",tm).year,month=1,day=1}\n",
      "  yearBeginDayOfWeek = tonumber(os.date(\"%w\",yearBegin))\n",
      "  -- sunday correct from 0 -> 7\n",
      "  if(yearBeginDayOfWeek == 0) then yearBeginDayOfWeek = 7 end\n",
      "  return yearBeginDayOfWeek\n",
      "end\n",
      "function getDayAdd(tm)\n",
      "  yearBeginDayOfWeek = getYearBeginDayOfWeek(tm)\n",
      "  if(yearBeginDayOfWeek < 5 ) then\n",
      "    -- first day is week 1\n",
      "    dayAdd = (yearBeginDayOfWeek - 2)\n",
      "  else \n",
      "    -- first day is week 52 or 53\n",
      "    dayAdd = (yearBeginDayOfWeek - 9)\n",
      "  end  \n",
      "  return dayAdd\n",
      "end\n",
      "function getWeekNumberOfYear(tm)\n",
      "  dayOfYear = os.date(\"%j\",tm)\n",
      "  dayAdd = getDayAdd(tm)\n",
      "  dayOfYearCorrected = dayOfYear + dayAdd\n",
      "  if(dayOfYearCorrected < 0) then\n",
      "    -- week of last year - decide if 52 or 53\n",
      "    lastYearBegin = os.time{year=os.date(\"*t\",tm).year-1,month=1,day=1}\n",
      "    lastYearEnd = os.time{year=os.date(\"*t\",tm).year-1,month=12,day=31}\n",
      "    dayAdd = getDayAdd(lastYearBegin)\n",
      "    dayOfYear = dayOfYear + os.date(\"%j\",lastYearEnd)\n",
      "    dayOfYearCorrected = dayOfYear + dayAdd\n",
      "  end  \n",
      "  weekNum = math.floor((dayOfYearCorrected) / 7) + 1\n",
      "  if( (dayOfYearCorrected > 0) and weekNum == 53) then\n",
      "    -- check if it is not considered as part of week 1 of next year\n",
      "    nextYearBegin = os.time{year=os.date(\"*t\",tm).year+1,month=1,day=1}\n",
      "    yearBeginDayOfWeek = getYearBeginDayOfWeek(nextYearBegin)\n",
      "    if(yearBeginDayOfWeek < 5 ) then\n",
      "      weekNum = 1\n",
      "    end  \n",
      "  end  \n",
      "  return weekNum\n",
      "end"
     ],
     "language": "python",
     "metadata": {},
     "outputs": [],
     "prompt_number": 3
    },
    {
     "cell_type": "code",
     "collapsed": false,
     "input": [
      "function __getWeekday(tm)\n",
      "    return os.date(\"*t\",tm).wday\n",
      "end"
     ],
     "language": "python",
     "metadata": {},
     "outputs": [],
     "prompt_number": 4
    },
    {
     "cell_type": "code",
     "collapsed": false,
     "input": [
      "function getWeekday(input)\n",
      "    dates = split(input, \"-\")\n",
      "    if table.getn(dates) ~= 3 then\n",
      "        return -1\n",
      "    end\n",
      "    useDate = os.time{year=dates[1],month=dates[2],day=dates[3]}\n",
      "    return __getWeekday(useDate)\n",
      "end"
     ],
     "language": "python",
     "metadata": {},
     "outputs": [],
     "prompt_number": 5
    },
    {
     "cell_type": "code",
     "collapsed": false,
     "input": [
      "function getLengthStay(checkin, checkout)\n",
      "    local dIn= split(checkin, \"-\")\n",
      "    local dOut= split(checkout, \"-\")\n",
      "    if table.getn(dIn) ~= 3 or table.getn(dOut) ~= 3 then\n",
      "        return -1\n",
      "    end\n",
      "    local useDateIn = os.time{year=dIn[1],month=dIn[2],day=dIn[3]}\n",
      "    local useDateOut = os.time{year=dOut[1],month=dOut[2],day=dOut[3]}\n",
      "    local days = (useDateOut - useDateIn)/(24*60*60)\n",
      "    if days > 30 then\n",
      "        days = 30\n",
      "    end\n",
      "    return days\n",
      "end"
     ],
     "language": "python",
     "metadata": {},
     "outputs": [],
     "prompt_number": 6
    },
    {
     "cell_type": "code",
     "collapsed": false,
     "input": [
      "function isIncludeWeekend(checkin, checkout)\n",
      "    local dIn= split(checkin, \"-\")\n",
      "    local dOut= split(checkout, \"-\")\n",
      "    if table.getn(dIn) ~= 3 or table.getn(dOut) ~= 3 then\n",
      "        return -1\n",
      "    end\n",
      "    if getLengthStay(checkin, checkout) > 7 then\n",
      "        return 1\n",
      "    end\n",
      "    local useDateIn = os.time{year=dIn[1],month=dIn[2],day=dIn[3]}\n",
      "    local useDateOut = os.time{year=dOut[1],month=dOut[2],day=dOut[3]}\n",
      "    date = useDateIn\n",
      "    while date < useDateOut do\n",
      "        if __getWeekday(date) == 6 or __getWeekday(date) == 7 then return 1 end\n",
      "        date = date + 24 * 60 * 60\n",
      "    end\n",
      "    return 0\n",
      "end"
     ],
     "language": "python",
     "metadata": {},
     "outputs": [],
     "prompt_number": 7
    },
    {
     "cell_type": "code",
     "collapsed": false,
     "input": [
      "print(isIncludeWeekend(\"2016-05-20\", \"2016-05-21\"))"
     ],
     "language": "python",
     "metadata": {},
     "outputs": [],
     "prompt_number": 8
    },
    {
     "cell_type": "code",
     "collapsed": false,
     "input": [
      "function getDate(input)\n",
      "    dates = split(input, \"-\")\n",
      "    if table.getn(dates) ~= 3 then\n",
      "        return -1\n",
      "    end\n",
      "    useDate = os.time{year=dates[1],month=dates[2],day=dates[3]}\n",
      "    weekNum = getWeekNumberOfYear(useDate)\n",
      "    return weekNum\n",
      "end"
     ],
     "language": "python",
     "metadata": {},
     "outputs": [],
     "prompt_number": 9
    },
    {
     "cell_type": "markdown",
     "metadata": {},
     "source": [
      "### 2. onehot"
     ]
    },
    {
     "cell_type": "code",
     "collapsed": false,
     "input": [
      "function onehot(tab, value, len)\n",
      "    if value == nil then\n",
      "        value = 0\n",
      "    end\n",
      "    for i=1,len do\n",
      "        if i==tonumber(value) then\n",
      "            table.insert(tab, 1)\n",
      "        else\n",
      "            table.insert(tab, 0)\n",
      "        end\n",
      "    end\n",
      "end"
     ],
     "language": "python",
     "metadata": {},
     "outputs": [
      {
       "metadata": {},
       "output_type": "pyout",
       "prompt_number": 10,
       "text": [
        "1\t\n"
       ]
      }
     ],
     "prompt_number": 10
    },
    {
     "cell_type": "code",
     "collapsed": false,
     "input": [
      "function onehot_range(data, value, len, step)\n",
      "    if value == nil then\n",
      "        value = 0\n",
      "    end\n",
      "    for i=1,len do\n",
      "        if tonumber(value) > i*tonumber(step) then\n",
      "            table.insert(data, 0)\n",
      "        else\n",
      "            table.insert(data, 1)\n",
      "            value = len * (step + 1)\n",
      "        end\n",
      "    end\n",
      "end"
     ],
     "language": "python",
     "metadata": {},
     "outputs": [],
     "prompt_number": 11
    },
    {
     "cell_type": "markdown",
     "metadata": {},
     "source": [
      "### 3. binary"
     ]
    },
    {
     "cell_type": "code",
     "collapsed": false,
     "input": [
      "function binary(data, value, len)\n",
      "    while len > 0 do\n",
      "        if value % 2 == 1 then\n",
      "            table.insert(data, 1)\n",
      "        else\n",
      "            table.insert(data, 0)\n",
      "        end\n",
      "        value = value / 2\n",
      "        len = (len / 2) - (len / 2)%1\n",
      "    end\n",
      "end"
     ],
     "language": "python",
     "metadata": {},
     "outputs": [],
     "prompt_number": 12
    },
    {
     "cell_type": "markdown",
     "metadata": {},
     "source": [
      "### 4. dest info"
     ]
    },
    {
     "cell_type": "code",
     "collapsed": false,
     "input": [
      "fileName = 'data/destinations.csv'\n",
      "\n",
      "info_sum = {}\n",
      "info_mean = {}\n",
      "info_std = {}\n",
      "N = 1\n",
      "head = 1\n",
      "for i=1,149 do table.insert(info_sum, 0) end\n",
      "for line in io.lines ( fileName ) do \n",
      "    if head == 1 then\n",
      "        head = 0\n",
      "    else\n",
      "        destdata = split(line, ',')\n",
      "        for j=1,149 do\n",
      "            info_sum[j] = info_sum[j] + tonumber(destdata[j+1])\n",
      "        end\n",
      "        N = N + 1\n",
      "    end\n",
      "end\n",
      "\n",
      "for i=1,149 do info_mean[i] = info_sum[i] / N end\n",
      "\n",
      "info_sum = {}\n",
      "N = 1\n",
      "head = 1\n",
      "for i=1,149 do table.insert(info_sum, 0) end\n",
      "for line in io.lines ( fileName ) do \n",
      "    if head == 1 then\n",
      "        head = 0\n",
      "    else\n",
      "        destdata = split(line, ',')\n",
      "        for j=1,149 do\n",
      "            info_sum[j] = info_sum[j] + (tonumber(destdata[j+1]) - info_mean[j]) * (tonumber(destdata[j+1]) - info_mean[j])\n",
      "        end\n",
      "        N = N + 1\n",
      "    end\n",
      "end\n",
      "\n",
      "for i=1,149 do info_std[i] = math.sqrt(info_sum[i] / N) end"
     ],
     "language": "python",
     "metadata": {},
     "outputs": [],
     "prompt_number": 13
    },
    {
     "cell_type": "code",
     "collapsed": false,
     "input": [
      "destInfo = {}\n",
      "i = 0\n",
      "head = 1\n",
      "nEmpty = 0\n",
      "empty_row = {}\n",
      "for j=1,149 do\n",
      "    table.insert(empty_row, 0)\n",
      "end\n",
      "for line in io.lines ( fileName ) do \n",
      "    if head == 1 then\n",
      "        head = 0\n",
      "    else\n",
      "        destdata = split(line, ',')\n",
      "        while tonumber(destdata[1]) ~= i do\n",
      "            --print('Empty line => destdata[1]: ' .. destdata[1], 'i: ' .. i)\n",
      "            table.insert(destInfo, empty_row)\n",
      "            i = i + 1\n",
      "            nEmpty = nEmpty + 1\n",
      "        end\n",
      "        row = {}\n",
      "        for j=1,149 do\n",
      "            table.insert(row, (destdata[j+1] - info_mean[j]) / info_std[j])\n",
      "        end\n",
      "        table.insert(destInfo, row)\n",
      "        if tonumber(destdata[1]) ~= i then\n",
      "            --print('Not Matched => destdata[1]: ' .. destdata[1], 'i: ' .. i)\n",
      "        end\n",
      "        i = i + 1\n",
      "    end\n",
      "end\n",
      "\n",
      "for i=1,1000 do table.insert(destInfo, empty_row) end\n",
      "print('nEmpty:' .. nEmpty)"
     ],
     "language": "python",
     "metadata": {},
     "outputs": [
      {
       "metadata": {},
       "output_type": "pyout",
       "prompt_number": 14,
       "text": [
        "nEmpty:2888\t\n"
       ]
      }
     ],
     "prompt_number": 14
    },
    {
     "cell_type": "code",
     "collapsed": false,
     "input": [
      "function addDestinationInfo(data, value)\n",
      "    for i=1,149 do\n",
      "        table.insert(data, destInfo[value][i])\n",
      "    end\n",
      "end"
     ],
     "language": "python",
     "metadata": {},
     "outputs": [],
     "prompt_number": 15
    },
    {
     "cell_type": "markdown",
     "metadata": {},
     "source": [
      "### Data normalize"
     ]
    },
    {
     "cell_type": "code",
     "collapsed": false,
     "input": [
      "distMean = 0\n",
      "distsum = 0\n",
      "data = loadData(1000)\n",
      "N = 0\n",
      "for i=1,1000 do \n",
      "    if data[i][4] ~= 0 then \n",
      "        N = N + 1; distsum = distsum + data[i][4] \n",
      "    end \n",
      "end\n",
      "distMean = distsum / N\n",
      "print(distsum)\n",
      "print(distMean)\n",
      "distsum = 0\n",
      "for i=1,1000 do \n",
      "    if data[i][4] ~= 0 then \n",
      "        N = N + 1; distsum = distsum + (data[i][4] -distMean)*(data[i][4] -distMean)\n",
      "    end \n",
      "end\n",
      "print(math.sqrt(distsum / N))"
     ],
     "language": "python",
     "metadata": {},
     "outputs": [
      {
       "ename": "[string \"distMean = 0...\"]:3: attempt to call global 'loadData' (a nil value)\nstack traceback:\n\t[string \"distMean = 0...\"]:3: in main chunk\n\t[C]: in function 'xpcall'\n\t/root/torch/install/share/lua/5.1/itorch/main.lua:179: in function </root/torch/install/share/lua/5.1/itorch/main.lua:143>\n\t/root/torch/install/share/lua/5.1/lzmq/poller.lua:75: in function 'poll'\n\t/root/torch/install/share/lua/5.1/lzmq/impl/loop.lua:307: in function 'poll'\n\t/root/torch/install/share/lua/5.1/lzmq/impl/loop.lua:325: in function 'sleep_ex'\n\t/root/torch/install/share/lua/5.1/lzmq/impl/loop.lua:370: in function 'start'\n\t/root/torch/install/share/lua/5.1/itorch/main.lua:350: in main chunk\n\t[C]: in function 'require'\n\t(command line):1: in main chunk\n\t[C]: at 0x00406670",
       "evalue": "",
       "output_type": "pyerr",
       "traceback": [
        "[string \"distMean = 0...\"]:3: attempt to call global 'loadData' (a nil value)\nstack traceback:\n\t[string \"distMean = 0...\"]:3: in main chunk\n\t[C]: in function 'xpcall'\n\t/root/torch/install/share/lua/5.1/itorch/main.lua:179: in function </root/torch/install/share/lua/5.1/itorch/main.lua:143>\n\t/root/torch/install/share/lua/5.1/lzmq/poller.lua:75: in function 'poll'\n\t/root/torch/install/share/lua/5.1/lzmq/impl/loop.lua:307: in function 'poll'\n\t/root/torch/install/share/lua/5.1/lzmq/impl/loop.lua:325: in function 'sleep_ex'\n\t/root/torch/install/share/lua/5.1/lzmq/impl/loop.lua:370: in function 'start'\n\t/root/torch/install/share/lua/5.1/itorch/main.lua:350: in main chunk\n\t[C]: in function 'require'\n\t(command line):1: in main chunk\n\t[C]: at 0x00406670"
       ]
      }
     ],
     "prompt_number": 16
    },
    {
     "cell_type": "markdown",
     "metadata": {},
     "source": [
      "### Convert input to data"
     ]
    },
    {
     "cell_type": "code",
     "collapsed": false,
     "input": [
      "function tableToOutput(dataTable, scalarTable)\n",
      "   local data, scalarLabels, labels\n",
      "   local quantity = #scalarTable\n",
      "   local size = #dataTable[1]\n",
      "   data = torch.Tensor(quantity, size)\n",
      "   scalarLabels = torch.LongTensor(quantity):fill(-1111)\n",
      "   for i=1,#dataTable do\n",
      "      for j=1,#dataTable[1] do\n",
      "         data[i][j] = dataTable[i][j]\n",
      "      end\n",
      "      scalarLabels[i] = scalarTable[i]\n",
      "   end\n",
      "   return data, scalarLabels\n",
      "end"
     ],
     "language": "python",
     "metadata": {},
     "outputs": [],
     "prompt_number": 17
    },
    {
     "cell_type": "code",
     "collapsed": false,
     "input": [
      "function dataConvert(line)\n",
      "    if line == nil then\n",
      "        print('line is empty')\n",
      "    end\n",
      "    words = split(line, \",\")\n",
      "    data = {}\n",
      "    aa = split(words[1], ' ')[1]\n",
      "    table.insert(data, (tonumber(getDate(aa)) - 26) / 26) --1\n",
      "    table.insert(data, (getDate(words[12]) - 26) / 26) --12\n",
      "    table.insert(data, (getDate(words[13]) - 26) / 26) --13\n",
      "    \n",
      "    binary(data, getWeekday(aa), 7)\n",
      "    table.insert(data, isIncludeWeekend(words[12], words[13]))\n",
      "    binary(data, getLengthStay(words[12], words[13]), 30)\n",
      "    \n",
      "    if tonumber(words[7]) == nil then\n",
      "        table.insert(data, 0) -- distance\n",
      "    else\n",
      "        table.insert(data, (tonumber(words[7]) - 1800) / 1600) -- distance\n",
      "    end\n",
      "    table.insert(data, words[9])\n",
      "    table.insert(data, words[10])\n",
      "    table.insert(data, words[20])\n",
      "        \n",
      "    binary(data, words[2], 54)\n",
      "    binary(data, words[3], 5)\n",
      "    binary(data, words[4], 240)\n",
      "    binary(data, words[5], 1028)\n",
      "    binary(data, words[6], 56509)\n",
      "    binary(data, words[11], 11)\n",
      "    binary(data, words[14], 10)\n",
      "    binary(data, words[15], 10)\n",
      "    binary(data, words[16], 9)\n",
      "    binary(data, words[18], 10)\n",
      "    binary(data, words[21], 7)\n",
      "    binary(data, words[22], 213)\n",
      "    binary(data, words[23], 2118)\n",
      "    \n",
      "    -- destination information (17)\n",
      "    addDestinationInfo(data, tonumber(words[17]))\n",
      "    \n",
      "    return data\n",
      "end"
     ],
     "language": "python",
     "metadata": {},
     "outputs": [],
     "prompt_number": 18
    },
    {
     "cell_type": "code",
     "collapsed": false,
     "input": [
      "function testdataConvert(line)\n",
      "    if line == nil then\n",
      "        print('line is empty')\n",
      "    end\n",
      "    words = split(line, \",\")\n",
      "    data = {}\n",
      "    aa = split(words[2], ' ')[1]\n",
      "    table.insert(data, (tonumber(getDate(aa)) - 26) / 26) --1\n",
      "    table.insert(data, (getDate(words[13]) - 26) / 26) --12\n",
      "    table.insert(data, (getDate(words[14]) - 26) / 26) --13\n",
      "    \n",
      "    binary(data, getWeekday(aa), 7)\n",
      "    table.insert(data, isIncludeWeekend(words[13], words[14]))\n",
      "    binary(data, getLengthStay(words[13], words[14]), 30)\n",
      "    \n",
      "    if tonumber(words[8]) == nil then\n",
      "        table.insert(data, 0) -- distance\n",
      "    else\n",
      "        table.insert(data, (tonumber(words[8]) - 1800) / 1600) -- distance\n",
      "    end\n",
      "    table.insert(data, words[10])\n",
      "    table.insert(data, words[11])\n",
      "    table.insert(data, 1)\n",
      "        \n",
      "    binary(data, words[3], 54)\n",
      "    binary(data, words[4], 5)\n",
      "    binary(data, words[5], 240)\n",
      "    binary(data, words[6], 1028)\n",
      "    binary(data, words[7], 56509)\n",
      "    binary(data, words[12], 11)\n",
      "    binary(data, words[15], 10)\n",
      "    binary(data, words[16], 10)\n",
      "    binary(data, words[17], 9)\n",
      "    binary(data, words[19], 10)\n",
      "    binary(data, words[20], 7)\n",
      "    binary(data, words[21], 213)\n",
      "    binary(data, words[22], 2118)\n",
      "    \n",
      "    -- destination information (17)\n",
      "    addDestinationInfo(data, tonumber(words[18]))\n",
      "    \n",
      "    return data\n",
      "end"
     ],
     "language": "python",
     "metadata": {},
     "outputs": [],
     "prompt_number": 19
    },
    {
     "cell_type": "markdown",
     "metadata": {},
     "source": [
      "### Build model"
     ]
    },
    {
     "cell_type": "code",
     "collapsed": false,
     "input": [
      "model = nn.Sequential()\n",
      "-- for onehot inputsize: 3871\n",
      "model:add(nn.Linear(252, 1024))\n",
      "model:add(nn.Threshold(0, 1e-6))\n",
      "model:add(nn.ReLU())\n",
      "model:add(nn.Linear(1024, 256))\n",
      "model:add(nn.Threshold(0, 1e-6))\n",
      "model:add(nn.ReLU())\n",
      "model:add(nn.Linear(256, 100))\n",
      "model:add(nn.Sigmoid())\n",
      "model = model:cuda()\n",
      "\n",
      "params, grad_params = model:getParameters()\n",
      "crit = nn.CrossEntropyCriterion()\n",
      "crit = crit:cuda()"
     ],
     "language": "python",
     "metadata": {},
     "outputs": [],
     "prompt_number": 33
    },
    {
     "cell_type": "markdown",
     "metadata": {},
     "source": [
      "model = nn.Sequential()\n",
      "-- for onehot inputsize: 3871\n",
      "model:add(nn.Linear(252, 1024))\n",
      "model:add(nn.Sigmoid())\n",
      "model:add(nn.Linear(1024, 2048))\n",
      "model:add(nn.Sigmoid())\n",
      "model:add(nn.Linear(2048, 4096))\n",
      "model:add(nn.Sigmoid())\n",
      "model:add(nn.Linear(4096, 100))\n",
      "model = model:cuda()\n",
      "\n",
      "params, grad_params = model:getParameters()\n",
      "crit = nn.CrossEntropyCriterion()\n",
      "crit = crit:cuda()"
     ]
    },
    {
     "cell_type": "markdown",
     "metadata": {},
     "source": [
      "### Load Data"
     ]
    },
    {
     "cell_type": "code",
     "collapsed": false,
     "input": [
      "function loadData(quantity)\n",
      "    dataTable = {}\n",
      "    labTable = {}\n",
      "    for i=1,quantity do\n",
      "        local class = torch.random(0,99)\n",
      "        local fname = 'data/train/train_' .. string.format( \"%02d\", class ) .. '.csv'\n",
      "        file = io.open(fname, \"r\")\n",
      "        picked = torch.random(1,file:seek(\"end\")-200)\n",
      "        file:seek(\"set\", picked)\n",
      "        file:read()\n",
      "        table.insert(dataTable, dataConvert(file:read()))\n",
      "        table.insert(labTable, class+1)\n",
      "        io.close(file)\n",
      "    end\n",
      "    local data, label = tableToOutput(dataTable, labTable)\n",
      "    return data, label\n",
      "end"
     ],
     "language": "python",
     "metadata": {},
     "outputs": [],
     "prompt_number": 21
    },
    {
     "cell_type": "markdown",
     "metadata": {},
     "source": [
      "### Print"
     ]
    },
    {
     "cell_type": "code",
     "collapsed": false,
     "input": [
      "function PrintCM(idx)\n",
      "  local loss = 0\n",
      "  local top1 = 0\n",
      "  model:evaluate()\n",
      "  local x, y = loadData(1000)\n",
      "  x = x:cuda()\n",
      "  y = y:cuda()\n",
      "  local N = y:size(1)\n",
      "  local scores = model:forward(x)\n",
      "  loss = loss + crit:forward(scores, y)\n",
      "\n",
      "  local pred = scores:float()\n",
      "  local _, pred_sorted = pred:sort(2, true)\n",
      "\n",
      "  for i=1,N do\n",
      "    for j=1,5 do\n",
      "        if pred_sorted[i][j] == y[i] then\n",
      "          top1 = top1 + (1/j)\n",
      "        end\n",
      "    end\n",
      "  end\n",
      "  print(\"idx: \" .. idx, \"loss: \" .. loss, \"train score: \" .. top1 * 100 / N, 'label: ' .. y[1],\n",
      "        'prediction: [1]' .. pred_sorted[1][1] .. ' [2]' .. pred_sorted[1][2] .. ' [3]' .. pred_sorted[1][3] .. ' [4]' .. pred_sorted[1][4] .. ' [5]' .. pred_sorted[1][5])\n",
      "end"
     ],
     "language": "python",
     "metadata": {},
     "outputs": [],
     "prompt_number": 22
    },
    {
     "cell_type": "markdown",
     "metadata": {},
     "source": [
      "### Check Size"
     ]
    },
    {
     "cell_type": "code",
     "collapsed": false,
     "input": [
      "local x,y = loadData(2)\n",
      "print(x:size())"
     ],
     "language": "python",
     "metadata": {},
     "outputs": [
      {
       "metadata": {},
       "output_type": "pyout",
       "prompt_number": 23,
       "text": [
        "   2\n",
        " 252\n",
        "[torch.LongStorage of size 2]\n",
        "\n"
       ]
      }
     ],
     "prompt_number": 23
    },
    {
     "cell_type": "markdown",
     "metadata": {},
     "source": [
      "### Training"
     ]
    },
    {
     "cell_type": "code",
     "collapsed": false,
     "input": [
      "require 'optim';"
     ],
     "language": "python",
     "metadata": {},
     "outputs": [],
     "prompt_number": 24
    },
    {
     "cell_type": "code",
     "collapsed": false,
     "input": [
      "opt = {}\n",
      "batch_size = 10000\n",
      "train_size = 3000000\n",
      "max_epoch = 100\n",
      "opt.learningRate = 1e-2\n",
      "opt.lr_decay_factor = 0.5\n",
      "opt.lr_decay_every = 5 * train_size / batch_size\n",
      "opt.print_every = 5\n",
      "evaluate_every = 10 * train_size / batch_size\n",
      "optim_config = {learningRate = opt.learningRate}\n",
      "num_iterations = max_epoch * train_size / batch_size\n",
      "epoch = 1"
     ],
     "language": "python",
     "metadata": {},
     "outputs": [],
     "prompt_number": 25
    },
    {
     "cell_type": "code",
     "collapsed": false,
     "input": [
      "opt.learningRate = 1e-2\n",
      "opt.print_every = 5\n",
      "num_iterations = 300"
     ],
     "language": "python",
     "metadata": {},
     "outputs": [],
     "prompt_number": 32
    },
    {
     "cell_type": "code",
     "collapsed": false,
     "input": [
      "-- Loss function that we pass to an optim method\n",
      "function f(w)\n",
      "  assert(w == params)\n",
      "  grad_params:zero()\n",
      "\n",
      "  --local x, y = loader:nextBatch('train')\n",
      "  local x, y = loadData(batch_size)\n",
      "  \n",
      "  x = x:cuda()\n",
      "  y = y:cuda()\n",
      "  local scores = model:forward(x)\n",
      "  local loss = crit:forward(scores, y)\n",
      "  local grad_scores = crit:backward(scores, y)\n",
      "  model:backward(x, grad_scores)\n",
      "\n",
      "  grad_params:clamp(-5, 5)\n",
      "\n",
      "  return loss, grad_params\n",
      "end"
     ],
     "language": "python",
     "metadata": {},
     "outputs": [],
     "prompt_number": 27
    },
    {
     "cell_type": "code",
     "collapsed": false,
     "input": [
      "model:training()"
     ],
     "language": "python",
     "metadata": {},
     "outputs": [
      {
       "metadata": {},
       "output_type": "pyout",
       "prompt_number": 28,
       "text": [
        "\n"
       ]
      }
     ],
     "prompt_number": 28
    },
    {
     "cell_type": "code",
     "collapsed": false,
     "input": [
      "function saveModel(e)\n",
      "    local filename = string.format(\"model/model_%02d.t7\", e)\n",
      "    model:clearState()\n",
      "    model:float()\n",
      "    torch.save(filename, model)\n",
      "    model:cuda()\n",
      "end"
     ],
     "language": "python",
     "metadata": {},
     "outputs": [],
     "prompt_number": 29
    },
    {
     "cell_type": "code",
     "collapsed": false,
     "input": [
      "function make_submission(idx)\n",
      "    model:evaluate()\n",
      "    testname = 'data/test.csv'\n",
      "    submission_name = string.format(\"data/submission_%02d.csv\", idx)\n",
      "    submission_file = io.open(submission_name, 'w')\n",
      "    head = 1\n",
      "    idx = 0\n",
      "    submission_file:write(\"id,hotel_cluster\\n\")\n",
      "    for line in io.lines ( testname ) do\n",
      "        if head == 1 then\n",
      "            head = 0\n",
      "        else\n",
      "            testdata = testdataConvert(line)\n",
      "            words = split(line, ',')\n",
      "            if tonumber(words[1]) ~= idx then\n",
      "                print('words:' .. words[1] .. ', idx:' .. idx)            \n",
      "                idx = words[1]\n",
      "            end\n",
      "            tx, _ = tableToOutput({testdata}, {1})\n",
      "            local outputs = model:forward(tx:cuda())\n",
      "            local _, ps = outputs:float():sort(2, true)\n",
      "            submission_file:write(idx .. ',' .. ps[1][1]-1 .. ' ' .. ps[1][2]-1 .. ' ' .. ps[1][3]-1 .. ' ' .. ps[1][4]-1 .. ' ' .. ps[1][5]-1 .. '\\n')\n",
      "            idx = idx + 1\n",
      "        end\n",
      "    end\n",
      "    io.close(submission_file)\n",
      "end"
     ],
     "language": "python",
     "metadata": {},
     "outputs": [],
     "prompt_number": 30
    },
    {
     "cell_type": "code",
     "collapsed": false,
     "input": [
      "for i = 0, num_iterations do\n",
      "    if i ~= 0 and i % opt.lr_decay_every == 0 then\n",
      "        old_lr = opt.learningRate\n",
      "        opt.learningRate = opt.learningRate * opt.lr_decay_factor\n",
      "        optim_config = {learningRate = old_lr * opt.lr_decay_factor}\n",
      "        saveModel(epoch)\n",
      "        epoch = epoch + 1\n",
      "        print('current LR: ' .. opt.learningRate)\n",
      "    end\n",
      "    \n",
      "    local _, loss = optim.adam(f, params, optim_config)\n",
      "    if i % opt.print_every == 0 then\n",
      "        model:evaluate()\n",
      "        PrintCM(i)\n",
      "        model:training()\n",
      "    end\n",
      "    \n",
      "    if i ~= 0 and i % evaluate_every == 0 then\n",
      "        make_submission(i)\n",
      "    end\n",
      "end"
     ],
     "language": "python",
     "metadata": {},
     "outputs": [
      {
       "metadata": {},
       "output_type": "pyout",
       "prompt_number": 34,
       "text": [
        "idx: 0\tloss: 4.5758833885193\ttrain score: 5.9716666666667\tlabel: 24\tprediction: [1]57 [2]89 [3]97 [4]24 [5]72\t\n"
       ]
      },
      {
       "metadata": {},
       "output_type": "pyout",
       "prompt_number": 34,
       "text": [
        "idx: 5\tloss: 4.4228014945984\ttrain score: 8.5366666666667\tlabel: 61\tprediction: [1]86 [2]28 [3]83 [4]82 [5]54\t\n"
       ]
      },
      {
       "metadata": {},
       "output_type": "pyout",
       "prompt_number": 34,
       "text": [
        "idx: 10\tloss: 4.3294916152954\ttrain score: 8.895\tlabel: 88\tprediction: [1]53 [2]88 [3]66 [4]67 [5]27\t\n"
       ]
      },
      {
       "metadata": {},
       "output_type": "pyout",
       "prompt_number": 34,
       "text": [
        "idx: 15\tloss: 4.2790126800537\ttrain score: 9.9633333333333\tlabel: 28\tprediction: [1]92 [2]29 [3]43 [4]41 [5]40\t\n"
       ]
      },
      {
       "metadata": {},
       "output_type": "pyout",
       "prompt_number": 34,
       "text": [
        "idx: 20\tloss: 4.2877287864685\ttrain score: 8.8166666666667\tlabel: 38\tprediction: [1]18 [2]14 [3]56 [4]34 [5]91\t\n"
       ]
      },
      {
       "metadata": {},
       "output_type": "pyout",
       "prompt_number": 34,
       "text": [
        "idx: 25\tloss: 4.2535643577576\ttrain score: 9.9933333333333\tlabel: 48\tprediction: [1]42 [2]34 [3]22 [4]50 [5]99\t\n"
       ]
      },
      {
       "metadata": {},
       "output_type": "pyout",
       "prompt_number": 34,
       "text": [
        "idx: 30\tloss: 4.2570343017578\ttrain score: 10.658333333333\tlabel: 58\tprediction: [1]65 [2]37 [3]100 [4]76 [5]30\t\n"
       ]
      },
      {
       "metadata": {},
       "output_type": "pyout",
       "prompt_number": 34,
       "text": [
        "idx: 35\tloss: 4.2243275642395\ttrain score: 10.433333333333\tlabel: 48\tprediction: [1]95 [2]48 [3]34 [4]36 [5]40\t\n"
       ]
      },
      {
       "metadata": {},
       "output_type": "pyout",
       "prompt_number": 34,
       "text": [
        "idx: 40\tloss: 4.2153286933899\ttrain score: 10.76\tlabel: 56\tprediction: [1]40 [2]29 [3]14 [4]33 [5]51\t\n"
       ]
      },
      {
       "metadata": {},
       "output_type": "pyout",
       "prompt_number": 34,
       "text": [
        "idx: 45\tloss: 4.2184543609619\ttrain score: 11.445\tlabel: 12\tprediction: [1]97 [2]35 [3]85 [4]1 [5]78\t\n"
       ]
      },
      {
       "metadata": {},
       "output_type": "pyout",
       "prompt_number": 34,
       "text": [
        "idx: 50\tloss: 4.2033748626709\ttrain score: 11.471666666667\tlabel: 51\tprediction: [1]8 [2]40 [3]49 [4]14 [5]92\t\n"
       ]
      },
      {
       "metadata": {},
       "output_type": "pyout",
       "prompt_number": 34,
       "text": [
        "idx: 55\tloss: 4.1933393478394\ttrain score: 11.768333333333\tlabel: 14\tprediction: [1]41 [2]24 [3]17 [4]48 [5]43\t\n"
       ]
      },
      {
       "metadata": {},
       "output_type": "pyout",
       "prompt_number": 34,
       "text": [
        "idx: 60\tloss: 4.2021441459656\ttrain score: 11.071666666667\tlabel: 35\tprediction: [1]18 [2]5 [3]84 [4]11 [5]22\t\n"
       ]
      },
      {
       "metadata": {},
       "output_type": "pyout",
       "prompt_number": 34,
       "text": [
        "idx: 65\tloss: 4.1600198745728\ttrain score: 12.786666666667\tlabel: 48\tprediction: [1]48 [2]44 [3]52 [4]51 [5]94\t\n"
       ]
      },
      {
       "metadata": {},
       "output_type": "pyout",
       "prompt_number": 34,
       "text": [
        "idx: 70\tloss: 4.1893153190613\ttrain score: 10.08\tlabel: 88\tprediction: [1]16 [2]14 [3]51 [4]29 [5]11\t"
       ]
      },
      {
       "metadata": {},
       "output_type": "pyout",
       "prompt_number": 34,
       "text": [
        "\n"
       ]
      },
      {
       "metadata": {},
       "output_type": "pyout",
       "prompt_number": 34,
       "text": [
        "idx: 75\tloss: 4.1632323265076\ttrain score: 12.498333333333\tlabel: 55\tprediction: [1]25 [2]50 [3]46 [4]2 [5]89\t\n"
       ]
      },
      {
       "metadata": {},
       "output_type": "pyout",
       "prompt_number": 34,
       "text": [
        "idx: 80\tloss: 4.1717000007629\ttrain score: 12.328333333333\tlabel: 28\tprediction: [1]28 [2]8 [3]81 [4]4 [5]40\t\n"
       ]
      },
      {
       "metadata": {},
       "output_type": "pyout",
       "prompt_number": 34,
       "text": [
        "idx: 85\tloss: 4.1656956672668\ttrain score: 12.665\tlabel: 12\tprediction: [1]10 [2]6 [3]12 [4]9 [5]100\t\n"
       ]
      },
      {
       "metadata": {},
       "output_type": "pyout",
       "prompt_number": 34,
       "text": [
        "idx: 90\tloss: 4.1785740852356\ttrain score: 12.623333333333\tlabel: 29\tprediction: [1]14 [2]51 [3]34 [4]7 [5]73\t\n"
       ]
      },
      {
       "metadata": {},
       "output_type": "pyout",
       "prompt_number": 34,
       "text": [
        "idx: 95\tloss: 4.1542987823486\ttrain score: 12.578333333333\tlabel: 64\tprediction: [1]73 [2]51 [3]19 [4]17 [5]92\t\n"
       ]
      },
      {
       "metadata": {},
       "output_type": "pyout",
       "prompt_number": 34,
       "text": [
        "idx: 100\tloss: 4.1485328674316\ttrain score: 11.713333333333\tlabel: 27\tprediction: [1]82 [2]64 [3]45 [4]58 [5]88\t\n"
       ]
      },
      {
       "metadata": {},
       "output_type": "pyout",
       "prompt_number": 34,
       "text": [
        "idx: 105\tloss: 4.1431231498718\ttrain score: 13.888333333333\tlabel: 12\tprediction: [1]63 [2]59 [3]30 [4]37 [5]83\t\n"
       ]
      },
      {
       "metadata": {},
       "output_type": "pyout",
       "prompt_number": 34,
       "text": [
        "idx: 110\tloss: 4.1330819129944\ttrain score: 13.59\tlabel: 64\tprediction: [1]31 [2]62 [3]63 [4]82 [5]83\t\n"
       ]
      },
      {
       "metadata": {},
       "output_type": "pyout",
       "prompt_number": 34,
       "text": [
        "idx: 115\tloss: 4.1302804946899\ttrain score: 14.058333333333\tlabel: 27\tprediction: [1]1 [2]35 [3]97 [4]72 [5]27\t\n"
       ]
      },
      {
       "metadata": {},
       "output_type": "pyout",
       "prompt_number": 34,
       "text": [
        "idx: 120\tloss: 4.1237182617188\ttrain score: 11.508333333333\tlabel: 13\tprediction: [1]31 [2]59 [3]86 [4]58 [5]83\t\n"
       ]
      },
      {
       "metadata": {},
       "output_type": "pyout",
       "prompt_number": 34,
       "text": [
        "idx: 125\tloss: 4.1501903533936\ttrain score: 12.721666666667\tlabel: 8\tprediction: [1]8 [2]15 [3]51 [4]33 [5]44\t\n"
       ]
      },
      {
       "metadata": {},
       "output_type": "pyout",
       "prompt_number": 34,
       "text": [
        "idx: 130\tloss: 4.1417212486267\ttrain score: 12.833333333333\tlabel: 87\tprediction: [1]51 [2]15 [3]42 [4]49 [5]95\t\n"
       ]
      },
      {
       "metadata": {},
       "output_type": "pyout",
       "prompt_number": 34,
       "text": [
        "idx: 135\tloss: 4.1282835006714\ttrain score: 12.811666666667\tlabel: 34\tprediction: [1]22 [2]57 [3]50 [4]71 [5]42\t\n"
       ]
      },
      {
       "metadata": {},
       "output_type": "pyout",
       "prompt_number": 34,
       "text": [
        "idx: 140\tloss: 4.1319541931152\ttrain score: 13.491666666667\tlabel: 3\tprediction: [1]10 [2]38 [3]99 [4]98 [5]70\t\n"
       ]
      },
      {
       "metadata": {},
       "output_type": "pyout",
       "prompt_number": 34,
       "text": [
        "idx: 145\tloss: 4.1330313682556\ttrain score: 14.188333333333\tlabel: 21\tprediction: [1]37 [2]39 [3]79 [4]30 [5]31\t\n"
       ]
      },
      {
       "metadata": {},
       "output_type": "pyout",
       "prompt_number": 34,
       "text": [
        "idx: 150\tloss: 4.132691860199\ttrain score: 15.063333333333\tlabel: 70\tprediction: [1]70 [2]57 [3]99 [4]98 [5]38\t\n"
       ]
      },
      {
       "metadata": {},
       "output_type": "pyout",
       "prompt_number": 34,
       "text": [
        "idx: 155\tloss: 4.1182417869568\ttrain score: 13.146666666667\tlabel: 92\tprediction: [1]14 [2]17 [3]29 [4]49 [5]92\t\n"
       ]
      },
      {
       "metadata": {},
       "output_type": "pyout",
       "prompt_number": 34,
       "text": [
        "idx: 160\tloss: 4.1164121627808\ttrain score: 15.193333333333\tlabel: 39\tprediction: [1]13 [2]86 [3]68 [4]31 [5]30\t\n"
       ]
      },
      {
       "metadata": {},
       "output_type": "pyout",
       "prompt_number": 34,
       "text": [
        "idx: 165\tloss: 4.1245694160461\ttrain score: 11.561666666667\tlabel: 31\tprediction: [1]16 [2]90 [3]97 [4]94 [5]35\t\n"
       ]
      },
      {
       "metadata": {},
       "output_type": "pyout",
       "prompt_number": 34,
       "text": [
        "idx: 170\tloss: 4.1237354278564\ttrain score: 11.61\tlabel: 75\tprediction: [1]75 [2]100 [3]97 [4]91 [5]27\t\n"
       ]
      },
      {
       "metadata": {},
       "output_type": "pyout",
       "prompt_number": 34,
       "text": [
        "idx: 175\tloss: 4.1261253356934\ttrain score: 14.365\tlabel: 55\tprediction: [1]20 [2]80 [3]50 [4]25 [5]46\t\n"
       ]
      },
      {
       "metadata": {},
       "output_type": "pyout",
       "prompt_number": 34,
       "text": [
        "idx: 180\tloss: 4.1399793624878\ttrain score: 13.79\tlabel: 93\tprediction: [1]93 [2]45 [3]74 [4]88 [5]22\t\n"
       ]
      },
      {
       "metadata": {},
       "output_type": "pyout",
       "prompt_number": 34,
       "text": [
        "idx: 185\tloss: 4.1042537689209\ttrain score: 14.395\tlabel: 20\tprediction: [1]20 [2]7 [3]17 [4]29 [5]16\t\n"
       ]
      },
      {
       "metadata": {},
       "output_type": "pyout",
       "prompt_number": 34,
       "text": [
        "idx: 190\tloss: 4.1114187240601\ttrain score: 13.251666666667\tlabel: 47\tprediction: [1]63 [2]47 [3]37 [4]68 [5]65\t\n"
       ]
      },
      {
       "metadata": {},
       "output_type": "pyout",
       "prompt_number": 34,
       "text": [
        "idx: 195\tloss: 4.1127400398254\ttrain score: 14.078333333333\tlabel: 10\tprediction: [1]62 [2]63 [3]58 [4]83 [5]86\t\n"
       ]
      },
      {
       "metadata": {},
       "output_type": "pyout",
       "prompt_number": 34,
       "text": [
        "idx: 200\tloss: 4.1124134063721\ttrain score: 12.75\tlabel: 49\tprediction: [1]77 [2]14 [3]92 [4]40 [5]41\t\n"
       ]
      },
      {
       "metadata": {},
       "output_type": "pyout",
       "prompt_number": 34,
       "text": [
        "idx: 205\tloss: 4.0990266799927\ttrain score: 14.728333333333\tlabel: 34\tprediction: [1]40 [2]41 [3]78 [4]77 [5]29\t\n"
       ]
      },
      {
       "metadata": {},
       "output_type": "pyout",
       "prompt_number": 34,
       "text": [
        "idx: 210\tloss: 4.1188015937805\ttrain score: 14.495\tlabel: 61\tprediction: [1]63 [2]86 [3]31 [4]58 [5]62\t\n"
       ]
      },
      {
       "metadata": {},
       "output_type": "pyout",
       "prompt_number": 34,
       "text": [
        "idx: 215\tloss: 4.1134305000305\ttrain score: 12.538333333333\tlabel: 11\tprediction: [1]31 [2]21 [3]83 [4]63 [5]82\t\n"
       ]
      },
      {
       "metadata": {},
       "output_type": "pyout",
       "prompt_number": 34,
       "text": [
        "idx: 220\tloss: 4.1231908798218\ttrain score: 12.73\tlabel: 7\tprediction: [1]48 [2]49 [3]17 [4]15 [5]14\t\n"
       ]
      },
      {
       "metadata": {},
       "output_type": "pyout",
       "prompt_number": 34,
       "text": [
        "idx: 225\tloss: 4.0983123779297\ttrain score: 15.51\tlabel: 40\tprediction: [1]48 [2]14 [3]41 [4]43 [5]92\t\n"
       ]
      },
      {
       "metadata": {},
       "output_type": "pyout",
       "prompt_number": 34,
       "text": [
        "idx: 230\tloss: 4.1100091934204\ttrain score: 13.141666666667\tlabel: 30\tprediction: [1]86 [2]21 [3]39 [4]59 [5]31\t\n"
       ]
      },
      {
       "metadata": {},
       "output_type": "pyout",
       "prompt_number": 34,
       "text": [
        "idx: 235\tloss: 4.1115570068359\ttrain score: 12.961666666667\tlabel: 16\tprediction: [1]8 [2]44 [3]51 [4]97 [5]90\t\n"
       ]
      },
      {
       "metadata": {},
       "output_type": "pyout",
       "prompt_number": 34,
       "text": [
        "idx: 240\tloss: 4.0878019332886\ttrain score: 14.905\tlabel: 50\tprediction: [1]22 [2]60 [3]24 [4]50 [5]96\t\n"
       ]
      },
      {
       "metadata": {},
       "output_type": "pyout",
       "prompt_number": 34,
       "text": [
        "idx: 245\tloss: 4.1052627563477\ttrain score: 13.848333333333\tlabel: 84\tprediction: [1]8 [2]11 [3]9 [4]94 [5]51\t\n"
       ]
      },
      {
       "metadata": {},
       "output_type": "pyout",
       "prompt_number": 34,
       "text": [
        "idx: 250\tloss: 4.0746088027954\ttrain score: 14.965\tlabel: 97\tprediction: [1]53 [2]88 [3]32 [4]66 [5]67\t\n"
       ]
      },
      {
       "metadata": {},
       "output_type": "pyout",
       "prompt_number": 34,
       "text": [
        "idx: 255\tloss: 4.104220867157\ttrain score: 14.138333333333\tlabel: 89\tprediction: [1]55 [2]20 [3]25 [4]52 [5]50\t\n"
       ]
      },
      {
       "metadata": {},
       "output_type": "pyout",
       "prompt_number": 34,
       "text": [
        "idx: 260\tloss: 4.1064462661743\ttrain score: 14.741666666667\tlabel: 69\tprediction: [1]19 [2]5 [3]73 [4]18 [5]96\t\n"
       ]
      },
      {
       "metadata": {},
       "output_type": "pyout",
       "prompt_number": 34,
       "text": [
        "idx: 265\tloss: 4.0910696983337\ttrain score: 14.228333333333\tlabel: 34\tprediction: [1]40 [2]33 [3]44 [4]15 [5]7\t\n"
       ]
      },
      {
       "metadata": {},
       "output_type": "pyout",
       "prompt_number": 34,
       "text": [
        "idx: 270\tloss: 4.1147770881653\ttrain score: 15.22\tlabel: 12\tprediction: [1]58 [2]30 [3]50 [4]63 [5]62\t\n"
       ]
      },
      {
       "metadata": {},
       "output_type": "pyout",
       "prompt_number": 34,
       "text": [
        "idx: 275\tloss: 4.0887160301208\ttrain score: 13.696666666667\tlabel: 52\tprediction: [1]34 [2]71 [3]84 [4]70 [5]33\t\n"
       ]
      },
      {
       "metadata": {},
       "output_type": "pyout",
       "prompt_number": 34,
       "text": [
        "idx: 280\tloss: 4.0923681259155\ttrain score: 14.153333333333\tlabel: 75\tprediction: [1]75 [2]28 [3]31 [4]65 [5]12\t\n"
       ]
      },
      {
       "metadata": {},
       "output_type": "pyout",
       "prompt_number": 34,
       "text": [
        "idx: 285\tloss: 4.1012859344482\ttrain score: 14.17\tlabel: 19\tprediction: [1]95 [2]49 [3]48 [4]43 [5]92\t\n"
       ]
      },
      {
       "metadata": {},
       "output_type": "pyout",
       "prompt_number": 34,
       "text": [
        "idx: 290\tloss: 4.0961298942566\ttrain score: 14.596666666667\tlabel: 85\tprediction: [1]1 [2]35 [3]14 [4]26 [5]32\t\n"
       ]
      },
      {
       "metadata": {},
       "output_type": "pyout",
       "prompt_number": 34,
       "text": [
        "idx: 295\tloss: 4.0819725990295\ttrain score: 16.045\tlabel: 79\tprediction: [1]58 [2]63 [3]83 [4]82 [5]37\t\n"
       ]
      },
      {
       "metadata": {},
       "output_type": "pyout",
       "prompt_number": 34,
       "text": [
        "idx: 300\tloss: 4.1030344963074\ttrain score: 14.945\tlabel: 57\tprediction: [1]42 [2]98 [3]71 [4]18 [5]70\t\n"
       ]
      }
     ],
     "prompt_number": 34
    }
   ],
   "metadata": {}
  }
 ]
}