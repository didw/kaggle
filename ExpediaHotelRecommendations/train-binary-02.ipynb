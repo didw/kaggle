{
 "metadata": {
  "language": "lua",
  "name": "",
  "signature": "sha256:ec458d8ad27a6bbb353fc89d5564f10ed81ffe81740100d26995bf63e2ac88e8"
 },
 "nbformat": 3,
 "nbformat_minor": 0,
 "worksheets": [
  {
   "cells": [
    {
     "cell_type": "code",
     "collapsed": false,
     "input": [
      "require 'torch';\n",
      "require 'nn';\n",
      "require 'cutorch';\n",
      "require 'cunn';\n",
      "require 'cudnn';"
     ],
     "language": "python",
     "metadata": {},
     "outputs": [],
     "prompt_number": 1
    },
    {
     "cell_type": "markdown",
     "metadata": {},
     "source": [
      "### Split data"
     ]
    },
    {
     "cell_type": "code",
     "collapsed": false,
     "input": [
      "function split(str, pat)\n",
      "   local t = {}  -- NOTE: use {n = 0} in Lua-5.0\n",
      "   local fpat = \"(.-)\" .. pat\n",
      "   local last_end = 1\n",
      "   local s, e, cap = str:find(fpat, 1)\n",
      "   while s do\n",
      "      if s ~= 1 or cap ~= \"\" then\n",
      "         table.insert(t,cap)\n",
      "      end\n",
      "      last_end = e+1\n",
      "      s, e, cap = str:find(fpat, last_end)\n",
      "   end\n",
      "   if last_end <= #str then\n",
      "      cap = str:sub(last_end)\n",
      "      table.insert(t, cap)\n",
      "   end\n",
      "   return t\n",
      "end"
     ],
     "language": "python",
     "metadata": {},
     "outputs": [],
     "prompt_number": 2
    },
    {
     "cell_type": "markdown",
     "metadata": {},
     "source": [
      "## Conver Data"
     ]
    },
    {
     "cell_type": "markdown",
     "metadata": {},
     "source": [
      "### 1. To get week number"
     ]
    },
    {
     "cell_type": "code",
     "collapsed": false,
     "input": [
      "function getYearBeginDayOfWeek(tm)\n",
      "  yearBegin = os.time{year=os.date(\"*t\",tm).year,month=1,day=1}\n",
      "  yearBeginDayOfWeek = tonumber(os.date(\"%w\",yearBegin))\n",
      "  -- sunday correct from 0 -> 7\n",
      "  if(yearBeginDayOfWeek == 0) then yearBeginDayOfWeek = 7 end\n",
      "  return yearBeginDayOfWeek\n",
      "end\n",
      "function getDayAdd(tm)\n",
      "  yearBeginDayOfWeek = getYearBeginDayOfWeek(tm)\n",
      "  if(yearBeginDayOfWeek < 5 ) then\n",
      "    -- first day is week 1\n",
      "    dayAdd = (yearBeginDayOfWeek - 2)\n",
      "  else \n",
      "    -- first day is week 52 or 53\n",
      "    dayAdd = (yearBeginDayOfWeek - 9)\n",
      "  end  \n",
      "  return dayAdd\n",
      "end\n",
      "function getWeekNumberOfYear(tm)\n",
      "  dayOfYear = os.date(\"%j\",tm)\n",
      "  dayAdd = getDayAdd(tm)\n",
      "  dayOfYearCorrected = dayOfYear + dayAdd\n",
      "  if(dayOfYearCorrected < 0) then\n",
      "    -- week of last year - decide if 52 or 53\n",
      "    lastYearBegin = os.time{year=os.date(\"*t\",tm).year-1,month=1,day=1}\n",
      "    lastYearEnd = os.time{year=os.date(\"*t\",tm).year-1,month=12,day=31}\n",
      "    dayAdd = getDayAdd(lastYearBegin)\n",
      "    dayOfYear = dayOfYear + os.date(\"%j\",lastYearEnd)\n",
      "    dayOfYearCorrected = dayOfYear + dayAdd\n",
      "  end  \n",
      "  weekNum = math.floor((dayOfYearCorrected) / 7) + 1\n",
      "  if( (dayOfYearCorrected > 0) and weekNum == 53) then\n",
      "    -- check if it is not considered as part of week 1 of next year\n",
      "    nextYearBegin = os.time{year=os.date(\"*t\",tm).year+1,month=1,day=1}\n",
      "    yearBeginDayOfWeek = getYearBeginDayOfWeek(nextYearBegin)\n",
      "    if(yearBeginDayOfWeek < 5 ) then\n",
      "      weekNum = 1\n",
      "    end  \n",
      "  end  \n",
      "  return weekNum\n",
      "end"
     ],
     "language": "python",
     "metadata": {},
     "outputs": [],
     "prompt_number": 3
    },
    {
     "cell_type": "code",
     "collapsed": false,
     "input": [
      "function __getWeekday(tm)\n",
      "    return os.date(\"*t\",tm).wday\n",
      "end"
     ],
     "language": "python",
     "metadata": {},
     "outputs": [],
     "prompt_number": 4
    },
    {
     "cell_type": "code",
     "collapsed": false,
     "input": [
      "function getWeekday(input)\n",
      "    dates = split(input, \"-\")\n",
      "    if table.getn(dates) ~= 3 then\n",
      "        return -1\n",
      "    end\n",
      "    useDate = os.time{year=dates[1],month=dates[2],day=dates[3]}\n",
      "    return __getWeekday(useDate)\n",
      "end"
     ],
     "language": "python",
     "metadata": {},
     "outputs": [],
     "prompt_number": 5
    },
    {
     "cell_type": "code",
     "collapsed": false,
     "input": [
      "function getLengthStay(checkin, checkout)\n",
      "    local dIn= split(checkin, \"-\")\n",
      "    local dOut= split(checkout, \"-\")\n",
      "    if table.getn(dIn) ~= 3 or table.getn(dOut) ~= 3 then\n",
      "        return -1\n",
      "    end\n",
      "    local useDateIn = os.time{year=dIn[1],month=dIn[2],day=dIn[3]}\n",
      "    local useDateOut = os.time{year=dOut[1],month=dOut[2],day=dOut[3]}\n",
      "    local days = (useDateOut - useDateIn)/(24*60*60)\n",
      "    if days > 30 then\n",
      "        days = 30\n",
      "    end\n",
      "    return days\n",
      "end"
     ],
     "language": "python",
     "metadata": {},
     "outputs": [],
     "prompt_number": 6
    },
    {
     "cell_type": "code",
     "collapsed": false,
     "input": [
      "function isIncludeWeekend(checkin, checkout)\n",
      "    local dIn= split(checkin, \"-\")\n",
      "    local dOut= split(checkout, \"-\")\n",
      "    if table.getn(dIn) ~= 3 or table.getn(dOut) ~= 3 then\n",
      "        return -1\n",
      "    end\n",
      "    if getLengthStay(checkin, checkout) > 7 then\n",
      "        return 1\n",
      "    end\n",
      "    local useDateIn = os.time{year=dIn[1],month=dIn[2],day=dIn[3]}\n",
      "    local useDateOut = os.time{year=dOut[1],month=dOut[2],day=dOut[3]}\n",
      "    date = useDateIn\n",
      "    while date < useDateOut do\n",
      "        if __getWeekday(date) == 6 or __getWeekday(date) == 7 then return 1 end\n",
      "        date = date + 24 * 60 * 60\n",
      "    end\n",
      "    return 0\n",
      "end"
     ],
     "language": "python",
     "metadata": {},
     "outputs": [],
     "prompt_number": 7
    },
    {
     "cell_type": "code",
     "collapsed": false,
     "input": [
      "print(isIncludeWeekend(\"2016-05-20\", \"2016-05-21\"))"
     ],
     "language": "python",
     "metadata": {},
     "outputs": [],
     "prompt_number": 8
    },
    {
     "cell_type": "code",
     "collapsed": false,
     "input": [
      "function getDate(input)\n",
      "    dates = split(input, \"-\")\n",
      "    if table.getn(dates) ~= 3 then\n",
      "        return -1\n",
      "    end\n",
      "    useDate = os.time{year=dates[1],month=dates[2],day=dates[3]}\n",
      "    weekNum = getWeekNumberOfYear(useDate)\n",
      "    return weekNum\n",
      "end"
     ],
     "language": "python",
     "metadata": {},
     "outputs": [],
     "prompt_number": 9
    },
    {
     "cell_type": "markdown",
     "metadata": {},
     "source": [
      "### 2. onehot"
     ]
    },
    {
     "cell_type": "code",
     "collapsed": false,
     "input": [
      "function onehot(tab, value, len)\n",
      "    if value == nil then\n",
      "        value = 0\n",
      "    end\n",
      "    for i=1,len do\n",
      "        if i==tonumber(value) then\n",
      "            table.insert(tab, 1)\n",
      "        else\n",
      "            table.insert(tab, 0)\n",
      "        end\n",
      "    end\n",
      "end"
     ],
     "language": "python",
     "metadata": {},
     "outputs": [],
     "prompt_number": 10
    },
    {
     "cell_type": "code",
     "collapsed": false,
     "input": [
      "function onehot_range(data, value, len, step)\n",
      "    if value == nil then\n",
      "        value = 0\n",
      "    end\n",
      "    for i=1,len do\n",
      "        if tonumber(value) > i*tonumber(step) then\n",
      "            table.insert(data, 0)\n",
      "        else\n",
      "            table.insert(data, 1)\n",
      "            value = len * (step + 1)\n",
      "        end\n",
      "    end\n",
      "end"
     ],
     "language": "python",
     "metadata": {},
     "outputs": [],
     "prompt_number": 11
    },
    {
     "cell_type": "markdown",
     "metadata": {},
     "source": [
      "### 3. binary"
     ]
    },
    {
     "cell_type": "code",
     "collapsed": false,
     "input": [
      "function binary(data, value, len)\n",
      "    while len > 0 do\n",
      "        if value % 2 == 1 then\n",
      "            table.insert(data, 1)\n",
      "        else\n",
      "            table.insert(data, 0)\n",
      "        end\n",
      "        value = value / 2\n",
      "        len = (len / 2) - (len / 2)%1\n",
      "    end\n",
      "end"
     ],
     "language": "python",
     "metadata": {},
     "outputs": [],
     "prompt_number": 12
    },
    {
     "cell_type": "markdown",
     "metadata": {},
     "source": [
      "### 4. dest info"
     ]
    },
    {
     "cell_type": "code",
     "collapsed": false,
     "input": [
      "fileName = 'data/destinations.csv'\n",
      "\n",
      "info_sum = {}\n",
      "info_mean = {}\n",
      "info_std = {}\n",
      "N = 1\n",
      "head = 1\n",
      "for i=1,149 do table.insert(info_sum, 0) end\n",
      "for line in io.lines ( fileName ) do \n",
      "    if head == 1 then\n",
      "        head = 0\n",
      "    else\n",
      "        destdata = split(line, ',')\n",
      "        for j=1,149 do\n",
      "            info_sum[j] = info_sum[j] + tonumber(destdata[j+1])\n",
      "        end\n",
      "        N = N + 1\n",
      "    end\n",
      "end\n",
      "\n",
      "for i=1,149 do info_mean[i] = info_sum[i] / N end\n",
      "\n",
      "info_sum = {}\n",
      "N = 1\n",
      "head = 1\n",
      "for i=1,149 do table.insert(info_sum, 0) end\n",
      "for line in io.lines ( fileName ) do \n",
      "    if head == 1 then\n",
      "        head = 0\n",
      "    else\n",
      "        destdata = split(line, ',')\n",
      "        for j=1,149 do\n",
      "            info_sum[j] = info_sum[j] + (tonumber(destdata[j+1]) - info_mean[j]) * (tonumber(destdata[j+1]) - info_mean[j])\n",
      "        end\n",
      "        N = N + 1\n",
      "    end\n",
      "end\n",
      "\n",
      "for i=1,149 do info_std[i] = math.sqrt(info_sum[i] / N) end"
     ],
     "language": "python",
     "metadata": {},
     "outputs": [],
     "prompt_number": 13
    },
    {
     "cell_type": "code",
     "collapsed": false,
     "input": [
      "destInfo = {}\n",
      "i = 0\n",
      "head = 1\n",
      "nEmpty = 0\n",
      "empty_row = {}\n",
      "for j=1,149 do\n",
      "    table.insert(empty_row, 0)\n",
      "end\n",
      "for line in io.lines ( fileName ) do \n",
      "    if head == 1 then\n",
      "        head = 0\n",
      "    else\n",
      "        destdata = split(line, ',')\n",
      "        while tonumber(destdata[1]) ~= i do\n",
      "            --print('Empty line => destdata[1]: ' .. destdata[1], 'i: ' .. i)\n",
      "            table.insert(destInfo, empty_row)\n",
      "            i = i + 1\n",
      "            nEmpty = nEmpty + 1\n",
      "        end\n",
      "        row = {}\n",
      "        for j=1,149 do\n",
      "            table.insert(row, (destdata[j+1] - info_mean[j]) / info_std[j])\n",
      "        end\n",
      "        table.insert(destInfo, row)\n",
      "        if tonumber(destdata[1]) ~= i then\n",
      "            --print('Not Matched => destdata[1]: ' .. destdata[1], 'i: ' .. i)\n",
      "        end\n",
      "        i = i + 1\n",
      "    end\n",
      "end\n",
      "\n",
      "for i=1,1000 do table.insert(destInfo, empty_row) end\n",
      "print('nEmpty:' .. nEmpty)"
     ],
     "language": "python",
     "metadata": {},
     "outputs": [],
     "prompt_number": 14
    },
    {
     "cell_type": "code",
     "collapsed": false,
     "input": [
      "function addDestinationInfo(data, value)\n",
      "    for i=1,149 do\n",
      "        table.insert(data, destInfo[value][i])\n",
      "    end\n",
      "end"
     ],
     "language": "python",
     "metadata": {},
     "outputs": [
      {
       "metadata": {},
       "output_type": "pyout",
       "prompt_number": 15,
       "text": [
        "nEmpty:2888\t\n"
       ]
      }
     ],
     "prompt_number": 15
    },
    {
     "cell_type": "markdown",
     "metadata": {},
     "source": [
      "### Data normalize"
     ]
    },
    {
     "cell_type": "code",
     "collapsed": false,
     "input": [
      "distMean = 0\n",
      "distsum = 0\n",
      "data = loadData(1000)\n",
      "N = 0\n",
      "for i=1,1000 do \n",
      "    if data[i][4] ~= 0 then \n",
      "        N = N + 1; distsum = distsum + data[i][4] \n",
      "    end \n",
      "end\n",
      "distMean = distsum / N\n",
      "print(distsum)\n",
      "print(distMean)\n",
      "distsum = 0\n",
      "for i=1,1000 do \n",
      "    if data[i][4] ~= 0 then \n",
      "        N = N + 1; distsum = distsum + (data[i][4] -distMean)*(data[i][4] -distMean)\n",
      "    end \n",
      "end\n",
      "print(math.sqrt(distsum / N))"
     ],
     "language": "python",
     "metadata": {},
     "outputs": [
      {
       "ename": "[string \"distMean = 0...\"]:3: attempt to call global 'loadData' (a nil value)\nstack traceback:\n\t[string \"distMean = 0...\"]:3: in main chunk\n\t[C]: in function 'xpcall'\n\t/root/torch/install/share/lua/5.1/itorch/main.lua:179: in function </root/torch/install/share/lua/5.1/itorch/main.lua:143>\n\t/root/torch/install/share/lua/5.1/lzmq/poller.lua:75: in function 'poll'\n\t/root/torch/install/share/lua/5.1/lzmq/impl/loop.lua:307: in function 'poll'\n\t/root/torch/install/share/lua/5.1/lzmq/impl/loop.lua:325: in function 'sleep_ex'\n\t/root/torch/install/share/lua/5.1/lzmq/impl/loop.lua:370: in function 'start'\n\t/root/torch/install/share/lua/5.1/itorch/main.lua:350: in main chunk\n\t[C]: in function 'require'\n\t(command line):1: in main chunk\n\t[C]: at 0x00406670",
       "evalue": "",
       "output_type": "pyerr",
       "traceback": [
        "[string \"distMean = 0...\"]:3: attempt to call global 'loadData' (a nil value)\nstack traceback:\n\t[string \"distMean = 0...\"]:3: in main chunk\n\t[C]: in function 'xpcall'\n\t/root/torch/install/share/lua/5.1/itorch/main.lua:179: in function </root/torch/install/share/lua/5.1/itorch/main.lua:143>\n\t/root/torch/install/share/lua/5.1/lzmq/poller.lua:75: in function 'poll'\n\t/root/torch/install/share/lua/5.1/lzmq/impl/loop.lua:307: in function 'poll'\n\t/root/torch/install/share/lua/5.1/lzmq/impl/loop.lua:325: in function 'sleep_ex'\n\t/root/torch/install/share/lua/5.1/lzmq/impl/loop.lua:370: in function 'start'\n\t/root/torch/install/share/lua/5.1/itorch/main.lua:350: in main chunk\n\t[C]: in function 'require'\n\t(command line):1: in main chunk\n\t[C]: at 0x00406670"
       ]
      }
     ],
     "prompt_number": 16
    },
    {
     "cell_type": "markdown",
     "metadata": {},
     "source": [
      "### Convert input to data"
     ]
    },
    {
     "cell_type": "code",
     "collapsed": false,
     "input": [
      "function tableToOutput(dataTable, scalarTable)\n",
      "   local data, scalarLabels, labels\n",
      "   local quantity = #scalarTable\n",
      "   local size = #dataTable[1]\n",
      "   data = torch.Tensor(quantity, size)\n",
      "   scalarLabels = torch.LongTensor(quantity):fill(-1111)\n",
      "   for i=1,#dataTable do\n",
      "      for j=1,#dataTable[1] do\n",
      "         data[i][j] = dataTable[i][j]\n",
      "      end\n",
      "      scalarLabels[i] = scalarTable[i]\n",
      "   end\n",
      "   return data, scalarLabels\n",
      "end"
     ],
     "language": "python",
     "metadata": {},
     "outputs": [],
     "prompt_number": 17
    },
    {
     "cell_type": "code",
     "collapsed": false,
     "input": [
      "function dataConvert(line)\n",
      "    if line == nil then\n",
      "        print('line is empty')\n",
      "    end\n",
      "    words = split(line, \",\")\n",
      "    data = {}\n",
      "    aa = split(words[1], ' ')[1]\n",
      "    table.insert(data, (tonumber(getDate(aa)) - 26) / 26) --1\n",
      "    table.insert(data, (getDate(words[12]) - 26) / 26) --12\n",
      "    table.insert(data, (getDate(words[13]) - 26) / 26) --13\n",
      "    \n",
      "    binary(data, getWeekday(aa), 7)\n",
      "    table.insert(data, isIncludeWeekend(words[12], words[13]))\n",
      "    binary(data, getLengthStay(words[12], words[13]), 30)\n",
      "    \n",
      "    if tonumber(words[7]) == nil then\n",
      "        table.insert(data, 0) -- distance\n",
      "    else\n",
      "        table.insert(data, (tonumber(words[7]) - 1800) / 1600) -- distance\n",
      "    end\n",
      "    table.insert(data, words[9])\n",
      "    table.insert(data, words[10])\n",
      "    table.insert(data, words[20])\n",
      "        \n",
      "    binary(data, words[2], 54)\n",
      "    binary(data, words[3], 5)\n",
      "    binary(data, words[4], 240)\n",
      "    binary(data, words[5], 1028)\n",
      "    binary(data, words[6], 56509)\n",
      "    binary(data, words[11], 11)\n",
      "    binary(data, words[14], 10)\n",
      "    binary(data, words[15], 10)\n",
      "    binary(data, words[16], 9)\n",
      "    binary(data, words[18], 10)\n",
      "    binary(data, words[21], 7)\n",
      "    binary(data, words[22], 213)\n",
      "    binary(data, words[23], 2118)\n",
      "    \n",
      "    -- destination information (17)\n",
      "    addDestinationInfo(data, tonumber(words[17]))\n",
      "    \n",
      "    return data\n",
      "end"
     ],
     "language": "python",
     "metadata": {},
     "outputs": [],
     "prompt_number": 18
    },
    {
     "cell_type": "code",
     "collapsed": false,
     "input": [
      "function testdataConvert(line)\n",
      "    if line == nil then\n",
      "        print('line is empty')\n",
      "    end\n",
      "    words = split(line, \",\")\n",
      "    data = {}\n",
      "    aa = split(words[2], ' ')[1]\n",
      "    table.insert(data, (tonumber(getDate(aa)) - 26) / 26) --1\n",
      "    table.insert(data, (getDate(words[13]) - 26) / 26) --12\n",
      "    table.insert(data, (getDate(words[14]) - 26) / 26) --13\n",
      "    \n",
      "    binary(data, getWeekday(aa), 7)\n",
      "    table.insert(data, isIncludeWeekend(words[13], words[14]))\n",
      "    binary(data, getLengthStay(words[13], words[14]), 30)\n",
      "    \n",
      "    if tonumber(words[8]) == nil then\n",
      "        table.insert(data, 0) -- distance\n",
      "    else\n",
      "        table.insert(data, (tonumber(words[8]) - 1800) / 1600) -- distance\n",
      "    end\n",
      "    table.insert(data, words[10])\n",
      "    table.insert(data, words[11])\n",
      "    table.insert(data, 1)\n",
      "        \n",
      "    binary(data, words[3], 54)\n",
      "    binary(data, words[4], 5)\n",
      "    binary(data, words[5], 240)\n",
      "    binary(data, words[6], 1028)\n",
      "    binary(data, words[7], 56509)\n",
      "    binary(data, words[12], 11)\n",
      "    binary(data, words[15], 10)\n",
      "    binary(data, words[16], 10)\n",
      "    binary(data, words[17], 9)\n",
      "    binary(data, words[19], 10)\n",
      "    binary(data, words[20], 7)\n",
      "    binary(data, words[21], 213)\n",
      "    binary(data, words[22], 2118)\n",
      "    \n",
      "    -- destination information (17)\n",
      "    addDestinationInfo(data, tonumber(words[18]))\n",
      "    \n",
      "    return data\n",
      "end"
     ],
     "language": "python",
     "metadata": {},
     "outputs": [],
     "prompt_number": 19
    },
    {
     "cell_type": "markdown",
     "metadata": {},
     "source": [
      "### Build model"
     ]
    },
    {
     "cell_type": "code",
     "collapsed": false,
     "input": [
      "model = nn.Sequential()\n",
      "-- for onehot inputsize: 3871\n",
      "model:add(nn.Linear(252, 1024))\n",
      "model:add(nn.Threshold(0, 1e-6))\n",
      "model:add(nn.ReLU())\n",
      "model:add(nn.Linear(1024, 256))\n",
      "model:add(nn.Threshold(0, 1e-6))\n",
      "model:add(nn.ReLU())\n",
      "model:add(nn.Linear(256, 100))\n",
      "model:add(nn.Sigmoid())\n",
      "model = model:cuda()\n",
      "\n",
      "params, grad_params = model:getParameters()\n",
      "crit = nn.CrossEntropyCriterion()\n",
      "crit = crit:cuda()"
     ],
     "language": "python",
     "metadata": {},
     "outputs": [],
     "prompt_number": 20
    },
    {
     "cell_type": "markdown",
     "metadata": {},
     "source": [
      "model = nn.Sequential()\n",
      "-- for onehot inputsize: 3871\n",
      "model:add(nn.Linear(252, 1024))\n",
      "model:add(nn.Sigmoid())\n",
      "model:add(nn.Linear(1024, 2048))\n",
      "model:add(nn.Sigmoid())\n",
      "model:add(nn.Linear(2048, 4096))\n",
      "model:add(nn.Sigmoid())\n",
      "model:add(nn.Linear(4096, 100))\n",
      "model = model:cuda()\n",
      "\n",
      "params, grad_params = model:getParameters()\n",
      "crit = nn.CrossEntropyCriterion()\n",
      "crit = crit:cuda()"
     ]
    },
    {
     "cell_type": "markdown",
     "metadata": {},
     "source": [
      "### Load Data"
     ]
    },
    {
     "cell_type": "code",
     "collapsed": false,
     "input": [
      "function loadData(quantity)\n",
      "    dataTable = {}\n",
      "    labTable = {}\n",
      "    for i=1,quantity do\n",
      "        local class = torch.random(0,99)\n",
      "        local fname = 'data/train/train_' .. string.format( \"%02d\", class ) .. '.csv'\n",
      "        file = io.open(fname, \"r\")\n",
      "        picked = torch.random(1,file:seek(\"end\")-200)\n",
      "        file:seek(\"set\", picked)\n",
      "        file:read()\n",
      "        table.insert(dataTable, dataConvert(file:read()))\n",
      "        table.insert(labTable, class+1)\n",
      "        io.close(file)\n",
      "    end\n",
      "    local data, label = tableToOutput(dataTable, labTable)\n",
      "    return data, label\n",
      "end"
     ],
     "language": "python",
     "metadata": {},
     "outputs": [],
     "prompt_number": 21
    },
    {
     "cell_type": "markdown",
     "metadata": {},
     "source": [
      "### Print"
     ]
    },
    {
     "cell_type": "code",
     "collapsed": false,
     "input": [
      "function PrintCM(idx)\n",
      "  local loss = 0\n",
      "  local top1 = 0\n",
      "  model:evaluate()\n",
      "  local x, y = loadData(1000)\n",
      "  x = x:cuda()\n",
      "  y = y:cuda()\n",
      "  local N = y:size(1)\n",
      "  local scores = model:forward(x)\n",
      "  loss = loss + crit:forward(scores, y)\n",
      "\n",
      "  local pred = scores:float()\n",
      "  local _, pred_sorted = pred:sort(2, true)\n",
      "\n",
      "  for i=1,N do\n",
      "    for j=1,5 do\n",
      "        if pred_sorted[i][j] == y[i] then\n",
      "          top1 = top1 + (1/j)\n",
      "        end\n",
      "    end\n",
      "  end\n",
      "  print(\"idx: \" .. idx, \"loss: \" .. loss, \"train score: \" .. top1 * 100 / N, 'label: ' .. y[1],\n",
      "        'prediction: [1]' .. pred_sorted[1][1] .. ' [2]' .. pred_sorted[1][2] .. ' [3]' .. pred_sorted[1][3] .. ' [4]' .. pred_sorted[1][4] .. ' [5]' .. pred_sorted[1][5])\n",
      "end"
     ],
     "language": "python",
     "metadata": {},
     "outputs": [],
     "prompt_number": 22
    },
    {
     "cell_type": "markdown",
     "metadata": {},
     "source": [
      "### Check Size"
     ]
    },
    {
     "cell_type": "code",
     "collapsed": false,
     "input": [
      "local x,y = loadData(2)\n",
      "print(x:size())"
     ],
     "language": "python",
     "metadata": {},
     "outputs": [],
     "prompt_number": 23
    },
    {
     "cell_type": "markdown",
     "metadata": {},
     "source": [
      "### Training"
     ]
    },
    {
     "cell_type": "code",
     "collapsed": false,
     "input": [
      "require 'optim';"
     ],
     "language": "python",
     "metadata": {},
     "outputs": [
      {
       "metadata": {},
       "output_type": "pyout",
       "prompt_number": 24,
       "text": [
        "   2\n",
        " 252\n",
        "[torch.LongStorage of size 2]\n",
        "\n"
       ]
      }
     ],
     "prompt_number": 24
    },
    {
     "cell_type": "code",
     "collapsed": false,
     "input": [
      "opt = {}\n",
      "batch_size = 10000\n",
      "train_size = 3000000\n",
      "max_epoch = 100\n",
      "opt.learningRate = 1e-1\n",
      "opt.weightDecay = 1e-2\n",
      "opt.momentum = 0.9\n",
      "opt.lr_decay_factor = 0.5\n",
      "opt.lr_decay_every = 5 * train_size / batch_size\n",
      "opt.print_every = 5\n",
      "evaluate_every = 10 * train_size / batch_size\n",
      "optim_config = {learningRate = opt.learningRate, weightDecay = opt.weightDecay, momentum = opt.momentum}\n",
      "num_iterations = max_epoch * train_size / batch_size\n",
      "epoch = 1"
     ],
     "language": "python",
     "metadata": {},
     "outputs": [],
     "prompt_number": 25
    },
    {
     "cell_type": "code",
     "collapsed": false,
     "input": [
      "opt.learningRate = 1e-2\n",
      "opt.print_every = 5\n",
      "num_iterations = max_epoch * train_size / batch_size"
     ],
     "language": "python",
     "metadata": {},
     "outputs": [],
     "prompt_number": 26
    },
    {
     "cell_type": "code",
     "collapsed": false,
     "input": [
      "-- Loss function that we pass to an optim method\n",
      "function f(w)\n",
      "  assert(w == params)\n",
      "  grad_params:zero()\n",
      "\n",
      "  --local x, y = loader:nextBatch('train')\n",
      "  local x, y = loadData(batch_size)\n",
      "  \n",
      "  x = x:cuda()\n",
      "  y = y:cuda()\n",
      "  local scores = model:forward(x)\n",
      "  local loss = crit:forward(scores, y)\n",
      "  local grad_scores = crit:backward(scores, y)\n",
      "  model:backward(x, grad_scores)\n",
      "\n",
      "  grad_params:clamp(-5, 5)\n",
      "\n",
      "  return loss, grad_params\n",
      "end"
     ],
     "language": "python",
     "metadata": {},
     "outputs": [],
     "prompt_number": 27
    },
    {
     "cell_type": "code",
     "collapsed": false,
     "input": [
      "model:training()"
     ],
     "language": "python",
     "metadata": {},
     "outputs": [],
     "prompt_number": 28
    },
    {
     "cell_type": "code",
     "collapsed": false,
     "input": [
      "function saveModel(e)\n",
      "    local filename = string.format(\"model/model_%02d.t7\", e)\n",
      "    model:clearState()\n",
      "    model:float()\n",
      "    torch.save(filename, model)\n",
      "    model:cuda()\n",
      "end"
     ],
     "language": "python",
     "metadata": {},
     "outputs": [],
     "prompt_number": 29
    },
    {
     "cell_type": "code",
     "collapsed": false,
     "input": [
      "function make_submission(idx)\n",
      "    model:evaluate()\n",
      "    testname = 'data/test.csv'\n",
      "    submission_name = string.format(\"data/submission_%02d.csv\", idx)\n",
      "    submission_file = io.open(submission_name, 'w')\n",
      "    head = 1\n",
      "    idx = 0\n",
      "    submission_file:write(\"id,hotel_cluster\\n\")\n",
      "    for line in io.lines ( testname ) do\n",
      "        if head == 1 then\n",
      "            head = 0\n",
      "        else\n",
      "            testdata = testdataConvert(line)\n",
      "            words = split(line, ',')\n",
      "            if tonumber(words[1]) ~= idx then\n",
      "                print('words:' .. words[1] .. ', idx:' .. idx)            \n",
      "                idx = words[1]\n",
      "            end\n",
      "            tx, _ = tableToOutput({testdata}, {1})\n",
      "            local outputs = model:forward(tx:cuda())\n",
      "            local _, ps = outputs:float():sort(2, true)\n",
      "            submission_file:write(idx .. ',' .. ps[1][1]-1 .. ' ' .. ps[1][2]-1 .. ' ' .. ps[1][3]-1 .. ' ' .. ps[1][4]-1 .. ' ' .. ps[1][5]-1 .. '\\n')\n",
      "            idx = idx + 1\n",
      "        end\n",
      "    end\n",
      "    io.close(submission_file)\n",
      "end"
     ],
     "language": "python",
     "metadata": {},
     "outputs": [
      {
       "metadata": {},
       "output_type": "pyout",
       "prompt_number": 30,
       "text": [
        "\n"
       ]
      }
     ],
     "prompt_number": 30
    },
    {
     "cell_type": "code",
     "collapsed": false,
     "input": [
      "for i = 0, num_iterations do\n",
      "    if i ~= 0 and i % opt.lr_decay_every == 0 then\n",
      "        old_lr = opt.learningRate\n",
      "        old_md = opt.weightDecay\n",
      "        opt.learningRate = opt.learningRate * opt.lr_decay_factor\n",
      "        opt.weightDecay = opt.weightDecay * opt.lr_decay_factor\n",
      "        optim_config = {learningRate = opt.learningRate, weightDecay = opt.weightDecay, momentum = opt.momentum}\n",
      "        saveModel(epoch)\n",
      "        epoch = epoch + 1\n",
      "        print('current LR: ' .. opt.learningRate)\n",
      "    end\n",
      "    \n",
      "    local _, loss = optim.sgd(f, params, optim_config)\n",
      "    if i % opt.print_every == 0 then\n",
      "        model:evaluate()\n",
      "        PrintCM(i)\n",
      "        model:training()\n",
      "    end\n",
      "    \n",
      "    if i ~= 0 and i % evaluate_every == 0 then\n",
      "        make_submission(i)\n",
      "    end\n",
      "end"
     ],
     "language": "python",
     "metadata": {},
     "outputs": [
      {
       "metadata": {},
       "output_type": "pyout",
       "prompt_number": 31,
       "text": [
        "idx: 0\tloss: 4.6044778823853\ttrain score: 2.7083333333333\tlabel: 29\tprediction: [1]62 [2]9 [3]3 [4]30 [5]28\t\n"
       ]
      },
      {
       "metadata": {},
       "output_type": "pyout",
       "prompt_number": 31,
       "text": [
        "idx: 5\tloss: 4.606086730957\ttrain score: 2.2616666666667\tlabel: 65\tprediction: [1]76 [2]62 [3]43 [4]98 [5]9\t\n"
       ]
      },
      {
       "metadata": {},
       "output_type": "pyout",
       "prompt_number": 31,
       "text": [
        "idx: 10\tloss: 4.6038150787354\ttrain score: 2.0566666666667\tlabel: 39\tprediction: [1]1 [2]5 [3]96 [4]49 [5]76\t\n"
       ]
      },
      {
       "metadata": {},
       "output_type": "pyout",
       "prompt_number": 31,
       "text": [
        "idx: 15\tloss: 4.6052646636963\ttrain score: 2.8966666666667\tlabel: 73\tprediction: [1]67 [2]54 [3]82 [4]37 [5]38\t\n"
       ]
      },
      {
       "metadata": {},
       "output_type": "pyout",
       "prompt_number": 31,
       "text": [
        "idx: 20\tloss: 4.6042847633362\ttrain score: 2.765\tlabel: 94\t"
       ]
      },
      {
       "metadata": {},
       "output_type": "pyout",
       "prompt_number": 31,
       "text": [
        "prediction: [1]2 [2]62 [3]32 [4]37 [5]63\t\n"
       ]
      },
      {
       "metadata": {},
       "output_type": "pyout",
       "prompt_number": 31,
       "text": [
        "idx: 25\tloss: 4.6048917770386\ttrain score: 2.7533333333333\tlabel: 85\tprediction: [1]62 [2]37 [3]28 [4]2 [5]54\t\n"
       ]
      },
      {
       "metadata": {},
       "output_type": "pyout",
       "prompt_number": 31,
       "text": [
        "idx: 30\tloss: 4.6046013832092\ttrain score: 2.6816666666667\tlabel: 22\tprediction: [1]37 [2]96 [3]76 [4]30 [5]5\t\n"
       ]
      },
      {
       "metadata": {},
       "output_type": "pyout",
       "prompt_number": 31,
       "text": [
        "idx: 35\tloss: 4.6040387153625\ttrain score: 2.7016666666667\tlabel: 51\tprediction: [1]62 [2]76 [3]82 [4]40 [5]9\t\n"
       ]
      },
      {
       "metadata": {},
       "output_type": "pyout",
       "prompt_number": 31,
       "text": [
        "idx: 40\tloss: 4.6033143997192\ttrain score: 2.915\tlabel: 65\tprediction: [1]62 [2]9 [3]68 [4]76 [5]82\t\n"
       ]
      },
      {
       "metadata": {},
       "output_type": "pyout",
       "prompt_number": 31,
       "text": [
        "idx: 45\tloss: 4.6041622161865\ttrain score: 2.1316666666667\tlabel: 61\tprediction: [1]5 [2]62 [3]28 [4]76 [5]60\t\n"
       ]
      },
      {
       "metadata": {},
       "output_type": "pyout",
       "prompt_number": 31,
       "text": [
        "idx: 50\tloss: 4.6054763793945\ttrain score: 2.6933333333333\tlabel: 28\tprediction: [1]62 [2]9 [3]76 [4]82 [5]30\t\n"
       ]
      },
      {
       "metadata": {},
       "output_type": "pyout",
       "prompt_number": 31,
       "text": [
        "idx: 55\tloss: 4.6040439605713\ttrain score: 2.575\tlabel: 57\tprediction: [1]37 [2]62 [3]76 [4]28 [5]2\t\n"
       ]
      },
      {
       "metadata": {},
       "output_type": "pyout",
       "prompt_number": 31,
       "text": [
        "idx: 60\tloss: 4.6047215461731\ttrain score: 2.5316666666667\tlabel: 95\tprediction: [1]62 [2]5 [3]28 [4]91 [5]30\t\n"
       ]
      },
      {
       "metadata": {},
       "output_type": "pyout",
       "prompt_number": 31,
       "text": [
        "idx: 65\tloss: 4.6037855148315\ttrain score: 2.5783333333333\tlabel: 99\tprediction: [1]20 [2]37 [3]5 [4]32 [5]91\t\n"
       ]
      },
      {
       "metadata": {},
       "output_type": "pyout",
       "prompt_number": 31,
       "text": [
        "idx: 70\tloss: 4.6036024093628\ttrain score: 2.8583333333333\tlabel: 70\tprediction: [1]37 [2]76 [3]62 [4]2 [5]30\t\n"
       ]
      },
      {
       "metadata": {},
       "output_type": "pyout",
       "prompt_number": 31,
       "text": [
        "idx: 75\tloss: 4.6031022071838\ttrain score: 2.625\tlabel: 59\tprediction: [1]62 [2]9 [3]40 [4]98 [5]82\t\n"
       ]
      },
      {
       "metadata": {},
       "output_type": "pyout",
       "prompt_number": 31,
       "text": [
        "idx: 80\tloss: 4.6040506362915\t"
       ]
      },
      {
       "metadata": {},
       "output_type": "pyout",
       "prompt_number": 31,
       "text": [
        "train score: 2.635\tlabel: 84\tprediction: [1]30 [2]42 [3]76 [4]2 [5]5\t\n"
       ]
      },
      {
       "metadata": {},
       "output_type": "pyout",
       "prompt_number": 31,
       "text": [
        "idx: 85\tloss: 4.6032280921936\ttrain score: 2.2666666666667\tlabel: 50\tprediction: [1]37 [2]35 [3]20 [4]9 [5]76\t\n"
       ]
      },
      {
       "metadata": {},
       "output_type": "pyout",
       "prompt_number": 31,
       "text": [
        "idx: 90\tloss: 4.6049561500549\ttrain score: 3.1866666666667\tlabel: 52\tprediction: [1]62 [2]37 [3]28 [4]1 [5]2\t\n"
       ]
      },
      {
       "metadata": {},
       "output_type": "pyout",
       "prompt_number": 31,
       "text": [
        "idx: 95\tloss: 4.6037454605103\ttrain score: 2.555\tlabel: 88\tprediction: [1]37 [2]2 [3]5 [4]32 [5]82\t\n"
       ]
      },
      {
       "metadata": {},
       "output_type": "pyout",
       "prompt_number": 31,
       "text": [
        "idx: 100\tloss: 4.6040163040161\ttrain score: 2.9566666666667\tlabel: 92\tprediction: [1]37 [2]62 [3]86 [4]54 [5]1\t\n"
       ]
      },
      {
       "metadata": {},
       "output_type": "pyout",
       "prompt_number": 31,
       "text": [
        "idx: 105\tloss: 4.6024289131165\ttrain score: 3.025\tlabel: 30\tprediction: [1]62 [2]9 [3]40 [4]76 [5]31\t\n"
       ]
      },
      {
       "metadata": {},
       "output_type": "pyout",
       "prompt_number": 31,
       "text": [
        "idx: 110\tloss: 4.6045203208923\ttrain score: 2.305\tlabel: 45\tprediction: [1]32 [2]76 [3]1 [4]37 [5]5\t\n"
       ]
      },
      {
       "metadata": {},
       "output_type": "pyout",
       "prompt_number": 31,
       "text": [
        "idx: 115\tloss: 4.6027355194092\ttrain score: 2.9933333333333\tlabel: 4\tprediction: [1]9 [2]62 [3]35 [4]19 [5]28\t\n"
       ]
      },
      {
       "metadata": {},
       "output_type": "pyout",
       "prompt_number": 31,
       "text": [
        "idx: 120\tloss: 4.6036291122437\ttrain score: 2.4416666666667\tlabel: 78\tprediction: [1]62 [2]76 [3]96 [4]2 [5]32\t\n"
       ]
      },
      {
       "metadata": {},
       "output_type": "pyout",
       "prompt_number": 31,
       "text": [
        "idx: 125\tloss: 4.6042470932007\ttrain score: 2.5316666666667\tlabel: 18\tprediction: [1]37 [2]82 [3]2 [4]5 [5]88\t\n"
       ]
      },
      {
       "metadata": {},
       "output_type": "pyout",
       "prompt_number": 31,
       "text": [
        "idx: 130\tloss: 4.6024522781372\ttrain score: 3.595\tlabel: 32\tprediction: [1]62 [2]82 [3]67 [4]9 [5]76\t\n"
       ]
      },
      {
       "metadata": {},
       "output_type": "pyout",
       "prompt_number": 31,
       "text": [
        "idx: 135\tloss: 4.603579044342\ttrain score: 2.9966666666667\tlabel: 5\tprediction: [1]9 [2]37 [3]2 [4]89 [5]19\t\n"
       ]
      },
      {
       "metadata": {},
       "output_type": "pyout",
       "prompt_number": 31,
       "text": [
        "idx: 140\tloss: 4.6023325920105\ttrain score: 3.3266666666667\tlabel: 84\tprediction: [1]37 [2]1 [3]5 [4]11 [5]2\t\n"
       ]
      },
      {
       "metadata": {},
       "output_type": "pyout",
       "prompt_number": 31,
       "text": [
        "idx: 145\tloss: 4.6029186248779\ttrain score: 3.4516666666667\tlabel: 59\tprediction: [1]37 [2]20 [3]88 [4]2 [5]5\t\n"
       ]
      },
      {
       "metadata": {},
       "output_type": "pyout",
       "prompt_number": 31,
       "text": [
        "idx: 150\tloss: 4.6030168533325\ttrain score: 2.7666666666667\tlabel: 11\tprediction: [1]30 [2]2 [3]37 [4]62 [5]71\t\n"
       ]
      },
      {
       "metadata": {},
       "output_type": "pyout",
       "prompt_number": 31,
       "text": [
        "idx: 155\tloss: 4.603187084198\ttrain score: 2.405\tlabel: 68\tprediction: [1]5 [2]2 [3]37 [4]76 [5]11\t\n"
       ]
      },
      {
       "metadata": {},
       "output_type": "pyout",
       "prompt_number": 31,
       "text": [
        "idx: 160\tloss: 4.6034860610962\ttrain score: 2.15\tlabel: 66\tprediction: [1]88 [2]37 [3]79 [4]2 [5]55\t\n"
       ]
      },
      {
       "metadata": {},
       "output_type": "pyout",
       "prompt_number": 31,
       "text": [
        "idx: 165\tloss: 4.6039190292358\ttrain score: 2.6983333333333\tlabel: 73\tprediction: [1]62 [2]82 [3]9 [4]30 [5]76\t\n"
       ]
      },
      {
       "metadata": {},
       "output_type": "pyout",
       "prompt_number": 31,
       "text": [
        "idx: 170\tloss: 4.6031041145325\ttrain score: 2.3466666666667\tlabel: 29\tprediction: [1]2 [2]37 [3]86 [4]76 [5]92\t\n"
       ]
      },
      {
       "metadata": {},
       "output_type": "pyout",
       "prompt_number": 31,
       "text": [
        "idx: 175\tloss: 4.6019096374512\ttrain score: 2.68\tlabel: 9\tprediction: [1]76 [2]32 [3]30 [4]1 [5]5\t\n"
       ]
      },
      {
       "metadata": {},
       "output_type": "pyout",
       "prompt_number": 31,
       "text": [
        "idx: 180\tloss: 4.6018977165222\ttrain score: 3.545\tlabel: 18\tprediction: [1]76 [2]2 [3]62 [4]67 [5]86\t\n"
       ]
      },
      {
       "metadata": {},
       "output_type": "pyout",
       "prompt_number": 31,
       "text": [
        "idx: 185\tloss: 4.6024904251099\ttrain score: 3.395\tlabel: 73\tprediction: [1]30 [2]40 [3]42 [4]49 [5]92\t\n"
       ]
      },
      {
       "metadata": {},
       "output_type": "pyout",
       "prompt_number": 31,
       "text": [
        "idx: 190\tloss: 4.6032757759094\ttrain score: 3.3566666666667\tlabel: 17\tprediction: [1]88 [2]30 [3]37 [4]2 [5]32\t\n"
       ]
      },
      {
       "metadata": {},
       "output_type": "pyout",
       "prompt_number": 31,
       "text": [
        "idx: 195\tloss: 4.6026067733765\ttrain score: 2.5966666666667\tlabel: 99\tprediction: [1]5 [2]76 [3]37 [4]32 [5]67\t\n"
       ]
      },
      {
       "metadata": {},
       "output_type": "pyout",
       "prompt_number": 31,
       "text": [
        "idx: 200\tloss: 4.6018619537354\ttrain score: 2.81\tlabel: 78\tprediction: [1]62 [2]19 [3]3 [4]43 [5]11\t\n"
       ]
      },
      {
       "metadata": {},
       "output_type": "pyout",
       "prompt_number": 31,
       "text": [
        "idx: 205\tloss: 4.6008262634277\ttrain score: 3.52\tlabel: 82\tprediction: [1]62 [2]9 [3]30 [4]76 [5]86\t\n"
       ]
      },
      {
       "metadata": {},
       "output_type": "pyout",
       "prompt_number": 31,
       "text": [
        "idx: 210\tloss: 4.6004233360291\ttrain score: 4.29\tlabel: 93\tprediction: [1]20 [2]35 [3]5 [4]32 [5]88\t\n"
       ]
      },
      {
       "metadata": {},
       "output_type": "pyout",
       "prompt_number": 31,
       "text": [
        "idx: 215\tloss: 4.6018037796021\ttrain score: 3.53\tlabel: 92\tprediction: [1]62 [2]9 [3]30 [4]43 [5]28\t\n"
       ]
      },
      {
       "metadata": {},
       "output_type": "pyout",
       "prompt_number": 31,
       "text": [
        "idx: 220\tloss: 4.6017785072327\ttrain score: 3.65\tlabel: 52\tprediction: [1]37 [2]2 [3]62 [4]72 [5]1\t\n"
       ]
      },
      {
       "metadata": {},
       "output_type": "pyout",
       "prompt_number": 31,
       "text": [
        "idx: 225\tloss: 4.6007466316223\ttrain score: 3.275\tlabel: 37\tprediction: [1]62 [2]76 [3]9 [4]35 [5]43\t\n"
       ]
      },
      {
       "metadata": {},
       "output_type": "pyout",
       "prompt_number": 31,
       "text": [
        "idx: 230\tloss: 4.6025624275208\ttrain score: 3.525\tlabel: 14\tprediction: [1]37 [2]9 [3]55 [4]40 [5]88\t\n"
       ]
      },
      {
       "metadata": {},
       "output_type": "pyout",
       "prompt_number": 31,
       "text": [
        "idx: 235\tloss: 4.60142993927\ttrain score: 4.2683333333333\tlabel: 55\tprediction: [1]2 [2]37 [3]62 [4]72 [5]1\t\n"
       ]
      },
      {
       "metadata": {},
       "output_type": "pyout",
       "prompt_number": 31,
       "text": [
        "idx: 240\tloss: 4.6008749008179\ttrain score: 3.8683333333333\tlabel: 1\tprediction: [1]37 [2]20 [3]72 [4]2 [5]19\t\n"
       ]
      },
      {
       "metadata": {},
       "output_type": "pyout",
       "prompt_number": 31,
       "text": [
        "idx: 245\tloss: 4.600977897644\ttrain score: 4.1266666666667\tlabel: 19\tprediction: [1]62 [2]30 [3]67 [4]9 [5]76\t\n"
       ]
      },
      {
       "metadata": {},
       "output_type": "pyout",
       "prompt_number": 31,
       "text": [
        "idx: 250\tloss: 4.6005425453186\ttrain score: 3.2783333333333\tlabel: 58\tprediction: [1]5 [2]96 [3]35 [4]20 [5]37\t\n"
       ]
      },
      {
       "metadata": {},
       "output_type": "pyout",
       "prompt_number": 31,
       "text": [
        "idx: 255\tloss: 4.6008362770081\ttrain score: 3.4916666666667\tlabel: 52\tprediction: [1]76 [2]37 [3]9 [4]35 [5]50\t\n"
       ]
      },
      {
       "metadata": {},
       "output_type": "pyout",
       "prompt_number": 31,
       "text": [
        "idx: 260\tloss: 4.600613117218\ttrain score: 4.2466666666667\tlabel: 99\tprediction: [1]62 [2]9 [3]82 [4]76 [5]40\t\n"
       ]
      },
      {
       "metadata": {},
       "output_type": "pyout",
       "prompt_number": 31,
       "text": [
        "idx: 265\tloss: 4.6012201309204\ttrain score: 5.0116666666667\tlabel: 22\tprediction: [1]62 [2]98 [3]9 [4]10 [5]43\t\n"
       ]
      },
      {
       "metadata": {},
       "output_type": "pyout",
       "prompt_number": 31,
       "text": [
        "idx: 270\tloss: 4.6026797294617\ttrain score: 3.6116666666667\tlabel: 13\tprediction: [1]20 [2]37 [3]35 [4]76 [5]96\t\n"
       ]
      },
      {
       "metadata": {},
       "output_type": "pyout",
       "prompt_number": 31,
       "text": [
        "idx: 275\tloss: 4.6017470359802\ttrain score: 3.89\tlabel: 19\tprediction: [1]62 [2]1 [3]10 [4]37 [5]42\t\n"
       ]
      },
      {
       "metadata": {},
       "output_type": "pyout",
       "prompt_number": 31,
       "text": [
        "idx: 280\tloss: 4.6007256507874\ttrain score: 4.355\tlabel: 36\tprediction: [1]76 [2]30 [3]2 [4]1 [5]5\t\n"
       ]
      },
      {
       "metadata": {},
       "output_type": "pyout",
       "prompt_number": 31,
       "text": [
        "idx: 285\tloss: 4.6018400192261\ttrain score: 2.9933333333333\tlabel: 70\tprediction: [1]62 [2]42 [3]9 [4]76 [5]98\t\n"
       ]
      },
      {
       "metadata": {},
       "output_type": "pyout",
       "prompt_number": 31,
       "text": [
        "idx: 290\tloss: 4.6026735305786\ttrain score: 3.4116666666667\tlabel: 61\tprediction: [1]62 [2]82 [3]40 [4]32 [5]98\t\n"
       ]
      },
      {
       "metadata": {},
       "output_type": "pyout",
       "prompt_number": 31,
       "text": [
        "idx: 295\tloss: 4.599769115448\ttrain score: 4.68\tlabel: 100\tprediction: [1]62 [2]9 [3]82 [4]76 [5]40\t\n"
       ]
      },
      {
       "metadata": {},
       "output_type": "pyout",
       "prompt_number": 31,
       "text": [
        "idx: 300\tloss: 4.6008677482605\ttrain score: 3.535\tlabel: 3\tprediction: [1]37 [2]88 [3]2 [4]20 [5]32\t\n"
       ]
      },
      {
       "metadata": {},
       "output_type": "pyout",
       "prompt_number": 31,
       "text": [
        "idx: 305\tloss: 4.6020736694336\ttrain score: 3.2433333333333\tlabel: 26\tprediction: [1]62 [2]82 [3]76 [4]28 [5]9\t\n"
       ]
      },
      {
       "metadata": {},
       "output_type": "pyout",
       "prompt_number": 31,
       "text": [
        "idx: 310\tloss: 4.6012606620789\ttrain score: 4.425\tlabel: 21\tprediction: [1]62 [2]9 [3]82 [4]76 [5]40\t\n"
       ]
      },
      {
       "metadata": {},
       "output_type": "pyout",
       "prompt_number": 31,
       "text": [
        "idx: 315\tloss: 4.5995135307312\ttrain score: 3.9433333333333\tlabel: 63\tprediction: [1]76 [2]62 [3]68 [4]54 [5]27\t\n"
       ]
      },
      {
       "metadata": {},
       "output_type": "pyout",
       "prompt_number": 31,
       "text": [
        "idx: 320\tloss: 4.5981249809265\ttrain score: 3.7266666666667\tlabel: 35\tprediction: [1]20 [2]72 [3]37 [4]5 [5]88\t\n"
       ]
      },
      {
       "metadata": {},
       "output_type": "pyout",
       "prompt_number": 31,
       "text": [
        "idx: 325\tloss: 4.5993127822876\ttrain score: 4.3616666666667\tlabel: 88\tprediction: [1]2 [2]37 [3]20 [4]67 [5]57\t\n"
       ]
      },
      {
       "metadata": {},
       "output_type": "pyout",
       "prompt_number": 31,
       "text": [
        "idx: 330\tloss: 4.6016058921814\ttrain score: 3.6566666666667\tlabel: 29\tprediction: [1]2 [2]20 [3]37 [4]27 [5]19\t\n"
       ]
      },
      {
       "metadata": {},
       "output_type": "pyout",
       "prompt_number": 31,
       "text": [
        "idx: 335\tloss: 4.6005163192749\t"
       ]
      },
      {
       "metadata": {},
       "output_type": "pyout",
       "prompt_number": 31,
       "text": [
        "train score: 3.8566666666667\tlabel: 86\tprediction: [1]62 [2]30 [3]76 [4]10 [5]9\t\n"
       ]
      },
      {
       "metadata": {},
       "output_type": "pyout",
       "prompt_number": 31,
       "text": [
        "idx: 340\tloss: 4.6008858680725\ttrain score: 3.4066666666667\tlabel: 67\tprediction: [1]62 [2]82 [3]5 [4]76 [5]49\t\n"
       ]
      },
      {
       "metadata": {},
       "output_type": "pyout",
       "prompt_number": 31,
       "text": [
        "idx: 345\tloss: 4.6000318527222\ttrain score: 3.9883333333333\tlabel: 6\tprediction: [1]62 [2]76 [3]9 [4]30 [5]40\t\n"
       ]
      },
      {
       "metadata": {},
       "output_type": "pyout",
       "prompt_number": 31,
       "text": [
        "idx: 350\tloss: 4.5996608734131\ttrain score: 4.4233333333333\tlabel: 4\tprediction: [1]62 [2]28 [3]76 [4]9 [5]30\t\n"
       ]
      },
      {
       "metadata": {},
       "output_type": "pyout",
       "prompt_number": 31,
       "text": [
        "idx: 355\tloss: 4.5996341705322\ttrain score: 3.6216666666667\tlabel: 80\tprediction: [1]62 [2]9 [3]75 [4]28 [5]40\t\n"
       ]
      },
      {
       "metadata": {},
       "output_type": "pyout",
       "prompt_number": 31,
       "text": [
        "idx: 360\tloss: 4.6004266738892\ttrain score: 4.0716666666667\tlabel: 95\tprediction: [1]19 [2]86 [3]2 [4]88 [5]28\t\n"
       ]
      },
      {
       "metadata": {},
       "output_type": "pyout",
       "prompt_number": 31,
       "text": [
        "idx: 365\tloss: 4.5998740196228\ttrain score: 4.465\tlabel: 22\tprediction: [1]37 [2]2 [3]1 [4]72 [5]20\t\n"
       ]
      },
      {
       "metadata": {},
       "output_type": "pyout",
       "prompt_number": 31,
       "text": [
        "idx: 370\tloss: 4.5998997688293\ttrain score: 4.8516666666667\tlabel: 21\tprediction: [1]76 [2]1 [3]40 [4]35 [5]20\t\n"
       ]
      },
      {
       "metadata": {},
       "output_type": "pyout",
       "prompt_number": 31,
       "text": [
        "idx: 375\tloss: 4.5997681617737\ttrain score: 4.1016666666667\tlabel: 77\tprediction: [1]62 [2]40 [3]30 [4]76 [5]9\t\n"
       ]
      },
      {
       "metadata": {},
       "output_type": "pyout",
       "prompt_number": 31,
       "text": [
        "idx: 380\tloss: 4.5989465713501\ttrain score: 3.9433333333333\tlabel: 73\tprediction: [1]62 [2]9 [3]82 [4]28 [5]33\t\n"
       ]
      },
      {
       "metadata": {},
       "output_type": "pyout",
       "prompt_number": 31,
       "text": [
        "idx: 385\tloss: 4.5993905067444\ttrain score: 4.6383333333333\tlabel: 70\tprediction: [1]62 [2]30 [3]82 [4]76 [5]35\t\n"
       ]
      },
      {
       "metadata": {},
       "output_type": "pyout",
       "prompt_number": 31,
       "text": [
        "idx: 390\tloss: 4.5985960960388\ttrain score: 5.2166666666667\tlabel: 42\tprediction: [1]72 [2]76 [3]35 [4]2 [5]1\t\n"
       ]
      },
      {
       "metadata": {},
       "output_type": "pyout",
       "prompt_number": 31,
       "text": [
        "idx: 395\tloss: 4.5984587669373\ttrain score: 4.1333333333333\tlabel: 40\tprediction: [1]19 [2]35 [3]10 [4]62 [5]76\t\n"
       ]
      },
      {
       "metadata": {},
       "output_type": "pyout",
       "prompt_number": 31,
       "text": [
        "idx: 400\tloss: 4.5998969078064\ttrain score: 3.8983333333333\tlabel: 41\tprediction: [1]62 [2]3 [3]9 [4]98 [5]30\t\n"
       ]
      },
      {
       "metadata": {},
       "output_type": "pyout",
       "prompt_number": 31,
       "text": [
        "idx: 405\tloss: 4.601010799408\ttrain score: 3.6716666666667\tlabel: 88\tprediction: [1]62 [2]40 [3]35 [4]37 [5]19\t\n"
       ]
      },
      {
       "metadata": {},
       "output_type": "pyout",
       "prompt_number": 31,
       "text": [
        "idx: 410\tloss: 4.6004872322083\ttrain score: 4.3416666666667\tlabel: 13\tprediction: [1]20 [2]5 [3]2 [4]99 [5]76\t\n"
       ]
      },
      {
       "metadata": {},
       "output_type": "pyout",
       "prompt_number": 31,
       "text": [
        "idx: 415\tloss: 4.5982728004456\ttrain score: 4.8266666666667\tlabel: 53\tprediction: [1]20 [2]35 [3]76 [4]2 [5]37\t\n"
       ]
      },
      {
       "metadata": {},
       "output_type": "pyout",
       "prompt_number": 31,
       "text": [
        "idx: 420\tloss: 4.5983500480652\ttrain score: 4.5116666666667\tlabel: 29\tprediction: [1]62 [2]9 [3]82 [4]30 [5]76\t\n"
       ]
      },
      {
       "metadata": {},
       "output_type": "pyout",
       "prompt_number": 31,
       "text": [
        "idx: 425\tloss: 4.598427772522\ttrain score: 4.7983333333333\tlabel: 82\tprediction: [1]62 [2]76 [3]9 [4]28 [5]68\t\n"
       ]
      },
      {
       "metadata": {},
       "output_type": "pyout",
       "prompt_number": 31,
       "text": [
        "idx: 430\tloss: 4.5993156433105\ttrain score: 5.255\tlabel: 44\tprediction: [1]62 [2]9 [3]28 [4]82 [5]76\t"
       ]
      },
      {
       "metadata": {},
       "output_type": "pyout",
       "prompt_number": 31,
       "text": [
        "\n"
       ]
      },
      {
       "metadata": {},
       "output_type": "pyout",
       "prompt_number": 31,
       "text": [
        "idx: 435\tloss: 4.5995898246765\ttrain score: 4.775\tlabel: 95\tprediction: [1]62 [2]76 [3]82 [4]30 [5]28\t\n"
       ]
      },
      {
       "metadata": {},
       "output_type": "pyout",
       "prompt_number": 31,
       "text": [
        "idx: 440\tloss: 4.5986571311951\ttrain score: 4.4916666666667\tlabel: 49\tprediction: [1]2 [2]1 [3]30 [4]9 [5]32\t\n"
       ]
      },
      {
       "metadata": {},
       "output_type": "pyout",
       "prompt_number": 31,
       "text": [
        "idx: 445\tloss: 4.6000108718872\ttrain score: 4.5\tlabel: 45\tprediction: [1]9 [2]1 [3]20 [4]76 [5]2\t\n"
       ]
      },
      {
       "metadata": {},
       "output_type": "pyout",
       "prompt_number": 31,
       "text": [
        "idx: 450\tloss: 4.5996069908142\ttrain score: 3.62\tlabel: 85\tprediction: [1]62 [2]9 [3]76 [4]40 [5]42\t\n"
       ]
      },
      {
       "metadata": {},
       "output_type": "pyout",
       "prompt_number": 31,
       "text": [
        "idx: 455\tloss: 4.5969500541687\ttrain score: 5.3416666666667\tlabel: 20\tprediction: [1]20 [2]96 [3]72 [4]35 [5]76\t\n"
       ]
      },
      {
       "metadata": {},
       "output_type": "pyout",
       "prompt_number": 31,
       "text": [
        "idx: 460\tloss: 4.6002984046936\ttrain score: 4.2966666666667\tlabel: 66\tprediction: [1]72 [2]88 [3]2 [4]19 [5]20\t\n"
       ]
      },
      {
       "metadata": {},
       "output_type": "pyout",
       "prompt_number": 31,
       "text": [
        "idx: 465\tloss: 4.5984950065613\ttrain score: 4.055\tlabel: 5\tprediction: [1]20 [2]37 [3]72 [4]57 [5]35\t\n"
       ]
      },
      {
       "metadata": {},
       "output_type": "pyout",
       "prompt_number": 31,
       "text": [
        "idx: 470\tloss: 4.59938621521\ttrain score: 4.0483333333333\tlabel: 74\tprediction: [1]76 [2]2 [3]62 [4]1 [5]49\t\n"
       ]
      },
      {
       "metadata": {},
       "output_type": "pyout",
       "prompt_number": 31,
       "text": [
        "idx: 475\tloss: 4.6005439758301\ttrain score: 4.7133333333333\tlabel: 23\tprediction: [1]42 [2]88 [3]37 [4]2 [5]62\t\n"
       ]
      },
      {
       "metadata": {},
       "output_type": "pyout",
       "prompt_number": 31,
       "text": [
        "idx: 480\tloss: 4.5993995666504\ttrain score: 4.035\tlabel: 100\tprediction: [1]22 [2]19 [3]37 [4]88 [5]20\t\n"
       ]
      },
      {
       "metadata": {},
       "output_type": "pyout",
       "prompt_number": 31,
       "text": [
        "idx: 485\tloss: 4.5985908508301\ttrain score: 4.3733333333333\tlabel: 29\tprediction: [1]62 [2]76 [3]81 [4]9 [5]82\t\n"
       ]
      },
      {
       "metadata": {},
       "output_type": "pyout",
       "prompt_number": 31,
       "text": [
        "idx: 490\tloss: 4.5987796783447\ttrain score: 5.4133333333333\tlabel: 13\tprediction: [1]62 [2]28 [3]81 [4]86 [5]9\t\n"
       ]
      },
      {
       "metadata": {},
       "output_type": "pyout",
       "prompt_number": 31,
       "text": [
        "idx: 495\tloss: 4.5982332229614\ttrain score: 4.8966666666667\tlabel: 77\tprediction: [1]62 [2]30 [3]3 [4]76 [5]9\t\n"
       ]
      },
      {
       "metadata": {},
       "output_type": "pyout",
       "prompt_number": 31,
       "text": [
        "idx: 500\tloss: 4.5979356765747\ttrain score: 4.975\tlabel: 43\tprediction: [1]88 [2]20 [3]2 [4]1 [5]37\t\n"
       ]
      },
      {
       "metadata": {},
       "output_type": "pyout",
       "prompt_number": 31,
       "text": [
        "idx: 505\tloss: 4.5980105400085\ttrain score: 5.9466666666667\tlabel: 56\tprediction: [1]62 [2]30 [3]82 [4]9 [5]76\t\n"
       ]
      },
      {
       "metadata": {},
       "output_type": "pyout",
       "prompt_number": 31,
       "text": [
        "idx: 510\tloss: 4.5966038703918\ttrain score: 6.2333333333333\tlabel: 29\tprediction: [1]62 [2]82 [3]28 [4]30 [5]76\t\n"
       ]
      },
      {
       "metadata": {},
       "output_type": "pyout",
       "prompt_number": 31,
       "text": [
        "idx: 515\tloss: 4.5986394882202\ttrain score: 4.835\tlabel: 6\tprediction: [1]76 [2]35 [3]30 [4]32 [5]5\t\n"
       ]
      },
      {
       "metadata": {},
       "output_type": "pyout",
       "prompt_number": 31,
       "text": [
        "idx: 520\tloss: 4.5986852645874\ttrain score: 4.835\tlabel: 42\tprediction: [1]67 [2]1 [3]2 [4]55 [5]27\t\n"
       ]
      },
      {
       "metadata": {},
       "output_type": "pyout",
       "prompt_number": 31,
       "text": [
        "idx: 525\tloss: 4.5971665382385\t"
       ]
      },
      {
       "metadata": {},
       "output_type": "pyout",
       "prompt_number": 31,
       "text": [
        "train score: 4.8966666666667\tlabel: 94\tprediction: [1]62 [2]30 [3]82 [4]3 [5]28\t\n"
       ]
      },
      {
       "metadata": {},
       "output_type": "pyout",
       "prompt_number": 31,
       "text": [
        "idx: 530\tloss: 4.5996894836426\ttrain score: 3.9516666666667\tlabel: 90\tprediction: [1]37 [2]2 [3]72 [4]20 [5]88\t\n"
       ]
      },
      {
       "metadata": {},
       "output_type": "pyout",
       "prompt_number": 31,
       "text": [
        "idx: 535\tloss: 4.5987253189087\ttrain score: 4.34\tlabel: 56\tprediction: [1]20 [2]2 [3]57 [4]37 [5]72\t\n"
       ]
      },
      {
       "metadata": {},
       "output_type": "pyout",
       "prompt_number": 31,
       "text": [
        "idx: 540\tloss: 4.5963945388794\ttrain score: 5.8216666666667\tlabel: 59\tprediction: [1]62 [2]76 [3]40 [4]86 [5]82\t\n"
       ]
      },
      {
       "metadata": {},
       "output_type": "pyout",
       "prompt_number": 31,
       "text": [
        "idx: 545\tloss: 4.5981192588806\ttrain score: 4.375\tlabel: 27\tprediction: [1]62 [2]82 [3]76 [4]9 [5]1\t\n"
       ]
      },
      {
       "metadata": {},
       "output_type": "pyout",
       "prompt_number": 31,
       "text": [
        "idx: 550\tloss: 4.5970811843872\ttrain score: 6.1766666666667\tlabel: 12\tprediction: [1]9 [2]35 [3]76 [4]38 [5]98\t\n"
       ]
      },
      {
       "metadata": {},
       "output_type": "pyout",
       "prompt_number": 31,
       "text": [
        "idx: 555\tloss: 4.5966324806213\ttrain score: 5.3066666666667\tlabel: 79\tprediction: [1]62 [2]30 [3]76 [4]9 [5]28\t\n"
       ]
      },
      {
       "metadata": {},
       "output_type": "pyout",
       "prompt_number": 31,
       "text": [
        "idx: 560\tloss: 4.596978187561\ttrain score: 5.235\tlabel: 91\tprediction: [1]62 [2]19 [3]11 [4]67 [5]2\t\n"
       ]
      },
      {
       "metadata": {},
       "output_type": "pyout",
       "prompt_number": 31,
       "text": [
        "idx: 565\tloss: 4.5984258651733\ttrain score: 5.4566666666667\tlabel: 49\tprediction: [1]62 [2]82 [3]67 [4]40 [5]30\t\n"
       ]
      },
      {
       "metadata": {},
       "output_type": "pyout",
       "prompt_number": 31,
       "text": [
        "idx: 570\tloss: 4.596969127655\ttrain score: 4.905\tlabel: 93\tprediction: [1]30 [2]49 [3]2 [4]62 [5]11\t\n"
       ]
      },
      {
       "metadata": {},
       "output_type": "pyout",
       "prompt_number": 31,
       "text": [
        "idx: 575\tloss: 4.5974612236023\ttrain score: 5.0433333333333\tlabel: 6\tprediction: [1]62 [2]82 [3]9 [4]86 [5]40\t\n"
       ]
      },
      {
       "metadata": {},
       "output_type": "pyout",
       "prompt_number": 31,
       "text": [
        "idx: 580\tloss: 4.598560333252\ttrain score: 4.5416666666667\tlabel: 52\tprediction: [1]62 [2]30 [3]28 [4]76 [5]86\t\n"
       ]
      },
      {
       "metadata": {},
       "output_type": "pyout",
       "prompt_number": 31,
       "text": [
        "idx: 585\tloss: 4.5961747169495\ttrain score: 5.91\tlabel: 45\tprediction: [1]76 [2]62 [3]28 [4]32 [5]9\t\n"
       ]
      },
      {
       "metadata": {},
       "output_type": "pyout",
       "prompt_number": 31,
       "text": [
        "idx: 590\tloss: 4.6007761955261\ttrain score: 4.0766666666667\tlabel: 36\tprediction: [1]76 [2]2 [3]62 [4]9 [5]1\t\n"
       ]
      },
      {
       "metadata": {},
       "output_type": "pyout",
       "prompt_number": 31,
       "text": [
        "idx: 595\tloss: 4.5958819389343\ttrain score: 5.975\tlabel: 66\tprediction: [1]2 [2]20 [3]67 [4]88 [5]37\t\n"
       ]
      },
      {
       "metadata": {},
       "output_type": "pyout",
       "prompt_number": 31,
       "text": [
        "idx: 600\tloss: 4.5953731536865\ttrain score: 5.01\tlabel: 23\tprediction: [1]62 [2]9 [3]28 [4]60 [5]82\t\n"
       ]
      },
      {
       "metadata": {},
       "output_type": "pyout",
       "prompt_number": 31,
       "text": [
        "idx: 605\tloss: 4.5943131446838\ttrain score: 5.6833333333333\tlabel: 61\tprediction: [1]62 [2]28 [3]76 [4]86 [5]82\t\n"
       ]
      },
      {
       "metadata": {},
       "output_type": "pyout",
       "prompt_number": 31,
       "text": [
        "idx: 610\tloss: 4.5972385406494\ttrain score: 5.2866666666667\tlabel: 95\tprediction: [1]20 [2]72 [3]37 [4]88 [5]57\t\n"
       ]
      },
      {
       "metadata": {},
       "output_type": "pyout",
       "prompt_number": 31,
       "text": [
        "idx: 615\tloss: 4.5974149703979\ttrain score: 4.3733333333333\tlabel: 80\tprediction: [1]2 [2]72 [3]46 [4]89 [5]37\t\n"
       ]
      },
      {
       "metadata": {},
       "output_type": "pyout",
       "prompt_number": 31,
       "text": [
        "idx: 620\tloss: 4.5946283340454\ttrain score: 5.3666666666667\tlabel: 38\tprediction: [1]62 [2]35 [3]76 [4]43 [5]9\t\n"
       ]
      },
      {
       "metadata": {},
       "output_type": "pyout",
       "prompt_number": 31,
       "text": [
        "idx: 625\tloss: 4.5953621864319\ttrain score: 6.5883333333333\tlabel: 15\tprediction: [1]37 [2]20 [3]35 [4]88 [5]24\t\n"
       ]
      },
      {
       "metadata": {},
       "output_type": "pyout",
       "prompt_number": 31,
       "text": [
        "idx: 630\tloss: 4.5954594612122\ttrain score: 5.355\tlabel: 99\tprediction: [1]2 [2]25 [3]32 [4]98 [5]5\t\n"
       ]
      },
      {
       "metadata": {},
       "output_type": "pyout",
       "prompt_number": 31,
       "text": [
        "idx: 635\tloss: 4.5964894294739\ttrain score: 6.0283333333333\tlabel: 71\tprediction: [1]20 [2]37 [3]2 [4]57 [5]72\t\n"
       ]
      },
      {
       "metadata": {},
       "output_type": "pyout",
       "prompt_number": 31,
       "text": [
        "idx: 640\tloss: 4.5943918228149\ttrain score: 6.2166666666667\tlabel: 90\tprediction: [1]96 [2]57 [3]30 [4]76 [5]20\t\n"
       ]
      },
      {
       "metadata": {},
       "output_type": "pyout",
       "prompt_number": 31,
       "text": [
        "idx: 645\tloss: 4.5967216491699\ttrain score: 5.5683333333333\tlabel: 72\tprediction: [1]27 [2]32 [3]60 [4]18 [5]2\t\n"
       ]
      },
      {
       "metadata": {},
       "output_type": "pyout",
       "prompt_number": 31,
       "text": [
        "idx: 650\tloss: 4.5958380699158\ttrain score: 5.5333333333333\tlabel: 98\tprediction: [1]20 [2]72 [3]5 [4]37 [5]57\t\n"
       ]
      },
      {
       "metadata": {},
       "output_type": "pyout",
       "prompt_number": 31,
       "text": [
        "idx: 655\tloss: 4.5962405204773\ttrain score: 4.835\tlabel: 7\tprediction: [1]62 [2]28 [3]76 [4]68 [5]81\t\n"
       ]
      },
      {
       "metadata": {},
       "output_type": "pyout",
       "prompt_number": 31,
       "text": [
        "idx: 660\tloss: 4.5976991653442\ttrain score: 4.0616666666667\tlabel: 85\tprediction: [1]62 [2]30 [3]28 [4]60 [5]32\t\n"
       ]
      },
      {
       "metadata": {},
       "output_type": "pyout",
       "prompt_number": 31,
       "text": [
        "idx: 665\tloss: 4.5960922241211\ttrain score: 6.0133333333333\tlabel: 2\tprediction: [1]2 [2]72 [3]46 [4]89 [5]37\t\n"
       ]
      },
      {
       "metadata": {},
       "output_type": "pyout",
       "prompt_number": 31,
       "text": [
        "idx: 670\tloss: 4.5941996574402\ttrain score: 5.795\tlabel: 20\tprediction: [1]20 [2]96 [3]35 [4]2 [5]88\t\n"
       ]
      },
      {
       "metadata": {},
       "output_type": "pyout",
       "prompt_number": 31,
       "text": [
        "idx: 675\tloss: 4.5975546836853\ttrain score: 4.9916666666667\tlabel: 82\tprediction: [1]76 [2]35 [3]62 [4]93 [5]67\t\n"
       ]
      },
      {
       "metadata": {},
       "output_type": "pyout",
       "prompt_number": 31,
       "text": [
        "idx: 680\tloss: 4.5965385437012\ttrain score: 5.5266666666667\tlabel: 14\tprediction: [1]2 [2]35 [3]19 [4]37 [5]5\t\n"
       ]
      },
      {
       "metadata": {},
       "output_type": "pyout",
       "prompt_number": 31,
       "text": [
        "idx: 685\tloss: 4.5982356071472\ttrain score: 5.825\tlabel: 67\tprediction: [1]2 [2]67 [3]88 [4]72 [5]20\t\n"
       ]
      },
      {
       "metadata": {},
       "output_type": "pyout",
       "prompt_number": 31,
       "text": [
        "idx: 690\tloss: 4.5962810516357\ttrain score: 5.6366666666667\tlabel: 4\tprediction: [1]20 [2]2 [3]57 [4]72 [5]88\t\n"
       ]
      },
      {
       "metadata": {},
       "output_type": "pyout",
       "prompt_number": 31,
       "text": [
        "idx: 695\tloss: 4.5956802368164\ttrain score: 5.1066666666667\tlabel: 53\tprediction: [1]88 [2]2 [3]72 [4]1 [5]20\t\n"
       ]
      },
      {
       "metadata": {},
       "output_type": "pyout",
       "prompt_number": 31,
       "text": [
        "idx: 700\tloss: 4.5941162109375\ttrain score: 5.8866666666667\tlabel: 87\tprediction: [1]76 [2]20 [3]1 [4]2 [5]30\t\n"
       ]
      },
      {
       "metadata": {},
       "output_type": "pyout",
       "prompt_number": 31,
       "text": [
        "idx: 705\tloss: 4.5954775810242\ttrain score: 5.6633333333333\tlabel: 18\tprediction: [1]20 [2]2 [3]72 [4]35 [5]37\t\n"
       ]
      },
      {
       "metadata": {},
       "output_type": "pyout",
       "prompt_number": 31,
       "text": [
        "idx: 710\tloss: 4.5965828895569\ttrain score: 6.2816666666667\tlabel: 41\tprediction: [1]2 [2]20 [3]72 [4]37 [5]86\t\n"
       ]
      },
      {
       "metadata": {},
       "output_type": "pyout",
       "prompt_number": 31,
       "text": [
        "idx: 715\tloss: 4.5968837738037\ttrain score: 5.6766666666667\tlabel: 71\tprediction: [1]20 [2]2 [3]57 [4]1 [5]96\t\n"
       ]
      },
      {
       "metadata": {},
       "output_type": "pyout",
       "prompt_number": 31,
       "text": [
        "idx: 720\tloss: 4.5953693389893\ttrain score: 5.5966666666667\tlabel: 53\tprediction: [1]72 [2]1 [3]20 [4]35 [5]88\t\n"
       ]
      },
      {
       "metadata": {},
       "output_type": "pyout",
       "prompt_number": 31,
       "text": [
        "idx: 725\tloss: 4.5951147079468\ttrain score: 5.0916666666667\tlabel: 95\tprediction: [1]20 [2]72 [3]88 [4]2 [5]37\t\n"
       ]
      },
      {
       "metadata": {},
       "output_type": "pyout",
       "prompt_number": 31,
       "text": [
        "idx: 730\tloss: 4.5952515602112\ttrain score: 5.2683333333333\tlabel: 76\tprediction: [1]20 [2]35 [3]72 [4]50 [5]96\t\n"
       ]
      },
      {
       "metadata": {},
       "output_type": "pyout",
       "prompt_number": 31,
       "text": [
        "idx: 735\tloss: 4.5962028503418\ttrain score: 6.24\tlabel: 45\tprediction: [1]72 [2]5 [3]88 [4]2 [5]20\t\n"
       ]
      },
      {
       "metadata": {},
       "output_type": "pyout",
       "prompt_number": 31,
       "text": [
        "idx: 740\tloss: 4.594735622406\ttrain score: 6.365\tlabel: 25\tprediction: [1]2 [2]72 [3]35 [4]20 [5]1\t\n"
       ]
      },
      {
       "metadata": {},
       "output_type": "pyout",
       "prompt_number": 31,
       "text": [
        "idx: 745\tloss: 4.595009803772\ttrain score: 6.5116666666667\tlabel: 9\tprediction: [1]37 [2]72 [3]2 [4]20 [5]57\t\n"
       ]
      },
      {
       "metadata": {},
       "output_type": "pyout",
       "prompt_number": 31,
       "text": [
        "idx: 750\tloss: 4.5968012809753\ttrain score: 5.3933333333333\tlabel: 91\tprediction: [1]62 [2]28 [3]30 [4]82 [5]9\t\n"
       ]
      },
      {
       "metadata": {},
       "output_type": "pyout",
       "prompt_number": 31,
       "text": [
        "idx: 755\tloss: 4.5923194885254\ttrain score: 6.435\tlabel: 50\tprediction: [1]20 [2]72 [3]2 [4]88 [5]57\t\n"
       ]
      },
      {
       "metadata": {},
       "output_type": "pyout",
       "prompt_number": 31,
       "text": [
        "idx: 760\tloss: 4.5940327644348\ttrain score: 5.705\tlabel: 82\tprediction: [1]62 [2]82 [3]76 [4]40 [5]86\t\n"
       ]
      },
      {
       "metadata": {},
       "output_type": "pyout",
       "prompt_number": 31,
       "text": [
        "idx: 765\tloss: 4.5953660011292\ttrain score: 6.1266666666667\tlabel: 78\tprediction: [1]20 [2]88 [3]2 [4]72 [5]1\t"
       ]
      },
      {
       "metadata": {},
       "output_type": "pyout",
       "prompt_number": 31,
       "text": [
        "\n"
       ]
      },
      {
       "metadata": {},
       "output_type": "pyout",
       "prompt_number": 31,
       "text": [
        "idx: 770\tloss: 4.5988831520081\ttrain score: 4.7366666666667\tlabel: 81\tprediction: [1]62 [2]82 [3]28 [4]76 [5]9\t\n"
       ]
      },
      {
       "metadata": {},
       "output_type": "pyout",
       "prompt_number": 31,
       "text": [
        "idx: 775\tloss: 4.5956482887268\ttrain score: 5.9383333333333\tlabel: 27\tprediction: [1]2 [2]96 [3]35 [4]98 [5]5\t\n"
       ]
      },
      {
       "metadata": {},
       "output_type": "pyout",
       "prompt_number": 31,
       "text": [
        "idx: 780\tloss: 4.5954833030701\ttrain score: 4.87\tlabel: 28\tprediction: [1]62 [2]76 [3]86 [4]9 [5]82\t\n"
       ]
      },
      {
       "metadata": {},
       "output_type": "pyout",
       "prompt_number": 31,
       "text": [
        "idx: 785\tloss: 4.5938491821289\ttrain score: 5.0316666666667\tlabel: 66\tprediction: [1]88 [2]72 [3]2 [4]37 [5]5\t\n"
       ]
      },
      {
       "metadata": {},
       "output_type": "pyout",
       "prompt_number": 31,
       "text": [
        "idx: 790\tloss: 4.5967555046082\ttrain score: 5.1416666666667\tlabel: 62\tprediction: [1]62 [2]9 [3]28 [4]40 [5]30\t\n"
       ]
      },
      {
       "metadata": {},
       "output_type": "pyout",
       "prompt_number": 31,
       "text": [
        "idx: 795\tloss: 4.5941066741943\ttrain score: 5.8266666666667\tlabel: 88\tprediction: [1]35 [2]20 [3]72 [4]67 [5]57\t\n"
       ]
      },
      {
       "metadata": {},
       "output_type": "pyout",
       "prompt_number": 31,
       "text": [
        "idx: 800\tloss: 4.5939359664917\ttrain score: 6.3283333333333\tlabel: 90\tprediction: [1]2 [2]72 [3]88 [4]20 [5]1\t\n"
       ]
      },
      {
       "metadata": {},
       "output_type": "pyout",
       "prompt_number": 31,
       "text": [
        "idx: 805\tloss: 4.5918917655945\ttrain score: 6.4983333333333\tlabel: 88\tprediction: [1]88 [2]2 [3]72 [4]37 [5]57\t\n"
       ]
      },
      {
       "metadata": {},
       "output_type": "pyout",
       "prompt_number": 31,
       "text": [
        "idx: 810\tloss: 4.594687461853\ttrain score: 5.295\tlabel: 71\tprediction: [1]2 [2]20 [3]57 [4]72 [5]37\t\n"
       ]
      },
      {
       "metadata": {},
       "output_type": "pyout",
       "prompt_number": 31,
       "text": [
        "idx: 815\tloss: 4.5960083007812\ttrain score: 6.0233333333333\tlabel: 69\tprediction: [1]62 [2]3 [3]76 [4]2 [5]30\t\n"
       ]
      },
      {
       "metadata": {},
       "output_type": "pyout",
       "prompt_number": 31,
       "text": [
        "idx: 820\tloss: 4.5939183235168\ttrain score: 6.3766666666667\tlabel: 10\t"
       ]
      },
      {
       "metadata": {},
       "output_type": "pyout",
       "prompt_number": 31,
       "text": [
        "prediction: [1]2 [2]30 [3]32 [4]72 [5]92\t\n"
       ]
      },
      {
       "metadata": {},
       "output_type": "pyout",
       "prompt_number": 31,
       "text": [
        "idx: 825\tloss: 4.593909740448\ttrain score: 5.9916666666667\tlabel: 99\tprediction: [1]62 [2]28 [3]30 [4]81 [5]82\t\n"
       ]
      },
      {
       "metadata": {},
       "output_type": "pyout",
       "prompt_number": 31,
       "text": [
        "idx: 830\tloss: 4.5941700935364\ttrain score: 6.3183333333333\tlabel: 44\tprediction: [1]5 [2]72 [3]88 [4]57 [5]19\t\n"
       ]
      },
      {
       "metadata": {},
       "output_type": "pyout",
       "prompt_number": 31,
       "text": [
        "idx: 835\tloss: 4.5955338478088\ttrain score: 5.6816666666667\tlabel: 30\tprediction: [1]20 [2]72 [3]88 [4]2 [5]50\t\n"
       ]
      },
      {
       "metadata": {},
       "output_type": "pyout",
       "prompt_number": 31,
       "text": [
        "idx: 840\tloss: 4.5942411422729\ttrain score: 5.5716666666667\tlabel: 95\tprediction: [1]2 [2]5 [3]88 [4]72 [5]67\t\n"
       ]
      },
      {
       "metadata": {},
       "output_type": "pyout",
       "prompt_number": 31,
       "text": [
        "idx: 845\tloss: 4.5936450958252\ttrain score: 6.2716666666667\tlabel: 3\tprediction: [1]2 [2]20 [3]35 [4]57 [5]72\t\n"
       ]
      },
      {
       "metadata": {},
       "output_type": "pyout",
       "prompt_number": 31,
       "text": [
        "idx: 850\tloss: 4.5967831611633\ttrain score: 4.6716666666667\tlabel: 14\tprediction: [1]20 [2]2 [3]1 [4]72 [5]57\t\n"
       ]
      },
      {
       "metadata": {},
       "output_type": "pyout",
       "prompt_number": 31,
       "text": [
        "idx: 855\tloss: 4.5933570861816\ttrain score: 5.7133333333333\tlabel: 13\tprediction: [1]19 [2]2 [3]20 [4]37 [5]88\t\n"
       ]
      },
      {
       "metadata": {},
       "output_type": "pyout",
       "prompt_number": 31,
       "text": [
        "idx: 860\tloss: 4.5937514305115\ttrain score: 5.9416666666667\tlabel: 88\tprediction: [1]20 [2]72 [3]1 [4]35 [5]88\t\n"
       ]
      },
      {
       "metadata": {},
       "output_type": "pyout",
       "prompt_number": 31,
       "text": [
        "idx: 865\tloss: 4.5911087989807\ttrain score: 7.6466666666667\tlabel: 17\tprediction: [1]62 [2]28 [3]30 [4]76 [5]81\t\n"
       ]
      },
      {
       "metadata": {},
       "output_type": "pyout",
       "prompt_number": 31,
       "text": [
        "idx: 870\tloss: 4.5916495323181\ttrain score: 6.8583333333333\tlabel: 21\tprediction: [1]62 [2]3 [3]76 [4]98 [5]30\t\n"
       ]
      },
      {
       "metadata": {},
       "output_type": "pyout",
       "prompt_number": 31,
       "text": [
        "idx: 875\tloss: 4.5931763648987\ttrain score: 5.27\tlabel: 23\tprediction: [1]20 [2]2 [3]50 [4]72 [5]88\t\n"
       ]
      },
      {
       "metadata": {},
       "output_type": "pyout",
       "prompt_number": 31,
       "text": [
        "idx: 880\tloss: 4.5916152000427\ttrain score: 5.895\tlabel: 58\tprediction: [1]76 [2]57 [3]2 [4]20 [5]30\t\n"
       ]
      },
      {
       "metadata": {},
       "output_type": "pyout",
       "prompt_number": 31,
       "text": [
        "idx: 885\t"
       ]
      },
      {
       "metadata": {},
       "output_type": "pyout",
       "prompt_number": 31,
       "text": [
        "loss: 4.5931406021118\ttrain score: 6.34\tlabel: 79\tprediction: [1]62 [2]9 [3]30 [4]76 [5]68\t\n"
       ]
      },
      {
       "metadata": {},
       "output_type": "pyout",
       "prompt_number": 31,
       "text": [
        "idx: 890\tloss: 4.592719078064\ttrain score: 6.3983333333333\tlabel: 65\tprediction: [1]2 [2]57 [3]88 [4]20 [5]96\t\n"
       ]
      },
      {
       "metadata": {},
       "output_type": "pyout",
       "prompt_number": 31,
       "text": [
        "idx: 895\tloss: 4.5960178375244\ttrain score: 5.1233333333333\tlabel: 45\t"
       ]
      },
      {
       "metadata": {},
       "output_type": "pyout",
       "prompt_number": 31,
       "text": [
        "prediction: [1]76 [2]72 [3]2 [4]20 [5]88\t\n"
       ]
      },
      {
       "metadata": {},
       "output_type": "pyout",
       "prompt_number": 31,
       "text": [
        "idx: 900\tloss: 4.5945377349854\ttrain score: 5.4416666666667\tlabel: 81\tprediction: [1]62 [2]28 [3]81 [4]68 [5]76\t\n"
       ]
      },
      {
       "metadata": {},
       "output_type": "pyout",
       "prompt_number": 31,
       "text": [
        "idx: 905\tloss: 4.5913953781128\ttrain score: 6.3716666666667\tlabel: 81\tprediction: [1]35 [2]20 [3]76 [4]32 [5]23\t\n"
       ]
      },
      {
       "metadata": {},
       "output_type": "pyout",
       "prompt_number": 31,
       "text": [
        "idx: 910\tloss: 4.5930151939392\ttrain score: 6.3633333333333\tlabel: 84\tprediction: [1]20 [2]2 [3]57 [4]1 [5]72\t\n"
       ]
      },
      {
       "metadata": {},
       "output_type": "pyout",
       "prompt_number": 31,
       "text": [
        "idx: 915\tloss: 4.5937414169312\ttrain score: 5.7516666666667\tlabel: 38\tprediction: [1]20 [2]72 [3]35 [4]2 [5]57\t\n"
       ]
      },
      {
       "metadata": {},
       "output_type": "pyout",
       "prompt_number": 31,
       "text": [
        "idx: 920\tloss: 4.5942044258118\ttrain score: 5.635\tlabel: 89\tprediction: [1]2 [2]72 [3]89 [4]46 [5]57\t\n"
       ]
      },
      {
       "metadata": {},
       "output_type": "pyout",
       "prompt_number": 31,
       "text": [
        "idx: 925\tloss: 4.5939817428589\ttrain score: 5.035\tlabel: 91\tprediction: [1]62 [2]76 [3]81 [4]82 [5]28\t\n"
       ]
      },
      {
       "metadata": {},
       "output_type": "pyout",
       "prompt_number": 31,
       "text": [
        "idx: 930\tloss: 4.5918941497803\ttrain score: 6.1516666666667\tlabel: 91\tprediction: [1]82 [2]2 [3]9 [4]62 [5]18\t\n"
       ]
      },
      {
       "metadata": {},
       "output_type": "pyout",
       "prompt_number": 31,
       "text": [
        "idx: 935\tloss: 4.59370470047\ttrain score: 5.9083333333333\tlabel: 28\tprediction: [1]62 [2]76 [3]9 [4]86 [5]28\t\n"
       ]
      },
      {
       "metadata": {},
       "output_type": "pyout",
       "prompt_number": 31,
       "text": [
        "idx: 940\tloss: 4.5934643745422\ttrain score: 5.9933333333333\tlabel: 68\tprediction: [1]20 [2]72 [3]50 [4]2 [5]76\t\n"
       ]
      },
      {
       "metadata": {},
       "output_type": "pyout",
       "prompt_number": 31,
       "text": [
        "idx: 945\tloss: 4.5914797782898\ttrain score: 6.4133333333333\tlabel: 27\tprediction: [1]54 [2]37 [3]35 [4]72 [5]62\t\n"
       ]
      },
      {
       "metadata": {},
       "output_type": "pyout",
       "prompt_number": 31,
       "text": [
        "idx: 950\tloss: 4.5923552513123\ttrain score: 5.9766666666667\tlabel: 4\tprediction: [1]2 [2]1 [3]62 [4]28 [5]38\t\n"
       ]
      },
      {
       "metadata": {},
       "output_type": "pyout",
       "prompt_number": 31,
       "text": [
        "idx: 955\tloss: 4.5910511016846\ttrain score: 5.8183333333333\tlabel: 29\tprediction: [1]2 [2]76 [3]19 [4]37 [5]32\t\n"
       ]
      },
      {
       "metadata": {},
       "output_type": "pyout",
       "prompt_number": 31,
       "text": [
        "idx: 960\tloss: 4.5945158004761\ttrain score: 5.6583333333333\tlabel: 58\tprediction: [1]62 [2]68 [3]28 [4]76 [5]30\t\n"
       ]
      },
      {
       "metadata": {},
       "output_type": "pyout",
       "prompt_number": 31,
       "text": [
        "idx: 965\tloss: 4.5904459953308\ttrain score: 5.5883333333333\tlabel: 19\tprediction: [1]2 [2]20 [3]35 [4]1 [5]88\t\n"
       ]
      },
      {
       "metadata": {},
       "output_type": "pyout",
       "prompt_number": 31,
       "text": [
        "idx: 970\tloss: 4.5929093360901\ttrain score: 6.75\tlabel: 61\tprediction: [1]57 [2]20 [3]96 [4]88 [5]30\t\n"
       ]
      },
      {
       "metadata": {},
       "output_type": "pyout",
       "prompt_number": 31,
       "text": [
        "idx: 975\tloss: 4.5910258293152\ttrain score: 5.325\tlabel: 12\tprediction: [1]62 [2]30 [3]9 [4]82 [5]68\t\n"
       ]
      },
      {
       "metadata": {},
       "output_type": "pyout",
       "prompt_number": 31,
       "text": [
        "idx: 980\tloss: 4.5919871330261\ttrain score: 5.9666666666667\tlabel: 43\tprediction: [1]62 [2]82 [3]28 [4]76 [5]30\t\n"
       ]
      },
      {
       "metadata": {},
       "output_type": "pyout",
       "prompt_number": 31,
       "text": [
        "idx: 985\tloss: 4.5902094841003\ttrain score: 5.8966666666667\tlabel: 70\tprediction: [1]57 [2]2 [3]20 [4]72 [5]88\t\n"
       ]
      },
      {
       "metadata": {},
       "output_type": "pyout",
       "prompt_number": 31,
       "text": [
        "idx: 990\tloss: 4.5926852226257\ttrain score: 6.3316666666667\tlabel: 32\tprediction: [1]5 [2]2 [3]88 [4]76 [5]72\t\n"
       ]
      },
      {
       "metadata": {},
       "output_type": "pyout",
       "prompt_number": 31,
       "text": [
        "idx: 995\tloss: 4.5940775871277\ttrain score: 4.7416666666667\tlabel: 52\tprediction: [1]2 [2]72 [3]20 [4]35 [5]1\t\n"
       ]
      },
      {
       "metadata": {},
       "output_type": "pyout",
       "prompt_number": 31,
       "text": [
        "idx: 1000\tloss: 4.5925297737122\ttrain score: 6.2416666666667\tlabel: 99\tprediction: [1]20 [2]35 [3]72 [4]2 [5]50\t\n"
       ]
      },
      {
       "metadata": {},
       "output_type": "pyout",
       "prompt_number": 31,
       "text": [
        "idx: 1005\tloss: 4.5908718109131\ttrain score: 6.6466666666667\tlabel: 33\tprediction: [1]72 [2]2 [3]20 [4]57 [5]37\t\n"
       ]
      },
      {
       "metadata": {},
       "output_type": "pyout",
       "prompt_number": 31,
       "text": [
        "idx: 1010\tloss: 4.5924687385559\ttrain score: 5.935\tlabel: 60\tprediction: [1]62 [2]28 [3]9 [4]30 [5]76\t\n"
       ]
      },
      {
       "metadata": {},
       "output_type": "pyout",
       "prompt_number": 31,
       "text": [
        "idx: 1015\tloss: 4.5938119888306\ttrain score: 5.4733333333333\tlabel: 15\tprediction: [1]62 [2]30 [3]82 [4]81 [5]28\t\n"
       ]
      },
      {
       "metadata": {},
       "output_type": "pyout",
       "prompt_number": 31,
       "text": [
        "idx: 1020\tloss: 4.5882878303528\ttrain score: 7.5433333333333\tlabel: 58\tprediction: [1]62 [2]81 [3]76 [4]49 [5]30\t\n"
       ]
      },
      {
       "metadata": {},
       "output_type": "pyout",
       "prompt_number": 31,
       "text": [
        "idx: 1025\tloss: 4.5891222953796\ttrain score: 6.3233333333333\tlabel: 54\tprediction: [1]76 [2]62 [3]5 [4]67 [5]82\t\n"
       ]
      },
      {
       "metadata": {},
       "output_type": "pyout",
       "prompt_number": 31,
       "text": [
        "idx: 1030\tloss: 4.5904040336609\ttrain score: 4.895\tlabel: 15\tprediction: [1]2 [2]96 [3]35 [4]20 [5]88\t\n"
       ]
      },
      {
       "metadata": {},
       "output_type": "pyout",
       "prompt_number": 31,
       "text": [
        "idx: 1035\tloss: 4.5939602851868\ttrain score: 5.415\tlabel: 2\tprediction: [1]2 [2]89 [3]72 [4]46 [5]57\t\n"
       ]
      },
      {
       "metadata": {},
       "output_type": "pyout",
       "prompt_number": 31,
       "text": [
        "idx: 1040\tloss: 4.5932364463806\ttrain score: 5.87\tlabel: 36\tprediction: [1]76 [2]19 [3]2 [4]25 [5]67\t\n"
       ]
      },
      {
       "metadata": {},
       "output_type": "pyout",
       "prompt_number": 31,
       "text": [
        "idx: 1045\tloss: 4.5928597450256\ttrain score: 5.0866666666667\tlabel: 52\tprediction: [1]2 [2]89 [3]72 [4]46 [5]20\t\n"
       ]
      },
      {
       "metadata": {},
       "output_type": "pyout",
       "prompt_number": 31,
       "text": [
        "idx: 1050\tloss: 4.5892443656921\ttrain score: 6.3\tlabel: 64\tprediction: [1]62 [2]28 [3]76 [4]68 [5]81\t\n"
       ]
      },
      {
       "metadata": {},
       "output_type": "pyout",
       "prompt_number": 31,
       "text": [
        "idx: 1055\tloss: 4.590362071991\ttrain score: 6.9283333333333\tlabel: 24\tprediction: [1]2 [2]72 [3]50 [4]37 [5]57\t\n"
       ]
      },
      {
       "metadata": {},
       "output_type": "pyout",
       "prompt_number": 31,
       "text": [
        "idx: 1060\tloss: 4.5909762382507\ttrain score: 6.7366666666667\tlabel: 87\tprediction: [1]20 [2]2 [3]1 [4]88 [5]35\t\n"
       ]
      },
      {
       "metadata": {},
       "output_type": "pyout",
       "prompt_number": 31,
       "text": [
        "idx: 1065\tloss: 4.5913500785828\ttrain score: 5.5866666666667\tlabel: 99\tprediction: [1]20 [2]72 [3]57 [4]88 [5]2\t\n"
       ]
      },
      {
       "metadata": {},
       "output_type": "pyout",
       "prompt_number": 31,
       "text": [
        "idx: 1070\tloss: 4.5890693664551\ttrain score: 7.6033333333333\tlabel: 29\tprediction: [1]62 [2]30 [3]19 [4]3 [5]9\t\n"
       ]
      },
      {
       "metadata": {},
       "output_type": "pyout",
       "prompt_number": 31,
       "text": [
        "idx: 1075\tloss: 4.5928964614868\ttrain score: 5.3916666666667\tlabel: 60\tprediction: [1]32 [2]27 [3]2 [4]71 [5]43\t\n"
       ]
      },
      {
       "metadata": {},
       "output_type": "pyout",
       "prompt_number": 31,
       "text": [
        "idx: 1080\tloss: 4.5897564888\ttrain score: 5.64\tlabel: 61\tprediction: [1]5 [2]67 [3]88 [4]2 [5]20\t\n"
       ]
      },
      {
       "metadata": {},
       "output_type": "pyout",
       "prompt_number": 31,
       "text": [
        "idx: 1085\tloss: 4.5920214653015\ttrain score: 5.875\tlabel: 23\tprediction: [1]20 [2]72 [3]37 [4]2 [5]50\t\n"
       ]
      },
      {
       "metadata": {},
       "output_type": "pyout",
       "prompt_number": 31,
       "text": [
        "idx: 1090\tloss: 4.5905055999756\ttrain score: 6.1516666666667\tlabel: 41\tprediction: [1]1 [2]67 [3]20 [4]76 [5]35\t\n"
       ]
      },
      {
       "metadata": {},
       "output_type": "pyout",
       "prompt_number": 31,
       "text": [
        "idx: 1095\tloss: 4.5904126167297\ttrain score: 5.7583333333333\tlabel: 25\tprediction: [1]2 [2]89 [3]72 [4]46 [5]20\t\n"
       ]
      },
      {
       "metadata": {},
       "output_type": "pyout",
       "prompt_number": 31,
       "text": [
        "idx: 1100\tloss: 4.5918660163879\ttrain score: 5.865\tlabel: 86\tprediction: [1]62 [2]28 [3]68 [4]54 [5]76\t\n"
       ]
      },
      {
       "metadata": {},
       "output_type": "pyout",
       "prompt_number": 31,
       "text": [
        "idx: 1105\tloss: 4.5928287506104\ttrain score: 6.1966666666667\tlabel: 26\tprediction: [1]20 [2]72 [3]2 [4]57 [5]88\t\n"
       ]
      },
      {
       "metadata": {},
       "output_type": "pyout",
       "prompt_number": 31,
       "text": [
        "idx: 1110\tloss: 4.589259147644\t"
       ]
      },
      {
       "metadata": {},
       "output_type": "pyout",
       "prompt_number": 31,
       "text": [
        "train score: 6.5566666666667\tlabel: 58\tprediction: [1]76 [2]35 [3]9 [4]18 [5]27\t\n"
       ]
      },
      {
       "metadata": {},
       "output_type": "pyout",
       "prompt_number": 31,
       "text": [
        "idx: 1115\tloss: 4.5901336669922\ttrain score: 6.43\tlabel: 87\tprediction: [1]62 [2]30 [3]67 [4]76 [5]19\t\n"
       ]
      },
      {
       "metadata": {},
       "output_type": "pyout",
       "prompt_number": 31,
       "text": [
        "idx: 1120\tloss: 4.5895767211914\ttrain score: 6.5433333333333\tlabel: 60\tprediction: [1]62 [2]28 [3]81 [4]30 [5]40\t\n"
       ]
      },
      {
       "metadata": {},
       "output_type": "pyout",
       "prompt_number": 31,
       "text": [
        "idx: 1125\tloss: 4.5903735160828\ttrain score: 6.14\tlabel: 75\tprediction: [1]75 [2]76 [3]89 [4]9 [5]18\t\n"
       ]
      },
      {
       "metadata": {},
       "output_type": "pyout",
       "prompt_number": 31,
       "text": [
        "idx: 1130\tloss: 4.5888123512268\ttrain score: 6.1433333333333\tlabel: 64\tprediction: [1]62 [2]28 [3]30 [4]82 [5]76\t\n"
       ]
      },
      {
       "metadata": {},
       "output_type": "pyout",
       "prompt_number": 31,
       "text": [
        "idx: 1135\t"
       ]
      },
      {
       "metadata": {},
       "output_type": "pyout",
       "prompt_number": 31,
       "text": [
        "loss: 4.587128162384\ttrain score: 6.2083333333333\tlabel: 4\tprediction: [1]2 [2]1 [3]76 [4]89 [5]35\t\n"
       ]
      },
      {
       "metadata": {},
       "output_type": "pyout",
       "prompt_number": 31,
       "text": [
        "idx: 1140\tloss: 4.5883612632751\ttrain score: 6.2183333333333\tlabel: 1\tprediction: [1]20 [2]2 [3]50 [4]35 [5]72\t\n"
       ]
      },
      {
       "metadata": {},
       "output_type": "pyout",
       "prompt_number": 31,
       "text": [
        "idx: 1145\tloss: 4.5868706703186\ttrain score: 7.4283333333333\tlabel: 16\tprediction: [1]20 [2]2 [3]50 [4]72 [5]35\t\n"
       ]
      },
      {
       "metadata": {},
       "output_type": "pyout",
       "prompt_number": 31,
       "text": [
        "idx: 1150\tloss: 4.588972568512\ttrain score: 6.5683333333333\tlabel: 94\tprediction: [1]20 [2]72 [3]2 [4]57 [5]1\t\n"
       ]
      },
      {
       "metadata": {},
       "output_type": "pyout",
       "prompt_number": 31,
       "text": [
        "idx: 1155\tloss: 4.5863680839539\ttrain score: 7.075\tlabel: 34\tprediction: [1]72 [2]20 [3]57 [4]2 [5]96\t\n"
       ]
      },
      {
       "metadata": {},
       "output_type": "pyout",
       "prompt_number": 31,
       "text": [
        "idx: 1160\tloss: 4.5909948348999\ttrain score: 6.8933333333333\tlabel: 18\tprediction: [1]67 [2]20 [3]88 [4]2 [5]72\t\n"
       ]
      },
      {
       "metadata": {},
       "output_type": "pyout",
       "prompt_number": 31,
       "text": [
        "idx: 1165\tloss: 4.5917358398438\ttrain score: 5.395\tlabel: 37\tprediction: [1]62 [2]28 [3]68 [4]86 [5]30\t\n"
       ]
      },
      {
       "metadata": {},
       "output_type": "pyout",
       "prompt_number": 31,
       "text": [
        "idx: 1170\tloss: 4.5871858596802\ttrain score: 7.0683333333333\tlabel: 34\tprediction: [1]2 [2]1 [3]71 [4]19 [5]20\t\n"
       ]
      },
      {
       "metadata": {},
       "output_type": "pyout",
       "prompt_number": 31,
       "text": [
        "idx: 1175\tloss: 4.5885653495789\ttrain score: 7.8283333333333\tlabel: 100\tprediction: [1]20 [2]72 [3]57 [4]2 [5]88\t\n"
       ]
      },
      {
       "metadata": {},
       "output_type": "pyout",
       "prompt_number": 31,
       "text": [
        "idx: 1180\tloss: 4.5927066802979\ttrain score: 5.3283333333333\tlabel: 25\tprediction: [1]2 [2]89 [3]72 [4]46 [5]57\t\n"
       ]
      },
      {
       "metadata": {},
       "output_type": "pyout",
       "prompt_number": 31,
       "text": [
        "idx: 1185\tloss: 4.5880126953125\ttrain score: 6.2283333333333\tlabel: 96\tprediction: [1]62 [2]81 [3]28 [4]30 [5]82\t\n"
       ]
      },
      {
       "metadata": {},
       "output_type": "pyout",
       "prompt_number": 31,
       "text": [
        "idx: 1190\tloss: 4.5897107124329\ttrain score: 6.6516666666667\tlabel: 98\tprediction: [1]20 [2]72 [3]57 [4]2 [5]88\t\n"
       ]
      },
      {
       "metadata": {},
       "output_type": "pyout",
       "prompt_number": 31,
       "text": [
        "idx: 1195\tloss: 4.5898356437683\ttrain score: 5.8866666666667\tlabel: 88\tprediction: [1]88 [2]72 [3]2 [4]20 [5]57\t\n"
       ]
      },
      {
       "metadata": {},
       "output_type": "pyout",
       "prompt_number": 31,
       "text": [
        "idx: 1200\tloss: 4.5865502357483\ttrain score: 6.0583333333333\tlabel: 18\tprediction: [1]20 [2]72 [3]2 [4]57 [5]88\t\n"
       ]
      },
      {
       "metadata": {},
       "output_type": "pyout",
       "prompt_number": 31,
       "text": [
        "idx: 1205\tloss: 4.5863971710205\ttrain score: 7.2583333333333\tlabel: 94\tprediction: [1]2 [2]1 [3]67 [4]35 [5]27\t\n"
       ]
      },
      {
       "metadata": {},
       "output_type": "pyout",
       "prompt_number": 31,
       "text": [
        "idx: 1210\tloss: 4.5883545875549\ttrain score: 6.3983333333333\tlabel: 85\tprediction: [1]20 [2]2 [3]96 [4]35 [5]72\t\n"
       ]
      },
      {
       "metadata": {},
       "output_type": "pyout",
       "prompt_number": 31,
       "text": [
        "idx: 1215\tloss: 4.5888967514038\ttrain score: 6.06\tlabel: 28\tprediction: [1]62 [2]30 [3]81 [4]28 [5]54\t\n"
       ]
      },
      {
       "metadata": {},
       "output_type": "pyout",
       "prompt_number": 31,
       "text": [
        "idx: 1220\tloss: 4.588855266571\ttrain score: 5.625\tlabel: 73\tprediction: [1]2 [2]20 [3]35 [4]1 [5]57\t\n"
       ]
      },
      {
       "metadata": {},
       "output_type": "pyout",
       "prompt_number": 31,
       "text": [
        "idx: 1225\tloss: 4.588746547699\ttrain score: 6.5533333333333\tlabel: 58\tprediction: [1]76 [2]82 [3]27 [4]30 [5]98\t\n"
       ]
      },
      {
       "metadata": {},
       "output_type": "pyout",
       "prompt_number": 31,
       "text": [
        "idx: 1230\tloss: 4.5877294540405\ttrain score: 7.82\tlabel: 24\tprediction: [1]20 [2]72 [3]2 [4]57 [5]5\t\n"
       ]
      },
      {
       "metadata": {},
       "output_type": "pyout",
       "prompt_number": 31,
       "text": [
        "idx: 1235\tloss: 4.5889821052551\ttrain score: 6.305\tlabel: 57\tprediction: [1]72 [2]20 [3]2 [4]57 [5]88\t\n"
       ]
      },
      {
       "metadata": {},
       "output_type": "pyout",
       "prompt_number": 31,
       "text": [
        "idx: 1240\tloss: 4.587384223938\ttrain score: 7.075\tlabel: 73\tprediction: [1]62 [2]30 [3]28 [4]68 [5]76\t\n"
       ]
      },
      {
       "metadata": {},
       "output_type": "pyout",
       "prompt_number": 31,
       "text": [
        "idx: 1245\tloss: 4.5889596939087\ttrain score: 6.1666666666667\tlabel: 18\tprediction: [1]62 [2]28 [3]76 [4]30 [5]81\t\n"
       ]
      },
      {
       "metadata": {},
       "output_type": "pyout",
       "prompt_number": 31,
       "text": [
        "idx: 1250\tloss: 4.5877618789673\ttrain score: 7.065\tlabel: 67\tprediction: [1]62 [2]28 [3]81 [4]30 [5]82\t\n"
       ]
      },
      {
       "metadata": {},
       "output_type": "pyout",
       "prompt_number": 31,
       "text": [
        "idx: 1255\tloss: 4.589629650116\ttrain score: 6.3916666666667\tlabel: 52\tprediction: [1]20 [2]2 [3]72 [4]57 [5]35\t\n"
       ]
      },
      {
       "metadata": {},
       "output_type": "pyout",
       "prompt_number": 31,
       "text": [
        "idx: 1260\tloss: 4.5903358459473\ttrain score: 6.0133333333333\tlabel: 1\tprediction: [1]2 [2]20 [3]35 [4]88 [5]72\t\n"
       ]
      },
      {
       "metadata": {},
       "output_type": "pyout",
       "prompt_number": 31,
       "text": [
        "idx: 1265\tloss: 4.5863971710205\ttrain score: 5.5666666666667\tlabel: 93\tprediction: [1]2 [2]20 [3]72 [4]27 [5]99\t\n"
       ]
      },
      {
       "metadata": {},
       "output_type": "pyout",
       "prompt_number": 31,
       "text": [
        "idx: 1270\tloss: 4.5925698280334\ttrain score: 5.515\tlabel: 8\tprediction: [1]35 [2]30 [3]2 [4]62 [5]9\t\n"
       ]
      },
      {
       "metadata": {},
       "output_type": "pyout",
       "prompt_number": 31,
       "text": [
        "idx: 1275\tloss: 4.5876641273499\ttrain score: 6.465\tlabel: 44\tprediction: [1]62 [2]28 [3]81 [4]76 [5]82\t\n"
       ]
      },
      {
       "metadata": {},
       "output_type": "pyout",
       "prompt_number": 31,
       "text": [
        "idx: 1280\tloss: 4.5850381851196\ttrain score: 6.87\tlabel: 53\tprediction: [1]62 [2]28 [3]76 [4]81 [5]68\t\n"
       ]
      },
      {
       "metadata": {},
       "output_type": "pyout",
       "prompt_number": 31,
       "text": [
        "idx: 1285\tloss: 4.5868654251099\ttrain score: 6.2916666666667\tlabel: 94\tprediction: [1]62 [2]30 [3]64 [4]82 [5]9\t\n"
       ]
      },
      {
       "metadata": {},
       "output_type": "pyout",
       "prompt_number": 31,
       "text": [
        "idx: 1290\tloss: 4.5907254219055\ttrain score: 4.9433333333333\tlabel: 89\tprediction: [1]2 [2]89 [3]72 [4]46 [5]57\t\n"
       ]
      },
      {
       "metadata": {},
       "output_type": "pyout",
       "prompt_number": 31,
       "text": [
        "idx: 1295\tloss: 4.5880436897278\ttrain score: 6.31\tlabel: 36\tprediction: [1]20 [2]72 [3]57 [4]2 [5]5\t\n"
       ]
      },
      {
       "metadata": {},
       "output_type": "pyout",
       "prompt_number": 31,
       "text": [
        "idx: 1300\tloss: 4.5881476402283\ttrain score: 6.3316666666667\tlabel: 87\tprediction: [1]62 [2]28 [3]76 [4]30 [5]81\t\n"
       ]
      },
      {
       "metadata": {},
       "output_type": "pyout",
       "prompt_number": 31,
       "text": [
        "idx: 1305\tloss: 4.5891637802124\ttrain score: 5.575\tlabel: 75\tprediction: [1]75 [2]89 [3]76 [4]18 [5]2\t\n"
       ]
      },
      {
       "metadata": {},
       "output_type": "pyout",
       "prompt_number": 31,
       "text": [
        "idx: 1310\tloss: 4.5887227058411\ttrain score: 5.7766666666667\tlabel: 59\tprediction: [1]62 [2]76 [3]19 [4]81 [5]30\t\n"
       ]
      },
      {
       "metadata": {},
       "output_type": "pyout",
       "prompt_number": 31,
       "text": [
        "idx: 1315\tloss: 4.5852518081665\ttrain score: 6.6266666666667\tlabel: 65\tprediction: [1]2 [2]72 [3]20 [4]57 [5]37\t\n"
       ]
      },
      {
       "metadata": {},
       "output_type": "pyout",
       "prompt_number": 31,
       "text": [
        "idx: 1320\tloss: 4.5892376899719\ttrain score: 6.75\tlabel: 95\tprediction: [1]2 [2]27 [3]91 [4]99 [5]60\t\n"
       ]
      },
      {
       "metadata": {},
       "output_type": "pyout",
       "prompt_number": 31,
       "text": [
        "idx: 1325\tloss: 4.5888686180115\ttrain score: 5.7833333333333\tlabel: 92\tprediction: [1]20 [2]2 [3]72 [4]57 [5]19\t\n"
       ]
      },
      {
       "metadata": {},
       "output_type": "pyout",
       "prompt_number": 31,
       "text": [
        "idx: 1330\tloss: 4.5915241241455\ttrain score: 5.4533333333333\tlabel: 5\tprediction: [1]2 [2]20 [3]57 [4]96 [5]37\t\n"
       ]
      },
      {
       "metadata": {},
       "output_type": "pyout",
       "prompt_number": 31,
       "text": [
        "idx: 1335\tloss: 4.5877017974854\ttrain score: 6.9816666666667\tlabel: 67\tprediction: [1]67 [2]20 [3]88 [4]57 [5]72\t\n"
       ]
      },
      {
       "metadata": {},
       "output_type": "pyout",
       "prompt_number": 31,
       "text": [
        "idx: 1340\tloss: 4.5866484642029\t"
       ]
      },
      {
       "metadata": {},
       "output_type": "pyout",
       "prompt_number": 31,
       "text": [
        "train score: 6.3316666666667\tlabel: 20\tprediction: [1]62 [2]54 [3]76 [4]68 [5]9\t\n"
       ]
      },
      {
       "metadata": {},
       "output_type": "pyout",
       "prompt_number": 31,
       "text": [
        "idx: 1345\tloss: 4.5855011940002\ttrain score: 7.2083333333333\tlabel: 56\tprediction: [1]20 [2]72 [3]57 [4]2 [5]88\t\n"
       ]
      },
      {
       "metadata": {},
       "output_type": "pyout",
       "prompt_number": 31,
       "text": [
        "idx: 1350\tloss: 4.5913982391357\ttrain score: 6.2083333333333\tlabel: 36\tprediction: [1]2 [2]27 [3]19 [4]20 [5]50\t\n"
       ]
      },
      {
       "metadata": {},
       "output_type": "pyout",
       "prompt_number": 31,
       "text": [
        "idx: 1355\tloss: 4.5878477096558\ttrain score: 5.975\tlabel: 41\tprediction: [1]20 [2]2 [3]35 [4]72 [5]88\t\n"
       ]
      },
      {
       "metadata": {},
       "output_type": "pyout",
       "prompt_number": 31,
       "text": [
        "idx: 1360\tloss: 4.5879898071289\ttrain score: 5.825\tlabel: 52\tprediction: [1]35 [2]32 [3]5 [4]11 [5]20\t\n"
       ]
      },
      {
       "metadata": {},
       "output_type": "pyout",
       "prompt_number": 31,
       "text": [
        "idx: 1365\tloss: 4.5833773612976\ttrain score: 8.34\tlabel: 52\tprediction: [1]2 [2]5 [3]25 [4]72 [5]37\t\n"
       ]
      },
      {
       "metadata": {},
       "output_type": "pyout",
       "prompt_number": 31,
       "text": [
        "idx: 1370\tloss: 4.5841073989868\ttrain score: 6.7183333333333\tlabel: 65\tprediction: [1]20 [2]72 [3]57 [4]2 [5]88\t\n"
       ]
      },
      {
       "metadata": {},
       "output_type": "pyout",
       "prompt_number": 31,
       "text": [
        "idx: 1375\tloss: 4.5850052833557\ttrain score: 5.3416666666667\tlabel: 48\tprediction: [1]62 [2]28 [3]81 [4]30 [5]76\t\n"
       ]
      },
      {
       "metadata": {},
       "output_type": "pyout",
       "prompt_number": 31,
       "text": [
        "idx: 1380\tloss: 4.5856328010559\ttrain score: 6.5033333333333\tlabel: 44\tprediction: [1]2 [2]19 [3]20 [4]35 [5]72\t\n"
       ]
      },
      {
       "metadata": {},
       "output_type": "pyout",
       "prompt_number": 31,
       "text": [
        "idx: 1385\tloss: 4.5876326560974\ttrain score: 5.6566666666667\tlabel: 2\tprediction: [1]2 [2]72 [3]20 [4]35 [5]1\t\n"
       ]
      },
      {
       "metadata": {},
       "output_type": "pyout",
       "prompt_number": 31,
       "text": [
        "idx: 1390\tloss: 4.5887541770935\ttrain score: 6.4866666666667\tlabel: 47\tprediction: [1]62 [2]28 [3]81 [4]68 [5]76\t\n"
       ]
      },
      {
       "metadata": {},
       "output_type": "pyout",
       "prompt_number": 31,
       "text": [
        "idx: 1395\tloss: 4.586353302002\ttrain score: 5.6833333333333\tlabel: 74\tprediction: [1]2 [2]38 [3]5 [4]20 [5]1\t\n"
       ]
      },
      {
       "metadata": {},
       "output_type": "pyout",
       "prompt_number": 31,
       "text": [
        "idx: 1400\tloss: 4.5878648757935\ttrain score: 6.37\tlabel: 88\tprediction: [1]19 [2]76 [3]32 [4]35 [5]2\t\n"
       ]
      },
      {
       "metadata": {},
       "output_type": "pyout",
       "prompt_number": 31,
       "text": [
        "idx: 1405\tloss: 4.5856332778931\ttrain score: 6.805\tlabel: 90\tprediction: [1]57 [2]20 [3]2 [4]72 [5]88\t\n"
       ]
      },
      {
       "metadata": {},
       "output_type": "pyout",
       "prompt_number": 31,
       "text": [
        "idx: 1410\tloss: 4.5899395942688\ttrain score: 5.17\tlabel: 36\tprediction: [1]40 [2]76 [3]2 [4]35 [5]30\t\n"
       ]
      },
      {
       "metadata": {},
       "output_type": "pyout",
       "prompt_number": 31,
       "text": [
        "idx: 1415\tloss: 4.5840692520142\ttrain score: 6.9016666666667\tlabel: 97\tprediction: [1]62 [2]40 [3]75 [4]28 [5]19\t\n"
       ]
      },
      {
       "metadata": {},
       "output_type": "pyout",
       "prompt_number": 31,
       "text": [
        "idx: 1420\tloss: 4.5858035087585\ttrain score: 5.9016666666667\tlabel: 59\tprediction: [1]2 [2]20 [3]72 [4]57 [5]46\t\n"
       ]
      },
      {
       "metadata": {},
       "output_type": "pyout",
       "prompt_number": 31,
       "text": [
        "idx: 1425\tloss: 4.5900454521179\ttrain score: 5.4433333333333\tlabel: 94\tprediction: [1]20 [2]2 [3]57 [4]72 [5]88\t\n"
       ]
      },
      {
       "metadata": {},
       "output_type": "pyout",
       "prompt_number": 31,
       "text": [
        "idx: 1430\tloss: 4.5891761779785\ttrain score: 5.1266666666667\tlabel: 75\tprediction: [1]62 [2]30 [3]9 [4]76 [5]55\t\n"
       ]
      },
      {
       "metadata": {},
       "output_type": "pyout",
       "prompt_number": 31,
       "text": [
        "idx: 1435\tloss: 4.5832266807556\ttrain score: 6.955\tlabel: 66\tprediction: [1]20 [2]2 [3]35 [4]57 [5]67\t\n"
       ]
      },
      {
       "metadata": {},
       "output_type": "pyout",
       "prompt_number": 31,
       "text": [
        "idx: 1440\tloss: 4.5881795883179\ttrain score: 6.1416666666667\tlabel: 18\tprediction: [1]72 [2]20 [3]2 [4]57 [5]1\t\n"
       ]
      },
      {
       "metadata": {},
       "output_type": "pyout",
       "prompt_number": 31,
       "text": [
        "idx: 1445\tloss: 4.5827951431274\ttrain score: 6.2616666666667\tlabel: 79\tprediction: [1]62 [2]9 [3]76 [4]54 [5]1\t\n"
       ]
      },
      {
       "metadata": {},
       "output_type": "pyout",
       "prompt_number": 31,
       "text": [
        "idx: 1450\tloss: 4.5824780464172\ttrain score: 7.36\tlabel: 91\tprediction: [1]27 [2]2 [3]60 [4]51 [5]1\t\n"
       ]
      },
      {
       "metadata": {},
       "output_type": "pyout",
       "prompt_number": 31,
       "text": [
        "idx: 1455\tloss: 4.5830111503601\ttrain score: 6.8966666666667\tlabel: 49\tprediction: [1]20 [2]72 [3]2 [4]57 [5]35\t\n"
       ]
      },
      {
       "metadata": {},
       "output_type": "pyout",
       "prompt_number": 31,
       "text": [
        "idx: 1460\tloss: 4.5873489379883\ttrain score: 6.0766666666667\tlabel: 20\tprediction: [1]20 [2]35 [3]72 [4]50 [5]96\t\n"
       ]
      },
      {
       "metadata": {},
       "output_type": "pyout",
       "prompt_number": 31,
       "text": [
        "idx: 1465\tloss: 4.5843043327332\ttrain score: 6.73\tlabel: 20\tprediction: [1]2 [2]1 [3]88 [4]72 [5]99\t\n"
       ]
      },
      {
       "metadata": {},
       "output_type": "pyout",
       "prompt_number": 31,
       "text": [
        "idx: 1470\tloss: 4.5876893997192\ttrain score: 7.2866666666667\tlabel: 84\tprediction: [1]62 [2]28 [3]81 [4]30 [5]76\t\n"
       ]
      },
      {
       "metadata": {},
       "output_type": "pyout",
       "prompt_number": 31,
       "text": [
        "idx: 1475\tloss: 4.5865330696106\ttrain score: 6.6366666666667\tlabel: 46\tprediction: [1]2 [2]89 [3]46 [4]72 [5]25\t\n"
       ]
      },
      {
       "metadata": {},
       "output_type": "pyout",
       "prompt_number": 31,
       "text": [
        "idx: 1480\tloss: 4.5843315124512\ttrain score: 6.8033333333333\tlabel: 54\tprediction: [1]62 [2]81 [3]30 [4]28 [5]76\t\n"
       ]
      },
      {
       "metadata": {},
       "output_type": "pyout",
       "prompt_number": 31,
       "text": [
        "idx: 1485\tloss: 4.5833144187927\ttrain score: 7.5266666666667\tlabel: 91\tprediction: [1]20 [2]72 [3]2 [4]35 [5]57\t\n"
       ]
      },
      {
       "metadata": {},
       "output_type": "pyout",
       "prompt_number": 31,
       "text": [
        "idx: 1490\tloss: 4.5860204696655\ttrain score: 7.0166666666667\tlabel: 7\tprediction: [1]20 [2]2 [3]35 [4]72 [5]88\t\n"
       ]
      },
      {
       "metadata": {},
       "output_type": "pyout",
       "prompt_number": 31,
       "text": [
        "idx: 1495\tloss: 4.5845456123352\ttrain score: 6.6016666666667\tlabel: 25\tprediction: [1]2 [2]89 [3]46 [4]72 [5]25\t\n"
       ]
      },
      {
       "metadata": {},
       "output_type": "pyout",
       "prompt_number": 31,
       "text": [
        "current LR: 0.005\t\n"
       ]
      },
      {
       "metadata": {},
       "output_type": "pyout",
       "prompt_number": 31,
       "text": [
        "idx: 1500\tloss: 4.5841002464294\ttrain score: 6.315\tlabel: 53\tprediction: [1]20 [2]72 [3]2 [4]1 [5]88\t\n"
       ]
      },
      {
       "metadata": {},
       "output_type": "pyout",
       "prompt_number": 31,
       "text": [
        "idx: 1505\tloss: 4.5838980674744\ttrain score: 6.995\tlabel: 62\tprediction: [1]62 [2]76 [3]54 [4]28 [5]81\t\n"
       ]
      },
      {
       "metadata": {},
       "output_type": "pyout",
       "prompt_number": 31,
       "text": [
        "idx: 1510\tloss: 4.5813241004944\ttrain score: 6.9\tlabel: 54\tprediction: [1]28 [2]62 [3]81 [4]76 [5]86\t\n"
       ]
      },
      {
       "metadata": {},
       "output_type": "pyout",
       "prompt_number": 31,
       "text": [
        "idx: 1515\tloss: 4.5833916664124\ttrain score: 6.61\tlabel: 37\tprediction: [1]62 [2]28 [3]81 [4]76 [5]68\t\n"
       ]
      },
      {
       "metadata": {},
       "output_type": "pyout",
       "prompt_number": 31,
       "text": [
        "idx: 1520\tloss: 4.5833778381348\ttrain score: 7.0333333333333\tlabel: 18\tprediction: [1]2 [2]72 [3]57 [4]20 [5]19\t\n"
       ]
      },
      {
       "metadata": {},
       "output_type": "pyout",
       "prompt_number": 31,
       "text": [
        "idx: 1525\tloss: 4.5891933441162\ttrain score: 6.0816666666667\tlabel: 32\tprediction: [1]20 [2]2 [3]72 [4]57 [5]1\t\n"
       ]
      },
      {
       "metadata": {},
       "output_type": "pyout",
       "prompt_number": 31,
       "text": [
        "idx: 1530\tloss: 4.583664894104\ttrain score: 6.9366666666667\tlabel: 15\tprediction: [1]35 [2]2 [3]20 [4]72 [5]88\t\n"
       ]
      },
      {
       "metadata": {},
       "output_type": "pyout",
       "prompt_number": 31,
       "text": [
        "idx: 1535\tloss: 4.5856561660767\ttrain score: 5.465\tlabel: 20\tprediction: [1]2 [2]89 [3]72 [4]46 [5]57\t\n"
       ]
      },
      {
       "metadata": {},
       "output_type": "pyout",
       "prompt_number": 31,
       "text": [
        "idx: 1540\tloss: 4.5844068527222\ttrain score: 6.6066666666667\tlabel: 67\tprediction: [1]72 [2]20 [3]2 [4]57 [5]88\t\n"
       ]
      },
      {
       "metadata": {},
       "output_type": "pyout",
       "prompt_number": 31,
       "text": [
        "idx: 1545\tloss: 4.5840911865234\ttrain score: 7.2583333333333\tlabel: 24\tprediction: [1]62 [2]28 [3]30 [4]81 [5]49\t\n"
       ]
      },
      {
       "metadata": {},
       "output_type": "pyout",
       "prompt_number": 31,
       "text": [
        "idx: 1550\tloss: 4.5843863487244\ttrain score: 6.775\tlabel: 49\tprediction: [1]62 [2]19 [3]76 [4]51 [5]42\t\n"
       ]
      },
      {
       "metadata": {},
       "output_type": "pyout",
       "prompt_number": 31,
       "text": [
        "idx: 1555\tloss: 4.5781660079956\ttrain score: 7.14\tlabel: 39\tprediction: [1]62 [2]28 [3]81 [4]68 [5]76\t\n"
       ]
      },
      {
       "metadata": {},
       "output_type": "pyout",
       "prompt_number": 31,
       "text": [
        "idx: 1560\tloss: 4.583770275116\ttrain score: 6.5616666666667\tlabel: 61\tprediction: [1]62 [2]28 [3]54 [4]81 [5]30\t\n"
       ]
      },
      {
       "metadata": {},
       "output_type": "pyout",
       "prompt_number": 31,
       "text": [
        "idx: 1565\tloss: 4.5804204940796\ttrain score: 7.3333333333333\tlabel: 89\tprediction: [1]2 [2]89 [3]72 [4]46 [5]25\t\n"
       ]
      },
      {
       "metadata": {},
       "output_type": "pyout",
       "prompt_number": 31,
       "text": [
        "idx: 1570\tloss: 4.5864524841309\ttrain score: 6.24\tlabel: 33\tprediction: [1]20 [2]2 [3]72 [4]85 [5]57\t\n"
       ]
      },
      {
       "metadata": {},
       "output_type": "pyout",
       "prompt_number": 31,
       "text": [
        "idx: 1575\tloss: 4.5854749679565\ttrain score: 6.61\tlabel: 75\tprediction: [1]75 [2]76 [3]9 [4]18 [5]20\t\n"
       ]
      },
      {
       "metadata": {},
       "output_type": "pyout",
       "prompt_number": 31,
       "text": [
        "idx: 1580\tloss: 4.5841517448425\ttrain score: 7.0233333333333\tlabel: 32\tprediction: [1]2 [2]20 [3]72 [4]35 [5]57\t\n"
       ]
      },
      {
       "metadata": {},
       "output_type": "pyout",
       "prompt_number": 31,
       "text": [
        "idx: 1585\tloss: 4.5822329521179\ttrain score: 6.9533333333333\tlabel: 49\tprediction: [1]62 [2]28 [3]30 [4]81 [5]82\t\n"
       ]
      },
      {
       "metadata": {},
       "output_type": "pyout",
       "prompt_number": 31,
       "text": [
        "idx: 1590\tloss: 4.5838150978088\ttrain score: 6.8583333333333\tlabel: 3\tprediction: [1]62 [2]40 [3]28 [4]30 [5]82\t\n"
       ]
      },
      {
       "metadata": {},
       "output_type": "pyout",
       "prompt_number": 31,
       "text": [
        "idx: 1595\tloss: 4.5864925384521\ttrain score: 5.8666666666667\tlabel: 63\tprediction: [1]62 [2]28 [3]68 [4]81 [5]30\t\n"
       ]
      },
      {
       "metadata": {},
       "output_type": "pyout",
       "prompt_number": 31,
       "text": [
        "idx: 1600\tloss: 4.5879034996033\ttrain score: 5.2333333333333\tlabel: 47\tprediction: [1]62 [2]28 [3]68 [4]81 [5]86\t\n"
       ]
      },
      {
       "metadata": {},
       "output_type": "pyout",
       "prompt_number": 31,
       "text": [
        "idx: 1605\tloss: 4.5874953269958\ttrain score: 7.4116666666667\tlabel: 45\tprediction: [1]20 [2]72 [3]57 [4]2 [5]88\t\n"
       ]
      },
      {
       "metadata": {},
       "output_type": "pyout",
       "prompt_number": 31,
       "text": [
        "idx: 1610\tloss: 4.583911895752\ttrain score: 6.7766666666667\tlabel: 27\tprediction: [1]27 [2]2 [3]91 [4]19 [5]99\t\n"
       ]
      },
      {
       "metadata": {},
       "output_type": "pyout",
       "prompt_number": 31,
       "text": [
        "idx: 1615\tloss: 4.5860157012939\ttrain score: 6.455\tlabel: 6\tprediction: [1]96 [2]2 [3]35 [4]5 [5]20\t\n"
       ]
      },
      {
       "metadata": {},
       "output_type": "pyout",
       "prompt_number": 31,
       "text": [
        "idx: 1620\tloss: 4.5833911895752\ttrain score: 6.5916666666667\tlabel: 77\tprediction: [1]62 [2]76 [3]9 [4]40 [5]28\t\n"
       ]
      },
      {
       "metadata": {},
       "output_type": "pyout",
       "prompt_number": 31,
       "text": [
        "idx: 1625\tloss: 4.5841331481934\ttrain score: 6.9616666666667\tlabel: 13\tprediction: [1]2 [2]27 [3]35 [4]67 [5]57\t\n"
       ]
      },
      {
       "metadata": {},
       "output_type": "pyout",
       "prompt_number": 31,
       "text": [
        "idx: 1630\tloss: 4.5875244140625\ttrain score: 6.3466666666667\tlabel: 69\tprediction: [1]2 [2]1 [3]88 [4]71 [5]20\t\n"
       ]
      },
      {
       "metadata": {},
       "output_type": "pyout",
       "prompt_number": 31,
       "text": [
        "idx: 1635\tloss: 4.5877146720886\ttrain score: 5.64\tlabel: 22\tprediction: [1]20 [2]57 [3]72 [4]2 [5]99\t\n"
       ]
      },
      {
       "metadata": {},
       "output_type": "pyout",
       "prompt_number": 31,
       "text": [
        "idx: 1640\tloss: 4.5826930999756\ttrain score: 6.8433333333333\tlabel: 19\tprediction: [1]20 [2]72 [3]2 [4]57 [5]50\t\n"
       ]
      },
      {
       "metadata": {},
       "output_type": "pyout",
       "prompt_number": 31,
       "text": [
        "idx: 1645\tloss: 4.5812220573425\ttrain score: 7.1083333333333\tlabel: 38\tprediction: [1]2 [2]20 [3]57 [4]72 [5]89\t\n"
       ]
      },
      {
       "metadata": {},
       "output_type": "pyout",
       "prompt_number": 31,
       "text": [
        "idx: 1650\tloss: 4.5807647705078\ttrain score: 7.6183333333333\tlabel: 27\tprediction: [1]62 [2]28 [3]30 [4]76 [5]68\t\n"
       ]
      },
      {
       "metadata": {},
       "output_type": "pyout",
       "prompt_number": 31,
       "text": [
        "idx: 1655\tloss: 4.581775188446\ttrain score: 6.9216666666667\tlabel: 1\tprediction: [1]20 [2]35 [3]72 [4]2 [5]50\t\n"
       ]
      },
      {
       "metadata": {},
       "output_type": "pyout",
       "prompt_number": 31,
       "text": [
        "idx: 1660\tloss: 4.5801033973694\ttrain score: 7.305\tlabel: 16\tprediction: [1]19 [2]76 [3]42 [4]32 [5]98\t\n"
       ]
      },
      {
       "metadata": {},
       "output_type": "pyout",
       "prompt_number": 31,
       "text": [
        "idx: 1665\tloss: 4.5836458206177\ttrain score: 6.73\tlabel: 100\tprediction: [1]20 [2]2 [3]57 [4]88 [5]72\t\n"
       ]
      },
      {
       "metadata": {},
       "output_type": "pyout",
       "prompt_number": 31,
       "text": [
        "idx: 1670\tloss: 4.5813045501709\ttrain score: 7.415\tlabel: 69\tprediction: [1]2 [2]72 [3]20 [4]57 [5]50\t\n"
       ]
      },
      {
       "metadata": {},
       "output_type": "pyout",
       "prompt_number": 31,
       "text": [
        "idx: 1675\tloss: 4.5829238891602\ttrain score: 7.105\tlabel: 59\tprediction: [1]62 [2]28 [3]86 [4]82 [5]30\t\n"
       ]
      },
      {
       "metadata": {},
       "output_type": "pyout",
       "prompt_number": 31,
       "text": [
        "idx: 1680\tloss: 4.5853457450867\ttrain score: 6.7316666666667\tlabel: 67\tprediction: [1]2 [2]27 [3]82 [4]62 [5]19\t\n"
       ]
      },
      {
       "metadata": {},
       "output_type": "pyout",
       "prompt_number": 31,
       "text": [
        "idx: 1685\tloss: 4.5862188339233\ttrain score: 5.5083333333333\tlabel: 85\tprediction: [1]20 [2]72 [3]50 [4]5 [5]2\t\n"
       ]
      },
      {
       "metadata": {},
       "output_type": "pyout",
       "prompt_number": 31,
       "text": [
        "idx: 1690\tloss: 4.5817461013794\ttrain score: 6.0583333333333\tlabel: 66\tprediction: [1]2 [2]82 [3]27 [4]18 [5]19\t\n"
       ]
      },
      {
       "metadata": {},
       "output_type": "pyout",
       "prompt_number": 31,
       "text": [
        "idx: 1695\tloss: 4.5849847793579\ttrain score: 5.57\tlabel: 38\tprediction: [1]20 [2]2 [3]5 [4]35 [5]72\t\n"
       ]
      },
      {
       "metadata": {},
       "output_type": "pyout",
       "prompt_number": 31,
       "text": [
        "idx: 1700\tloss: 4.5850658416748\ttrain score: 6.5916666666667\tlabel: 96\tprediction: [1]20 [2]72 [3]57 [4]96 [5]88\t\n"
       ]
      },
      {
       "metadata": {},
       "output_type": "pyout",
       "prompt_number": 31,
       "text": [
        "idx: 1705\tloss: 4.5855922698975\ttrain score: 5.6016666666667\tlabel: 66\tprediction: [1]88 [2]20 [3]67 [4]72 [5]57\t\n"
       ]
      },
      {
       "metadata": {},
       "output_type": "pyout",
       "prompt_number": 31,
       "text": [
        "idx: 1710\tloss: 4.5861873626709\ttrain score: 6.8416666666667\tlabel: 3\tprediction: [1]20 [2]72 [3]57 [4]88 [5]2\t\n"
       ]
      },
      {
       "metadata": {},
       "output_type": "pyout",
       "prompt_number": 31,
       "text": [
        "idx: 1715\tloss: 4.5836057662964\ttrain score: 5.5166666666667\tlabel: 82\tprediction: [1]76 [2]62 [3]9 [4]82 [5]18\t\n"
       ]
      },
      {
       "metadata": {},
       "output_type": "pyout",
       "prompt_number": 31,
       "text": [
        "idx: 1720\tloss: 4.5820422172546\ttrain score: 6.64\tlabel: 22\tprediction: [1]35 [2]2 [3]72 [4]96 [5]88\t\n"
       ]
      },
      {
       "metadata": {},
       "output_type": "pyout",
       "prompt_number": 31,
       "text": [
        "idx: 1725\tloss: 4.5879802703857\ttrain score: 6.1816666666667\tlabel: 11\tprediction: [1]20 [2]72 [3]2 [4]1 [5]88\t\n"
       ]
      },
      {
       "metadata": {},
       "output_type": "pyout",
       "prompt_number": 31,
       "text": [
        "idx: 1730\tloss: 4.5821676254272\ttrain score: 6.4883333333333\tlabel: 91\tprediction: [1]20 [2]2 [3]72 [4]57 [5]50\t\n"
       ]
      },
      {
       "metadata": {},
       "output_type": "pyout",
       "prompt_number": 31,
       "text": [
        "idx: 1735\tloss: 4.5858998298645\ttrain score: 5.0133333333333\tlabel: 86\tprediction: [1]62 [2]28 [3]81 [4]54 [5]68\t\n"
       ]
      },
      {
       "metadata": {},
       "output_type": "pyout",
       "prompt_number": 31,
       "text": [
        "idx: 1740\tloss: 4.5793671607971\ttrain score: 5.8933333333333\tlabel: 11\tprediction: [1]20 [2]2 [3]72 [4]24 [5]89\t\n"
       ]
      },
      {
       "metadata": {},
       "output_type": "pyout",
       "prompt_number": 31,
       "text": [
        "idx: 1745\tloss: 4.5850381851196\ttrain score: 6.8083333333333\tlabel: 65\tprediction: [1]20 [2]57 [3]72 [4]2 [5]99\t\n"
       ]
      },
      {
       "metadata": {},
       "output_type": "pyout",
       "prompt_number": 31,
       "text": [
        "idx: 1750\tloss: 4.5840935707092\ttrain score: 5.6\tlabel: 98\tprediction: [1]62 [2]28 [3]81 [4]30 [5]54\t\n"
       ]
      },
      {
       "metadata": {},
       "output_type": "pyout",
       "prompt_number": 31,
       "text": [
        "idx: 1755\tloss: 4.5866327285767\ttrain score: 6.565\tlabel: 59\tprediction: [1]20 [2]2 [3]57 [4]72 [5]88\t\n"
       ]
      },
      {
       "metadata": {},
       "output_type": "pyout",
       "prompt_number": 31,
       "text": [
        "idx: 1760\tloss: 4.5859746932983\ttrain score: 6.3283333333333\tlabel: 32\tprediction: [1]20 [2]72 [3]2 [4]57 [5]5\t\n"
       ]
      },
      {
       "metadata": {},
       "output_type": "pyout",
       "prompt_number": 31,
       "text": [
        "idx: 1765\tloss: 4.5851774215698\ttrain score: 5.795\tlabel: 23\tprediction: [1]20 [2]72 [3]2 [4]57 [5]96\t\n"
       ]
      },
      {
       "metadata": {},
       "output_type": "pyout",
       "prompt_number": 31,
       "text": [
        "idx: 1770\tloss: 4.588418006897\ttrain score: 5.17\tlabel: 75\tprediction: [1]75 [2]89 [3]76 [4]18 [5]9\t\n"
       ]
      },
      {
       "metadata": {},
       "output_type": "pyout",
       "prompt_number": 31,
       "text": [
        "idx: 1775\tloss: 4.5812931060791\ttrain score: 7.32\tlabel: 43\tprediction: [1]20 [2]2 [3]57 [4]72 [5]99\t\n"
       ]
      },
      {
       "metadata": {},
       "output_type": "pyout",
       "prompt_number": 31,
       "text": [
        "idx: 1780\tloss: 4.5850300788879\ttrain score: 6.5833333333333\tlabel: 98\tprediction: [1]20 [2]72 [3]96 [4]35 [5]2\t\n"
       ]
      },
      {
       "metadata": {},
       "output_type": "pyout",
       "prompt_number": 31,
       "text": [
        "idx: 1785\tloss: 4.5831265449524\ttrain score: 6.25\tlabel: 14\tprediction: [1]62 [2]28 [3]30 [4]81 [5]76\t\n"
       ]
      },
      {
       "metadata": {},
       "output_type": "pyout",
       "prompt_number": 31,
       "text": [
        "idx: 1790\tloss: 4.5884208679199\ttrain score: 5.4733333333333\tlabel: 70\tprediction: [1]20 [2]72 [3]57 [4]2 [5]96\t\n"
       ]
      },
      {
       "metadata": {},
       "output_type": "pyout",
       "prompt_number": 31,
       "text": [
        "idx: 1795\tloss: 4.5873274803162\ttrain score: 5.2483333333333\tlabel: 44\tprediction: [1]20 [2]2 [3]57 [4]72 [5]88\t\n"
       ]
      },
      {
       "metadata": {},
       "output_type": "pyout",
       "prompt_number": 31,
       "text": [
        "idx: 1800\tloss: 4.5858941078186\ttrain score: 6.605\tlabel: 91\tprediction: [1]2 [2]19 [3]35 [4]72 [5]88\t\n"
       ]
      },
      {
       "metadata": {},
       "output_type": "pyout",
       "prompt_number": 31,
       "text": [
        "idx: 1805\tloss: 4.5852446556091\ttrain score: 6.1133333333333\tlabel: 94\tprediction: [1]37 [2]35 [3]76 [4]1 [5]71\t\n"
       ]
      },
      {
       "metadata": {},
       "output_type": "pyout",
       "prompt_number": 31,
       "text": [
        "idx: 1810\tloss: 4.5855226516724\ttrain score: 6.0183333333333\tlabel: 61\tprediction: [1]62 [2]30 [3]40 [4]28 [5]82\t\n"
       ]
      },
      {
       "metadata": {},
       "output_type": "pyout",
       "prompt_number": 31,
       "text": [
        "idx: 1815\tloss: 4.5888600349426\ttrain score: 6.575\tlabel: 84\tprediction: [1]62 [2]98 [3]32 [4]76 [5]30\t\n"
       ]
      },
      {
       "metadata": {},
       "output_type": "pyout",
       "prompt_number": 31,
       "text": [
        "idx: 1820\tloss: 4.585608959198\ttrain score: 6.3633333333333\tlabel: 86\tprediction: [1]62 [2]30 [3]68 [4]82 [5]76\t\n"
       ]
      },
      {
       "metadata": {},
       "output_type": "pyout",
       "prompt_number": 31,
       "text": [
        "idx: 1825\tloss: 4.5840129852295\ttrain score: 5.0816666666667\tlabel: 64\tprediction: [1]2 [2]27 [3]35 [4]50 [5]19\t\n"
       ]
      },
      {
       "metadata": {},
       "output_type": "pyout",
       "prompt_number": 31,
       "text": [
        "idx: 1830\tloss: 4.5865025520325\ttrain score: 6.5133333333333\tlabel: 41\tprediction: [1]2 [2]20 [3]57 [4]72 [5]5\t\n"
       ]
      },
      {
       "metadata": {},
       "output_type": "pyout",
       "prompt_number": 31,
       "text": [
        "idx: 1835\tloss: 4.5830321311951\ttrain score: 7.5433333333333\tlabel: 44\tprediction: [1]62 [2]28 [3]82 [4]68 [5]30\t\n"
       ]
      },
      {
       "metadata": {},
       "output_type": "pyout",
       "prompt_number": 31,
       "text": [
        "idx: 1840\tloss: 4.585027217865\ttrain score: 5.475\tlabel: 100\tprediction: [1]20 [2]2 [3]57 [4]72 [5]88\t\n"
       ]
      },
      {
       "metadata": {},
       "output_type": "pyout",
       "prompt_number": 31,
       "text": [
        "idx: 1845\tloss: 4.5855684280396\ttrain score: 6.885\tlabel: 52\tprediction: [1]62 [2]28 [3]30 [4]81 [5]76\t\n"
       ]
      },
      {
       "metadata": {},
       "output_type": "pyout",
       "prompt_number": 31,
       "text": [
        "idx: 1850\tloss: 4.5848679542542\ttrain score: 6.2983333333333\tlabel: 91\tprediction: [1]20 [2]35 [3]96 [4]72 [5]2\t\n"
       ]
      },
      {
       "metadata": {},
       "output_type": "pyout",
       "prompt_number": 31,
       "text": [
        "idx: 1855\tloss: 4.5824084281921\ttrain score: 6.67\tlabel: 53\tprediction: [1]20 [2]2 [3]72 [4]57 [5]50\t\n"
       ]
      },
      {
       "metadata": {},
       "output_type": "pyout",
       "prompt_number": 31,
       "text": [
        "idx: 1860\tloss: 4.5863084793091\ttrain score: 6.2183333333333\tlabel: 9\tprediction: [1]2 [2]25 [3]57 [4]72 [5]37\t\n"
       ]
      },
      {
       "metadata": {},
       "output_type": "pyout",
       "prompt_number": 31,
       "text": [
        "idx: 1865\tloss: 4.5862035751343\ttrain score: 6.1816666666667\tlabel: 16\tprediction: [1]62 [2]76 [3]75 [4]28 [5]9\t\n"
       ]
      },
      {
       "metadata": {},
       "output_type": "pyout",
       "prompt_number": 31,
       "text": [
        "idx: 1870\tloss: 4.5859742164612\ttrain score: 6.3683333333333\tlabel: 42\tprediction: [1]35 [2]2 [3]76 [4]1 [5]62\t\n"
       ]
      },
      {
       "metadata": {},
       "output_type": "pyout",
       "prompt_number": 31,
       "text": [
        "idx: 1875\tloss: 4.5845499038696\ttrain score: 6.6366666666667\tlabel: 87\tprediction: [1]62 [2]28 [3]40 [4]82 [5]30\t\n"
       ]
      },
      {
       "metadata": {},
       "output_type": "pyout",
       "prompt_number": 31,
       "text": [
        "idx: 1880\tloss: 4.5837483406067\ttrain score: 6.1766666666667\tlabel: 65\tprediction: [1]76 [2]62 [3]32 [4]30 [5]40\t\n"
       ]
      },
      {
       "metadata": {},
       "output_type": "pyout",
       "prompt_number": 31,
       "text": [
        "idx: 1885\tloss: 4.5861554145813\ttrain score: 6.1183333333333\tlabel: 87\tprediction: [1]32 [2]62 [3]70 [4]98 [5]76\t\n"
       ]
      },
      {
       "metadata": {},
       "output_type": "pyout",
       "prompt_number": 31,
       "text": [
        "idx: 1890\tloss: 4.5837454795837\ttrain score: 6.0833333333333\tlabel: 84\tprediction: [1]27 [2]2 [3]91 [4]19 [5]99\t\n"
       ]
      },
      {
       "metadata": {},
       "output_type": "pyout",
       "prompt_number": 31,
       "text": [
        "idx: 1895\tloss: 4.5840096473694\ttrain score: 6.73\tlabel: 28\tprediction: [1]62 [2]76 [3]9 [4]86 [5]82\t\n"
       ]
      },
      {
       "metadata": {},
       "output_type": "pyout",
       "prompt_number": 31,
       "text": [
        "idx: 1900\tloss: 4.5847826004028\ttrain score: 6.4766666666667\tlabel: 95\tprediction: [1]62 [2]67 [3]37 [4]30 [5]23\t\n"
       ]
      },
      {
       "metadata": {},
       "output_type": "pyout",
       "prompt_number": 31,
       "text": [
        "idx: 1905\t"
       ]
      },
      {
       "metadata": {},
       "output_type": "pyout",
       "prompt_number": 31,
       "text": [
        "loss: 4.5862746238708\ttrain score: 6.6016666666667\tlabel: 13\tprediction: [1]62 [2]30 [3]28 [4]76 [5]40\t\n"
       ]
      },
      {
       "metadata": {},
       "output_type": "pyout",
       "prompt_number": 31,
       "text": [
        "idx: 1910\tloss: 4.5856289863586\ttrain score: 6.8433333333333\tlabel: 27\tprediction: [1]35 [2]54 [3]72 [4]37 [5]92\t\n"
       ]
      },
      {
       "metadata": {},
       "output_type": "pyout",
       "prompt_number": 31,
       "text": [
        "idx: 1915\tloss: 4.5817556381226\ttrain score: 6.905\tlabel: 69\tprediction: [1]35 [2]2 [3]76 [4]96 [5]5\t\n"
       ]
      },
      {
       "metadata": {},
       "output_type": "pyout",
       "prompt_number": 31,
       "text": [
        "idx: 1920\tloss: 4.5840449333191\ttrain score: 7.135\tlabel: 60\tprediction: [1]20 [2]72 [3]57 [4]2 [5]35\t\n"
       ]
      },
      {
       "metadata": {},
       "output_type": "pyout",
       "prompt_number": 31,
       "text": [
        "idx: 1925\tloss: 4.5857410430908\ttrain score: 6.405\tlabel: 13\tprediction: [1]76 [2]82 [3]98 [4]42 [5]35\t\n"
       ]
      },
      {
       "metadata": {},
       "output_type": "pyout",
       "prompt_number": 31,
       "text": [
        "idx: 1930\tloss: 4.5824151039124\ttrain score: 6.5466666666667\tlabel: 70\tprediction: [1]57 [2]20 [3]2 [4]72 [5]88\t\n"
       ]
      },
      {
       "metadata": {},
       "output_type": "pyout",
       "prompt_number": 31,
       "text": [
        "idx: 1935\tloss: 4.5825963020325\ttrain score: 7.135\tlabel: 49\tprediction: [1]62 [2]28 [3]30 [4]81 [5]49\t\n"
       ]
      },
      {
       "metadata": {},
       "output_type": "pyout",
       "prompt_number": 31,
       "text": [
        "idx: 1940\tloss: 4.5823721885681\ttrain score: 7.1733333333333\tlabel: 42\tprediction: [1]20 [2]72 [3]57 [4]2 [5]85\t\n"
       ]
      },
      {
       "metadata": {},
       "output_type": "pyout",
       "prompt_number": 31,
       "text": [
        "idx: 1945\tloss: 4.5834231376648\ttrain score: 5.365\tlabel: 14\tprediction: [1]72 [2]2 [3]20 [4]57 [5]1\t\n"
       ]
      },
      {
       "metadata": {},
       "output_type": "pyout",
       "prompt_number": 31,
       "text": [
        "idx: 1950\tloss: 4.5857720375061\ttrain score: 5.4916666666667\tlabel: 15\tprediction: [1]62 [2]28 [3]81 [4]30 [5]54\t\n"
       ]
      },
      {
       "metadata": {},
       "output_type": "pyout",
       "prompt_number": 31,
       "text": [
        "idx: 1955\tloss: 4.5850291252136\ttrain score: 4.7966666666667\tlabel: 86\tprediction: [1]20 [2]72 [3]57 [4]2 [5]88\t\n"
       ]
      },
      {
       "metadata": {},
       "output_type": "pyout",
       "prompt_number": 31,
       "text": [
        "idx: 1960\tloss: 4.5801253318787\ttrain score: 6.6566666666667\tlabel: 92\tprediction: [1]62 [2]27 [3]9 [4]5 [5]92\t\n"
       ]
      },
      {
       "metadata": {},
       "output_type": "pyout",
       "prompt_number": 31,
       "text": [
        "idx: 1965\tloss: 4.5866913795471\ttrain score: 6.425\tlabel: 61\tprediction: [1]2 [2]20 [3]1 [4]57 [5]99\t\n"
       ]
      },
      {
       "metadata": {},
       "output_type": "pyout",
       "prompt_number": 31,
       "text": [
        "idx: 1970\tloss: 4.58278465271\ttrain score: 5.82\tlabel: 25\tprediction: [1]2 [2]89 [3]72 [4]46 [5]57\t\n"
       ]
      },
      {
       "metadata": {},
       "output_type": "pyout",
       "prompt_number": 31,
       "text": [
        "idx: 1975\tloss: 4.5842227935791\ttrain score: 6.9066666666667\tlabel: 14\tprediction: [1]20 [2]2 [3]88 [4]72 [5]57\t\n"
       ]
      },
      {
       "metadata": {},
       "output_type": "pyout",
       "prompt_number": 31,
       "text": [
        "idx: 1980\t"
       ]
      },
      {
       "metadata": {},
       "output_type": "pyout",
       "prompt_number": 31,
       "text": [
        "loss: 4.5874238014221\ttrain score: 5.53\tlabel: 56\tprediction: [1]57 [2]20 [3]2 [4]72 [5]88\t\n"
       ]
      },
      {
       "metadata": {},
       "output_type": "pyout",
       "prompt_number": 31,
       "text": [
        "idx: 1985\tloss: 4.5865426063538\ttrain score: 6.32\tlabel: 34\tprediction: [1]20 [2]57 [3]72 [4]88 [5]5\t\n"
       ]
      },
      {
       "metadata": {},
       "output_type": "pyout",
       "prompt_number": 31,
       "text": [
        "idx: 1990\tloss: 4.5843172073364\ttrain score: 5.9883333333333\tlabel: 13\tprediction: [1]76 [2]62 [3]30 [4]32 [5]63\t\n"
       ]
      },
      {
       "metadata": {},
       "output_type": "pyout",
       "prompt_number": 31,
       "text": [
        "idx: 1995\tloss: 4.5877771377563\ttrain score: 5.925\tlabel: 28\tprediction: [1]2 [2]35 [3]19 [4]20 [5]88\t\n"
       ]
      },
      {
       "metadata": {},
       "output_type": "pyout",
       "prompt_number": 31,
       "text": [
        "idx: 2000\tloss: 4.5868849754333\ttrain score: 4.4383333333333\tlabel: 95\tprediction: [1]62 [2]28 [3]30 [4]76 [5]68\t\n"
       ]
      },
      {
       "metadata": {},
       "output_type": "pyout",
       "prompt_number": 31,
       "text": [
        "idx: 2005\tloss: 4.5858592987061\ttrain score: 5.9033333333333\tlabel: 3\tprediction: [1]62 [2]28 [3]86 [4]81 [5]76\t\n"
       ]
      },
      {
       "metadata": {},
       "output_type": "pyout",
       "prompt_number": 31,
       "text": [
        "idx: 2010\tloss: 4.587263584137\ttrain score: 6.5466666666667\tlabel: 45\tprediction: [1]62 [2]28 [3]81 [4]68 [5]76\t\n"
       ]
      },
      {
       "metadata": {},
       "output_type": "pyout",
       "prompt_number": 31,
       "text": [
        "idx: 2015\tloss: 4.5818219184875\ttrain score: 7.25\tlabel: 94\tprediction: [1]57 [2]20 [3]2 [4]72 [5]88\t\n"
       ]
      },
      {
       "metadata": {},
       "output_type": "pyout",
       "prompt_number": 31,
       "text": [
        "idx: 2020\tloss: 4.5822153091431\ttrain score: 6.9516666666667\tlabel: 30\tprediction: [1]20 [2]96 [3]2 [4]88 [5]72\t\n"
       ]
      },
      {
       "metadata": {},
       "output_type": "pyout",
       "prompt_number": 31,
       "text": [
        "idx: 2025\tloss: 4.581024646759\ttrain score: 7.4883333333333\tlabel: 84\tprediction: [1]2 [2]30 [3]57 [4]1 [5]76\t\n"
       ]
      },
      {
       "metadata": {},
       "output_type": "pyout",
       "prompt_number": 31,
       "text": [
        "idx: 2030\tloss: 4.5816836357117\ttrain score: 6.6816666666667\tlabel: 73\tprediction: [1]2 [2]72 [3]20 [4]57 [5]50\t\n"
       ]
      },
      {
       "metadata": {},
       "output_type": "pyout",
       "prompt_number": 31,
       "text": [
        "idx: 2035\tloss: 4.5820951461792\ttrain score: 5.7033333333333\tlabel: 94\tprediction: [1]72 [2]57 [3]2 [4]20 [5]88\t\n"
       ]
      },
      {
       "metadata": {},
       "output_type": "pyout",
       "prompt_number": 31,
       "text": [
        "idx: 2040\tloss: 4.5863704681396\ttrain score: 5.4783333333333\tlabel: 72\tprediction: [1]2 [2]89 [3]46 [4]72 [5]25\t\n"
       ]
      },
      {
       "metadata": {},
       "output_type": "pyout",
       "prompt_number": 31,
       "text": [
        "idx: 2045\tloss: 4.5839700698853\ttrain score: 7.605\tlabel: 19\tprediction: [1]62 [2]28 [3]81 [4]68 [5]54\t\n"
       ]
      },
      {
       "metadata": {},
       "output_type": "pyout",
       "prompt_number": 31,
       "text": [
        "idx: 2050\tloss: 4.5850872993469\ttrain score: 6.9283333333333\tlabel: 71\tprediction: [1]20 [2]5 [3]2 [4]1 [5]88\t\n"
       ]
      },
      {
       "metadata": {},
       "output_type": "pyout",
       "prompt_number": 31,
       "text": [
        "idx: 2055\tloss: 4.582227230072\ttrain score: 6.085\tlabel: 42\tprediction: [1]57 [2]20 [3]2 [4]72 [5]88\t\n"
       ]
      },
      {
       "metadata": {},
       "output_type": "pyout",
       "prompt_number": 31,
       "text": [
        "idx: 2060\tloss: 4.5794596672058\ttrain score: 6.5266666666667\tlabel: 98\tprediction: [1]20 [2]72 [3]2 [4]57 [5]35\t\n"
       ]
      },
      {
       "metadata": {},
       "output_type": "pyout",
       "prompt_number": 31,
       "text": [
        "idx: 2065\tloss: 4.5805320739746\ttrain score: 7.3166666666667\tlabel: 41\tprediction: [1]2 [2]35 [3]1 [4]76 [5]19\t\n"
       ]
      },
      {
       "metadata": {},
       "output_type": "pyout",
       "prompt_number": 31,
       "text": [
        "idx: 2070\tloss: 4.5840034484863\ttrain score: 6.5683333333333\tlabel: 34\tprediction: [1]20 [2]2 [3]57 [4]96 [5]72\t\n"
       ]
      },
      {
       "metadata": {},
       "output_type": "pyout",
       "prompt_number": 31,
       "text": [
        "idx: 2075\tloss: 4.5879240036011\ttrain score: 5.9383333333333\tlabel: 68\tprediction: [1]62 [2]28 [3]30 [4]81 [5]40\t\n"
       ]
      },
      {
       "metadata": {},
       "output_type": "pyout",
       "prompt_number": 31,
       "text": [
        "idx: 2080\tloss: 4.579333782196\ttrain score: 7.7416666666667\tlabel: 76\tprediction: [1]20 [2]2 [3]50 [4]19 [5]35\t\n"
       ]
      },
      {
       "metadata": {},
       "output_type": "pyout",
       "prompt_number": 31,
       "text": [
        "idx: 2085\tloss: 4.5842943191528\ttrain score: 7.26\tlabel: 43\tprediction: [1]62 [2]28 [3]76 [4]30 [5]81\t\n"
       ]
      },
      {
       "metadata": {},
       "output_type": "pyout",
       "prompt_number": 31,
       "text": [
        "idx: 2090\tloss: 4.5796632766724\ttrain score: 7.8966666666667\tlabel: 52\tprediction: [1]20 [2]57 [3]72 [4]2 [5]88\t\n"
       ]
      },
      {
       "metadata": {},
       "output_type": "pyout",
       "prompt_number": 31,
       "text": [
        "idx: 2095\tloss: 4.5831785202026\ttrain score: 6.9\tlabel: 65\tprediction: [1]62 [2]28 [3]76 [4]82 [5]54\t\n"
       ]
      },
      {
       "metadata": {},
       "output_type": "pyout",
       "prompt_number": 31,
       "text": [
        "idx: 2100\tloss: 4.5818281173706\ttrain score: 6.29\tlabel: 60\tprediction: [1]62 [2]28 [3]81 [4]68 [5]54\t\n"
       ]
      },
      {
       "metadata": {},
       "output_type": "pyout",
       "prompt_number": 31,
       "text": [
        "idx: 2105\tloss: 4.5815601348877\ttrain score: 6.615\tlabel: 65\tprediction: [1]20 [2]72 [3]57 [4]2 [5]88\t\n"
       ]
      },
      {
       "metadata": {},
       "output_type": "pyout",
       "prompt_number": 31,
       "text": [
        "idx: 2110\tloss: 4.5825510025024\ttrain score: 6.83\tlabel: 77\tprediction: [1]62 [2]30 [3]86 [4]28 [5]82\t\n"
       ]
      },
      {
       "metadata": {},
       "output_type": "pyout",
       "prompt_number": 31,
       "text": [
        "idx: 2115\tloss: 4.5807909965515\ttrain score: 7.555\tlabel: 18\tprediction: [1]20 [2]72 [3]2 [4]57 [5]88\t\n"
       ]
      },
      {
       "metadata": {},
       "output_type": "pyout",
       "prompt_number": 31,
       "text": [
        "idx: 2120\tloss: 4.5843119621277\ttrain score: 6.925\tlabel: 30\tprediction: [1]62 [2]28 [3]81 [4]76 [5]30\t\n"
       ]
      },
      {
       "metadata": {},
       "output_type": "pyout",
       "prompt_number": 31,
       "text": [
        "idx: 2125\tloss: 4.5854306221008\ttrain score: 5.7966666666667\tlabel: 15\tprediction: [1]20 [2]2 [3]72 [4]57 [5]35\t\n"
       ]
      },
      {
       "metadata": {},
       "output_type": "pyout",
       "prompt_number": 31,
       "text": [
        "idx: 2130\tloss: 4.5832314491272\ttrain score: 6.63\tlabel: 93\tprediction: [1]2 [2]35 [3]72 [4]20 [5]57\t\n"
       ]
      },
      {
       "metadata": {},
       "output_type": "pyout",
       "prompt_number": 31,
       "text": [
        "idx: 2135\tloss: 4.5845508575439\ttrain score: 6.0566666666667\tlabel: 1\tprediction: [1]72 [2]20 [3]2 [4]96 [5]57\t\n"
       ]
      },
      {
       "metadata": {},
       "output_type": "pyout",
       "prompt_number": 31,
       "text": [
        "idx: 2140\tloss: 4.5871858596802\ttrain score: 5.3083333333333\tlabel: 63\tprediction: [1]2 [2]20 [3]5 [4]57 [5]71\t\n"
       ]
      },
      {
       "metadata": {},
       "output_type": "pyout",
       "prompt_number": 31,
       "text": [
        "idx: 2145\tloss: 4.5843677520752\ttrain score: 6.3\tlabel: 34\tprediction: [1]2 [2]1 [3]30 [4]67 [5]76\t\n"
       ]
      },
      {
       "metadata": {},
       "output_type": "pyout",
       "prompt_number": 31,
       "text": [
        "idx: 2150\tloss: 4.5831618309021\ttrain score: 6.3466666666667\tlabel: 45\tprediction: [1]62 [2]28 [3]54 [4]68 [5]81\t\n"
       ]
      },
      {
       "metadata": {},
       "output_type": "pyout",
       "prompt_number": 31,
       "text": [
        "idx: 2155\tloss: 4.5860323905945\ttrain score: 5.445\tlabel: 66\tprediction: [1]20 [2]88 [3]72 [4]57 [5]35\t\n"
       ]
      },
      {
       "metadata": {},
       "output_type": "pyout",
       "prompt_number": 31,
       "text": [
        "idx: 2160\tloss: 4.5826411247253\ttrain score: 6.8816666666667\tlabel: 57\tprediction: [1]57 [2]2 [3]20 [4]72 [5]88\t\n"
       ]
      },
      {
       "metadata": {},
       "output_type": "pyout",
       "prompt_number": 31,
       "text": [
        "idx: 2165\tloss: 4.5841474533081\ttrain score: 6.395\tlabel: 86\tprediction: [1]62 [2]28 [3]81 [4]76 [5]68\t\n"
       ]
      },
      {
       "metadata": {},
       "output_type": "pyout",
       "prompt_number": 31,
       "text": [
        "idx: 2170\tloss: 4.5816488265991\ttrain score: 6.0683333333333\tlabel: 70\tprediction: [1]30 [2]40 [3]76 [4]48 [5]82\t\n"
       ]
      },
      {
       "metadata": {},
       "output_type": "pyout",
       "prompt_number": 31,
       "text": [
        "idx: 2175\tloss: 4.5821552276611\ttrain score: 6.7\tlabel: 59\tprediction: [1]62 [2]28 [3]30 [4]81 [5]82\t\n"
       ]
      },
      {
       "metadata": {},
       "output_type": "pyout",
       "prompt_number": 31,
       "text": [
        "idx: 2180\tloss: 4.5828905105591\ttrain score: 5.725\tlabel: 77\tprediction: [1]28 [2]19 [3]92 [4]76 [5]86\t\n"
       ]
      },
      {
       "metadata": {},
       "output_type": "pyout",
       "prompt_number": 31,
       "text": [
        "idx: 2185\tloss: 4.5839929580688\ttrain score: 5.6083333333333\tlabel: 87\tprediction: [1]62 [2]28 [3]30 [4]54 [5]68\t\n"
       ]
      },
      {
       "metadata": {},
       "output_type": "pyout",
       "prompt_number": 31,
       "text": [
        "idx: 2190\tloss: 4.5848002433777\ttrain score: 6.1783333333333\t"
       ]
      },
      {
       "metadata": {},
       "output_type": "pyout",
       "prompt_number": 31,
       "text": [
        "label: 21\tprediction: [1]62 [2]28 [3]68 [4]86 [5]76\t\n"
       ]
      },
      {
       "metadata": {},
       "output_type": "pyout",
       "prompt_number": 31,
       "text": [
        "idx: 2195\tloss: 4.5837926864624\ttrain score: 6.26\tlabel: 78\tprediction: [1]20 [2]72 [3]2 [4]50 [5]35\t\n"
       ]
      },
      {
       "metadata": {},
       "output_type": "pyout",
       "prompt_number": 31,
       "text": [
        "idx: 2200\tloss: 4.5850872993469\ttrain score: 6.5766666666667\tlabel: 46\tprediction: [1]2 [2]89 [3]72 [4]46 [5]57\t\n"
       ]
      },
      {
       "metadata": {},
       "output_type": "pyout",
       "prompt_number": 31,
       "text": [
        "idx: 2205\tloss: 4.5847182273865\ttrain score: 6.3133333333333\tlabel: 30\tprediction: [1]62 [2]30 [3]28 [4]81 [5]54\t\n"
       ]
      },
      {
       "metadata": {},
       "output_type": "pyout",
       "prompt_number": 31,
       "text": [
        "idx: 2210\tloss: 4.5824542045593\ttrain score: 5.62\tlabel: 48\tprediction: [1]42 [2]19 [3]62 [4]35 [5]2\t\n"
       ]
      },
      {
       "metadata": {},
       "output_type": "pyout",
       "prompt_number": 31,
       "text": [
        "idx: 2215\tloss: 4.5856590270996\ttrain score: 6.705\tlabel: 15\tprediction: [1]20 [2]72 [3]57 [4]2 [5]96\t\n"
       ]
      },
      {
       "metadata": {},
       "output_type": "pyout",
       "prompt_number": 31,
       "text": [
        "idx: 2220\tloss: 4.5838298797607\ttrain score: 6.0633333333333\tlabel: 95\tprediction: [1]72 [2]2 [3]20 [4]57 [5]88\t\n"
       ]
      },
      {
       "metadata": {},
       "output_type": "pyout",
       "prompt_number": 31,
       "text": [
        "idx: 2225\tloss: 4.5839910507202\ttrain score: 6.5916666666667\tlabel: 89\tprediction: [1]2 [2]89 [3]72 [4]46 [5]57\t\n"
       ]
      },
      {
       "metadata": {},
       "output_type": "pyout",
       "prompt_number": 31,
       "text": [
        "idx: 2230\tloss: 4.5821413993835\ttrain score: 6.8066666666667\tlabel: 81\tprediction: [1]27 [2]2 [3]19 [4]72 [5]57\t\n"
       ]
      },
      {
       "metadata": {},
       "output_type": "pyout",
       "prompt_number": 31,
       "text": [
        "idx: 2235\tloss: 4.5869741439819\ttrain score: 5.965\tlabel: 66\tprediction: [1]88 [2]2 [3]72 [4]57 [5]20\t\n"
       ]
      },
      {
       "metadata": {},
       "output_type": "pyout",
       "prompt_number": 31,
       "text": [
        "idx: 2240\tloss: 4.5808773040771\ttrain score: 6.6383333333333\tlabel: 46\tprediction: [1]2 [2]20 [3]72 [4]35 [5]1\t\n"
       ]
      },
      {
       "metadata": {},
       "output_type": "pyout",
       "prompt_number": 31,
       "text": [
        "idx: 2245\tloss: 4.5841364860535\ttrain score: 7.2266666666667\tlabel: 9\tprediction: [1]62 [2]28 [3]76 [4]54 [5]81\t\n"
       ]
      },
      {
       "metadata": {},
       "output_type": "pyout",
       "prompt_number": 31,
       "text": [
        "idx: 2250\tloss: 4.584858417511\ttrain score: 6.0433333333333\tlabel: 23\tprediction: [1]72 [2]35 [3]37 [4]54 [5]27\t\n"
       ]
      },
      {
       "metadata": {},
       "output_type": "pyout",
       "prompt_number": 31,
       "text": [
        "idx: 2255\tloss: 4.5844941139221\ttrain score: 6.6733333333333\tlabel: 31\tprediction: [1]20 [2]72 [3]2 [4]5 [5]88\t\n"
       ]
      },
      {
       "metadata": {},
       "output_type": "pyout",
       "prompt_number": 31,
       "text": [
        "idx: 2260\tloss: 4.5870108604431\ttrain score: 5.76\tlabel: 44\tprediction: [1]62 [2]19 [3]30 [4]28 [5]11\t\n"
       ]
      },
      {
       "metadata": {},
       "output_type": "pyout",
       "prompt_number": 31,
       "text": [
        "idx: 2265\tloss: 4.5830545425415\ttrain score: 6.9533333333333\tlabel: 66\tprediction: [1]88 [2]2 [3]72 [4]20 [5]57\t\n"
       ]
      },
      {
       "metadata": {},
       "output_type": "pyout",
       "prompt_number": 31,
       "text": [
        "idx: 2270\tloss: 4.5897035598755\ttrain score: 5.105\tlabel: 83\tprediction: [1]62 [2]68 [3]60 [4]30 [5]54\t\n"
       ]
      },
      {
       "metadata": {},
       "output_type": "pyout",
       "prompt_number": 31,
       "text": [
        "idx: 2275\tloss: 4.5836224555969\ttrain score: 6.645\tlabel: 11\tprediction: [1]62 [2]28 [3]81 [4]68 [5]30\t\n"
       ]
      },
      {
       "metadata": {},
       "output_type": "pyout",
       "prompt_number": 31,
       "text": [
        "idx: 2280\tloss: 4.5841879844666\ttrain score: 6.5433333333333\tlabel: 19\tprediction: [1]20 [2]72 [3]57 [4]2 [5]88\t\n"
       ]
      },
      {
       "metadata": {},
       "output_type": "pyout",
       "prompt_number": 31,
       "text": [
        "idx: 2285\tloss: 4.5833730697632\ttrain score: 7.1316666666667\tlabel: 86\tprediction: [1]67 [2]42 [3]62 [4]5 [5]32\t\n"
       ]
      },
      {
       "metadata": {},
       "output_type": "pyout",
       "prompt_number": 31,
       "text": [
        "idx: 2290\tloss: 4.5859990119934\ttrain score: 6.5883333333333\tlabel: 24\tprediction: [1]20 [2]72 [3]57 [4]88 [5]2\t\n"
       ]
      },
      {
       "metadata": {},
       "output_type": "pyout",
       "prompt_number": 31,
       "text": [
        "idx: 2295\tloss: 4.5829038619995\ttrain score: 6.255\tlabel: 91\tprediction: [1]19 [2]30 [3]37 [4]2 [5]40\t\n"
       ]
      },
      {
       "metadata": {},
       "output_type": "pyout",
       "prompt_number": 31,
       "text": [
        "idx: 2300\tloss: 4.5855703353882\ttrain score: 6.5716666666667\tlabel: 68\tprediction: [1]62 [2]28 [3]81 [4]76 [5]68\t\n"
       ]
      },
      {
       "metadata": {},
       "output_type": "pyout",
       "prompt_number": 31,
       "text": [
        "idx: 2305\tloss: 4.5804724693298\ttrain score: 6.6283333333333\tlabel: 22\tprediction: [1]2 [2]20 [3]72 [4]57 [5]71\t\n"
       ]
      },
      {
       "metadata": {},
       "output_type": "pyout",
       "prompt_number": 31,
       "text": [
        "idx: 2310\tloss: 4.5785436630249\ttrain score: 7.595\tlabel: 95\tprediction: [1]42 [2]2 [3]35 [4]11 [5]62\t\n"
       ]
      },
      {
       "metadata": {},
       "output_type": "pyout",
       "prompt_number": 31,
       "text": [
        "idx: 2315\tloss: 4.5845918655396\ttrain score: 6.795\tlabel: 95\tprediction: [1]35 [2]2 [3]19 [4]88 [5]32\t\n"
       ]
      },
      {
       "metadata": {},
       "output_type": "pyout",
       "prompt_number": 31,
       "text": [
        "idx: 2320\tloss: 4.5837020874023\t"
       ]
      },
      {
       "metadata": {},
       "output_type": "pyout",
       "prompt_number": 31,
       "text": [
        "train score: 6.3183333333333\tlabel: 83\tprediction: [1]35 [2]2 [3]20 [4]57 [5]96\t\n"
       ]
      },
      {
       "metadata": {},
       "output_type": "pyout",
       "prompt_number": 31,
       "text": [
        "idx: 2325\tloss: 4.5856375694275\ttrain score: 6.6166666666667\tlabel: 88\tprediction: [1]62 [2]28 [3]30 [4]54 [5]82\t\n"
       ]
      },
      {
       "metadata": {},
       "output_type": "pyout",
       "prompt_number": 31,
       "text": [
        "idx: 2330\tloss: 4.5842070579529\ttrain score: 6.4083333333333\tlabel: 78\tprediction: [1]62 [2]28 [3]30 [4]40 [5]76\t\n"
       ]
      },
      {
       "metadata": {},
       "output_type": "pyout",
       "prompt_number": 31,
       "text": [
        "idx: 2335\tloss: 4.5827326774597\ttrain score: 6.7983333333333\tlabel: 1\tprediction: [1]20 [2]50 [3]2 [4]72 [5]57\t\n"
       ]
      },
      {
       "metadata": {},
       "output_type": "pyout",
       "prompt_number": 31,
       "text": [
        "idx: 2340\tloss: 4.5864911079407\ttrain score: 6.02\tlabel: 10\tprediction: [1]35 [2]96 [3]2 [4]76 [5]20\t\n"
       ]
      },
      {
       "metadata": {},
       "output_type": "pyout",
       "prompt_number": 31,
       "text": [
        "idx: 2345\tloss: 4.5843772888184\ttrain score: 6.255\tlabel: 20\tprediction: [1]2 [2]76 [3]35 [4]3 [5]11\t\n"
       ]
      },
      {
       "metadata": {},
       "output_type": "pyout",
       "prompt_number": 31,
       "text": [
        "idx: 2350\tloss: 4.5777277946472\ttrain score: 7.3566666666667\tlabel: 88\tprediction: [1]20 [2]2 [3]57 [4]1 [5]96\t\n"
       ]
      },
      {
       "metadata": {},
       "output_type": "pyout",
       "prompt_number": 31,
       "text": [
        "idx: 2355\tloss: 4.5829768180847\ttrain score: 6.3783333333333\tlabel: 65\tprediction: [1]89 [2]5 [3]76 [4]9 [5]19\t\n"
       ]
      },
      {
       "metadata": {},
       "output_type": "pyout",
       "prompt_number": 31,
       "text": [
        "idx: 2360\tloss: 4.58469581604\ttrain score: 7.2116666666667\tlabel: 58\tprediction: [1]76 [2]62 [3]9 [4]54 [5]86\t\n"
       ]
      },
      {
       "metadata": {},
       "output_type": "pyout",
       "prompt_number": 31,
       "text": [
        "idx: 2365\tloss: 4.5825591087341\ttrain score: 6.1166666666667\tlabel: 95\tprediction: [1]2 [2]1 [3]86 [4]20 [5]89\t\n"
       ]
      },
      {
       "metadata": {},
       "output_type": "pyout",
       "prompt_number": 31,
       "text": [
        "idx: 2370\tloss: 4.5829782485962\ttrain score: 6.1966666666667\tlabel: 69\tprediction: [1]20 [2]72 [3]57 [4]2 [5]35\t\n"
       ]
      },
      {
       "metadata": {},
       "output_type": "pyout",
       "prompt_number": 31,
       "text": [
        "idx: 2375\tloss: 4.5856137275696\ttrain score: 6.52\tlabel: 33\t"
       ]
      },
      {
       "metadata": {},
       "output_type": "pyout",
       "prompt_number": 31,
       "text": [
        "prediction: [1]2 [2]20 [3]72 [4]88 [5]57\t\n"
       ]
      },
      {
       "metadata": {},
       "output_type": "pyout",
       "prompt_number": 31,
       "text": [
        "idx: 2380\tloss: 4.5842580795288\ttrain score: 6.9433333333333\tlabel: 60\tprediction: [1]20 [2]2 [3]35 [4]96 [5]57\t\n"
       ]
      },
      {
       "metadata": {},
       "output_type": "pyout",
       "prompt_number": 31,
       "text": [
        "idx: 2385\tloss: 4.5832266807556\ttrain score: 7.0733333333333\tlabel: 11\tprediction: [1]62 [2]82 [3]28 [4]81 [5]30\t\n"
       ]
      },
      {
       "metadata": {},
       "output_type": "pyout",
       "prompt_number": 31,
       "text": [
        "idx: 2390\tloss: 4.5885972976685\ttrain score: 5.7383333333333\tlabel: 91\tprediction: [1]2 [2]19 [3]5 [4]72 [5]35\t\n"
       ]
      },
      {
       "metadata": {},
       "output_type": "pyout",
       "prompt_number": 31,
       "text": [
        "idx: 2395\tloss: 4.5830969810486\ttrain score: 6.5766666666667\tlabel: 90\tprediction: [1]88 [2]20 [3]67 [4]72 [5]57\t\n"
       ]
      },
      {
       "metadata": {},
       "output_type": "pyout",
       "prompt_number": 31,
       "text": [
        "idx: 2400\tloss: 4.5795602798462\ttrain score: 6.6916666666667\tlabel: 64\tprediction: [1]20 [2]72 [3]2 [4]57 [5]5\t\n"
       ]
      },
      {
       "metadata": {},
       "output_type": "pyout",
       "prompt_number": 31,
       "text": [
        "idx: 2405\tloss: 4.5799179077148\ttrain score: 7.7816666666667\tlabel: 64\tprediction: [1]20 [2]72 [3]2 [4]57 [5]88\t\n"
       ]
      },
      {
       "metadata": {},
       "output_type": "pyout",
       "prompt_number": 31,
       "text": [
        "idx: 2410\tloss: 4.5836410522461\ttrain score: 5.5683333333333\tlabel: 69\tprediction: [1]20 [2]2 [3]88 [4]35 [5]1\t\n"
       ]
      },
      {
       "metadata": {},
       "output_type": "pyout",
       "prompt_number": 31,
       "text": [
        "idx: 2415\tloss: 4.5866317749023\ttrain score: 6.1433333333333\tlabel: 58\tprediction: [1]20 [2]57 [3]50 [4]72 [5]99\t\n"
       ]
      },
      {
       "metadata": {},
       "output_type": "pyout",
       "prompt_number": 31,
       "text": [
        "idx: 2420\tloss: 4.5844783782959\ttrain score: 6.395\tlabel: 15\tprediction: [1]62 [2]27 [3]28 [4]30 [5]67\t\n"
       ]
      },
      {
       "metadata": {},
       "output_type": "pyout",
       "prompt_number": 31,
       "text": [
        "idx: 2425\tloss: 4.5848212242126\ttrain score: 6.2566666666667\tlabel: 93\tprediction: [1]2 [2]82 [3]27 [4]22 [5]62\t\n"
       ]
      },
      {
       "metadata": {},
       "output_type": "pyout",
       "prompt_number": 31,
       "text": [
        "idx: 2430\tloss: 4.5814261436462\ttrain score: 6.5516666666667\tlabel: 37\tprediction: [1]57 [2]20 [3]2 [4]72 [5]88\t\n"
       ]
      },
      {
       "metadata": {},
       "output_type": "pyout",
       "prompt_number": 31,
       "text": [
        "idx: 2435\tloss: 4.5834355354309\ttrain score: 6.6066666666667\tlabel: 1\tprediction: [1]20 [2]72 [3]2 [4]50 [5]57\t\n"
       ]
      },
      {
       "metadata": {},
       "output_type": "pyout",
       "prompt_number": 31,
       "text": [
        "idx: 2440\tloss: 4.5825281143188\ttrain score: 6.6933333333333\tlabel: 68\tprediction: [1]20 [2]72 [3]57 [4]96 [5]2\t\n"
       ]
      },
      {
       "metadata": {},
       "output_type": "pyout",
       "prompt_number": 31,
       "text": [
        "idx: 2445\tloss: 4.5860533714294\ttrain score: 6.56\tlabel: 25\tprediction: [1]2 [2]20 [3]72 [4]35 [5]1\t\n"
       ]
      },
      {
       "metadata": {},
       "output_type": "pyout",
       "prompt_number": 31,
       "text": [
        "idx: 2450\tloss: 4.5838594436646\ttrain score: 6.66\tlabel: 89\tprediction: [1]2 [2]89 [3]72 [4]46 [5]57\t\n"
       ]
      },
      {
       "metadata": {},
       "output_type": "pyout",
       "prompt_number": 31,
       "text": [
        "idx: 2455\tloss: 4.5845503807068\ttrain score: 7.235\tlabel: 95\tprediction: [1]20 [2]72 [3]50 [4]57 [5]2\t\n"
       ]
      },
      {
       "metadata": {},
       "output_type": "pyout",
       "prompt_number": 31,
       "text": [
        "idx: 2460\tloss: 4.583532333374\ttrain score: 6.735\tlabel: 24\tprediction: [1]20 [2]2 [3]72 [4]35 [5]88\t\n"
       ]
      },
      {
       "metadata": {},
       "output_type": "pyout",
       "prompt_number": 31,
       "text": [
        "idx: 2465\tloss: 4.5844712257385\ttrain score: 6.9683333333333\tlabel: 61\tprediction: [1]20 [2]88 [3]57 [4]2 [5]72\t\n"
       ]
      },
      {
       "metadata": {},
       "output_type": "pyout",
       "prompt_number": 31,
       "text": [
        "idx: 2470\tloss: 4.5832304954529\ttrain score: 6.74\tlabel: 13\tprediction: [1]62 [2]82 [3]76 [4]28 [5]40\t\n"
       ]
      },
      {
       "metadata": {},
       "output_type": "pyout",
       "prompt_number": 31,
       "text": [
        "idx: 2475\tloss: 4.5883460044861\ttrain score: 6.3816666666667\tlabel: 53\tprediction: [1]2 [2]35 [3]72 [4]20 [5]89\t\n"
       ]
      },
      {
       "metadata": {},
       "output_type": "pyout",
       "prompt_number": 31,
       "text": [
        "idx: 2480\tloss: 4.5849552154541\ttrain score: 6.66\tlabel: 84\tprediction: [1]62 [2]5 [3]76 [4]30 [5]2\t\n"
       ]
      },
      {
       "metadata": {},
       "output_type": "pyout",
       "prompt_number": 31,
       "text": [
        "idx: 2485\tloss: 4.5860462188721\ttrain score: 6.89\tlabel: 55\tprediction: [1]2 [2]89 [3]72 [4]46 [5]57\t\n"
       ]
      },
      {
       "metadata": {},
       "output_type": "pyout",
       "prompt_number": 31,
       "text": [
        "idx: 2490\tloss: 4.5849385261536\ttrain score: 5.7616666666667\tlabel: 43\tprediction: [1]2 [2]19 [3]76 [4]20 [5]27\t\n"
       ]
      },
      {
       "metadata": {},
       "output_type": "pyout",
       "prompt_number": 31,
       "text": [
        "idx: 2495\tloss: 4.5825033187866\ttrain score: 8.0133333333333\tlabel: 37\tprediction: [1]2 [2]20 [3]72 [4]57 [5]71\t\n"
       ]
      },
      {
       "metadata": {},
       "output_type": "pyout",
       "prompt_number": 31,
       "text": [
        "idx: 2500\tloss: 4.5858502388\ttrain score: 7.1966666666667\tlabel: 37\tprediction: [1]62 [2]28 [3]30 [4]54 [5]68\t\n"
       ]
      },
      {
       "metadata": {},
       "output_type": "pyout",
       "prompt_number": 31,
       "text": [
        "idx: 2505\tloss: 4.5864315032959\ttrain score: 6.6616666666667\tlabel: 34\tprediction: [1]2 [2]19 [3]72 [4]25 [5]35\t\n"
       ]
      },
      {
       "metadata": {},
       "output_type": "pyout",
       "prompt_number": 31,
       "text": [
        "idx: 2510\tloss: 4.5824952125549\ttrain score: 7.3866666666667\tlabel: 68\tprediction: [1]2 [2]20 [3]5 [4]1 [5]96\t\n"
       ]
      },
      {
       "metadata": {},
       "output_type": "pyout",
       "prompt_number": 31,
       "text": [
        "idx: 2515\tloss: 4.5831775665283\ttrain score: 6.4416666666667\tlabel: 11\tprediction: [1]62 [2]28 [3]82 [4]81 [5]30\t\n"
       ]
      },
      {
       "metadata": {},
       "output_type": "pyout",
       "prompt_number": 31,
       "text": [
        "idx: 2520\tloss: 4.5829510688782\ttrain score: 6.0283333333333\tlabel: 24\tprediction: [1]62 [2]28 [3]30 [4]81 [5]82\t\n"
       ]
      },
      {
       "metadata": {},
       "output_type": "pyout",
       "prompt_number": 31,
       "text": [
        "idx: 2525\tloss: 4.5852847099304\ttrain score: 5.4283333333333\tlabel: 18\tprediction: [1]57 [2]20 [3]2 [4]72 [5]88\t\n"
       ]
      },
      {
       "metadata": {},
       "output_type": "pyout",
       "prompt_number": 31,
       "text": [
        "idx: 2530\tloss: 4.583122253418\ttrain score: 7.5566666666667\tlabel: 57\tprediction: [1]57 [2]20 [3]2 [4]72 [5]88\t\n"
       ]
      },
      {
       "metadata": {},
       "output_type": "pyout",
       "prompt_number": 31,
       "text": [
        "idx: 2535\tloss: 4.5844774246216\ttrain score: 6.9866666666667\tlabel: 48\tprediction: [1]20 [2]72 [3]2 [4]57 [5]88\t\n"
       ]
      },
      {
       "metadata": {},
       "output_type": "pyout",
       "prompt_number": 31,
       "text": [
        "idx: 2540\tloss: 4.5786952972412\ttrain score: 7.7433333333333\tlabel: 57\tprediction: [1]57 [2]20 [3]2 [4]72 [5]88\t\n"
       ]
      },
      {
       "metadata": {},
       "output_type": "pyout",
       "prompt_number": 31,
       "text": [
        "idx: 2545\tloss: 4.5860247612\ttrain score: 5.3666666666667\tlabel: 27\tprediction: [1]20 [2]72 [3]2 [4]50 [5]57\t\n"
       ]
      },
      {
       "metadata": {},
       "output_type": "pyout",
       "prompt_number": 31,
       "text": [
        "idx: 2550\tloss: 4.5830430984497\ttrain score: 6.4333333333333\tlabel: 29\tprediction: [1]2 [2]20 [3]96 [4]88 [5]57\t\n"
       ]
      },
      {
       "metadata": {},
       "output_type": "pyout",
       "prompt_number": 31,
       "text": [
        "idx: 2555\tloss: 4.5852656364441\ttrain score: 5.4233333333333\tlabel: 97\tprediction: [1]35 [2]32 [3]2 [4]71 [5]40\t\n"
       ]
      },
      {
       "metadata": {},
       "output_type": "pyout",
       "prompt_number": 31,
       "text": [
        "idx: 2560\tloss: 4.5821766853333\ttrain score: 7.6483333333333\tlabel: 52\tprediction: [1]19 [2]35 [3]32 [4]5 [5]11\t\n"
       ]
      },
      {
       "metadata": {},
       "output_type": "pyout",
       "prompt_number": 31,
       "text": [
        "idx: 2565\tloss: 4.5861248970032\ttrain score: 6.51\tlabel: 59\tprediction: [1]20 [2]2 [3]57 [4]72 [5]88\t\n"
       ]
      },
      {
       "metadata": {},
       "output_type": "pyout",
       "prompt_number": 31,
       "text": [
        "idx: 2570\tloss: 4.5858907699585\ttrain score: 6.415\tlabel: 36\tprediction: [1]67 [2]62 [3]27 [4]18 [5]9\t\n"
       ]
      },
      {
       "metadata": {},
       "output_type": "pyout",
       "prompt_number": 31,
       "text": [
        "idx: 2575\tloss: 4.5858073234558\ttrain score: 5.8066666666667\tlabel: 92\tprediction: [1]20 [2]88 [3]2 [4]42 [5]71\t\n"
       ]
      },
      {
       "metadata": {},
       "output_type": "pyout",
       "prompt_number": 31,
       "text": [
        "idx: 2580\tloss: 4.5839257240295\ttrain score: 7.1083333333333\tlabel: 43\tprediction: [1]62 [2]28 [3]68 [4]76 [5]82\t\n"
       ]
      },
      {
       "metadata": {},
       "output_type": "pyout",
       "prompt_number": 31,
       "text": [
        "idx: 2585\tloss: 4.5843091011047\ttrain score: 7.095\tlabel: 78\tprediction: [1]62 [2]49 [3]81 [4]28 [5]55\t\n"
       ]
      },
      {
       "metadata": {},
       "output_type": "pyout",
       "prompt_number": 31,
       "text": [
        "idx: 2590\tloss: 4.5827035903931\ttrain score: 6.2583333333333\tlabel: 90\tprediction: [1]20 [2]2 [3]88 [4]57 [5]72\t\n"
       ]
      },
      {
       "metadata": {},
       "output_type": "pyout",
       "prompt_number": 31,
       "text": [
        "idx: 2595\tloss: 4.5814461708069\ttrain score: 7.5266666666667\tlabel: 97\tprediction: [1]76 [2]35 [3]30 [4]19 [5]55\t\n"
       ]
      },
      {
       "metadata": {},
       "output_type": "pyout",
       "prompt_number": 31,
       "text": [
        "idx: 2600\tloss: 4.5807466506958\ttrain score: 7.1816666666667\tlabel: 98\tprediction: [1]62 [2]28 [3]68 [4]86 [5]54\t\n"
       ]
      },
      {
       "metadata": {},
       "output_type": "pyout",
       "prompt_number": 31,
       "text": [
        "idx: 2605\tloss: 4.5837659835815\ttrain score: 6.95\tlabel: 30\tprediction: [1]2 [2]57 [3]89 [4]20 [5]96\t\n"
       ]
      },
      {
       "metadata": {},
       "output_type": "pyout",
       "prompt_number": 31,
       "text": [
        "idx: 2610\tloss: 4.5843033790588\ttrain score: 5.855\tlabel: 42\tprediction: [1]62 [2]76 [3]54 [4]28 [5]68\t\n"
       ]
      },
      {
       "metadata": {},
       "output_type": "pyout",
       "prompt_number": 31,
       "text": [
        "idx: 2615\tloss: 4.5857334136963\ttrain score: 6.1433333333333\tlabel: 52\tprediction: [1]62 [2]28 [3]81 [4]30 [5]86\t"
       ]
      },
      {
       "metadata": {},
       "output_type": "pyout",
       "prompt_number": 31,
       "text": [
        "\n"
       ]
      },
      {
       "metadata": {},
       "output_type": "pyout",
       "prompt_number": 31,
       "text": [
        "idx: 2620\tloss: 4.5817728042603\ttrain score: 6.5433333333333\tlabel: 32\tprediction: [1]62 [2]2 [3]42 [4]11 [5]5\t\n"
       ]
      },
      {
       "metadata": {},
       "output_type": "pyout",
       "prompt_number": 31,
       "text": [
        "idx: 2625\tloss: 4.584123134613\ttrain score: 7.2383333333333\tlabel: 96\tprediction: [1]20 [2]2 [3]72 [4]96 [5]5\t\n"
       ]
      },
      {
       "metadata": {},
       "output_type": "pyout",
       "prompt_number": 31,
       "text": [
        "idx: 2630\tloss: 4.5788750648499\ttrain score: 8.3133333333333\tlabel: 25\tprediction: [1]2 [2]89 [3]72 [4]46 [5]20\t\n"
       ]
      },
      {
       "metadata": {},
       "output_type": "pyout",
       "prompt_number": 31,
       "text": [
        "idx: 2635\tloss: 4.5845341682434\ttrain score: 5.5083333333333\tlabel: 74\tprediction: [1]27 [2]2 [3]91 [4]19 [5]99\t\n"
       ]
      },
      {
       "metadata": {},
       "output_type": "pyout",
       "prompt_number": 31,
       "text": [
        "idx: 2640\tloss: 4.5847616195679\ttrain score: 6.47\tlabel: 53\tprediction: [1]88 [2]67 [3]20 [4]57 [5]2\t\n"
       ]
      },
      {
       "metadata": {},
       "output_type": "pyout",
       "prompt_number": 31,
       "text": [
        "idx: 2645\tloss: 4.5852069854736\ttrain score: 6.02\tlabel: 90\tprediction: [1]2 [2]20 [3]1 [4]72 [5]71\t\n"
       ]
      },
      {
       "metadata": {},
       "output_type": "pyout",
       "prompt_number": 31,
       "text": [
        "idx: 2650\tloss: 4.5874481201172\ttrain score: 5.4266666666667\tlabel: 97\tprediction: [1]20 [2]35 [3]96 [4]2 [5]57\t\n"
       ]
      },
      {
       "metadata": {},
       "output_type": "pyout",
       "prompt_number": 31,
       "text": [
        "idx: 2655\tloss: 4.5814123153687\ttrain score: 7.5433333333333\tlabel: 88\tprediction: [1]20 [2]88 [3]72 [4]57 [5]35\t\n"
       ]
      },
      {
       "metadata": {},
       "output_type": "pyout",
       "prompt_number": 31,
       "text": [
        "idx: 2660\tloss: 4.5830054283142\ttrain score: 7.9883333333333\tlabel: 37\tprediction: [1]20 [2]72 [3]2 [4]35 [5]1\t\n"
       ]
      },
      {
       "metadata": {},
       "output_type": "pyout",
       "prompt_number": 31,
       "text": [
        "idx: 2665\tloss: 4.5805606842041\ttrain score: 7.58\tlabel: 87\tprediction: [1]62 [2]76 [3]86 [4]9 [5]93\t\n"
       ]
      },
      {
       "metadata": {},
       "output_type": "pyout",
       "prompt_number": 31,
       "text": [
        "idx: 2670\tloss: 4.586971282959\ttrain score: 5.7333333333333\tlabel: 62\tprediction: [1]96 [2]2 [3]35 [4]20 [5]88\t\n"
       ]
      },
      {
       "metadata": {},
       "output_type": "pyout",
       "prompt_number": 31,
       "text": [
        "idx: 2675\tloss: 4.5868654251099\ttrain score: 6.025\tlabel: 85\tprediction: [1]20 [2]72 [3]5 [4]57 [5]2\t\n"
       ]
      },
      {
       "metadata": {},
       "output_type": "pyout",
       "prompt_number": 31,
       "text": [
        "idx: 2680\tloss: 4.5886464118958\ttrain score: 5.1883333333333\tlabel: 2\tprediction: [1]2 [2]89 [3]72 [4]46 [5]25\t\n"
       ]
      },
      {
       "metadata": {},
       "output_type": "pyout",
       "prompt_number": 31,
       "text": [
        "idx: 2685\tloss: 4.5913782119751\ttrain score: 4.9216666666667\tlabel: 39\tprediction: [1]20 [2]72 [3]57 [4]2 [5]96\t\n"
       ]
      },
      {
       "metadata": {},
       "output_type": "pyout",
       "prompt_number": 31,
       "text": [
        "idx: 2690\tloss: 4.5834813117981\ttrain score: 7.115\tlabel: 45\tprediction: [1]62 [2]76 [3]82 [4]32 [5]68\t\n"
       ]
      },
      {
       "metadata": {},
       "output_type": "pyout",
       "prompt_number": 31,
       "text": [
        "idx: 2695\tloss: 4.5860514640808\ttrain score: 6.125\tlabel: 5\tprediction: [1]35 [2]20 [3]2 [4]72 [5]57\t\n"
       ]
      },
      {
       "metadata": {},
       "output_type": "pyout",
       "prompt_number": 31,
       "text": [
        "idx: 2700\tloss: 4.5839548110962\ttrain score: 7.26\tlabel: 13\tprediction: [1]35 [2]76 [3]2 [4]1 [5]62\t\n"
       ]
      },
      {
       "metadata": {},
       "output_type": "pyout",
       "prompt_number": 31,
       "text": [
        "idx: 2705\tloss: 4.5835328102112\ttrain score: 7.08\tlabel: 99\tprediction: [1]62 [2]81 [3]28 [4]30 [5]82\t\n"
       ]
      },
      {
       "metadata": {},
       "output_type": "pyout",
       "prompt_number": 31,
       "text": [
        "idx: 2710\tloss: 4.5865550041199\ttrain score: 6.6283333333333\tlabel: 31\tprediction: [1]62 [2]28 [3]68 [4]76 [5]30\t\n"
       ]
      },
      {
       "metadata": {},
       "output_type": "pyout",
       "prompt_number": 31,
       "text": [
        "idx: 2715\tloss: 4.5812373161316\ttrain score: 6.6766666666667\tlabel: 39\tprediction: [1]67 [2]27 [3]5 [4]2 [5]19\t\n"
       ]
      },
      {
       "metadata": {},
       "output_type": "pyout",
       "prompt_number": 31,
       "text": [
        "idx: 2720\tloss: 4.5826191902161\ttrain score: 6.445\tlabel: 9\tprediction: [1]62 [2]28 [3]76 [4]86 [5]54\t\n"
       ]
      },
      {
       "metadata": {},
       "output_type": "pyout",
       "prompt_number": 31,
       "text": [
        "idx: 2725\tloss: 4.5874128341675\ttrain score: 7.0633333333333\tlabel: 8\tprediction: [1]62 [2]28 [3]81 [4]30 [5]54\t\n"
       ]
      },
      {
       "metadata": {},
       "output_type": "pyout",
       "prompt_number": 31,
       "text": [
        "idx: 2730\tloss: 4.5791573524475\ttrain score: 7.0033333333333\tlabel: 2\tprediction: [1]2 [2]89 [3]72 [4]46 [5]57\t\n"
       ]
      },
      {
       "metadata": {},
       "output_type": "pyout",
       "prompt_number": 31,
       "text": [
        "idx: 2735\tloss: 4.5860934257507\ttrain score: 5.9916666666667\tlabel: 12\tprediction: [1]20 [2]2 [3]72 [4]1 [5]50\t\n"
       ]
      },
      {
       "metadata": {},
       "output_type": "pyout",
       "prompt_number": 31,
       "text": [
        "idx: 2740\tloss: 4.5852522850037\ttrain score: 6.4716666666667\tlabel: 73\tprediction: [1]57 [2]20 [3]2 [4]72 [5]88\t\n"
       ]
      },
      {
       "metadata": {},
       "output_type": "pyout",
       "prompt_number": 31,
       "text": [
        "idx: 2745\tloss: 4.5844130516052\ttrain score: 5.6183333333333\tlabel: 77\tprediction: [1]2 [2]19 [3]72 [4]35 [5]76\t\n"
       ]
      },
      {
       "metadata": {},
       "output_type": "pyout",
       "prompt_number": 31,
       "text": [
        "idx: 2750\tloss: 4.5855803489685\ttrain score: 6.1916666666667\tlabel: 21\tprediction: [1]62 [2]28 [3]81 [4]68 [5]54\t\n"
       ]
      },
      {
       "metadata": {},
       "output_type": "pyout",
       "prompt_number": 31,
       "text": [
        "idx: 2755\tloss: 4.5819892883301\ttrain score: 8.295\tlabel: 60\tprediction: [1]20 [2]2 [3]72 [4]57 [5]19\t\n"
       ]
      },
      {
       "metadata": {},
       "output_type": "pyout",
       "prompt_number": 31,
       "text": [
        "idx: 2760\tloss: 4.5873532295227\ttrain score: 6.8683333333333\tlabel: 40\tprediction: [1]19 [2]35 [3]62 [4]2 [5]11\t\n"
       ]
      },
      {
       "metadata": {},
       "output_type": "pyout",
       "prompt_number": 31,
       "text": [
        "idx: 2765\tloss: 4.5824880599976\ttrain score: 6.6716666666667\tlabel: 66\tprediction: [1]88 [2]72 [3]2 [4]57 [5]20\t\n"
       ]
      },
      {
       "metadata": {},
       "output_type": "pyout",
       "prompt_number": 31,
       "text": [
        "idx: 2770\tloss: 4.5873970985413\ttrain score: 6.2283333333333\tlabel: 23\tprediction: [1]20 [2]72 [3]57 [4]5 [5]2\t\n"
       ]
      },
      {
       "metadata": {},
       "output_type": "pyout",
       "prompt_number": 31,
       "text": [
        "idx: 2775\tloss: 4.5836653709412\ttrain score: 6.4683333333333\tlabel: 59\tprediction: [1]20 [2]2 [3]72 [4]57 [5]88\t\n"
       ]
      },
      {
       "metadata": {},
       "output_type": "pyout",
       "prompt_number": 31,
       "text": [
        "idx: 2780\tloss: 4.5876145362854\ttrain score: 6.105\tlabel: 76\tprediction: [1]62 [2]28 [3]30 [4]54 [5]68\t\n"
       ]
      },
      {
       "metadata": {},
       "output_type": "pyout",
       "prompt_number": 31,
       "text": [
        "idx: 2785\tloss: 4.585844039917\ttrain score: 6.7583333333333\tlabel: 100\tprediction: [1]20 [2]72 [3]57 [4]76 [5]50\t\n"
       ]
      },
      {
       "metadata": {},
       "output_type": "pyout",
       "prompt_number": 31,
       "text": [
        "idx: 2790\tloss: 4.5856761932373\ttrain score: 5.9566666666667\tlabel: 91\tprediction: [1]20 [2]72 [3]2 [4]57 [5]99\t\n"
       ]
      },
      {
       "metadata": {},
       "output_type": "pyout",
       "prompt_number": 31,
       "text": [
        "idx: 2795\tloss: 4.5874547958374\ttrain score: 6.8183333333333\tlabel: 2\tprediction: [1]2 [2]72 [3]20 [4]35 [5]1\t\n"
       ]
      },
      {
       "metadata": {},
       "output_type": "pyout",
       "prompt_number": 31,
       "text": [
        "idx: 2800\tloss: 4.5833902359009\ttrain score: 6.7566666666667\tlabel: 61\tprediction: [1]62 [2]28 [3]68 [4]54 [5]76\t\n"
       ]
      },
      {
       "metadata": {},
       "output_type": "pyout",
       "prompt_number": 31,
       "text": [
        "idx: 2805\tloss: 4.5827894210815\ttrain score: 6.1733333333333\tlabel: 96\tprediction: [1]62 [2]28 [3]30 [4]54 [5]81\t\n"
       ]
      },
      {
       "metadata": {},
       "output_type": "pyout",
       "prompt_number": 31,
       "text": [
        "idx: 2810\tloss: 4.5824184417725\ttrain score: 5.96\tlabel: 95\tprediction: [1]62 [2]28 [3]30 [4]81 [5]76\t\n"
       ]
      },
      {
       "metadata": {},
       "output_type": "pyout",
       "prompt_number": 31,
       "text": [
        "idx: 2815\tloss: 4.5852656364441\ttrain score: 6.4583333333333\tlabel: 20\tprediction: [1]2 [2]72 [3]20 [4]57 [5]1\t\n"
       ]
      },
      {
       "metadata": {},
       "output_type": "pyout",
       "prompt_number": 31,
       "text": [
        "idx: 2820\tloss: 4.58416223526\ttrain score: 5.985\tlabel: 70\tprediction: [1]20 [2]35 [3]72 [4]57 [5]2\t\n"
       ]
      },
      {
       "metadata": {},
       "output_type": "pyout",
       "prompt_number": 31,
       "text": [
        "idx: 2825\tloss: 4.5880441665649\ttrain score: 5.8733333333333\tlabel: 56\tprediction: [1]20 [2]72 [3]57 [4]2 [5]88\t\n"
       ]
      },
      {
       "metadata": {},
       "output_type": "pyout",
       "prompt_number": 31,
       "text": [
        "idx: 2830\tloss: 4.5866475105286\ttrain score: 5.3533333333333\tlabel: 72\tprediction: [1]88 [2]20 [3]67 [4]57 [5]72\t\n"
       ]
      },
      {
       "metadata": {},
       "output_type": "pyout",
       "prompt_number": 31,
       "text": [
        "idx: 2835\tloss: 4.583044052124\ttrain score: 7.7016666666667\tlabel: 59\tprediction: [1]57 [2]20 [3]35 [4]2 [5]88\t\n"
       ]
      },
      {
       "metadata": {},
       "output_type": "pyout",
       "prompt_number": 31,
       "text": [
        "idx: 2840\tloss: 4.5876069068909\ttrain score: 6.1666666666667\tlabel: 99\tprediction: [1]20 [2]72 [3]57 [4]2 [5]71\t\n"
       ]
      },
      {
       "metadata": {},
       "output_type": "pyout",
       "prompt_number": 31,
       "text": [
        "idx: 2845\tloss: 4.5872230529785\ttrain score: 6.51\tlabel: 74\tprediction: [1]2 [2]82 [3]18 [4]22 [5]55\t\n"
       ]
      },
      {
       "metadata": {},
       "output_type": "pyout",
       "prompt_number": 31,
       "text": [
        "idx: 2850\tloss: 4.5801811218262\ttrain score: 6.95\tlabel: 62\tprediction: [1]20 [2]57 [3]76 [4]96 [5]50\t\n"
       ]
      },
      {
       "metadata": {},
       "output_type": "pyout",
       "prompt_number": 31,
       "text": [
        "idx: 2855\tloss: 4.5868163108826\ttrain score: 6.845\tlabel: 86\tprediction: [1]2 [2]20 [3]72 [4]57 [5]71\t\n"
       ]
      },
      {
       "metadata": {},
       "output_type": "pyout",
       "prompt_number": 31,
       "text": [
        "idx: 2860\tloss: 4.5862622261047\ttrain score: 6.3733333333333\tlabel: 43\tprediction: [1]2 [2]20 [3]72 [4]57 [5]19\t\n"
       ]
      },
      {
       "metadata": {},
       "output_type": "pyout",
       "prompt_number": 31,
       "text": [
        "idx: 2865\tloss: 4.5876598358154\ttrain score: 6.575\tlabel: 36\tprediction: [1]2 [2]20 [3]72 [4]57 [5]46\t\n"
       ]
      },
      {
       "metadata": {},
       "output_type": "pyout",
       "prompt_number": 31,
       "text": [
        "idx: 2870\tloss: 4.5845727920532\ttrain score: 6.78\tlabel: 94\tprediction: [1]2 [2]72 [3]20 [4]1 [5]57\t\n"
       ]
      },
      {
       "metadata": {},
       "output_type": "pyout",
       "prompt_number": 31,
       "text": [
        "idx: 2875\tloss: 4.5863180160522\ttrain score: 6.2733333333333\tlabel: 50\tprediction: [1]62 [2]37 [3]49 [4]2 [5]5\t\n"
       ]
      },
      {
       "metadata": {},
       "output_type": "pyout",
       "prompt_number": 31,
       "text": [
        "idx: 2880\tloss: 4.5831484794617\ttrain score: 6.815\tlabel: 17\tprediction: [1]2 [2]20 [3]1 [4]35 [5]88\t\n"
       ]
      },
      {
       "metadata": {},
       "output_type": "pyout",
       "prompt_number": 31,
       "text": [
        "idx: 2885\tloss: 4.5873227119446\ttrain score: 4.7533333333333\tlabel: 38\tprediction: [1]20 [2]2 [3]50 [4]72 [5]35\t\n"
       ]
      },
      {
       "metadata": {},
       "output_type": "pyout",
       "prompt_number": 31,
       "text": [
        "idx: 2890\tloss: 4.5808229446411\ttrain score: 6.3416666666667\tlabel: 34\tprediction: [1]20 [2]72 [3]35 [4]96 [5]50\t\n"
       ]
      },
      {
       "metadata": {},
       "output_type": "pyout",
       "prompt_number": 31,
       "text": [
        "idx: 2895\tloss: 4.5851664543152\ttrain score: 5.8883333333333\tlabel: 79\tprediction: [1]62 [2]28 [3]30 [4]76 [5]82\t\n"
       ]
      },
      {
       "metadata": {},
       "output_type": "pyout",
       "prompt_number": 31,
       "text": [
        "idx: 2900\tloss: 4.5798530578613\ttrain score: 7.655\tlabel: 86\tprediction: [1]62 [2]28 [3]68 [4]76 [5]86\t\n"
       ]
      },
      {
       "metadata": {},
       "output_type": "pyout",
       "prompt_number": 31,
       "text": [
        "idx: 2905\tloss: 4.5838398933411\ttrain score: 5.6316666666667\tlabel: 28\tprediction: [1]62 [2]28 [3]81 [4]30 [5]54\t\n"
       ]
      },
      {
       "metadata": {},
       "output_type": "pyout",
       "prompt_number": 31,
       "text": [
        "idx: 2910\tloss: 4.581383228302\t"
       ]
      },
      {
       "metadata": {},
       "output_type": "pyout",
       "prompt_number": 31,
       "text": [
        "train score: 6.9416666666667\tlabel: 65\tprediction: [1]20 [2]72 [3]57 [4]2 [5]88\t\n"
       ]
      },
      {
       "metadata": {},
       "output_type": "pyout",
       "prompt_number": 31,
       "text": [
        "idx: 2915\tloss: 4.5780482292175\ttrain score: 8.5133333333333\tlabel: 7\tprediction: [1]2 [2]32 [3]76 [4]19 [5]35\t\n"
       ]
      },
      {
       "metadata": {},
       "output_type": "pyout",
       "prompt_number": 31,
       "text": [
        "idx: 2920\tloss: 4.5851669311523\ttrain score: 5.2516666666667\tlabel: 60\tprediction: [1]2 [2]72 [3]57 [4]20 [5]19\t\n"
       ]
      },
      {
       "metadata": {},
       "output_type": "pyout",
       "prompt_number": 31,
       "text": [
        "idx: 2925\tloss: 4.5784454345703\ttrain score: 7.925\tlabel: 21\tprediction: [1]76 [2]35 [3]42 [4]54 [5]37\t\n"
       ]
      },
      {
       "metadata": {},
       "output_type": "pyout",
       "prompt_number": 31,
       "text": [
        "idx: 2930\tloss: 4.5816440582275\ttrain score: 7.2883333333333\tlabel: 27\tprediction: [1]62 [2]27 [3]55 [4]35 [5]76\t\n"
       ]
      },
      {
       "metadata": {},
       "output_type": "pyout",
       "prompt_number": 31,
       "text": [
        "idx: 2935\tloss: 4.5844416618347\ttrain score: 6.595\tlabel: 22\tprediction: [1]19 [2]2 [3]35 [4]3 [5]30\t\n"
       ]
      },
      {
       "metadata": {},
       "output_type": "pyout",
       "prompt_number": 31,
       "text": [
        "idx: 2940\tloss: 4.5849761962891\ttrain score: 6.795\tlabel: 95\tprediction: [1]2 [2]86 [3]46 [4]5 [5]1\t\n"
       ]
      },
      {
       "metadata": {},
       "output_type": "pyout",
       "prompt_number": 31,
       "text": [
        "idx: 2945\tloss: 4.5873532295227\ttrain score: 5.2666666666667\tlabel: 85\tprediction: [1]27 [2]2 [3]99 [4]91 [5]60\t\n"
       ]
      },
      {
       "metadata": {},
       "output_type": "pyout",
       "prompt_number": 31,
       "text": [
        "idx: 2950\tloss: 4.5853343009949\ttrain score: 6.075\tlabel: 5\tprediction: [1]20 [2]72 [3]2 [4]57 [5]50\t\n"
       ]
      },
      {
       "metadata": {},
       "output_type": "pyout",
       "prompt_number": 31,
       "text": [
        "idx: 2955\tloss: 4.5868816375732\ttrain score: 6.275\tlabel: 17\tprediction: [1]62 [2]81 [3]76 [4]28 [5]19\t\n"
       ]
      },
      {
       "metadata": {},
       "output_type": "pyout",
       "prompt_number": 31,
       "text": [
        "idx: 2960\tloss: 4.5874300003052\ttrain score: 6.5116666666667\tlabel: 40\tprediction: [1]2 [2]35 [3]19 [4]88 [5]5\t\n"
       ]
      },
      {
       "metadata": {},
       "output_type": "pyout",
       "prompt_number": 31,
       "text": [
        "idx: 2965\tloss: 4.5846371650696\ttrain score: 6.195\tlabel: 98\tprediction: [1]62 [2]28 [3]30 [4]76 [5]81\t\n"
       ]
      },
      {
       "metadata": {},
       "output_type": "pyout",
       "prompt_number": 31,
       "text": [
        "idx: 2970\tloss: 4.5844120979309\ttrain score: 5.8333333333333\tlabel: 11\tprediction: [1]62 [2]76 [3]9 [4]30 [5]81\t\n"
       ]
      },
      {
       "metadata": {},
       "output_type": "pyout",
       "prompt_number": 31,
       "text": [
        "idx: 2975\tloss: 4.5859589576721\ttrain score: 6.2516666666667\tlabel: 43\tprediction: [1]20 [2]2 [3]72 [4]85 [5]57\t\n"
       ]
      },
      {
       "metadata": {},
       "output_type": "pyout",
       "prompt_number": 31,
       "text": [
        "idx: 2980\tloss: 4.5829191207886\ttrain score: 7.4766666666667\tlabel: 83\tprediction: [1]62 [2]28 [3]30 [4]76 [5]40\t\n"
       ]
      },
      {
       "metadata": {},
       "output_type": "pyout",
       "prompt_number": 31,
       "text": [
        "idx: 2985\tloss: 4.583164691925\ttrain score: 5.96\tlabel: 21\tprediction: [1]62 [2]76 [3]30 [4]40 [5]54\t\n"
       ]
      },
      {
       "metadata": {},
       "output_type": "pyout",
       "prompt_number": 31,
       "text": [
        "idx: 2990\tloss: 4.5807943344116\ttrain score: 7.3566666666667\tlabel: 26\tprediction: [1]20 [2]57 [3]72 [4]2 [5]35\t\n"
       ]
      },
      {
       "metadata": {},
       "output_type": "pyout",
       "prompt_number": 31,
       "text": [
        "idx: 2995\tloss: 4.5830073356628\ttrain score: 6.225\tlabel: 21\tprediction: [1]20 [2]2 [3]5 [4]72 [5]96\t\n"
       ]
      },
      {
       "metadata": {},
       "output_type": "pyout",
       "prompt_number": 31,
       "text": [
        "current LR: 0.0025\t\n"
       ]
      },
      {
       "metadata": {},
       "output_type": "pyout",
       "prompt_number": 31,
       "text": [
        "idx: 3000\tloss: 4.5800886154175\ttrain score: 7.73\tlabel: 83\tprediction: [1]19 [2]32 [3]11 [4]62 [5]2\t\n"
       ]
      }
     ]
    }
   ],
   "metadata": {}
  }
 ]
}